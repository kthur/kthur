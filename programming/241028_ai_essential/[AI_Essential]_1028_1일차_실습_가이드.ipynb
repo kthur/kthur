{
  "cells": [
    {
      "cell_type": "markdown",
      "metadata": {
        "id": "view-in-github",
        "colab_type": "text"
      },
      "source": [
        "<a href=\"https://colab.research.google.com/github/kthur/kthur/blob/master/%5BAI_Essential%5D_1028_1%EC%9D%BC%EC%B0%A8_%EC%8B%A4%EC%8A%B5_%EA%B0%80%EC%9D%B4%EB%93%9C.ipynb\" target=\"_parent\"><img src=\"https://colab.research.google.com/assets/colab-badge.svg\" alt=\"Open In Colab\"/></a>"
      ]
    },
    {
      "cell_type": "markdown",
      "metadata": {
        "id": "Jwm46RCBBS63"
      },
      "source": [
        "# Python"
      ]
    },
    {
      "cell_type": "markdown",
      "metadata": {
        "id": "nT46jMl5BS66"
      },
      "source": [
        "## 01-001 Python 코드\n",
        "- 이 실습에서는 Python의 코드 구조에서 중요한 요소인 들여쓰기를 소개합니다. Python은 중괄호 대신 들여쓰기를 사용하여 코드 블록을 구분합니다. 들여쓰기는 가독성을 높이고, 코드의 논리적 흐름을 명확하게 나타내는 역할을 합니다. 함수 정의와 for문, if문을 작성하는 과정에서 들여쓰기를 어떻게 사용하는지 확인할 수 있습니다."
      ]
    },
    {
      "cell_type": "code",
      "execution_count": null,
      "metadata": {
        "colab": {
          "base_uri": "https://localhost:8080/"
        },
        "id": "2YiruOTCBS67",
        "outputId": "0939439b-bdee-4fb5-8087-9532e69156b7"
      },
      "outputs": [
        {
          "name": "stdout",
          "output_type": "stream",
          "text": [
            "1 is odd\n",
            "2 is even\n",
            "3 is odd\n",
            "4 is even\n",
            "5 is odd\n"
          ]
        }
      ],
      "source": [
        "# Python: 들여쓰기로 코드 블록 설정\n",
        "def check_numbers(numbers):\n",
        "    for number in numbers:\n",
        "        if number % 2 == 0:\n",
        "            print(f'{number} is even')\n",
        "        else:\n",
        "            print(f'{number} is odd')\n",
        "\n",
        "# 함수 호출\n",
        "numbers = [1, 2, 3, 4, 5]\n",
        "check_numbers(numbers)"
      ]
    },
    {
      "cell_type": "markdown",
      "metadata": {
        "id": "-3LLnZDzBS69"
      },
      "source": [
        "- 파이썬의 들여쓰기 규칙을 학습하고, 이를 이용해 짝수와 홀수를 구분하는 간단한 함수를 구현하여 코드 블록을 정의하는 방법을 이해합니다."
      ]
    },
    {
      "cell_type": "markdown",
      "metadata": {
        "id": "f1mVdeh5BS69"
      },
      "source": [
        "## 01-002 Python: for문을 이용한 시퀀스 순회 구조\n",
        "- 이 실습에서는 Python에서 `for` 루프가 시퀀스의 각 요소를 순차적으로 변수에 대입하고, 그 변수로 지정된 코드 블록을 반복 실행하는 기본 구조를 설명합니다. 시퀀스는 리스트, 튜플, 문자열과 같은 반복 가능한 객체를 의미하며, 이 구조는 데이터 처리 및 반복 작업에서 자주 사용됩니다."
      ]
    },
    {
      "cell_type": "code",
      "execution_count": null,
      "metadata": {
        "id": "58CVsoMWBS6-"
      },
      "outputs": [],
      "source": [
        "# for문을 이용한 시퀀스 순회 구조\n",
        "# 시퀀스의 각 요소가 변수에 순차적으로 대입되어 실행 코드가 반복 수행됨\n",
        "for 변수 in 시퀀스:\n",
        "    실행할 코드"
      ]
    },
    {
      "cell_type": "markdown",
      "metadata": {
        "id": "o1DRVWKHBS6-"
      },
      "source": [
        "- `for 변수 in 시퀀스:` 구조를 통해 시퀀스의 각 요소가 변수에 하나씩 대입되어 실행 코드가 반복되는 Python의 기본적인 반복문 개념을 학습합니다."
      ]
    },
    {
      "cell_type": "markdown",
      "metadata": {
        "id": "tR_ZV76mBS6_"
      },
      "source": [
        "## 01-002 Python: for문을 이용한 시퀀스 순회 구조\n",
        "- 이 실습에서는 Python의 `for`문을 사용하여 리스트의 각 요소를 순차적으로 변수에 대입하고 그 변수를 이용해 작업을 수행하는 기본적인 반복 구조를 학습합니다. `numbers` 리스트의 요소들이 `number` 변수에 하나씩 대입되며, `print()` 함수를 사용하여 각 값을 출력하는 방식입니다. 이 과정에서 Python의 `for`문이 반복적으로 데이터를 처리하는 방법을 이해할 수 있습니다."
      ]
    },
    {
      "cell_type": "code",
      "execution_count": null,
      "metadata": {
        "id": "7PBZ8XV9BS7A"
      },
      "outputs": [],
      "source": [
        "numbers = [0, 1, 2, 3, 4]  # 리스트 생성\n",
        "\n",
        "for number in numbers:  # 리스트의 각 요소를 순차적으로 number 변수에 대입\n",
        "    print(number)  # number의 값을 출력\n"
      ]
    },
    {
      "cell_type": "markdown",
      "metadata": {
        "id": "aoxUfCRyBS7B"
      },
      "source": [
        "- `for`문을 사용하여 리스트의 각 요소가 변수에 순차적으로 대입되는 원리를 학습하고, 이를 통해 각 요소를 출력하는 방법을 실습합니다."
      ]
    },
    {
      "cell_type": "markdown",
      "metadata": {
        "id": "C0pXPFgwBS7B"
      },
      "source": [
        "## 01-003 Python: range() 함수를 이용한 반복\n",
        "- 이 실습에서는 `range()` 함수를 사용하여 반복문을 구성하는 방법을 학습합니다. `range(5)`는 0부터 시작하여 5개의 숫자(0, 1, 2, 3, 4)를 생성합니다. `for`문에서 각 숫자가 `number` 변수에 순차적으로 대입되며, 이 변수의 값을 `print()` 함수를 통해 출력합니다. `range()` 함수는 특정 범위의 숫자를 반복할 때 매우 유용한 함수입니다."
      ]
    },
    {
      "cell_type": "code",
      "execution_count": null,
      "metadata": {
        "id": "c4nsK4AzBS7B"
      },
      "outputs": [],
      "source": [
        "# range() 함수를 사용한 반복문\n",
        "for number in range(5):  # 0부터 4까지의 숫자를 생성하여 number 변수에 대입\n",
        "    print(number)  # number의 값을 출력\n"
      ]
    },
    {
      "cell_type": "markdown",
      "metadata": {
        "id": "ZZfDe9ZkBS7C"
      },
      "source": [
        "- `range()` 함수를 사용하여 지정된 범위 내의 숫자들을 생성하고, 이를 `for`문에서 사용하여 반복적으로 작업을 수행하는 방법을 실습합니다."
      ]
    },
    {
      "cell_type": "markdown",
      "metadata": {
        "id": "VorxWqp-BS7C"
      },
      "source": [
        "## 01-004 Python: 함수의 기본 구조\n",
        "- 이 실습에서는 Python에서 함수를 정의하는 기본적인 구조를 학습합니다. 함수는 특정 작업을 수행하는 코드 블록이며, 매개변수를 통해 입력값을 받을 수 있습니다. `def` 키워드를 사용하여 함수를 정의하며, 함수의 이름과 매개변수 리스트를 지정합니다. 함수가 호출되면 지정된 코드가 실행되고, 필요한 경우 `return`을 사용하여 결과값을 반환할 수 있습니다. 반환값은 선택 사항입니다."
      ]
    },
    {
      "cell_type": "code",
      "execution_count": null,
      "metadata": {
        "id": "ykWw9QWrBS7C"
      },
      "outputs": [],
      "source": [
        "# 함수 정의 예시\n",
        "def 함수이름(매개변수1, 매개변수2):\n",
        "    # 실행할 코드\n",
        "    return 반환값  # 반환값은 선택 사항\n"
      ]
    },
    {
      "cell_type": "markdown",
      "metadata": {
        "id": "gbJUM5kSBS7C"
      },
      "source": [
        "- Python에서 함수의 기본적인 정의 방법을 학습하고, 매개변수와 반환값의 개념을 이해합니다. 함수는 재사용 가능한 코드 블록으로, 프로그램 내에서 반복적으로 사용되는 작업을 캡슐화합니다."
      ]
    },
    {
      "cell_type": "markdown",
      "metadata": {
        "id": "SiW7oafqBS7D"
      },
      "source": [
        "## 01-005 Python: 함수 정의 및 호출\n",
        "- 이 실습에서는 두 매개변수를 받아서 더한 값을 반환하는 간단한 함수를 정의하고 호출하는 방법을 학습합니다. `add` 함수는 두 매개변수 `a`와 `b`를 입력받아, 이 둘을 더한 값을 `return` 문을 통해 반환합니다. 이후, `add` 함수를 호출하여 `5`와 `3`을 인자로 전달한 후 결과값을 `print()`로 출력합니다."
      ]
    },
    {
      "cell_type": "code",
      "execution_count": null,
      "metadata": {
        "id": "tabllabzBS7D"
      },
      "outputs": [],
      "source": [
        "# 두 값을 더하는 함수 정의\n",
        "def add(a, b):  # a와 b라는 두 매개변수를 받음\n",
        "    return a + b  # 두 값을 더한 결과를 반환\n",
        "\n",
        "# 함수 호출 및 결과 출력\n",
        "result = add(5, 3)  # add 함수를 호출하여 5와 3을 더한 결과를 반환받음\n",
        "print(result)  # 결과값 출력 -> 8\n"
      ]
    },
    {
      "cell_type": "markdown",
      "metadata": {
        "id": "PJgIRwY3BS7D"
      },
      "source": [
        "- 매개변수를 사용하는 함수의 정의 방법과 함수 호출을 통해 값을 전달하고, 반환된 결과값을 출력하는 기본적인 함수 사용법을 실습합니다."
      ]
    },
    {
      "cell_type": "markdown",
      "metadata": {
        "id": "dJUiFDLoBS7D"
      },
      "source": [
        "## 01-006 Python: 기본 매개변수를 사용하는 함수\n",
        "- 이 실습에서는 함수 매개변수에 기본값을 설정하는 방법을 학습합니다. 함수의 매개변수에 기본값을 지정하면, 함수 호출 시 해당 매개변수를 생략해도 기본값이 사용됩니다. `welcome` 함수에서는 `name` 매개변수의 기본값을 'Guest'로 설정했으며, 이를 통해 매개변수가 전달되지 않으면 기본값으로 환영 메시지를 출력하고, 매개변수를 전달하면 그 값을 사용합니다."
      ]
    },
    {
      "cell_type": "code",
      "execution_count": null,
      "metadata": {
        "id": "6vuDDxVXBS7D"
      },
      "outputs": [],
      "source": [
        "# 기본 매개변수를 사용하는 함수 정의\n",
        "def welcome(name='Guest'):  # 기본값이 'Guest'인 매개변수 name\n",
        "    return f'Welcome {name}!'  # name 값을 사용해 환영 메시지 반환\n",
        "\n",
        "# 함수 호출 및 결과 출력\n",
        "print(welcome())  # 매개변수를 전달하지 않으면 기본값 'Guest'가 사용됨 -> 'Welcome Guest!'\n",
        "print(welcome('to AI Essential'))  # 'to AI Essential' 값을 전달 -> 'Welcome to AI Essential!'\n"
      ]
    },
    {
      "cell_type": "markdown",
      "metadata": {
        "id": "WwMKXq4uBS7E"
      },
      "source": [
        "- 기본 매개변수를 설정하여 함수 호출 시 유연하게 매개변수를 처리하는 방법을 실습합니다. 매개변수를 생략하거나 값을 전달할 때 함수의 동작이 어떻게 달라지는지 이해할 수 있습니다."
      ]
    },
    {
      "cell_type": "markdown",
      "metadata": {
        "id": "-CCaC6QKBS7E"
      },
      "source": [
        "## 01-007 Python: 모듈 생성 및 사용\n",
        "- 이 실습에서는 Python에서 모듈을 생성하고 사용하는 방법을 학습합니다. `mymodule.py`라는 모듈을 생성하여 그 안에 두 개의 함수를 정의합니다. 모듈은 여러 함수나 클래스를 파일로 묶어서 재사용 가능한 코드를 만드는 방식입니다. 이때, `%%writefile` 매직 명령어는 Colab 환경에서 Python 코드를 파일로 저장할 때 사용됩니다. 이 명령어는 셀 안의 코드를 지정한 파일명으로 저장하는 역할을 합니다."
      ]
    },
    {
      "cell_type": "code",
      "execution_count": null,
      "metadata": {
        "id": "umjl3uNqBS7E"
      },
      "outputs": [],
      "source": [
        "%%writefile mymodule.py\n",
        "# mymodule.py\n",
        "def welcome(name='Guest'):\n",
        "    return f'Welcome {name}!'  # 기본값을 사용하여 환영 메시지 반환\n",
        "\n",
        "def add(a, b):\n",
        "    return a + b  # 두 값을 더한 결과를 반환\n"
      ]
    },
    {
      "cell_type": "markdown",
      "metadata": {
        "id": "WpJkns7YBS7E"
      },
      "source": [
        "- `%%writefile` 명령어를 사용하여 Python 모듈을 생성하고, 모듈 안에 여러 함수를 정의하는 방법을 학습합니다. 모듈은 코드의 재사용성을 높이며, 별도의 파일로 나누어 관리할 수 있습니다."
      ]
    },
    {
      "cell_type": "markdown",
      "metadata": {
        "id": "fUiD0wk1BS7E"
      },
      "source": [
        "## 01-008 Python: 모듈을 사용하여 함수 호출하기\n",
        "- 이 실습에서는 Python 모듈을 `import`하여 그 안에 정의된 함수를 사용하는 방법을 학습합니다. 앞서 만든 `mymodule.py` 파일을 불러와서 `welcome` 함수와 `add` 함수를 호출합니다. Python에서는 모듈을 사용하여 코드를 재사용할 수 있으며, 모듈은 다른 파일에 정의된 함수나 클래스를 쉽게 불러와 사용할 수 있습니다."
      ]
    },
    {
      "cell_type": "code",
      "execution_count": null,
      "metadata": {
        "id": "Prz6iytJBS7F"
      },
      "outputs": [],
      "source": [
        "# mymodule 모듈을 import\n",
        "import mymodule\n",
        "\n",
        "# 모듈 내 함수 호출\n",
        "print(mymodule.welcome('to AI Essential'))  # 'Welcome to AI Essential!' 출력\n",
        "print(mymodule.add(3, 5))  # 3 + 5 = 8 출력\n"
      ]
    },
    {
      "cell_type": "markdown",
      "metadata": {
        "id": "VOgfcY44BS7H"
      },
      "source": [
        "- `import` 키워드를 사용하여 모듈을 불러오고, 모듈 안에 정의된 함수를 호출하는 방법을 실습합니다. 모듈을 사용함으로써 코드의 재사용성과 유지보수가 개선됩니다."
      ]
    },
    {
      "cell_type": "markdown",
      "metadata": {
        "id": "UNeZJYLdBS7I"
      },
      "source": [
        "## 01-009 Python: 모듈을 별칭으로 불러오기\n",
        "- 이 실습에서는 모듈을 `import`할 때 별칭을 사용하는 방법을 학습합니다. `mymodule` 모듈을 `mm`이라는 짧은 이름으로 불러와 사용함으로써, 코드 작성 시 더 간결하게 모듈의 함수를 호출할 수 있습니다. `as` 키워드를 사용하여 모듈에 별칭을 지정할 수 있으며, 이렇게 하면 모듈 이름을 짧게 줄여 사용할 수 있습니다."
      ]
    },
    {
      "cell_type": "code",
      "execution_count": null,
      "metadata": {
        "id": "psDEWwRjBS7I"
      },
      "outputs": [],
      "source": [
        "# mymodule 모듈을 별칭 'mm'으로 import\n",
        "import mymodule as mm\n",
        "\n",
        "# 모듈의 함수를 별칭을 사용하여 호출\n",
        "print(mm.welcome('to AI Essential'))  # 'Welcome to AI Essential!' 출력\n",
        "print(mm.add(3, 5))  # 3 + 5 = 8 출력\n"
      ]
    },
    {
      "cell_type": "markdown",
      "metadata": {
        "id": "QKTq65O5BS7I"
      },
      "source": [
        "- `import 모듈 as 별칭` 구문을 사용하여 모듈을 불러오고, 지정한 별칭으로 모듈의 함수를 호출하는 방법을 실습합니다. 이 방법은 긴 모듈 이름을 줄여서 간편하게 사용할 수 있는 장점이 있습니다."
      ]
    },
    {
      "cell_type": "markdown",
      "metadata": {
        "id": "0h9OA_V6BS7I"
      },
      "source": [
        "## 01-010 Python: 모듈에서 특정 함수만 불러오기\n",
        "- 이 실습에서는 `from 모듈 import 함수` 구문을 사용하여 모듈에서 특정 함수만 선택적으로 불러오는 방법을 학습합니다. `mymodule` 모듈에서 `welcome` 함수와 `add` 함수만을 가져와서 사용할 수 있습니다. 이를 통해 불필요한 함수나 모듈 전체를 불러오지 않고, 필요한 함수만을 선택적으로 사용할 수 있습니다."
      ]
    },
    {
      "cell_type": "code",
      "execution_count": null,
      "metadata": {
        "id": "qWMk4L6oBS7J"
      },
      "outputs": [],
      "source": [
        "# mymodule 모듈에서 특정 함수만 불러오기\n",
        "from mymodule import welcome, add\n",
        "\n",
        "# welcome 함수 호출\n",
        "print(welcome('to AI Essential'))  # 'Welcome to AI Essential!' 출력\n",
        "\n",
        "# add 함수 호출\n",
        "print(add(3, 5))  # 3 + 5 = 8 출력\n"
      ]
    },
    {
      "cell_type": "markdown",
      "metadata": {
        "id": "5jwxlGimBS7J"
      },
      "source": [
        "- `from 모듈 import 함수` 구문을 사용하여 특정 함수만을 불러와 사용하는 방법을 실습합니다. 모듈 전체를 불러오는 대신 필요한 함수만 가져와서 코드의 효율성을 높일 수 있습니다."
      ]
    },
    {
      "cell_type": "markdown",
      "metadata": {
        "id": "WdRCjM3mBS7J"
      },
      "source": [
        "---"
      ]
    },
    {
      "cell_type": "markdown",
      "metadata": {
        "id": "-8suMrCvBS7K"
      },
      "source": [
        "# 2. PyTorch"
      ]
    },
    {
      "cell_type": "markdown",
      "metadata": {
        "id": "6Hy_gyEaBS7K"
      },
      "source": [
        "## 02-001 PyTorch와 NumPy 라이브러리 임포트\n",
        "- 이 실습은 PyTorch와 NumPy 라이브러리를 사용하는 프로젝트의 기본 설정 과정입니다. PyTorch는 딥러닝을 위한 주요 라이브러리이며, NumPy는 과학 계산을 위한 중요한 도구입니다. 이 단계에서는 두 라이브러리를 임포트하여 이후의 계산 및 작업에서 사용할 수 있도록 준비합니다."
      ]
    },
    {
      "cell_type": "code",
      "execution_count": null,
      "metadata": {
        "id": "25Ka5p9CBS7K"
      },
      "outputs": [],
      "source": [
        "import torch  # PyTorch 라이브러리 임포트\n",
        "import numpy as np  # NumPy 라이브러리 임포트"
      ]
    },
    {
      "cell_type": "markdown",
      "metadata": {
        "id": "2218bRQLBS7L"
      },
      "source": [
        "- PyTorch와 NumPy 라이브러리를 임포트하여 딥러닝과 과학 계산을 위한 환경을 설정하는 과정입니다."
      ]
    },
    {
      "cell_type": "markdown",
      "metadata": {
        "id": "iMHVX8QVBS7P"
      },
      "source": [
        "## 02-002 1D 텐서 생성 및 출력\n",
        "- 이 실습에서는 1차원 텐서를 생성하고 출력하는 방법을 학습합니다. torch.tensor() 함수를 사용하여 텐서를 생성하며, 이 함수는 다양한 형태의 텐서를 쉽게 만들 수 있습니다. 생성한 텐서는 바로 출력할 수 있습니다."
      ]
    },
    {
      "cell_type": "code",
      "execution_count": null,
      "metadata": {
        "colab": {
          "base_uri": "https://localhost:8080/"
        },
        "id": "P3SCMNFXBS7P",
        "outputId": "92a05608-0b7d-415b-f9db-6b9d59f4e4e8"
      },
      "outputs": [
        {
          "data": {
            "text/plain": [
              "tensor([1., 2., 3.])"
            ]
          },
          "execution_count": 3,
          "metadata": {},
          "output_type": "execute_result"
        }
      ],
      "source": [
        "tensor_1d = torch.tensor([1.0, 2.0, 3.0])  # 1차원 텐서를 생성 (값: 1.0, 2.0, 3.0)\n",
        "tensor_1d  # 생성된 텐서를 출력 -> tensor([1., 2., 3.])"
      ]
    },
    {
      "cell_type": "markdown",
      "metadata": {
        "id": "FBjng8FABS7P"
      },
      "source": [
        "- 1차원 텐서를 생성하고 이를 출력하는 방법을 실습합니다. 텐서는 딥러닝에서 데이터를 표현하는 기본 단위입니다."
      ]
    },
    {
      "cell_type": "markdown",
      "metadata": {
        "id": "Etbq8oSKBS7P"
      },
      "source": [
        "## 02-003 2D 텐서 생성 및 출력\n",
        "- 이 실습에서는 2차원 텐서를 생성하고 출력하는 방법을 학습합니다. 2D 텐서는 행렬을 나타내며, 딥러닝 및 과학적 계산에서 자주 사용됩니다. torch.tensor() 함수를 사용하여 2차원 텐서를 생성하고 이를 출력할 수 있습니다."
      ]
    },
    {
      "cell_type": "code",
      "execution_count": null,
      "metadata": {
        "colab": {
          "base_uri": "https://localhost:8080/"
        },
        "id": "K-3mVKLwBS7P",
        "outputId": "0265e8c7-5c3c-4310-ae27-fda19a94dc40"
      },
      "outputs": [
        {
          "data": {
            "text/plain": [
              "tensor([[1., 2.],\n",
              "        [3., 4.]])"
            ]
          },
          "execution_count": 4,
          "metadata": {},
          "output_type": "execute_result"
        }
      ],
      "source": [
        "tensor_2d = torch.tensor([[1.0, 2.0],\n",
        "                          [3.0, 4.0]])  # 2차원 텐서를 생성 (값: [[1.0, 2.0], [3.0, 4.0]])\n",
        "tensor_2d  # 생성된 텐서를 출력 -> tensor([[1., 2.], [3., 4.]])"
      ]
    },
    {
      "cell_type": "markdown",
      "metadata": {
        "id": "AOKrbna0BS7Q"
      },
      "source": [
        "- 2차원 텐서를 생성하고 출력하는 과정을 실습합니다. 2D 텐서는 딥러닝에서 데이터나 파라미터를 행렬 형태로 저장하는 데 유용합니다."
      ]
    },
    {
      "cell_type": "markdown",
      "metadata": {
        "id": "6zsw0xA4BS7Q"
      },
      "source": [
        "## 02-004 텐서를 GPU로 이동\n",
        "- 이 실습에서는 텐서를 GPU로 이동하는 방법을 다룹니다. 딥러닝 모델 학습 시 GPU를 사용하면 연산 속도가 크게 향상될 수 있습니다. 먼저 torch.cuda.is_available()로 GPU 사용 가능 여부를 확인한 후, 사용 가능하다면 텐서를 GPU 메모리로 이동시킵니다."
      ]
    },
    {
      "cell_type": "code",
      "execution_count": null,
      "metadata": {
        "id": "A6cU0aXgBS7Q"
      },
      "outputs": [],
      "source": [
        "# 텐서를 GPU로 이동\n",
        "if torch.cuda.is_available():  # GPU 사용 가능 여부 확인\n",
        "    tensor_1d = tensor_1d.to('cuda')  # 1D 텐서 GPU로 이동\n",
        "    tensor_2d = tensor_2d.to('cuda')  # 2D 텐서 GPU로 이동"
      ]
    },
    {
      "cell_type": "markdown",
      "metadata": {
        "id": "3vhEQNnHBS7Y"
      },
      "source": [
        "- 이 실습은 텐서를 GPU로 이동하여 빠른 연산을 할 수 있도록 하는 방법을 보여줍니다. 이를 통해 GPU가 있는 환경에서의 효율적인 연산 처리가 가능합니다."
      ]
    },
    {
      "cell_type": "markdown",
      "metadata": {
        "id": "UPDjU1g7BS7Y"
      },
      "source": [
        "## 02-005 NumPy 배열로부터 텐서 생성 및 dtype 지정\n",
        "- 이 실습에서는 NumPy 배열로부터 PyTorch 텐서를 생성하고, 생성 시 텐서의 데이터 타입(dtype)을 명시적으로 지정하는 방법을 학습합니다. dtype을 설정하면 텐서의 데이터 타입을 지정할 수 있으며, 이는 연산의 정확성과 성능에 영향을 미칩니다. 이 예제에서는 float64로 지정하여 높은 정밀도의 실수를 처리할 수 있도록 합니다."
      ]
    },
    {
      "cell_type": "code",
      "execution_count": null,
      "metadata": {
        "colab": {
          "base_uri": "https://localhost:8080/"
        },
        "id": "uBf5AE1kBS7Z",
        "outputId": "50a6464e-cb99-481c-aacf-8b5765688282"
      },
      "outputs": [
        {
          "data": {
            "text/plain": [
              "tensor([1., 2., 3.], dtype=torch.float64)"
            ]
          },
          "execution_count": 6,
          "metadata": {},
          "output_type": "execute_result"
        }
      ],
      "source": [
        "numpy_array = np.array([1, 2, 3])  # NumPy 배열 생성\n",
        "tensor_from_numpy = torch.tensor(numpy_array, dtype=torch.float64)  # NumPy 배열로부터 텐서 생성 및 dtype을 float64로 지정\n",
        "tensor_from_numpy  # 텐서 출력 -> tensor([1., 2., 3.], dtype=torch.float64)"
      ]
    },
    {
      "cell_type": "markdown",
      "metadata": {
        "id": "rfSWDXniBS7Z"
      },
      "source": [
        "- NumPy 배열을 사용해 PyTorch 텐서를 생성하고, dtype을 설정하여 텐서의 데이터 타입을 명시적으로 지정하는 방법을 실습합니다. 이 과정은 데이터 타입을 정확히 제어해야 할 때 유용합니다."
      ]
    },
    {
      "cell_type": "markdown",
      "metadata": {
        "id": "5y6Fi3yVBS7Z"
      },
      "source": [
        "## 02-006 균일하게 분포된 난수로 초기화된 텐서 생성\n",
        "- 이 실습에서는 2x3 크기의 텐서를 [0, 1) 범위에서 균일하게 분포된 난수로 초기화하는 방법을 학습합니다. torch.rand() 함수는 주어진 크기만큼의 텐서를 생성하며, 값은 0과 1 사이에서 랜덤하게 할당됩니다. 이 방법은 모델의 가중치 초기화 등에서 자주 사용됩니다."
      ]
    },
    {
      "cell_type": "code",
      "execution_count": null,
      "metadata": {
        "colab": {
          "base_uri": "https://localhost:8080/"
        },
        "id": "klMoxaylBS7Z",
        "outputId": "da43bcdd-3ffa-4f18-a8bf-7801a02f332d"
      },
      "outputs": [
        {
          "data": {
            "text/plain": [
              "tensor([[0.4892, 0.9554, 0.8702],\n",
              "        [0.1990, 0.3424, 0.6556]])"
            ]
          },
          "execution_count": 7,
          "metadata": {},
          "output_type": "execute_result"
        }
      ],
      "source": [
        "# 2x3의 [0, 1) 범위에서 균일하게 분포된 난수로 초기화된 Tensor 생성\n",
        "rand_tensor = torch.rand((2, 3))  # 2x3 크기의 랜덤 텐서 생성\n",
        "rand_tensor  # 생성된 텐서를 출력 -> tensor([[random_values], [random_values]])"
      ]
    },
    {
      "cell_type": "markdown",
      "metadata": {
        "id": "sXGZgI6OBS7a"
      },
      "source": [
        "- torch.rand()를 사용하여 2x3 크기의 랜덤 텐서를 생성하는 과정을 실습합니다. 생성된 값들은 [0, 1) 범위에서 균일하게 분포된 난수입니다."
      ]
    },
    {
      "cell_type": "markdown",
      "metadata": {
        "id": "VQrc8Lm8BS7a"
      },
      "source": [
        "## 02-007 표준 정규 분포를 따르는 난수로 초기화된 텐서 생성\n",
        "- 이 실습에서는 2x2 크기의 텐서를 표준 정규 분포(N(0, 1))에 따라 난수로 초기화하는 방법을 학습합니다. torch.randn() 함수는 주어진 크기만큼의 텐서를 생성하며, 값은 평균이 0, 표준편차가 1인 정규 분포를 따릅니다. 이 방법은 모델 가중치 초기화에서 자주 사용됩니다."
      ]
    },
    {
      "cell_type": "code",
      "execution_count": null,
      "metadata": {
        "colab": {
          "base_uri": "https://localhost:8080/"
        },
        "id": "WScA8Y8OBS7a",
        "outputId": "cfc1a45d-673d-4b02-9396-9dc475248561"
      },
      "outputs": [
        {
          "data": {
            "text/plain": [
              "tensor([[ 0.2068,  1.1944],\n",
              "        [-0.0253,  1.3955]])"
            ]
          },
          "execution_count": 8,
          "metadata": {},
          "output_type": "execute_result"
        }
      ],
      "source": [
        "# 2x2의 표준 정규 분포를 따르는 난수로 초기화된 Tensor 생성\n",
        "randn_tensor = torch.randn((2, 2))  # 2x2 크기의 표준 정규 분포를 따르는 랜덤 텐서 생성\n",
        "randn_tensor  # 생성된 텐서를 출력 -> tensor([[random_values], [random_values]])"
      ]
    },
    {
      "cell_type": "markdown",
      "metadata": {
        "id": "RoLjQ1n_BS7a"
      },
      "source": [
        "- torch.randn()를 사용하여 2x2 크기의 표준 정규 분포를 따르는 랜덤 텐서를 생성하는 과정을 실습합니다. 이 과정은 딥러닝에서 가중치 초기화에 자주 활용됩니다."
      ]
    },
    {
      "cell_type": "markdown",
      "metadata": {
        "id": "nwL0CNY_BS7b"
      },
      "source": [
        "## 02-008 데이터 타입이 지정된 2x2 텐서 생성\n",
        "- 이 실습에서는 2x2 크기의 텐서를 생성하고, 데이터 타입을 명시적으로 float32로 지정하는 방법을 학습합니다. torch.zeros() 함수를 사용하여 0으로 초기화된 텐서를 만들고, dtype 매개변수를 통해 데이터 타입을 설정할 수 있습니다. float32는 딥러닝 모델에서 자주 사용하는 데이터 타입입니다."
      ]
    },
    {
      "cell_type": "code",
      "execution_count": null,
      "metadata": {
        "colab": {
          "base_uri": "https://localhost:8080/"
        },
        "id": "6StsZICxBS7b",
        "outputId": "6397490f-3b26-4caf-d8b5-ce96f059658f"
      },
      "outputs": [
        {
          "data": {
            "text/plain": [
              "tensor([[0., 0.],\n",
              "        [0., 0.]])"
            ]
          },
          "execution_count": 9,
          "metadata": {},
          "output_type": "execute_result"
        }
      ],
      "source": [
        "# 2x2 텐서 생성, 데이터 타입을 float32로 지정\n",
        "tensor_with_dtype = torch.zeros((2, 2), dtype=torch.float32)  # 2x2 크기의 텐서를 생성하고, 데이터 타입을 float32로 지정\n",
        "tensor_with_dtype  # 생성된 텐서를 출력 -> tensor([[0., 0.], [0., 0.]], dtype=torch.float32)"
      ]
    },
    {
      "cell_type": "markdown",
      "metadata": {
        "id": "CqiInFQnBS7b"
      },
      "source": [
        "- 2x2 크기의 텐서를 생성하면서 데이터 타입을 float32로 명시적으로 지정하는 방법을 실습합니다. 이 과정은 텐서의 데이터 타입을 제어할 때 유용합니다."
      ]
    },
    {
      "cell_type": "markdown",
      "metadata": {
        "id": "F4-fIZCsBS7b"
      },
      "source": [
        "## 02-009 GPU에서 사용하도록 장치가 지정된 2x2 텐서 생성\n",
        "- 이 실습에서는 2x2 크기의 텐서를 생성하고, 사용할 장치를 GPU(CUDA)로 지정하는 방법을 학습합니다. torch.cuda.is_available() 함수를 통해 CUDA 사용 가능 여부를 확인한 후, 가능하다면 텐서를 GPU 메모리에 생성하고, 불가능할 경우 CPU에 생성합니다."
      ]
    },
    {
      "cell_type": "code",
      "execution_count": null,
      "metadata": {
        "colab": {
          "base_uri": "https://localhost:8080/"
        },
        "id": "qNoWDDiuBS7b",
        "outputId": "2e516973-2625-43df-94a3-2dcc7820046c"
      },
      "outputs": [
        {
          "data": {
            "text/plain": [
              "tensor([[0., 0.],\n",
              "        [0., 0.]])"
            ]
          },
          "execution_count": 10,
          "metadata": {},
          "output_type": "execute_result"
        }
      ],
      "source": [
        "# 2x2 텐서 생성, GPU에서 사용하도록 장치를 지정 (CUDA가 가능한 경우)\n",
        "tensor_on_gpu = torch.zeros((2, 2), device='cuda' if torch.cuda.is_available() else 'cpu')  # CUDA 사용 가능 여부에 따라 GPU 또는 CPU에 텐서를 생성\n",
        "tensor_on_gpu  # 생성된 텐서를 출력 -> tensor([[0., 0.], [0., 0.]], device='cuda:0' or 'cpu')"
      ]
    },
    {
      "cell_type": "markdown",
      "metadata": {
        "id": "AWN-boHfBS7b"
      },
      "source": [
        "- 이 실습은 텐서를 생성하면서 GPU에서 사용할 수 있도록 장치를 지정하는 과정을 다룹니다. GPU 사용 시 연산 속도를 크게 향상시킬 수 있습니다."
      ]
    },
    {
      "cell_type": "markdown",
      "metadata": {
        "id": "Yr-yJrt8BS7c"
      },
      "source": [
        "## 02-010 미분이 가능하도록 지정된 2x2 텐서 생성\n",
        "- 이 실습에서는 2x2 크기의 텐서를 생성하면서, 텐서의 연산 그래프를 추적하여 미분이 가능하도록 지정하는 방법을 학습합니다. requires_grad=True로 설정하면, 텐서의 연산 과정이 기록되어 추후에 역전파를 통해 미분을 계산할 수 있습니다."
      ]
    },
    {
      "cell_type": "code",
      "execution_count": null,
      "metadata": {
        "colab": {
          "base_uri": "https://localhost:8080/"
        },
        "id": "lCD-Gp-XBS7c",
        "outputId": "c02d94cf-5dd1-47cd-c9df-af05107ad813"
      },
      "outputs": [
        {
          "data": {
            "text/plain": [
              "tensor([[1., 1.],\n",
              "        [1., 1.]], requires_grad=True)"
            ]
          },
          "execution_count": 11,
          "metadata": {},
          "output_type": "execute_result"
        }
      ],
      "source": [
        "# 2x2 텐서 생성, 미분이 가능하도록 지정\n",
        "tensor_requires_grad = torch.ones((2, 2), requires_grad=True)  # 2x2 크기의 텐서를 생성하고, 미분이 가능하도록 지정\n",
        "tensor_requires_grad  # 생성된 텐서를 출력 -> tensor([[1., 1.], [1., 1.]], requires_grad=True)"
      ]
    },
    {
      "cell_type": "markdown",
      "metadata": {
        "id": "eLSMiifcBS7c"
      },
      "source": [
        "- 미분이 가능하도록 지정된 텐서를 생성하는 방법을 실습합니다. 이 과정은 딥러닝에서 모델의 파라미터를 학습시키는 데 필수적인 단계입니다."
      ]
    },
    {
      "cell_type": "markdown",
      "metadata": {
        "id": "FeuYbX2RBS7c"
      },
      "source": [
        "---"
      ]
    },
    {
      "cell_type": "markdown",
      "metadata": {
        "id": "doc_a3ogBS7c"
      },
      "source": [
        "## 연습문제-02-001 1차원 텐서 생성\n",
        "- torch.arange() 함수를 사용하여 0부터 9까지의 1차원 텐서를 생성합니다. 이 함수는 연속적인 값들로 이루어진 텐서를 쉽게 만들 수 있습니다."
      ]
    },
    {
      "cell_type": "code",
      "execution_count": null,
      "metadata": {
        "colab": {
          "base_uri": "https://localhost:8080/"
        },
        "id": "xCj-_oLxBS7d",
        "outputId": "c29137aa-2704-4ade-8f12-104247be9ba9"
      },
      "outputs": [
        {
          "data": {
            "text/plain": [
              "tensor([0, 1, 2, 3, 4, 5, 6, 7, 8, 9])"
            ]
          },
          "execution_count": 12,
          "metadata": {},
          "output_type": "execute_result"
        }
      ],
      "source": [
        "# 1차원 텐서 t1을 0부터 9까지의 정수로 생성\n",
        "tensor_1d = torch.tensor([0,1,2,3,4,5,6,7,8,9])\n",
        "tensor_1d = torch.arange(10)  # 1차원 텐서 생성 (0부터 9까지)\n",
        "tensor_1d  # 생성된 텐서를 출력"
      ]
    },
    {
      "cell_type": "markdown",
      "metadata": {
        "id": "yQWV8wX-BS7d"
      },
      "source": [
        "- 1차원 텐서를 생성하여 출력하는 방법을 실습합니다."
      ]
    },
    {
      "cell_type": "markdown",
      "metadata": {
        "id": "rI2MoIyVBS7d"
      },
      "source": [
        "## 연습문제-02-002 0으로 이루어진 텐서 생성\n",
        "- torch.zeros() 함수를 사용하여 3x3 크기의 0으로 이루어진 텐서를 생성합니다. 이 함수는 지정한 크기의 텐서를 모두 0으로 채워 생성합니다."
      ]
    },
    {
      "cell_type": "code",
      "execution_count": null,
      "metadata": {
        "id": "pnTVxzkaBS7d"
      },
      "outputs": [],
      "source": [
        "# 3x3 크기의 0으로 이루어진 텐서 t2를 생성\n",
        "tensor_zeros = torch.zeros(3, 3)  # 3x3 0으로 이루어진 텐서 생성\n",
        "tensor_zeros  # 생성된 텐서를 출력"
      ]
    },
    {
      "cell_type": "markdown",
      "metadata": {
        "id": "LUdR9DY9BS7d"
      },
      "source": [
        "- 3x3 크기의 0으로 이루어진 텐서를 생성하여 출력하는 방법을 실습합니다."
      ]
    },
    {
      "cell_type": "markdown",
      "metadata": {
        "id": "gUV8mYN5BS7d"
      },
      "source": [
        "## 연습문제-02-003 랜덤 텐서 생성\n",
        "- torch.randn() 함수로 2x4 크기의 랜덤 텐서를 생성하고, 생성된 텐서의 평균과 표준편차를 구합니다."
      ]
    },
    {
      "cell_type": "code",
      "execution_count": null,
      "metadata": {
        "id": "XBptCf33BS7d"
      },
      "outputs": [],
      "source": [
        "# 랜덤한 값으로 이루어진 2x4 크기의 텐서를 생성\n",
        "tensor_rand = torch.randn(2, 4)  # 2x4 랜덤 텐서 생성\n",
        "tensor_mean = tensor_rand.mean()  # 평균 계산\n",
        "tensor_std = tensor_rand.std()  # 표준편차 계산\n",
        "tensor_rand, tensor_mean, tensor_std  # 텐서, 평균, 표준편차 출력"
      ]
    },
    {
      "cell_type": "markdown",
      "metadata": {
        "id": "_T6PXNmaBS7e"
      },
      "source": [
        "- 랜덤 텐서를 생성한 후, 해당 텐서의 평균과 표준편차를 계산하는 방법을 실습합니다."
      ]
    },
    {
      "cell_type": "markdown",
      "metadata": {
        "id": "xXnQhJfzBS7e"
      },
      "source": [
        "## 연습문제-02-004 텐서 속성 확인\n",
        "- 생성된 텐서의 속성을 확인하는 방법을 실습합니다. 텐서의 데이터 타입, 장치, 크기를 알아보는 것은 중요한 과정입니다."
      ]
    },
    {
      "cell_type": "code",
      "execution_count": null,
      "metadata": {
        "id": "az9PNHuvBS7f"
      },
      "outputs": [],
      "source": [
        "# 4x4 텐서 t4를 생성하고, 데이터 타입, 장치, 크기 출력\n",
        "tensor_4x4 = torch.randn(4, 4)  # 4x4 텐서 생성\n",
        "tensor_4x4.dtype, tensor_4x4.device, tensor_4x4.size()  # 텐서의 데이터 타입, 장치, 크기 출력"
      ]
    },
    {
      "cell_type": "markdown",
      "metadata": {
        "id": "eFnnCJYnBS7f"
      },
      "source": [
        "- 텐서의 데이터 타입, 장치, 크기를 확인하는 방법을 실습합니다."
      ]
    },
    {
      "cell_type": "markdown",
      "metadata": {
        "id": "5jQaYG1gBS7f"
      },
      "source": [
        "---"
      ]
    },
    {
      "cell_type": "markdown",
      "metadata": {
        "id": "QNYNkUI9BS7f"
      },
      "source": [
        "## 02-011 4차원 텐서의 2차원 변환\n",
        "- 이 실습에서는 4차원 텐서를 2차원 텐서로 변환하는 방법을 학습합니다. reshape() 메서드를 사용하여 (10, 64, 7, 7) 크기의 텐서를 (10, 3136) 크기의 2차원 텐서로 변경합니다. reshape()의 -1은 나머지 차원을 자동으로 계산하는 데 유용하며, 데이터의 구조를 변경할 때 많이 사용됩니다."
      ]
    },
    {
      "cell_type": "code",
      "execution_count": null,
      "metadata": {
        "colab": {
          "base_uri": "https://localhost:8080/"
        },
        "id": "4F4xOqBfBS7f",
        "outputId": "8ebe495f-0172-4ba1-c7e5-8deb7d370989"
      },
      "outputs": [
        {
          "data": {
            "text/plain": [
              "torch.Size([10, 3136])"
            ]
          },
          "execution_count": 13,
          "metadata": {},
          "output_type": "execute_result"
        }
      ],
      "source": [
        "x = torch.randn(10, 64, 7, 7)  # 4차원 텐서 생성: (10, 64, 7, 7)\n",
        "y = x.reshape(10, -1)  # 텐서를 (10, 64 * 7 * 7)으로 변환, 즉 2차원 텐서로 변경\n",
        "# -1은 나머지 차원을 자동으로 계산하게 하여 (10, 3136)으로 변경\n",
        "y.shape  # y의 차원은 (10, 3136)"
      ]
    },
    {
      "cell_type": "markdown",
      "metadata": {
        "id": "ORc8tCzRBS7g"
      },
      "source": [
        "- 4차원 텐서를 2차원 텐서로 변환하는 방법을 실습합니다. reshape() 함수는 데이터를 재구성하는 데 유용합니다."
      ]
    },
    {
      "cell_type": "markdown",
      "metadata": {
        "id": "OhXBdaHxBS7g"
      },
      "source": [
        "## 02-012 3차원 텐서의 차원 교환\n",
        "- 이 실습에서는 3차원 텐서를 생성하고, 특정 차원을 교환하는 방법을 학습합니다. torch.randn() 함수로 (10, 5, 3) 크기의 3차원 텐서를 생성하고, transpose() 메서드를 사용해 두 번째 차원과 세 번째 차원을 교환하여 (10, 3, 5) 크기의 텐서를 만듭니다. 이는 텐서의 차원을 바꾸어 데이터의 순서를 변경할 때 유용합니다."
      ]
    },
    {
      "cell_type": "code",
      "execution_count": null,
      "metadata": {
        "colab": {
          "base_uri": "https://localhost:8080/"
        },
        "id": "nWlWRxj-BS7g",
        "outputId": "d24a5da1-2e6e-448d-f436-f0bf8a34e72f"
      },
      "outputs": [
        {
          "data": {
            "text/plain": [
              "torch.Size([10, 3, 5])"
            ]
          },
          "execution_count": 14,
          "metadata": {},
          "output_type": "execute_result"
        }
      ],
      "source": [
        "x = torch.randn(10, 5, 3)  # 3차원 텐서 생성: (10, 5, 3)\n",
        "y = x.transpose(1, 2)  # 두 번째 차원(5)과 세 번째 차원(3)을 교환, (10, 3, 5)\n",
        "y.shape  # y의 차원은 (10, 3, 5)"
      ]
    },
    {
      "cell_type": "markdown",
      "metadata": {
        "id": "4swRP7pHBS7g"
      },
      "source": [
        "- 3차원 텐서의 특정 차원을 교환하는 방법을 실습합니다. 차원 교환은 데이터 처리 과정에서 자주 사용됩니다."
      ]
    },
    {
      "cell_type": "markdown",
      "metadata": {
        "id": "YPhsZo8yBS7g"
      },
      "source": [
        "## 02-013 4차원 텐서의 차원 재배열\n",
        "- 이 실습에서는 4차원 텐서의 차원을 재배열하는 방법을 학습합니다. torch.permute() 메서드를 사용해 텐서의 차원 순서를 변경하여 (10, 28, 28, 3)에서 (10, 3, 28, 28)으로 바꿉니다. 이 방법은 이미지 처리와 같이 차원의 순서가 중요한 작업에서 유용합니다."
      ]
    },
    {
      "cell_type": "code",
      "execution_count": null,
      "metadata": {
        "colab": {
          "base_uri": "https://localhost:8080/"
        },
        "id": "qAj9dQ4EBS7h",
        "outputId": "5f4bf390-8be0-4a74-8d42-0425ce9202ce"
      },
      "outputs": [
        {
          "data": {
            "text/plain": [
              "torch.Size([10, 3, 28, 28])"
            ]
          },
          "execution_count": 15,
          "metadata": {},
          "output_type": "execute_result"
        }
      ],
      "source": [
        "x = torch.randn(10, 28, 28, 3)  # 4차원 텐서 생성: (10, 28, 28, 3)\n",
        "y = x.permute(0, 3, 1, 2)  # 차원의 순서를 (10, 3, 28, 28)로 재배열\n",
        "y.shape  # y의 차원은 (10, 3, 28, 28)"
      ]
    },
    {
      "cell_type": "markdown",
      "metadata": {
        "id": "BRYNfLLaBS7h"
      },
      "source": [
        "- 4차원 텐서의 차원을 재배열하는 방법을 실습합니다. permute() 함수는 차원 순서를 자유롭게 변경할 수 있어 다양한 데이터 전처리 작업에서 사용됩니다."
      ]
    },
    {
      "cell_type": "markdown",
      "metadata": {
        "id": "8jQKAKojBS7h"
      },
      "source": [
        "## 02-014 크기 1인 차원의 제거\n",
        "- 이 실습에서는 squeeze() 메서드를 사용하여 크기 1인 차원을 제거하는 방법을 학습합니다. 4차원 텐서에서 크기 1인 축(차원)을 제거하여 더 낮은 차원의 텐서를 생성할 수 있습니다. 이는 불필요한 차원을 제거해 데이터 처리를 간소화할 때 유용합니다."
      ]
    },
    {
      "cell_type": "code",
      "execution_count": null,
      "metadata": {
        "colab": {
          "base_uri": "https://localhost:8080/"
        },
        "id": "yKtPfEoOBS7h",
        "outputId": "6530735e-3cf1-423c-b79d-6d89550a789e"
      },
      "outputs": [
        {
          "data": {
            "text/plain": [
              "torch.Size([3, 5])"
            ]
          },
          "execution_count": 16,
          "metadata": {},
          "output_type": "execute_result"
        }
      ],
      "source": [
        "x = torch.randn(1, 3, 1, 5)  # 4차원 텐서 생성: (1, 3, 1, 5), 1차원(크기 1)인 축이 존재\n",
        "y = x.squeeze()  # 크기 1인 차원들을 제거: (3, 5)\n",
        "y.shape  # 결과 텐서의 차원은 (3, 5)"
      ]
    },
    {
      "cell_type": "markdown",
      "metadata": {
        "id": "r32Pa9gcBS7h"
      },
      "source": [
        "- 크기 1인 차원을 제거하는 squeeze() 메서드 사용 방법을 실습합니다. 이 함수는 차원의 불필요한 축을 제거하여 데이터 처리에 최적화된 형태로 변환하는 데 유용합니다."
      ]
    },
    {
      "cell_type": "markdown",
      "metadata": {
        "id": "aYOJpRCfBS7h"
      },
      "source": [
        "## 02-015 새 차원을 추가한 2차원 텐서\n",
        "- 이 실습에서는 unsqueeze() 메서드를 사용하여 2차원 텐서에 새로운 차원을 추가하는 방법을 학습합니다. 이 방법은 차원 확장이 필요할 때 유용하며, 모델 학습 시 데이터의 형식을 맞추는 데 자주 사용됩니다. 예를 들어, (3, 5) 텐서에 0번째 차원에 새 차원을 추가하여 (1, 3, 5)로 변환합니다."
      ]
    },
    {
      "cell_type": "code",
      "execution_count": null,
      "metadata": {
        "colab": {
          "base_uri": "https://localhost:8080/"
        },
        "id": "f7jvQ32sBS7h",
        "outputId": "4980cd64-e6d5-4f61-c051-0a03716ef367"
      },
      "outputs": [
        {
          "data": {
            "text/plain": [
              "torch.Size([1, 3, 5])"
            ]
          },
          "execution_count": 17,
          "metadata": {},
          "output_type": "execute_result"
        }
      ],
      "source": [
        "x = torch.randn(3, 5)  # 2차원 텐서 생성: (3, 5)\n",
        "y = x.unsqueeze(0)  # 0번째 차원에 새 차원 추가: (1, 3, 5)\n",
        "y.shape  # 결과 텐서의 차원은 (1, 3, 5)"
      ]
    },
    {
      "cell_type": "markdown",
      "metadata": {
        "id": "KLs8vn5_BS7h"
      },
      "source": [
        "- unsqueeze() 메서드를 사용해 2차원 텐서에 새로운 차원을 추가하는 방법을 실습합니다. 이는 텐서의 차원을 확장하여 다양한 데이터 처리를 가능하게 합니다."
      ]
    },
    {
      "cell_type": "markdown",
      "metadata": {
        "id": "iftqYuVyBS7i"
      },
      "source": [
        "---"
      ]
    },
    {
      "cell_type": "markdown",
      "metadata": {
        "id": "fHmf1cxOBS7i"
      },
      "source": [
        "## 연습문제-02-005 텐서의 크기 변경 및 덧셈\n",
        "- reshape() 함수를 사용하여 텐서의 크기를 변경하는 방법을 실습합니다."
      ]
    },
    {
      "cell_type": "code",
      "execution_count": null,
      "metadata": {
        "colab": {
          "base_uri": "https://localhost:8080/"
        },
        "id": "k76RzQmeBS7i",
        "outputId": "1475d4c7-16eb-4845-f118-87b14c2a52b3"
      },
      "outputs": [
        {
          "data": {
            "text/plain": [
              "(tensor([0, 1, 2, 3, 4, 5, 6, 7, 8, 9]),\n",
              " tensor([[0, 1, 2, 3, 4],\n",
              "         [5, 6, 7, 8, 9]]),\n",
              " torch.Size([2, 5]))"
            ]
          },
          "execution_count": 18,
          "metadata": {},
          "output_type": "execute_result"
        }
      ],
      "source": [
        "# 1차원 텐서 tensor_1d의 크기를 2x5로 변경\n",
        "tensor_1d = torch.tensor(range(10))\n",
        "tensor_2d = tensor_1d.reshape(2, 5)  # 1차원 텐서를 2x5 텐서로 변경\n",
        "tensor_1d, tensor_2d, tensor_2d.shape"
      ]
    },
    {
      "cell_type": "markdown",
      "metadata": {
        "id": "ektwxYFfBS7i"
      },
      "source": [
        "- reshape() 함수를 사용해 텐서의 크기를 변경하는지 실습합니다."
      ]
    },
    {
      "cell_type": "markdown",
      "metadata": {
        "id": "a3FC1cBDBS7i"
      },
      "source": [
        "---"
      ]
    },
    {
      "cell_type": "markdown",
      "metadata": {
        "id": "RxvyAE5gBS7i"
      },
      "source": [
        "## 02-016 1D 텐서에서 요소 선택\n",
        "- 이 실습에서는 1차원 텐서를 생성하고, 특정 요소를 선택하는 방법을 학습합니다. PyTorch 텐서에서 요소를 인덱스로 선택하는 방식은 Python 리스트와 유사하며, 0부터 시작하는 인덱스를 사용하여 요소를 참조할 수 있습니다. 예제에서는 첫 번째 요소인 tensor(10)을 선택합니다."
      ]
    },
    {
      "cell_type": "code",
      "execution_count": null,
      "metadata": {
        "colab": {
          "base_uri": "https://localhost:8080/"
        },
        "id": "NsvsR-f3BS7i",
        "outputId": "8b919703-7ec5-4527-8eba-0c30022f2b3b"
      },
      "outputs": [
        {
          "data": {
            "text/plain": [
              "tensor(10)"
            ]
          },
          "execution_count": 19,
          "metadata": {},
          "output_type": "execute_result"
        }
      ],
      "source": [
        "# 1D 텐서 생성\n",
        "tensor_1d = torch.tensor([10, 20, 30, 40])\n",
        "\n",
        "# 첫 번째 요소 선택 (Python 인덱스는 0부터 시작)\n",
        "tensor_1d[0]  # 출력: tensor(10)"
      ]
    },
    {
      "cell_type": "markdown",
      "metadata": {
        "id": "imjkMgG6BS7j"
      },
      "source": [
        "- 1차원 텐서에서 인덱스를 사용해 특정 요소를 선택하는 방법을 실습합니다. 이는 텐서의 데이터를 조작하는 기본적인 방법입니다."
      ]
    },
    {
      "cell_type": "markdown",
      "metadata": {
        "id": "aOWQCwYdBS7j"
      },
      "source": [
        "## 02-017 1D 텐서에서 마지막 요소 선택\n",
        "- 이 실습에서는 1차원 텐서에서 마지막 요소를 선택하는 방법을 학습합니다. Python의 리스트와 마찬가지로, PyTorch 텐서에서도 음수 인덱스를 사용하여 마지막 요소를 참조할 수 있습니다. 예제에서는 인덱스 -1을 사용해 tensor(40)을 선택합니다."
      ]
    },
    {
      "cell_type": "code",
      "execution_count": null,
      "metadata": {
        "colab": {
          "base_uri": "https://localhost:8080/"
        },
        "id": "BBZYmwmMBS7j",
        "outputId": "60844c16-a08b-4216-a9c2-05e999d6c658"
      },
      "outputs": [
        {
          "data": {
            "text/plain": [
              "tensor(40)"
            ]
          },
          "execution_count": 20,
          "metadata": {},
          "output_type": "execute_result"
        }
      ],
      "source": [
        "# 1D 텐서 생성\n",
        "tensor_1d = torch.tensor([10, 20, 30, 40])\n",
        "\n",
        "# 마지막 요소 선택\n",
        "tensor_1d[-1]  # 출력: tensor(40)"
      ]
    },
    {
      "cell_type": "markdown",
      "metadata": {
        "id": "eiMjm7WoBS7j"
      },
      "source": [
        "- 1차원 텐서에서 마지막 요소를 선택하는 방법을 실습합니다. 음수 인덱스를 사용하면 텐서의 마지막 요소를 쉽게 참조할 수 있습니다."
      ]
    },
    {
      "cell_type": "markdown",
      "metadata": {
        "id": "j2xgPJ_jBS7m"
      },
      "source": [
        "## 02-018 2D 텐서에서 특정 요소 선택\n",
        "- 이 실습에서는 2차원 텐서에서 특정 행과 열의 요소를 선택하는 방법을 학습합니다. 인덱스를 사용하여 2D 텐서의 특정 위치에 접근할 수 있으며, Python에서 0부터 시작하는 인덱싱을 사용합니다. 예제에서는 첫 번째 행과 두 번째 열의 요소인 tensor(2)를 선택합니다."
      ]
    },
    {
      "cell_type": "code",
      "execution_count": null,
      "metadata": {
        "colab": {
          "base_uri": "https://localhost:8080/"
        },
        "id": "AchY3lpdBS7m",
        "outputId": "a870624c-1cb3-437a-c429-c5fe7914e6de"
      },
      "outputs": [
        {
          "data": {
            "text/plain": [
              "tensor(2)"
            ]
          },
          "execution_count": 23,
          "metadata": {},
          "output_type": "execute_result"
        }
      ],
      "source": [
        "# 2D 텐서 생성\n",
        "tensor_2d = torch.tensor([[1, 2, 3], [4, 5, 6], [7, 8, 9]])\n",
        "\n",
        "# 첫 번째 행, 두 번째 열 요소 선택\n",
        "tensor_2d[0, 1]  # 출력: tensor(2)"
      ]
    },
    {
      "cell_type": "markdown",
      "metadata": {
        "id": "E4zC9IcoBS7m"
      },
      "source": [
        "- 2차원 텐서에서 특정 행과 열의 요소를 선택하는 방법을 실습합니다. 이를 통해 텐서의 원하는 데이터를 쉽게 접근하고 조작할 수 있습니다."
      ]
    },
    {
      "cell_type": "markdown",
      "metadata": {
        "id": "A_btECOmBS7n"
      },
      "source": [
        "## 02-019 2D 텐서에서 마지막 행과 열의 요소 선택\n",
        "- 이 실습에서는 2차원 텐서에서 마지막 행과 마지막 열의 요소를 선택하는 방법을 학습합니다. Python 리스트와 마찬가지로, PyTorch 텐서에서도 음수 인덱스를 사용하여 마지막 요소에 접근할 수 있습니다. 예제에서는 마지막 행과 마지막 열의 요소인 tensor(9)를 선택합니다."
      ]
    },
    {
      "cell_type": "code",
      "execution_count": null,
      "metadata": {
        "colab": {
          "base_uri": "https://localhost:8080/"
        },
        "id": "nxop2axNBS7n",
        "outputId": "08869a90-c2ea-40c1-d0d6-afbce9fc5e4f"
      },
      "outputs": [
        {
          "data": {
            "text/plain": [
              "tensor(9)"
            ]
          },
          "execution_count": 24,
          "metadata": {},
          "output_type": "execute_result"
        }
      ],
      "source": [
        "# 2D 텐서 생성\n",
        "tensor_2d = torch.tensor([[1, 2, 3], [4, 5, 6], [7, 8, 9]])\n",
        "\n",
        "# 마지막 행, 마지막 열 요소 선택\n",
        "tensor_2d[-1, -1]  # 출력: tensor(9)"
      ]
    },
    {
      "cell_type": "markdown",
      "metadata": {
        "id": "QMbm7ST7BS7n"
      },
      "source": [
        "- 2차원 텐서에서 마지막 행과 마지막 열의 요소를 선택하는 방법을 실습합니다. 음수 인덱스를 사용해 텐서의 마지막 요소를 쉽게 참조할 수 있습니다."
      ]
    },
    {
      "cell_type": "markdown",
      "metadata": {
        "id": "bDWJ5m6HBS7n"
      },
      "source": [
        "## 02-020 1D 텐서에서 슬라이싱으로 요소 선택\n",
        "- 이 실습에서는 1차원 텐서에서 슬라이싱을 사용하여 요소를 선택하는 방법을 학습합니다. Python 리스트와 유사하게, PyTorch 텐서에서도 콜론(:)을 사용하여 특정 범위의 요소들을 선택할 수 있습니다. 예제에서는 처음부터 인덱스 3까지의 요소를 선택하여 tensor([10, 20, 30, 40])을 반환합니다."
      ]
    },
    {
      "cell_type": "code",
      "execution_count": null,
      "metadata": {
        "colab": {
          "base_uri": "https://localhost:8080/"
        },
        "id": "FX7oljkLBS7n",
        "outputId": "8c5caff5-62ae-4edd-a205-c731b39aeb90"
      },
      "outputs": [
        {
          "data": {
            "text/plain": [
              "tensor([10, 20, 30, 40])"
            ]
          },
          "execution_count": 26,
          "metadata": {},
          "output_type": "execute_result"
        }
      ],
      "source": [
        "# 1D 텐서 생성\n",
        "tensor_1d = torch.tensor([10, 20, 30, 40])\n",
        "\n",
        "# 처음부터 인덱스 3까지의 요소 선택\n",
        "tensor_1d[:4]  # 출력: tensor([10, 20, 30, 40])"
      ]
    },
    {
      "cell_type": "markdown",
      "metadata": {
        "id": "fMbXuHQJBS7n"
      },
      "source": [
        "- 슬라이싱을 사용하여 1차원 텐서에서 특정 범위의 요소를 선택하는 방법을 실습합니다. 이 방법은 텐서의 일부분을 쉽게 추출할 수 있어 유용합니다."
      ]
    },
    {
      "cell_type": "markdown",
      "metadata": {
        "id": "lbMnElFXBS7n"
      },
      "source": [
        "## 02-021 1D 텐서에서 인덱스 2부터 끝까지의 요소 선택\n",
        "- 이 실습에서는 1차원 텐서에서 인덱스 2부터 마지막 요소까지 슬라이싱을 통해 선택하는 방법을 학습합니다. Python 리스트와 유사하게, PyTorch 텐서에서도 슬라이싱을 사용하여 특정 인덱스부터 끝까지의 요소들을 선택할 수 있습니다. 예제에서는 인덱스 2부터 끝까지의 요소인 tensor([30, 40])을 반환합니다."
      ]
    },
    {
      "cell_type": "code",
      "execution_count": null,
      "metadata": {
        "colab": {
          "base_uri": "https://localhost:8080/"
        },
        "id": "_iq_0zOcBS7n",
        "outputId": "715d2391-dae7-4cfa-aecf-d0af0996f82d"
      },
      "outputs": [
        {
          "data": {
            "text/plain": [
              "tensor([30, 40])"
            ]
          },
          "execution_count": 27,
          "metadata": {},
          "output_type": "execute_result"
        }
      ],
      "source": [
        "# 1D 텐서 생성\n",
        "tensor_1d = torch.tensor([10, 20, 30, 40])\n",
        "\n",
        "# 인덱스 2부터 끝까지의 요소 선택\n",
        "tensor_1d[2:]  # 출력: tensor([30, 40])"
      ]
    },
    {
      "cell_type": "markdown",
      "metadata": {
        "id": "7vlAgLBkBS7o"
      },
      "source": [
        "- 슬라이싱을 사용해 1차원 텐서에서 특정 인덱스부터 마지막 요소까지 선택하는 방법을 실습합니다. 이 방법은 텐서의 일부분을 쉽게 추출할 수 있어 유용합니다."
      ]
    },
    {
      "cell_type": "markdown",
      "metadata": {
        "id": "2IlMRH7IBS7o"
      },
      "source": [
        "## 02-022 2D 텐서에서 첫 번째 행 선택\n",
        "- 이 실습에서는 2차원 텐서에서 특정 행을 슬라이싱을 통해 선택하는 방법을 학습합니다. PyTorch 텐서에서 행을 선택할 때, 첫 번째 인덱스로 행을 지정하고, 열의 모든 요소를 선택하기 위해 콜론(:)을 사용합니다. 예제에서는 첫 번째 행인 tensor([1, 2, 3])을 반환합니다."
      ]
    },
    {
      "cell_type": "code",
      "execution_count": null,
      "metadata": {
        "colab": {
          "base_uri": "https://localhost:8080/"
        },
        "id": "Pj5Djn7-BS7o",
        "outputId": "43f45715-de9c-4f4a-c4a1-5e5706678f37"
      },
      "outputs": [
        {
          "data": {
            "text/plain": [
              "tensor([1, 2, 3])"
            ]
          },
          "execution_count": 28,
          "metadata": {},
          "output_type": "execute_result"
        }
      ],
      "source": [
        "# 2D 텐서 슬라이싱\n",
        "tensor_2d = torch.tensor([[1, 2, 3], [4, 5, 6], [7, 8, 9]])\n",
        "\n",
        "# 첫 번째 행 선택\n",
        "tensor_2d[0, :]  # 출력: tensor([1, 2, 3])"
      ]
    },
    {
      "cell_type": "markdown",
      "metadata": {
        "id": "zjs2Q6FZBS7o"
      },
      "source": [
        "- 2차원 텐서에서 첫 번째 행을 슬라이싱하여 선택하는 방법을 실습합니다. 이 방법은 텐서의 특정 행을 추출할 때 유용합니다."
      ]
    },
    {
      "cell_type": "markdown",
      "metadata": {
        "id": "81gnYLffBS7o"
      },
      "source": [
        "## 02-023 2D 텐서에서 첫 번째 열 선택\n",
        "- 이 실습에서는 2차원 텐서에서 특정 열을 슬라이싱을 통해 선택하는 방법을 학습합니다. PyTorch 텐서에서 열을 선택할 때, 첫 번째 인덱스로 모든 행을 지정하고, 두 번째 인덱스로 선택할 열을 지정합니다. 예제에서는 첫 번째 열인 tensor([1, 4, 7])을 반환합니다."
      ]
    },
    {
      "cell_type": "code",
      "execution_count": null,
      "metadata": {
        "colab": {
          "base_uri": "https://localhost:8080/"
        },
        "id": "Zqk6FALeBS7p",
        "outputId": "c938da11-6319-428e-8a92-59e904e6e29f"
      },
      "outputs": [
        {
          "data": {
            "text/plain": [
              "tensor([1, 4, 7])"
            ]
          },
          "execution_count": 29,
          "metadata": {},
          "output_type": "execute_result"
        }
      ],
      "source": [
        "# 2D 텐서 슬라이싱\n",
        "tensor_2d = torch.tensor([[1, 2, 3], [4, 5, 6], [7, 8, 9]])\n",
        "\n",
        "# 첫 번째 열 선택\n",
        "tensor_2d[:, 0]  # 출력: tensor([1, 4, 7])"
      ]
    },
    {
      "cell_type": "markdown",
      "metadata": {
        "id": "Wknm3edzBS7p"
      },
      "source": [
        "- 2차원 텐서에서 첫 번째 열을 슬라이싱하여 선택하는 방법을 실습합니다. 이 방법은 텐서의 특정 열을 추출할 때 유용합니다."
      ]
    },
    {
      "cell_type": "markdown",
      "metadata": {
        "id": "4FUjzuQaBS7p"
      },
      "source": [
        "## 02-024 2D 텐서에서 첫 번째와 두 번째 행 선택\n",
        "- 이 실습에서는 2차원 텐서에서 첫 번째와 두 번째 행을 슬라이싱하는 방법을 학습합니다. 첫 번째 인덱스 범위를 지정하여 선택할 행을 정의하고, 두 번째 인덱스에서는 모든 열을 선택합니다. 예제에서는 첫 번째와 두 번째 행인 tensor([[1, 2, 3], [4, 5, 6]])을 반환합니다."
      ]
    },
    {
      "cell_type": "code",
      "execution_count": null,
      "metadata": {
        "colab": {
          "base_uri": "https://localhost:8080/"
        },
        "id": "0FAixcBWBS7p",
        "outputId": "c425d665-7522-49f4-93ef-9ed19dd20b02"
      },
      "outputs": [
        {
          "data": {
            "text/plain": [
              "tensor([[1, 2, 3],\n",
              "        [4, 5, 6]])"
            ]
          },
          "execution_count": 30,
          "metadata": {},
          "output_type": "execute_result"
        }
      ],
      "source": [
        "# 2D 텐서 슬라이싱\n",
        "tensor_2d = torch.tensor([[1, 2, 3], [4, 5, 6], [7, 8, 9]])\n",
        "\n",
        "# 첫 번째와 두 번째 행 선택\n",
        "tensor_2d[:2, :]\n",
        "# 출력: tensor([[1, 2, 3],\n",
        "#               [4, 5, 6]])"
      ]
    },
    {
      "cell_type": "markdown",
      "metadata": {
        "id": "forSmQD6BS7p"
      },
      "source": [
        "- 2차원 텐서에서 첫 번째와 두 번째 행을 슬라이싱하여 선택하는 방법을 실습합니다. 이 방법은 텐서의 여러 행을 동시에 선택할 때 유용합니다."
      ]
    },
    {
      "cell_type": "markdown",
      "metadata": {
        "id": "WbPRXe1nBS7q"
      },
      "source": [
        "## 02-025 1D 텐서에서 특정 요소 수정\n",
        "- 이 실습에서는 1차원 텐서에서 특정 요소의 값을 수정하는 방법을 학습합니다. 인덱스를 사용하여 텐서의 특정 위치에 접근한 후, 해당 위치의 값을 새로운 값으로 변경할 수 있습니다. 예제에서는 인덱스 0 위치의 요소를 100으로 수정합니다."
      ]
    },
    {
      "cell_type": "code",
      "execution_count": null,
      "metadata": {
        "colab": {
          "base_uri": "https://localhost:8080/"
        },
        "id": "6ATmqOZ4BS7q",
        "outputId": "5c52973d-b6b7-475a-9b94-56b29b8023e1"
      },
      "outputs": [
        {
          "name": "stdout",
          "output_type": "stream",
          "text": [
            "tensor([100,  20,  30,  40,  50])\n"
          ]
        }
      ],
      "source": [
        "# 1D 텐서 생성\n",
        "tensor = torch.tensor([10, 20, 30, 40, 50])\n",
        "\n",
        "# 인덱스 0 위치의 요소 수정\n",
        "tensor[0] = 100\n",
        "print(tensor)  # 출력: tensor([100,  20,  30,  40,  50])"
      ]
    },
    {
      "cell_type": "markdown",
      "metadata": {
        "id": "hNCDaUFCBS7q"
      },
      "source": [
        "- 1차원 텐서에서 특정 요소의 값을 수정하는 방법을 실습합니다. 이 방법은 텐서의 데이터를 변경하거나 갱신할 때 유용합니다."
      ]
    },
    {
      "cell_type": "markdown",
      "metadata": {
        "id": "TmwCi9RwBS7q"
      },
      "source": [
        "## 02-026 1D 텐서에서 슬라이싱을 통한 요소 수정\n",
        "- 이 실습에서는 1차원 텐서에서 슬라이싱을 사용하여 여러 요소의 값을 동시에 수정하는 방법을 학습합니다. 슬라이싱을 통해 여러 요소에 접근한 후, 해당 범위의 값을 새로운 값으로 변경할 수 있습니다. 예제에서는 인덱스 1부터 3까지의 요소를 200, 300, 400으로 수정합니다."
      ]
    },
    {
      "cell_type": "code",
      "execution_count": null,
      "metadata": {
        "colab": {
          "base_uri": "https://localhost:8080/"
        },
        "id": "0pyvWTzcBS7q",
        "outputId": "5d7ad579-ae0c-4848-90cb-abb210463aa9"
      },
      "outputs": [
        {
          "name": "stdout",
          "output_type": "stream",
          "text": [
            "tensor([ 10, 200, 300, 400,  50])\n"
          ]
        }
      ],
      "source": [
        "# 1D 텐서 생성\n",
        "tensor = torch.tensor([10, 20, 30, 40, 50])\n",
        "\n",
        "# 인덱스 1부터 3까지의 요소 수정\n",
        "tensor[1:4] = torch.tensor([200, 300, 400])\n",
        "print(tensor)  # 출력: tensor([100, 200, 300, 400,  50])"
      ]
    },
    {
      "cell_type": "markdown",
      "metadata": {
        "id": "Twn2BqQXBS7q"
      },
      "source": [
        "- 슬라이싱을 사용해 1차원 텐서의 여러 요소를 동시에 수정하는 방법을 실습합니다. 이는 텐서의 일부 요소를 일괄적으로 변경할 때 유용합니다."
      ]
    },
    {
      "cell_type": "markdown",
      "metadata": {
        "id": "OgVSnJmABS7r"
      },
      "source": [
        "## 02-027 2D 텐서에서 행의 값 수정\n",
        "- 이 실습에서는 2차원 텐서에서 특정 행의 값을 일괄적으로 수정하는 방법을 학습합니다. 슬라이싱을 사용해 첫 번째 행을 선택한 후, 그 값을 모두 0으로 변경합니다. 이와 같은 방법은 행 단위로 데이터를 갱신하거나 초기화할 때 유용합니다."
      ]
    },
    {
      "cell_type": "code",
      "execution_count": null,
      "metadata": {
        "colab": {
          "base_uri": "https://localhost:8080/"
        },
        "id": "m13MHYFCBS7r",
        "outputId": "4c58b4fa-5d82-4a3b-e27a-ec493475f820"
      },
      "outputs": [
        {
          "name": "stdout",
          "output_type": "stream",
          "text": [
            "tensor([[0, 0, 0],\n",
            "        [4, 5, 6],\n",
            "        [7, 8, 9]])\n"
          ]
        }
      ],
      "source": [
        "# 2D 텐서 생성\n",
        "tensor_2d = torch.tensor([[1, 2, 3], [4, 5, 6], [7, 8, 9]])\n",
        "\n",
        "# 첫 번째 행을 모두 0으로 수정\n",
        "tensor_2d[0, :] = 0\n",
        "print(tensor_2d)\n",
        "# 출력: tensor([[0, 0, 0],\n",
        "#               [4, 5, 6],\n",
        "#               [7, 8, 9]])"
      ]
    },
    {
      "cell_type": "markdown",
      "metadata": {
        "id": "nDdS6wbgBS7r"
      },
      "source": [
        "- 2차원 텐서에서 특정 행의 값을 수정하는 방법을 실습합니다. 슬라이싱을 통해 텐서의 행 전체를 간편하게 변경할 수 있습니다."
      ]
    },
    {
      "cell_type": "markdown",
      "metadata": {
        "id": "2LMbG_8gBS7r"
      },
      "source": [
        "---"
      ]
    },
    {
      "cell_type": "markdown",
      "metadata": {
        "id": "kAClJYnlBS7r"
      },
      "source": [
        "## 연습문제-02-006 텐서에서 특정 열 선택\n",
        "- 이 실습에서는 3x3 텐서에서 특정 열을 선택하는 방법을 학습합니다. 텐서에서 열을 선택할 때 인덱싱을 사용하여 특정 요소에 접근할 수 있습니다."
      ]
    },
    {
      "cell_type": "code",
      "execution_count": null,
      "metadata": {
        "colab": {
          "base_uri": "https://localhost:8080/"
        },
        "id": "HwvzKsnmBS7r",
        "outputId": "6e606925-59f6-448f-96d0-87d2fed2d25e"
      },
      "outputs": [
        {
          "data": {
            "text/plain": [
              "tensor([1, 4, 7])"
            ]
          },
          "execution_count": 35,
          "metadata": {},
          "output_type": "execute_result"
        }
      ],
      "source": [
        "# 3x3 텐서에서 특정 열 선택하기\n",
        "tensor_3x3 = torch.tensor([[1, 2, 3],\n",
        "                           [4, 5, 6],\n",
        "                           [7, 8, 9]]) # 3x3 텐서 생성\n",
        "\n",
        "#첫 번째 열 선택\n",
        "col_1 = tensor_3x3[:, 0]  # tensor([1, 4, 7])\n",
        "col_1"
      ]
    },
    {
      "cell_type": "markdown",
      "metadata": {
        "id": "VrVCuS0GBS7r"
      },
      "source": [
        "- 3x3 텐서에서 특정 열을 선택하는 방법을 실습합니다."
      ]
    },
    {
      "cell_type": "markdown",
      "metadata": {
        "id": "mxodWSuCBS7r"
      },
      "source": [
        "## 연습문제-02-007 특정 행과 열의 값 변경\n",
        "- 이 실습에서는 텐서에서 특정 행과 열의 값을 변경하는 방법을 학습합니다. 인덱싱을 통해 텐서의 특정 부분에 접근하여 값을 직접 수정할 수 있습니다."
      ]
    },
    {
      "cell_type": "code",
      "execution_count": null,
      "metadata": {
        "colab": {
          "base_uri": "https://localhost:8080/"
        },
        "id": "htDIG_JHBS7s",
        "outputId": "8c7714b3-6584-4637-cd79-79a6c39332ad"
      },
      "outputs": [
        {
          "name": "stdout",
          "output_type": "stream",
          "text": [
            "tensor([[10, 10, 10],\n",
            "        [ 4,  5,  6],\n",
            "        [ 7,  8,  9]])\n"
          ]
        },
        {
          "data": {
            "text/plain": [
              "tensor([[10, 20, 10],\n",
              "        [ 4, 20,  6],\n",
              "        [ 7, 20,  9]])"
            ]
          },
          "execution_count": 37,
          "metadata": {},
          "output_type": "execute_result"
        }
      ],
      "source": [
        "# 3x3 텐서에서 특정 행과 열의 값 변경하기\n",
        "tensor_3x3 = torch.tensor([[1, 2, 3],\n",
        "                           [4, 5, 6],\n",
        "                           [7, 8, 9]])  # 3x3 텐서 생성\n",
        "\n",
        "# 첫 번째 행의 값을 모두 10으로 변경\n",
        "tensor_3x3[0, :] = 10\n",
        "\n",
        "print(tensor_3x3)\n",
        "# 두 번째 열의 값을 모두 20으로 변경\n",
        "tensor_3x3[:, 1] = 20\n",
        "\n",
        "# 변경된 텐서 출력\n",
        "print(tensor_3x3)  # 결과: tensor([[10, 20, 10], [ 4, 20, 6], [ 7, 20, 9]])"
      ]
    },
    {
      "cell_type": "markdown",
      "metadata": {
        "id": "__iee6lOBS7s"
      },
      "source": [
        "- 3x3 텐서에서 특정 행과 열의 값을 변경하는 방법을 실습합니다."
      ]
    },
    {
      "cell_type": "markdown",
      "metadata": {
        "id": "TazkF3JdBS7s"
      },
      "source": [
        "---"
      ]
    },
    {
      "cell_type": "markdown",
      "metadata": {
        "id": "iBGD1mLyBS7s"
      },
      "source": [
        "## 02-028 두 개의 텐서 생성 및 출력\n",
        "- 이 실습에서는 두 개의 1차원 텐서를 생성하고 동시에 출력하는 방법을 학습합니다. 각각의 텐서를 torch.tensor() 함수를 사용하여 생성한 후, 변수 x와 y에 할당하고 출력합니다. 이 방법은 두 개 이상의 텐서를 처리하거나 비교할 때 유용합니다."
      ]
    },
    {
      "cell_type": "code",
      "execution_count": null,
      "metadata": {
        "colab": {
          "base_uri": "https://localhost:8080/"
        },
        "id": "-qK87BYqBS7s",
        "outputId": "368c3b8a-09f4-4f8f-d7d4-86b3be0aa2b0"
      },
      "outputs": [
        {
          "data": {
            "text/plain": [
              "(tensor([1, 2, 3]), tensor([4, 5, 6]))"
            ]
          },
          "execution_count": 38,
          "metadata": {},
          "output_type": "execute_result"
        }
      ],
      "source": [
        "# Tensor 생성\n",
        "x = torch.tensor([1, 2, 3])\n",
        "y = torch.tensor([4, 5, 6])\n",
        "x, y  # 출력: (tensor([1, 2, 3]), tensor([4, 5, 6]))"
      ]
    },
    {
      "cell_type": "markdown",
      "metadata": {
        "id": "0yMcuEN8BS7t"
      },
      "source": [
        "- 두 개의 1차원 텐서를 생성하고, 이를 동시에 출력하는 방법을 실습합니다. 이는 여러 개의 텐서를 동시에 처리하거나 값을 확인할 때 유용합니다."
      ]
    },
    {
      "cell_type": "markdown",
      "metadata": {
        "id": "lWmDjIJ6BS7t"
      },
      "source": [
        "## 02-029 요소별 덧셈\n",
        "- 이 실습에서는 두 텐서의 요소별 덧셈을 수행하는 방법을 학습합니다. x와 y는 같은 크기의 텐서로, 각 요소끼리 더하여 새로운 텐서를 생성합니다. '+' 연산자를 사용하거나 torch.add() 함수를 사용할 수 있습니다."
      ]
    },
    {
      "cell_type": "code",
      "execution_count": null,
      "metadata": {
        "colab": {
          "base_uri": "https://localhost:8080/"
        },
        "id": "Y4OR-0QMBS7t",
        "outputId": "c40f42f2-c519-4550-d0fc-26773d89f279"
      },
      "outputs": [
        {
          "data": {
            "text/plain": [
              "tensor([5, 7, 9])"
            ]
          },
          "execution_count": 39,
          "metadata": {},
          "output_type": "execute_result"
        }
      ],
      "source": [
        "# 요소별 덧셈\n",
        "add_result = x + y  # 또는 torch.add(x, y)\n",
        "add_result  # 출력: tensor([5, 7, 9])"
      ]
    },
    {
      "cell_type": "markdown",
      "metadata": {
        "id": "aieluKmPBS7t"
      },
      "source": [
        "- 두 텐서의 같은 위치에 있는 요소끼리 더하는 요소별 덧셈을 실습합니다. 이는 텐서 간의 연산에서 자주 사용됩니다."
      ]
    },
    {
      "cell_type": "markdown",
      "metadata": {
        "id": "1iZIQR3aBS7t"
      },
      "source": [
        "## 02-030 요소별 뺄셈\n",
        "- 이 실습에서는 두 텐서의 요소별 뺄셈을 수행하는 방법을 학습합니다. x와 y는 같은 크기의 텐서로, 각 요소끼리 빼서 새로운 텐서를 생성합니다. '-' 연산자를 사용하거나 torch.subtract() 함수를 사용할 수 있습니다."
      ]
    },
    {
      "cell_type": "code",
      "execution_count": null,
      "metadata": {
        "colab": {
          "base_uri": "https://localhost:8080/"
        },
        "id": "A1DFwwWDBS7t",
        "outputId": "a4c183c5-47ef-453a-f61b-a704f7e7f8a5"
      },
      "outputs": [
        {
          "data": {
            "text/plain": [
              "tensor([-3, -3, -3])"
            ]
          },
          "execution_count": 40,
          "metadata": {},
          "output_type": "execute_result"
        }
      ],
      "source": [
        "# 요소별 뺄셈\n",
        "sub_result = x - y  # 또는 torch.subtract(x, y)\n",
        "sub_result  # 출력: tensor([-3, -3, -3])"
      ]
    },
    {
      "cell_type": "markdown",
      "metadata": {
        "id": "NJS81V8EBS7t"
      },
      "source": [
        "- 두 텐서의 같은 위치에 있는 요소끼리 빼는 요소별 뺄셈을 실습합니다. 이는 텐서 간의 연산에서 자주 사용됩니다."
      ]
    },
    {
      "cell_type": "markdown",
      "metadata": {
        "id": "u9KqGJEVBS7u"
      },
      "source": [
        "## 02-031 요소별 나눗셈\n",
        "- 이 실습에서는 두 텐서의 요소별 나눗셈을 수행하는 방법을 학습합니다. x와 y는 같은 크기의 텐서로, 각 요소끼리 나눗셈을 수행하여 새로운 텐서를 생성합니다. '/' 연산자를 사용하거나 torch.divide() 함수를 사용할 수 있습니다."
      ]
    },
    {
      "cell_type": "code",
      "execution_count": null,
      "metadata": {
        "colab": {
          "base_uri": "https://localhost:8080/"
        },
        "id": "fWiaIxNABS7u",
        "outputId": "3180f199-8355-4872-ac81-51e4054a86da"
      },
      "outputs": [
        {
          "data": {
            "text/plain": [
              "tensor([0.2500, 0.4000, 0.5000])"
            ]
          },
          "execution_count": 41,
          "metadata": {},
          "output_type": "execute_result"
        }
      ],
      "source": [
        "# 요소별 나눗셈\n",
        "div_result = x / y  # 또는 torch.divide(x, y)\n",
        "div_result  # 출력: tensor([0.2500, 0.4000, 0.5000])"
      ]
    },
    {
      "cell_type": "markdown",
      "metadata": {
        "id": "jglJ42OwBS7u"
      },
      "source": [
        "- 두 텐서의 같은 위치에 있는 요소끼리 나누는 요소별 나눗셈을 실습합니다. 이는 텐서 간의 연산에서 자주 사용됩니다."
      ]
    },
    {
      "cell_type": "markdown",
      "metadata": {
        "id": "j3Is2N2QBS7u"
      },
      "source": [
        "## 02-032 브로드캐스팅을 통한 요소별 덧셈\n",
        "- 이 실습에서는 브로드캐스팅을 사용하여 텐서 간의 요소별 덧셈을 수행하는 방법을 학습합니다. 브로드캐스팅은 크기가 다른 텐서 간에 연산이 가능하도록 작은 텐서를 큰 텐서에 맞추어 확장하는 방식입니다. 예제에서는 2x3 텐서 x와 1x3 텐서 y 간의 덧셈을 수행하여 각 행에 y의 요소를 더합니다."
      ]
    },
    {
      "cell_type": "code",
      "execution_count": null,
      "metadata": {
        "colab": {
          "base_uri": "https://localhost:8080/"
        },
        "id": "eWR9fL3ZBS7u",
        "outputId": "83e2ad25-3d14-4d22-d1e8-a7a9170aae50"
      },
      "outputs": [
        {
          "data": {
            "text/plain": [
              "tensor([[2, 4, 6],\n",
              "        [5, 7, 9]])"
            ]
          },
          "execution_count": 42,
          "metadata": {},
          "output_type": "execute_result"
        }
      ],
      "source": [
        "# Tensor 생성\n",
        "x = torch.tensor([[1, 2, 3], [4, 5, 6]])\n",
        "y = torch.tensor([1, 2, 3])\n",
        "\n",
        "# 브로드캐스팅을 통한 요소별 덧셈\n",
        "result = x + y\n",
        "result\n",
        "# 출력: tensor([[2, 4, 6],\n",
        "#               [5, 7, 9]])"
      ]
    },
    {
      "cell_type": "markdown",
      "metadata": {
        "id": "35IviDlJBS7u"
      },
      "source": [
        "- 브로드캐스팅을 사용해 크기가 다른 텐서 간의 요소별 덧셈을 실습합니다. 이는 텐서 간의 연산에서 매우 유용한 기능입니다."
      ]
    },
    {
      "cell_type": "markdown",
      "metadata": {
        "id": "6cAXQqulBS7u"
      },
      "source": [
        "## 02-033 행렬 곱셈\n",
        "- 이 실습에서는 torch.matmul() 함수를 사용하여 두 텐서 간의 행렬 곱셈을 수행하는 방법을 학습합니다. 행렬 곱셈은 두 텐서의 적절한 차원이 일치할 때 가능하며, 결과는 행렬의 곱으로 반환됩니다. 예제에서는 (2x3) 크기의 텐서 x와 (3x2) 크기의 텐서 y 간의 곱셈을 통해 (2x2) 크기의 결과를 생성합니다."
      ]
    },
    {
      "cell_type": "code",
      "execution_count": null,
      "metadata": {
        "colab": {
          "base_uri": "https://localhost:8080/"
        },
        "id": "LJxnTxEbBS7u",
        "outputId": "e0d5670a-ff47-460c-8380-f7e0a6b07cc8"
      },
      "outputs": [
        {
          "name": "stdout",
          "output_type": "stream",
          "text": [
            "tensor([[ 58,  64],\n",
            "        [139, 154]])\n"
          ]
        }
      ],
      "source": [
        "# Tensor 생성\n",
        "x = torch.tensor([[1, 2, 3], [4, 5, 6]])  #  (2x3 행렬)\n",
        "y = torch.tensor([[7, 8], [9, 10], [11, 12]])  # (3x2 행렬)\n",
        "\n",
        "# 행렬 곱셈\n",
        "matmul_result = torch.matmul(x, y)  # 2행 3열 x 3행 2열 = 2행 2열\n",
        "print(matmul_result)\n",
        "# 출력: tensor([[ 58,  64],\n",
        "#               [139, 154]])"
      ]
    },
    {
      "cell_type": "markdown",
      "metadata": {
        "id": "ExvfHokYBS7v"
      },
      "source": [
        "- torch.matmul() 함수를 사용하여 두 텐서 간의 행렬 곱셈을 실습합니다. 이 방법은 딥러닝과 수학적 계산에서 자주 사용되는 중요한 연산입니다."
      ]
    },
    {
      "cell_type": "markdown",
      "metadata": {
        "id": "1wukCfDqBS7v"
      },
      "source": [
        "## 02-034 행렬 전치 (행과 열 바꾸기)\n",
        "- 이 실습에서는 텐서의 전치(transpose)를 수행하는 방법을 학습합니다. 전치는 행과 열을 바꾸는 연산으로, torch.t() 함수를 사용하여 2D 텐서의 차원을 교환할 수 있습니다. 예제에서는 (2x3) 크기의 텐서를 (3x2) 크기로 전치하여 반환합니다."
      ]
    },
    {
      "cell_type": "code",
      "execution_count": null,
      "metadata": {
        "colab": {
          "base_uri": "https://localhost:8080/"
        },
        "id": "Ke917i-hBS7v",
        "outputId": "62fadd7e-a372-4e1c-caec-1eca8cf5c7a6"
      },
      "outputs": [
        {
          "data": {
            "text/plain": [
              "tensor([[1, 4],\n",
              "        [2, 5],\n",
              "        [3, 6]])"
            ]
          },
          "execution_count": 44,
          "metadata": {},
          "output_type": "execute_result"
        }
      ],
      "source": [
        "# 전치 (행열 바꾸기)\n",
        "transpose_result = x.t()\n",
        "transpose_result\n",
        "# 출력: tensor([[1, 4],\n",
        "#               [2, 5],\n",
        "#               [3, 6]])"
      ]
    },
    {
      "cell_type": "markdown",
      "metadata": {
        "id": "vHx_CyQlBS7v"
      },
      "source": [
        "- 행과 열을 교환하는 전치 연산을 실습합니다. 이는 수학적 계산과 데이터 전처리에서 자주 사용되는 중요한 연산입니다."
      ]
    },
    {
      "cell_type": "markdown",
      "metadata": {
        "id": "-Rs-bIy3BS7v"
      },
      "source": [
        "## 02-035 1D 텐서의 합계 구하기\n",
        "- 이 실습에서는 1차원 텐서의 모든 요소에 대한 합계를 구하는 방법을 학습합니다. torch.sum() 함수를 사용하여 텐서의 모든 요소를 더하여 하나의 값을 반환합니다. 예제에서는 텐서 x의 값 1, 2, 3, 4, 5의 합계를 구합니다."
      ]
    },
    {
      "cell_type": "code",
      "execution_count": null,
      "metadata": {
        "colab": {
          "base_uri": "https://localhost:8080/"
        },
        "id": "DhL3c1J2BS7v",
        "outputId": "b615d963-2031-42b1-b2bb-1bb55dac412f"
      },
      "outputs": [
        {
          "data": {
            "text/plain": [
              "tensor(15)"
            ]
          },
          "execution_count": 45,
          "metadata": {},
          "output_type": "execute_result"
        }
      ],
      "source": [
        "# Tensor 생성\n",
        "x = torch.tensor([1, 2, 3, 4, 5])\n",
        "\n",
        "# 합계\n",
        "torch.sum(x)"
      ]
    },
    {
      "cell_type": "markdown",
      "metadata": {
        "id": "uOm6OpF1BS7v"
      },
      "source": [
        "- 1차원 텐서의 모든 요소에 대한 합계를 구하는 방법을 실습합니다. 이는 데이터를 요약하거나 분석할 때 유용한 연산입니다."
      ]
    },
    {
      "cell_type": "markdown",
      "metadata": {
        "id": "yrRoAaIGBS7v"
      },
      "source": [
        "## 02-036 1D 텐서의 평균 구하기\n",
        "- 이 실습에서는 1차원 텐서의 평균을 구하는 방법을 학습합니다. torch.mean() 함수는 텐서의 모든 요소에 대한 평균을 계산합니다. 정수형 텐서는 부동 소수점형으로 변환한 후 평균을 구해야 하며, 이를 위해 x.float()로 텐서를 변환합니다."
      ]
    },
    {
      "cell_type": "code",
      "execution_count": null,
      "metadata": {
        "colab": {
          "base_uri": "https://localhost:8080/"
        },
        "id": "_XIDrWArBS7w",
        "outputId": "a78b944d-ede7-466d-e296-e555d7283fff"
      },
      "outputs": [
        {
          "data": {
            "text/plain": [
              "tensor(3.)"
            ]
          },
          "execution_count": 46,
          "metadata": {},
          "output_type": "execute_result"
        }
      ],
      "source": [
        "# Tensor 생성\n",
        "x = torch.tensor([1, 2, 3, 4, 5])\n",
        "\n",
        "# 평균\n",
        "# Tensor를 float로 변환한 후 평균 계산\n",
        "torch.mean(x.float())  # tensor(3.)"
      ]
    },
    {
      "cell_type": "markdown",
      "metadata": {
        "id": "HFGm6VNXBS7w"
      },
      "source": [
        "- 1차원 텐서의 모든 요소에 대한 평균을 구하는 방법을 실습합니다. 평균은 데이터를 요약하고 통계적으로 분석하는 데 중요한 값입니다."
      ]
    },
    {
      "cell_type": "markdown",
      "metadata": {
        "id": "XaZKV0mqBS7w"
      },
      "source": [
        "## 02-037 1D 텐서에서 최대값 구하기\n",
        "- 이 실습에서는 1차원 텐서에서 최대값을 구하는 방법을 학습합니다. torch.max() 함수를 사용하여 텐서 내에서 가장 큰 값을 찾을 수 있습니다. 예제에서는 텐서 x의 최대값인 tensor(5)를 반환합니다."
      ]
    },
    {
      "cell_type": "code",
      "execution_count": null,
      "metadata": {
        "colab": {
          "base_uri": "https://localhost:8080/"
        },
        "id": "tMYfMvSFBS7w",
        "outputId": "1a98f75b-a092-4bb8-b024-ddaed1e0d590"
      },
      "outputs": [
        {
          "data": {
            "text/plain": [
              "tensor(5)"
            ]
          },
          "execution_count": 47,
          "metadata": {},
          "output_type": "execute_result"
        }
      ],
      "source": [
        "# Tensor 생성\n",
        "x = torch.tensor([1, 2, 3, 4, 5])\n",
        "\n",
        "# 최대값\n",
        "torch.max(x)  # 출력: tensor(5)"
      ]
    },
    {
      "cell_type": "markdown",
      "metadata": {
        "id": "Gv-EAYs7BS7x"
      },
      "source": [
        "- 1차원 텐서의 모든 요소 중에서 최대값을 구하는 방법을 실습합니다. 이는 데이터 분석에서 가장 큰 값을 찾을 때 유용합니다."
      ]
    },
    {
      "cell_type": "markdown",
      "metadata": {
        "id": "sE4mY0IrBS7x"
      },
      "source": [
        "## 02-038 1D 텐서에서 최소값 구하기\n",
        "- 이 실습에서는 1차원 텐서에서 최소값을 구하는 방법을 학습합니다. torch.min() 함수를 사용하여 텐서 내에서 가장 작은 값을 찾을 수 있습니다. 예제에서는 텐서 x의 최소값인 tensor(1)를 반환합니다."
      ]
    },
    {
      "cell_type": "code",
      "execution_count": null,
      "metadata": {
        "colab": {
          "base_uri": "https://localhost:8080/"
        },
        "id": "LM3aBr0LBS7x",
        "outputId": "562ce493-563a-4eb4-f379-b3f63998afc7"
      },
      "outputs": [
        {
          "data": {
            "text/plain": [
              "tensor(1)"
            ]
          },
          "execution_count": 48,
          "metadata": {},
          "output_type": "execute_result"
        }
      ],
      "source": [
        "# Tensor 생성\n",
        "x = torch.tensor([1, 2, 3, 4, 5])\n",
        "\n",
        "# 최소값\n",
        "torch.min(x)  # 출력: tensor(1)"
      ]
    },
    {
      "cell_type": "markdown",
      "metadata": {
        "id": "0wL66h9XBS7x"
      },
      "source": [
        "- 1차원 텐서의 모든 요소 중에서 최소값을 구하는 방법을 실습합니다. 이는 데이터 분석에서 가장 작은 값을 찾을 때 유용합니다."
      ]
    },
    {
      "cell_type": "markdown",
      "metadata": {
        "id": "klDrDPDiBS7x"
      },
      "source": [
        "---"
      ]
    },
    {
      "cell_type": "markdown",
      "metadata": {
        "id": "1vqs43bABS7x"
      },
      "source": [
        "## 연습문제-02-008 텐서의 각 요소에 값 더하기\n",
        "- 생성된 텐서에 값을 더하는 방법을 실습합니다. 이 방법은 각 요소에 값을 일괄적으로 더할 때 유용합니다."
      ]
    },
    {
      "cell_type": "code",
      "execution_count": null,
      "metadata": {
        "colab": {
          "base_uri": "https://localhost:8080/"
        },
        "id": "K8CjrA7UBS7x",
        "outputId": "3f132c95-d5a9-4f4f-b55b-062e9b612bfb"
      },
      "outputs": [
        {
          "data": {
            "text/plain": [
              "tensor([[4.8539, 5.5861, 4.7858, 5.3965],\n",
              "        [5.0336, 4.2895, 5.3657, 4.5748],\n",
              "        [5.3259, 5.9648, 5.6950, 4.6014],\n",
              "        [4.4533, 4.5466, 5.1726, 6.0922]])"
            ]
          },
          "execution_count": 49,
          "metadata": {},
          "output_type": "execute_result"
        }
      ],
      "source": [
        "# 4x4 텐서 tensor_4x4의 각 요소에 5를 더함\n",
        "tensor_4x4 = torch.randn(4, 4)  # 4x4 텐서 생성\n",
        "tensor_add = tensor_4x4 + 5  # 각 요소에 5를 더함\n",
        "tensor_add  # 결과 출력"
      ]
    },
    {
      "cell_type": "markdown",
      "metadata": {
        "id": "Wvr6GxhXBS7y"
      },
      "source": [
        "- 텐서의 각 요소에 동일한 값을 더하는 방법을 실습합니다."
      ]
    },
    {
      "cell_type": "markdown",
      "metadata": {
        "id": "saNV-iQ0BS7y"
      },
      "source": [
        "## 연습문제-02-009 두 텐서의 곱셈\n",
        "- 두 텐서 간의 각 요소별 곱셈을 수행하는 방법을 실습합니다. PyTorch에서는 '*' 연산자를 사용하여 요소별 곱셈을 간단히 수행할 수 있습니다."
      ]
    },
    {
      "cell_type": "code",
      "execution_count": null,
      "metadata": {
        "colab": {
          "base_uri": "https://localhost:8080/"
        },
        "id": "SpbySZx7BS7y",
        "outputId": "4da95f6c-f9ad-483b-cdc3-1c7c4f4b59f0"
      },
      "outputs": [
        {
          "data": {
            "text/plain": [
              "tensor([[-0.4854,  0.6116, -0.3755],\n",
              "        [ 0.2018, -0.3623, -0.4697],\n",
              "        [-0.0077, -0.4345, -0.0026]])"
            ]
          },
          "execution_count": 50,
          "metadata": {},
          "output_type": "execute_result"
        }
      ],
      "source": [
        "# torch.randn 함수를 사용하여 두 개의 3x3 텐서 a와 b를 생성하고 각 요소별 곱셈을 수행\n",
        "a = torch.randn(3, 3)  # 3x3 텐서 생성\n",
        "b = torch.randn(3, 3)  # 3x3 텐서 생성\n",
        "tensor_mul = a * b  # 각 요소별 곱셈\n",
        "tensor_mul  # 결과 출력"
      ]
    },
    {
      "cell_type": "markdown",
      "metadata": {
        "id": "4z6AhZAGBS7y"
      },
      "source": [
        "- 두 텐서의 각 요소별 곱셈을 수행하는 방법을 실습합니다."
      ]
    },
    {
      "cell_type": "markdown",
      "metadata": {
        "id": "pMJ1DoGVBS7y"
      },
      "source": [
        "## 연습문제-02-010 텐서의 행렬 곱셈\n",
        "- 두 텐서 간의 행렬 곱셈을 수행하는 방법을 실습합니다. torch.matmul() 함수를 사용하여 행렬 곱셈을 쉽게 수행할 수 있습니다."
      ]
    },
    {
      "cell_type": "code",
      "execution_count": null,
      "metadata": {
        "colab": {
          "base_uri": "https://localhost:8080/"
        },
        "id": "DV1IqKSEBS7y",
        "outputId": "69db468d-9ed6-4b5a-e2c9-b0bbf2f2a658"
      },
      "outputs": [
        {
          "data": {
            "text/plain": [
              "tensor([[ 1.1574,  0.1902,  0.4430],\n",
              "        [-0.5625, -1.3269, -3.1355],\n",
              "        [-3.8477, -0.6723, -3.2502]])"
            ]
          },
          "execution_count": 51,
          "metadata": {},
          "output_type": "execute_result"
        }
      ],
      "source": [
        "# torch.randn 함수를 사용하여 두 개의 3x3 텐서 a와 b의 행렬 곱셈을 수행\n",
        "a = torch.randn(3, 3)  # 3x3 텐서 생성\n",
        "b = torch.randn(3, 3)  # 3x3 텐서 생성\n",
        "tensor_matmul = torch.matmul(a, b)  # 행렬 곱셈 수행\n",
        "tensor_matmul  # 결과 출력"
      ]
    },
    {
      "cell_type": "markdown",
      "metadata": {
        "id": "zDYD87ibBS7y"
      },
      "source": [
        "- 두 텐서의 행렬 곱셈을 수행하는 방법을 실습합니다."
      ]
    },
    {
      "cell_type": "markdown",
      "metadata": {
        "id": "vl8DANmMBS7y"
      },
      "source": [
        "## 연습문제-02-011 텐서의 열 합 구하기\n",
        "- PyTorch에서 텐서의 열 또는 행에 대해 합을 구하는 방법을 실습합니다. sum() 함수와 dim 매개변수를 활용하여 간단히 합을 구할 수 있습니다."
      ]
    },
    {
      "cell_type": "code",
      "execution_count": null,
      "metadata": {
        "colab": {
          "base_uri": "https://localhost:8080/"
        },
        "id": "kqvQIX1ABS7z",
        "outputId": "51c88122-344b-48a2-b3d8-fb9637bbdc60"
      },
      "outputs": [
        {
          "data": {
            "text/plain": [
              "tensor([-1.0598, -1.5448, -0.3169])"
            ]
          },
          "execution_count": 52,
          "metadata": {},
          "output_type": "execute_result"
        }
      ],
      "source": [
        "# torch.randn 함수를 사용하여 생성된 3x3 텐서 tensor_3x3의 각 열의 합을 구함\n",
        "tensor_3x3 = torch.randn(3, 3)  # 3x3 텐서 생성\n",
        "tensor_sum = tensor_3x3.sum(dim=0)  # 각 열의 합 구하기\n",
        "tensor_sum  # 결과 출력"
      ]
    },
    {
      "cell_type": "markdown",
      "metadata": {
        "id": "D2nZRcemBS7z"
      },
      "source": [
        "- 텐서의 각 열에 대한 합을 구하는 방법을 실습합니다."
      ]
    },
    {
      "cell_type": "markdown",
      "metadata": {
        "id": "UBCdQ6Z2BS71"
      },
      "source": [
        "## 연습문제-02-012 텐서에서 최댓값과 위치 찾기\n",
        "- max() 및 argmax() 함수를 사용하여 텐서에서 가장 큰 값과 그 위치를 찾는 방법을 실습합니다."
      ]
    },
    {
      "cell_type": "code",
      "execution_count": null,
      "metadata": {
        "id": "Um8tNpukBS71"
      },
      "outputs": [],
      "source": [
        "# 3x3 텐서tensor_3x3에서 가장 큰 값과 그 위치를 찾음\n",
        "tensor_3x3 = torch.randn(3, 3)\n",
        "tensor_max_value, tensor_max_idx = tensor_3x3.max(), tensor_3x3.argmax()  # 최대값과 위치 찾기\n",
        "tensor_max_value, tensor_max_idx  # 결과 출력"
      ]
    },
    {
      "cell_type": "markdown",
      "metadata": {
        "id": "pwIcpwxVBS72"
      },
      "source": [
        "- 텐서에서 가장 큰 값과 그 값의 위치를 찾는 방법을 실습합니다."
      ]
    },
    {
      "cell_type": "markdown",
      "metadata": {
        "id": "oj5OJlTaBS72"
      },
      "source": [
        "---"
      ]
    },
    {
      "cell_type": "markdown",
      "metadata": {
        "id": "fjHYynf0BS72"
      },
      "source": [
        "# 3. 인공지능"
      ]
    },
    {
      "cell_type": "markdown",
      "metadata": {
        "id": "2QOouCTPBS72"
      },
      "source": [
        "## 03-001 모듈 및 Perceptron 설정\n",
        "- 이 실습에서는 PyTorch와 JAEN 라이브러리에서 필요한 모듈을 임포트하는 과정을 학습합니다. nn 모듈은 신경망 레이어를 정의하는 데 사용되며, Perceptron 모델과 활성화 함수를 시각화하는 유틸리티 함수인 plot_activation_function을 JAEN 패키지에서 가져옵니다."
      ]
    },
    {
      "cell_type": "code",
      "execution_count": null,
      "metadata": {
        "id": "xv4y_Z7kmkut"
      },
      "outputs": [],
      "source": [
        "%%capture\n",
        "!pip install JAEN torchinfo"
      ]
    },
    {
      "cell_type": "code",
      "execution_count": null,
      "metadata": {
        "id": "A21XyabDBS72"
      },
      "outputs": [],
      "source": [
        "# 모듈 설정\n",
        "import torch\n",
        "import torch.nn as nn\n",
        "\n",
        "from JAEN.models import Perceptron\n",
        "from JAEN.utils import plot_activation_function"
      ]
    },
    {
      "cell_type": "markdown",
      "metadata": {
        "id": "C0-vtTReBS72"
      },
      "source": [
        "- PyTorch와 JAEN 패키지에서 필요한 모듈을 설정하고, Perceptron 모델과 활성화 함수 시각화 함수를 불러오는 과정을 실습합니다."
      ]
    },
    {
      "cell_type": "markdown",
      "metadata": {
        "id": "CDrHdAm1BS73"
      },
      "source": [
        "## 03-002 AND 문제를 위한 입력과 출력 데이터 생성\n",
        "- 이 실습에서는 AND 논리 문제를 해결하기 위한 입력과 출력 데이터를 생성합니다. X는 두 개의 이진 입력으로 이루어진 2차원 텐서이고, y는 그에 대응하는 AND 연산의 출력값을 나타냅니다. torch.tensor()를 사용하여 입력과 출력을 정의합니다."
      ]
    },
    {
      "cell_type": "code",
      "execution_count": null,
      "metadata": {
        "id": "d3i-qA4tBS73"
      },
      "outputs": [],
      "source": [
        "# AND 문제에 사용할 입력과 출력 데이터 생성\n",
        "X = torch.tensor([[0.0, 0.0],\n",
        "                  [0.0, 1.0],\n",
        "                  [1.0, 0.0],\n",
        "                  [1.0, 1.0]])\n",
        "\n",
        "y = torch.tensor([[0.0],\n",
        "                  [0.0],\n",
        "                  [0.0],\n",
        "                  [1.0]])"
      ]
    },
    {
      "cell_type": "markdown",
      "metadata": {
        "id": "EnoWXDbBBS74"
      },
      "source": [
        "- AND 문제를 해결하기 위한 입력(X)과 출력(y) 데이터를 생성하는 과정을 실습합니다. 이 데이터는 논리 게이트 문제 해결에 자주 사용됩니다."
      ]
    },
    {
      "cell_type": "markdown",
      "metadata": {
        "id": "b6L4QaivBS74"
      },
      "source": [
        "## 03-003 AND 문제를 위한 단층 퍼셉트론 구성\n",
        "- 이 실습에서는 단층 퍼셉트론(Single Layer Perceptron)을 구성합니다. nn.Linear(2, 1)은 입력으로 2개의 값을 받아 1개의 출력값을 생성하는 선형 레이어를 의미합니다. 이후, Perceptron 클래스에 해당 레이어와 AND 문제의 입력(X) 및 출력(y)을 전달하여 퍼셉트론을 생성합니다."
      ]
    },
    {
      "cell_type": "code",
      "execution_count": null,
      "metadata": {
        "colab": {
          "base_uri": "https://localhost:8080/"
        },
        "id": "JwYQmiEUBS74",
        "outputId": "8653bcc7-6274-4b56-ba7b-f359361440fd"
      },
      "outputs": [
        {
          "name": "stdout",
          "output_type": "stream",
          "text": [
            "Epoch [2000/10000], Loss: 0.0818\n",
            "Epoch [4000/10000], Loss: 0.0431\n",
            "Epoch [6000/10000], Loss: 0.0290\n",
            "Epoch [8000/10000], Loss: 0.0218\n",
            "Epoch [10000/10000], Loss: 0.0175\n"
          ]
        }
      ],
      "source": [
        "# 단층 퍼셉트론 구성\n",
        "layer = nn.Linear(2, 1)  # 입력이 2개, 출력이 1개인 선형 레이어 (입력층 > 출력층)\n",
        "SLP = Perceptron(layer, X=X, y=y)"
      ]
    },
    {
      "cell_type": "markdown",
      "metadata": {
        "id": "oW3qyLtsBS74"
      },
      "source": [
        "- 입력과 출력 간의 선형 관계를 학습하는 단층 퍼셉트론을 구성하는 과정을 실습합니다. 입력은 2개, 출력은 1개로 설정됩니다."
      ]
    },
    {
      "cell_type": "markdown",
      "metadata": {
        "id": "jouxfFz2BS74"
      },
      "source": [
        "## 03-004 AND 문제를 위한 단층 퍼셉트론 결과 확인\n",
        "- 이 실습에서는 단층 퍼셉트론에 입력 데이터를 전달하여 그 결과를 확인하고, 출력값을 확인하는 과정을 학습합니다. 주어진 X를 입력으로 하여 퍼셉트론이 출력하는 값을 관찰합니다. 출력값은 논리 연산 문제에서 각 입력에 대해 퍼셉트론이 학습한 결과입니다."
      ]
    },
    {
      "cell_type": "code",
      "execution_count": null,
      "metadata": {
        "colab": {
          "base_uri": "https://localhost:8080/"
        },
        "id": "Y8FNtIi3BS79",
        "outputId": "e302e66c-f3c6-45ed-9254-4a9637c55616"
      },
      "outputs": [
        {
          "data": {
            "text/plain": [
              "tensor([[1.2528e-05],\n",
              "        [2.0281e-02],\n",
              "        [2.0281e-02],\n",
              "        [9.7159e-01]], grad_fn=<SigmoidBackward0>)"
            ]
          },
          "execution_count": 58,
          "metadata": {},
          "output_type": "execute_result"
        }
      ],
      "source": [
        "# 단층 퍼셉트론 결과 확인\n",
        "SLP(X)\n",
        "\n",
        "# 출력 결과\n",
        "# tensor([[1.2580e-05],\n",
        "#         [2.0308e-02],\n",
        "#         [2.0308e-02],\n",
        "#         [9.7156e-01]], grad_fn=<SigmoidBackward0>)"
      ]
    },
    {
      "cell_type": "markdown",
      "metadata": {
        "id": "7Y1WGs9HBS79"
      },
      "source": [
        "- 단층 퍼셉트론에 입력 데이터를 전달하여 예측 결과를 확인하는 과정을 실습합니다. 출력값은 퍼셉트론이 논리 연산 문제에 대해 학습한 결과를 보여줍니다."
      ]
    },
    {
      "cell_type": "markdown",
      "metadata": {
        "id": "tR0jSBoPBS7-"
      },
      "source": [
        "---"
      ]
    },
    {
      "cell_type": "markdown",
      "metadata": {
        "id": "_kIhAKbKBS7-"
      },
      "source": [
        "## 연습문제-03-001 OR 문제를 위한 입력과 출력 데이터 생성\n",
        "- 이 실습에서는 OR 논리 문제를 해결하기 위한 입력과 출력 데이터를 생성합니다. X는 두 개의 이진 입력으로 이루어진 2차원 텐서이고, y는 그에 대응하는 OR 연산의 출력값을 나타냅니다. torch.tensor()를 사용하여 입력과 출력을 정의합니다."
      ]
    },
    {
      "cell_type": "code",
      "execution_count": null,
      "metadata": {
        "id": "zOvX0FjuBS7-"
      },
      "outputs": [],
      "source": [
        "# OR 문제에 사용할 입력과 출력 데이터 생성\n",
        "X = torch.tensor([[0.0, 0.0],\n",
        "                  [0.0, 1.0],\n",
        "                  [1.0, 0.0],\n",
        "                  [1.0, 1.0]])\n",
        "\n",
        "y = torch.tensor([[0.0],\n",
        "                  [1.0],\n",
        "                  [1.0],\n",
        "                  [1.0]])"
      ]
    },
    {
      "cell_type": "markdown",
      "metadata": {
        "id": "IWjgHMWgBS7-"
      },
      "source": [
        "- OR 문제를 해결하기 위한 입력(X)과 출력(y) 데이터를 생성하는 과정을 실습합니다. 이 데이터는 논리 게이트 문제 해결에 자주 사용됩니다."
      ]
    },
    {
      "cell_type": "markdown",
      "metadata": {
        "id": "dDCne7C2BS7-"
      },
      "source": [
        "## 연습문제-03-002 OR 문제를 위한 단층 퍼셉트론 구성\n",
        "- 이 실습에서는 단층 퍼셉트론(Single Layer Perceptron)을 구성합니다. nn.Linear(2, 1)은 입력으로 2개의 값을 받아 1개의 출력값을 생성하는 선형 레이어를 의미합니다. 이후, Perceptron 클래스에 해당 레이어와 OR 문제의 입력(X) 및 출력(y)을 전달하여 퍼셉트론을 생성합니다."
      ]
    },
    {
      "cell_type": "code",
      "execution_count": null,
      "metadata": {
        "colab": {
          "base_uri": "https://localhost:8080/"
        },
        "id": "8pb3F9XYBS7-",
        "outputId": "4f2266b4-039c-4e37-bc93-6103891b7640"
      },
      "outputs": [
        {
          "name": "stdout",
          "output_type": "stream",
          "text": [
            "Epoch [2000/10000], Loss: 0.0458\n",
            "Epoch [4000/10000], Loss: 0.0233\n",
            "Epoch [6000/10000], Loss: 0.0155\n",
            "Epoch [8000/10000], Loss: 0.0116\n",
            "Epoch [10000/10000], Loss: 0.0092\n"
          ]
        }
      ],
      "source": [
        "# 단층 퍼셉트론 구성\n",
        "layer = nn.Linear(2, 1)  # 입력이 2개, 출력이 1개인 선형 레이어 (입력층 > 출력층)\n",
        "SLP = Perceptron(layer, X=X, y=y)"
      ]
    },
    {
      "cell_type": "markdown",
      "metadata": {
        "id": "grS4dynfBS7-"
      },
      "source": [
        "- 입력과 출력 간의 선형 관계를 학습하는 단층 퍼셉트론을 구성하는 과정을 실습합니다. 입력은 2개, 출력은 1개로 설정됩니다."
      ]
    },
    {
      "cell_type": "markdown",
      "metadata": {
        "id": "zJSTESrbBS7-"
      },
      "source": [
        "## 연습문제-03-003 OR 문제를 위한 단층 퍼셉트론 결과 확인\n",
        "- 이 실습에서는 단층 퍼셉트론에 입력 데이터를 전달하여 그 결과를 확인하고, 출력값을 확인하는 과정을 학습합니다. 주어진 X를 입력으로 하여 퍼셉트론이 출력하는 값을 관찰합니다. 출력값은 논리 연산 문제에서 각 입력에 대해 퍼셉트론이 학습한 결과입니다."
      ]
    },
    {
      "cell_type": "code",
      "execution_count": null,
      "metadata": {
        "colab": {
          "base_uri": "https://localhost:8080/"
        },
        "id": "_ybj4qnCBS7-",
        "outputId": "9399ae60-7af9-41aa-eac8-aee0966ea67d"
      },
      "outputs": [
        {
          "data": {
            "text/plain": [
              "tensor([[0.9918]], grad_fn=<SigmoidBackward0>)"
            ]
          },
          "execution_count": 63,
          "metadata": {},
          "output_type": "execute_result"
        }
      ],
      "source": [
        "# 단층 퍼셉트론 결과 확인\n",
        "SLP(torch.tensor([[1.0, 0.0]]))\n",
        "\n",
        "# 출력 결과 (예시)\n",
        "# tensor([[0.9918]], grad_fn=<SigmoidBackward0>)"
      ]
    },
    {
      "cell_type": "markdown",
      "metadata": {
        "id": "aBZSOkq8BS7_"
      },
      "source": [
        "- 단층 퍼셉트론에 입력 데이터를 전달하여 예측 결과를 확인하는 과정을 실습합니다. 출력값은 퍼셉트론이 논리 연산 문제에 대해 학습한 결과를 보여줍니다."
      ]
    },
    {
      "cell_type": "markdown",
      "metadata": {
        "id": "iA8GL37vBS7_"
      },
      "source": [
        "---"
      ]
    },
    {
      "cell_type": "markdown",
      "metadata": {
        "id": "ZFXiQzJNBS7_"
      },
      "source": [
        "## 03-005 XOR 문제를 위한 입력과 출력 데이터 생성\n",
        "- 이 실습에서는 XOR 논리 문제를 해결하기 위한 입력과 출력 데이터를 생성합니다. X는 두 개의 이진 입력으로 이루어진 2차원 텐서이고, y는 그에 대응하는 XOR 연산의 출력값을 나타냅니다. torch.tensor()를 사용하여 입력과 출력을 정의합니다."
      ]
    },
    {
      "cell_type": "code",
      "execution_count": null,
      "metadata": {
        "id": "nlLNw__6BS7_"
      },
      "outputs": [],
      "source": [
        "# XOR 문제에 사용할 입력과 출력 데이터 생성\n",
        "X = torch.tensor([[0.0, 0.0],\n",
        "                  [0.0, 1.0],\n",
        "                  [1.0, 0.0],\n",
        "                  [1.0, 1.0]])\n",
        "\n",
        "y = torch.tensor([[0.0],\n",
        "                  [1.0],\n",
        "                  [1.0],\n",
        "                  [0.0]])"
      ]
    },
    {
      "cell_type": "markdown",
      "metadata": {
        "id": "kOEpV-yNBS7_"
      },
      "source": [
        "- XOR 문제를 해결하기 위한 입력(X)과 출력(y) 데이터를 생성하는 과정을 실습합니다. XOR 문제는 퍼셉트론 모델로는 해결하기 어려운 비선형 문제입니다."
      ]
    },
    {
      "cell_type": "markdown",
      "metadata": {
        "id": "-zc9zfmpBS7_"
      },
      "source": [
        "## 03-006 XOR 문제를 위한 단층 퍼셉트론 구성\n",
        "- 이 실습에서는 XOR 문제에 대해 단층 퍼셉트론(Single Layer Perceptron)을 구성합니다. nn.Linear(2, 1)은 입력으로 2개의 값을 받아 1개의 출력값을 생성하는 선형 레이어를 의미하며, Perceptron 클래스에 해당 레이어와 XOR 문제의 입력(X) 및 출력(y)을 전달하여 퍼셉트론을 생성합니다."
      ]
    },
    {
      "cell_type": "code",
      "execution_count": null,
      "metadata": {
        "colab": {
          "base_uri": "https://localhost:8080/"
        },
        "id": "SjOwVfmWBS7_",
        "outputId": "6797998a-89d4-478d-d6a0-ef901c155787"
      },
      "outputs": [
        {
          "name": "stdout",
          "output_type": "stream",
          "text": [
            "Epoch [2000/10000], Loss: 0.6931\n",
            "Epoch [4000/10000], Loss: 0.6931\n",
            "Epoch [6000/10000], Loss: 0.6931\n",
            "Epoch [8000/10000], Loss: 0.6931\n",
            "Epoch [10000/10000], Loss: 0.6931\n"
          ]
        }
      ],
      "source": [
        "# 단층 퍼셉트론 구성\n",
        "layer = nn.Linear(2, 1)  # 입력이 2개, 출력이 1개인 선형 레이어 (입력층 > 출력층)\n",
        "SLP = Perceptron(layer, X=X, y=y)"
      ]
    },
    {
      "cell_type": "markdown",
      "metadata": {
        "id": "tMcutZytBS8A"
      },
      "source": [
        "- 입력과 출력 간의 선형 관계를 학습하는 단층 퍼셉트론을 구성하는 과정을 실습합니다. XOR 문제와 같이 비선형 문제에서는 단층 퍼셉트론이 잘 동작하지 않을 수 있습니다."
      ]
    },
    {
      "cell_type": "markdown",
      "metadata": {
        "id": "UHvHoPQtBS8A"
      },
      "source": [
        "## 03-007 XOR 문제를 위한 단층 퍼셉트론 결과 확인\n",
        "- 이 실습에서는 XOR 문제에 대해 단층 퍼셉트론의 출력 결과를 확인합니다. 주어진 입력 X를 퍼셉트론에 전달하여 예측된 값을 확인하고, 출력값이 각 입력에 대해 어떻게 계산되는지 살펴봅니다. 단층 퍼셉트론은 XOR 문제와 같은 비선형 문제에서 적절한 결과를 내기 어렵습니다."
      ]
    },
    {
      "cell_type": "code",
      "execution_count": null,
      "metadata": {
        "colab": {
          "base_uri": "https://localhost:8080/"
        },
        "id": "Ib7P70V5BS8A",
        "outputId": "f1cbdcfe-dbd4-4868-a736-d809f8e153c2"
      },
      "outputs": [
        {
          "data": {
            "text/plain": [
              "tensor([[0.5000],\n",
              "        [0.5000],\n",
              "        [0.5000],\n",
              "        [0.5000]], grad_fn=<SigmoidBackward0>)"
            ]
          },
          "execution_count": 72,
          "metadata": {},
          "output_type": "execute_result"
        }
      ],
      "source": [
        "# 단층 퍼셉트론 결과 확인\n",
        "SLP(X)\n",
        "\n",
        "# 출력결과\n",
        "# tensor([[0.5000],\n",
        "#         [0.5000],\n",
        "#         [0.5000],\n",
        "#         [0.5008]], grad_fn=<SigmoidBackward0>)"
      ]
    },
    {
      "cell_type": "markdown",
      "metadata": {
        "id": "XSxK77lXBS8A"
      },
      "source": [
        "- 단층 퍼셉트론에 XOR 문제의 입력 데이터를 전달하여 예측 결과를 확인하는 과정을 실습합니다. 출력 결과는 비선형 문제에서 단층 퍼셉트론의 한계를 보여줍니다."
      ]
    },
    {
      "cell_type": "markdown",
      "metadata": {
        "id": "nBW0RstUBS8A"
      },
      "source": [
        "## 03-008 다층 퍼셉트론 구성\n",
        "- 이 실습에서는 다층 퍼셉트론(Multilayer Perceptron, MLP)을 구성하는 방법을 학습합니다. nn.Linear(2, 3)은 입력이 2개, 출력이 3개인 은닉층을 정의하고, nn.Linear(3, 1)은 은닉층에서 3개의 입력을 받아 1개의 출력을 생성하는 출력층을 정의합니다. 이를 통해 XOR 문제와 같은 비선형 문제를 해결할 수 있는 MLP를 구성합니다."
      ]
    },
    {
      "cell_type": "code",
      "execution_count": null,
      "metadata": {
        "colab": {
          "base_uri": "https://localhost:8080/"
        },
        "id": "8xaHUy4eBS8A",
        "outputId": "1a95b41a-3992-40fc-89e4-eb3af659ecc2"
      },
      "outputs": [
        {
          "name": "stdout",
          "output_type": "stream",
          "text": [
            "Epoch [2000/10000], Loss: 0.6925\n",
            "Epoch [4000/10000], Loss: 0.6668\n",
            "Epoch [6000/10000], Loss: 0.1937\n",
            "Epoch [8000/10000], Loss: 0.0450\n",
            "Epoch [10000/10000], Loss: 0.0231\n"
          ]
        }
      ],
      "source": [
        "# 다층 퍼셉트론 구성\n",
        "layer1 = nn.Linear(2, 3)  # 입력이 2개, 출력이 3개인 선형 레이어 (입력층 > 은닉층)\n",
        "layer2 = nn.Linear(3, 1)  # 입력이 3개, 출력이 1개인 선형 레이어 (은닉층 > 출력층)\n",
        "MLP = Perceptron(layer1, layer2, X=X, y=y)"
      ]
    },
    {
      "cell_type": "markdown",
      "metadata": {
        "id": "B9xa4nQ1BS8A"
      },
      "source": [
        "- 다층 퍼셉트론을 구성하여 비선형 문제 해결에 적합한 네트워크 구조를 실습합니다. 은닉층이 추가되면 모델의 표현력이 향상됩니다."
      ]
    },
    {
      "cell_type": "markdown",
      "metadata": {
        "id": "zrZgEaYuBS8B"
      },
      "source": [
        "## 03-009 다층 퍼셉트론 결과 확인\n",
        "- 이 실습에서는 다층 퍼셉트론에 입력 데이터를 전달하여 예측 결과를 확인합니다. MLP는 XOR 문제와 같은 비선형 문제를 해결할 수 있도록 구성된 네트워크로, 입력 X에 대한 예측 결과를 출력합니다. 이 결과를 통해 MLP가 XOR 문제를 해결할 수 있음을 확인합니다."
      ]
    },
    {
      "cell_type": "code",
      "execution_count": null,
      "metadata": {
        "colab": {
          "base_uri": "https://localhost:8080/"
        },
        "id": "mAGvF1sHBS8B",
        "outputId": "de7c21c4-6025-409e-9cc6-c08637c6399d"
      },
      "outputs": [
        {
          "data": {
            "text/plain": [
              "tensor([[0.0223],\n",
              "        [0.9701],\n",
              "        [0.9858],\n",
              "        [0.0249]], grad_fn=<SigmoidBackward0>)"
            ]
          },
          "execution_count": 74,
          "metadata": {},
          "output_type": "execute_result"
        }
      ],
      "source": [
        "# 다층 퍼셉트론 결과 확인\n",
        "\n",
        "MLP(X)\n",
        "\n",
        "# 출력결과\n",
        "# tensor([[0.0223],\n",
        "#         [0.9701],\n",
        "#         [0.9858],\n",
        "#         [0.0249]], grad_fn=<SigmoidBackward0>)"
      ]
    },
    {
      "cell_type": "markdown",
      "metadata": {
        "id": "MLea3bIyBS8B"
      },
      "source": [
        "- 다층 퍼셉트론에 XOR 문제의 입력 데이터를 전달하여 예측 결과를 확인하는 과정을 실습합니다. 다층 퍼셉트론은 비선형 문제 해결에 유용한 모델입니다."
      ]
    },
    {
      "cell_type": "markdown",
      "metadata": {
        "id": "f2syv4lgBS8B"
      },
      "source": [
        "## 03-010 시그모이드 활성화 함수 구현 및 시각화\n",
        "- 이 실습에서는 시그모이드(sigmoid) 활성화 함수를 직접 구현하고, 해당 함수를 시각화하는 방법을 학습합니다. 시그모이드 함수는 입력값을 0과 1 사이의 값으로 변환하며, 뉴런의 활성화를 결정하는 데 사용됩니다. 이후, plot_activation_function() 함수를 사용하여 시그모이드 함수의 그래프를 시각화합니다."
      ]
    },
    {
      "cell_type": "code",
      "execution_count": null,
      "metadata": {
        "colab": {
          "base_uri": "https://localhost:8080/",
          "height": 368
        },
        "id": "WN1azxIvBS8B",
        "outputId": "fe1b2151-873f-4691-c886-71b50846ba0a"
      },
      "outputs": [
        {
          "data": {
            "image/png": "[encoded data removed]",
            "text/plain": [
              "<Figure size 600x400 with 1 Axes>"
            ]
          },
          "metadata": {},
          "output_type": "display_data"
        }
      ],
      "source": [
        "def sigmoid(x):\n",
        "    return 1 / (1 + torch.exp(-x))\n",
        "\n",
        "plot_activation_function(sigmoid)"
      ]
    },
    {
      "cell_type": "markdown",
      "metadata": {
        "id": "bULgM4FcBS8B"
      },
      "source": [
        "- 시그모이드 활성화 함수를 구현하고, 이를 시각화하는 과정을 실습합니다. 시그모이드 함수는 신경망에서 자주 사용되는 비선형 활성화 함수입니다."
      ]
    },
    {
      "cell_type": "markdown",
      "metadata": {
        "id": "Qt5nWqXWBS8B"
      },
      "source": [
        "## 03-011 Tanh 활성화 함수 구현 및 시각화\n",
        "- 이 실습에서는 하이퍼볼릭 탄젠트(Tanh) 활성화 함수를 직접 구현하고, 이를 시각화하는 방법을 학습합니다. Tanh 함수는 입력값을 -1과 1 사이로 변환하며, 시그모이드 함수보다 기울기가 더 큰 비선형 활성화 함수입니다. 이후, plot_activation_function() 함수를 사용하여 Tanh 함수의 그래프를 시각화합니다."
      ]
    },
    {
      "cell_type": "code",
      "execution_count": null,
      "metadata": {
        "colab": {
          "base_uri": "https://localhost:8080/",
          "height": 368
        },
        "id": "h9WsJEt3BS8C",
        "outputId": "1511fd80-0cb1-413c-84d8-4a2ca9e71d7a"
      },
      "outputs": [
        {
          "data": {
            "image/png": "[encoded data removed]",
            "text/plain": [
              "<Figure size 600x400 with 1 Axes>"
            ]
          },
          "metadata": {},
          "output_type": "display_data"
        }
      ],
      "source": [
        "def tanh(x):\n",
        "    return (torch.exp(x) - torch.exp(-x)) / (torch.exp(x) + torch.exp(-x))\n",
        "\n",
        "plot_activation_function(tanh)"
      ]
    },
    {
      "cell_type": "markdown",
      "metadata": {
        "id": "10BCIV13BS8C"
      },
      "source": [
        "- Tanh 활성화 함수를 구현하고, 이를 시각화하는 과정을 실습합니다. Tanh 함수는 신경망에서 자주 사용되는 비선형 활성화 함수로, 시그모이드 함수와 유사한 역할을 수행합니다."
      ]
    },
    {
      "cell_type": "markdown",
      "metadata": {
        "id": "1nf13_yhBS8C"
      },
      "source": [
        "## 03-012 ReLU 활성화 함수 구현 및 시각화\n",
        "- 이 실습에서는 ReLU(Rectified Linear Unit) 활성화 함수를 직접 구현하고, 이를 시각화하는 방법을 학습합니다. ReLU 함수는 입력값이 0보다 작으면 0을 출력하고, 0보다 크면 그 값을 그대로 출력하는 함수입니다. ReLU는 현재 딥러닝에서 가장 널리 사용되는 활성화 함수 중 하나입니다. 이후, plot_activation_function() 함수를 사용하여 ReLU 함수의 그래프를 시각화합니다."
      ]
    },
    {
      "cell_type": "code",
      "execution_count": null,
      "metadata": {
        "colab": {
          "base_uri": "https://localhost:8080/",
          "height": 368
        },
        "id": "Rekm7ZWUBS8C",
        "outputId": "07676561-9c8a-40e0-ae33-7c7e5ad1a2b5"
      },
      "outputs": [
        {
          "data": {
            "image/png": "[encoded data removed]",
            "text/plain": [
              "<Figure size 600x400 with 1 Axes>"
            ]
          },
          "metadata": {},
          "output_type": "display_data"
        }
      ],
      "source": [
        "def relu(x):\n",
        "    return torch.maximum(torch.tensor(0.0), x)\n",
        "\n",
        "plot_activation_function(relu)"
      ]
    },
    {
      "cell_type": "markdown",
      "metadata": {
        "id": "7n93EltYBS8C"
      },
      "source": [
        "- ReLU 활성화 함수를 구현하고, 이를 시각화하는 과정을 실습합니다. ReLU는 비선형성을 제공하며, 신경망 학습에서 중요한 역할을 합니다."
      ]
    },
    {
      "cell_type": "markdown",
      "metadata": {
        "id": "dCEYBEDfBS8C"
      },
      "source": [
        "## 03-013 Leaky ReLU 활성화 함수 구현 및 시각화\n",
        "- 이 실습에서는 Leaky ReLU 활성화 함수를 직접 구현하고, 이를 시각화하는 방법을 학습합니다. Leaky ReLU는 ReLU의 변형으로, 입력값이 0보다 작을 때도 작은 기울기(alpha 값)를 허용하여 죽은 뉴런 문제를 완화합니다. torch.where() 함수를 사용하여 양수일 때는 x를, 음수일 때는 alpha * x를 반환합니다."
      ]
    },
    {
      "cell_type": "code",
      "execution_count": null,
      "metadata": {
        "colab": {
          "base_uri": "https://localhost:8080/",
          "height": 368
        },
        "id": "4952_0E3BS8C",
        "outputId": "b5e1e4db-8b40-4dca-cff2-c3429d34998a"
      },
      "outputs": [
        {
          "data": {
            "image/png": "[encoded data removed]",
            "text/plain": [
              "<Figure size 600x400 with 1 Axes>"
            ]
          },
          "metadata": {},
          "output_type": "display_data"
        }
      ],
      "source": [
        "def leaky_relu(x, alpha=0.01):\n",
        "    return torch.where(x > 0, x, alpha * x)\n",
        "\n",
        "plot_activation_function(leaky_relu)"
      ]
    },
    {
      "cell_type": "markdown",
      "metadata": {
        "id": "NoL4Fyq7BS8C"
      },
      "source": [
        "- Leaky ReLU 활성화 함수를 구현하고, 이를 시각화하는 과정을 실습합니다. Leaky ReLU는 ReLU 함수의 단점을 보완한 활성화 함수로, 기울기 소실 문제를 줄이는 데 유용합니다."
      ]
    },
    {
      "cell_type": "markdown",
      "metadata": {
        "id": "Jbp9FkZoBS8C"
      },
      "source": [
        "## 03-014 ELU 활성화 함수 구현 및 시각화\n",
        "- 이 실습에서는 ELU(Exponential Linear Unit) 활성화 함수를 구현하고, 이를 시각화하는 방법을 학습합니다. ELU 함수는 ReLU와 유사하지만, 음수 값에 대해서는 exponential 함수를 사용해 부드러운 곡선을 제공합니다. alpha는 음수 구간에서의 기울기를 조정하는 매개변수입니다. torch.where()를 사용해 양수일 때는 x를, 음수일 때는 alpha * (torch.exp(x) - 1)을 반환합니다."
      ]
    },
    {
      "cell_type": "code",
      "execution_count": null,
      "metadata": {
        "colab": {
          "base_uri": "https://localhost:8080/",
          "height": 368
        },
        "id": "gMxiE4CwBS8D",
        "outputId": "4b83644e-2d25-4617-e518-567b9f57f702"
      },
      "outputs": [
        {
          "data": {
            "image/png": "[encoded data removed]",
            "text/plain": [
              "<Figure size 600x400 with 1 Axes>"
            ]
          },
          "metadata": {},
          "output_type": "display_data"
        }
      ],
      "source": [
        "def elu(x, alpha=1.0):\n",
        "    return torch.where(x > 0, x, alpha * (torch.exp(x) - 1))\n",
        "\n",
        "plot_activation_function(elu)"
      ]
    },
    {
      "cell_type": "markdown",
      "metadata": {
        "id": "ZsRYYJFDBS8D"
      },
      "source": [
        "- ELU 활성화 함수를 구현하고, 이를 시각화하는 과정을 실습합니다. ELU는 음수 구간에서 더 부드러운 비선형성을 제공하여 신경망 학습에서 유용하게 사용됩니다."
      ]
    },
    {
      "cell_type": "markdown",
      "metadata": {
        "id": "cY-hvNWABS8D"
      },
      "source": [
        "## 03-015 requires_grad=True로 설정된 텐서 생성\n",
        "- 이 실습에서는 텐서 생성 시 requires_grad=True로 설정하여 해당 텐서의 연산에 대한 기울기를 자동으로 계산하도록 지정하는 방법을 학습합니다. 이 설정을 통해 텐서가 연산 그래프에서 기울기(gradient)를 추적하게 되어 역전파(backpropagation)를 수행할 수 있습니다."
      ]
    },
    {
      "cell_type": "code",
      "execution_count": null,
      "metadata": {
        "colab": {
          "base_uri": "https://localhost:8080/"
        },
        "id": "HTqiDBdrBS8D",
        "outputId": "da6b8ea3-27cf-4c32-80bd-99b9d6e75e4d"
      },
      "outputs": [
        {
          "data": {
            "text/plain": [
              "tensor([2., 3.], requires_grad=True)"
            ]
          },
          "execution_count": 80,
          "metadata": {},
          "output_type": "execute_result"
        }
      ],
      "source": [
        "# requires_grad=True로 설정된 텐서 생성\n",
        "x = torch.tensor([2.0, 3.0], requires_grad=True)\n",
        "x"
      ]
    },
    {
      "cell_type": "markdown",
      "metadata": {
        "id": "SX-obA6NBS8D"
      },
      "source": [
        "- requires_grad=True 옵션을 사용하여 기울기 계산이 가능한 텐서를 생성하는 과정을 실습합니다. 이 옵션은 신경망 학습 과정에서 매우 중요한 역할을 합니다."
      ]
    },
    {
      "cell_type": "markdown",
      "metadata": {
        "id": "ozoxRV2zBS8D"
      },
      "source": [
        "## 03-016 텐서의 연산 및 역전파 수행\n",
        "- 이 실습에서는 텐서의 연산과 역전파를 수행하는 방법을 학습합니다. 텐서 x에 대해 제곱 연산을 수행하여 y를 구하고, y의 요소를 합산하여 z를 계산합니다. 이후, z.backward()를 호출하여 역전파를 수행하고, 텐서 x에 대한 기울기를 계산합니다."
      ]
    },
    {
      "cell_type": "code",
      "execution_count": null,
      "metadata": {
        "id": "6pVF0Xc_BS8D"
      },
      "outputs": [],
      "source": [
        "# 텐서의 연산\n",
        "y = x ** 2  # y = [4, 9]\n",
        "z = y.sum()  # z = 13\n",
        "\n",
        "# 역전파 수행\n",
        "z.backward()"
      ]
    },
    {
      "cell_type": "markdown",
      "metadata": {
        "id": "-kQxyoSdBS8E"
      },
      "source": [
        "- 텐서의 연산을 수행한 후, 역전파를 통해 기울기 계산을 수행하는 과정을 실습합니다. 역전파는 신경망 학습에서 기울기 업데이트에 중요한 역할을 합니다."
      ]
    },
    {
      "cell_type": "markdown",
      "metadata": {
        "id": "RYu--vUmBS8E"
      },
      "source": [
        "## 03-017 텐서의 기울기(gradient) 계산\n",
        "- 이 실습에서는 텐서 x에 대한 기울기(gradient)를 계산하는 방법을 학습합니다. z에 대해 역전파를 수행한 후, x.grad를 사용하여 z가 x에 대해 어떻게 변화하는지(편미분)를 계산합니다. 여기서 x1과 x2 각각에 대해 편미분한 결과는 tensor([4., 6.])입니다."
      ]
    },
    {
      "cell_type": "code",
      "execution_count": null,
      "metadata": {
        "colab": {
          "base_uri": "https://localhost:8080/"
        },
        "id": "50AdkISVBS8E",
        "outputId": "7787bcc1-2426-474c-c1de-d3047551bb2d"
      },
      "outputs": [
        {
          "data": {
            "text/plain": [
              "tensor([4., 6.])"
            ]
          },
          "execution_count": 82,
          "metadata": {},
          "output_type": "execute_result"
        }
      ],
      "source": [
        "# x에 대한 z의 그래디언트 (z가 x에 대해 어떻게 변화하는지를 계산, 편미분 수행)\n",
        "x.grad  # 출력: tensor([4., 6.])\n",
        "\n",
        "# z = x1^2 + x2^2\n",
        "# dz/dx1 = 2 * x1 = 2 * 2 = 4\n",
        "# dz/dx2 = 2 * x2 = 2 * 3 = 6"
      ]
    },
    {
      "cell_type": "markdown",
      "metadata": {
        "id": "oEIYXjt4BS8E"
      },
      "source": [
        "- 텐서의 기울기를 계산하고, 각 변수에 대한 편미분 결과를 확인하는 과정을 실습합니다. 기울기 계산은 신경망 학습에서 손실 함수의 변화를 분석하는 데 중요한 역할을 합니다."
      ]
    },
    {
      "cell_type": "markdown",
      "metadata": {
        "id": "Kd8UHxuHBS8E"
      },
      "source": [
        "## 03-018 DataLoader와 Dataset 모듈 임포트\n",
        "- 이 실습에서는 PyTorch의 DataLoader와 Dataset 모듈을 임포트하는 방법을 학습합니다. Dataset은 사용자 정의 데이터셋을 만들기 위한 기본 클래스이고, DataLoader는 이 데이터셋을 배치 단위로 로드하는 데 사용됩니다. 이 두 모듈은 대규모 데이터 처리를 효율적으로 수행할 수 있도록 도와줍니다."
      ]
    },
    {
      "cell_type": "code",
      "execution_count": null,
      "metadata": {
        "id": "BZTJjNlsBS8F"
      },
      "outputs": [],
      "source": [
        "import torch\n",
        "from torch.utils.data import DataLoader, Dataset"
      ]
    },
    {
      "cell_type": "markdown",
      "metadata": {
        "id": "Aoh8yCiJBS8G"
      },
      "source": [
        "- PyTorch의 데이터 처리를 위한 기본 모듈인 DataLoader와 Dataset을 임포트하는 과정을 실습합니다. 이를 통해 효율적인 데이터 로딩과 배치 처리를 수행할 수 있습니다."
      ]
    },
    {
      "cell_type": "markdown",
      "metadata": {
        "id": "8TBzn7rsBS8G"
      },
      "source": [
        "## 03-019 커스텀 데이터셋 클래스 구현\n",
        "- 이 실습에서는 PyTorch의 Dataset 클래스를 상속하여 커스텀 데이터셋을 만드는 방법을 학습합니다. CustomDataset 클래스는 데이터와 레이블을 받아 저장하고, __len__() 메서드는 데이터셋의 크기를 반환하며, __getitem__() 메서드는 인덱스에 해당하는 데이터를 반환합니다. 이를 통해 사용자는 자신만의 데이터셋을 정의하고 DataLoader로 쉽게 처리할 수 있습니다."
      ]
    },
    {
      "cell_type": "code",
      "execution_count": null,
      "metadata": {
        "id": "Z7QbhipnBS8G"
      },
      "outputs": [],
      "source": [
        "class CustomDataset(Dataset):\n",
        "    def __init__(self, data, labels):\n",
        "        self.data = data\n",
        "        self.labels = labels\n",
        "\n",
        "    def __len__(self):\n",
        "        return len(self.data)\n",
        "\n",
        "    def __getitem__(self, idx):\n",
        "        x = self.data[idx]\n",
        "        y = self.labels[idx]\n",
        "        return x, y"
      ]
    },
    {
      "cell_type": "markdown",
      "metadata": {
        "id": "Esd4p-GOBS8G"
      },
      "source": [
        "- Dataset 클래스를 상속하여 커스텀 데이터셋을 정의하는 과정을 실습합니다. 이 과정은 맞춤형 데이터셋을 PyTorch 모델에 전달할 때 유용합니다."
      ]
    },
    {
      "cell_type": "markdown",
      "metadata": {
        "id": "UdtdxjebBS8G"
      },
      "source": [
        "## 03-020 커스텀 데이터셋과 DataLoader 생성\n",
        "- 이 실습에서는 예시 데이터를 사용하여 커스텀 데이터셋과 DataLoader를 생성하는 방법을 학습합니다. 100개의 샘플로 구성된 3차원 벡터 데이터를 생성하고, 이에 대응하는 이진 레이블을 만듭니다. 그런 다음, CustomDataset 클래스를 사용하여 데이터셋을 만들고, DataLoader를 통해 데이터를 배치 단위로 로드할 수 있도록 설정합니다."
      ]
    },
    {
      "cell_type": "code",
      "execution_count": null,
      "metadata": {
        "id": "EaX3Tp1ABS8G"
      },
      "outputs": [],
      "source": [
        "# 예시 데이터\n",
        "data = torch.randn(100, 3)  # 100개의 샘플, 각 샘플은 3차원 벡터\n",
        "labels = torch.randint(0, 2, (100,))  # 이진 분류를 위한 100개의 레이블\n",
        "\n",
        "# 데이터셋 및 DataLoader 생성\n",
        "dataset = CustomDataset(data, labels)\n",
        "dataloader = DataLoader(dataset, batch_size=3)"
      ]
    },
    {
      "cell_type": "markdown",
      "metadata": {
        "id": "2KX8AJESBS8G"
      },
      "source": [
        "- 예시 데이터를 사용해 커스텀 데이터셋과 DataLoader를 생성하고, 데이터를 배치 단위로 로드하는 과정을 실습합니다. 이 과정은 대규모 데이터셋을 효율적으로 처리할 때 필수적입니다."
      ]
    },
    {
      "cell_type": "markdown",
      "metadata": {
        "id": "UNEPgkKiBS8G"
      },
      "source": [
        "## 03-021 DataLoader에서 배치 조회\n",
        "- 이 실습에서는 DataLoader에서 로드된 데이터를 배치 단위로 조회하는 방법을 학습합니다. DataLoader를 리스트로 변환하여 각 배치를 확인할 수 있으며, 첫 번째 배치를 조회하여 해당 배치의 데이터와 레이블을 확인합니다. 이를 통해 데이터셋에서 배치 단위로 데이터를 쉽게 가져올 수 있습니다."
      ]
    },
    {
      "cell_type": "code",
      "execution_count": null,
      "metadata": {
        "colab": {
          "base_uri": "https://localhost:8080/"
        },
        "id": "fZ2Xz71PBS8H",
        "outputId": "6fcb47ba-bbcc-48ca-93fe-f4824bdf0e6e"
      },
      "outputs": [
        {
          "data": {
            "text/plain": [
              "(tensor([[ 1.9269,  1.4873,  0.9007],\n",
              "         [-2.1055,  0.6784, -1.2345],\n",
              "         [-0.0431, -1.6047, -0.7521]]),\n",
              " tensor([0, 0, 0]))"
            ]
          },
          "execution_count": 86,
          "metadata": {},
          "output_type": "execute_result"
        }
      ],
      "source": [
        "# DataLoader에서 모든 배치를 리스트로 변환\n",
        "all_batches = list(dataloader)\n",
        "batch_data, batch_labels = all_batches[0]  # 첫번째 배치 조회\n",
        "batch_data, batch_labels"
      ]
    },
    {
      "cell_type": "markdown",
      "metadata": {
        "id": "ebAcjUxMBS8H"
      },
      "source": [
        "- DataLoader에서 로드된 데이터를 배치 단위로 조회하고, 첫 번째 배치의 데이터를 확인하는 과정을 실습합니다. 배치 처리는 신경망 학습에서 중요한 역할을 합니다."
      ]
    },
    {
      "cell_type": "markdown",
      "metadata": {
        "id": "ZtjYiR_ABS8H"
      },
      "source": [
        "## 03-022 DataLoader에서 마지막 배치 조회\n",
        "- 이 실습에서는 DataLoader에서 마지막 배치를 조회하는 방법을 학습합니다. 리스트의 음수 인덱스를 사용하여 마지막 배치를 가져올 수 있으며, 이를 통해 해당 배치의 데이터와 레이블을 확인할 수 있습니다. 마지막 배치는 전체 데이터셋의 크기와 배치 크기에 따라 일부 요소만 포함될 수 있습니다."
      ]
    },
    {
      "cell_type": "code",
      "execution_count": null,
      "metadata": {
        "colab": {
          "base_uri": "https://localhost:8080/"
        },
        "id": "G80u4xf7BS8H",
        "outputId": "c45ff824-9a35-46b7-9521-70757e524625"
      },
      "outputs": [
        {
          "data": {
            "text/plain": [
              "(tensor([[-2.1268, -0.1341, -1.0408]]), tensor([0]))"
            ]
          },
          "execution_count": 87,
          "metadata": {},
          "output_type": "execute_result"
        }
      ],
      "source": [
        "batch_data, batch_labels = all_batches[-1]  # 마지막 배치 조회\n",
        "batch_data, batch_labels"
      ]
    },
    {
      "cell_type": "markdown",
      "metadata": {
        "id": "qA7KexyrBS8H"
      },
      "source": [
        "- DataLoader에서 마지막 배치를 조회하고, 해당 배치의 데이터를 확인하는 과정을 실습합니다. 이는 배치 처리에서 특정한 위치의 데이터를 조회할 때 유용합니다."
      ]
    },
    {
      "cell_type": "markdown",
      "metadata": {
        "id": "UblMBRShBS8H"
      },
      "source": [
        "## 03-023 DataLoader에서 변경된 배치 크기로 마지막 배치 조회\n",
        "- 이 실습에서는 DataLoader의 배치 크기를 변경한 후, 마지막 배치를 조회하는 방법을 학습합니다. 배치 크기를 7로 설정하여 DataLoader에서 데이터를 로드한 뒤, 마지막 배치를 확인합니다. 변경된 배치 크기는 전체 데이터셋을 나누는 방식에 영향을 미치며, 마지막 배치의 크기는 나머지 데이터에 따라 달라질 수 있습니다."
      ]
    },
    {
      "cell_type": "code",
      "execution_count": null,
      "metadata": {
        "colab": {
          "base_uri": "https://localhost:8080/"
        },
        "id": "AnBXgFD6BS8H",
        "outputId": "0eab0a6b-c81d-4265-d36d-735131795d34"
      },
      "outputs": [
        {
          "data": {
            "text/plain": [
              "(tensor([[-0.1882, -0.7712,  0.1799],\n",
              "         [-2.1268, -0.1341, -1.0408]]),\n",
              " tensor([0, 0]))"
            ]
          },
          "execution_count": 92,
          "metadata": {},
          "output_type": "execute_result"
        }
      ],
      "source": [
        "dataloader = DataLoader(dataset, batch_size=7)\n",
        "all_batches = list(dataloader)\n",
        "batch_data, batch_labels = all_batches[-1]  # 마지막 배치 조회\n",
        "batch_data, batch_labels"
      ]
    },
    {
      "cell_type": "markdown",
      "metadata": {
        "id": "Km02HuEZBS8I"
      },
      "source": [
        "- DataLoader의 배치 크기를 변경한 후, 마지막 배치를 조회하여 해당 데이터를 확인하는 과정을 실습합니다. 이는 배치 크기에 따른 데이터 처리의 변화를 이해하는 데 유용합니다."
      ]
    },
    {
      "cell_type": "markdown",
      "metadata": {
        "id": "v92IWzvaBS8I"
      },
      "source": [
        "## 03-024 셔플된 DataLoader에서 마지막 배치 조회\n",
        "- 이 실습에서는 DataLoader에서 데이터를 셔플한 후 마지막 배치를 조회하는 방법을 학습합니다. DataLoader의 shuffle=True 옵션을 사용하여 데이터를 무작위로 섞은 뒤, 배치 크기를 7로 설정하여 데이터를 로드합니다. 이후, 마지막 배치를 조회하여 셔플된 데이터가 제대로 처리되는지 확인합니다."
      ]
    },
    {
      "cell_type": "code",
      "execution_count": null,
      "metadata": {
        "colab": {
          "base_uri": "https://localhost:8080/"
        },
        "id": "JNCUZy0rBS8I",
        "outputId": "93bda608-9dbf-467f-ece6-56d92ce2c61a"
      },
      "outputs": [
        {
          "data": {
            "text/plain": [
              "(tensor([[-0.3370, -1.1753,  0.3581],\n",
              "         [ 0.0579,  1.1930,  1.9373]]),\n",
              " tensor([1, 1]))"
            ]
          },
          "execution_count": 93,
          "metadata": {},
          "output_type": "execute_result"
        }
      ],
      "source": [
        "dataloader = DataLoader(dataset, batch_size=7, shuffle=True)\n",
        "all_batches = list(dataloader)\n",
        "batch_data, batch_labels = all_batches[-1]  # 마지막 배치 조회\n",
        "batch_data, batch_labels"
      ]
    },
    {
      "cell_type": "markdown",
      "metadata": {
        "id": "NsZE6aerBS8I"
      },
      "source": [
        "- 셔플된 DataLoader에서 마지막 배치를 조회하여 데이터를 확인하는 과정을 실습합니다. 셔플은 모델 학습 시 데이터의 순서에 의한 편향을 줄이는 데 유용합니다."
      ]
    },
    {
      "cell_type": "markdown",
      "metadata": {
        "id": "ZJizLxYMBS8I"
      },
      "source": [
        "## 03-025 마지막 배치를 버리는 DataLoader에서 마지막 배치 조회\n",
        "- 이 실습에서는 DataLoader에서 배치 크기에 맞지 않는 마지막 배치를 버린 후 남은 마지막 배치를 조회하는 방법을 학습합니다. drop_last=True 옵션을 사용하여 전체 데이터셋에서 남는 데이터가 있을 경우 이를 버리고, 나머지 데이터를 배치로 처리하지 않도록 설정합니다. 이후, 마지막 배치를 조회하여 데이터를 확인합니다."
      ]
    },
    {
      "cell_type": "code",
      "execution_count": null,
      "metadata": {
        "colab": {
          "base_uri": "https://localhost:8080/"
        },
        "id": "-_pJpGeXBS8I",
        "outputId": "67b9f77d-5e49-4675-ff5a-8ec75d8183a0"
      },
      "outputs": [
        {
          "data": {
            "text/plain": [
              "(tensor([[ 0.0912, -0.3891,  0.5279],\n",
              "         [-0.2516,  0.8599, -1.3847],\n",
              "         [ 0.0523, -1.5469,  0.7567],\n",
              "         [ 1.3835,  1.4451,  0.8564],\n",
              "         [ 0.4788,  1.3537,  0.5261],\n",
              "         [-0.8712, -0.2234,  1.7174],\n",
              "         [-0.7746, -1.5576,  0.9956]]),\n",
              " tensor([0, 0, 1, 0, 1, 0, 1]))"
            ]
          },
          "execution_count": 94,
          "metadata": {},
          "output_type": "execute_result"
        }
      ],
      "source": [
        "dataloader = DataLoader(dataset, batch_size=7, shuffle=True, drop_last=True)\n",
        "all_batches = list(dataloader)\n",
        "batch_data, batch_labels = all_batches[-1]  # 마지막 배치 조회\n",
        "batch_data, batch_labels"
      ]
    },
    {
      "cell_type": "markdown",
      "metadata": {
        "id": "9Vi_t-4vBS8I"
      },
      "source": [
        "- DataLoader에서 drop_last=True 옵션을 사용하여 마지막 남은 데이터를 버린 후, 남은 마지막 배치를 조회하는 과정을 실습합니다. 이는 특정 배치 크기에 맞추어 데이터를 균일하게 처리할 때 유용합니다."
      ]
    },
    {
      "cell_type": "markdown",
      "metadata": {
        "id": "zYshhRyoBS8I"
      },
      "source": [
        "---"
      ]
    },
    {
      "cell_type": "markdown",
      "metadata": {
        "id": "xuYs31n1BS8I"
      },
      "source": [
        "## 연습문제-03-004 커스텀 데이터셋과 DataLoader 생성\n",
        "- 이 실습에서는 150개의 샘플과 3개의 클래스 레이블을 가진 새로운 랜덤 데이터를 사용하여 커스텀 데이터셋을 생성하고, DataLoader를 설정하는 방법을 학습합니다. 데이터셋은 4차원 벡터로 구성되며, 이 데이터를 DataLoader를 통해 배치 단위로 처리할 수 있습니다."
      ]
    },
    {
      "cell_type": "code",
      "execution_count": null,
      "metadata": {
        "id": "W4XG7JM4BS8I"
      },
      "outputs": [],
      "source": [
        "# 새로운 랜덤 데이터 생성\n",
        "data = torch.randn(150, 4)  # 150개의 샘플, 각 샘플은 4차원 벡터\n",
        "labels = torch.randint(0, 3, (150,))  # 3개의 클래스로 분류되는 150개의 레이블\n",
        "\n",
        "# 커스텀 데이터셋과 DataLoader 생성\n",
        "# 커스텀 데이터셋 클래스는 03-019 재활용\n",
        "dataset = CustomDataset(data, labels)\n",
        "\n",
        "# 미니 배치 크기는 5\n",
        "dataloader = DataLoader(dataset, batch_size=5)"
      ]
    },
    {
      "cell_type": "markdown",
      "metadata": {
        "id": "B6ZQ41VFBS8I"
      },
      "source": [
        "- 새로운 랜덤 데이터를 사용해 커스텀 데이터셋과 DataLoader를 생성하고, 데이터를 배치 단위로 로드하는 방법을 실습합니다."
      ]
    },
    {
      "cell_type": "markdown",
      "metadata": {
        "id": "XIQrwmzuBS8I"
      },
      "source": [
        "## 연습문제-03-005 DataLoader에서 배치 조회\n",
        "- 이 실습에서는 새로운 랜덤 데이터로 생성한 DataLoader에서 첫 번째 배치를 조회하는 방법을 학습합니다. 리스트로 변환된 DataLoader에서 첫 번째 배치의 데이터를 가져와 출력합니다."
      ]
    },
    {
      "cell_type": "code",
      "execution_count": null,
      "metadata": {
        "colab": {
          "base_uri": "https://localhost:8080/"
        },
        "id": "3CBuSCdDBS8J",
        "outputId": "0fce7d2d-ddb3-43bc-c10e-f9cb1618e22c"
      },
      "outputs": [
        {
          "data": {
            "text/plain": [
              "(tensor([[ 0.7204,  1.4701, -1.1215,  2.1004],\n",
              "         [ 2.3664, -0.6323, -0.3615, -1.6917],\n",
              "         [-0.5824,  1.3500,  0.2778,  0.0916],\n",
              "         [ 1.5164, -0.4389, -0.3999, -1.3291],\n",
              "         [-0.3646,  0.0872,  1.1225,  0.0980]]),\n",
              " tensor([0, 1, 2, 0, 0]))"
            ]
          },
          "execution_count": 96,
          "metadata": {},
          "output_type": "execute_result"
        }
      ],
      "source": [
        "# DataLoader에서 모든 배치를 리스트로 변환\n",
        "all_batches = list(dataloader)\n",
        "\n",
        "# 첫 번째 배치 조회\n",
        "batch_data, batch_labels = all_batches[0]  # 첫번째 배치의 데이터와 레이블 조회\n",
        "batch_data, batch_labels"
      ]
    },
    {
      "cell_type": "markdown",
      "metadata": {
        "id": "h-2dqvKoBS8J"
      },
      "source": [
        "- DataLoader에서 새로운 랜덤 데이터를 사용하여 첫 번째 배치의 데이터를 확인하는 방법을 실습합니다."
      ]
    },
    {
      "cell_type": "markdown",
      "metadata": {
        "id": "yStcjXARBS8J"
      },
      "source": [
        "## 연습문제-03-006 DataLoader에서 마지막 배치 조회 (새로운 배치 크기)\n",
        "- 이 실습에서는 DataLoader의 배치 크기를 7로 설정하여 마지막 배치를 조회하는 방법을 학습합니다. 배치 크기가 변경됨에 따라 마지막 배치의 데이터가 어떻게 구성되는지 확인합니다."
      ]
    },
    {
      "cell_type": "code",
      "execution_count": null,
      "metadata": {
        "colab": {
          "base_uri": "https://localhost:8080/"
        },
        "id": "ravzE1MiBS8J",
        "outputId": "ccfa974a-58a7-4c0a-8c8f-fcc3a87371c3"
      },
      "outputs": [
        {
          "data": {
            "text/plain": [
              "(tensor([[ 2.9100e-01, -7.9642e-02,  1.3200e+00, -1.5197e+00],\n",
              "         [-2.9336e-01,  2.1066e+00, -1.0875e-01,  6.0834e-01],\n",
              "         [ 7.8943e-01,  7.8247e-01, -6.4659e-02, -2.3021e-04]]),\n",
              " tensor([2, 1, 2]))"
            ]
          },
          "execution_count": 98,
          "metadata": {},
          "output_type": "execute_result"
        }
      ],
      "source": [
        "# DataLoader에서 배치 크기를 7로 설정\n",
        "dataloader = DataLoader(dataset, batch_size=7)\n",
        "\n",
        "# DataLoader에서 마지막 배치 조회\n",
        "all_batches = list(dataloader)\n",
        "batch_data, batch_labels = all_batches[-1]  # 마지막 배치의 데이터와 레이블 조회\n",
        "batch_data, batch_labels"
      ]
    },
    {
      "cell_type": "markdown",
      "metadata": {
        "id": "kGaJJJ91BS8J"
      },
      "source": [
        "- 배치 크기를 7로 설정한 DataLoader에서 마지막 배치를 조회하는 방법을 실습합니다."
      ]
    },
    {
      "cell_type": "markdown",
      "metadata": {
        "id": "T6oyhl36BS8J"
      },
      "source": [
        "## 연습문제-03-007 셔플된 DataLoader에서 마지막 배치 조회\n",
        "- 이 실습에서는 DataLoader에서 데이터를 셔플한 후 마지막 배치를 조회하는 방법을 학습합니다. shuffle=True 옵션을 사용하여 데이터를 무작위로 섞어 로드하고, 마지막 배치를 조회하여 셔플된 데이터를 확인합니다."
      ]
    },
    {
      "cell_type": "code",
      "execution_count": null,
      "metadata": {
        "colab": {
          "base_uri": "https://localhost:8080/"
        },
        "id": "2M6Zvj4SBS8J",
        "outputId": "5a2af405-a226-4fb4-e608-199a238daf2e"
      },
      "outputs": [
        {
          "data": {
            "text/plain": [
              "(tensor([[ 1.2460e+00, -8.6473e-01, -8.4755e-01, -2.3523e-02],\n",
              "         [ 7.8943e-01,  7.8247e-01, -6.4659e-02, -2.3021e-04],\n",
              "         [ 1.3071e-01,  1.7127e+00,  6.4644e-01,  1.3794e-01]]),\n",
              " tensor([0, 2, 0]))"
            ]
          },
          "execution_count": 99,
          "metadata": {},
          "output_type": "execute_result"
        }
      ],
      "source": [
        "# DataLoader에서 shuffle=True로 설정하여 셔플된 데이터 로드\n",
        "dataloader = DataLoader(dataset, batch_size=7, shuffle=True)\n",
        "\n",
        "# 셔플된 DataLoader에서 마지막 배치 조회\n",
        "all_batches = list(dataloader)\n",
        "batch_data, batch_labels = all_batches[-1]  # 마지막 배치의 데이터와 레이블 조회\n",
        "batch_data, batch_labels"
      ]
    },
    {
      "cell_type": "markdown",
      "metadata": {
        "id": "WBEbrQjVBS8J"
      },
      "source": [
        "- 셔플된 DataLoader에서 마지막 배치를 조회하여 데이터를 확인하는 과정을 실습합니다."
      ]
    },
    {
      "cell_type": "markdown",
      "metadata": {
        "id": "2XL6JwkNBS8K"
      },
      "source": [
        "## 연습문제-03-008 셔플되지 않은 DataLoader에서 마지막 배치 조회\n",
        "- 이 실습에서는 shuffle=False로 설정된 DataLoader에서 마지막 배치를 조회하는 방법을 학습합니다. 데이터가 셔플되지 않은 상태에서 로드된 마지막 배치를 확인합니다."
      ]
    },
    {
      "cell_type": "code",
      "execution_count": null,
      "metadata": {
        "colab": {
          "base_uri": "https://localhost:8080/"
        },
        "id": "NuZ9dCgOBS8K",
        "outputId": "1c4802e6-0e25-4a4e-d5e8-5cfb79a244b8"
      },
      "outputs": [
        {
          "data": {
            "text/plain": [
              "(tensor([[ 2.9100e-01, -7.9642e-02,  1.3200e+00, -1.5197e+00],\n",
              "         [-2.9336e-01,  2.1066e+00, -1.0875e-01,  6.0834e-01],\n",
              "         [ 7.8943e-01,  7.8247e-01, -6.4659e-02, -2.3021e-04]]),\n",
              " tensor([2, 1, 2]))"
            ]
          },
          "execution_count": 100,
          "metadata": {},
          "output_type": "execute_result"
        }
      ],
      "source": [
        "# DataLoader에서 shuffle=False 설정하여 셔플된 데이터 로드\n",
        "dataloader = DataLoader(dataset, batch_size=7, shuffle=False)\n",
        "\n",
        "# 셔플되지 않은 DataLoader에서 마지막 배치 조회\n",
        "all_batches = list(dataloader)\n",
        "batch_data, batch_labels = all_batches[-1]  # 마지막 배치의 데이터와 레이블 조회\n",
        "batch_data, batch_labels"
      ]
    },
    {
      "cell_type": "markdown",
      "metadata": {
        "id": "R2-sHSbnBS8K"
      },
      "source": [
        "- 셔플되지 않은 DataLoader에서 마지막 배치를 조회하고, 데이터를 확인하는 방법을 실습합니다."
      ]
    }
  ],
  "metadata": {
    "colab": {
      "provenance": [],
      "include_colab_link": true
    },
    "kernelspec": {
      "display_name": "Python 3 (ipykernel)",
      "language": "python",
      "name": "python3"
    },
    "language_info": {
      "codemirror_mode": {
        "name": "ipython",
        "version": 3
      },
      "file_extension": ".py",
      "mimetype": "text/x-python",
      "name": "python",
      "nbconvert_exporter": "python",
      "pygments_lexer": "ipython3",
      "version": "3.10.14"
    }
  },
  "nbformat": 4,
  "nbformat_minor": 0
}