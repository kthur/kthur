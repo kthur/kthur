{
  "cells": [
    {
      "cell_type": "markdown",
      "metadata": {
        "id": "view-in-github",
        "colab_type": "text"
      },
      "source": [
        "<a href=\"https://colab.research.google.com/github/kthur/kthur/blob/master/%5BAI_Essential%5D_1028_2%EC%9D%BC%EC%B0%A8_%EC%8B%A4%EC%8A%B5_%EC%BD%94%EB%93%9C.ipynb\" target=\"_parent\"><img src=\"https://colab.research.google.com/assets/colab-badge.svg\" alt=\"Open In Colab\"/></a>"
      ]
    },
    {
      "cell_type": "markdown",
      "metadata": {
        "id": "8ogSSMIydpB7"
      },
      "source": [
        "# 2일차 실습 코드"
      ]
    },
    {
      "cell_type": "code",
      "execution_count": null,
      "metadata": {
        "id": "i6bqWeH0dpB8"
      },
      "outputs": [],
      "source": [
        "%%capture\n",
        "pip install JAEN"
      ]
    },
    {
      "cell_type": "code",
      "execution_count": null,
      "metadata": {
        "id": "WtHC2JiLdpB8"
      },
      "outputs": [],
      "source": [
        "import torch"
      ]
    },
    {
      "cell_type": "markdown",
      "metadata": {
        "id": "mHCQUh1pdpB8"
      },
      "source": [
        "## 03-015 requires_grad=True로 설정된 텐서 생성"
      ]
    },
    {
      "cell_type": "code",
      "execution_count": null,
      "metadata": {
        "id": "hotfRYcCdpB9",
        "outputId": "45b870c8-7ecd-4dce-e7d0-3f395d2ec46c"
      },
      "outputs": [
        {
          "data": {
            "text/plain": [
              "tensor([2., 3.], requires_grad=True)"
            ]
          },
          "metadata": {},
          "output_type": "display_data"
        }
      ],
      "source": [
        "# requires_grad=True로 설정된 텐서 생성\n",
        "x = torch.tensor([2.0, 3.0], requires_grad=True)\n",
        "x"
      ]
    },
    {
      "cell_type": "markdown",
      "metadata": {
        "id": "ZVjT8Gg2dpB9"
      },
      "source": [
        "## 03-016 텐서의 연산 및 역전파 수행"
      ]
    },
    {
      "cell_type": "code",
      "execution_count": null,
      "metadata": {
        "id": "fxniUF1AdpB9"
      },
      "outputs": [],
      "source": [
        "# 텐서의 연산\n",
        "y = x ** 2  # y = [4, 9]\n",
        "z = y.sum()  # z = 13\n",
        "\n",
        "# 역전파 수행\n",
        "z.backward()"
      ]
    },
    {
      "cell_type": "markdown",
      "metadata": {
        "id": "lq7NUprmdpB9"
      },
      "source": [
        "## 03-017 텐서의 기울기(gradient) 계산"
      ]
    },
    {
      "cell_type": "code",
      "execution_count": null,
      "metadata": {
        "id": "wKhCTIE2dpB-",
        "outputId": "2340bea2-78aa-43c5-a963-6ec4ef79aab0"
      },
      "outputs": [
        {
          "data": {
            "text/plain": [
              "tensor([4., 6.])"
            ]
          },
          "metadata": {},
          "output_type": "display_data"
        }
      ],
      "source": [
        "# x에 대한 z의 그래디언트 (z가 x에 대해 어떻게 변화하는지를 계산, 편미분 수행)\n",
        "x.grad  # 출력: tensor([4., 6.])\n",
        "\n",
        "# z = x1^2 + x2^2\n",
        "# dz/dx1 = 2 * x1 = 2 * 2 = 4\n",
        "# dz/dx2 = 2 * x2 = 2 * 3 = 6"
      ]
    },
    {
      "cell_type": "markdown",
      "metadata": {
        "id": "8wNCJ26JdpB-"
      },
      "source": [
        "## 03-018 DataLoader와 Dataset 모듈 임포트"
      ]
    },
    {
      "cell_type": "code",
      "execution_count": null,
      "metadata": {
        "id": "_GkPjfG3dpB-"
      },
      "outputs": [],
      "source": [
        "import torch\n",
        "from torch.utils.data import DataLoader, Dataset"
      ]
    },
    {
      "cell_type": "markdown",
      "metadata": {
        "id": "ZZYWyPH4dpB-"
      },
      "source": [
        "## 03-019 커스텀 데이터셋 클래스 구현"
      ]
    },
    {
      "cell_type": "code",
      "execution_count": null,
      "metadata": {
        "id": "vW9HsshBdpB-"
      },
      "outputs": [],
      "source": [
        "class CustomDataset(Dataset):\n",
        "    def __init__(self, data, labels):\n",
        "        self.data = data\n",
        "        self.labels = labels\n",
        "\n",
        "    def __len__(self):\n",
        "        return len(self.data)\n",
        "\n",
        "    def __getitem__(self, idx):\n",
        "        x = self.data[idx]\n",
        "        y = self.labels[idx]\n",
        "        return x, y"
      ]
    },
    {
      "cell_type": "markdown",
      "metadata": {
        "id": "L4WyQkmgdpB-"
      },
      "source": [
        "## 03-020 커스텀 데이터셋과 DataLoader 생성"
      ]
    },
    {
      "cell_type": "code",
      "execution_count": null,
      "metadata": {
        "id": "SAkxFOl2dpB-"
      },
      "outputs": [],
      "source": [
        "# 예시 데이터\n",
        "data = torch.randn(100, 3)  # 100개의 샘플, 각 샘플은 3차원 벡터\n",
        "labels = torch.randint(0, 2, (100,))  # 이진 분류를 위한 100개의 레이블\n",
        "\n",
        "# 데이터셋 및 DataLoader 생성\n",
        "dataset = CustomDataset(data, labels)\n",
        "dataloader = DataLoader(dataset, batch_size=3)"
      ]
    },
    {
      "cell_type": "markdown",
      "metadata": {
        "id": "eGzKdHZUdpB-"
      },
      "source": [
        "## 03-021 DataLoader에서 배치 조회"
      ]
    },
    {
      "cell_type": "code",
      "execution_count": null,
      "metadata": {
        "id": "niDvur-UdpB_",
        "outputId": "0a406f97-f370-43eb-8233-a44a465d0280"
      },
      "outputs": [
        {
          "data": {
            "text/plain": [
              "(tensor([[ 1.9269,  1.4873,  0.9007],\n",
              "         [-2.1055,  0.6784, -1.2345],\n",
              "         [-0.0431, -1.6047, -0.7521]]),\n",
              " tensor([0, 0, 0]))"
            ]
          },
          "metadata": {},
          "output_type": "display_data"
        }
      ],
      "source": [
        "# DataLoader에서 모든 배치를 리스트로 변환\n",
        "all_batches = list(dataloader)\n",
        "batch_data, batch_labels = all_batches[0]  # 첫번째 배치 조회\n",
        "batch_data, batch_labels"
      ]
    },
    {
      "cell_type": "markdown",
      "metadata": {
        "id": "VnEXvoMCdpB_"
      },
      "source": [
        "## 03-022 DataLoader에서 마지막 배치 조회"
      ]
    },
    {
      "cell_type": "code",
      "execution_count": null,
      "metadata": {
        "id": "rHou5QfsdpB_",
        "outputId": "67bcb5e7-4ae9-4d83-b6d9-86be528080f8"
      },
      "outputs": [
        {
          "data": {
            "text/plain": [
              "(tensor([[-2.1268, -0.1341, -1.0408]]), tensor([0]))"
            ]
          },
          "metadata": {},
          "output_type": "display_data"
        }
      ],
      "source": [
        "batch_data, batch_labels = all_batches[-1]  # 마지막 배치 조회\n",
        "batch_data, batch_labels"
      ]
    },
    {
      "cell_type": "markdown",
      "metadata": {
        "id": "d-1VLnjTdpB_"
      },
      "source": [
        "## 03-023 DataLoader에서 변경된 배치 크기로 마지막 배치 조회"
      ]
    },
    {
      "cell_type": "code",
      "execution_count": null,
      "metadata": {
        "id": "umANAkG7dpB_",
        "outputId": "90cde838-483a-4dfa-8157-600ad6ba74fd"
      },
      "outputs": [
        {
          "data": {
            "text/plain": [
              "(tensor([[-0.1882, -0.7712,  0.1799],\n",
              "         [-2.1268, -0.1341, -1.0408]]),\n",
              " tensor([0, 0]))"
            ]
          },
          "metadata": {},
          "output_type": "display_data"
        }
      ],
      "source": [
        "dataloader = DataLoader(dataset, batch_size=7)\n",
        "all_batches = list(dataloader)\n",
        "batch_data, batch_labels = all_batches[-1]  # 마지막 배치 조회\n",
        "batch_data, batch_labels"
      ]
    },
    {
      "cell_type": "markdown",
      "metadata": {
        "id": "diKJrs4jdpB_"
      },
      "source": [
        "## 03-024 셔플된 DataLoader에서 마지막 배치 조회"
      ]
    },
    {
      "cell_type": "code",
      "execution_count": null,
      "metadata": {
        "id": "7DQm3O9-dpB_",
        "outputId": "440d2a54-2fce-4365-9938-7e3632b45156"
      },
      "outputs": [
        {
          "data": {
            "text/plain": [
              "(tensor([[ 0.5397,  0.5655,  0.5058],\n",
              "         [ 0.8123, -1.9006,  0.2286]]),\n",
              " tensor([1, 0]))"
            ]
          },
          "metadata": {},
          "output_type": "display_data"
        }
      ],
      "source": [
        "dataloader = DataLoader(dataset, batch_size=7, shuffle=True)\n",
        "all_batches = list(dataloader)\n",
        "batch_data, batch_labels = all_batches[-1]  # 마지막 배치 조회\n",
        "batch_data, batch_labels"
      ]
    },
    {
      "cell_type": "markdown",
      "metadata": {
        "id": "mPAqEPqpdpB_"
      },
      "source": [
        "## 03-025 마지막 배치를 버리는 DataLoader에서 마지막 배치 조회"
      ]
    },
    {
      "cell_type": "code",
      "execution_count": null,
      "metadata": {
        "id": "ZO4MIRaYdpB_",
        "outputId": "1e879dba-2adc-4a9a-9929-36c630ac22b3"
      },
      "outputs": [
        {
          "data": {
            "text/plain": [
              "(tensor([[ 0.5397,  0.5655,  0.5058],\n",
              "         [-0.3387, -1.3407, -0.5854],\n",
              "         [ 0.7200,  0.4114,  1.9312],\n",
              "         [-0.7150,  0.8539,  0.5130],\n",
              "         [ 0.0579,  1.1930,  1.9373],\n",
              "         [-0.9291,  0.2762, -0.5389],\n",
              "         [-2.4801, -0.4175, -1.1955]]),\n",
              " tensor([1, 1, 0, 0, 1, 1, 0]))"
            ]
          },
          "metadata": {},
          "output_type": "display_data"
        }
      ],
      "source": [
        "dataloader = DataLoader(dataset, batch_size=7, shuffle=True, drop_last=True)\n",
        "all_batches = list(dataloader)\n",
        "batch_data, batch_labels = all_batches[-1]  # 마지막 배치 조회\n",
        "batch_data, batch_labels"
      ]
    },
    {
      "cell_type": "markdown",
      "metadata": {
        "id": "anPIx01gdpCA"
      },
      "source": [
        "---"
      ]
    },
    {
      "cell_type": "markdown",
      "metadata": {
        "id": "PgVWWWIXdpCA"
      },
      "source": [
        "## 연습문제-03-004 커스텀 데이터셋과 DataLoader 생성"
      ]
    },
    {
      "cell_type": "code",
      "execution_count": null,
      "metadata": {
        "id": "ARkGCvmodpCA"
      },
      "outputs": [],
      "source": [
        "# 새로운 랜덤 데이터 생성\n",
        "data = torch.randn(150, 4)  # 150개의 샘플, 각 샘플은 4차원 벡터\n",
        "labels = torch.randint(0, 3, (150,))  # 3개의 클래스로 분류되는 150개의 레이블\n",
        "\n",
        "# 커스텀 데이터셋과 DataLoader 생성\n",
        "# 커스텀 데이터셋 클래스는 03-019 재활용\n",
        "\n",
        "# 미니 배치 크기는 5\n"
      ]
    },
    {
      "cell_type": "markdown",
      "metadata": {
        "id": "LTGjBjEidpCA"
      },
      "source": [
        "## 연습문제-03-005 DataLoader에서 배치 조회"
      ]
    },
    {
      "cell_type": "code",
      "execution_count": null,
      "metadata": {
        "id": "0Ciq_2A1dpCA"
      },
      "outputs": [],
      "source": [
        "# DataLoader에서 모든 배치를 리스트로 변환\n",
        "\n",
        "\n",
        "# 첫 번째 배치 조회\n"
      ]
    },
    {
      "cell_type": "markdown",
      "metadata": {
        "id": "L65cKgcPdpCA"
      },
      "source": [
        "## 연습문제-03-006 DataLoader에서 마지막 배치 조회 (새로운 배치 크기)"
      ]
    },
    {
      "cell_type": "code",
      "execution_count": null,
      "metadata": {
        "id": "LUyj6zIpdpCA"
      },
      "outputs": [],
      "source": [
        "# DataLoader에서 배치 크기를 7로 설정\n",
        "\n",
        "\n",
        "# DataLoader에서 첫번째 배치 조회\n"
      ]
    },
    {
      "cell_type": "markdown",
      "metadata": {
        "id": "cEzeH2fLdpCA"
      },
      "source": [
        "## 연습문제-03-007 셔플된 DataLoader에서 마지막 배치 조회"
      ]
    },
    {
      "cell_type": "code",
      "execution_count": null,
      "metadata": {
        "id": "y3-kQD8WdpCA"
      },
      "outputs": [],
      "source": [
        "# DataLoader에서 shuffle=True로 설정하여 셔플된 데이터 로드\n",
        "\n",
        "\n",
        "# 셔플된 DataLoader에서 마지막 배치 조회\n"
      ]
    },
    {
      "cell_type": "markdown",
      "metadata": {
        "id": "vBCrv143dpCB"
      },
      "source": [
        "## 연습문제-03-008 셔플되지 않은 DataLoader에서 마지막 배치 조회"
      ]
    },
    {
      "cell_type": "code",
      "execution_count": null,
      "metadata": {
        "id": "pt7ADdS8dpCB"
      },
      "outputs": [],
      "source": [
        "# DataLoader에서 shuffle=False 설정하여 셔플된 데이터 로드\n",
        "\n",
        "\n",
        "# 셔플되지 않은 DataLoader에서 마지막 배치 조회\n"
      ]
    },
    {
      "cell_type": "markdown",
      "metadata": {
        "id": "ElO1662tdpCB"
      },
      "source": [
        "---"
      ]
    },
    {
      "cell_type": "markdown",
      "metadata": {
        "id": "hAhO9TqNvvxo"
      },
      "source": [
        "# DNN"
      ]
    },
    {
      "cell_type": "markdown",
      "metadata": {
        "id": "O67FQWuYvvxo"
      },
      "source": [
        "## 04-001 PyTorch 및 관련 모듈 임포트와 device 설정"
      ]
    },
    {
      "cell_type": "code",
      "execution_count": null,
      "metadata": {
        "id": "Azf82uuVwgQP"
      },
      "outputs": [],
      "source": [
        "%%capture\n",
        "!pip install torchinfo JAEN -qU"
      ]
    },
    {
      "cell_type": "code",
      "execution_count": null,
      "metadata": {
        "colab": {
          "base_uri": "https://localhost:8080/"
        },
        "id": "tZxPyEsUvvxo",
        "outputId": "44c301f5-5955-477a-ec73-e0a51cb9f65f"
      },
      "outputs": [
        {
          "data": {
            "text/plain": [
              "device(type='cuda')"
            ]
          },
          "execution_count": 14,
          "metadata": {},
          "output_type": "execute_result"
        }
      ],
      "source": [
        "import torch\n",
        "import torch.nn as nn\n",
        "import torch.optim as optim\n",
        "from torchvision import datasets, transforms\n",
        "from torch.utils.data import DataLoader\n",
        "from torchinfo import summary\n",
        "from JAEN.utils import plot_training_results\n",
        "\n",
        "# device 설정 (GPU가 사용 가능하면 GPU로, 그렇지 않으면 CPU 사용)\n",
        "device = torch.device('cuda' if torch.cuda.is_available() else 'cpu')\n",
        "device"
      ]
    },
    {
      "cell_type": "markdown",
      "metadata": {
        "id": "tITtJeADvvxp"
      },
      "source": [
        "## 04-002 FashionMNIST 데이터 변환 및 정규화"
      ]
    },
    {
      "cell_type": "code",
      "execution_count": null,
      "metadata": {
        "id": "Z3Xw2KRmvvxp"
      },
      "outputs": [],
      "source": [
        "# FashionMNIST 데이터 변환 (이미지를 텐서로 변환하고 [0, 1] 범위로 정규화)\n",
        "transform = transforms.Compose([\n",
        "    transforms.ToTensor(),\n",
        "])"
      ]
    },
    {
      "cell_type": "markdown",
      "metadata": {
        "id": "H_2bt2mxvvxp"
      },
      "source": [
        "## 04-003 FashionMNIST 학습 및 테스트 데이터셋 로드"
      ]
    },
    {
      "cell_type": "code",
      "execution_count": null,
      "metadata": {
        "id": "rwF8zq9Pvvxp"
      },
      "outputs": [],
      "source": [
        "# 학습 및 테스트 데이터셋 로드\n",
        "train_dataset = datasets.FashionMNIST(root='./data', train=True, transform=transform, download=True)\n",
        "test_dataset = datasets.FashionMNIST(root='./data', train=False, transform=transform, download=True)"
      ]
    },
    {
      "cell_type": "markdown",
      "metadata": {
        "id": "7Y_HTwhAvvxp"
      },
      "source": [
        "## 04-004 데이터 로더 생성"
      ]
    },
    {
      "cell_type": "code",
      "execution_count": null,
      "metadata": {
        "id": "1I2K3Oosvvxp"
      },
      "outputs": [],
      "source": [
        "# 데이터 로더 생성\n",
        "train_loader = DataLoader(train_dataset, batch_size=64, shuffle=True)\n",
        "test_loader = DataLoader(test_dataset, batch_size=1000, shuffle=False)"
      ]
    },
    {
      "cell_type": "markdown",
      "metadata": {
        "id": "NRRmgeyovvxp"
      },
      "source": [
        "## 04-005 4차원 텐서 Flatten"
      ]
    },
    {
      "cell_type": "code",
      "execution_count": null,
      "metadata": {
        "colab": {
          "base_uri": "https://localhost:8080/"
        },
        "id": "hMQAf1Wrvvxp",
        "outputId": "ef6948a8-fa7b-4bd4-fc60-25fb1979487c"
      },
      "outputs": [
        {
          "data": {
            "text/plain": [
              "tensor([[1, 2, 3, 4]])"
            ]
          },
          "execution_count": 18,
          "metadata": {},
          "output_type": "execute_result"
        }
      ],
      "source": [
        "# 4차원 텐서 예시 (배치 크기 1, 채널 1, 높이 2, 너비 2)\n",
        "x = torch.tensor([[[[1, 2], [3, 4]]]])\n",
        "flatten = nn.Flatten()  # Flatten 모듈 생성\n",
        "output = flatten(x)  # Flatten 적용z\n",
        "output  # 출력 텐서: [[1, 2, 3, 4]]"
      ]
    },
    {
      "cell_type": "markdown",
      "metadata": {
        "id": "GP7l6sQnvvxp"
      },
      "source": [
        "## 04-006 nn.Sequential 기반 신경망 모델 구성"
      ]
    },
    {
      "cell_type": "code",
      "execution_count": null,
      "metadata": {
        "colab": {
          "base_uri": "https://localhost:8080/"
        },
        "id": "kVTNEUg9vvxp",
        "outputId": "7ac663a6-dfcf-4595-d4c8-5d8099dbd2f8"
      },
      "outputs": [
        {
          "data": {
            "text/plain": [
              "==========================================================================================\n",
              "Layer (type:depth-idx)                   Output Shape              Param #\n",
              "==========================================================================================\n",
              "Sequential                               [32, 10]                  --\n",
              "├─Flatten: 1-1                           [32, 784]                 --\n",
              "├─Linear: 1-2                            [32, 128]                 100,480\n",
              "├─ReLU: 1-3                              [32, 128]                 --\n",
              "├─Linear: 1-4                            [32, 10]                  1,290\n",
              "==========================================================================================\n",
              "Total params: 101,770\n",
              "Trainable params: 101,770\n",
              "Non-trainable params: 0\n",
              "Total mult-adds (M): 3.26\n",
              "==========================================================================================\n",
              "Input size (MB): 0.10\n",
              "Forward/backward pass size (MB): 0.04\n",
              "Params size (MB): 0.41\n",
              "Estimated Total Size (MB): 0.54\n",
              "=========================================================================================="
            ]
          },
          "execution_count": 19,
          "metadata": {},
          "output_type": "execute_result"
        }
      ],
      "source": [
        "model = nn.Sequential(\n",
        "    nn.Flatten(),                # 28x28 이미지를 1차원 벡터로 펼침\n",
        "    nn.Linear(28*28, 128),       # 입력: 28*28 픽셀, 출력: 128개의 노드\n",
        "    nn.ReLU(),                   # ReLU 활성화 함\n",
        "    nn.Linear(128, 10)           # 출력층: 10개의 클래스\n",
        ")\n",
        "\n",
        "# 모델 인스턴스 생성\n",
        "model.to(device)\n",
        "summary(model, (32, 1, 28, 28))"
      ]
    },
    {
      "cell_type": "markdown",
      "metadata": {
        "id": "RA2kBHovvvxp"
      },
      "source": [
        "## 04-007 nn.Module 기반 신경망 모델 구성"
      ]
    },
    {
      "cell_type": "code",
      "execution_count": null,
      "metadata": {
        "colab": {
          "base_uri": "https://localhost:8080/"
        },
        "id": "qGLpoEBkvvxq",
        "outputId": "555398d3-1542-4942-807e-bd181f0b3031"
      },
      "outputs": [
        {
          "data": {
            "text/plain": [
              "==========================================================================================\n",
              "Layer (type:depth-idx)                   Output Shape              Param #\n",
              "==========================================================================================\n",
              "FashionMNISTModel                        [10, 10]                  --\n",
              "├─Flatten: 1-1                           [10, 784]                 --\n",
              "├─Linear: 1-2                            [10, 128]                 100,480\n",
              "├─Linear: 1-3                            [10, 10]                  1,290\n",
              "==========================================================================================\n",
              "Total params: 101,770\n",
              "Trainable params: 101,770\n",
              "Non-trainable params: 0\n",
              "Total mult-adds (M): 1.02\n",
              "==========================================================================================\n",
              "Input size (MB): 0.03\n",
              "Forward/backward pass size (MB): 0.01\n",
              "Params size (MB): 0.41\n",
              "Estimated Total Size (MB): 0.45\n",
              "=========================================================================================="
            ]
          },
          "execution_count": 20,
          "metadata": {},
          "output_type": "execute_result"
        }
      ],
      "source": [
        "class FashionMNISTModel(nn.Module):\n",
        "    def __init__(self):\n",
        "        super(FashionMNISTModel, self).__init__()\n",
        "        self.flatten = nn.Flatten()  # 28x28 이미지를 1차원 벡터로 펼침\n",
        "        self.fc1 = nn.Linear(28*28, 128)  # 입력: 28*28 픽셀, 출력: 128개의 노드\n",
        "        self.fc2 = nn.Linear(128, 10)     # 출력층: 10개의 클래스\n",
        "\n",
        "    def forward(self, x):\n",
        "        x = self.flatten(x)\n",
        "        x = torch.relu(self.fc1(x))  # ReLU 활성화 함수 적용\n",
        "        x = self.fc2(x)  # 마지막 출력에는 활성화 함수를 사용하지 않음 (CrossEntropyLoss에서 처리)\n",
        "        return x\n",
        "\n",
        "# 모델 인스턴스 생성\n",
        "model = FashionMNISTModel().to(device)\n",
        "summary(model, (10, 1, 28, 28))"
      ]
    },
    {
      "cell_type": "markdown",
      "metadata": {
        "id": "8DzwKe_qvvxq"
      },
      "source": [
        "## 04-008 모델 학습 함수 구현"
      ]
    },
    {
      "cell_type": "code",
      "execution_count": null,
      "metadata": {
        "id": "Vxu29Ai_vvxq"
      },
      "outputs": [],
      "source": [
        "def train(model, train_loader, criterion, optimizer, epoch, device):\n",
        "    model.train()  # 모델을 학습 모드로 설정\n",
        "    running_loss = 0.0\n",
        "    correct = 0\n",
        "    total = 0\n",
        "\n",
        "    for images, labels in train_loader:\n",
        "        images, labels = images.to(device), labels.to(device)\n",
        "        outputs = model(images)\n",
        "        loss = criterion(outputs, labels)\n",
        "\n",
        "        # 역전파 및 옵티마이저 스텝\n",
        "        optimizer.zero_grad()\n",
        "        loss.backward()\n",
        "        optimizer.step()\n",
        "\n",
        "        running_loss += loss.item()\n",
        "\n",
        "        # 정확도 계산\n",
        "        _, predicted = torch.max(outputs, 1)\n",
        "        total += labels.size(0)\n",
        "        correct += (predicted == labels).sum().item()\n",
        "\n",
        "    train_loss = running_loss / len(train_loader)\n",
        "    train_accuracy = 100 * correct / total\n",
        "    print(f'Epoch [{epoch+1}]')\n",
        "    print(f'Train Loss: {train_loss:.4f}, Train Accuracy: {train_accuracy:.2f}%')\n",
        "\n",
        "    return train_loss, train_accuracy"
      ]
    },
    {
      "cell_type": "markdown",
      "metadata": {
        "id": "i-HOR4_nvvxq"
      },
      "source": [
        "## 04-009 모델 평가 함수 구현"
      ]
    },
    {
      "cell_type": "code",
      "execution_count": null,
      "metadata": {
        "id": "6w51amn4vvxq"
      },
      "outputs": [],
      "source": [
        "# 평가 함수 정의\n",
        "def evaluate(model, test_loader, criterion, device):\n",
        "    model.eval()  # 모델을 평가 모드로 설정\n",
        "    test_loss = 0.0\n",
        "    correct = 0\n",
        "    total = 0\n",
        "\n",
        "    with torch.no_grad():  # 평가 중에는 기울기 계산을 하지 않음\n",
        "        for images, labels in test_loader:\n",
        "            images, labels = images.to(device), labels.to(device)\n",
        "            outputs = model(images)\n",
        "            loss = criterion(outputs, labels)\n",
        "            test_loss += loss.item()\n",
        "\n",
        "            # 예측 정확도 계산\n",
        "            _, predicted = torch.max(outputs, 1)\n",
        "            total += labels.size(0)\n",
        "            correct += (predicted == labels).sum().item()\n",
        "\n",
        "    test_loss /= len(test_loader)\n",
        "    test_accuracy = 100 * correct / total\n",
        "    print(f'Test Loss: {test_loss:.4f}, Test Accuracy: {test_accuracy:.2f}%')\n",
        "\n",
        "    return test_loss, test_accuracy"
      ]
    },
    {
      "cell_type": "markdown",
      "metadata": {
        "id": "lXmxgXyIvvxq"
      },
      "source": [
        "## 04-010 학습 및 평가 과정 관리 함수 구현"
      ]
    },
    {
      "cell_type": "code",
      "execution_count": null,
      "metadata": {
        "id": "xQoaSp6Wvvxq"
      },
      "outputs": [],
      "source": [
        "# 학습 및 평가 과정 관리\n",
        "def train_and_evaluate(model, train_loader, test_loader, criterion, optimizer, num_epochs, device):\n",
        "    train_losses = []\n",
        "    train_accuracies = []\n",
        "    test_losses = []\n",
        "    test_accuracies = []\n",
        "\n",
        "    for epoch in range(num_epochs):\n",
        "        # 모델 학습\n",
        "        train_loss, train_accuracy = train(model, train_loader, criterion, optimizer, epoch, device)\n",
        "        train_losses.append(train_loss)\n",
        "        train_accuracies.append(train_accuracy)\n",
        "\n",
        "        # 평가 데이터를 이용하여 모델 검증\n",
        "        test_loss, test_accuracy = evaluate(model, test_loader, criterion, device)\n",
        "        test_losses.append(test_loss)\n",
        "        test_accuracies.append(test_accuracy)\n",
        "\n",
        "    return train_losses, train_accuracies, test_losses, test_accuracies"
      ]
    },
    {
      "cell_type": "markdown",
      "metadata": {
        "id": "zQU6PpPsvvxq"
      },
      "source": [
        "## 04-011 손실 함수 및 옵티마이저 설정과 학습 수행"
      ]
    },
    {
      "cell_type": "code",
      "execution_count": null,
      "metadata": {
        "colab": {
          "base_uri": "https://localhost:8080/"
        },
        "id": "mcgAi9UNvvxq",
        "outputId": "9e69f91a-2cc1-4e3d-af96-3c452723febf"
      },
      "outputs": [
        {
          "name": "stdout",
          "output_type": "stream",
          "text": [
            "Epoch [1]\n",
            "Train Loss: 0.5454, Train Accuracy: 80.59%\n",
            "Test Loss: 0.5429, Test Accuracy: 81.48%\n",
            "Epoch [2]\n",
            "Train Loss: 0.4570, Train Accuracy: 83.57%\n",
            "Test Loss: 0.4816, Test Accuracy: 82.91%\n",
            "Epoch [3]\n",
            "Train Loss: 0.4326, Train Accuracy: 84.56%\n",
            "Test Loss: 0.5121, Test Accuracy: 81.79%\n",
            "Epoch [4]\n",
            "Train Loss: 0.4171, Train Accuracy: 85.23%\n",
            "Test Loss: 0.4536, Test Accuracy: 84.48%\n",
            "Epoch [5]\n",
            "Train Loss: 0.4194, Train Accuracy: 85.25%\n",
            "Test Loss: 0.4920, Test Accuracy: 83.46%\n",
            "Epoch [6]\n",
            "Train Loss: 0.4020, Train Accuracy: 85.81%\n",
            "Test Loss: 0.4827, Test Accuracy: 83.47%\n",
            "Epoch [7]\n",
            "Train Loss: 0.3991, Train Accuracy: 85.92%\n",
            "Test Loss: 0.4644, Test Accuracy: 84.33%\n",
            "Epoch [8]\n",
            "Train Loss: 0.3936, Train Accuracy: 86.09%\n",
            "Test Loss: 0.4773, Test Accuracy: 83.90%\n",
            "Epoch [9]\n",
            "Train Loss: 0.3900, Train Accuracy: 86.27%\n",
            "Test Loss: 0.4667, Test Accuracy: 84.04%\n",
            "Epoch [10]\n",
            "Train Loss: 0.3868, Train Accuracy: 86.33%\n",
            "Test Loss: 0.4939, Test Accuracy: 83.38%\n"
          ]
        }
      ],
      "source": [
        "# 손실 함수와 옵티마이저 설정\n",
        "criterion = nn.CrossEntropyLoss()  # 다중 클래스 분류를 위한 손실 함수\n",
        "optimizer = optim.Adam(model.parameters(), lr=0.01)  # Adam 옵티마이저\n",
        "\n",
        "train_losses, train_accuracies, test_losses, test_accuracies = train_and_evaluate(\n",
        "    model, train_loader, test_loader, criterion, optimizer, num_epochs=10, device=device\n",
        ")"
      ]
    },
    {
      "cell_type": "code",
      "execution_count": null,
      "metadata": {
        "colab": {
          "base_uri": "https://localhost:8080/",
          "height": 387
        },
        "id": "Z-WWysi2Cv3f",
        "outputId": "4abfdcc4-1ad3-47ff-9c1d-73bcce5f42f7"
      },
      "outputs": [
        {
          "data": {
            "image/png": "[encoded data removed]",
            "text/plain": [
              "<Figure size 1200x500 with 2 Axes>"
            ]
          },
          "metadata": {},
          "output_type": "display_data"
        }
      ],
      "source": [
        "plot_training_results(train_losses, train_accuracies, test_losses, test_accuracies)"
      ]
    },
    {
      "cell_type": "markdown",
      "metadata": {
        "id": "Z4XPJBGqvvxq"
      },
      "source": [
        "## 04-012 드롭아웃을 포함한 FashionMNIST 모델 클래스 구현"
      ]
    },
    {
      "cell_type": "code",
      "execution_count": null,
      "metadata": {
        "colab": {
          "base_uri": "https://localhost:8080/"
        },
        "id": "cz5ikYx5vvxq",
        "outputId": "42883c1d-3380-43b3-e790-5b3ba1ae90c9"
      },
      "outputs": [
        {
          "data": {
            "text/plain": [
              "==========================================================================================\n",
              "Layer (type:depth-idx)                   Output Shape              Param #\n",
              "==========================================================================================\n",
              "FashionMNISTDropoutModel                 [10, 10]                  --\n",
              "├─Flatten: 1-1                           [10, 784]                 --\n",
              "├─Linear: 1-2                            [10, 128]                 100,480\n",
              "├─Dropout: 1-3                           [10, 128]                 --\n",
              "├─Linear: 1-4                            [10, 10]                  1,290\n",
              "==========================================================================================\n",
              "Total params: 101,770\n",
              "Trainable params: 101,770\n",
              "Non-trainable params: 0\n",
              "Total mult-adds (M): 1.02\n",
              "==========================================================================================\n",
              "Input size (MB): 0.03\n",
              "Forward/backward pass size (MB): 0.01\n",
              "Params size (MB): 0.41\n",
              "Estimated Total Size (MB): 0.45\n",
              "=========================================================================================="
            ]
          },
          "execution_count": 32,
          "metadata": {},
          "output_type": "execute_result"
        }
      ],
      "source": [
        "# 신경망 모델 정의 (Dropout 포함)\n",
        "class FashionMNISTDropoutModel(nn.Module):\n",
        "    def __init__(self):\n",
        "        super(FashionMNISTDropoutModel, self).__init__()\n",
        "        self.flatten = nn.Flatten()\n",
        "        self.fc1 = nn.Linear(28*28, 128)\n",
        "        self.fc2 = nn.Linear(128, 10)\n",
        "        self.dropout = nn.Dropout(0.1)  # 10%의 드롭아웃 적용\n",
        "\n",
        "    def forward(self, x):\n",
        "        x = self.flatten(x)\n",
        "        x = torch.relu(self.fc1(x))\n",
        "        x = self.dropout(x)  # 첫 번째 은닉층 뒤에 드롭아웃 적용\n",
        "        x = self.fc2(x)  # 출력층에는 드롭아웃을 사용하지 않음\n",
        "        return x\n",
        "\n",
        "# 모델 인스턴스화\n",
        "model = FashionMNISTDropoutModel().to(device)\n",
        "summary(model, (10, 1, 28, 28))"
      ]
    },
    {
      "cell_type": "markdown",
      "metadata": {
        "id": "8VWcUH7Qvvxr"
      },
      "source": [
        "## 04-013 손실 함수 및 옵티마이저 설정과 학습 수행"
      ]
    },
    {
      "cell_type": "code",
      "execution_count": null,
      "metadata": {
        "colab": {
          "base_uri": "https://localhost:8080/"
        },
        "id": "TJMaBsZ-vvxr",
        "outputId": "2a8f3ac9-9108-4211-933f-13103702babb"
      },
      "outputs": [
        {
          "name": "stdout",
          "output_type": "stream",
          "text": [
            "Epoch [1]\n",
            "Train Loss: 0.5968, Train Accuracy: 78.72%\n",
            "Test Loss: 0.5244, Test Accuracy: 82.12%\n",
            "Epoch [2]\n",
            "Train Loss: 0.5286, Train Accuracy: 81.18%\n",
            "Test Loss: 0.5641, Test Accuracy: 81.50%\n",
            "Epoch [3]\n",
            "Train Loss: 0.5086, Train Accuracy: 82.07%\n",
            "Test Loss: 0.5404, Test Accuracy: 82.00%\n",
            "Epoch [4]\n",
            "Train Loss: 0.4972, Train Accuracy: 82.50%\n",
            "Test Loss: 0.4689, Test Accuracy: 83.03%\n",
            "Epoch [5]\n",
            "Train Loss: 0.4834, Train Accuracy: 82.95%\n",
            "Test Loss: 0.4900, Test Accuracy: 83.53%\n",
            "Epoch [6]\n",
            "Train Loss: 0.4711, Train Accuracy: 83.50%\n",
            "Test Loss: 0.5309, Test Accuracy: 82.65%\n",
            "Epoch [7]\n",
            "Train Loss: 0.4771, Train Accuracy: 83.43%\n",
            "Test Loss: 0.5667, Test Accuracy: 81.62%\n",
            "Epoch [8]\n",
            "Train Loss: 0.4698, Train Accuracy: 83.55%\n",
            "Test Loss: 0.5018, Test Accuracy: 82.35%\n",
            "Epoch [9]\n",
            "Train Loss: 0.4604, Train Accuracy: 83.87%\n",
            "Test Loss: 0.5097, Test Accuracy: 81.16%\n",
            "Epoch [10]\n",
            "Train Loss: 0.4601, Train Accuracy: 84.05%\n",
            "Test Loss: 0.4988, Test Accuracy: 84.26%\n"
          ]
        }
      ],
      "source": [
        "# 손실 함수와 옵티마이저 설정\n",
        "criterion = nn.CrossEntropyLoss()  # 다중 클래스 분류를 위한 손실 함수\n",
        "optimizer = optim.Adam(model.parameters(), lr=0.01)  # Adam 옵티마이저\n",
        "\n",
        "train_losses, train_accuracies, test_losses, test_accuracies = train_and_evaluate(\n",
        "    model, train_loader, test_loader, criterion, optimizer, num_epochs=10, device=device\n",
        ")"
      ]
    },
    {
      "cell_type": "code",
      "execution_count": null,
      "metadata": {
        "colab": {
          "base_uri": "https://localhost:8080/",
          "height": 387
        },
        "id": "NLM-u3HSWVyt",
        "outputId": "f466f189-26c4-45f6-8b98-664ad8e07534"
      },
      "outputs": [
        {
          "data": {
            "image/png": "[encoded data removed]",
            "text/plain": [
              "<Figure size 1200x500 with 2 Axes>"
            ]
          },
          "metadata": {},
          "output_type": "display_data"
        }
      ],
      "source": [
        "plot_training_results(train_losses, train_accuracies, test_losses, test_accuracies)"
      ]
    },
    {
      "cell_type": "markdown",
      "metadata": {
        "id": "G-LNrWeBvvxr"
      },
      "source": [
        "## 04-014 Batch Normalization 및 Dropout 포함 모델 정의"
      ]
    },
    {
      "cell_type": "code",
      "execution_count": null,
      "metadata": {
        "colab": {
          "base_uri": "https://localhost:8080/"
        },
        "id": "O1moItzsvvxr",
        "outputId": "1a0d4845-c064-4c93-88eb-5eb18184bd38"
      },
      "outputs": [
        {
          "data": {
            "text/plain": [
              "==========================================================================================\n",
              "Layer (type:depth-idx)                   Output Shape              Param #\n",
              "==========================================================================================\n",
              "FashionMNISTBNModel                      [10, 10]                  --\n",
              "├─Flatten: 1-1                           [10, 784]                 --\n",
              "├─Linear: 1-2                            [10, 128]                 100,480\n",
              "├─BatchNorm1d: 1-3                       [10, 128]                 256\n",
              "├─Dropout: 1-4                           [10, 128]                 --\n",
              "├─Linear: 1-5                            [10, 10]                  1,290\n",
              "==========================================================================================\n",
              "Total params: 102,026\n",
              "Trainable params: 102,026\n",
              "Non-trainable params: 0\n",
              "Total mult-adds (M): 1.02\n",
              "==========================================================================================\n",
              "Input size (MB): 0.03\n",
              "Forward/backward pass size (MB): 0.02\n",
              "Params size (MB): 0.41\n",
              "Estimated Total Size (MB): 0.46\n",
              "=========================================================================================="
            ]
          },
          "execution_count": 35,
          "metadata": {},
          "output_type": "execute_result"
        }
      ],
      "source": [
        "# 신경망 모델 정의 (Batch Normalization 및 Dropout 포함)\n",
        "class FashionMNISTBNModel(nn.Module):\n",
        "    def __init__(self):\n",
        "        super(FashionMNISTBNModel, self).__init__()\n",
        "        self.flatten = nn.Flatten()\n",
        "        self.fc1 = nn.Linear(28*28, 128)\n",
        "        self.bn1 = nn.BatchNorm1d(128)  # 첫 번째 배치 정규화 레이어\n",
        "        self.fc2 = nn.Linear(128, 10)\n",
        "        self.dropout = nn.Dropout(0.1)  # 10%의 드롭아웃 적용\n",
        "\n",
        "    def forward(self, x):\n",
        "        x = self.flatten(x)\n",
        "        x = torch.relu(self.bn1(self.fc1(x)))  # 첫 번째 배치 정규화 + ReLU\n",
        "        x = self.dropout(x)  # 드롭아웃 적용\n",
        "        x = self.fc2(x)  # 출력층에는 배치 정규화 및 드롭아웃을 사용하지 않음\n",
        "        return x\n",
        "\n",
        "# 모델 인스턴스화\n",
        "model = FashionMNISTBNModel().to(device)\n",
        "summary(model, (10, 1, 28, 28))"
      ]
    },
    {
      "cell_type": "markdown",
      "metadata": {
        "id": "eg_Byaixvvxr"
      },
      "source": [
        "## 04-015 손실 함수 및 옵티마이저 설정과 학습 수행"
      ]
    },
    {
      "cell_type": "code",
      "execution_count": null,
      "metadata": {
        "colab": {
          "base_uri": "https://localhost:8080/"
        },
        "id": "lkH8QtkAvvxr",
        "outputId": "3b9c539c-2e34-4e8a-84b4-5c720c329ed4"
      },
      "outputs": [
        {
          "name": "stdout",
          "output_type": "stream",
          "text": [
            "Epoch [1]\n",
            "Train Loss: 0.4756, Train Accuracy: 82.76%\n",
            "Test Loss: 0.3975, Test Accuracy: 85.78%\n",
            "Epoch [2]\n",
            "Train Loss: 0.3734, Train Accuracy: 86.41%\n",
            "Test Loss: 0.3932, Test Accuracy: 85.59%\n",
            "Epoch [3]\n",
            "Train Loss: 0.3433, Train Accuracy: 87.47%\n",
            "Test Loss: 0.3577, Test Accuracy: 87.13%\n",
            "Epoch [4]\n",
            "Train Loss: 0.3235, Train Accuracy: 88.23%\n",
            "Test Loss: 0.3682, Test Accuracy: 87.22%\n",
            "Epoch [5]\n",
            "Train Loss: 0.3072, Train Accuracy: 88.56%\n",
            "Test Loss: 0.3455, Test Accuracy: 87.74%\n",
            "Epoch [6]\n",
            "Train Loss: 0.2930, Train Accuracy: 89.11%\n",
            "Test Loss: 0.3485, Test Accuracy: 87.41%\n",
            "Epoch [7]\n",
            "Train Loss: 0.2819, Train Accuracy: 89.57%\n",
            "Test Loss: 0.3328, Test Accuracy: 88.20%\n",
            "Epoch [8]\n",
            "Train Loss: 0.2695, Train Accuracy: 90.03%\n",
            "Test Loss: 0.3366, Test Accuracy: 88.40%\n",
            "Epoch [9]\n",
            "Train Loss: 0.2649, Train Accuracy: 90.16%\n",
            "Test Loss: 0.3363, Test Accuracy: 88.44%\n",
            "Epoch [10]\n",
            "Train Loss: 0.2561, Train Accuracy: 90.48%\n",
            "Test Loss: 0.3497, Test Accuracy: 88.17%\n"
          ]
        }
      ],
      "source": [
        "# 손실 함수와 옵티마이저 설정\n",
        "criterion = nn.CrossEntropyLoss()  # 다중 클래스 분류를 위한 손실 함수\n",
        "optimizer = optim.Adam(model.parameters(), lr=0.01)  # Adam 옵티마이저\n",
        "\n",
        "train_losses, train_accuracies, test_losses, test_accuracies = train_and_evaluate(\n",
        "    model, train_loader, test_loader, criterion, optimizer, num_epochs=10, device=device\n",
        ")"
      ]
    },
    {
      "cell_type": "code",
      "execution_count": null,
      "metadata": {
        "colab": {
          "base_uri": "https://localhost:8080/",
          "height": 387
        },
        "id": "K6rpoOvyaPnN",
        "outputId": "a7c64a40-6680-40f5-c8a0-590e290e64e2"
      },
      "outputs": [
        {
          "data": {
            "image/png": "[encoded data removed]",
            "text/plain": [
              "<Figure size 1200x500 with 2 Axes>"
            ]
          },
          "metadata": {},
          "output_type": "display_data"
        }
      ],
      "source": [
        "plot_training_results(train_losses, train_accuracies, test_losses, test_accuracies)"
      ]
    },
    {
      "cell_type": "markdown",
      "metadata": {
        "id": "jm519NHHvvxr"
      },
      "source": [
        "## 04-016 L2 정칙화를 위한 옵티마이저 설정"
      ]
    },
    {
      "cell_type": "code",
      "execution_count": null,
      "metadata": {
        "id": "De9Z0RKcvvxr"
      },
      "outputs": [],
      "source": [
        "# L2 정칙화를 위한 옵티마이저 설정 (weight_decay가 L2 정칙화)\n",
        "optimizer = torch.optim.SGD(model.parameters(), lr=0.01, weight_decay=0.001)"
      ]
    },
    {
      "cell_type": "markdown",
      "metadata": {
        "id": "WYm42INavvxr"
      },
      "source": [
        "---"
      ]
    },
    {
      "cell_type": "markdown",
      "metadata": {
        "id": "oQSpZ6Pivvxr"
      },
      "source": [
        "## 연습문제-04-001 Sequential 방식으로 2차원 더미 데이터를 이용한 다중 분류 모델 설계"
      ]
    },
    {
      "cell_type": "code",
      "execution_count": null,
      "metadata": {
        "id": "HD8Gi5-1vvxr"
      },
      "outputs": [],
      "source": [
        "# nn.Sequential을 사용하여 정의\n",
        "# 1. 첫 번째 레이어는 nn.Linear(2, 32)로 입력 차원이 2이고 출력 차원이 32인 완전연결층을 사용.\n",
        "# 2. nn.ReLU()로 활성화 함수인 ReLU를 추가.\n",
        "# 3. 두 번째 레이어는 nn.Linear(32, 16)으로 입력 차원이 32, 출력 차원이 16인 완전연결층을 추가.\n",
        "# 4. 다시 nn.ReLU()로 활성화 함수 추가.\n",
        "# 5. 마지막 레이어는 nn.Linear(16, 1)으로 입력 차원이 16, 출력 차원이 1인 완전연결층을 추가.\n",
        "# 6. nn.sigmoid()으로 출력을 확률 분포로 변환.\n",
        "# 최종 모델은 이진 분류 문제를 해결할 수 있는 모델.\n"
      ]
    },
    {
      "cell_type": "markdown",
      "metadata": {
        "id": "ySmTBfHWvvxr"
      },
      "source": [
        "## 연습문제-04-002 Module 방식으로 2차원 더미 데이터를 이용한 회귀 모델 설계"
      ]
    },
    {
      "cell_type": "code",
      "execution_count": null,
      "metadata": {
        "colab": {
          "base_uri": "https://localhost:8080/"
        },
        "id": "KCK0jyeevvxs",
        "outputId": "a709062d-a382-4166-aa64-ff5a7876a906"
      },
      "outputs": [
        {
          "data": {
            "text/plain": [
              "DNN(\n",
              "  (layer1): Linear(in_features=2, out_features=64, bias=True)\n",
              "  (layer2): Linear(in_features=64, out_features=32, bias=True)\n",
              "  (layer3): Linear(in_features=32, out_features=1, bias=True)\n",
              ")"
            ]
          },
          "execution_count": 40,
          "metadata": {},
          "output_type": "execute_result"
        }
      ],
      "source": [
        "# nn.Module을 상속받아 정의\n",
        "# 1. __init__ 메서드에서 세 개의 레이어(layer1, layer2, layer3)를 정의.\n",
        "#    각 레이어는 nn.Linear를 사용하여 정의되며, 첫 번째 레이어는 입력이 2차원, 출력이 64차원.\n",
        "# 2. 두 번째 레이어는 입력이 64차원, 출력이 32차원.\n",
        "# 3. 세 번째 레이어는 입력이 32차원, 출력이 1차원으로 회귀 문제에 맞게 설정.\n",
        "# 4. forward 메서드에서 입력 데이터가 layer1 -> ReLU -> layer2 -> ReLU -> layer3 순으로 통과.\n",
        "#    마지막 출력은 회귀 문제이므로 활성화 함수 없이 그대로 반환.\n",
        "\n",
        "class DNN(nn.Module):\n",
        "    def __init__(self):\n",
        "        super(DNN, self).__init__()\n",
        "\n",
        "    def forward(self, x):\n",
        "\n",
        "\n",
        "model = DNN()\n",
        "model"
      ]
    },
    {
      "cell_type": "markdown",
      "metadata": {
        "id": "Udp73CHHdpCF"
      },
      "source": [
        "---"
      ]
    }
  ],
  "metadata": {
    "colab": {
      "provenance": [],
      "include_colab_link": true
    },
    "kernelspec": {
      "display_name": "Python 3",
      "name": "python3"
    },
    "language_info": {
      "codemirror_mode": {
        "name": "ipython",
        "version": 3
      },
      "file_extension": ".py",
      "mimetype": "text/x-python",
      "name": "python",
      "nbconvert_exporter": "python",
      "pygments_lexer": "ipython3",
      "version": "3.10.14"
    }
  },
  "nbformat": 4,
  "nbformat_minor": 0
}