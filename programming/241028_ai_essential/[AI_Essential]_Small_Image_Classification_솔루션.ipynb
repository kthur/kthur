{
  "cells": [
    {
      "cell_type": "markdown",
      "metadata": {
        "id": "view-in-github",
        "colab_type": "text"
      },
      "source": [
        "<a href=\"https://colab.research.google.com/github/kthur/kthur/blob/master/programming/241028_ai_essential/%5BAI_Essential%5D_Small_Image_Classification_%EC%86%94%EB%A3%A8%EC%85%98.ipynb\" target=\"_parent\"><img src=\"https://colab.research.google.com/assets/colab-badge.svg\" alt=\"Open In Colab\"/></a>"
      ]
    },
    {
      "cell_type": "markdown",
      "id": "C3HNZJH5LuqI",
      "metadata": {
        "id": "C3HNZJH5LuqI"
      },
      "source": [
        "# 소형 이미지 분류\n",
        "- **목표**\n",
        "  - 이 워크샵의 목표는 소형 이미지 분류 데이터셋을 사용하여 합성곱 신경망 모델을 학습시키고, 다양한 클래스의 이미지를 분류하는 것입니다.\n",
        "\n",
        "- **데이터셋 정보**\n",
        "  - 데이터는 (batch, 3, 32, 32) 형태로, 여기서 `batch`는 한 번에 처리하는 이미지 수, `3`은 RGB 채널 수, `32`는 이미지의 높이와 너비를 나타냅니다.\n",
        "  - 데이터셋은 총 10개의 클래스(비행기, 자동차, 새, 고양이, 사슴, 개, 개구리, 말, 배, 트럭)로 구성되어 있습니다.\n",
        "  - 데이터는 훈련용 데이터와 테스트용 데이터로 나뉘며, 훈련 데이터는 모델 학습에 사용되고, 테스트 데이터는 학습한 모델의 성능을 평가하는 데 사용됩니다.\n",
        "\n",
        "- **문제 유형**\n",
        "  - 이 워크샵은 분류 문제로, 이미지가 어떤 클래스에 속하는지를 예측하는 것이 목표입니다. 모델의 성능은 `Accuracy`로 측정됩니다."
      ]
    },
    {
      "cell_type": "markdown",
      "id": "FerWbWa8ML9S",
      "metadata": {
        "id": "FerWbWa8ML9S"
      },
      "source": [
        "## 1. 환경 설정"
      ]
    },
    {
      "cell_type": "code",
      "execution_count": null,
      "id": "fbebc02c",
      "metadata": {
        "id": "fbebc02c",
        "outputId": "b82ec37e-8d5f-46bf-d869-9e01ab3ddb3f"
      },
      "outputs": [
        {
          "name": "stdout",
          "output_type": "stream",
          "text": [
            "Requirement already satisfied: JAEN in /opt/miniconda3/envs/ai-essential/lib/python3.12/site-packages (0.0.36)\n",
            "Collecting JAEN\n",
            "  Downloading JAEN-0.0.37-py3-none-any.whl.metadata (390 bytes)\n",
            "Requirement already satisfied: torchinfo in /opt/miniconda3/envs/ai-essential/lib/python3.12/site-packages (1.8.0)\n",
            "Requirement already satisfied: pandas in /opt/miniconda3/envs/ai-essential/lib/python3.12/site-packages (from JAEN) (2.2.3)\n",
            "Requirement already satisfied: ragas in /opt/miniconda3/envs/ai-essential/lib/python3.12/site-packages (from JAEN) (0.2.1)\n",
            "Requirement already satisfied: boston in /opt/miniconda3/envs/ai-essential/lib/python3.12/site-packages (from JAEN) (1.0.17)\n",
            "Requirement already satisfied: numpy>=1.26.0 in /opt/miniconda3/envs/ai-essential/lib/python3.12/site-packages (from pandas->JAEN) (1.26.4)\n",
            "Requirement already satisfied: python-dateutil>=2.8.2 in /opt/miniconda3/envs/ai-essential/lib/python3.12/site-packages (from pandas->JAEN) (2.9.0.post0)\n",
            "Requirement already satisfied: pytz>=2020.1 in /opt/miniconda3/envs/ai-essential/lib/python3.12/site-packages (from pandas->JAEN) (2024.1)\n",
            "Requirement already satisfied: tzdata>=2022.7 in /opt/miniconda3/envs/ai-essential/lib/python3.12/site-packages (from pandas->JAEN) (2024.2)\n",
            "Requirement already satisfied: datasets in /opt/miniconda3/envs/ai-essential/lib/python3.12/site-packages (from ragas->JAEN) (3.0.1)\n",
            "Requirement already satisfied: tiktoken in /opt/miniconda3/envs/ai-essential/lib/python3.12/site-packages (from ragas->JAEN) (0.8.0)\n",
            "Requirement already satisfied: langchain in /opt/miniconda3/envs/ai-essential/lib/python3.12/site-packages (from ragas->JAEN) (0.3.3)\n",
            "Requirement already satisfied: langchain-core in /opt/miniconda3/envs/ai-essential/lib/python3.12/site-packages (from ragas->JAEN) (0.3.12)\n",
            "Requirement already satisfied: langchain-community in /opt/miniconda3/envs/ai-essential/lib/python3.12/site-packages (from ragas->JAEN) (0.3.2)\n",
            "Requirement already satisfied: langchain-openai in /opt/miniconda3/envs/ai-essential/lib/python3.12/site-packages (from ragas->JAEN) (0.2.2)\n",
            "Requirement already satisfied: nest-asyncio in /opt/miniconda3/envs/ai-essential/lib/python3.12/site-packages (from ragas->JAEN) (1.6.0)\n",
            "Requirement already satisfied: appdirs in /opt/miniconda3/envs/ai-essential/lib/python3.12/site-packages (from ragas->JAEN) (1.4.4)\n",
            "Requirement already satisfied: pydantic>=2 in /opt/miniconda3/envs/ai-essential/lib/python3.12/site-packages (from ragas->JAEN) (2.9.2)\n",
            "Requirement already satisfied: openai>1 in /opt/miniconda3/envs/ai-essential/lib/python3.12/site-packages (from ragas->JAEN) (1.51.2)\n",
            "Requirement already satisfied: pysbd>=0.3.4 in /opt/miniconda3/envs/ai-essential/lib/python3.12/site-packages (from ragas->JAEN) (0.3.4)\n",
            "Requirement already satisfied: anyio<5,>=3.5.0 in /opt/miniconda3/envs/ai-essential/lib/python3.12/site-packages (from openai>1->ragas->JAEN) (4.6.2)\n",
            "Requirement already satisfied: distro<2,>=1.7.0 in /opt/miniconda3/envs/ai-essential/lib/python3.12/site-packages (from openai>1->ragas->JAEN) (1.9.0)\n",
            "Requirement already satisfied: httpx<1,>=0.23.0 in /opt/miniconda3/envs/ai-essential/lib/python3.12/site-packages (from openai>1->ragas->JAEN) (0.27.0)\n",
            "Requirement already satisfied: jiter<1,>=0.4.0 in /opt/miniconda3/envs/ai-essential/lib/python3.12/site-packages (from openai>1->ragas->JAEN) (0.6.1)\n",
            "Requirement already satisfied: sniffio in /opt/miniconda3/envs/ai-essential/lib/python3.12/site-packages (from openai>1->ragas->JAEN) (1.3.0)\n",
            "Requirement already satisfied: tqdm>4 in /opt/miniconda3/envs/ai-essential/lib/python3.12/site-packages (from openai>1->ragas->JAEN) (4.66.5)\n",
            "Requirement already satisfied: typing-extensions<5,>=4.11 in /opt/miniconda3/envs/ai-essential/lib/python3.12/site-packages (from openai>1->ragas->JAEN) (4.11.0)\n",
            "Requirement already satisfied: annotated-types>=0.6.0 in /opt/miniconda3/envs/ai-essential/lib/python3.12/site-packages (from pydantic>=2->ragas->JAEN) (0.7.0)\n",
            "Requirement already satisfied: pydantic-core==2.23.4 in /opt/miniconda3/envs/ai-essential/lib/python3.12/site-packages (from pydantic>=2->ragas->JAEN) (2.23.4)\n",
            "Requirement already satisfied: six>=1.5 in /opt/miniconda3/envs/ai-essential/lib/python3.12/site-packages (from python-dateutil>=2.8.2->pandas->JAEN) (1.16.0)\n",
            "Requirement already satisfied: filelock in /opt/miniconda3/envs/ai-essential/lib/python3.12/site-packages (from datasets->ragas->JAEN) (3.16.1)\n",
            "Requirement already satisfied: pyarrow>=15.0.0 in /opt/miniconda3/envs/ai-essential/lib/python3.12/site-packages (from datasets->ragas->JAEN) (17.0.0)\n",
            "Requirement already satisfied: dill<0.3.9,>=0.3.0 in /opt/miniconda3/envs/ai-essential/lib/python3.12/site-packages (from datasets->ragas->JAEN) (0.3.8)\n",
            "Requirement already satisfied: requests>=2.32.2 in /opt/miniconda3/envs/ai-essential/lib/python3.12/site-packages (from datasets->ragas->JAEN) (2.32.3)\n",
            "Requirement already satisfied: xxhash in /opt/miniconda3/envs/ai-essential/lib/python3.12/site-packages (from datasets->ragas->JAEN) (3.5.0)\n",
            "Requirement already satisfied: multiprocess in /opt/miniconda3/envs/ai-essential/lib/python3.12/site-packages (from datasets->ragas->JAEN) (0.70.16)\n",
            "Requirement already satisfied: fsspec<=2024.6.1,>=2023.1.0 in /opt/miniconda3/envs/ai-essential/lib/python3.12/site-packages (from fsspec[http]<=2024.6.1,>=2023.1.0->datasets->ragas->JAEN) (2024.6.1)\n",
            "Requirement already satisfied: aiohttp in /opt/miniconda3/envs/ai-essential/lib/python3.12/site-packages (from datasets->ragas->JAEN) (3.10.10)\n",
            "Requirement already satisfied: huggingface-hub>=0.22.0 in /opt/miniconda3/envs/ai-essential/lib/python3.12/site-packages (from datasets->ragas->JAEN) (0.25.2)\n",
            "Requirement already satisfied: packaging in /opt/miniconda3/envs/ai-essential/lib/python3.12/site-packages (from datasets->ragas->JAEN) (24.1)\n",
            "Requirement already satisfied: pyyaml>=5.1 in /opt/miniconda3/envs/ai-essential/lib/python3.12/site-packages (from datasets->ragas->JAEN) (6.0.2)\n",
            "Requirement already satisfied: SQLAlchemy<3,>=1.4 in /opt/miniconda3/envs/ai-essential/lib/python3.12/site-packages (from langchain->ragas->JAEN) (2.0.36)\n",
            "Requirement already satisfied: langchain-text-splitters<0.4.0,>=0.3.0 in /opt/miniconda3/envs/ai-essential/lib/python3.12/site-packages (from langchain->ragas->JAEN) (0.3.0)\n",
            "Requirement already satisfied: langsmith<0.2.0,>=0.1.17 in /opt/miniconda3/envs/ai-essential/lib/python3.12/site-packages (from langchain->ragas->JAEN) (0.1.135)\n",
            "Requirement already satisfied: tenacity!=8.4.0,<9.0.0,>=8.1.0 in /opt/miniconda3/envs/ai-essential/lib/python3.12/site-packages (from langchain->ragas->JAEN) (8.5.0)\n",
            "Requirement already satisfied: jsonpatch<2.0,>=1.33 in /opt/miniconda3/envs/ai-essential/lib/python3.12/site-packages (from langchain-core->ragas->JAEN) (1.33)\n",
            "Requirement already satisfied: dataclasses-json<0.7,>=0.5.7 in /opt/miniconda3/envs/ai-essential/lib/python3.12/site-packages (from langchain-community->ragas->JAEN) (0.6.7)\n",
            "Requirement already satisfied: pydantic-settings<3.0.0,>=2.4.0 in /opt/miniconda3/envs/ai-essential/lib/python3.12/site-packages (from langchain-community->ragas->JAEN) (2.6.0)\n",
            "Requirement already satisfied: regex>=2022.1.18 in /opt/miniconda3/envs/ai-essential/lib/python3.12/site-packages (from tiktoken->ragas->JAEN) (2024.9.11)\n",
            "Requirement already satisfied: aiohappyeyeballs>=2.3.0 in /opt/miniconda3/envs/ai-essential/lib/python3.12/site-packages (from aiohttp->datasets->ragas->JAEN) (2.4.3)\n",
            "Requirement already satisfied: aiosignal>=1.1.2 in /opt/miniconda3/envs/ai-essential/lib/python3.12/site-packages (from aiohttp->datasets->ragas->JAEN) (1.3.1)\n",
            "Requirement already satisfied: attrs>=17.3.0 in /opt/miniconda3/envs/ai-essential/lib/python3.12/site-packages (from aiohttp->datasets->ragas->JAEN) (24.2.0)\n",
            "Requirement already satisfied: frozenlist>=1.1.1 in /opt/miniconda3/envs/ai-essential/lib/python3.12/site-packages (from aiohttp->datasets->ragas->JAEN) (1.4.1)\n",
            "Requirement already satisfied: multidict<7.0,>=4.5 in /opt/miniconda3/envs/ai-essential/lib/python3.12/site-packages (from aiohttp->datasets->ragas->JAEN) (6.1.0)\n",
            "Requirement already satisfied: yarl<2.0,>=1.12.0 in /opt/miniconda3/envs/ai-essential/lib/python3.12/site-packages (from aiohttp->datasets->ragas->JAEN) (1.15.4)\n",
            "Requirement already satisfied: idna>=2.8 in /opt/miniconda3/envs/ai-essential/lib/python3.12/site-packages (from anyio<5,>=3.5.0->openai>1->ragas->JAEN) (3.7)\n",
            "Requirement already satisfied: marshmallow<4.0.0,>=3.18.0 in /opt/miniconda3/envs/ai-essential/lib/python3.12/site-packages (from dataclasses-json<0.7,>=0.5.7->langchain-community->ragas->JAEN) (3.22.0)\n",
            "Requirement already satisfied: typing-inspect<1,>=0.4.0 in /opt/miniconda3/envs/ai-essential/lib/python3.12/site-packages (from dataclasses-json<0.7,>=0.5.7->langchain-community->ragas->JAEN) (0.9.0)\n",
            "Requirement already satisfied: certifi in /opt/miniconda3/envs/ai-essential/lib/python3.12/site-packages (from httpx<1,>=0.23.0->openai>1->ragas->JAEN) (2024.8.30)\n",
            "Requirement already satisfied: httpcore==1.* in /opt/miniconda3/envs/ai-essential/lib/python3.12/site-packages (from httpx<1,>=0.23.0->openai>1->ragas->JAEN) (1.0.2)\n",
            "Requirement already satisfied: h11<0.15,>=0.13 in /opt/miniconda3/envs/ai-essential/lib/python3.12/site-packages (from httpcore==1.*->httpx<1,>=0.23.0->openai>1->ragas->JAEN) (0.14.0)\n",
            "Requirement already satisfied: jsonpointer>=1.9 in /opt/miniconda3/envs/ai-essential/lib/python3.12/site-packages (from jsonpatch<2.0,>=1.33->langchain-core->ragas->JAEN) (3.0.0)\n",
            "Requirement already satisfied: orjson<4.0.0,>=3.9.14 in /opt/miniconda3/envs/ai-essential/lib/python3.12/site-packages (from langsmith<0.2.0,>=0.1.17->langchain->ragas->JAEN) (3.10.7)\n",
            "Requirement already satisfied: requests-toolbelt<2.0.0,>=1.0.0 in /opt/miniconda3/envs/ai-essential/lib/python3.12/site-packages (from langsmith<0.2.0,>=0.1.17->langchain->ragas->JAEN) (1.0.0)\n",
            "Requirement already satisfied: python-dotenv>=0.21.0 in /opt/miniconda3/envs/ai-essential/lib/python3.12/site-packages (from pydantic-settings<3.0.0,>=2.4.0->langchain-community->ragas->JAEN) (1.0.1)\n",
            "Requirement already satisfied: charset-normalizer<4,>=2 in /opt/miniconda3/envs/ai-essential/lib/python3.12/site-packages (from requests>=2.32.2->datasets->ragas->JAEN) (3.3.2)\n",
            "Requirement already satisfied: urllib3<3,>=1.21.1 in /opt/miniconda3/envs/ai-essential/lib/python3.12/site-packages (from requests>=2.32.2->datasets->ragas->JAEN) (2.2.3)\n",
            "Requirement already satisfied: mypy-extensions>=0.3.0 in /opt/miniconda3/envs/ai-essential/lib/python3.12/site-packages (from typing-inspect<1,>=0.4.0->dataclasses-json<0.7,>=0.5.7->langchain-community->ragas->JAEN) (1.0.0)\n",
            "Requirement already satisfied: propcache>=0.2.0 in /opt/miniconda3/envs/ai-essential/lib/python3.12/site-packages (from yarl<2.0,>=1.12.0->aiohttp->datasets->ragas->JAEN) (0.2.0)\n",
            "Downloading JAEN-0.0.37-py3-none-any.whl (7.0 MB)\n",
            "\u001b[2K   \u001b[90m━━━━━━━━━━━━━━━━━━━━━━━━━━━━━━━━━━━━━━━━\u001b[0m \u001b[32m7.0/7.0 MB\u001b[0m \u001b[31m1.8 MB/s\u001b[0m eta \u001b[36m0:00:00\u001b[0ma \u001b[36m0:00:01\u001b[0mm\n",
            "\u001b[?25hInstalling collected packages: JAEN\n",
            "  Attempting uninstall: JAEN\n",
            "    Found existing installation: JAEN 0.0.36\n",
            "    Uninstalling JAEN-0.0.36:\n",
            "      Successfully uninstalled JAEN-0.0.36\n",
            "Successfully installed JAEN-0.0.37\n"
          ]
        }
      ],
      "source": [
        "!pip install JAEN torchinfo -U"
      ]
    },
    {
      "cell_type": "code",
      "execution_count": null,
      "id": "2b192c23",
      "metadata": {
        "id": "2b192c23",
        "outputId": "e28fba07-7cc6-4c7f-ce5d-c0bd7a99e601"
      },
      "outputs": [
        {
          "data": {
            "text/plain": [
              "device(type='cpu')"
            ]
          },
          "execution_count": 2,
          "metadata": {},
          "output_type": "execute_result"
        }
      ],
      "source": [
        "# 그대로 실행하세요.\n",
        "import torch\n",
        "import torch.nn as nn\n",
        "import torch.optim as optim\n",
        "from torchinfo import summary\n",
        "from torchvision import datasets, transforms\n",
        "from torch.utils.data import DataLoader, Dataset\n",
        "\n",
        "device = torch.device(\"cuda\" if torch.cuda.is_available() else \"cpu\")\n",
        "device"
      ]
    },
    {
      "cell_type": "code",
      "execution_count": null,
      "id": "4144477e",
      "metadata": {
        "id": "4144477e"
      },
      "outputs": [],
      "source": [
        "# 사용자명을 입력하세요. (이름이 아니여도 괜찮습니다.)\n",
        "username = \"\"\n",
        "assert username, \"username 변수에 값이 설정되지 않았습니다.\""
      ]
    },
    {
      "cell_type": "code",
      "execution_count": null,
      "id": "MkvHc266MWva",
      "metadata": {
        "id": "MkvHc266MWva",
        "jupyter": {
          "outputs_hidden": true
        }
      },
      "outputs": [],
      "source": [
        "# 그대로 실행하세요.\n",
        "from JAEN.competition import Competition\n",
        "comp = Competition(\n",
        "    username=username,\n",
        "    course_name='AI Essential',\n",
        "    course_round='1028(2)',\n",
        "    competition_name='Small Image Classification'\n",
        ")"
      ]
    },
    {
      "cell_type": "markdown",
      "id": "OSiIE4tdPcSV",
      "metadata": {
        "id": "OSiIE4tdPcSV"
      },
      "source": [
        "## 2. 데이터 로드"
      ]
    },
    {
      "cell_type": "code",
      "execution_count": null,
      "id": "Cwo9d1i-ON3u",
      "metadata": {
        "colab": {
          "base_uri": "https://localhost:8080/"
        },
        "id": "Cwo9d1i-ON3u",
        "outputId": "d111fc50-0768-43a6-9fad-40deda72ffaf"
      },
      "outputs": [
        {
          "data": {
            "text/plain": [
              "(torch.Size([1000, 3, 32, 32]),\n",
              " torch.Size([1000]),\n",
              " torch.Size([500, 3, 32, 32]))"
            ]
          },
          "execution_count": 6,
          "metadata": {},
          "output_type": "execute_result"
        }
      ],
      "source": [
        "from JAEN.datasets import load_small_image\n",
        "X, y, TEST = load_small_image()\n",
        "X.shape, y.shape, TEST.shape"
      ]
    },
    {
      "cell_type": "markdown",
      "id": "I_Vc3a22PgBm",
      "metadata": {
        "id": "I_Vc3a22PgBm"
      },
      "source": [
        "## 3. 제출 예시 코드"
      ]
    },
    {
      "cell_type": "code",
      "execution_count": null,
      "id": "933af893",
      "metadata": {
        "id": "933af893",
        "outputId": "e5bbfd25-8866-4296-c667-6cb4ae25ec4c"
      },
      "outputs": [
        {
          "data": {
            "text/plain": [
              "tensor([0., 0., 0., 0., 0., 0., 0., 0., 0., 0., 0., 0., 0., 0., 0., 0., 0., 0., 0., 0., 0., 0., 0., 0.,\n",
              "        0., 0., 0., 0., 0., 0., 0., 0., 0., 0., 0., 0., 0., 0., 0., 0., 0., 0., 0., 0., 0., 0., 0., 0.,\n",
              "        0., 0., 0., 0., 0., 0., 0., 0., 0., 0., 0., 0., 0., 0., 0., 0., 0., 0., 0., 0., 0., 0., 0., 0.,\n",
              "        0., 0., 0., 0., 0., 0., 0., 0., 0., 0., 0., 0., 0., 0., 0., 0., 0., 0., 0., 0., 0., 0., 0., 0.,\n",
              "        0., 0., 0., 0., 0., 0., 0., 0., 0., 0., 0., 0., 0., 0., 0., 0., 0., 0., 0., 0., 0., 0., 0., 0.,\n",
              "        0., 0., 0., 0., 0., 0., 0., 0., 0., 0., 0., 0., 0., 0., 0., 0., 0., 0., 0., 0., 0., 0., 0., 0.,\n",
              "        0., 0., 0., 0., 0., 0., 0., 0., 0., 0., 0., 0., 0., 0., 0., 0., 0., 0., 0., 0., 0., 0., 0., 0.,\n",
              "        0., 0., 0., 0., 0., 0., 0., 0., 0., 0., 0., 0., 0., 0., 0., 0., 0., 0., 0., 0., 0., 0., 0., 0.,\n",
              "        0., 0., 0., 0., 0., 0., 0., 0., 0., 0., 0., 0., 0., 0., 0., 0., 0., 0., 0., 0., 0., 0., 0., 0.,\n",
              "        0., 0., 0., 0., 0., 0., 0., 0., 0., 0., 0., 0., 0., 0., 0., 0., 0., 0., 0., 0., 0., 0., 0., 0.,\n",
              "        0., 0., 0., 0., 0., 0., 0., 0., 0., 0., 0., 0., 0., 0., 0., 0., 0., 0., 0., 0., 0., 0., 0., 0.,\n",
              "        0., 0., 0., 0., 0., 0., 0., 0., 0., 0., 0., 0., 0., 0., 0., 0., 0., 0., 0., 0., 0., 0., 0., 0.,\n",
              "        0., 0., 0., 0., 0., 0., 0., 0., 0., 0., 0., 0., 0., 0., 0., 0., 0., 0., 0., 0., 0., 0., 0., 0.,\n",
              "        0., 0., 0., 0., 0., 0., 0., 0., 0., 0., 0., 0., 0., 0., 0., 0., 0., 0., 0., 0., 0., 0., 0., 0.,\n",
              "        0., 0., 0., 0., 0., 0., 0., 0., 0., 0., 0., 0., 0., 0., 0., 0., 0., 0., 0., 0., 0., 0., 0., 0.,\n",
              "        0., 0., 0., 0., 0., 0., 0., 0., 0., 0., 0., 0., 0., 0., 0., 0., 0., 0., 0., 0., 0., 0., 0., 0.,\n",
              "        0., 0., 0., 0., 0., 0., 0., 0., 0., 0., 0., 0., 0., 0., 0., 0., 0., 0., 0., 0., 0., 0., 0., 0.,\n",
              "        0., 0., 0., 0., 0., 0., 0., 0., 0., 0., 0., 0., 0., 0., 0., 0., 0., 0., 0., 0., 0., 0., 0., 0.,\n",
              "        0., 0., 0., 0., 0., 0., 0., 0., 0., 0., 0., 0., 0., 0., 0., 0., 0., 0., 0., 0., 0., 0., 0., 0.,\n",
              "        0., 0., 0., 0., 0., 0., 0., 0., 0., 0., 0., 0., 0., 0., 0., 0., 0., 0., 0., 0., 0., 0., 0., 0.,\n",
              "        0., 0., 0., 0., 0., 0., 0., 0., 0., 0., 0., 0., 0., 0., 0., 0., 0., 0., 0., 0.])"
            ]
          },
          "execution_count": 7,
          "metadata": {},
          "output_type": "execute_result"
        }
      ],
      "source": [
        "# TEST의 예측값 대입 (지금은 0으로 채워진 값 대입)\n",
        "comp.prediction =  torch.zeros(500)\n",
        "comp.prediction"
      ]
    },
    {
      "cell_type": "code",
      "execution_count": null,
      "id": "wvkBKJUbKsW9",
      "metadata": {
        "colab": {
          "base_uri": "https://localhost:8080/"
        },
        "id": "wvkBKJUbKsW9",
        "outputId": "806a3d54-7257-458a-def7-3192d5d070aa"
      },
      "outputs": [
        {
          "name": "stdout",
          "output_type": "stream",
          "text": [
            "[Small Image Classification 평가 결과]\n",
            " AI Essential 1017(1) 과정 Hello World님의 점수는 0.1 입니다."
          ]
        }
      ],
      "source": [
        "# 제출\n",
        "comp.submit()"
      ]
    },
    {
      "cell_type": "markdown",
      "id": "4wNCB3ATlBe4",
      "metadata": {
        "id": "4wNCB3ATlBe4"
      },
      "source": [
        "## 4. 합성곱신경망 모델을 구성하고 학습하여 TEST를 예측해보세요.\n",
        "- TEST의 예측 결과는 `comp.prediction`에 대입해주세요. **torch.tensor** 형태여야합니다."
      ]
    },
    {
      "cell_type": "code",
      "execution_count": null,
      "id": "KtwmpH1EibaM",
      "metadata": {
        "id": "KtwmpH1EibaM"
      },
      "outputs": [],
      "source": [
        "from torch.utils.data import DataLoader, TensorDataset\n",
        "# TensorDataset을 사용하여 데이터셋 생성\n",
        "train_dataset = TensorDataset(X, y)\n",
        "test_dataset = TensorDataset(TEST)\n",
        "\n",
        "# DataLoader 생성\n",
        "batch_size = 32  # 배치 크기 설정\n",
        "train_loader = DataLoader(train_dataset, batch_size=batch_size, shuffle=True)\n",
        "test_loader = DataLoader(test_dataset, batch_size=batch_size, shuffle=False)"
      ]
    },
    {
      "cell_type": "code",
      "execution_count": null,
      "id": "-37EJXcZibcK",
      "metadata": {
        "id": "-37EJXcZibcK",
        "outputId": "1f54d907-8409-467e-d454-b4ce6ab2ab79"
      },
      "outputs": [
        {
          "data": {
            "text/plain": [
              "=================================================================\n",
              "Layer (type:depth-idx)                   Param #\n",
              "=================================================================\n",
              "SimpleCNN                                --\n",
              "├─Conv2d: 1-1                            896\n",
              "├─MaxPool2d: 1-2                         --\n",
              "├─Conv2d: 1-3                            18,496\n",
              "├─Conv2d: 1-4                            73,856\n",
              "├─Linear: 1-5                            524,544\n",
              "├─Linear: 1-6                            2,570\n",
              "=================================================================\n",
              "Total params: 620,362\n",
              "Trainable params: 620,362\n",
              "Non-trainable params: 0\n",
              "================================================================="
            ]
          },
          "execution_count": 16,
          "metadata": {},
          "output_type": "execute_result"
        }
      ],
      "source": [
        "import torch\n",
        "import torch.nn as nn\n",
        "import torch.nn.functional as F\n",
        "\n",
        "class SimpleCNN(nn.Module):\n",
        "    def __init__(self):\n",
        "        super(SimpleCNN, self).__init__()\n",
        "        # 첫 번째 합성곱 레이어\n",
        "        self.conv1 = nn.Conv2d(in_channels=3, out_channels=32, kernel_size=3, padding=1)  # 32 x 32 x 3 -> 32 x 32 x 32\n",
        "        self.pool = nn.MaxPool2d(kernel_size=2, stride=2)  # 32 x 32 x 32 -> 16 x 16 x 32\n",
        "        # 두 번째 합성곱 레이어\n",
        "        self.conv2 = nn.Conv2d(in_channels=32, out_channels=64, kernel_size=3, padding=1)  # 16 x 16 x 32 -> 16 x 16 x 64\n",
        "        # 세 번째 합성곱 레이어\n",
        "        self.conv3 = nn.Conv2d(in_channels=64, out_channels=128, kernel_size=3, padding=1)  # 16 x 16 x 64 -> 16 x 16 x 128\n",
        "\n",
        "        # 완전 연결층\n",
        "        self.fc1 = nn.Linear(128 * 4 * 4, 256)  # 4 x 4 x 128 -> 256\n",
        "        self.fc2 = nn.Linear(256, 10)  # 256 -> 10 (클래스 수)\n",
        "\n",
        "    def forward(self, x):\n",
        "        # Forward pass\n",
        "        x = self.pool(F.relu(self.conv1(x)))  # 첫 번째 레이어\n",
        "        x = self.pool(F.relu(self.conv2(x)))  # 두 번째 레이어\n",
        "        x = self.pool(F.relu(self.conv3(x)))  # 세 번째 레이어\n",
        "        x = x.view(-1, 128 * 4 * 4)  # Flatten\n",
        "        x = F.relu(self.fc1(x))  # 첫 번째 완전 연결층\n",
        "        x = self.fc2(x)  # 두 번째 완전 연결층 (출력)\n",
        "        return x\n",
        "\n",
        "# 모델 인스턴스 생성\n",
        "model = SimpleCNN()\n",
        "\n",
        "# 모델 요약 출력 (옵션)\n",
        "summary(model)"
      ]
    },
    {
      "cell_type": "code",
      "execution_count": null,
      "id": "a2237784",
      "metadata": {
        "id": "a2237784"
      },
      "outputs": [],
      "source": [
        "# 손실함수 및 옵티마이저 설정\n",
        "criterion = nn.CrossEntropyLoss()  # 크로스 엔트로피 손실 함수\n",
        "optimizer = optim.Adam(model.parameters())"
      ]
    },
    {
      "cell_type": "code",
      "execution_count": null,
      "id": "3e1ded1c",
      "metadata": {
        "id": "3e1ded1c",
        "outputId": "1843b40e-312f-46ba-cda5-3224cb60b790"
      },
      "outputs": [
        {
          "name": "stdout",
          "output_type": "stream",
          "text": [
            "Epoch [1/5], Loss: 2.2175098210573196\n",
            "Epoch [2/5], Loss: 1.93687704205513\n",
            "Epoch [3/5], Loss: 1.7667311131954193\n",
            "Epoch [4/5], Loss: 1.5618883781135082\n",
            "Epoch [5/5], Loss: 1.3951874561607838\n"
          ]
        }
      ],
      "source": [
        "# 모델 학습 과정 구현\n",
        "epochs = 5\n",
        "for epoch in range(epochs):\n",
        "    running_loss = 0.0\n",
        "    model.train()\n",
        "    for inputs, labels in train_loader:\n",
        "        optimizer.zero_grad()\n",
        "        outputs = model(inputs)\n",
        "        loss = criterion(outputs, labels)\n",
        "        loss.backward()\n",
        "        optimizer.step()\n",
        "        running_loss += loss.item()\n",
        "\n",
        "    print(f'Epoch [{epoch+1}/{epochs}], Loss: {running_loss / len(train_loader)}')"
      ]
    },
    {
      "cell_type": "code",
      "execution_count": null,
      "id": "c1439106",
      "metadata": {
        "id": "c1439106",
        "outputId": "f21374b3-41bb-4e59-a124-a75ffd3a12db"
      },
      "outputs": [
        {
          "name": "stdout",
          "output_type": "stream",
          "text": [
            "tensor([3, 8, 8, 8, 6, 6, 5, 6, 3, 8])\n"
          ]
        }
      ],
      "source": [
        "# 학습된 모델의 TEST 예측\n",
        "import torch.nn.functional as F\n",
        "\n",
        "# TEST 데이터에 대한 예측\n",
        "model.eval()  # 모델을 평가 모드로 설정\n",
        "all_predictions = []\n",
        "\n",
        "# DataLoader를 사용하여 배치 단위로 예측\n",
        "with torch.no_grad():\n",
        "    for inputs in test_loader:\n",
        "        outputs = model(inputs[0])  # 배치의 입력을 모델에 전달\n",
        "\n",
        "        # 소프트맥스를 사용하여 확률로 변환\n",
        "        probabilities = F.softmax(outputs, dim=1)\n",
        "\n",
        "        # 가장 높은 확률을 가진 클래스를 선택\n",
        "        predicted_labels = torch.argmax(probabilities, dim=1)\n",
        "        all_predictions.append(predicted_labels)\n",
        "\n",
        "# 모든 배치의 예측 결과를 하나의 텐서로 결합\n",
        "all_predictions = torch.cat(all_predictions)\n",
        "\n",
        "# 예측 레이블 확인\n",
        "print(all_predictions[:10])"
      ]
    },
    {
      "cell_type": "code",
      "execution_count": null,
      "id": "8fb7b590",
      "metadata": {
        "id": "8fb7b590",
        "outputId": "528f180d-a361-4d7e-e406-1d475325bee0"
      },
      "outputs": [
        {
          "data": {
            "text/plain": [
              "tensor([3, 8, 8, 8, 6, 6, 5, 6, 3, 8, 8, 9, 5, 1, 1, 3, 5, 6, 8, 6, 7, 2, 0, 9,\n",
              "        2, 2, 6, 7, 9, 6, 3, 2, 2, 6, 9, 3, 2, 1, 9, 3, 8, 6, 3, 6, 0, 8, 6, 8,\n",
              "        6, 6, 8, 1, 6, 6, 8, 8, 5, 6, 6, 6, 2, 6, 6, 0, 6, 6, 1, 0, 3, 9, 2, 6,\n",
              "        0, 8, 8, 2, 9, 5, 6, 8, 8, 1, 2, 3, 2, 7, 0, 8, 8, 9, 0, 6, 8, 2, 2, 6,\n",
              "        6, 2, 3, 7, 2, 6, 6, 6, 1, 8, 6, 6, 5, 5, 6, 0, 2, 2, 1, 3, 0, 3, 2, 6,\n",
              "        8, 4, 2, 2, 0, 6, 8, 6, 3, 6, 2, 9, 8, 9, 3, 5, 1, 0, 6, 8, 2, 5, 6, 5,\n",
              "        8, 2, 6, 5, 5, 5, 1, 8, 8, 0, 0, 6, 2, 8, 3, 0, 2, 1, 9, 6, 8, 7, 8, 6,\n",
              "        7, 9, 8, 7, 2, 0, 9, 9, 2, 7, 5, 0, 8, 6, 6, 2, 3, 8, 6, 6, 3, 0, 5, 3,\n",
              "        6, 1, 6, 4, 3, 2, 3, 3, 3, 8, 0, 7, 9, 3, 0, 2, 6, 8, 6, 9, 3, 9, 6, 3,\n",
              "        0, 9, 2, 2, 2, 6, 8, 5, 3, 1, 6, 2, 2, 3, 3, 9, 3, 0, 8, 0, 2, 8, 6, 6,\n",
              "        1, 3, 7, 8, 0, 6, 6, 8, 5, 8, 2, 3, 6, 1, 2, 0, 6, 8, 9, 6, 3, 9, 3, 3,\n",
              "        0, 8, 3, 4, 7, 3, 2, 2, 6, 3, 8, 3, 0, 6, 2, 5, 8, 0, 3, 0, 8, 9, 0, 0,\n",
              "        7, 0, 1, 2, 6, 8, 3, 2, 6, 0, 0, 6, 6, 6, 2, 8, 6, 8, 0, 2, 1, 2, 8, 6,\n",
              "        0, 2, 3, 2, 5, 6, 6, 5, 5, 5, 6, 6, 6, 9, 6, 6, 0, 6, 0, 8, 2, 6, 6, 6,\n",
              "        6, 8, 0, 7, 5, 6, 2, 5, 8, 3, 7, 6, 8, 9, 9, 1, 8, 2, 6, 2, 2, 3, 8, 8,\n",
              "        6, 5, 8, 0, 0, 0, 6, 8, 0, 6, 2, 0, 9, 2, 2, 3, 8, 6, 6, 6, 6, 9, 2, 8,\n",
              "        2, 0, 7, 6, 2, 5, 1, 0, 6, 3, 7, 6, 2, 3, 8, 8, 6, 1, 6, 8, 8, 2, 0, 9,\n",
              "        3, 6, 0, 5, 6, 9, 8, 6, 5, 5, 6, 4, 6, 0, 1, 2, 8, 5, 6, 6, 6, 2, 5, 5,\n",
              "        6, 6, 7, 2, 6, 3, 6, 6, 2, 9, 3, 6, 2, 2, 2, 6, 5, 2, 2, 6, 6, 6, 3, 9,\n",
              "        5, 2, 6, 7, 6, 3, 4, 6, 3, 7, 2, 2, 3, 6, 8, 1, 1, 8, 2, 6, 6, 6, 2, 3,\n",
              "        4, 5, 9, 6, 0, 7, 0, 8, 8, 2, 4, 1, 6, 8, 2, 0, 1, 9, 1, 4])"
            ]
          },
          "execution_count": 26,
          "metadata": {},
          "output_type": "execute_result"
        }
      ],
      "source": [
        "# comp.prediction에 TEST 예측 결과 대입\n",
        "comp.prediction = all_predictions\n",
        "comp.prediction"
      ]
    },
    {
      "cell_type": "code",
      "execution_count": null,
      "id": "ddd1d918",
      "metadata": {
        "id": "ddd1d918",
        "outputId": "2e216184-96e9-4921-ba7c-d1ff38dd4140"
      },
      "outputs": [
        {
          "name": "stdout",
          "output_type": "stream",
          "text": [
            "[Small Image Classification 평가 결과]\n",
            " AI Essential 1017(1) 과정 Hello World님의 점수는 0.382 입니다."
          ]
        }
      ],
      "source": [
        "# 제출\n",
        "comp.submit()"
      ]
    }
  ],
  "metadata": {
    "colab": {
      "provenance": [],
      "include_colab_link": true
    },
    "kernelspec": {
      "display_name": "ai-essential",
      "language": "python",
      "name": "python3"
    },
    "language_info": {
      "codemirror_mode": {
        "name": "ipython",
        "version": 3
      },
      "file_extension": ".py",
      "mimetype": "text/x-python",
      "name": "python",
      "nbconvert_exporter": "python",
      "pygments_lexer": "ipython3",
      "version": "3.12.7"
    }
  },
  "nbformat": 4,
  "nbformat_minor": 5
}