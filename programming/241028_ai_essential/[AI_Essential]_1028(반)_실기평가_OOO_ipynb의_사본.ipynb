{
  "cells": [
    {
      "cell_type": "markdown",
      "metadata": {
        "id": "view-in-github",
        "colab_type": "text"
      },
      "source": [
        "<a href=\"https://colab.research.google.com/github/kthur/kthur/blob/master/programming/241028_ai_essential/%5BAI_Essential%5D_1028(%EB%B0%98)_%EC%8B%A4%EA%B8%B0%ED%8F%89%EA%B0%80_OOO_ipynb%EC%9D%98_%EC%82%AC%EB%B3%B8.ipynb\" target=\"_parent\"><img src=\"https://colab.research.google.com/assets/colab-badge.svg\" alt=\"Open In Colab\"/></a>"
      ]
    },
    {
      "cell_type": "markdown",
      "id": "62ae591d-097d-40ec-ae74-00967e5c2a72",
      "metadata": {
        "id": "62ae591d-097d-40ec-ae74-00967e5c2a72"
      },
      "source": [
        "# **AI Essential 실기 평가**"
      ]
    },
    {
      "cell_type": "markdown",
      "id": "265d5cfb-3c58-47d2-bd56-9575ad1eed91",
      "metadata": {
        "id": "265d5cfb-3c58-47d2-bd56-9575ad1eed91"
      },
      "source": [
        "## [필독] **시험 주의 사항**\n",
        "\n",
        "- 아래와 같이 **주석으로 구분된 곳에서 코드를 수정 및 작성** 해야하며, 표시된 곳 **이외의 코드 및 하이퍼파라미터 값을 임의로 수정하면 오답 처리 될 수 있습니다.**\n",
        "\n",
        "```python\n",
        "        # ================================================================== #\n",
        "        #\n",
        "        #                이 곳에서 코드를 수정 및 작성하세요.\n",
        "        #\n",
        "        # ================================================================== #\n",
        "```\n",
        "\n",
        "- 각 문제마다 **\\[답안 작성\\], \\[답안 검증\\]** 셀이 제공됩니다.\n",
        "    - **\\[제공 코드\\]** : 답안 작성을 위해 기본적으로 제공되는 코드입니다.\n",
        "    - **\\[답안 작성\\]** : 문제에 대한 답안을 작성하는 코드 셀로 문제를 읽고 코드를 구현합니다.\n",
        "      - **답안 작성 셀을 삭제하거나 추가한 경우 실기 점수에 불이익이 있을 수 있습니다.**\n",
        "    - **\\[답안 검증\\]** : 문제에 대한 답안을 중간 점검하기 위한 코드 셀로 출력 값이 다를 수 있습니다.\n",
        "      - **해당 과정은 작성하신 답안의 정상 동작을 확인하는 과정으로 실기 점수(채점 결과)와는 연관이 없습니다.**\n",
        "\n",
        "### 문제를 꼭 꼼꼼하게 읽고 코드를 작성해주세요. 실기시험의 부분 점수는 없으며 문제가 지시한 사항을 따르지 않는 경우 오답 처리 됩니다."
      ]
    },
    {
      "cell_type": "markdown",
      "id": "8b5aa1af-c0b2-4089-b4b7-d425d15c9298",
      "metadata": {
        "id": "8b5aa1af-c0b2-4089-b4b7-d425d15c9298"
      },
      "source": [
        "## **시험 환경 설정**\n",
        "- 시험 응시를 위한 모듈을 설치합니다 아래 코드 셀을 실행하세요."
      ]
    },
    {
      "cell_type": "code",
      "source": [
        "%%capture\n",
        "!pip install JAEN -Uq"
      ],
      "metadata": {
        "collapsed": true,
        "id": "l4W_P3-5-9-n"
      },
      "id": "l4W_P3-5-9-n",
      "execution_count": 1,
      "outputs": []
    },
    {
      "cell_type": "code",
      "execution_count": null,
      "id": "a2eb96cb-a84f-4ec4-8f97-d7262e48f289",
      "metadata": {
        "id": "a2eb96cb-a84f-4ec4-8f97-d7262e48f289"
      },
      "outputs": [],
      "source": [
        "import torch\n",
        "import torch.nn as nn\n",
        "import torch.optim as optim\n",
        "from torchinfo import summary\n",
        "from torchvision import datasets, transforms\n",
        "from torch.utils.data import DataLoader, Dataset\n",
        "\n",
        "device = torch.device(\"cuda\" if torch.cuda.is_available() else \"cpu\")\n",
        "print(f'연산 장치 : {device}')\n",
        "\n",
        "import JAEN\n",
        "print(f'버전 확인 : {JAEN.__version__}')"
      ]
    },
    {
      "cell_type": "markdown",
      "id": "16957054-cb04-43c8-b9cb-83bff52a62cb",
      "metadata": {
        "id": "16957054-cb04-43c8-b9cb-83bff52a62cb"
      },
      "source": [
        "- 필요시 추가 모듈(패키지)를 불러올 수 있습니다."
      ]
    },
    {
      "cell_type": "code",
      "execution_count": null,
      "id": "b5c9e987-cd3e-4b4b-9ea7-6de5158381c8",
      "metadata": {
        "id": "b5c9e987-cd3e-4b4b-9ea7-6de5158381c8"
      },
      "outputs": [],
      "source": [
        "# 여기에 추가 모듈을 불러서 사용하세요.\n"
      ]
    },
    {
      "cell_type": "markdown",
      "id": "941ef804-ec75-456d-a6ca-ca28a8b90440",
      "metadata": {
        "id": "941ef804-ec75-456d-a6ca-ca28a8b90440"
      },
      "source": [
        "# **문제1. Leaky ReLU 활성화 함수 구현**\n",
        "\n",
        "### **문제 설명**\n",
        "- Leaky ReLU(Rectified Linear Unit) 활성화 함수는 ReLU의 변형으로, 음수 입력에 대해 작은 기울기를 가지도록 설계되었습니다. 이 함수는 비선형성을 제공하여 복잡한 문제를 해결하는 데 도움을 주며, 특히 경사 소실 문제를 완화하는 데 효과적입니다. Leaky ReLU는 양수 입력은 그대로 통과시키고, 음수 입력은 소량의 기여를 허용합니다.\n",
        "\n",
        "### **수식**\n",
        "$$\n",
        "LeakyReLU(x) = \\begin{cases}\n",
        "x & \\text{if } x > 0 \\\\\n",
        "\\alpha x & \\text{if } x \\leq 0\n",
        "\\end{cases} $$\n",
        "여기서, $\\alpha$는 음수 입력에 대한 기울기입니다.\n",
        "\n",
        "### **요구 사항**\n",
        "- `torch.max()` 함수를 사용하여 Leaky ReLU 활성화 함수를 구현해야 합니다.\n",
        "- PyTorch의 내장된 활성화 함수(`torch.nn.LeakyReLU`)를 사용하지 않고, 수식을 기반으로 직접 구현해야 합니다.\n",
        "- 기본적인 음수 기울기 값인 alpha 매개변수를 가지며 0.01로 설정되어 있습니다."
      ]
    },
    {
      "cell_type": "code",
      "execution_count": null,
      "id": "9mW2rkhokai9",
      "metadata": {
        "id": "9mW2rkhokai9"
      },
      "outputs": [],
      "source": [
        "# [답안 작성]\n",
        "# ================================================================== #\n",
        "def activation_function(x, alpha=0.01):\n",
        "\n",
        "# ================================================================== #\n"
      ]
    },
    {
      "cell_type": "code",
      "execution_count": null,
      "id": "f9a11f31-87a8-486b-affe-427bf48b888c",
      "metadata": {
        "colab": {
          "base_uri": "https://localhost:8080/"
        },
        "id": "f9a11f31-87a8-486b-affe-427bf48b888c",
        "outputId": "391399db-b227-4161-9c88-42d9e580d549"
      },
      "outputs": [
        {
          "output_type": "execute_result",
          "data": {
            "text/plain": [
              "tensor([-0.0100,  0.0000,  1.0000])"
            ]
          },
          "metadata": {},
          "execution_count": 4
        }
      ],
      "source": [
        "# [답안 검증] - 결과가 다르더라도 값이 정상적으로 출력되면 문제가 채점됩니다. 값이 출력되지 않으면 채점 대상에서 제외되니 [답안 작성] 코드 셀을 확인하세요.\n",
        "x = torch.Tensor([-1, 0, 1])\n",
        "y = activation_function(x)\n",
        "y # 출력 결과 : tensor([-0.0100,  0.0000,  1.0000])"
      ]
    },
    {
      "cell_type": "markdown",
      "id": "1fce38fd-732b-4347-b7fb-90df5c82bfbd",
      "metadata": {
        "id": "1fce38fd-732b-4347-b7fb-90df5c82bfbd"
      },
      "source": [
        "# **문제2. `DataLoader` 구현**\n",
        "\n",
        "### **문제 설명**\n",
        "- 인공 신경망 학습에서 데이터는 배치(batch) 단위로 모델에 입력되어야 합니다. PyTorch에서는 이를 쉽게 처리하기 위해 DataLoader라는 도구를 제공합니다. DataLoader는 데이터셋을 로드하고, 배치 단위로 모델에 전달하여 학습을 돕는 중요한 역할을 합니다. Pytorch를 이용하여 사용자 데이터셋과 DataLoader를 생성하세요.\n",
        "\n",
        "### **요구사항**\n",
        "- `CustomDataSet` 클래스를 구현하세요.\n",
        "  - `__init__`, `__len__`, `__getitem__` 함수를 구현하세요.\n",
        "- 구현한 `CustomDataSet` 클래스를 이용하여 `dataset` 변수를 생성하고 `dataloader`를 생성하세요.\n",
        "  - `dataset` 변수 생성에 사용되는 데이터는 `datas`와 `labels`입니다.\n",
        "- `dataloader`의 배치 크기를 32으로 설정하고, 데이터를 순서대로 가져오도록 하세요. 마지막 배치는 생략하지 않습니다."
      ]
    },
    {
      "cell_type": "code",
      "execution_count": null,
      "id": "0a52541f-8f7a-4fe2-af77-b26a5a2430ee",
      "metadata": {
        "colab": {
          "base_uri": "https://localhost:8080/"
        },
        "id": "0a52541f-8f7a-4fe2-af77-b26a5a2430ee",
        "outputId": "525621c5-a456-413c-e45b-6cbf5cd37472"
      },
      "outputs": [
        {
          "output_type": "execute_result",
          "data": {
            "text/plain": [
              "(torch.Size([200, 2]), torch.Size([200]))"
            ]
          },
          "metadata": {},
          "execution_count": 5
        }
      ],
      "source": [
        "# [코드 제공]\n",
        "torch.manual_seed(42)\n",
        "datas = torch.randn(200, 2)        # 2차원 텐서 (정형 데이터)\n",
        "labels = torch.randn((200,))       # 1차원 텐서 (수 예측을 위한 레이블)\n",
        "datas.shape, labels.shape"
      ]
    },
    {
      "cell_type": "code",
      "execution_count": null,
      "id": "27dc2db6-69a1-4efa-9273-4ab22d8bafd0",
      "metadata": {
        "id": "27dc2db6-69a1-4efa-9273-4ab22d8bafd0"
      },
      "outputs": [],
      "source": [
        "# [답안 작성] - 이 주석을 삭제하지 마세요.\n",
        "# ================================================================== # - 이 주석을 삭제하지 마세요.\n",
        "class CustomDataset(Dataset):\n",
        "\n",
        "# ================================================================== # - 이 주석을 삭제하지 마세요."
      ]
    },
    {
      "cell_type": "code",
      "execution_count": null,
      "id": "975b0528-387c-4aa5-838f-5968fc61f01c",
      "metadata": {
        "id": "975b0528-387c-4aa5-838f-5968fc61f01c"
      },
      "outputs": [],
      "source": [
        "# [답안 작성] - 이 주석을 삭제하지 마세요.\n",
        "# ================================================================== # - 이 주석을 삭제하지 마세요.\n",
        "dataset =\n",
        "data_loader =\n",
        "# ================================================================== # - 이 주석을 삭제하지 마세요."
      ]
    },
    {
      "cell_type": "code",
      "execution_count": null,
      "id": "a8cab444-d8a3-4fc4-b971-db1cfefe09b7",
      "metadata": {
        "colab": {
          "base_uri": "https://localhost:8080/"
        },
        "id": "a8cab444-d8a3-4fc4-b971-db1cfefe09b7",
        "outputId": "e1606188-848c-4a54-f1ba-6b9431efbf56"
      },
      "outputs": [
        {
          "output_type": "stream",
          "name": "stdout",
          "text": [
            "첫 번째 배치 데이터 크기 : torch.Size([32, 2])\n",
            "첫 번째 배치 레이블 크기 : torch.Size([32])\n",
            "첫 번째 배치, 첫 번째 데이터 : tensor([1.9269, 1.4873])\n",
            "첫 번째 배치, 첫 번째 레이블: 0.024699924513697624\n"
          ]
        }
      ],
      "source": [
        "# [답안 검증] - 결과가 다르더라도 값이 정상적으로 출력되면 문제가 채점됩니다. 값이 출력되지 않으면 채점 대상에서 제외되니 [답안 작성] 코드 셀을 확인하세요.\n",
        "torch.manual_seed(42)\n",
        "data_iter = iter(data_loader)\n",
        "batch_data, batch_labels = next(data_iter)\n",
        "print(f\"첫 번째 배치 데이터 크기 : {batch_data.shape}\")\n",
        "print(f\"첫 번째 배치 레이블 크기 : {batch_labels.shape}\")\n",
        "print(f\"첫 번째 배치, 첫 번째 데이터 : {batch_data[0]}\")\n",
        "print(f\"첫 번째 배치, 첫 번째 레이블: {batch_labels[0]}\")"
      ]
    },
    {
      "cell_type": "markdown",
      "id": "2596b213-bf71-43e8-bd81-3a53417b6d27",
      "metadata": {
        "id": "2596b213-bf71-43e8-bd81-3a53417b6d27"
      },
      "source": [
        "# **문제3. `합성곱 신경망` 구현**\n",
        "\n",
        "### **문제 설명**\n",
        "- Convolutional Neural Network (CNN)은 이미지 데이터의 특징을 추출하고 분류하는 데 매우 효과적인 모델입니다. PyTorch를 사용하여 CNN 모델을 구현하세요. (학습은 진행하지 않습니다.)\n",
        "\n",
        "### **요구사항**\n",
        "- CNN 모델을 설계하시오. 모델은 다음 구조를 따라야 합니다.\n",
        "    - 입력 데이터 형태: (batch, 3, 32, 32)\n",
        "      - 32x32 크기를 가지는 컬러이미지(RGB)를 입력으로 가정합니다.\n",
        "    - 첫 번째 컨볼루션 층(`conv1`): 3개의 입력 채널과 32개의 출력 채널, 커널 크기 3x3, 패딩 1, 스트라이드 1\n",
        "    - 두 번째 컨볼루션 층(`conv2`): 32개의 입력 채널과 64개의 출력 채널, 커널 크기 3x3, 패딩 1, 스트라이드 1\n",
        "    - 풀링 층(`pool`): Max Pooling, 크기 2x2, 스트라이드 2\n",
        "      - 풀링 층은 두 번째 컨볼루션 이후 에만 적용합니다.\n",
        "    - 평탄화 층(`flatten`)\n",
        "      - `Flatten` 레이어를 사용하세요.\n",
        "    - 완전 연결층 (Fully Connected Layer): 은닉층 2개(`fc1`, `fc2`)와 출력층(`fc3`) 1개를 추가하세요. 은닉층 `fc1`은 1024개, 은닉층 `fc2`는 512개의 뉴런을 가지며 출력층 `fc3`은 1개의 뉴런을 갖도록 구성하세요.\n",
        "    - 모든 은닉층(완전 연결층 및 컨볼루션 층 포함) 활성화 함수로는 ReLU를 사용하세요.\n",
        "      - `nn.ReLU`, `torch.ReLU` 모두 사용 가능합니다.\n",
        "    - 출력층 활성화 함수는 Sigmoid로 지정하세요.\n",
        "      - `nn.Sigmoid`, `torch.sigmoid` 모두 사용가능합니다.\n",
        "- 모델 구성은 nn.Sequential 혹은 nn.Module 중 자유롭게 선택하면 됩니다.\n",
        "    - nn.Module을 사용하는 경우 `__init__()` 함수에서 아래의 코드를 초기화 코드로 사용하세요. (이외의 초기화 방법을 사용하는 경우 오답 처리)\n",
        "        - **`super().__init__()`**\n",
        "- 모델 학습 및 손실 함수는 구현할 필요 없으며, CNN 모델 구현에만 집중하세요.\n",
        "- **`model` 변수에 구현한 모델을 저장하세요.**"
      ]
    },
    {
      "cell_type": "markdown",
      "id": "IGNZ0GG83Vz5",
      "metadata": {
        "id": "IGNZ0GG83Vz5"
      },
      "source": [
        "```\n",
        "=================================================================\n",
        "Layer (type:depth-idx)                   Param #\n",
        "=================================================================\n",
        "CNN                                      --\n",
        "├─Conv2d: 1-1                            896\n",
        "├─Conv2d: 1-2                            18,496\n",
        "├─MaxPool2d: 1-3                         --\n",
        "├─Flatten: 1-4                           --\n",
        "├─Linear: 1-5                            16,778,240\n",
        "├─Linear: 1-6                            524,800\n",
        "├─Linear: 1-7                            513\n",
        "=================================================================\n",
        "Total params: 17,322,945\n",
        "Trainable params: 17,322,945\n",
        "Non-trainable params: 0\n",
        "=================================================================\n",
        "```"
      ]
    },
    {
      "cell_type": "code",
      "execution_count": null,
      "id": "0hEKmy_fls7W",
      "metadata": {
        "colab": {
          "base_uri": "https://localhost:8080/"
        },
        "id": "0hEKmy_fls7W",
        "outputId": "772d8477-d290-443d-beb6-6c9e4ac94511"
      },
      "outputs": [
        {
          "output_type": "execute_result",
          "data": {
            "text/plain": [
              "=================================================================\n",
              "Layer (type:depth-idx)                   Param #\n",
              "=================================================================\n",
              "CNN                                      --\n",
              "├─Conv2d: 1-1                            896\n",
              "├─Conv2d: 1-2                            18,496\n",
              "├─MaxPool2d: 1-3                         --\n",
              "├─Flatten: 1-4                           --\n",
              "├─Linear: 1-5                            16,778,240\n",
              "├─Linear: 1-6                            524,800\n",
              "├─Linear: 1-7                            513\n",
              "=================================================================\n",
              "Total params: 17,322,945\n",
              "Trainable params: 17,322,945\n",
              "Non-trainable params: 0\n",
              "================================================================="
            ]
          },
          "metadata": {},
          "execution_count": 12
        }
      ],
      "source": [
        "# [답안 작성] - 이 주석을 삭제하지 마세요.\n",
        "torch.manual_seed(42) # 재현성 확보를 위해 삭제하지 마세요.\n",
        "# ================================================================== # - 이 주석을 삭제하지 마세요.\n",
        "\n",
        "\n",
        "# nn.Module 방식을 사용하는 경우 아래의 코드를 주석 해제 후 사용 (nn.Sequential을 사용하는 경우 주석 삭제)\n",
        "# class CNN(nn.Module):\n",
        "#     def __init__(self):\n",
        "#         super().__init__()\n",
        "\n",
        "model =\n",
        "summary(model)\n",
        "# ================================================================== # - 이 주석을 삭제하지 마세요."
      ]
    },
    {
      "cell_type": "code",
      "execution_count": null,
      "id": "375f2696-40ad-4026-a5c1-f22e08a04c96",
      "metadata": {
        "colab": {
          "base_uri": "https://localhost:8080/"
        },
        "id": "375f2696-40ad-4026-a5c1-f22e08a04c96",
        "outputId": "0c5d708b-c863-475e-a642-b76ffaf94526"
      },
      "outputs": [
        {
          "output_type": "execute_result",
          "data": {
            "text/plain": [
              "tensor([[0.5072]], grad_fn=<SigmoidBackward0>)"
            ]
          },
          "metadata": {},
          "execution_count": 12
        }
      ],
      "source": [
        "# [답안 검증] - 결과가 다르더라도 값이 정상적으로 출력되면 문제가 채점됩니다. 값이 출력되지 않으면 채점 대상에서 제외되니 [답안 작성] 코드 셀을 확인하세요.\n",
        "\n",
        "# 모든 값이 1로 채워진 1, 3, 32, 32 형태의 텐서 생성\n",
        "input_tensor = torch.ones((1, 3, 32, 32))\n",
        "\n",
        "# 모델에 입력하여 피드포워드 실행\n",
        "output = model(input_tensor)\n",
        "output"
      ]
    },
    {
      "cell_type": "markdown",
      "id": "91df908e-c4a5-47e2-a502-d3b05fb1fd43",
      "metadata": {
        "id": "91df908e-c4a5-47e2-a502-d3b05fb1fd43"
      },
      "source": [
        "# **문제4. `순환 신경망` 구현**\n",
        "\n",
        "### **문제 설명**\n",
        "- LSTM(Long Short-Term Memory)은 순차 데이터를 처리하고, 장기 의존성을 다루는 데 탁월한 성능을 보이는 순환 신경망(RNN)의 한 종류입니다. 이번 과제에서는 PyTorch의 LSTM 레이어를 사용하여 별점(1~5)을 예측하는 모델을 구현하세요.\n",
        "\n",
        "### **요구사항**\n",
        "\n",
        "- 모델은 1개의 Embedding 레이어(`embedding`), 1개의 LSTM 레이어(`lstm`), 1개의 출력층인 Fully Connected Layer(`fc`)을 가집니다.\n",
        "- `__init__`에서 정의한 매개변수를 활용하여 모델을 작성하세요.\n",
        "- 주요 사항은 다음과 같습니다:\n",
        "  - **입력 데이터**:\n",
        "    - 크기는 `(batch_size, 시퀀스 길이)`입니다.\n",
        "    - **단어 사전의 크기**는 500입니다.\n",
        "    - **임베딩 차원**은 32으로 설정됩니다.\n",
        "  - **LSTM 레이어**:\n",
        "    - **은닉 상태(hidden state)** 의 크기는 16로 설정됩니다.\n",
        "    - 모든 시퀀스를 출력한 후 **마지막 시퀀스를 선택**하여 예측에 사용됩니다.\n",
        "  - **출력층**:\n",
        "    - Fully Connected Layer는 은닉 상태에서 마지막 시퀀스를 입력으로 받아 5개의 출력을 생성합니다.\n",
        "- 모델 학습 및 손실 함수는 구현할 필요 없으며, RNN 모델 구현에만 집중하세요.\n",
        "- **`model` 변수에 구현한 모델을 저장하세요.**"
      ]
    },
    {
      "cell_type": "markdown",
      "id": "dMyTCeUS3iKz",
      "metadata": {
        "id": "dMyTCeUS3iKz"
      },
      "source": [
        "```\n",
        "=================================================================\n",
        "Layer (type:depth-idx)                   Param #\n",
        "=================================================================\n",
        "RNN                                      --\n",
        "├─Embedding: 1-1                         16,000\n",
        "├─LSTM: 1-2                              3,200\n",
        "├─Linear: 1-3                            85\n",
        "=================================================================\n",
        "Total params: 19,285\n",
        "Trainable params: 19,285\n",
        "Non-trainable params: 0\n",
        "=================================================================\n",
        "```"
      ]
    },
    {
      "cell_type": "code",
      "execution_count": null,
      "id": "6WgjrK3TmyU6",
      "metadata": {
        "colab": {
          "base_uri": "https://localhost:8080/"
        },
        "id": "6WgjrK3TmyU6",
        "outputId": "14264470-cc02-4981-96d2-7f160179f37c"
      },
      "outputs": [
        {
          "output_type": "execute_result",
          "data": {
            "text/plain": [
              "=================================================================\n",
              "Layer (type:depth-idx)                   Param #\n",
              "=================================================================\n",
              "RNN                                      --\n",
              "├─Embedding: 1-1                         16,000\n",
              "├─LSTM: 1-2                              3,200\n",
              "├─Linear: 1-3                            85\n",
              "=================================================================\n",
              "Total params: 19,285\n",
              "Trainable params: 19,285\n",
              "Non-trainable params: 0\n",
              "================================================================="
            ]
          },
          "metadata": {},
          "execution_count": 26
        }
      ],
      "source": [
        "# [답안 작성] - 이 주석을 삭제하지 마세요.\n",
        "torch.manual_seed(42) # 재현성 확보를 위해 삭제하지 마세요.\n",
        "# ================================================================== # - 이 주석을 삭제하지 마세요.\n",
        "class RNN(nn.Module):\n",
        "    def __init__(self, vocab_size, embedding_dim, hidden_dim, output_dim): # __init__ 함수의 매개변수를 수정하지 마세요.\n",
        "        super().__init__()\n",
        "\n",
        "\n",
        "model =\n",
        "summary(model)\n",
        "# ================================================================== # - 이 주석을 삭제하지 마세요.\n"
      ]
    },
    {
      "cell_type": "code",
      "execution_count": null,
      "id": "f67cb60e-6788-4b1f-b63a-108401c425a0",
      "metadata": {
        "colab": {
          "base_uri": "https://localhost:8080/"
        },
        "id": "f67cb60e-6788-4b1f-b63a-108401c425a0",
        "outputId": "928cc989-5921-4d8f-92c5-c10747d9569f"
      },
      "outputs": [
        {
          "output_type": "execute_result",
          "data": {
            "text/plain": [
              "tensor([[ 0.0722,  0.2188,  0.0011,  0.1804, -0.0047]],\n",
              "       grad_fn=<AddmmBackward0>)"
            ]
          },
          "metadata": {},
          "execution_count": 12
        }
      ],
      "source": [
        "# [답안 검증] - 결과가 다르더라도 값이 정상적으로 출력되면 문제가 채점됩니다. 값이 출력되지 않으면 채점 대상에서 제외되니 [답안 작성] 코드 셀을 확인하세요.\n",
        "torch.manual_seed(42)\n",
        "random_data_point = torch.randint(0, 500, (1, 7))\n",
        "\n",
        "# 모델에 입력하여 피드포워드 실행\n",
        "output = model(random_data_point)\n",
        "output"
      ]
    },
    {
      "cell_type": "markdown",
      "id": "0c555815-ea8f-487a-950e-42e000162d24",
      "metadata": {
        "id": "0c555815-ea8f-487a-950e-42e000162d24"
      },
      "source": [
        "# **문제5. `심층 신경망` 구현 (전복 나이 예측 데이터셋)**\n",
        "\n",
        "### **문제 설명**\n",
        "- 심층 신경망은 여러 개의 은닉층을 갖는 신경망으로, 다양한 비선형 변환을 통해 복잡한 데이터 패턴을 학습할 수 있습니다.\n",
        "- 전복 나이를 예측 하는 심층 신경망(Deep Neural Network, DNN)을 구현하세요.\n",
        "  \n",
        "### **요구 사항**\n",
        "- 전복 나이 예측 데이터셋은 JAEN 모듈의 `load_data()` 함수로 불러올 수 있으며, 8개의 특성(feature)을 가진 데이터입니다.\n",
        "  - 회귀 문제 입니다.\n",
        "- 학습 및 평가는 제공된 `train_loader`와 `test_loader`를 사용하세요.\n",
        "- 심층 신경망 모델 구조 및 구현 방식은 자유롭게 진행하되, `model` 변수에 저장하세요.\n",
        "  - 손실 함수에 맞는 출력층의 뉴런 수와 활성화 함수를 지정하세요.\n",
        "- 손실 함수로 `MSELoss`(평균 제곱 오차)를 사용하고 `criterion`변수에, 옵티마이저로 `Adam`을 사용하여 `optimizer`변수에 저장하세요.\n",
        "- 모델을 10 에포크 동안 학습시키고, 각 에포크에서의 손실을 출력하세요.\n",
        "  - `running_loss / len(train_loader)`\n",
        "- 평가 데이터(`test_loader`)의 평균 제곱 오차(MSE)를 계산하고, 최종 MSE를 출력하세요.\n",
        "  - `total_loss / len(test_loader)`"
      ]
    },
    {
      "cell_type": "code",
      "execution_count": null,
      "id": "eefcde56-36aa-415f-a7bb-e05f13b8cc36",
      "metadata": {
        "collapsed": true,
        "id": "eefcde56-36aa-415f-a7bb-e05f13b8cc36",
        "jupyter": {
          "outputs_hidden": true
        },
        "colab": {
          "base_uri": "https://localhost:8080/"
        },
        "outputId": "6be65a65-83b2-4214-80c5-1e1ad8932734"
      },
      "outputs": [
        {
          "output_type": "execute_result",
          "data": {
            "text/plain": [
              "(torch.Size([32, 8]), torch.Size([32]))"
            ]
          },
          "metadata": {},
          "execution_count": 6
        }
      ],
      "source": [
        "# [제공 코드] - 이 코드를 실행하세요.\n",
        "from JAEN.datasets import load_data\n",
        "train_loader, test_loader = load_data('abalone')\n",
        "x, y = next(iter(train_loader))\n",
        "x.shape, y.shape"
      ]
    },
    {
      "cell_type": "markdown",
      "source": [
        "- 심층 신경망 모델 구조 및 구현 방식은 자유롭게 진행하되, `model` 변수에 저장하세요."
      ],
      "metadata": {
        "id": "rw9CkL9EEEuo"
      },
      "id": "rw9CkL9EEEuo"
    },
    {
      "cell_type": "code",
      "execution_count": null,
      "id": "wwbvjVIun0IQ",
      "metadata": {
        "id": "wwbvjVIun0IQ",
        "colab": {
          "base_uri": "https://localhost:8080/"
        },
        "outputId": "4e07d538-cbaa-4e8d-aa74-9ccee8dea24a"
      },
      "outputs": [
        {
          "output_type": "execute_result",
          "data": {
            "text/plain": [
              "=================================================================\n",
              "Layer (type:depth-idx)                   Param #\n",
              "=================================================================\n",
              "DNN                                      --\n",
              "├─Linear: 1-1                            576\n",
              "├─Linear: 1-2                            2,080\n",
              "├─Linear: 1-3                            33\n",
              "├─ReLU: 1-4                              --\n",
              "=================================================================\n",
              "Total params: 2,689\n",
              "Trainable params: 2,689\n",
              "Non-trainable params: 0\n",
              "================================================================="
            ]
          },
          "metadata": {},
          "execution_count": 3
        }
      ],
      "source": [
        "# [답안 작성] - 이 주석을 삭제하지 마세요.\n",
        "# 모델 생성 (아래 구조는 예시로 꼭 따라할 필요는 없습니다.)\n",
        "# ================================================================== # - 이 주석을 삭제하지 마세요.\n",
        "\n",
        "# nn.Module 방식을 사용하는 경우 아래의 코드를 주석 해제 후 사용 (nn.Sequential을 사용하는 경우 주석 삭제)\n",
        "# class DNN(nn.Module):\n",
        "#     def __init__(self):\n",
        "#         super().__init__()\n",
        "\n",
        "\n",
        "# ================================================================== # - 이 주석을 삭제하지 마세요."
      ]
    },
    {
      "cell_type": "markdown",
      "source": [
        "- 손실 함수로 `MSELoss`(평균 제곱 오차)를 사용하고 `criterion`변수에, 옵티마이저로 `Adam`을 사용하여 `optimizer`변수에 저장하세요."
      ],
      "metadata": {
        "id": "ukUMAjI6EJ6j"
      },
      "id": "ukUMAjI6EJ6j"
    },
    {
      "cell_type": "code",
      "execution_count": null,
      "id": "RVjxFb06n0KV",
      "metadata": {
        "id": "RVjxFb06n0KV"
      },
      "outputs": [],
      "source": [
        "# [답안 작성] - 이 주석을 삭제하지 마세요.\n",
        "#  손실함수 및 옵티마이저 정의\n",
        "# ================================================================== # - 이 주석을 삭제하지 마세요.\n",
        "criterion =\n",
        "optimizer =\n",
        "# ================================================================== # - 이 주석을 삭제하지 마세요."
      ]
    },
    {
      "cell_type": "markdown",
      "source": [
        "- 모델을 10 에포크 동안 학습시키고, 각 에포크에서의 손실을 출력하세요.\n",
        "  - `running_loss / len(train_loader)`"
      ],
      "metadata": {
        "id": "9twI7f4NDrK8"
      },
      "id": "9twI7f4NDrK8"
    },
    {
      "cell_type": "code",
      "execution_count": null,
      "id": "pGFHxyPJn0Mo",
      "metadata": {
        "colab": {
          "base_uri": "https://localhost:8080/"
        },
        "id": "pGFHxyPJn0Mo",
        "outputId": "a564caf9-48e3-4452-d55c-00e3eeb0356f"
      },
      "outputs": [
        {
          "output_type": "stream",
          "name": "stdout",
          "text": [
            "Epoch 1, Loss: 57.856538754417784\n",
            "Epoch 2, Loss: 16.63206169037592\n",
            "Epoch 3, Loss: 11.736752644039335\n",
            "Epoch 4, Loss: 11.289893254779635\n",
            "Epoch 5, Loss: 10.995917079562233\n",
            "Epoch 6, Loss: 10.864002686455136\n",
            "Epoch 7, Loss: 10.67661342166719\n",
            "Epoch 8, Loss: 10.647358124596732\n",
            "Epoch 9, Loss: 10.510563537052699\n",
            "Epoch 10, Loss: 10.4725695337568\n"
          ]
        }
      ],
      "source": [
        "# [답안 작성] - 이 주석을 삭제하지 마세요.\n",
        "# 학습 과정 코드 작성\n",
        "# ================================================================== # - 이 주석을 삭제하지 마세요.\n",
        "epochs = 10\n",
        "for epoch in range( {코드작성} ): # epochs 변수의 값 만큼 반복\n",
        "    running_loss = 0.0\n",
        "\n",
        "    {코드작성}  # 모델을 학습모드로 설정\n",
        "\n",
        "    for inputs, labels in train_loader:\n",
        "        inputs = inputs.to(device)\n",
        "        labels = labels.to(device)\n",
        "\n",
        "        # inputs에 대한 출력값(outputs) 계산\n",
        "        outputs = {코드작성}\n",
        "\n",
        "        # 출력값(outputs)과 정답값(labels)의 손실 계산\n",
        "        loss =  {코드작성}\n",
        "\n",
        "        # 이전 계산된 기울기를 0으로 초기화\n",
        "        {코드작성}\n",
        "\n",
        "        # 손실(loss)에 대한 각 파라미터의 기울기(gradient)를 계산\n",
        "        {코드작성}\n",
        "\n",
        "        # 계산된 기울기를 사용하여 각 파라미터를 업데이트\n",
        "        {코드작성}\n",
        "\n",
        "        running_loss += loss.item()\n",
        "\n",
        "    print(f'Epoch {epoch+1}, Loss: {코드작성}') # 에폭별 손실 값 출력\n",
        "# ================================================================== # - 이 주석을 삭제하지 마세요."
      ]
    },
    {
      "cell_type": "markdown",
      "source": [
        "- 평가 데이터(`test_loader`)의 평균 제곱 오차(MSE)를 계산하고, 최종 MSE를 출력하세요.\n",
        "  - `total_loss / len(test_loader)`"
      ],
      "metadata": {
        "id": "JPCbziluDyzB"
      },
      "id": "JPCbziluDyzB"
    },
    {
      "cell_type": "code",
      "execution_count": null,
      "id": "V-LpKZUbn0Ox",
      "metadata": {
        "colab": {
          "base_uri": "https://localhost:8080/"
        },
        "id": "V-LpKZUbn0Ox",
        "outputId": "6b1be0d8-391f-4281-8576-71e8758e5f6f"
      },
      "outputs": [
        {
          "output_type": "stream",
          "name": "stdout",
          "text": [
            "Loss: 10.684541684609872\n"
          ]
        }
      ],
      "source": [
        "# [답안 작성] - 이 주석을 삭제하지 마세요.\n",
        "# 평가 과정 코드 작성\n",
        "# ================================================================== # - 이 주석을 삭제하지 마세요.\n",
        "\n",
        "{코드작성} # 모델을 평가모드로 설정\n",
        "\n",
        "total_loss = 0.0\n",
        "with {코드작성} : # 기울기 계산을 비활성화\n",
        "    for inputs, labels in test_loader:\n",
        "        inputs = inputs.to(device)        # 데이터를 device로 이동\n",
        "        labels = labels.to(device)        # 데이터를 device로 이동\n",
        "\n",
        "        # inputs에 대한 출력값(outputs) 계산\n",
        "        outputs = {코드작성}\n",
        "\n",
        "        # 출력값(outputs)과 정답값(labels)의 손실 계산\n",
        "        loss =  {코드작성}\n",
        "\n",
        "        # 각 배치별 손실값 추가\n",
        "        total_loss += loss.item()\n",
        "\n",
        "    # 평균 제곱 오차 (MSE) 계산\n",
        "    print(f'Loss: {코드작성}')\n",
        "# ================================================================== # - 이 주석을 삭제하지 마세요."
      ]
    },
    {
      "cell_type": "markdown",
      "source": [
        "# 수고하셨습니다. 파일 이름의 '반' 부분은 본인의 반, 'OOO' 부분을 본인의 성함으로 변경하여 저장한 후, 평가 시스템에 제출해주시면 됩니다."
      ],
      "metadata": {
        "id": "eIw6SjBzEdkL"
      },
      "id": "eIw6SjBzEdkL"
    }
  ],
  "metadata": {
    "colab": {
      "provenance": [],
      "include_colab_link": true
    },
    "kernelspec": {
      "display_name": "base",
      "language": "python",
      "name": "python3"
    },
    "language_info": {
      "codemirror_mode": {
        "name": "ipython",
        "version": 3
      },
      "file_extension": ".py",
      "mimetype": "text/x-python",
      "name": "python",
      "nbconvert_exporter": "python",
      "pygments_lexer": "ipython3",
      "version": "3.10.14"
    }
  },
  "nbformat": 4,
  "nbformat_minor": 5
}