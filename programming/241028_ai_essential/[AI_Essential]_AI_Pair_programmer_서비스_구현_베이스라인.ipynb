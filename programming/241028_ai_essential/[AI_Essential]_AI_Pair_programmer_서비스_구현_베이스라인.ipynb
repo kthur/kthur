{
  "cells": [
    {
      "cell_type": "markdown",
      "metadata": {
        "id": "view-in-github",
        "colab_type": "text"
      },
      "source": [
        "<a href=\"https://colab.research.google.com/github/kthur/kthur/blob/master/programming/241028_ai_essential/%5BAI_Essential%5D_AI_Pair_programmer_%EC%84%9C%EB%B9%84%EC%8A%A4_%EA%B5%AC%ED%98%84_%EB%B2%A0%EC%9D%B4%EC%8A%A4%EB%9D%BC%EC%9D%B8.ipynb\" target=\"_parent\"><img src=\"https://colab.research.google.com/assets/colab-badge.svg\" alt=\"Open In Colab\"/></a>"
      ]
    },
    {
      "cell_type": "markdown",
      "id": "C3HNZJH5LuqI",
      "metadata": {
        "id": "C3HNZJH5LuqI"
      },
      "source": [
        "# AI Pair programmer 서비스 구현\n",
        "- **목표**\n",
        "  - LangChain과 RAG를 활용하여 PyTorch 공식 문서 기반 AI Pair Programmer 서비스를 구현한다.\n",
        "  - 프롬프트에 따라 질의 응답, 코드 생성, 코드 리뷰, 리팩토링 등의 역할 구현할 수 있다.\n",
        "- 구현 단계\n",
        "  - 준비된 데이터를 로더를 통해 Document로 읽어온다.\n",
        "  - 읽어온 Document를 임베딩을 적용하여 벡터스토어를 생성한다.\n",
        "  - 검색기, 프롬프트, 응답 모델, RAG 체인 등을 구성하여 평가 데이터에 대한 응답을 생성한다.\n",
        "  - 응답을 리더보드에 제출한다."
      ]
    },
    {
      "cell_type": "markdown",
      "id": "FerWbWa8ML9S",
      "metadata": {
        "id": "FerWbWa8ML9S"
      },
      "source": [
        "## 1. 환경 설정 및 데이터 수집"
      ]
    },
    {
      "cell_type": "code",
      "execution_count": null,
      "id": "2bxXr4CJMQ5y",
      "metadata": {
        "id": "2bxXr4CJMQ5y",
        "scrolled": true
      },
      "outputs": [],
      "source": [
        "!pip install JAEN langchain langchain_community langchain_openai faiss-cpu ragas"
      ]
    },
    {
      "cell_type": "code",
      "execution_count": null,
      "id": "MG2QSt8uh5Ms",
      "metadata": {
        "id": "MG2QSt8uh5Ms"
      },
      "outputs": [],
      "source": [
        "# API 키 설정\n",
        "import os\n",
        "os.environ[\"OPENAI_API_KEY\"] = \"\"\n",
        "os.environ[\"TAVILY_API_KEY\"] = \"\""
      ]
    },
    {
      "cell_type": "code",
      "execution_count": null,
      "id": "MkvHc266MWva",
      "metadata": {
        "id": "MkvHc266MWva",
        "jupyter": {
          "outputs_hidden": true
        }
      },
      "outputs": [],
      "source": [
        "# 참고 데이터 다운로드\n",
        "# PyTorch Tutorials 파일\n",
        "from JAEN import download_file\n",
        "download_file('Pytorch-Tutorials')\n",
        "\n",
        "!rm -rf docs\n",
        "!mkdir docs\n",
        "!unzip -d docs \"PyTorch Tutorials.zip\""
      ]
    },
    {
      "cell_type": "markdown",
      "id": "OSiIE4tdPcSV",
      "metadata": {
        "id": "OSiIE4tdPcSV"
      },
      "source": [
        "## 2. 문서 로드"
      ]
    },
    {
      "cell_type": "code",
      "execution_count": null,
      "id": "Cwo9d1i-ON3u",
      "metadata": {
        "colab": {
          "base_uri": "https://localhost:8080/"
        },
        "id": "Cwo9d1i-ON3u",
        "outputId": "d111fc50-0768-43a6-9fad-40deda72ffaf"
      },
      "outputs": [
        {
          "data": {
            "text/plain": [
              "40"
            ]
          },
          "execution_count": 4,
          "metadata": {},
          "output_type": "execute_result"
        }
      ],
      "source": [
        "# 그대로 실행하세요.\n",
        "from bs4 import BeautifulSoup\n",
        "import os\n",
        "from langchain.schema import Document\n",
        "\n",
        "# HTML 파일에서 텍스트를 추출하고 Document 객체로 변환하는 함수\n",
        "def extract_text_from_html(file_path):\n",
        "    # HTML 파일을 열고 BeautifulSoup을 사용하여 파싱함\n",
        "    with open(file_path, 'r', encoding='utf-8') as f:\n",
        "        soup = BeautifulSoup(f, 'html.parser')\n",
        "        # HTML의 텍스트를 추출, 태그 사이에 공백을 삽입하여 구분함\n",
        "        text = soup.get_text(separator=' ')\n",
        "\n",
        "        # Text 데이터 전처리\n",
        "        text = text.replace('\\n', '')\n",
        "\n",
        "        # 추출한 텍스트를 Document 객체로 변환하고, metadata에 파일 경로를 저장\n",
        "        doc = Document(page_content=text, metadata={\"source\": file_path})\n",
        "        return doc\n",
        "\n",
        "# 주어진 디렉터리 내의 모든 HTML 파일을 Document 객체로 변환하는 함수\n",
        "def extract_all_docs(directory):\n",
        "    docs = []  # Document 객체를 저장할 리스트\n",
        "    # 디렉터리 내 파일과 하위 디렉터리를 순회\n",
        "    for root, dirs, files in os.walk(directory):\n",
        "        for file in files:\n",
        "            if file.endswith('.html'):  # 확장자가 .html인 파일만 처리\n",
        "                file_path = os.path.join(root, file)  # 파일 경로를 생성\n",
        "                doc = extract_text_from_html(file_path)  # 파일에서 텍스트 추출 후 Document로 변환\n",
        "                docs.append(doc)  # 생성된 Document 객체를 리스트에 추가\n",
        "    return docs\n",
        "\n",
        "# HTML 파일을 Document로 로드\n",
        "docs = extract_all_docs('docs/')  # 주어진 디렉터리에서 HTML 파일들을 Document 객체로 로드\n",
        "len(docs)  # Document 객체의 개수를 반환 (얼마나 많은 파일이 처리되었는지 확인)"
      ]
    },
    {
      "cell_type": "markdown",
      "id": "I_Vc3a22PgBm",
      "metadata": {
        "id": "I_Vc3a22PgBm"
      },
      "source": [
        "## 3. 제출 예시 코드"
      ]
    },
    {
      "cell_type": "code",
      "execution_count": null,
      "id": "d7081e02",
      "metadata": {
        "id": "d7081e02"
      },
      "outputs": [],
      "source": [
        "# 사용자명을 입력하세요. (이름이 아니여도 괜찮습니다.)\n",
        "username = \"\"\n",
        "assert username, \"username 변수에 값이 설정되지 않았습니다.\""
      ]
    },
    {
      "cell_type": "code",
      "execution_count": null,
      "id": "rnXHGi3XfOmH",
      "metadata": {
        "id": "rnXHGi3XfOmH"
      },
      "outputs": [],
      "source": [
        "# 제출 예시\n",
        "from JAEN.competition import Competition\n",
        "\n",
        "# 제출 모듈 로드\n",
        "comp = Competition(\n",
        "  username = username,                     # 사용자명을 입력하세요. (이름이 아니여도 괜찮습니다.)\n",
        "  course_name = \"AI Essential\",            # 수정하지 마세요.\n",
        "  course_round = \"1028(2)\",                # 본인의 반으로 수정해주세요. ex) 1007(1), 1007(2), 1007(3), 1007(4)\n",
        "  competition_name = \"AI Pair Programmer\", # 수정하지 마세요.\n",
        ")"
      ]
    },
    {
      "cell_type": "code",
      "execution_count": null,
      "id": "XgU_tfeTfOqg",
      "metadata": {
        "colab": {
          "base_uri": "https://localhost:8080/"
        },
        "collapsed": true,
        "id": "XgU_tfeTfOqg",
        "jupyter": {
          "outputs_hidden": true
        },
        "outputId": "3f0be2e9-68fd-4bbb-878a-4c69a64d0be6"
      },
      "outputs": [
        {
          "name": "stdout",
          "output_type": "stream",
          "text": [
            "Q: What do the values of D(x) and D(G(z)) represent in the context of the training process?\n",
            "A: \n",
            "\n",
            "Q: What does the Tensor factory do in PyTorch with `requires_grad=True`?\n",
            "A: \n",
            "\n",
            "Q: What is the significance of saving model checkpoints in distributed training?\n",
            "A: \n",
            "\n",
            "Q: What is the significance of epochs in the training loop of a neural network?\n",
            "A: \n",
            "\n",
            "Q: What is the purpose of using ResNet18 for fine-tuning in the context of image classification?\n",
            "A: \n",
            "\n",
            "Q: What connects distributed training and advanced model techniques?\n",
            "A: \n",
            "\n",
            "Q: How does the Vision Transformer boost model performance?\n",
            "A: \n",
            "\n",
            "Q: How does Torch's autograd aid in optimizing parameters for polynomial regression?\n",
            "A: \n",
            "\n",
            "Q: What are the key features of LightNN and its role in training/testing with cross-entropy loss?\n",
            "A: \n",
            "\n",
            "Q: What ExecuTorch tutorials can help improve model training?\n",
            "A: \n",
            "\n"
          ]
        }
      ],
      "source": [
        "# 평가 데이터 확인\n",
        "for question in comp.questions.values():\n",
        "    print(\"Q:\",question['question'])\n",
        "    print(\"A:\",question['answer'])\n",
        "    print()"
      ]
    },
    {
      "cell_type": "code",
      "execution_count": null,
      "id": "xlK63dxik0jJ",
      "metadata": {
        "id": "xlK63dxik0jJ"
      },
      "outputs": [],
      "source": [
        "# 실제 제출 시에는 Chain의 결과를 바로 전달하시면 됩니다.\n",
        "# 전달할 값은 꼭 문자열이어야 합니다.\n",
        "for question_id in comp.questions:\n",
        "    comp.questions[question_id]['answer'] = 'a'"
      ]
    },
    {
      "cell_type": "code",
      "execution_count": null,
      "id": "c9dfCN7RfOss",
      "metadata": {
        "id": "c9dfCN7RfOss"
      },
      "outputs": [],
      "source": [
        "# # [예시]\n",
        "# # 실제 제출 시에는 Chain의 결과를 바로 전달하시면 됩니다.\n",
        "# # 전달할 값은 꼭 문자열이어야 합니다.\n",
        "# for question_id in comp.questions:\n",
        "#     comp.questions[question_id]['answer'] = chain.invoke(comp.questions[question_id]['question'])"
      ]
    },
    {
      "cell_type": "code",
      "execution_count": null,
      "id": "peQdtxOAgOrc",
      "metadata": {
        "colab": {
          "base_uri": "https://localhost:8080/"
        },
        "id": "peQdtxOAgOrc",
        "jupyter": {
          "outputs_hidden": true
        },
        "outputId": "9f1d2283-9810-401d-c343-d72fb32fc744"
      },
      "outputs": [
        {
          "name": "stdout",
          "output_type": "stream",
          "text": [
            "Q: What do the values of D(x) and D(G(z)) represent in the context of the training process?\n",
            "A: a\n",
            "\n",
            "Q: What does the Tensor factory do in PyTorch with `requires_grad=True`?\n",
            "A: a\n",
            "\n",
            "Q: What is the significance of saving model checkpoints in distributed training?\n",
            "A: a\n",
            "\n",
            "Q: What is the significance of epochs in the training loop of a neural network?\n",
            "A: a\n",
            "\n",
            "Q: What is the purpose of using ResNet18 for fine-tuning in the context of image classification?\n",
            "A: a\n",
            "\n",
            "Q: What connects distributed training and advanced model techniques?\n",
            "A: a\n",
            "\n",
            "Q: How does the Vision Transformer boost model performance?\n",
            "A: a\n",
            "\n",
            "Q: How does Torch's autograd aid in optimizing parameters for polynomial regression?\n",
            "A: a\n",
            "\n",
            "Q: What are the key features of LightNN and its role in training/testing with cross-entropy loss?\n",
            "A: a\n",
            "\n",
            "Q: What ExecuTorch tutorials can help improve model training?\n",
            "A: a\n",
            "\n"
          ]
        }
      ],
      "source": [
        "# 설정된 결과 확인\n",
        "for question in comp.questions.values():\n",
        "    print(\"Q:\",question['question'])\n",
        "    print(\"A:\",question['answer'])\n",
        "    print()"
      ]
    },
    {
      "cell_type": "code",
      "execution_count": null,
      "id": "wvkBKJUbKsW9",
      "metadata": {
        "id": "wvkBKJUbKsW9"
      },
      "outputs": [],
      "source": [
        "# 제출\n",
        "comp.submit()"
      ]
    },
    {
      "cell_type": "markdown",
      "id": "4wNCB3ATlBe4",
      "metadata": {
        "id": "4wNCB3ATlBe4"
      },
      "source": [
        "## 4. 자유롭게 Chain을 구성하여 테스트 데이터에 대한 응답을 생성한 후 제출해보세요.\n",
        " - 사용 모델은 'gpt-4o-mini'로 고정해주세요.\n",
        " - 임베딩은 Cache Embedding 사용을 권장합니다.\n",
        " - **한번에 너무 많은 데이터의 임베딩은 Limit이 발생하여 프로젝트 진행에 어려움이 있을 수 있습니다.**"
      ]
    },
    {
      "cell_type": "code",
      "execution_count": null,
      "id": "KtwmpH1EibaM",
      "metadata": {
        "id": "KtwmpH1EibaM"
      },
      "outputs": [],
      "source": []
    },
    {
      "cell_type": "code",
      "execution_count": null,
      "id": "-37EJXcZibcK",
      "metadata": {
        "id": "-37EJXcZibcK"
      },
      "outputs": [],
      "source": []
    }
  ],
  "metadata": {
    "colab": {
      "provenance": [],
      "include_colab_link": true
    },
    "kernelspec": {
      "display_name": "base",
      "language": "python",
      "name": "python3"
    },
    "language_info": {
      "codemirror_mode": {
        "name": "ipython",
        "version": 3
      },
      "file_extension": ".py",
      "mimetype": "text/x-python",
      "name": "python",
      "nbconvert_exporter": "python",
      "pygments_lexer": "ipython3",
      "version": "3.10.14"
    }
  },
  "nbformat": 4,
  "nbformat_minor": 5
}