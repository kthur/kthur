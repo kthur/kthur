{
  "cells": [
    {
      "cell_type": "markdown",
      "metadata": {
        "id": "view-in-github",
        "colab_type": "text"
      },
      "source": [
        "<a href=\"https://colab.research.google.com/github/kthur/kthur/blob/master/%5BAI_Essential%5D_House_Price_Prediction_%EC%86%94%EB%A3%A8%EC%85%98.ipynb\" target=\"_parent\"><img src=\"https://colab.research.google.com/assets/colab-badge.svg\" alt=\"Open In Colab\"/></a>"
      ]
    },
    {
      "cell_type": "markdown",
      "id": "C3HNZJH5LuqI",
      "metadata": {
        "id": "C3HNZJH5LuqI"
      },
      "source": [
        "# House Price Prediction\n",
        "- **목표**\n",
        "  - 이 워크샵은 주어진 데이터셋을 이용해 심층신경망 모델을 학습시켜 주택의 최종 판매 가격(SalePrice)을 예측하는 것이 최종 목표입니다.\n",
        "\n",
        "- **데이터셋 정보**\n",
        "  - 데이터셋은 총 79개의 설명 변수와 타겟 변수인 주택 가격(SalePrice)로 구성됩니다.\n",
        "  - 설명 변수는 주택의 다양한 특성(예: 건축 연도, 면적, 위치, 방 개수 등)을 포함합니다.\n",
        "  - 데이터는 판매 가격이 포함된 학습용 데이터인 `X`, `y` 와 판매 가격이 포함되지 않은 평가용 데이터인 `TEST`파일로 나뉘며, 각각 모델 학습 및 평가에 사용됩니다.\n",
        "    - 평가용 데이터 `TEST`의 판매 가격(SalePrice)를 예측 후 리더보드로 제출하여 평가합니다.\n",
        "\n",
        "- **문제 유형**\n",
        "  - 이 워크샵은 회귀 문제로 연속형 변수를 예측하는 것이 목표입니다. 모델의 성능은 `Mean Absolute Error`로 측정됩니다."
      ]
    },
    {
      "cell_type": "markdown",
      "id": "FerWbWa8ML9S",
      "metadata": {
        "id": "FerWbWa8ML9S"
      },
      "source": [
        "## 1. 환경 설정"
      ]
    },
    {
      "cell_type": "code",
      "execution_count": null,
      "id": "fbebc02c",
      "metadata": {
        "id": "fbebc02c",
        "outputId": "a0d4b992-fef5-4c9f-df21-5df39a81e9e1"
      },
      "outputs": [
        {
          "name": "stdout",
          "output_type": "stream",
          "text": [
            "Requirement already satisfied: JAEN in c:\\users\\baem1n\\miniforge3\\lib\\site-packages (0.0.33)\n",
            "Requirement already satisfied: torchinfo in c:\\users\\baem1n\\miniforge3\\lib\\site-packages (1.8.0)\n",
            "Requirement already satisfied: pandas in c:\\users\\baem1n\\miniforge3\\lib\\site-packages (from JAEN) (2.2.2)\n",
            "Requirement already satisfied: ragas in c:\\users\\baem1n\\miniforge3\\lib\\site-packages (from JAEN) (0.2.0)\n",
            "Requirement already satisfied: numpy>=1.22.4 in c:\\users\\baem1n\\miniforge3\\lib\\site-packages (from pandas->JAEN) (1.26.4)\n",
            "Requirement already satisfied: python-dateutil>=2.8.2 in c:\\users\\baem1n\\miniforge3\\lib\\site-packages (from pandas->JAEN) (2.9.0)\n",
            "Requirement already satisfied: pytz>=2020.1 in c:\\users\\baem1n\\miniforge3\\lib\\site-packages (from pandas->JAEN) (2024.1)\n",
            "Requirement already satisfied: tzdata>=2022.7 in c:\\users\\baem1n\\miniforge3\\lib\\site-packages (from pandas->JAEN) (2024.1)\n",
            "Requirement already satisfied: datasets in c:\\users\\baem1n\\miniforge3\\lib\\site-packages (from ragas->JAEN) (3.0.1)\n",
            "Requirement already satisfied: tiktoken in c:\\users\\baem1n\\miniforge3\\lib\\site-packages (from ragas->JAEN) (0.7.0)\n",
            "Requirement already satisfied: langchain in c:\\users\\baem1n\\miniforge3\\lib\\site-packages (from ragas->JAEN) (0.3.3)\n",
            "Requirement already satisfied: langchain-core in c:\\users\\baem1n\\miniforge3\\lib\\site-packages (from ragas->JAEN) (0.3.10)\n",
            "Requirement already satisfied: langchain-community in c:\\users\\baem1n\\miniforge3\\lib\\site-packages (from ragas->JAEN) (0.3.2)\n",
            "Requirement already satisfied: langchain-openai in c:\\users\\baem1n\\miniforge3\\lib\\site-packages (from ragas->JAEN) (0.2.2)\n",
            "Requirement already satisfied: nest-asyncio in c:\\users\\baem1n\\appdata\\roaming\\python\\python310\\site-packages (from ragas->JAEN) (1.6.0)\n",
            "Requirement already satisfied: appdirs in c:\\users\\baem1n\\miniforge3\\lib\\site-packages (from ragas->JAEN) (1.4.4)\n",
            "Requirement already satisfied: pydantic>=2 in c:\\users\\baem1n\\miniforge3\\lib\\site-packages (from ragas->JAEN) (2.9.2)\n",
            "Requirement already satisfied: openai>1 in c:\\users\\baem1n\\miniforge3\\lib\\site-packages (from ragas->JAEN) (1.43.0)\n",
            "Requirement already satisfied: pysbd>=0.3.4 in c:\\users\\baem1n\\miniforge3\\lib\\site-packages (from ragas->JAEN) (0.3.4)\n",
            "Requirement already satisfied: anyio<5,>=3.5.0 in c:\\users\\baem1n\\miniforge3\\lib\\site-packages (from openai>1->ragas->JAEN) (4.4.0)\n",
            "Requirement already satisfied: distro<2,>=1.7.0 in c:\\users\\baem1n\\miniforge3\\lib\\site-packages (from openai>1->ragas->JAEN) (1.9.0)\n",
            "Requirement already satisfied: httpx<1,>=0.23.0 in c:\\users\\baem1n\\miniforge3\\lib\\site-packages (from openai>1->ragas->JAEN) (0.27.2)\n",
            "Requirement already satisfied: jiter<1,>=0.4.0 in c:\\users\\baem1n\\miniforge3\\lib\\site-packages (from openai>1->ragas->JAEN) (0.5.0)\n",
            "Requirement already satisfied: sniffio in c:\\users\\baem1n\\miniforge3\\lib\\site-packages (from openai>1->ragas->JAEN) (1.3.1)\n",
            "Requirement already satisfied: tqdm>4 in c:\\users\\baem1n\\miniforge3\\lib\\site-packages (from openai>1->ragas->JAEN) (4.66.5)\n",
            "Requirement already satisfied: typing-extensions<5,>=4.11 in c:\\users\\baem1n\\miniforge3\\lib\\site-packages (from openai>1->ragas->JAEN) (4.12.2)\n",
            "Requirement already satisfied: annotated-types>=0.6.0 in c:\\users\\baem1n\\miniforge3\\lib\\site-packages (from pydantic>=2->ragas->JAEN) (0.7.0)\n",
            "Requirement already satisfied: pydantic-core==2.23.4 in c:\\users\\baem1n\\miniforge3\\lib\\site-packages (from pydantic>=2->ragas->JAEN) (2.23.4)\n",
            "Requirement already satisfied: six>=1.5 in c:\\users\\baem1n\\miniforge3\\lib\\site-packages (from python-dateutil>=2.8.2->pandas->JAEN) (1.16.0)\n",
            "Requirement already satisfied: filelock in c:\\users\\baem1n\\miniforge3\\lib\\site-packages (from datasets->ragas->JAEN) (3.15.4)\n",
            "Requirement already satisfied: pyarrow>=15.0.0 in c:\\users\\baem1n\\miniforge3\\lib\\site-packages (from datasets->ragas->JAEN) (17.0.0)\n",
            "Requirement already satisfied: dill<0.3.9,>=0.3.0 in c:\\users\\baem1n\\miniforge3\\lib\\site-packages (from datasets->ragas->JAEN) (0.3.8)\n",
            "Requirement already satisfied: requests>=2.32.2 in c:\\users\\baem1n\\miniforge3\\lib\\site-packages (from datasets->ragas->JAEN) (2.32.3)\n",
            "Requirement already satisfied: xxhash in c:\\users\\baem1n\\miniforge3\\lib\\site-packages (from datasets->ragas->JAEN) (3.5.0)\n",
            "Requirement already satisfied: multiprocess in c:\\users\\baem1n\\miniforge3\\lib\\site-packages (from datasets->ragas->JAEN) (0.70.16)\n",
            "Requirement already satisfied: fsspec<=2024.6.1,>=2023.1.0 in c:\\users\\baem1n\\miniforge3\\lib\\site-packages (from fsspec[http]<=2024.6.1,>=2023.1.0->datasets->ragas->JAEN) (2024.6.1)\n",
            "Requirement already satisfied: aiohttp in c:\\users\\baem1n\\miniforge3\\lib\\site-packages (from datasets->ragas->JAEN) (3.10.5)\n",
            "Requirement already satisfied: huggingface-hub>=0.22.0 in c:\\users\\baem1n\\miniforge3\\lib\\site-packages (from datasets->ragas->JAEN) (0.24.6)\n",
            "Requirement already satisfied: packaging in c:\\users\\baem1n\\miniforge3\\lib\\site-packages (from datasets->ragas->JAEN) (24.0)\n",
            "Requirement already satisfied: pyyaml>=5.1 in c:\\users\\baem1n\\miniforge3\\lib\\site-packages (from datasets->ragas->JAEN) (6.0.2)\n",
            "Requirement already satisfied: SQLAlchemy<3,>=1.4 in c:\\users\\baem1n\\miniforge3\\lib\\site-packages (from langchain->ragas->JAEN) (2.0.34)\n",
            "Requirement already satisfied: async-timeout<5.0.0,>=4.0.0 in c:\\users\\baem1n\\miniforge3\\lib\\site-packages (from langchain->ragas->JAEN) (4.0.3)\n",
            "Requirement already satisfied: langchain-text-splitters<0.4.0,>=0.3.0 in c:\\users\\baem1n\\miniforge3\\lib\\site-packages (from langchain->ragas->JAEN) (0.3.0)\n",
            "Requirement already satisfied: langsmith<0.2.0,>=0.1.17 in c:\\users\\baem1n\\miniforge3\\lib\\site-packages (from langchain->ragas->JAEN) (0.1.125)\n",
            "Requirement already satisfied: tenacity!=8.4.0,<9.0.0,>=8.1.0 in c:\\users\\baem1n\\miniforge3\\lib\\site-packages (from langchain->ragas->JAEN) (8.5.0)\n",
            "Requirement already satisfied: jsonpatch<2.0,>=1.33 in c:\\users\\baem1n\\miniforge3\\lib\\site-packages (from langchain-core->ragas->JAEN) (1.33)\n",
            "Requirement already satisfied: dataclasses-json<0.7,>=0.5.7 in c:\\users\\baem1n\\miniforge3\\lib\\site-packages (from langchain-community->ragas->JAEN) (0.6.7)\n",
            "Requirement already satisfied: pydantic-settings<3.0.0,>=2.4.0 in c:\\users\\baem1n\\miniforge3\\lib\\site-packages (from langchain-community->ragas->JAEN) (2.5.2)\n",
            "Requirement already satisfied: regex>=2022.1.18 in c:\\users\\baem1n\\miniforge3\\lib\\site-packages (from tiktoken->ragas->JAEN) (2024.7.24)\n",
            "Requirement already satisfied: aiohappyeyeballs>=2.3.0 in c:\\users\\baem1n\\miniforge3\\lib\\site-packages (from aiohttp->datasets->ragas->JAEN) (2.4.0)\n",
            "Requirement already satisfied: aiosignal>=1.1.2 in c:\\users\\baem1n\\miniforge3\\lib\\site-packages (from aiohttp->datasets->ragas->JAEN) (1.3.1)\n",
            "Requirement already satisfied: attrs>=17.3.0 in c:\\users\\baem1n\\miniforge3\\lib\\site-packages (from aiohttp->datasets->ragas->JAEN) (24.2.0)\n",
            "Requirement already satisfied: frozenlist>=1.1.1 in c:\\users\\baem1n\\miniforge3\\lib\\site-packages (from aiohttp->datasets->ragas->JAEN) (1.4.1)\n",
            "Requirement already satisfied: multidict<7.0,>=4.5 in c:\\users\\baem1n\\miniforge3\\lib\\site-packages (from aiohttp->datasets->ragas->JAEN) (6.0.5)\n",
            "Requirement already satisfied: yarl<2.0,>=1.0 in c:\\users\\baem1n\\miniforge3\\lib\\site-packages (from aiohttp->datasets->ragas->JAEN) (1.9.8)\n",
            "Requirement already satisfied: idna>=2.8 in c:\\users\\baem1n\\miniforge3\\lib\\site-packages (from anyio<5,>=3.5.0->openai>1->ragas->JAEN) (3.6)\n",
            "Requirement already satisfied: exceptiongroup>=1.0.2 in c:\\users\\baem1n\\appdata\\roaming\\python\\python310\\site-packages (from anyio<5,>=3.5.0->openai>1->ragas->JAEN) (1.2.2)\n",
            "Requirement already satisfied: marshmallow<4.0.0,>=3.18.0 in c:\\users\\baem1n\\miniforge3\\lib\\site-packages (from dataclasses-json<0.7,>=0.5.7->langchain-community->ragas->JAEN) (3.22.0)\n",
            "Requirement already satisfied: typing-inspect<1,>=0.4.0 in c:\\users\\baem1n\\miniforge3\\lib\\site-packages (from dataclasses-json<0.7,>=0.5.7->langchain-community->ragas->JAEN) (0.9.0)\n",
            "Requirement already satisfied: certifi in c:\\users\\baem1n\\miniforge3\\lib\\site-packages (from httpx<1,>=0.23.0->openai>1->ragas->JAEN) (2024.8.30)\n",
            "Requirement already satisfied: httpcore==1.* in c:\\users\\baem1n\\miniforge3\\lib\\site-packages (from httpx<1,>=0.23.0->openai>1->ragas->JAEN) (1.0.5)\n",
            "Requirement already satisfied: h11<0.15,>=0.13 in c:\\users\\baem1n\\miniforge3\\lib\\site-packages (from httpcore==1.*->httpx<1,>=0.23.0->openai>1->ragas->JAEN) (0.14.0)\n",
            "Requirement already satisfied: jsonpointer>=1.9 in c:\\users\\baem1n\\miniforge3\\lib\\site-packages (from jsonpatch<2.0,>=1.33->langchain-core->ragas->JAEN) (2.4)\n",
            "Requirement already satisfied: orjson<4.0.0,>=3.9.14 in c:\\users\\baem1n\\miniforge3\\lib\\site-packages (from langsmith<0.2.0,>=0.1.17->langchain->ragas->JAEN) (3.10.7)\n",
            "Requirement already satisfied: python-dotenv>=0.21.0 in c:\\users\\baem1n\\miniforge3\\lib\\site-packages (from pydantic-settings<3.0.0,>=2.4.0->langchain-community->ragas->JAEN) (1.0.1)\n",
            "Requirement already satisfied: charset-normalizer<4,>=2 in c:\\users\\baem1n\\miniforge3\\lib\\site-packages (from requests>=2.32.2->datasets->ragas->JAEN) (3.3.2)\n",
            "Requirement already satisfied: urllib3<3,>=1.21.1 in c:\\users\\baem1n\\miniforge3\\lib\\site-packages (from requests>=2.32.2->datasets->ragas->JAEN) (2.2.1)\n",
            "Requirement already satisfied: greenlet!=0.4.17 in c:\\users\\baem1n\\miniforge3\\lib\\site-packages (from SQLAlchemy<3,>=1.4->langchain->ragas->JAEN) (3.0.3)\n",
            "Requirement already satisfied: colorama in c:\\users\\baem1n\\miniforge3\\lib\\site-packages (from tqdm>4->openai>1->ragas->JAEN) (0.4.6)\n",
            "Requirement already satisfied: mypy-extensions>=0.3.0 in c:\\users\\baem1n\\miniforge3\\lib\\site-packages (from typing-inspect<1,>=0.4.0->dataclasses-json<0.7,>=0.5.7->langchain-community->ragas->JAEN) (1.0.0)\n"
          ]
        },
        {
          "name": "stderr",
          "output_type": "stream",
          "text": [
            "WARNING: Ignoring invalid distribution -treamlit (c:\\users\\baem1n\\miniforge3\\lib\\site-packages)\n",
            "WARNING: Ignoring invalid distribution -treamlit (c:\\users\\baem1n\\miniforge3\\lib\\site-packages)\n"
          ]
        }
      ],
      "source": [
        "!pip install JAEN torchinfo -U"
      ]
    },
    {
      "cell_type": "code",
      "execution_count": null,
      "id": "2b192c23",
      "metadata": {
        "id": "2b192c23"
      },
      "outputs": [],
      "source": [
        "# 그대로 실행하세요.\n",
        "import torch\n",
        "import torch.nn as nn\n",
        "import torch.optim as optim\n",
        "from torchinfo import summary\n",
        "from torchvision import datasets, transforms\n",
        "from torch.utils.data import DataLoader, Dataset\n",
        "\n",
        "device = torch.device(\"cuda\" if torch.cuda.is_available() else \"cpu\")\n",
        "device"
      ]
    },
    {
      "cell_type": "code",
      "execution_count": null,
      "id": "4144477e",
      "metadata": {
        "id": "4144477e"
      },
      "outputs": [],
      "source": [
        "# 사용자명을 입력하세요. (이름이 아니여도 괜찮습니다.)\n",
        "username = \"<test>\"\n",
        "assert username, \"username 변수에 값이 설정되지 않았습니다.\""
      ]
    },
    {
      "cell_type": "code",
      "execution_count": null,
      "id": "MkvHc266MWva",
      "metadata": {
        "id": "MkvHc266MWva",
        "jupyter": {
          "outputs_hidden": true
        }
      },
      "outputs": [],
      "source": [
        "# 그대로 실행하세요.\n",
        "from JAEN.competition import Competition\n",
        "comp = Competition(\n",
        "    username=username,\n",
        "    course_name='AI Essential',\n",
        "    course_round='1028(2)',\n",
        "    competition_name='House Price Prediction'\n",
        ")"
      ]
    },
    {
      "cell_type": "markdown",
      "id": "OSiIE4tdPcSV",
      "metadata": {
        "id": "OSiIE4tdPcSV"
      },
      "source": [
        "## 2. 데이터 로드"
      ]
    },
    {
      "cell_type": "code",
      "execution_count": null,
      "id": "Cwo9d1i-ON3u",
      "metadata": {
        "colab": {
          "base_uri": "https://localhost:8080/"
        },
        "id": "Cwo9d1i-ON3u",
        "outputId": "d111fc50-0768-43a6-9fad-40deda72ffaf"
      },
      "outputs": [
        {
          "data": {
            "text/plain": [
              "(torch.Size([1460, 79]), torch.Size([1460, 1]), torch.Size([1459, 79]))"
            ]
          },
          "execution_count": 6,
          "metadata": {},
          "output_type": "execute_result"
        }
      ],
      "source": [
        "from JAEN.datasets import load_house_price\n",
        "X, y, TEST = load_house_price()\n",
        "X.shape, y.shape, TEST.shape"
      ]
    },
    {
      "cell_type": "markdown",
      "id": "I_Vc3a22PgBm",
      "metadata": {
        "id": "I_Vc3a22PgBm"
      },
      "source": [
        "## 3. 제출 예시 코드"
      ]
    },
    {
      "cell_type": "code",
      "execution_count": null,
      "id": "933af893",
      "metadata": {
        "id": "933af893",
        "outputId": "260b4239-a5bf-48f8-a243-599d6e3d42b2"
      },
      "outputs": [
        {
          "data": {
            "text/plain": [
              "tensor([0., 0., 0.,  ..., 0., 0., 0.])"
            ]
          },
          "execution_count": 7,
          "metadata": {},
          "output_type": "execute_result"
        }
      ],
      "source": [
        "# TEST의 예측값 대입 (지금은 0으로 채워진 값 대입)\n",
        "comp.prediction =  torch.zeros(1459)\n",
        "comp.prediction"
      ]
    },
    {
      "cell_type": "code",
      "execution_count": null,
      "id": "wvkBKJUbKsW9",
      "metadata": {
        "colab": {
          "base_uri": "https://localhost:8080/"
        },
        "id": "wvkBKJUbKsW9",
        "outputId": "806a3d54-7257-458a-def7-3192d5d070aa"
      },
      "outputs": [
        {
          "name": "stdout",
          "output_type": "stream",
          "text": [
            "[House Price Prediction 평가 결과]\n",
            " AI Essential 1017(1) 과정 Hello World님의 점수는 180493.328125 입니다."
          ]
        }
      ],
      "source": [
        "# 제출\n",
        "comp.submit()"
      ]
    },
    {
      "cell_type": "markdown",
      "id": "4wNCB3ATlBe4",
      "metadata": {
        "id": "4wNCB3ATlBe4"
      },
      "source": [
        "## 4. 심층신경망 모델을 구성하고 학습하여 TEST를 예측해보세요.\n",
        "- TEST의 예측 결과는 `comp.prediction`에 대입해주세요. **torch.tensor** 형태여야합니다."
      ]
    },
    {
      "cell_type": "code",
      "execution_count": null,
      "id": "KtwmpH1EibaM",
      "metadata": {
        "id": "KtwmpH1EibaM"
      },
      "outputs": [],
      "source": [
        "# DataLoader 생성\n",
        "from torch.utils.data import DataLoader, TensorDataset\n",
        "train_loader = DataLoader(TensorDataset(X, y), batch_size=32, shuffle=True)"
      ]
    },
    {
      "cell_type": "code",
      "execution_count": null,
      "id": "-37EJXcZibcK",
      "metadata": {
        "id": "-37EJXcZibcK",
        "outputId": "8ef47592-b645-42fe-b74c-351e1873a343"
      },
      "outputs": [
        {
          "data": {
            "text/plain": [
              "=================================================================\n",
              "Layer (type:depth-idx)                   Param #\n",
              "=================================================================\n",
              "DNNModel                                 --\n",
              "├─Linear: 1-1                            10,240\n",
              "├─Linear: 1-2                            8,256\n",
              "├─Linear: 1-3                            65\n",
              "├─ReLU: 1-4                              --\n",
              "=================================================================\n",
              "Total params: 18,561\n",
              "Trainable params: 18,561\n",
              "Non-trainable params: 0\n",
              "================================================================="
            ]
          },
          "execution_count": 11,
          "metadata": {},
          "output_type": "execute_result"
        }
      ],
      "source": [
        "# DNN 모델 구성\n",
        "class DNNModel(nn.Module):\n",
        "    def __init__(self):\n",
        "        super(DNNModel, self).__init__()\n",
        "        self.fc1 = nn.Linear(79, 128)\n",
        "        self.fc2 = nn.Linear(128, 64)\n",
        "        self.fc3 = nn.Linear(64, 1)\n",
        "        self.relu = nn.ReLU()\n",
        "\n",
        "    def forward(self, x):\n",
        "        x = self.relu(self.fc1(x))\n",
        "        x = self.relu(self.fc2(x))\n",
        "        x = self.fc3(x)\n",
        "        return x\n",
        "\n",
        "model = DNNModel().to(device)\n",
        "summary(model)"
      ]
    },
    {
      "cell_type": "code",
      "execution_count": null,
      "id": "a2237784",
      "metadata": {
        "id": "a2237784"
      },
      "outputs": [],
      "source": [
        "# 손실함수 및 옵티마이저 설정\n",
        "criterion = nn.L1Loss()\n",
        "optimizer = optim.Adam(model.parameters())"
      ]
    },
    {
      "cell_type": "code",
      "execution_count": null,
      "id": "3e1ded1c",
      "metadata": {
        "id": "3e1ded1c",
        "outputId": "5dd4377c-7e5e-4e11-8cb0-726e9a2edafe"
      },
      "outputs": [
        {
          "name": "stdout",
          "output_type": "stream",
          "text": [
            "Epoch [1/1000], Loss: 6414.4312107252035\n",
            "Epoch [101/1000], Loss: 6205.5028288468075\n",
            "Epoch [201/1000], Loss: 5907.556109884511\n",
            "Epoch [301/1000], Loss: 5690.995074728261\n",
            "Epoch [401/1000], Loss: 5547.6655432659645\n",
            "Epoch [501/1000], Loss: 5258.902659540591\n",
            "Epoch [601/1000], Loss: 5100.9692966627035\n",
            "Epoch [701/1000], Loss: 5160.755647078804\n",
            "Epoch [801/1000], Loss: 4744.170412809953\n",
            "Epoch [901/1000], Loss: 4562.000743036685\n"
          ]
        }
      ],
      "source": [
        "# 모델 학습 과정 구현\n",
        "epochs = 1000\n",
        "for epoch in range(epochs):\n",
        "    running_loss = 0.0\n",
        "    model.train()\n",
        "\n",
        "    for inputs, labels in train_loader:\n",
        "        inputs = inputs.to(device)\n",
        "        labels = labels.to(device)\n",
        "\n",
        "        outputs = model(inputs)\n",
        "        loss = criterion(outputs, labels)\n",
        "\n",
        "        optimizer.zero_grad()\n",
        "        loss.backward()\n",
        "        optimizer.step()\n",
        "        running_loss += loss.item()\n",
        "\n",
        "    if epoch % 100 == 0:\n",
        "        print(f'Epoch [{epoch+1}/{epochs}], Loss: {running_loss / len(train_loader)}')"
      ]
    },
    {
      "cell_type": "code",
      "execution_count": null,
      "id": "c1439106",
      "metadata": {
        "id": "c1439106",
        "outputId": "2f65fe9f-a1b1-4c4f-b0c1-6751a215953a"
      },
      "outputs": [
        {
          "data": {
            "text/plain": [
              "tensor([[125154.9766],\n",
              "        [197757.7656],\n",
              "        [190853.6875],\n",
              "        ...,\n",
              "        [190944.6094],\n",
              "        [ 99933.8828],\n",
              "        [247172.8750]])"
            ]
          },
          "execution_count": 17,
          "metadata": {},
          "output_type": "execute_result"
        }
      ],
      "source": [
        "# 학습된 모델의 TEST 예측\n",
        "model.eval()\n",
        "with torch.no_grad():\n",
        "    outputs = model(TEST)\n",
        "outputs"
      ]
    },
    {
      "cell_type": "code",
      "execution_count": null,
      "id": "8fb7b590",
      "metadata": {
        "id": "8fb7b590",
        "outputId": "858885c8-94b4-44cc-b41c-a96c710192e1"
      },
      "outputs": [
        {
          "data": {
            "text/plain": [
              "tensor([[125154.9766],\n",
              "        [197757.7656],\n",
              "        [190853.6875],\n",
              "        ...,\n",
              "        [190944.6094],\n",
              "        [ 99933.8828],\n",
              "        [247172.8750]])"
            ]
          },
          "execution_count": 19,
          "metadata": {},
          "output_type": "execute_result"
        }
      ],
      "source": [
        "# comp.prediction에 TEST 예측 결과 대입\n",
        "comp.prediction = outputs\n",
        "comp.prediction"
      ]
    },
    {
      "cell_type": "code",
      "execution_count": null,
      "id": "ddd1d918",
      "metadata": {
        "id": "ddd1d918",
        "outputId": "5014c6de-4025-4b12-8c11-78610111c3e1"
      },
      "outputs": [
        {
          "name": "stdout",
          "output_type": "stream",
          "text": [
            "[House Price Prediction 평가 결과]\n",
            " AI Essential 1017(1) 과정 Hello World님의 점수는 82686.2578125 입니다."
          ]
        }
      ],
      "source": [
        "# 제출\n",
        "comp.submit()"
      ]
    }
  ],
  "metadata": {
    "colab": {
      "provenance": [],
      "include_colab_link": true
    },
    "kernelspec": {
      "display_name": "base",
      "language": "python",
      "name": "python3"
    },
    "language_info": {
      "codemirror_mode": {
        "name": "ipython",
        "version": 3
      },
      "file_extension": ".py",
      "mimetype": "text/x-python",
      "name": "python",
      "nbconvert_exporter": "python",
      "pygments_lexer": "ipython3",
      "version": "3.10.14"
    }
  },
  "nbformat": 4,
  "nbformat_minor": 5
}