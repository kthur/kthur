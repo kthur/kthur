{
  "cells": [
    {
      "cell_type": "markdown",
      "metadata": {
        "id": "view-in-github",
        "colab_type": "text"
      },
      "source": [
        "<a href=\"https://colab.research.google.com/github/kthur/kthur/blob/master/programming/241028_ai_essential/%5BAI_Essential%5D_1028_4%EC%9D%BC%EC%B0%A8_%EC%8B%A4%EC%8A%B5_%EA%B0%80%EC%9D%B4%EB%93%9C.ipynb\" target=\"_parent\"><img src=\"https://colab.research.google.com/assets/colab-badge.svg\" alt=\"Open In Colab\"/></a>"
      ]
    },
    {
      "cell_type": "code",
      "execution_count": null,
      "metadata": {
        "id": "ExsPkT-zPRCJ"
      },
      "outputs": [],
      "source": [
        "%%capture\n",
        "!pip install JAEN transformers -qU"
      ]
    },
    {
      "cell_type": "markdown",
      "metadata": {
        "id": "EjruRde6su0w"
      },
      "source": [
        "# HuggingFace - Transformers"
      ]
    },
    {
      "cell_type": "markdown",
      "metadata": {
        "id": "Wgtnt_yqsu0w"
      },
      "source": [
        "## 06-025 텍스트 분류 파이프라인 사용\n",
        "- 이 실습에서는 Hugging Face의 Transformers 라이브러리를 사용하여 텍스트 분류 파이프라인을 생성합니다. pipeline() 함수를 통해 'text-classification' 작업을 설정하고, 주어진 문장에 대해 모델의 예측 결과를 확인합니다."
      ]
    },
    {
      "cell_type": "code",
      "execution_count": null,
      "metadata": {
        "id": "8QG4l7bLsu0x"
      },
      "outputs": [],
      "source": [
        "from transformers import pipeline\n",
        "\n",
        "classifier = pipeline('text-classification')\n",
        "classifier(\"I've been waiting for a HuggingFace course my whole life.\")"
      ]
    },
    {
      "cell_type": "markdown",
      "metadata": {
        "id": "qlaQq_Iosu0x"
      },
      "source": [
        "- 텍스트 분류 파이프라인을 사용하여 입력 문장에 대한 분류 결과를 얻는 과정을 실습합니다. 이는 NLP 작업에서 텍스트의 감정이나 주제를 분류하는 데 유용합니다."
      ]
    },
    {
      "cell_type": "markdown",
      "metadata": {
        "id": "i-FfkxIlsu0x"
      },
      "source": [
        "## 06-026 DistilBERT로 텍스트 분류\n",
        "- 이 실습에서는 Hugging Face의 DistilBERT 모델을 사용하여 텍스트를 분류하는 방법을 보여줍니다. 사전 학습된 DistilBERT 모델을 로드하고, 주어진 문장을 토크나이즈하여 입력 텐서를 생성합니다. 모델에 입력을 전달하여 예측 결과를 얻고, 확률을 계산하여 최종 레이블과 점수를 출력합니다."
      ]
    },
    {
      "cell_type": "code",
      "execution_count": null,
      "metadata": {
        "id": "QI1qcczssu0x"
      },
      "outputs": [],
      "source": [
        "import torch\n",
        "from transformers import DistilBertTokenizer, DistilBertForSequenceClassification\n",
        "\n",
        "model_name = \"distilbert-base-uncased-finetuned-sst-2-english\"\n",
        "tokenizer = DistilBertTokenizer.from_pretrained(model_name)\n",
        "model = DistilBertForSequenceClassification.from_pretrained(model_name)\n",
        "\n",
        "text = \"I've been waiting for a HuggingFace course my whole life.\"\n",
        "inputs = tokenizer(text, return_tensors=\"pt\")\n",
        "with torch.no_grad():\n",
        "    logits = model(**inputs).logits\n",
        "\n",
        "predicted_class_id = logits.argmax().item()\n",
        "label = model.config.id2label[predicted_class_id]\n",
        "score = torch.softmax(logits, dim=1).squeeze()[predicted_class_id].item()\n",
        "print(f'label:{label}, score:{score}')"
      ]
    },
    {
      "cell_type": "markdown",
      "metadata": {
        "id": "Cr6Cd-e7su0x"
      },
      "source": [
        "- DistilBERT 모델을 사용하여 입력 텍스트의 감정을 분류하고, 예측 결과와 확률을 출력하는 과정을 실습합니다. 이는 NLP에서 텍스트 분류 작업의 기본적인 방법론입니다."
      ]
    },
    {
      "cell_type": "markdown",
      "metadata": {
        "id": "pBpg_SuQsu0x"
      },
      "source": [
        "## 06-027 파이프라인 모델 지정 및 예측\n",
        "- 이 실습에서는 Hugging Face의 pipeline을 사용하여 이전에 로드한 DistilBERT 모델과 토크나이저를 지정합니다. 지정된 파이프라인을 통해 주어진 문장에 대한 텍스트 분류를 수행하고 결과를 출력합니다."
      ]
    },
    {
      "cell_type": "code",
      "execution_count": null,
      "metadata": {
        "id": "femHtNjTsu0x"
      },
      "outputs": [],
      "source": [
        "# 파이프라인 모델 지정\n",
        "classifier = pipeline('text-classification', model=model, tokenizer=tokenizer)\n",
        "classifier(\"I've been waiting for a HuggingFace course my whole life.\")"
      ]
    },
    {
      "cell_type": "markdown",
      "metadata": {
        "id": "XiNMJeoIsu0y"
      },
      "source": [
        "- 파이프라인을 사용하여 DistilBERT 모델로 텍스트 분류를 수행하고 결과를 출력하는 과정을 실습합니다. 이는 모델을 간편하게 사용하여 예측을 수행하는 방법을 보여줍니다."
      ]
    },
    {
      "cell_type": "markdown",
      "metadata": {
        "id": "MrC44bmAsu0y"
      },
      "source": [
        "## 06-028 여러 문장 분류\n",
        "- 이 실습에서는 Hugging Face의 파이프라인을 사용하여 여러 개의 문장에 대해 텍스트 분류를 수행합니다. classifier() 함수를 호출하여 입력된 문장 목록을 전달하면, 각 문장에 대한 분류 결과를 얻을 수 있습니다."
      ]
    },
    {
      "cell_type": "code",
      "execution_count": null,
      "metadata": {
        "id": "98kAnSu2su0y"
      },
      "outputs": [],
      "source": [
        "# 여러 문장 분류\n",
        "classifier(\n",
        "    [\"I've been waiting for a HuggingFace course my whole life.\",\n",
        "     \"I hate this so much!\"])"
      ]
    },
    {
      "cell_type": "markdown",
      "metadata": {
        "id": "pma5Wsrnsu0y"
      },
      "source": [
        "- 여러 문장에 대해 텍스트 분류를 수행하고 결과를 출력하는 과정을 실습합니다. 이는 NLP 모델이 동시에 여러 입력을 처리할 수 있는 방법을 보여줍니다."
      ]
    },
    {
      "cell_type": "markdown",
      "metadata": {
        "id": "jNgDCrPGsu0y"
      },
      "source": [
        "## 06-029 한국어 감정 분류\n",
        "- 이 실습에서는 Hugging Face의 파이프라인을 사용하여 한국어 감정 분류 모델을 로드하고, 여러 문장에 대한 감정을 분류합니다. 입력된 문장에 대해 긍정적 또는 부정적인 감정을 예측하여 결과를 출력합니다."
      ]
    },
    {
      "cell_type": "code",
      "execution_count": null,
      "metadata": {
        "id": "hgU0U3g_su0y"
      },
      "outputs": [],
      "source": [
        "# 한국어 감정 분류\n",
        "classifier_ko = pipeline('text-classification', model='matthewburke/korean_sentiment')\n",
        "classifier_ko(\n",
        "    [\"그녀가 먼저 말을 걸어와서 나는 무척 기뻤다.\",\n",
        "     \"듣기 싫어 죽겠네, 짜증나니까 그만 좀 닥쳐줄래\"])"
      ]
    },
    {
      "cell_type": "markdown",
      "metadata": {
        "id": "1DBpQ4_Usu0y"
      },
      "source": [
        "- 한국어 감정 분류를 수행하고 결과를 출력하는 과정을 실습합니다. 이는 NLP 모델이 한국어 텍스트의 감정을 분석하는 데 유용한 방법입니다."
      ]
    },
    {
      "cell_type": "markdown",
      "metadata": {
        "id": "VU6pqjkgsu0y"
      },
      "source": [
        "## 06-030 제로 샷 분류\n",
        "- 이 실습에서는 Hugging Face의 제로 샷 분류 파이프라인을 사용하여 주어진 문장이 어떤 클래스에 속하는지를 예측합니다. candidate_labels로 제공된 여러 후보 레이블 중에서 가장 적합한 레이블을 선택하여 결과를 출력합니다."
      ]
    },
    {
      "cell_type": "code",
      "execution_count": null,
      "metadata": {
        "id": "2FFzj6I4su0y"
      },
      "outputs": [],
      "source": [
        "# zero-shot classification\n",
        "classifier = pipeline(\"zero-shot-classification\")\n",
        "classifier(\n",
        "    \"This is a course about the Transformers library\",\n",
        "    candidate_labels=[\"education\", \"politics\", \"business\"],\n",
        ")"
      ]
    },
    {
      "cell_type": "markdown",
      "metadata": {
        "id": "MqAaUwO9su0y"
      },
      "source": [
        "- 제로 샷 분류를 통해 주어진 문장의 분류를 수행하는 과정을 실습합니다. 이는 사전 학습된 모델을 사용하여 새로운 태스크에 대해 적응할 수 있는 방법을 보여줍니다."
      ]
    },
    {
      "cell_type": "markdown",
      "metadata": {
        "id": "o8qquKd5su0y"
      },
      "source": [
        "## 06-031 한국어 제로 샷 분류\n",
        "- 이 실습에서는 한국어 문장에 대해 제로 샷 분류를 수행합니다. mDeBERTa 모델을 사용하여 주어진 문장이 어떤 클래스에 속하는지를 예측합니다. 후보 레이블로 제공된 여러 항목 중에서 가장 적합한 레이블을 선택하여 결과를 출력합니다."
      ]
    },
    {
      "cell_type": "code",
      "execution_count": null,
      "metadata": {
        "id": "45Ym_lhpsu0y"
      },
      "outputs": [],
      "source": [
        "# 한국어 zero-shot classification\n",
        "model_name = 'MoritzLaurer/mDeBERTa-v3-base-xnli-multilingual-nli-2mil7'\n",
        "classifier_ko = pipeline(\"zero-shot-classification\", model_name)\n",
        "classifier_ko(\n",
        "    \"이 강의는 트랜스포머 라이브러리에 대한 것입니다.\",\n",
        "    candidate_labels=[\"교육\", \"정치\", \"사업\"],\n",
        ")"
      ]
    },
    {
      "cell_type": "markdown",
      "metadata": {
        "id": "6fO01pkLsu0y"
      },
      "source": [
        "- 한국어 문장에 대한 제로 샷 분류를 수행하고 결과를 출력하는 과정을 실습합니다. 이는 다국어 모델을 사용하여 다양한 태스크에 적응할 수 있는 방법을 보여줍니다."
      ]
    },
    {
      "cell_type": "markdown",
      "metadata": {
        "id": "aHtnYjO7su0z"
      },
      "source": [
        "## 06-032 한국어 제로 샷 분류 예시\n",
        "- 이 실습에서는 한국어 문장에 대해 제로 샷 분류를 수행하여 주어진 문장이 어떤 클래스에 속하는지를 예측합니다. 후보 레이블로 제공된 '예술', '정치', '군사' 중에서 가장 적합한 레이블을 선택하여 결과를 출력합니다."
      ]
    },
    {
      "cell_type": "code",
      "execution_count": null,
      "metadata": {
        "id": "0_fMnlL0su0z"
      },
      "outputs": [],
      "source": [
        "classifier_ko(\n",
        "    \"이 소총의 유효사거리는 5km를 넘습니다.\",\n",
        "    candidate_labels=[\"예술\", \"정치\", \"군사\"],\n",
        ")"
      ]
    },
    {
      "cell_type": "markdown",
      "metadata": {
        "id": "RogvJJvCsu0z"
      },
      "source": [
        "- 주어진 한국어 문장에 대한 제로 샷 분류를 수행하고, 결과를 출력하는 과정을 실습합니다. 이는 NLP 모델이 새로운 태스크에 대해 적응할 수 있는 방법을 보여줍니다."
      ]
    },
    {
      "cell_type": "markdown",
      "metadata": {
        "id": "GfxBEYQ6su0z"
      },
      "source": [
        "## 06-033 한국어 제로 샷 분류 예시\n",
        "- 이 실습에서는 주어진 한국어 문장에 대해 제로 샷 분류를 수행합니다. 문장은 예술 작품에 대한 설명이며, 후보 레이블로 제공된 '예술', '정치', '군사' 중에서 가장 적합한 레이블을 선택하여 결과를 출력합니다."
      ]
    },
    {
      "cell_type": "code",
      "execution_count": null,
      "metadata": {
        "id": "pLs7cS-dsu0z"
      },
      "outputs": [],
      "source": [
        "classifier_ko(\n",
        "    \"선과 색의 조화가 탁월한 그 작품은 과거의 어느 작가의 그것과 닮아 있다.\",\n",
        "    candidate_labels=[\"예술\", \"정치\", \"군사\"],\n",
        ")"
      ]
    },
    {
      "cell_type": "markdown",
      "metadata": {
        "id": "TjTTXG6Gsu0z"
      },
      "source": [
        "- 주어진 문장에 대한 제로 샷 분류를 수행하고, 출력 결과를 확인하는 과정을 실습합니다. 이는 다양한 주제에 대해 모델의 분류 능력을 평가하는 데 유용합니다."
      ]
    },
    {
      "cell_type": "markdown",
      "metadata": {
        "id": "LB3Bulzesu0z"
      },
      "source": [
        "## 06-034 질문-답변 파이프라인 사용\n",
        "- 이 실습에서는 Hugging Face의 질문-답변 파이프라인을 사용하여 주어진 질문에 대한 답변을 찾습니다. 질문과 함께 제공된 문맥(context)을 기반으로 모델이 질문에 대한 적절한 답변을 생성합니다."
      ]
    },
    {
      "cell_type": "code",
      "execution_count": null,
      "metadata": {
        "id": "7SyDAhREsu0z"
      },
      "outputs": [],
      "source": [
        "# Q & A\n",
        "question_answerer = pipeline(\"question-answering\")\n",
        "question_answerer(\n",
        "    question=\"Where do I work?\",\n",
        "    context=\"My name is Sylvain and I work at Hugging Face in Brooklyn\",\n",
        ")"
      ]
    },
    {
      "cell_type": "markdown",
      "metadata": {
        "id": "RGC8m4nbsu0z"
      },
      "source": [
        "- 질문-답변 파이프라인을 사용하여 주어진 질문에 대한 답변을 찾는 과정을 실습합니다. 이는 NLP 모델이 문맥에서 정보를 추출하는 데 유용한 방법입니다."
      ]
    },
    {
      "cell_type": "markdown",
      "metadata": {
        "id": "PCfgFWaGsu0z"
      },
      "source": [
        "## 06-035 한국어 질문-답변 파이프라인 사용\n",
        "- 이 실습에서는 한국어 질문-답변 파이프라인을 사용하여 주어진 질문에 대한 답변을 찾습니다. 특정 모델을 지정하여 문맥(context)에서 질문에 대한 적절한 답변을 생성합니다."
      ]
    },
    {
      "cell_type": "code",
      "execution_count": null,
      "metadata": {
        "id": "Nv28wjC_su0z"
      },
      "outputs": [],
      "source": [
        "# 한국어 Q & A\n",
        "question_answerer = pipeline(\"question-answering\", model='timpal0l/mdeberta-v3-base-squad2')\n",
        "question_answerer(\n",
        "    question=\"홍길동은 어디에 있지?\",\n",
        "    context=\"홍길동씨는 잠실에 있는 숨겨진 국가정보원 빌딩에서 청소를 하며 살아 가고있다.\",\n",
        ")"
      ]
    },
    {
      "cell_type": "markdown",
      "metadata": {
        "id": "7BRfyACTsu0z"
      },
      "source": [
        "- 한국어 질문-답변 파이프라인을 사용하여 주어진 질문에 대한 답변을 찾는 과정을 실습합니다. 이는 NLP 모델이 한국어 문맥에서 정보를 추출하는 데 유용한 방법입니다."
      ]
    },
    {
      "cell_type": "markdown",
      "metadata": {
        "id": "Ah9V4Babsu00"
      },
      "source": [
        "## 06-036 한국어 질문-답변 추가 예시\n",
        "- 이 실습에서는 한국어 질문-답변 파이프라인을 사용하여 새로운 질문에 대한 답변을 찾습니다. 주어진 문맥(context)을 바탕으로 질문에 대한 적절한 답변을 생성합니다."
      ]
    },
    {
      "cell_type": "code",
      "execution_count": null,
      "metadata": {
        "id": "o3o9o61jsu00"
      },
      "outputs": [],
      "source": [
        "question_answerer(\n",
        "    question=\"홍길동은 무얼하고 있지?\",\n",
        "    context=\"홍길동씨는 잠실에 있는 숨겨진 국가정보원 빌딩에서 청소를 하며 살아 가고있다.\",\n",
        ")"
      ]
    },
    {
      "cell_type": "markdown",
      "metadata": {
        "id": "pcWovKDTsu00"
      },
      "source": [
        "- 한국어 질문-답변 파이프라인을 사용하여 특정 질문에 대한 답변을 찾는 과정을 실습합니다. 이는 모델이 한국어 문맥에서 정보를 추출하는 능력을 평가하는 데 유용합니다."
      ]
    },
    {
      "cell_type": "markdown",
      "metadata": {
        "id": "Xmj9s4Wnsu00"
      },
      "source": [
        "## 06-037 GPT 텍스트 생성\n",
        "- 이 실습에서는 Hugging Face의 텍스트 생성 파이프라인을 사용하여 GPT-2 모델을 기반으로 텍스트를 생성합니다. 주어진 입력 문장에 이어서 모델이 자동으로 텍스트를 생성하도록 합니다."
      ]
    },
    {
      "cell_type": "code",
      "execution_count": null,
      "metadata": {
        "id": "f0rx1fmzsu02"
      },
      "outputs": [],
      "source": [
        "# GPT 텍스트 생성\n",
        "from transformers import pipeline\n",
        "\n",
        "generator = pipeline(\"text-generation\", model='gpt2')\n",
        "generator(\"In this course, we will teach you how to\")"
      ]
    },
    {
      "cell_type": "markdown",
      "metadata": {
        "id": "XU5wIbqosu02"
      },
      "source": [
        "- GPT-2 모델을 사용하여 입력 문장에 이어지는 텍스트를 생성하는 과정을 실습합니다. 이는 자연어 생성 모델의 활용 방법을 보여줍니다."
      ]
    },
    {
      "cell_type": "markdown",
      "metadata": {
        "id": "XcyDbpxasu02"
      },
      "source": [
        "## 06-038 KoGPT 텍스트 생성\n",
        "- 이 실습에서는 KoGPT 모델을 사용하여 주어진 한국어 문장에 이어지는 텍스트를 생성합니다. '감기에 걸리지 않으려면'이라는 입력 문장에 대해 모델이 생성한 텍스트를 출력하여 확인합니다."
      ]
    },
    {
      "cell_type": "code",
      "execution_count": null,
      "metadata": {
        "id": "UQwnRpUMsu02"
      },
      "outputs": [],
      "source": [
        "# KoGPT 텍스트 생성\n",
        "generator = pipeline(\"text-generation\", model='skt/kogpt2-base-v2')\n",
        "output = generator(\"감기에 걸리지 않으려면\")\n",
        "print(output[0]['generated_text'])"
      ]
    },
    {
      "cell_type": "markdown",
      "metadata": {
        "id": "ByTBJPqzsu02"
      },
      "source": [
        "- KoGPT 모델을 사용하여 입력 문장에 따른 텍스트를 생성하고, 결과를 출력하는 과정을 실습합니다. 이는 한국어 자연어 생성 모델의 활용을 보여줍니다."
      ]
    },
    {
      "cell_type": "markdown",
      "metadata": {
        "id": "yieOY3G3su03"
      },
      "source": [
        "---"
      ]
    },
    {
      "cell_type": "markdown",
      "metadata": {
        "id": "KDdnhRucPOU-"
      },
      "source": [
        "# Streamlit"
      ]
    },
    {
      "cell_type": "code",
      "execution_count": null,
      "metadata": {
        "id": "4K1Vag3BOesx"
      },
      "outputs": [],
      "source": [
        "%%capture\n",
        "!pip install pyngrok streamlit -qU"
      ]
    },
    {
      "cell_type": "markdown",
      "metadata": {
        "id": "Nx6RPNKGPOU-"
      },
      "source": [
        "## 07-001 PYNGROK API 키 설정\n",
        "- 이 실습에서는 PYNGROK_API_KEY 변수를 설정하여 ngrok API 키를 저장합니다. ngrok은 로컬 서버를 인터넷에서 접근할 수 있도록 터널링을 제공하는 서비스입니다. API 키는 ngrok 서비스를 사용하기 위해 필요합니다."
      ]
    },
    {
      "cell_type": "code",
      "execution_count": null,
      "metadata": {
        "id": "cZodSDy1POU-"
      },
      "outputs": [],
      "source": [
        "PYNGROK_API_KEY = ''"
      ]
    },
    {
      "cell_type": "markdown",
      "metadata": {
        "id": "WW5ctrnjPOU-"
      },
      "source": [
        "- PYNGROK_API_KEY를 설정하는 과정을 실습합니다. 이는 ngrok 서비스를 사용하여 로컬 환경을 외부에서 접근할 수 있도록 하는 데 필요합니다."
      ]
    },
    {
      "cell_type": "markdown",
      "metadata": {
        "id": "-RiAqHzSPOU-"
      },
      "source": [
        "## 07-002 Streamlit 앱 생성\n",
        "- 이 실습에서는 Streamlit을 사용하여 간단한 웹 애플리케이션을 생성하는 코드를 작성합니다. 파일 이름은 app1.py로 설정하며, 앱의 제목과 환영 메시지를 화면에 표시합니다."
      ]
    },
    {
      "cell_type": "code",
      "execution_count": null,
      "metadata": {
        "colab": {
          "base_uri": "https://localhost:8080/"
        },
        "id": "jdvlNOeUPOU-",
        "outputId": "ca03b90d-7e0b-49c5-8826-3def53496d05"
      },
      "outputs": [
        {
          "name": "stdout",
          "output_type": "stream",
          "text": [
            "Writing app1.py\n"
          ]
        }
      ],
      "source": [
        "%%writefile app1.py\n",
        "\n",
        " # Streamlit 라이브러리를 st라는 이름으로 불러옵니다.\n",
        "import streamlit as st\n",
        "\n",
        "# 앱의 제목을 설정\n",
        "st.title('Hello, Streamlit!') # 웹 페이지 상단에 'Hello, Streamlit!'이라는 제목이 표시됩니다.\n",
        "\n",
        "# 텍스트를 화면에 출력\n",
        "st.write('Welcome to your first Streamlit app.') #  'Welcome to your first Streamlit app.'라는 문구가 화면에 표시됩니다."
      ]
    },
    {
      "cell_type": "markdown",
      "metadata": {
        "id": "4_jSTd6nPOU-"
      },
      "source": [
        "- Streamlit을 사용하여 간단한 웹 애플리케이션을 생성하는 과정을 실습합니다. 이는 데이터 시각화 및 웹 앱 개발의 기초를 다지는 데 유용합니다."
      ]
    },
    {
      "cell_type": "markdown",
      "metadata": {
        "id": "2HVLHfssPOU_"
      },
      "source": [
        "## 07-003 ngrok을 통한 Streamlit 앱 실행\n",
        "- 이 실습에서는 ngrok을 사용하여 Streamlit 앱을 외부에서 접근할 수 있도록 설정합니다. ngrok.set_auth_token()을 통해 인증 토큰을 설정한 후, app1.py를 백그라운드에서 실행하고, ngrok을 통해 터널링을 설정합니다. 최종적으로 터널 URL을 출력하여 외부에서 접근할 수 있는 링크를 제공합니다."
      ]
    },
    {
      "cell_type": "code",
      "execution_count": null,
      "metadata": {
        "id": "jUIl_dlEPOU_"
      },
      "outputs": [],
      "source": [
        "from pyngrok import ngrok\n",
        "\n",
        "# ngrok 서비스 인증\n",
        "ngrok.set_auth_token(PYNGROK_API_KEY)\n",
        "\n",
        "# app1.py 백그라운드 프로세스 실행\n",
        "!nohup streamlit run app1.py --server.port 5011 &\n",
        "\n",
        "# ngrok 터널링 실행\n",
        "ngrok_tunnel = ngrok.connect(addr='5011', proto='http', bind_tls=True)\n",
        "\n",
        "# ngrok 터널링 결과\n",
        "print(' * Tunnel URL:', ngrok_tunnel.public_url)"
      ]
    },
    {
      "cell_type": "markdown",
      "metadata": {
        "id": "QNEHrHjbPOU_"
      },
      "source": [
        "- ngrok을 통해 Streamlit 앱을 실행하고, 외부에서 접근할 수 있는 URL을 생성하는 과정을 실습합니다. 이는 로컬 서버를 외부에서 테스트할 수 있는 유용한 방법입니다."
      ]
    },
    {
      "cell_type": "markdown",
      "metadata": {
        "id": "EhLTk_K2POU_"
      },
      "source": [
        "## 07-004 Streamlit 및 ngrok 서비스 종료\n",
        "- 이 실습에서는 실행 중인 Streamlit 서비스와 ngrok 터널을 종료합니다. !pkill -f streamlit 명령을 통해 모든 Streamlit 프로세스를 종료하고, ngrok.disconnect()를 사용하여 활성화된 ngrok 터널을 끊습니다."
      ]
    },
    {
      "cell_type": "code",
      "execution_count": null,
      "metadata": {
        "id": "rZlak2uWPOU_"
      },
      "outputs": [],
      "source": [
        "# Streamlit 서비스 종료\n",
        "!pkill -f streamlit\n",
        "# ngrok 터널링 종료\n",
        "ngrok.disconnect(ngrok_tunnel.public_url)"
      ]
    },
    {
      "cell_type": "markdown",
      "metadata": {
        "id": "ECcyms6-POU_"
      },
      "source": [
        "- 실행 중인 Streamlit 서비스와 ngrok 터널을 종료하는 과정을 실습합니다. 이는 자원을 정리하고 서비스를 안전하게 종료하는 데 필요한 과정입니다."
      ]
    },
    {
      "cell_type": "markdown",
      "metadata": {
        "id": "0CKnFudbPOU_"
      },
      "source": [
        "## 07-005 Streamlit 챗봇 앱 UI 생성\n",
        "- 이 실습에서는 Streamlit 앱에 사이드바를 추가하고 API 키를 입력할 수 있는 텍스트 인풋을 생성합니다. 사용자가 API 키를 입력하면, 응답봇이 사용자 질문을 받아 처리하는 기본적인 인터페이스를 구현합니다."
      ]
    },
    {
      "cell_type": "code",
      "execution_count": null,
      "metadata": {
        "colab": {
          "base_uri": "https://localhost:8080/"
        },
        "id": "oYZkTR91POU_",
        "outputId": "dde7a2c3-c25f-41c8-bc9c-efe5feb2bff8"
      },
      "outputs": [
        {
          "name": "stdout",
          "output_type": "stream",
          "text": [
            "Writing app2.py\n"
          ]
        }
      ],
      "source": [
        "%%writefile app2.py\n",
        "import streamlit as st\n",
        "\n",
        "# 사이드 바 생성\n",
        "st.sidebar.title('API Key 설정')\n",
        "# 사이드 바에 API Key 입력을 위한 텍스트 인풋 생성\n",
        "api_key_input = st.sidebar.text_input('OpenAI API Key', type='password')\n",
        "\n",
        "if api_key_input:\n",
        "    st.title('가전제품 고객지원 응답봇')\n",
        "\n",
        "    user_question = st.chat_input('고장 사항을 입력하세요:')\n",
        "\n",
        "    if user_question:\n",
        "        with st.chat_message('user'):\n",
        "            st.write(user_question)\n",
        "\n",
        "        with st.chat_message('assistant'):\n",
        "            st.write(f'안녕하세요. 저는 Gauss입니다. \\n {user_question}을 입력하셨습니다.')\n",
        "else:\n",
        "    st.sidebar.warning('API Key를 입력하세요.')"
      ]
    },
    {
      "cell_type": "markdown",
      "metadata": {
        "id": "8L5ZtFBMPOU_"
      },
      "source": [
        "- Streamlit 앱에 사이드바를 추가하여 API 키를 입력받고, 사용자 질문에 대한 응답을 표시하는 과정을 실습합니다. 이는 사용자와의 상호작용을 통해 앱 기능을 확장하는 데 유용합니다."
      ]
    },
    {
      "cell_type": "markdown",
      "metadata": {
        "id": "PqyOj1MIPOU_"
      },
      "source": [
        "## 07-006 app2.py 실행 및 ngrok 터널링\n",
        "- 이 실습에서는 ngrok을 사용하여 Streamlit 앱(app2.py)을 외부에서 접근할 수 있도록 설정합니다. ngrok.set_auth_token()을 통해 인증 토큰을 설정한 후, app2.py를 백그라운드에서 실행하고, ngrok을 통해 터널링을 설정합니다. 최종적으로 터널 URL을 출력하여 외부에서 접근할 수 있는 링크를 제공합니다."
      ]
    },
    {
      "cell_type": "code",
      "execution_count": null,
      "metadata": {
        "id": "3eiE2ZemPOU_"
      },
      "outputs": [],
      "source": [
        "from pyngrok import ngrok\n",
        "\n",
        "# ngrok 서비스 인증\n",
        "ngrok.set_auth_token(PYNGROK_API_KEY)\n",
        "\n",
        "# app1.py 백그라운드 프로세스 실행\n",
        "!nohup streamlit run app2.py --server.port 5011 &\n",
        "\n",
        "# ngrok 터널링 실행\n",
        "grok_tunnel = ngrok.connect(addr='5011', proto='http', bind_tls=True)\n",
        "\n",
        "# ngrok 터널링 결과\n",
        "print(' * Tunnel URL:', ngrok_tunnel.public_url)"
      ]
    },
    {
      "cell_type": "markdown",
      "metadata": {
        "id": "82jsgEddPOVA"
      },
      "source": [
        "- ngrok을 통해 Streamlit 앱을 실행하고, 외부에서 접근할 수 있는 URL을 생성하는 과정을 실습합니다. 이는 로컬 서버를 외부에서 테스트할 수 있는 유용한 방법입니다."
      ]
    },
    {
      "cell_type": "markdown",
      "metadata": {
        "id": "HBCRzS87POVA"
      },
      "source": [
        "## 07-007 Streamlit 및 ngrok 서비스 종료\n",
        "- 이 실습에서는 실행 중인 Streamlit 서비스와 ngrok 터널을 종료합니다. !pkill -f streamlit 명령을 통해 모든 Streamlit 프로세스를 종료하고, ngrok.disconnect()를 사용하여 활성화된 ngrok 터널을 끊습니다."
      ]
    },
    {
      "cell_type": "code",
      "execution_count": null,
      "metadata": {
        "id": "1Inof9LvPOVA"
      },
      "outputs": [],
      "source": [
        "# Streamlit 서비스 종료\n",
        "!pkill -f streamlit\n",
        "# ngrok 터널링 종료\n",
        "ngrok.disconnect(ngrok_tunnel.public_url)"
      ]
    },
    {
      "cell_type": "markdown",
      "metadata": {
        "id": "3n0KbiomPOVA"
      },
      "source": [
        "- 실행 중인 Streamlit 서비스와 ngrok 터널을 종료하는 과정을 실습합니다. 이는 자원을 정리하고 서비스를 안전하게 종료하는 데 필요한 과정입니다."
      ]
    },
    {
      "cell_type": "markdown",
      "metadata": {
        "id": "ZVJozAWdPOVA"
      },
      "source": [
        "---"
      ]
    },
    {
      "cell_type": "markdown",
      "metadata": {
        "id": "TafjeqTTPOVA"
      },
      "source": [
        "# LangChain"
      ]
    },
    {
      "cell_type": "markdown",
      "metadata": {
        "id": "I42qE-E4POVA"
      },
      "source": [
        "## 08-001 OpenAI API 키 설정\n",
        "- 이 실습에서는 OpenAI API 키를 환경 변수로 설정합니다. os.environ을 사용하여 OPENAI_API_KEY에 값을 할당함으로써, 이후 API를 사용할 때 이 키를 참조할 수 있습니다."
      ]
    },
    {
      "cell_type": "code",
      "execution_count": null,
      "metadata": {
        "id": "Gl74tFbrPOVA"
      },
      "outputs": [],
      "source": [
        "import os\n",
        "\n",
        "os.environ[\"OPENAI_API_KEY\"]= ''"
      ]
    },
    {
      "cell_type": "markdown",
      "metadata": {
        "id": "SCGwBDOUPOVA"
      },
      "source": [
        "- OpenAI API 키를 환경 변수로 설정하는 과정을 실습합니다. 이는 OpenAI API를 안전하게 사용할 수 있도록 하는 데 필요합니다."
      ]
    },
    {
      "cell_type": "markdown",
      "metadata": {
        "id": "mzlv7pa4POVA"
      },
      "source": [
        "## 08-002 GPT-4o-mini 모델 객체 생성\n",
        "- 이 실습에서는 langchain_openai 라이브러리를 사용하여 gpt-4o-mini 모델 객체를 생성합니다. ChatOpenAI 클래스를 통해 모델을 초기화하고, 이후에 이 모델을 사용하여 텍스트 생성 또는 질문 응답 등의 작업을 수행할 수 있습니다."
      ]
    },
    {
      "cell_type": "code",
      "execution_count": null,
      "metadata": {
        "colab": {
          "base_uri": "https://localhost:8080/"
        },
        "id": "JSqeyaH4POVA",
        "outputId": "6c9f2082-e454-4fa9-a449-53e60b2c163a"
      },
      "outputs": [
        {
          "data": {
            "text/plain": [
              "ChatOpenAI(client=<openai.resources.chat.completions.Completions object at 0x7c44f9056290>, async_client=<openai.resources.chat.completions.AsyncCompletions object at 0x7c44f906c3d0>, root_client=<openai.OpenAI object at 0x7c44fbe05c60>, root_async_client=<openai.AsyncOpenAI object at 0x7c44f90562f0>, model_name='gpt-4o-mini', model_kwargs={}, openai_api_key=SecretStr('**********'))"
            ]
          },
          "execution_count": 20,
          "metadata": {},
          "output_type": "execute_result"
        }
      ],
      "source": [
        "# gpt-4o-mini 모델 객체 생성\n",
        "from langchain_openai import ChatOpenAI\n",
        "\n",
        "llm = ChatOpenAI(model=\"gpt-4o-mini\")\n",
        "llm"
      ]
    },
    {
      "cell_type": "markdown",
      "metadata": {
        "id": "lHS80HlMPOVA"
      },
      "source": [
        "- GPT-4o-mini 모델 객체를 생성하는 과정을 실습합니다. 이는 LangChain 라이브러리를 사용하여 OpenAI의 모델을 활용하는 기본적인 방법을 보여줍니다."
      ]
    },
    {
      "cell_type": "markdown",
      "metadata": {
        "id": "EZKD2NBUPOVA"
      },
      "source": [
        "## 08-003 GPT-4o-mini 모델에 메세지 전달\n",
        "- 이 실습에서는 gpt-4o-mini 모델에 대해 시스템 메시지와 사용자 메시지를 전달하여 응답을 받습니다. SystemMessage를 통해 작업의 목표를 설정하고, HumanMessage를 통해 모델에 전달할 내용을 입력합니다. 최종적으로 모델의 응답 결과를 확인합니다."
      ]
    },
    {
      "cell_type": "code",
      "execution_count": null,
      "metadata": {
        "colab": {
          "base_uri": "https://localhost:8080/"
        },
        "id": "Qf6zVZfpPOVB",
        "outputId": "04a68077-914b-43f1-ccca-e5e86e667dd1"
      },
      "outputs": [
        {
          "data": {
            "text/plain": [
              "AIMessage(content='아래는 병합 정렬(Merge Sort) 알고리즘을 사용하여 주어진 리스트를 오름차순으로 정렬하는 파이썬 코드입니다.\\n\\n```python\\ndef merge_sort(arr):\\n    if len(arr) > 1:\\n        mid = len(arr) // 2  # 리스트의 중간 인덱스\\n        left_half = arr[:mid]  # 왼쪽 절반\\n        right_half = arr[mid:]  # 오른쪽 절반\\n\\n        merge_sort(left_half)  # 왼쪽 절반 정렬\\n        merge_sort(right_half)  # 오른쪽 절반 정렬\\n\\n        i = j = k = 0\\n\\n        # 왼쪽과 오른쪽 배열을 비교하여 병합\\n        while i < len(left_half) and j < len(right_half):\\n            if left_half[i] < right_half[j]:\\n                arr[k] = left_half[i]\\n                i += 1\\n            else:\\n                arr[k] = right_half[j]\\n                j += 1\\n            k += 1\\n\\n        # 남아있는 왼쪽 절반의 요소를 추가\\n        while i < len(left_half):\\n            arr[k] = left_half[i]\\n            i += 1\\n            k += 1\\n\\n        # 남아있는 오른쪽 절반의 요소를 추가\\n        while j < len(right_half):\\n            arr[k] = right_half[j]\\n            j += 1\\n            k += 1\\n\\n# 사용 예시\\nexample_list = [38, 27, 43, 3, 9, 82, 10]\\nmerge_sort(example_list)\\nprint(\"정렬된 리스트:\", example_list)\\n```\\n\\n이 코드는 주어진 리스트를 병합 정렬 알고리즘을 통해 오름차순으로 정렬하는 기능을 수행합니다. 사용 예시로 주어진 리스트를 정렬한 후 결과를 출력합니다.', additional_kwargs={'refusal': None}, response_metadata={'token_usage': {'completion_tokens': 403, 'prompt_tokens': 53, 'total_tokens': 456, 'completion_tokens_details': {'audio_tokens': None, 'reasoning_tokens': 0}, 'prompt_tokens_details': {'audio_tokens': None, 'cached_tokens': 0}}, 'model_name': 'gpt-4o-mini-2024-07-18', 'system_fingerprint': 'fp_7693ae462b', 'finish_reason': 'stop', 'logprobs': None}, id='run-d13032fb-addd-4fee-b2c1-f6b9d635ecc6-0', usage_metadata={'input_tokens': 53, 'output_tokens': 403, 'total_tokens': 456, 'input_token_details': {'cache_read': 0}, 'output_token_details': {'reasoning': 0}})"
            ]
          },
          "execution_count": 21,
          "metadata": {},
          "output_type": "execute_result"
        }
      ],
      "source": [
        "# gpt-4o-mini 모델 메세지 전달\n",
        "from langchain_core.messages import HumanMessage, SystemMessage\n",
        "\n",
        "messages = [\n",
        "    SystemMessage(content=\"Translate the following from Korean into Python\"),\n",
        "    HumanMessage(content=\"주어진 리스트를 병합 정렬(Merge Sort) 알고리즘을 사용하여 오름차순으로 정렬하는 파이썬 코드를 작성하세요.\"),\n",
        "]\n",
        "\n",
        "# messages 전달 결과 확인\n",
        "result = llm.invoke(messages)\n",
        "result"
      ]
    },
    {
      "cell_type": "markdown",
      "metadata": {
        "id": "RJo1eoSgPOVB"
      },
      "source": [
        "- GPT-4o-mini 모델에 메세지를 전달하고, 그 결과를 확인하는 과정을 실습합니다. 이는 OpenAI 모델을 활용하여 특정 작업을 수행하도록 하는 기본적인 방법을 보여줍니다."
      ]
    },
    {
      "cell_type": "markdown",
      "metadata": {
        "id": "az0YVoWAPOVB"
      },
      "source": [
        "## 08-004 JAEN에서 파일 다운로드\n",
        "- 이 실습에서는 JAEN 라이브러리를 사용하여 특정 파일을 다운로드합니다. download_file 함수에 '샘플사진'이라는 파일명을 전달하여 해당 파일을 다운로드하고, 이후에 사용할 수 있도록 준비합니다."
      ]
    },
    {
      "cell_type": "code",
      "execution_count": null,
      "metadata": {
        "colab": {
          "base_uri": "https://localhost:8080/"
        },
        "id": "L7vBUf5nPOVB",
        "outputId": "71a797fd-664c-4c5f-c44b-6a30b5189dd4"
      },
      "outputs": [
        {
          "name": "stdout",
          "output_type": "stream",
          "text": [
            "파일이 성공적으로 다운로드되었습니다: sample.jpg\n",
            "절대 경로: /content/sample.jpg\n",
            "상대 경로: sample.jpg\n"
          ]
        }
      ],
      "source": [
        "from JAEN import download_file\n",
        "\n",
        "download_file('샘플사진')"
      ]
    },
    {
      "cell_type": "markdown",
      "metadata": {
        "id": "_8W6LwhLPOVB"
      },
      "source": [
        "- JAEN 라이브러리를 사용하여 파일을 다운로드하는 과정을 실습합니다. 이는 데이터나 리소스를 가져오는 데 유용한 방법입니다."
      ]
    },
    {
      "cell_type": "markdown",
      "metadata": {
        "id": "hjuI81BnPOVB"
      },
      "source": [
        "## 08-005 이미지 표시\n",
        "- 이 실습에서는 IPython.display 라이브러리의 Image 클래스를 사용하여 이미지를 표시합니다. 'sample.jpg' 파일을 입력으로 전달하여 해당 이미지를 Jupyter Notebook 또는 IPython 환경에서 시각적으로 확인할 수 있습니다."
      ]
    },
    {
      "cell_type": "code",
      "execution_count": null,
      "metadata": {
        "colab": {
          "base_uri": "https://localhost:8080/",
          "height": 417
        },
        "id": "_HS4JtxOPOVB",
        "outputId": "fb2fd461-4696-4886-c0c2-2a31e383e84b"
      },
      "outputs": [
        {
          "data": {
            "image/jpeg": "[encoded data removed]",
            "text/plain": [
              "<IPython.core.display.Image object>"
            ]
          },
          "execution_count": 23,
          "metadata": {},
          "output_type": "execute_result"
        }
      ],
      "source": [
        "from IPython.display import Image\n",
        "\n",
        "Image('sample.jpg')"
      ]
    },
    {
      "cell_type": "markdown",
      "metadata": {
        "id": "-lCAkHMPPOVB"
      },
      "source": [
        "- 이미지를 표시하는 과정을 실습합니다. 이는 데이터 시각화 및 결과 확인에 유용한 방법입니다."
      ]
    },
    {
      "cell_type": "markdown",
      "metadata": {
        "id": "9bLlk0hEPOVB"
      },
      "source": [
        "## 08-006 이미지 인코딩\n",
        "- 이 실습에서는 이미지를 Base64 형식으로 인코딩하는 함수를 정의합니다. encode_image 함수는 주어진 이미지 경로를 사용하여 이미지를 바이너리 형식으로 읽고, 이를 Base64로 인코딩하여 문자열로 반환합니다."
      ]
    },
    {
      "cell_type": "code",
      "execution_count": null,
      "metadata": {
        "id": "riG651usPOVB"
      },
      "outputs": [],
      "source": [
        "import base64\n",
        "\n",
        "def encode_image(image_path):\n",
        "    with open(image_path, \"rb\") as image_file:\n",
        "        return base64.b64encode(image_file.read()).decode(\"utf-8\")\n",
        "\n",
        "encoded_image = encode_image('sample.jpg')"
      ]
    },
    {
      "cell_type": "markdown",
      "metadata": {
        "id": "grCAtfnqPOVB"
      },
      "source": [
        "- 이미지를 Base64 형식으로 인코딩하는 과정을 실습합니다. 이는 웹에서 이미지를 전송하거나 저장하는 데 유용한 방법입니다."
      ]
    },
    {
      "cell_type": "markdown",
      "metadata": {
        "id": "rRmEMFJkPOVC"
      },
      "source": [
        "## 08-007 이미지 분석 메시지 구성\n",
        "- 이 실습에서는 이미지 분석을 위한 메시지를 구성합니다. 시스템 메시지를 통해 비주얼 분석가의 역할을 정의하고, 사용자 메시지로 이미지의 URL을 포함합니다. base64 인코딩된 이미지를 사용하여 주어진 내용을 전달할 수 있습니다."
      ]
    },
    {
      "cell_type": "code",
      "execution_count": null,
      "metadata": {
        "id": "KBTB4Yw-POVC"
      },
      "outputs": [],
      "source": [
        "messages = [\n",
        "    {\"role\": \"system\",\n",
        "     \"content\": \"당신은 비주얼 분석가입니다. 주어진 이미지를 보고 이미지 속에 포함된 요소들을 면밀히 관찰하고, 각 요소가 어떤 의미를 가지고 있는지 분석하세요. 이미지의 색상, 구성, 인물의 표정과 자세, 배경 요소, 조명 등 모든 시각적 요소를 분석하여 이미지가 전달하고자 하는 메시지나 감정을 설명하세요. 또한, 이 이미지가 제작된 문화적, 사회적, 역사적 배경을 고려하여 추가적인 해석을 한국어로 제공하세요.\"},\n",
        "    {\"role\": \"user\",\n",
        "     \"content\": [{\n",
        "         \"type\": \"image_url\",\n",
        "         \"image_url\": {\"url\": f\"data:image/jpg;base64,{encoded_image}\"}}]}\n",
        "]"
      ]
    },
    {
      "cell_type": "markdown",
      "metadata": {
        "id": "fPcXTLJfPOVC"
      },
      "source": [
        "- 이미지 분석을 위한 메시지를 구성하는 과정을 실습합니다. 이는 NLP 모델이 비주얼 콘텐츠를 이해하고 해석하는 데 필요한 방법을 보여줍니다."
      ]
    },
    {
      "cell_type": "markdown",
      "metadata": {
        "id": "-Yy-YBjdPOVC"
      },
      "source": [
        "## 08-008 이미지 분석 요청\n",
        "- 이 실습에서는 이전에 구성한 메시지를 사용하여 GPT 모델에 이미지 분석 요청을 수행합니다. llm.invoke() 함수를 호출하여 주어진 메시지를 전달하면, 모델이 이미지에 대한 분석 결과를 생성하여 반환합니다."
      ]
    },
    {
      "cell_type": "code",
      "execution_count": null,
      "metadata": {
        "colab": {
          "base_uri": "https://localhost:8080/"
        },
        "id": "eWYS5ZH2POVC",
        "outputId": "b950ec20-c875-4536-dccc-34fc024560da"
      },
      "outputs": [
        {
          "data": {
            "text/plain": [
              "AIMessage(content='이 이미지는 서울의 남산타워(서울타워)와 그 주변의 야경을 담고 있습니다. \\n\\n### 시각적 요소 분석:\\n1. **조명**: 서울타워는 녹색과 다양한 색상의 조명으로 밝히고 있어, 도시의 상징적인 랜드마크로서의 존재감을 드러냅니다. 조명의 색상은 생동감과 현대적인 느낌을 주며, 밤하늘의 별들과 어우러져 경관을 한층 아름답게 만듭니다.\\n\\n2. **구성**: 아래쪽에는 푸른빛의 아치형 다리가 있으며, 그 위에 흐르는 차량의 불빛이 보입니다. 이는 도시의 동적인 모습을 강조하고 있습니다. 다리의 아치 형태는 시각적으로 안정감을 주며, 도시와 자연의 조화를 나타냅니다.\\n\\n3. **배경**: 남산의 높은 위치는 서울의 스카이라인을 형성하는 중요한 요소로 작용하며, 도시가 자연과 함께 공존하는 모습을 보여줍니다.\\n\\n4. **색상**: 전체적으로 차가운 색조가 주를 이루지만, 서울타워의 따뜻한 조명이 대비를 이루며 시선을 끌고 있습니다. 이는 보는 이에게 현대적이고 활기찬 느낌을 전달합니다.\\n\\n### 문화적, 사회적, 역사적 배경:\\n서울타워는 한국의 대표적인 관광지 중 하나로, 많은 사람들이 방문하는 장소입니다. 이곳은 서울의 역사와 현대가 어우러지는 상징적 공간으로, 도시의 발전과 변화의 상징이기도 합니다. 야경은 서울의 활기와 젊은 에너지를 나타내며, 특히 야경을 즐기기 위해 많은 관광객이 찾는 명소입니다. 이러한 이미지는 서울의 현대적 도시 이미지를 강화하고, 동시에 과거와 현재가 연결되는 지점을 상징합니다.', additional_kwargs={'refusal': None}, response_metadata={'token_usage': {'completion_tokens': 412, 'prompt_tokens': 14294, 'total_tokens': 14706, 'completion_tokens_details': {'audio_tokens': None, 'reasoning_tokens': 0}, 'prompt_tokens_details': {'audio_tokens': None, 'cached_tokens': 0}}, 'model_name': 'gpt-4o-mini-2024-07-18', 'system_fingerprint': 'fp_7693ae462b', 'finish_reason': 'stop', 'logprobs': None}, id='run-05618a3c-8cd7-4dd1-bba0-ed224d9230e3-0', usage_metadata={'input_tokens': 14294, 'output_tokens': 412, 'total_tokens': 14706, 'input_token_details': {'cache_read': 0}, 'output_token_details': {'reasoning': 0}})"
            ]
          },
          "execution_count": 26,
          "metadata": {},
          "output_type": "execute_result"
        }
      ],
      "source": [
        "llm.invoke(messages)"
      ]
    },
    {
      "cell_type": "markdown",
      "metadata": {
        "id": "tVo3zyBdPOVC"
      },
      "source": [
        "- 구성된 메시지를 통해 이미지 분석 요청을 수행하고, 그 결과를 확인하는 과정을 실습합니다. 이는 NLP 모델이 비주얼 콘텐츠에 대한 통찰을 제공하는 방법을 보여줍니다."
      ]
    },
    {
      "cell_type": "markdown",
      "metadata": {
        "id": "02uGMiOIPOVC"
      },
      "source": [
        "## 08-009 ChatOpenAI 인스턴스 생성\n",
        "- 이 실습에서는 ChatOpenAI 클래스를 사용하여 모델 인스턴스를 생성합니다. 사용할 모델, 최대 토큰 수, 응답의 창의성을 조절하는 온도를 설정하여 인스턴스를 초기화합니다. 이러한 설정은 모델의 응답 특성에 큰 영향을 미칩니다."
      ]
    },
    {
      "cell_type": "code",
      "execution_count": null,
      "metadata": {
        "id": "ST_cs9XtPOVC"
      },
      "outputs": [],
      "source": [
        "from langchain_openai import ChatOpenAI\n",
        "\n",
        "# ChatOpenAI 인스턴스를 생성하면서 모델과 파라미터를 설정.\n",
        "model = ChatOpenAI(\n",
        "    model=\"gpt-4o-mini\",  # 사용할 모델을 \"gpt-4o-mini\"로 지정.\n",
        "    max_tokens=2048,      # 모델이 반환할 최대 토큰 수를 2048로 설정\n",
        "    temperature=0.1,      # 모델의 응답 창의성을 조절하는 파라미터. 0.1로 설정하여 더 예측 가능한 응답을 유도.\n",
        ")"
      ]
    },
    {
      "cell_type": "markdown",
      "metadata": {
        "id": "xSKFe1_ePOVC"
      },
      "source": [
        "- ChatOpenAI 인스턴스를 생성하고 설정하는 과정을 실습합니다. 이는 모델을 활용하여 특정 작업을 수행하는 데 필요한 초기 설정을 보여줍니다."
      ]
    },
    {
      "cell_type": "markdown",
      "metadata": {
        "id": "_2iTzL03POVC"
      },
      "source": [
        "## 08-010 Output Parser 생성\n",
        "- 이 실습에서는 StrOutputParser 클래스를 사용하여 문자열 출력을 처리하는 파서를 생성합니다. 이 파서는 모델의 출력을 문자열 형식으로 변환하고, 이후 작업에 사용할 수 있도록 준비합니다."
      ]
    },
    {
      "cell_type": "code",
      "execution_count": null,
      "metadata": {
        "colab": {
          "base_uri": "https://localhost:8080/"
        },
        "id": "knJPEKiiPOVC",
        "outputId": "8dc04596-639d-4bb5-bfb3-1f8cb070c5b0"
      },
      "outputs": [
        {
          "data": {
            "text/plain": [
              "StrOutputParser()"
            ]
          },
          "execution_count": 28,
          "metadata": {},
          "output_type": "execute_result"
        }
      ],
      "source": [
        "from langchain_core.output_parsers import StrOutputParser\n",
        "\n",
        "parser = StrOutputParser()\n",
        "parser"
      ]
    },
    {
      "cell_type": "markdown",
      "metadata": {
        "id": "6FXNtupfPOVC"
      },
      "source": [
        "- Output Parser를 생성하여 모델의 출력을 처리하는 과정을 실습합니다. 이는 NLP 모델의 결과를 적절한 형식으로 변환하는 데 유용합니다."
      ]
    },
    {
      "cell_type": "markdown",
      "metadata": {
        "id": "7lZgD5Z7POVC"
      },
      "source": [
        "## 08-011 ChatPromptTemplate 생성 및 사용\n",
        "- 이 실습에서는 ChatPromptTemplate을 사용하여 사용자와 시스템 간의 대화 형식의 프롬프트를 생성합니다. 시스템 메시지를 통해 번역할 언어를 설정하고, 사용자 메시지를 통해 번역할 텍스트를 입력합니다. 최종적으로 invoke() 메서드를 사용하여 결과를 얻습니다."
      ]
    },
    {
      "cell_type": "code",
      "execution_count": null,
      "metadata": {
        "colab": {
          "base_uri": "https://localhost:8080/"
        },
        "id": "ATUfruYoPOVD",
        "outputId": "48a28ce7-a52a-4944-f09c-408c5b1c495f"
      },
      "outputs": [
        {
          "data": {
            "text/plain": [
              "ChatPromptValue(messages=[SystemMessage(content='Translate the following into spanish:', additional_kwargs={}, response_metadata={}), HumanMessage(content='hello', additional_kwargs={}, response_metadata={})])"
            ]
          },
          "execution_count": 29,
          "metadata": {},
          "output_type": "execute_result"
        }
      ],
      "source": [
        "from langchain_core.prompts import ChatPromptTemplate\n",
        "\n",
        "system_template = \"Translate the following into {language}:\"\n",
        "prompt_template = ChatPromptTemplate.from_messages(\n",
        "    [(\"system\", system_template),\n",
        "     (\"user\", \"{text}\")]\n",
        ")\n",
        "result = prompt_template.invoke({\"language\": \"spanish\", \"text\": \"hello\"})\n",
        "result"
      ]
    },
    {
      "cell_type": "markdown",
      "metadata": {
        "id": "KI5AcmDhPOVD"
      },
      "source": [
        "- ChatPromptTemplate을 생성하고 이를 사용하여 텍스트 번역 요청을 수행하는 과정을 실습합니다. 이는 NLP 모델과의 상호작용을 관리하는 데 유용한 방법입니다."
      ]
    },
    {
      "cell_type": "markdown",
      "metadata": {
        "id": "1zGqk6BuPOVD"
      },
      "source": [
        "## 08-012 체인 구성 및 실행\n",
        "- 이 실습에서는 ChatPromptTemplate, 모델, 및 출력 파서를 연결하여 체인을 구성합니다. 이 체인은 입력 텍스트를 번역 요청으로 변환하고, 모델을 통해 번역을 수행한 후 결과를 문자열로 파싱합니다. 마지막으로 invoke() 메서드를 사용하여 스페인어로 'hello.'라는 텍스트를 번역합니다."
      ]
    },
    {
      "cell_type": "code",
      "execution_count": null,
      "metadata": {
        "colab": {
          "base_uri": "https://localhost:8080/",
          "height": 35
        },
        "id": "hmwpJQupPOVD",
        "outputId": "b9837be4-c537-4b92-c422-a1e4763b31be"
      },
      "outputs": [
        {
          "data": {
            "application/vnd.google.colaboratory.intrinsic+json": {
              "type": "string"
            },
            "text/plain": [
              "'Hola.'"
            ]
          },
          "execution_count": 30,
          "metadata": {},
          "output_type": "execute_result"
        }
      ],
      "source": [
        "chain = prompt_template | model | parser\n",
        "chain.invoke({\"language\": \"spanish\", \"text\": \"hello.\"})"
      ]
    },
    {
      "cell_type": "markdown",
      "metadata": {
        "id": "WyC87-hUPOVD"
      },
      "source": [
        "- 체인을 구성하고 이를 통해 번역 요청을 수행하는 과정을 실습합니다. 이는 다양한 구성 요소를 연결하여 NLP 작업을 수행하는 방법을 보여줍니다."
      ]
    },
    {
      "cell_type": "markdown",
      "metadata": {
        "id": "cS1c1ZdiPOVD"
      },
      "source": [
        "## 08-013 체인 구성 및 실행\n",
        "- 이 실습에서는 앞서 구성한 체인을 사용하여 한국어로 'hello.'라는 텍스트를 번역합니다. 체인은 프롬프트 템플릿, 모델, 출력 파서를 연결하여 입력 텍스트를 처리합니다."
      ]
    },
    {
      "cell_type": "code",
      "execution_count": null,
      "metadata": {
        "colab": {
          "base_uri": "https://localhost:8080/",
          "height": 35
        },
        "id": "zAt-umUCPOVD",
        "outputId": "97f814d9-869b-4ccd-c326-d63dac589bb9"
      },
      "outputs": [
        {
          "data": {
            "application/vnd.google.colaboratory.intrinsic+json": {
              "type": "string"
            },
            "text/plain": [
              "'안녕하세요.'"
            ]
          },
          "execution_count": 31,
          "metadata": {},
          "output_type": "execute_result"
        }
      ],
      "source": [
        "chain = prompt_template | model | parser\n",
        "chain.invoke({\"language\": \"korean\", \"text\": \"hello.\"})"
      ]
    },
    {
      "cell_type": "markdown",
      "metadata": {
        "id": "_N3d3MFMPOVD"
      },
      "source": [
        "- 체인을 사용하여 입력 텍스트를 한국어로 번역하는 과정을 실습합니다. 이는 다양한 NLP 작업을 효과적으로 수행하기 위한 체인 구성 방법을 보여줍니다."
      ]
    },
    {
      "cell_type": "markdown",
      "metadata": {
        "id": "00hgDyqwPOVD"
      },
      "source": [
        "## 08-014 PromptTemplate 및 체인 구성\n",
        "- 이 실습에서는 ChatOpenAI 모델과 PromptTemplate을 사용하여 주제를 설명하는 체인을 구성합니다. 사용자가 입력한 주제에 대해 한 문장으로 설명해주는 프롬프트 템플릿을 설정하고, 이를 모델과 연결하여 최종 출력 결과를 문자열로 파싱합니다."
      ]
    },
    {
      "cell_type": "code",
      "execution_count": null,
      "metadata": {
        "id": "vPlmejsmPOVD"
      },
      "outputs": [],
      "source": [
        "from langchain_openai import ChatOpenAI\n",
        "from langchain_core.prompts import PromptTemplate\n",
        "from langchain_core.output_parsers import StrOutputParser\n",
        "\n",
        "llm = ChatOpenAI(model=\"gpt-4o-mini\")\n",
        "prompt = PromptTemplate.from_template(\"{topic} 에 대하여 한 문장으로 설명해줘.\")\n",
        "chain = prompt | llm | StrOutputParser()"
      ]
    },
    {
      "cell_type": "markdown",
      "metadata": {
        "id": "7j1QFS0tPOVD"
      },
      "source": [
        "- PromptTemplate을 사용하여 주제를 설명하는 체인을 구성하는 과정을 실습합니다. 이는 사용자 정의 프롬프트를 활용하여 모델과 상호작용하는 방법을 보여줍니다."
      ]
    },
    {
      "cell_type": "markdown",
      "metadata": {
        "id": "WiW2bEGcPOVD"
      },
      "source": [
        "## 08-015 토픽에 대한 스트림 생성 및 출력\n",
        "- 이 실습에서는 구성한 체인을 사용하여 '인공지능'이라는 토픽에 대한 설명을 스트림 형태로 생성하고, 각 토큰을 반복하여 출력합니다. 줄바꿈 없이 내용을 이어서 출력하고, 버퍼를 즉시 비워 실시간으로 결과를 보여줍니다."
      ]
    },
    {
      "cell_type": "code",
      "execution_count": null,
      "metadata": {
        "colab": {
          "base_uri": "https://localhost:8080/"
        },
        "id": "7z7mHQ5XPOVE",
        "outputId": "b4d96e25-fe81-4bb8-ede9-33685796848a"
      },
      "outputs": [
        {
          "name": "stdout",
          "output_type": "stream",
          "text": [
            "인공지능은 기계가 인간의 지능을 모방하거나 학습하여 문제를 해결하고 의사 결정을 할 수 있도록 하는 기술입니다."
          ]
        }
      ],
      "source": [
        "# '인공지능' 토픽에 대한 스트림을 생성하고 반복합니다.\n",
        "for token in chain.stream({\"topic\": \"인공지능\"}):\n",
        "    # 스트림에서 받은 데이터의 내용을 출력합니다. 줄바꿈 없이 이어서 출력하고, 버퍼를 즉시 비웁니다.\n",
        "    print(token, end=\"\", flush=True)"
      ]
    },
    {
      "cell_type": "markdown",
      "metadata": {
        "id": "XPq79NzdPOVE"
      },
      "source": [
        "- 주어진 토픽에 대한 설명을 스트림 형태로 생성하고 출력하는 과정을 실습합니다. 이는 모델의 출력 결과를 실시간으로 확인하는 방법을 보여줍니다."
      ]
    },
    {
      "cell_type": "markdown",
      "metadata": {
        "id": "E93LKTMhPOVE"
      },
      "source": [
        "## 08-016 주제에 대한 invoke 호출\n",
        "- 이 실습에서는 구성한 체인의 invoke 메서드를 사용하여 '삼성전자'라는 주제에 대한 설명을 요청합니다. 주제 정보를 딕셔너리 형식으로 전달하여 모델이 해당 주제에 대해 응답하도록 합니다."
      ]
    },
    {
      "cell_type": "code",
      "execution_count": null,
      "metadata": {
        "colab": {
          "base_uri": "https://localhost:8080/",
          "height": 54
        },
        "id": "98QMhMxaPOVE",
        "outputId": "816f73a2-a94d-4c28-9cd1-7ed6c5e0079e"
      },
      "outputs": [
        {
          "data": {
            "application/vnd.google.colaboratory.intrinsic+json": {
              "type": "string"
            },
            "text/plain": [
              "'삼성전자는 세계적인 전자 제품 제조업체로, 스마트폰, 반도체, 가전제품 등 다양한 분야에서 혁신적인 기술과 제품을 제공하는 글로벌 리더입니다.'"
            ]
          },
          "execution_count": 34,
          "metadata": {},
          "output_type": "execute_result"
        }
      ],
      "source": [
        "# chain 객체의 invoke 메서드를 호출하고, '삼성전자'라는 주제로 딕셔너리를 전달합니다.\n",
        "chain.invoke({\"topic\": \"삼성전자\"})"
      ]
    },
    {
      "cell_type": "markdown",
      "metadata": {
        "id": "0Ax_hBlYPOVE"
      },
      "source": [
        "- 체인의 invoke 메서드를 호출하여 특정 주제에 대한 설명을 요청하는 과정을 실습합니다. 이는 모델이 주제에 따라 적절한 출력을 생성하는 방법을 보여줍니다."
      ]
    },
    {
      "cell_type": "markdown",
      "metadata": {
        "id": "X2zOoXUzPOVE"
      },
      "source": [
        "## 08-017 주제 리스트 배치 처리\n",
        "- 이 실습에서는 주어진 주제 리스트를 배치 처리하여 여러 주제에 대한 설명을 동시에 요청합니다. chain.batch() 메서드를 사용하여 각 주제 정보를 포함한 딕셔너리 리스트를 전달하면, 모델이 각각의 주제에 대한 응답을 생성합니다."
      ]
    },
    {
      "cell_type": "code",
      "execution_count": null,
      "metadata": {
        "colab": {
          "base_uri": "https://localhost:8080/"
        },
        "id": "guI_l4ZAPOVE",
        "outputId": "f4bfe012-fbec-4249-ee1d-8574c92715c3"
      },
      "outputs": [
        {
          "data": {
            "text/plain": [
              "['온디바이스 AI는 데이터 처리가 기기 자체에서 이루어져 개인 정보 보호와 낮은 지연 시간을 제공하는 인공지능 기술입니다.',\n",
              " '가우스AI는 인공지능 기반의 데이터 분석 및 예측 솔루션으로, 특히 통계적 방법론을 활용하여 복잡한 데이터를 이해하고 인사이트를 제공하는 플랫폼입니다.']"
            ]
          },
          "execution_count": 35,
          "metadata": {},
          "output_type": "execute_result"
        }
      ],
      "source": [
        "# 주어진 토픽 리스트를 배치 처리하는 함수 호출\n",
        "chain.batch([{\"topic\": \"온디바이스AI\"}, {\"topic\": \"가우스AI\"}])"
      ]
    },
    {
      "cell_type": "markdown",
      "metadata": {
        "id": "4tF_iVJ-POVE"
      },
      "source": [
        "- 주제 리스트를 배치 처리하여 여러 주제에 대한 설명을 동시에 요청하는 과정을 실습합니다. 이는 효율적으로 여러 요청을 처리하는 방법을 보여줍니다."
      ]
    },
    {
      "cell_type": "markdown",
      "metadata": {
        "id": "d8_OBByYPOVE"
      },
      "source": [
        "## 08-018 주제 리스트 배치 처리 (동시 처리 설정)\n",
        "- 이 실습에서는 주어진 주제 리스트를 배치 처리하면서 동시 처리 개수를 설정합니다. chain.batch() 메서드를 사용하여 여러 주제 정보를 전달하고, max_concurrecy 파라미터를 통해 동시에 처리할 요청의 수를 제한합니다."
      ]
    },
    {
      "cell_type": "code",
      "execution_count": null,
      "metadata": {
        "colab": {
          "base_uri": "https://localhost:8080/"
        },
        "id": "25jDfVkaPOVE",
        "outputId": "75c5bb88-5c74-4cb0-d478-4b45d087af32"
      },
      "outputs": [
        {
          "data": {
            "text/plain": [
              "['머신러닝은 데이터를 기반으로 패턴을 학습하여 예측이나 결정을 자동으로 수행하는 인공지능의 한 분야입니다.',\n",
              " '인공지능은 인간의 지능을 모방하여 학습, 추론, 문제 해결 등의 작업을 수행하는 컴퓨터 시스템이나 프로그램입니다.',\n",
              " 'LangChain은 자연어 처리 모델과 다양한 데이터 소스를 연결하여 고급 애플리케이션을 구축할 수 있도록 지원하는 프레임워크입니다.',\n",
              " 'ChatGPT는 자연어 처리 기술을 기반으로 한 인공지능 언어 모델로, 사용자와의 대화를 통해 정보를 제공하고 다양한 질문에 답변하는 기능을 갖추고 있습니다.',\n",
              " '라마(Llama)는 남아메리카 안데스 지역에 서식하는 대형 낙타과 동물로, 주로 짐을 나르거나 털을 제공하는 용도로 길러진다.']"
            ]
          },
          "execution_count": 36,
          "metadata": {},
          "output_type": "execute_result"
        }
      ],
      "source": [
        "chain.batch(\n",
        "    [\n",
        "        {\"topic\": \"머신러닝\"},\n",
        "        {\"topic\": \"인공지능\"},\n",
        "        {\"topic\": \"LangChain\"},\n",
        "        {\"topic\": \"ChatGPT\"},\n",
        "        {\"topic\": \"Llama\"},\n",
        "    ],\n",
        "    config={\"max_concurrecy\": 3},\n",
        ")"
      ]
    },
    {
      "cell_type": "markdown",
      "metadata": {
        "id": "Ee7WEtf6POVE"
      },
      "source": [
        "- 주제 리스트를 배치 처리하고 동시 처리 개수를 설정하는 과정을 실습합니다. 이는 효율적으로 여러 요청을 관리하고, 처리 성능을 최적화하는 방법을 보여줍니다."
      ]
    },
    {
      "cell_type": "markdown",
      "metadata": {
        "id": "5NICGyM8POVE"
      },
      "source": [
        "## 08-019 한국어에서 영어로 번역 요청\n",
        "- 이 실습에서는 ChatOpenAI 모델을 사용하여 주어진 한국어 문장을 영어로 번역 요청합니다. SystemMessage를 통해 번역 요청의 맥락을 설정하고, HumanMessage로 번역할 문장을 입력합니다. invoke() 메서드를 통해 번역 결과를 얻습니다."
      ]
    },
    {
      "cell_type": "code",
      "execution_count": null,
      "metadata": {
        "colab": {
          "base_uri": "https://localhost:8080/"
        },
        "id": "FjTU-KESPOVE",
        "outputId": "c9b0accc-99b2-4dd0-886c-1b72982b1971"
      },
      "outputs": [
        {
          "data": {
            "text/plain": [
              "AIMessage(content='Hello. Nice to meet you.', additional_kwargs={'refusal': None}, response_metadata={'token_usage': {'completion_tokens': 7, 'prompt_tokens': 27, 'total_tokens': 34, 'completion_tokens_details': {'audio_tokens': None, 'reasoning_tokens': 0}, 'prompt_tokens_details': {'audio_tokens': None, 'cached_tokens': 0}}, 'model_name': 'gpt-4o-mini-2024-07-18', 'system_fingerprint': 'fp_482c22a7bc', 'finish_reason': 'stop', 'logprobs': None}, id='run-5c2124e4-04b1-4def-85eb-1bdd4f72ca24-0', usage_metadata={'input_tokens': 27, 'output_tokens': 7, 'total_tokens': 34, 'input_token_details': {'cache_read': 0}, 'output_token_details': {'reasoning': 0}})"
            ]
          },
          "execution_count": 37,
          "metadata": {},
          "output_type": "execute_result"
        }
      ],
      "source": [
        "from langchain_core.messages import HumanMessage, SystemMessage\n",
        "from langchain_openai import ChatOpenAI\n",
        "\n",
        "llm = ChatOpenAI(\n",
        "    model=\"gpt-4o-mini\",  # 사용할 모델을 \"gpt-4o-mini\"로 지정.\n",
        "    max_tokens=2048,      # 모델이 반환할 최대 토큰 수를 2048로 설정\n",
        "    temperature=0.1,      # 모델의 응답 창의성을 조절하는 파라미터. 0.1로 설정하여 더 예측 가능한 응답을 유도.\n",
        ")\n",
        "\n",
        "messages = [\n",
        "    SystemMessage(content=\"Translate the following from Korean into English\"),\n",
        "    HumanMessage(content=\"안녕하세요. 만나서 반갑습니다.\"),\n",
        "]\n",
        "\n",
        "result = llm.invoke(messages)\n",
        "result"
      ]
    },
    {
      "cell_type": "markdown",
      "metadata": {
        "id": "en5ZRqCEPOVF"
      },
      "source": [
        "- 한국어 문장을 영어로 번역하는 요청을 수행하는 과정을 실습합니다. 이는 NLP 모델의 번역 능력을 활용하는 방법을 보여줍니다."
      ]
    },
    {
      "cell_type": "markdown",
      "metadata": {
        "id": "gElk8jxZPOVF"
      },
      "source": [
        "## 08-020 PromptTemplate 객체 생성\n",
        "- 이 실습에서는 PromptTemplate을 사용하여 특정 형식의 질문을 생성하는 객체를 만듭니다. {country}는 사용자가 입력할 값이 들어갈 자리 표시자로 사용되며, 이를 통해 동적으로 질문을 구성할 수 있습니다."
      ]
    },
    {
      "cell_type": "code",
      "execution_count": null,
      "metadata": {
        "colab": {
          "base_uri": "https://localhost:8080/"
        },
        "id": "rZT1-P9CPOVF",
        "outputId": "880c10c1-1083-4ff5-ba2a-2f1b354a2e0b"
      },
      "outputs": [
        {
          "data": {
            "text/plain": [
              "PromptTemplate(input_variables=['country'], input_types={}, partial_variables={}, template='{country}의 수도는 어디인가요?')"
            ]
          },
          "execution_count": 38,
          "metadata": {},
          "output_type": "execute_result"
        }
      ],
      "source": [
        "from langchain_core.prompts import PromptTemplate\n",
        "\n",
        "# {country}는 이후에 값이 들어갈 자리를 의미\n",
        "template = \"{country}의 수도는 어디인가요?\"\n",
        "\n",
        "# from_template 메소드를 이용하여 PromptTemplate 객체 생성\n",
        "prompt = PromptTemplate.from_template(template)\n",
        "prompt"
      ]
    },
    {
      "cell_type": "markdown",
      "metadata": {
        "id": "KYSBXRLfPOVF"
      },
      "source": [
        "- PromptTemplate 객체를 생성하여 동적인 질문 형식을 구성하는 과정을 실습합니다. 이는 사용자 입력을 기반으로 모델과 상호작용하는 방법을 보여줍니다."
      ]
    },
    {
      "cell_type": "markdown",
      "metadata": {
        "id": "5kTFiO1vPOVF"
      },
      "source": [
        "## 08-021 PromptTemplate을 통한 프롬프트 생성\n",
        "- 이 실습에서는 생성한 PromptTemplate 객체의 format 메소드를 사용하여 {country} 자리 표시자에 '대한민국' 값을 넣어 최종 질문을 생성합니다. 이 방식으로 동적인 질문을 쉽게 만들 수 있습니다."
      ]
    },
    {
      "cell_type": "code",
      "execution_count": null,
      "metadata": {
        "colab": {
          "base_uri": "https://localhost:8080/",
          "height": 35
        },
        "id": "jRhVdVyYPOVF",
        "outputId": "d022877e-421a-45d3-fd0d-8cafc94bbb98"
      },
      "outputs": [
        {
          "data": {
            "application/vnd.google.colaboratory.intrinsic+json": {
              "type": "string"
            },
            "text/plain": [
              "'대한민국의 수도는 어디인가요?'"
            ]
          },
          "execution_count": 39,
          "metadata": {},
          "output_type": "execute_result"
        }
      ],
      "source": [
        "# format 메소드를 이용하여 변수에 값을 넣어 프롬프트 생성\n",
        "prompt = prompt.format(country=\"대한민국\")\n",
        "prompt"
      ]
    },
    {
      "cell_type": "markdown",
      "metadata": {
        "id": "PErTqer0POVF"
      },
      "source": [
        "- PromptTemplate의 format 메소드를 사용하여 사용자 지정 값을 포함한 질문을 생성하는 과정을 실습합니다. 이는 입력값에 따라 질문을 동적으로 구성하는 방법을 보여줍니다."
      ]
    },
    {
      "cell_type": "markdown",
      "metadata": {
        "id": "qjA-AfjkPOVF"
      },
      "source": [
        "## 08-022 PromptTemplate 객체 생성\n",
        "- 이 실습에서는 PromptTemplate 클래스를 사용하여 template과 input_variables를 명시하여 PromptTemplate 객체를 생성합니다. input_variables는 나중에 값을 대입할 수 있는 변수 목록입니다."
      ]
    },
    {
      "cell_type": "code",
      "execution_count": null,
      "metadata": {
        "colab": {
          "base_uri": "https://localhost:8080/"
        },
        "id": "Dx6GeUUDPOVF",
        "outputId": "41e99a66-c228-41f7-af74-bd241431ff97"
      },
      "outputs": [
        {
          "data": {
            "text/plain": [
              "PromptTemplate(input_variables=['country'], input_types={}, partial_variables={}, template='{country}의 수도는 어디인가요?')"
            ]
          },
          "execution_count": 40,
          "metadata": {},
          "output_type": "execute_result"
        }
      ],
      "source": [
        "# PromptTemplate 객체를 활용하여 prompt_template 생성\n",
        "prompt = PromptTemplate(\n",
        "    template=template,\n",
        "    input_variables=[\"country\"],\n",
        ")\n",
        "prompt"
      ]
    },
    {
      "cell_type": "markdown",
      "metadata": {
        "id": "Wyo2ubxfPOVF"
      },
      "source": [
        "- PromptTemplate 객체를 생성하여 입력 변수를 정의하는 과정을 실습합니다. 이는 질문 형식을 동적으로 구성하는 데 필요한 기본 설정을 제공합니다."
      ]
    },
    {
      "cell_type": "markdown",
      "metadata": {
        "id": "_7HSRQnfPOVF"
      },
      "source": [
        "## 08-023 프롬프트 생성 및 변수 삽입\n",
        "- 이 실습에서는 생성된 PromptTemplate 객체를 사용하여 format 메소드를 통해 '대한민국' 값을 넣어 최종 질문을 생성합니다. 이 과정은 동적 프롬프트 생성의 기초적인 예입니다."
      ]
    },
    {
      "cell_type": "code",
      "execution_count": null,
      "metadata": {
        "colab": {
          "base_uri": "https://localhost:8080/",
          "height": 35
        },
        "id": "qm8sdusUPOVG",
        "outputId": "b202f464-7b19-4f23-9b43-a0908501676e"
      },
      "outputs": [
        {
          "data": {
            "application/vnd.google.colaboratory.intrinsic+json": {
              "type": "string"
            },
            "text/plain": [
              "'대한민국의 수도는 어디인가요?'"
            ]
          },
          "execution_count": 41,
          "metadata": {},
          "output_type": "execute_result"
        }
      ],
      "source": [
        "# prompt 생성\n",
        "prompt.format(country=\"대한민국\")"
      ]
    },
    {
      "cell_type": "markdown",
      "metadata": {
        "id": "UOkkK3iNPOVG"
      },
      "source": [
        "- PromptTemplate을 사용하여 특정 변수에 값을 넣어 프롬프트를 생성하는 과정을 실습합니다. 이는 사용자의 입력에 따라 질문을 유연하게 구성하는 방법을 보여줍니다."
      ]
    },
    {
      "cell_type": "markdown",
      "metadata": {
        "id": "DwZHewWZPOVG"
      },
      "source": [
        "## 08-024 PromptTemplate 객체 생성 (부분 변수 포함)\n",
        "- 이 실습에서는 PromptTemplate 객체를 생성할 때 부분 변수를 사용하여 template에 포함된 변수 중 일부에 값을 미리 설정합니다. country2에 대한 값은 '미국'으로 설정하고, country1은 이후에 입력될 수 있도록 합니다."
      ]
    },
    {
      "cell_type": "code",
      "execution_count": null,
      "metadata": {
        "colab": {
          "base_uri": "https://localhost:8080/"
        },
        "id": "nids6b8MPOVG",
        "outputId": "199031b2-bdb0-4192-91d0-83b140e7e6b7"
      },
      "outputs": [
        {
          "data": {
            "text/plain": [
              "PromptTemplate(input_variables=['country1'], input_types={}, partial_variables={'country2': '미국'}, template='{country1}과 {country2}의 수도는 각각 어디인가요?')"
            ]
          },
          "execution_count": 42,
          "metadata": {},
          "output_type": "execute_result"
        }
      ],
      "source": [
        "# template 정의\n",
        "template = \"{country1}과 {country2}의 수도는 각각 어디인가요?\"\n",
        "# PromptTemplate 객체를 활용하여 prompt_template 생성\n",
        "prompt = PromptTemplate(\n",
        "    template=template,\n",
        "    input_variables=[\"country1\"],\n",
        "    partial_variables={\n",
        "        \"country2\": \"미국\"  # dictionary 형태로 partial_variables를 전달\n",
        "    },\n",
        ")\n",
        "prompt"
      ]
    },
    {
      "cell_type": "markdown",
      "metadata": {
        "id": "mRtEzOTyPOVG"
      },
      "source": [
        "- 부분 변수를 포함한 PromptTemplate 객체를 생성하는 과정을 실습합니다. 이는 여러 변수를 효율적으로 관리하는 방법을 보여줍니다."
      ]
    },
    {
      "cell_type": "markdown",
      "metadata": {
        "id": "3mhQHt7_POVG"
      },
      "source": [
        "## 08-025 부분 변수를 사용한 프롬프트 생성\n",
        "- 이 실습에서는 생성된 PromptTemplate 객체를 사용하여 format 메소드를 통해 '대한민국' 값을 넣어 최종 질문을 생성합니다. country2는 미리 설정된 값인 '미국'으로 사용됩니다."
      ]
    },
    {
      "cell_type": "code",
      "execution_count": null,
      "metadata": {
        "colab": {
          "base_uri": "https://localhost:8080/",
          "height": 35
        },
        "id": "WK1RjEVvPOVG",
        "outputId": "ce4a31f5-b783-4019-bfe8-c35966f9dfc8"
      },
      "outputs": [
        {
          "data": {
            "application/vnd.google.colaboratory.intrinsic+json": {
              "type": "string"
            },
            "text/plain": [
              "'대한민국과 미국의 수도는 각각 어디인가요?'"
            ]
          },
          "execution_count": 43,
          "metadata": {},
          "output_type": "execute_result"
        }
      ],
      "source": [
        "prompt.format(country1=\"대한민국\")"
      ]
    },
    {
      "cell_type": "markdown",
      "metadata": {
        "id": "jAocqJEFPOVG"
      },
      "source": [
        "- 부분 변수를 사용하여 최종 프롬프트를 생성하는 과정을 실습합니다. 이는 여러 입력 변수를 효과적으로 활용하는 방법을 보여줍니다."
      ]
    },
    {
      "cell_type": "markdown",
      "metadata": {
        "id": "MmPqLEq5POVG"
      },
      "source": [
        "## 08-026 부분 변수로 PromptTemplate 수정\n",
        "- 이 실습에서는 기존의 PromptTemplate 객체에서 partial 메소드를 사용하여 country2 변수의 값을 '일본'으로 수정합니다. 이를 통해 새로운 PromptTemplate 객체를 생성할 수 있습니다."
      ]
    },
    {
      "cell_type": "code",
      "execution_count": null,
      "metadata": {
        "colab": {
          "base_uri": "https://localhost:8080/"
        },
        "id": "1LjBPwe8POVG",
        "outputId": "44f03696-3e03-4d79-9d9b-d804a85dac9b"
      },
      "outputs": [
        {
          "data": {
            "text/plain": [
              "PromptTemplate(input_variables=['country1'], input_types={}, partial_variables={'country2': '일본'}, template='{country1}과 {country2}의 수도는 각각 어디인가요?')"
            ]
          },
          "execution_count": 44,
          "metadata": {},
          "output_type": "execute_result"
        }
      ],
      "source": [
        "prompt_partial = prompt.partial(country2=\"일본\")\n",
        "prompt_partial"
      ]
    },
    {
      "cell_type": "markdown",
      "metadata": {
        "id": "SODcFMvMPOVG"
      },
      "source": [
        "- 부분 변수를 사용하여 PromptTemplate을 수정하는 과정을 실습합니다. 이는 기존 프롬프트를 기반으로 새로운 프롬프트를 유연하게 구성하는 방법을 보여줍니다."
      ]
    },
    {
      "cell_type": "markdown",
      "metadata": {
        "id": "GL74014uPOVG"
      },
      "source": [
        "## 08-027 수정된 PromptTemplate으로 프롬프트 생성\n",
        "- 이 실습에서는 수정된 PromptTemplate 객체를 사용하여 format 메소드를 통해 '대한민국' 값을 넣어 최종 질문을 생성합니다. country2는 이전에 설정된 값인 '일본'으로 사용됩니다."
      ]
    },
    {
      "cell_type": "code",
      "execution_count": null,
      "metadata": {
        "colab": {
          "base_uri": "https://localhost:8080/",
          "height": 35
        },
        "id": "ZY5MbDhiPOVG",
        "outputId": "87582edb-9f3c-4eee-ae0f-206e059d029e"
      },
      "outputs": [
        {
          "data": {
            "application/vnd.google.colaboratory.intrinsic+json": {
              "type": "string"
            },
            "text/plain": [
              "'대한민국과 일본의 수도는 각각 어디인가요?'"
            ]
          },
          "execution_count": 45,
          "metadata": {},
          "output_type": "execute_result"
        }
      ],
      "source": [
        "prompt_partial.format(country1=\"대한민국\")"
      ]
    },
    {
      "cell_type": "markdown",
      "metadata": {
        "id": "HtB5JZEvPOVH"
      },
      "source": [
        "- 수정된 PromptTemplate을 사용하여 최종 프롬프트를 생성하는 과정을 실습합니다. 이는 변수 값을 변경하여 다양한 질문을 생성하는 방법을 보여줍니다."
      ]
    },
    {
      "cell_type": "markdown",
      "metadata": {
        "id": "HUn4D3VyPOVH"
      },
      "source": [
        "## 08-028 현재 날짜 가져오기\n",
        "- 이 실습에서는 현재 날짜를 가져오는 함수를 정의합니다. get_date() 함수는 현재 날짜를 '월 일' 형식으로 반환합니다."
      ]
    },
    {
      "cell_type": "code",
      "execution_count": null,
      "metadata": {
        "colab": {
          "base_uri": "https://localhost:8080/",
          "height": 35
        },
        "id": "-u_BXnt-POVH",
        "outputId": "240d216b-5b9a-4684-8c2a-0db0c565b0a7"
      },
      "outputs": [
        {
          "data": {
            "application/vnd.google.colaboratory.intrinsic+json": {
              "type": "string"
            },
            "text/plain": [
              "'10월21일'"
            ]
          },
          "execution_count": 46,
          "metadata": {},
          "output_type": "execute_result"
        }
      ],
      "source": [
        "from datetime import datetime\n",
        "\n",
        "def get_date():\n",
        "    return datetime.now().strftime(\"%m월%d일\")\n",
        "get_date()"
      ]
    },
    {
      "cell_type": "markdown",
      "metadata": {
        "id": "TiyB4J6mPOVH"
      },
      "source": [
        "- 현재 날짜를 특정 형식으로 가져오는 함수를 실습합니다. 이는 날짜 형식을 다루는 기본적인 방법을 보여줍니다."
      ]
    },
    {
      "cell_type": "markdown",
      "metadata": {
        "id": "P6qNyQZ_POVH"
      },
      "source": [
        "## 08-029 PromptTemplate 생성 (함수 사용)\n",
        "- 이 실습에서는 현재 날짜를 반환하는 함수를 사용하여 PromptTemplate을 생성합니다. template 문자열에서 {date}는 get_date() 함수의 결과로 대체되며, {n}은 사용자가 입력할 값으로 설정됩니다."
      ]
    },
    {
      "cell_type": "code",
      "execution_count": null,
      "metadata": {
        "id": "B--Pn9LcPOVH"
      },
      "outputs": [],
      "source": [
        "prompt = PromptTemplate(\n",
        "    template=\"오늘은 {date} 입니다. 과거에 있었던 주요한 이벤트를 {n}개를 알려주세요.\",\n",
        "    input_variables=[\"n\"],\n",
        "    partial_variables={\n",
        "        \"date\": get_date\n",
        "    }\n",
        ")"
      ]
    },
    {
      "cell_type": "markdown",
      "metadata": {
        "id": "WWmIJVENPOVH"
      },
      "source": [
        "- 함수를 사용하여 부분 변수를 포함한 PromptTemplate을 생성하는 과정을 실습합니다. 이는 동적인 날짜 정보를 프롬프트에 포함하는 방법을 보여줍니다."
      ]
    },
    {
      "cell_type": "markdown",
      "metadata": {
        "id": "8e9np9k1POVH"
      },
      "source": [
        "## 08-030 프롬프트 생성 및 변수 삽입\n",
        "- 이 실습에서는 생성된 PromptTemplate 객체를 사용하여 format 메소드를 통해 {n} 자리에 3을 넣어 최종 질문을 생성합니다. {date}는 get_date() 함수의 결과로 대체됩니다."
      ]
    },
    {
      "cell_type": "code",
      "execution_count": null,
      "metadata": {
        "colab": {
          "base_uri": "https://localhost:8080/",
          "height": 35
        },
        "id": "HMjMJhdRPOVH",
        "outputId": "8d0a1d2a-bf7d-4e63-efa2-fba22c4fcd13"
      },
      "outputs": [
        {
          "data": {
            "application/vnd.google.colaboratory.intrinsic+json": {
              "type": "string"
            },
            "text/plain": [
              "'오늘은 10월21일 입니다. 과거에 있었던 주요한 이벤트를 3개를 알려주세요.'"
            ]
          },
          "execution_count": 48,
          "metadata": {},
          "output_type": "execute_result"
        }
      ],
      "source": [
        "# prompt 생성\n",
        "prompt.format(n=3)"
      ]
    },
    {
      "cell_type": "markdown",
      "metadata": {
        "id": "VTmV0RxIPOVH"
      },
      "source": [
        "- PromptTemplate을 사용하여 특정 변수에 값을 넣어 프롬프트를 생성하는 과정을 실습합니다. 이는 사용자의 입력에 따라 질문을 유연하게 구성하는 방법을 보여줍니다."
      ]
    },
    {
      "cell_type": "markdown",
      "metadata": {
        "id": "O9uw7Oq9POVH"
      },
      "source": [
        "## 08-031 체인 실행 및 결과 확인\n",
        "- 이 실습에서는 PromptTemplate과 ChatOpenAI 모델을 연결하여 체인을 생성합니다. chain.invoke(3)을 호출하여 입력값으로 3을 전달하고, 최종 결과를 출력합니다."
      ]
    },
    {
      "cell_type": "code",
      "execution_count": null,
      "metadata": {
        "colab": {
          "base_uri": "https://localhost:8080/"
        },
        "id": "TqRS67MbPOVH",
        "outputId": "ecb39203-ce89-4d48-ed16-66b3ff74c476"
      },
      "outputs": [
        {
          "name": "stdout",
          "output_type": "stream",
          "text": [
            "10월 21일에 있었던 주요한 역사적 이벤트 중 세 가지를 소개합니다:\n",
            "\n",
            "1. **1805년 - 트라팔가르 해전**: 영국 해군이 나폴레옹 전쟁 중 스페인과 프랑스 연합 함대를 상대로 승리한 전투입니다. 이 전투에서 영국의 넬슨 제독이 전사했지만, 영국 해군의 우세를 확립하는 중요한 전투로 평가받고 있습니다.\n",
            "\n",
            "2. **1879년 - 토마스 에디슨의 전구 발명**: 토마스 에디슨이 전구의 상업적 모델을 개발하여 전기를 이용한 조명의 시대를 열었습니다. 이 발명은 현대 사회의 발전에 큰 영향을 미쳤습니다.\n",
            "\n",
            "3. **1944년 - 필리핀 전투 시작**: 제2차 세계대전 중 필리핀에서 미국과 일본 간의 대규모 전투가 시작되었습니다. 이 전투는 미국의 필리핀 재탈환을 위한 중요한 전투로, 전쟁의 전환점 중 하나로 여겨집니다.\n",
            "\n",
            "이 외에도 10월 21일에는 다양한 역사적 사건들이 있었으니, 관심 있는 분야에 따라 더 많은 정보를 찾아보실 수 있습니다.\n"
          ]
        }
      ],
      "source": [
        "# chain 을 실행 후 결과를 확인합니다.\n",
        "chain = prompt | llm\n",
        "print(chain.invoke(3).content)"
      ]
    },
    {
      "cell_type": "markdown",
      "metadata": {
        "id": "A2V6xErCPOVH"
      },
      "source": [
        "- 체인을 실행하여 모델의 응답을 확인하는 과정을 실습합니다. 이는 입력값에 따른 모델의 동작을 검토하는 데 유용합니다."
      ]
    },
    {
      "cell_type": "markdown",
      "metadata": {
        "id": "GcuJN8yoPOVI"
      },
      "source": [
        "## 08-032 JAEN에서 파일 다운로드\n",
        "- 이 실습에서는 JAEN 라이브러리를 사용하여 'capitalyaml'이라는 파일을 다운로드합니다. download_file 함수를 호출하여 해당 파일을 다운로드하고, 이후에 사용할 수 있도록 준비합니다."
      ]
    },
    {
      "cell_type": "code",
      "execution_count": null,
      "metadata": {
        "colab": {
          "base_uri": "https://localhost:8080/"
        },
        "id": "exVMO-RXPOVI",
        "outputId": "a431a638-1085-4eeb-9c9d-b08df4f22aa3"
      },
      "outputs": [
        {
          "name": "stdout",
          "output_type": "stream",
          "text": [
            "파일이 성공적으로 다운로드되었습니다: capital_info.yaml\n",
            "절대 경로: /content/capital_info.yaml\n",
            "상대 경로: capital_info.yaml\n"
          ]
        }
      ],
      "source": [
        "from JAEN import download_file\n",
        "\n",
        "download_file('capitalyaml')"
      ]
    },
    {
      "cell_type": "markdown",
      "metadata": {
        "id": "6a_JjI73POVI"
      },
      "source": [
        "- JAEN 라이브러리를 사용하여 파일을 다운로드하는 과정을 실습합니다. 이는 데이터나 리소스를 가져오는 데 유용한 방법입니다."
      ]
    },
    {
      "cell_type": "markdown",
      "metadata": {
        "id": "ryGdz0IpPOVI"
      },
      "source": [
        "## 08-033 YAML 파일에서 프롬프트 로드\n",
        "- 이 실습에서는 YAML 파일에서 프롬프트를 로드합니다. load_prompt 함수를 사용하여 'capital_info.yaml' 파일을 읽고, 해당 파일에 정의된 프롬프트를 사용하여 모델과 상호작용할 수 있게 합니다."
      ]
    },
    {
      "cell_type": "code",
      "execution_count": null,
      "metadata": {
        "colab": {
          "base_uri": "https://localhost:8080/"
        },
        "id": "Q_Obt6G1POVI",
        "outputId": "7b11c6ff-e532-4755-b2af-0391b064e0a1"
      },
      "outputs": [
        {
          "data": {
            "text/plain": [
              "PromptTemplate(input_variables=['country'], input_types={}, partial_variables={}, template='{country}의 수도에 대해서 알려주세요.\\n수도의 특징을 다음의 양식에 맞게 정리해 주세요.\\n300자 내외로 작성해 주세요.\\n한글로 작성해 주세요.\\n----\\n[양식]\\n1. 면적\\n2. 인구\\n3. 역사적 장소\\n4. 특산품\\n\\n#Answer:\\n')"
            ]
          },
          "execution_count": 51,
          "metadata": {},
          "output_type": "execute_result"
        }
      ],
      "source": [
        "from langchain_core.prompts import load_prompt\n",
        "\n",
        "prompt = load_prompt(\"capital_info.yaml\", encoding=\"utf-8\")\n",
        "prompt"
      ]
    },
    {
      "cell_type": "markdown",
      "metadata": {
        "id": "WP6nyp4SPOVI"
      },
      "source": [
        "- YAML 파일에서 프롬프트를 로드하는 과정을 실습합니다. 이는 외부 파일에서 설정된 프롬프트를 효과적으로 활용하는 방법을 보여줍니다."
      ]
    },
    {
      "cell_type": "markdown",
      "metadata": {
        "id": "NEnGgtyxPOVI"
      },
      "source": [
        "## 08-034 ChatPromptTemplate 생성 및 메시지 생성\n",
        "- 이 실습에서는 ChatPromptTemplate을 사용하여 여러 역할에 대한 메시지를 구성합니다. format_messages 메소드를 사용하여 {name} 및 {user_input} 변수에 값을 삽입하여 최종 메시지를 생성합니다."
      ]
    },
    {
      "cell_type": "code",
      "execution_count": null,
      "metadata": {
        "colab": {
          "base_uri": "https://localhost:8080/"
        },
        "id": "XMUoZ9_OPOVI",
        "outputId": "4a2d80b1-16eb-4cf4-d479-80a43ddfa982"
      },
      "outputs": [
        {
          "data": {
            "text/plain": [
              "[SystemMessage(content='당신은 친절한 AI 어시스턴트입니다. 당신의 이름은 가우스 입니다.', additional_kwargs={}, response_metadata={}),\n",
              " HumanMessage(content='반가워요!', additional_kwargs={}, response_metadata={}),\n",
              " AIMessage(content='안녕하세요! 무엇을 도와드릴까요?', additional_kwargs={}, response_metadata={}),\n",
              " HumanMessage(content='당신의 이름은 무엇입니까?', additional_kwargs={}, response_metadata={})]"
            ]
          },
          "execution_count": 52,
          "metadata": {},
          "output_type": "execute_result"
        }
      ],
      "source": [
        "from langchain_core.prompts import ChatPromptTemplate\n",
        "\n",
        "chat_template = ChatPromptTemplate.from_messages(\n",
        "    [\n",
        "        # role, message\n",
        "        (\"system\", \"당신은 친절한 AI 어시스턴트입니다. 당신의 이름은 {name} 입니다.\"),\n",
        "        (\"human\", \"반가워요!\"),\n",
        "        (\"ai\", \"안녕하세요! 무엇을 도와드릴까요?\"),\n",
        "        (\"human\", \"{user_input}\"),\n",
        "    ]\n",
        ")\n",
        "\n",
        "# 챗 message 를 생성합니다.\n",
        "messages = chat_template.format_messages(\n",
        "    name=\"가우스\", user_input=\"당신의 이름은 무엇입니까?\"\n",
        ")\n",
        "messages"
      ]
    },
    {
      "cell_type": "markdown",
      "metadata": {
        "id": "CdVXuNpOPOVI"
      },
      "source": [
        "- ChatPromptTemplate을 사용하여 메시지를 생성하는 과정을 실습합니다. 이는 여러 역할 간의 상호작용을 정의하는 데 유용합니다."
      ]
    },
    {
      "cell_type": "markdown",
      "metadata": {
        "id": "IBVCHILaPOVI"
      },
      "source": [
        "## 08-035 메시지를 통해 모델에 요청\n",
        "- 이 실습에서는 생성된 메시지를 사용하여 ChatOpenAI 모델에 요청을 보냅니다. llm.invoke() 메서드를 호출하여 메시지를 전달하고, 모델의 응답 내용을 확인합니다."
      ]
    },
    {
      "cell_type": "code",
      "execution_count": null,
      "metadata": {
        "colab": {
          "base_uri": "https://localhost:8080/",
          "height": 35
        },
        "id": "UK7cBDTXPOVI",
        "outputId": "140ad0df-081c-4aeb-f52e-a5fc7bcc013e"
      },
      "outputs": [
        {
          "data": {
            "application/vnd.google.colaboratory.intrinsic+json": {
              "type": "string"
            },
            "text/plain": [
              "'제 이름은 가우스입니다! 당신은 어떤 이름을 가지고 계신가요?'"
            ]
          },
          "execution_count": 53,
          "metadata": {},
          "output_type": "execute_result"
        }
      ],
      "source": [
        "llm.invoke(messages).content"
      ]
    },
    {
      "cell_type": "markdown",
      "metadata": {
        "id": "EIWORKeoPOVJ"
      },
      "source": [
        "- 생성된 메시지를 통해 모델에 요청하고, 그 결과를 확인하는 과정을 실습합니다. 이는 NLP 모델과의 상호작용을 효과적으로 관리하는 방법을 보여줍니다."
      ]
    },
    {
      "cell_type": "markdown",
      "metadata": {
        "id": "IbzUw1LOPOVJ"
      },
      "source": [
        "## 08-036 체인 실행 및 모델에 요청\n",
        "- 이 실습에서는 ChatPromptTemplate과 ChatOpenAI 모델을 연결하여 체인을 구성합니다. chain.invoke() 메서드를 호출하여 사용자 이름과 입력 문장을 전달하고, 모델의 응답 내용을 확인합니다."
      ]
    },
    {
      "cell_type": "code",
      "execution_count": null,
      "metadata": {
        "colab": {
          "base_uri": "https://localhost:8080/",
          "height": 35
        },
        "id": "E7TxlcvTPOVJ",
        "outputId": "85ad7e4a-7136-43de-c808-bceeda44244e"
      },
      "outputs": [
        {
          "data": {
            "application/vnd.google.colaboratory.intrinsic+json": {
              "type": "string"
            },
            "text/plain": [
              "'제 이름은 가우스입니다! 당신과 대화하게 되어 기쁩니다. 어떤 질문이나 도움이 필요하신가요?'"
            ]
          },
          "execution_count": 54,
          "metadata": {},
          "output_type": "execute_result"
        }
      ],
      "source": [
        "chain = chat_template | llm\n",
        "chain.invoke({\"name\": \"가우스\", \"user_input\": \"당신의 이름은 무엇입니까?\"}).content"
      ]
    },
    {
      "cell_type": "markdown",
      "metadata": {
        "id": "cBtf_6q7POVJ"
      },
      "source": [
        "- 체인을 실행하여 입력값에 대한 모델의 응답을 확인하는 과정을 실습합니다. 이는 모델과의 상호작용을 효과적으로 관리하는 방법을 보여줍니다."
      ]
    },
    {
      "cell_type": "markdown",
      "metadata": {
        "id": "Bylwgzb7POVJ"
      },
      "source": [
        "## 08-037 퓨샷 예시 데이터 정의\n",
        "- 이 실습에서는 가전제품 고장과 관련된 질문과 그에 대한 대처 방법을 포함하는 예제 데이터를 정의합니다. 각 예제는 질문과 해당 질문에 대한 적절한 답변으로 구성됩니다."
      ]
    },
    {
      "cell_type": "code",
      "execution_count": null,
      "metadata": {
        "id": "sxEleetqPOVJ"
      },
      "outputs": [],
      "source": [
        "# 퓨샷 예시\n",
        "# 예제 데이터: 가전제품 고장과 대처 방법\n",
        "examples = [\n",
        "    {\n",
        "        \"question\": \"세탁기가 작동하지 않아요. 어떻게 해야 하나요?\",\n",
        "        \"answer\": \"\"\"\n",
        "1. 세탁기의 전원 케이블이 콘센트에 제대로 연결되어 있는지 확인해 주세요.\n",
        "2. 세탁기의 전원 스위치가 \"ON\" 상태인지 확인해 주세요.\n",
        "3. 세탁기의 문이 완전히 닫혀 있는지 확인해 주세요. 세탁기는 문이 열려 있을 때 작동하지 않을 수 있습니다.\n",
        "4. 위의 방법으로 문제가 해결되지 않으면, 삼성 서비스 웹사이트를 방문하거나 가까운 서비스 센터에 문의하여 전문적인 점검을 받으세요.\n",
        "\"\"\",\n",
        "    },\n",
        "    {\n",
        "    \"question\": \"냉장고가 시원하지 않아요. 어떻게 해야 하나요?\",\n",
        "    \"answer\": \"\"\"\n",
        "1. 냉장고의 온도 조절기가 적절히 설정되어 있는지 확인해 주세요. 너무 높은 온도 설정은 냉장고의 성능을 저하시킬 수 있습니다.\n",
        "2. 냉장고의 문이 제대로 닫혀 있는지 확인해 주세요. 문이 제대로 닫히지 않으면 냉기가 새어나갈 수 있습니다.\n",
        "3. 냉장고의 팬과 통풍구가 막히지 않았는지 확인해 주세요. 공기 흐름이 원활해야 냉각이 제대로 이루어집니다.\n",
        "4. 냉장고의 뒷면과 측면에 먼지나 이물질이 쌓여 있는지 확인하고 청소해 주세요. 먼지가 쌓이면 냉각 성능이 저하될 수 있습니다.\n",
        "5. 위의 방법으로 문제가 해결되지 않으면, 삼성 서비스 웹사이트를 방문하거나 가까운 서비스 센터에 문의하여 전문적인 점검을 받으세요.\n",
        "\"\"\"\n",
        "    },\n",
        "    {\n",
        "    \"question\": \"에어컨이 작동하지 않아요. 어떻게 해야 하나요?\",\n",
        "    \"answer\": \"\"\"\n",
        "1. 에어컨의 전원 코드가 제대로 연결되어 있는지 확인해 주세요.\n",
        "2. 에어컨의 전원 스위치가 \"ON\" 상태인지 확인해 주세요.\n",
        "3. 리모컨의 배터리가 충분한지 확인하고, 배터리를 교체해 보세요.\n",
        "4. 에어컨의 필터가 막히거나 더러워졌는지 확인하고 청소해 주세요.\n",
        "5. 위의 방법으로 문제가 해결되지 않으면, 삼성 서비스 웹사이트를 방문하거나 가까운 서비스 센터에 문의하여 전문적인 점검을 받으세요.\n",
        "\"\"\"    }\n",
        "]"
      ]
    },
    {
      "cell_type": "markdown",
      "metadata": {
        "id": "wytavNLzPOVJ"
      },
      "source": [
        "- 퓨샷 예시 데이터를 정의하는 과정을 실습합니다. 이는 특정 주제에 대한 질문과 답변을 구조화하여 모델 훈련에 활용하는 방법을 보여줍니다."
      ]
    },
    {
      "cell_type": "markdown",
      "metadata": {
        "id": "V0G6AF1rPOVJ"
      },
      "source": [
        "## 08-038 예제 프롬프트 생성 및 출력\n",
        "- 이 실습에서는 예제 데이터에서 첫 번째 항목을 사용하여 질문과 답변 형식의 프롬프트를 생성합니다. format 메소드를 통해 'question'과 'answer' 변수를 채워 최종 프롬프트를 출력합니다."
      ]
    },
    {
      "cell_type": "code",
      "execution_count": null,
      "metadata": {
        "colab": {
          "base_uri": "https://localhost:8080/"
        },
        "id": "0ra197bOPOVJ",
        "outputId": "a4673771-28d2-45dd-bee6-e453b11b7873"
      },
      "outputs": [
        {
          "name": "stdout",
          "output_type": "stream",
          "text": [
            "Question:\n",
            "세탁기가 작동하지 않아요. 어떻게 해야 하나요?\n",
            "Answer:\n",
            "\n",
            "1. 세탁기의 전원 케이블이 콘센트에 제대로 연결되어 있는지 확인해 주세요.\n",
            "2. 세탁기의 전원 스위치가 \"ON\" 상태인지 확인해 주세요.\n",
            "3. 세탁기의 문이 완전히 닫혀 있는지 확인해 주세요. 세탁기는 문이 열려 있을 때 작동하지 않을 수 있습니다.\n",
            "4. 위의 방법으로 문제가 해결되지 않으면, 삼성 서비스 웹사이트를 방문하거나 가까운 서비스 센터에 문의하여 전문적인 점검을 받으세요.\n",
            "\n"
          ]
        }
      ],
      "source": [
        "example_prompt = PromptTemplate.from_template(\n",
        "    \"Question:\\n{question}\\nAnswer:\\n{answer}\"\n",
        ")\n",
        "\n",
        "print(example_prompt.format(**examples[0]))"
      ]
    },
    {
      "cell_type": "markdown",
      "metadata": {
        "id": "YZH1EYB9POVJ"
      },
      "source": [
        "- 예제 데이터를 기반으로 질문과 답변 형식의 프롬프트를 생성하고 출력하는 과정을 실습합니다. 이는 모델에게 제공할 질문과 그에 대한 답변 형식을 구성하는 방법을 보여줍니다."
      ]
    },
    {
      "cell_type": "markdown",
      "metadata": {
        "id": "enuNWSU4POVJ"
      },
      "source": [
        "## 08-039 FewShotPromptTemplate 생성 및 출력\n",
        "- 이 실습에서는 FewShotPromptTemplate을 사용하여 주어진 예제 데이터를 기반으로 질문에 대한 답변 형식의 프롬프트를 생성합니다. 입력 변수로 질문을 받고, 기존 예제와 함께 최종 프롬프트를 출력합니다."
      ]
    },
    {
      "cell_type": "code",
      "execution_count": null,
      "metadata": {
        "colab": {
          "base_uri": "https://localhost:8080/"
        },
        "id": "GmVp2kEyPOVJ",
        "outputId": "8ce05bea-9836-4a2a-cc66-783c7ada8dcb"
      },
      "outputs": [
        {
          "name": "stdout",
          "output_type": "stream",
          "text": [
            "Question:\n",
            "세탁기가 작동하지 않아요. 어떻게 해야 하나요?\n",
            "Answer:\n",
            "\n",
            "1. 세탁기의 전원 케이블이 콘센트에 제대로 연결되어 있는지 확인해 주세요.\n",
            "2. 세탁기의 전원 스위치가 \"ON\" 상태인지 확인해 주세요.\n",
            "3. 세탁기의 문이 완전히 닫혀 있는지 확인해 주세요. 세탁기는 문이 열려 있을 때 작동하지 않을 수 있습니다.\n",
            "4. 위의 방법으로 문제가 해결되지 않으면, 삼성 서비스 웹사이트를 방문하거나 가까운 서비스 센터에 문의하여 전문적인 점검을 받으세요.\n",
            "\n",
            "\n",
            "Question:\n",
            "냉장고가 시원하지 않아요. 어떻게 해야 하나요?\n",
            "Answer:\n",
            "\n",
            "1. 냉장고의 온도 조절기가 적절히 설정되어 있는지 확인해 주세요. 너무 높은 온도 설정은 냉장고의 성능을 저하시킬 수 있습니다.\n",
            "2. 냉장고의 문이 제대로 닫혀 있는지 확인해 주세요. 문이 제대로 닫히지 않으면 냉기가 새어나갈 수 있습니다.\n",
            "3. 냉장고의 팬과 통풍구가 막히지 않았는지 확인해 주세요. 공기 흐름이 원활해야 냉각이 제대로 이루어집니다.\n",
            "4. 냉장고의 뒷면과 측면에 먼지나 이물질이 쌓여 있는지 확인하고 청소해 주세요. 먼지가 쌓이면 냉각 성능이 저하될 수 있습니다.\n",
            "5. 위의 방법으로 문제가 해결되지 않으면, 삼성 서비스 웹사이트를 방문하거나 가까운 서비스 센터에 문의하여 전문적인 점검을 받으세요.\n",
            "\n",
            "\n",
            "Question:\n",
            "에어컨이 작동하지 않아요. 어떻게 해야 하나요?\n",
            "Answer:\n",
            "\n",
            "1. 에어컨의 전원 코드가 제대로 연결되어 있는지 확인해 주세요.\n",
            "2. 에어컨의 전원 스위치가 \"ON\" 상태인지 확인해 주세요.\n",
            "3. 리모컨의 배터리가 충분한지 확인하고, 배터리를 교체해 보세요.\n",
            "4. 에어컨의 필터가 막히거나 더러워졌는지 확인하고 청소해 주세요.\n",
            "5. 위의 방법으로 문제가 해결되지 않으면, 삼성 서비스 웹사이트를 방문하거나 가까운 서비스 센터에 문의하여 전문적인 점검을 받으세요.\n",
            "\n",
            "\n",
            "Question:\n",
            "공기청정기를 작동해도 미세먼지 농도가 줄어들지 않아요.\n",
            "Answer:\n"
          ]
        }
      ],
      "source": [
        "from langchain_core.prompts.few_shot import FewShotPromptTemplate\n",
        "\n",
        "prompt = FewShotPromptTemplate(\n",
        "    examples=examples,\n",
        "    example_prompt=example_prompt,\n",
        "    suffix=\"Question:\\n{question}\\nAnswer:\",\n",
        "    input_variables=[\"question\"],\n",
        ")\n",
        "\n",
        "question = \"공기청정기를 작동해도 미세먼지 농도가 줄어들지 않아요.\"\n",
        "final_prompt = prompt.format(question=question)\n",
        "print(final_prompt)"
      ]
    },
    {
      "cell_type": "markdown",
      "metadata": {
        "id": "-ZB-6m3dPOVJ"
      },
      "source": [
        "- FewShotPromptTemplate을 생성하고, 주어진 질문을 바탕으로 최종 프롬프트를 출력하는 과정을 실습합니다. 이는 모델이 특정 질문에 대해 학습된 예제에 기반하여 응답할 수 있도록 돕습니다."
      ]
    },
    {
      "cell_type": "markdown",
      "metadata": {
        "id": "xS1QyG5qPOVK"
      },
      "source": [
        "## 08-040 이메일 대화 예시 정의\n",
        "- 이 실습에서는 이메일 대화를 문자열로 정의합니다. 이메일의 발신자, 수신자, 제목, 내용 등이 포함되어 있으며, 이는 후속 작업에서 텍스트 분석이나 모델 학습 등에 활용할 수 있습니다."
      ]
    },
    {
      "cell_type": "code",
      "execution_count": null,
      "metadata": {
        "id": "AvcJBfSVPOVK"
      },
      "outputs": [],
      "source": [
        "email_conversation = \"\"\"From:  김민수 (minsoo.kim@samsung.com)\n",
        "To: 이서윤 (seoyoon.lee@samsung.com)\n",
        "Subject:  \"GALAXY\" 노트북 유통 협력 및 미팅 일정 제안\n",
        "\n",
        "안녕하세요, 이서윤 프로님,\n",
        "\n",
        "GALAXY 모델에 대한 상세한 브로슈어를 요청드립니다. 특히 기술 사양, 배터리 성능, 그리고 디자인 측면에 대한 정보가 필요합니다. 이를 통해 저희가 제안할 유통 전략과 마케팅 계획을 보다 구체화할 수 있을 것입니다.\n",
        "\n",
        "또한, 관련 내용을 더 깊이 논의하기 위해 다음 주 화요일(1월 15일) 오전 10시에 이야기를 나눌 수 있을까요?\n",
        "\n",
        "감사합니다.\n",
        "\n",
        "김민수 프로\n",
        "삼성전자\n",
        "\"\"\""
      ]
    },
    {
      "cell_type": "markdown",
      "metadata": {
        "id": "8m8l6AICPOVK"
      },
      "source": [
        "- 이메일 대화 예시를 정의하는 과정을 실습합니다. 이는 텍스트 데이터 세트를 생성하여 모델의 입력으로 사용할 수 있는 방법을 보여줍니다."
      ]
    },
    {
      "cell_type": "markdown",
      "metadata": {
        "id": "a6iVjLv0POVK"
      },
      "source": [
        "## 08-041 이메일 내용 추출 체인 실행\n",
        "- 이 실습에서는 PromptTemplate을 사용하여 이메일 내용에서 중요한 정보를 추출하는 요청을 생성합니다. 문자열 출력 파서를 통해 모델의 결과를 처리하고, 최종 결과를 출력합니다."
      ]
    },
    {
      "cell_type": "code",
      "execution_count": null,
      "metadata": {
        "colab": {
          "base_uri": "https://localhost:8080/"
        },
        "id": "fKqufRFFPOVK",
        "outputId": "78afc68e-96c9-42a3-c722-3d999bcba9cf"
      },
      "outputs": [
        {
          "name": "stdout",
          "output_type": "stream",
          "text": [
            "이메일의 중요한 내용은 다음과 같습니다:\n",
            "\n",
            "1. GALAXY 모델에 대한 상세한 브로슈어 요청 (기술 사양, 배터리 성능, 디자인 정보 포함).\n",
            "2. 유통 전략과 마케팅 계획 구체화를 위한 정보 필요.\n",
            "3. 다음 주 화요일(1월 15일) 오전 10시에 미팅 제안.\n"
          ]
        }
      ],
      "source": [
        "from itertools import chain\n",
        "from langchain_core.prompts import PromptTemplate\n",
        "from langchain_core.output_parsers import StrOutputParser\n",
        "\n",
        "prompt = PromptTemplate.from_template(\n",
        "    \"다음의 이메일 내용중 중요한 내용을 추출해 주세요.\\n\\n{email_conversation}\"\n",
        ")\n",
        "\n",
        "llm = ChatOpenAI(temperature=0, model_name=\"gpt-4o\")\n",
        "parser = StrOutputParser() # 문자열 출력 파서 생성\n",
        "\n",
        "chain = prompt | llm | parser # 문자열 출력 파서를 llm 출력 뒤에 체인 연결\n",
        "\n",
        "result = await chain.ainvoke({\"email_conversation\": email_conversation})\n",
        "print(result)"
      ]
    },
    {
      "cell_type": "markdown",
      "metadata": {
        "id": "NXwbOr_mPOVK"
      },
      "source": [
        "- 이메일 내용에서 중요한 정보를 추출하는 체인을 실행하는 과정을 실습합니다. 이는 모델을 활용하여 특정 정보를 효과적으로 추출하는 방법을 보여줍니다."
      ]
    },
    {
      "cell_type": "markdown",
      "metadata": {
        "id": "QnIDpwUePOVM"
      },
      "source": [
        "## 08-042 PydanticOutputParser 생성\n",
        "- 이 실습에서는 Pydantic을 사용하여 이메일 요약 모델을 정의하고, 이를 기반으로 PydanticOutputParser를 생성합니다. 이 파서는 모델의 출력을 Pydantic 모델 형식으로 변환하여 구조화된 데이터를 제공합니다."
      ]
    },
    {
      "cell_type": "code",
      "execution_count": null,
      "metadata": {
        "id": "XHKikQ96POVM"
      },
      "outputs": [],
      "source": [
        "from langchain_core.output_parsers import PydanticOutputParser\n",
        "from pydantic import BaseModel, Field\n",
        "\n",
        "class EmailSummary(BaseModel):\n",
        "    person: str = Field(description=\"메일을 보낸 사람\")\n",
        "    email: str = Field(description=\"메일을 보낸 사람의 이메일 주소\")\n",
        "    subject: str = Field(description=\"메일 제목\")\n",
        "    summary: str = Field(description=\"메일 본문을 요약한 텍스트\")\n",
        "    date: str = Field(description=\"메일 본문에 언급된 미팅 날짜와 시간\")\n",
        "\n",
        "# PydanticOutputParser 생성\n",
        "parser = PydanticOutputParser(pydantic_object=EmailSummary)"
      ]
    },
    {
      "cell_type": "markdown",
      "metadata": {
        "id": "jpza1kkHPOVM"
      },
      "source": [
        "- PydanticOutputParser를 생성하고 이를 통해 구조화된 데이터를 정의하는 과정을 실습합니다. 이는 모델의 출력을 더 쉽게 다룰 수 있도록 돕습니다."
      ]
    },
    {
      "cell_type": "markdown",
      "metadata": {
        "id": "ZNtdaSl2POVM"
      },
      "source": [
        "## 08-043 PydanticOutputParser의 형식 지침 출력\n",
        "- 이 실습에서는 PydanticOutputParser에서 제공하는 형식 지침을 출력합니다. 이 지침은 모델의 출력을 Pydantic 객체에 맞게 형식화하는 방법을 설명합니다."
      ]
    },
    {
      "cell_type": "code",
      "execution_count": null,
      "metadata": {
        "colab": {
          "base_uri": "https://localhost:8080/"
        },
        "id": "OlRJS21GPOVM",
        "outputId": "dc338b46-0112-42d8-e430-81ebe943c220"
      },
      "outputs": [
        {
          "name": "stdout",
          "output_type": "stream",
          "text": [
            "The output should be formatted as a JSON instance that conforms to the JSON schema below.\n",
            "\n",
            "As an example, for the schema {\"properties\": {\"foo\": {\"title\": \"Foo\", \"description\": \"a list of strings\", \"type\": \"array\", \"items\": {\"type\": \"string\"}}}, \"required\": [\"foo\"]}\n",
            "the object {\"foo\": [\"bar\", \"baz\"]} is a well-formatted instance of the schema. The object {\"properties\": {\"foo\": [\"bar\", \"baz\"]}} is not well-formatted.\n",
            "\n",
            "Here is the output schema:\n",
            "```\n",
            "{\"properties\": {\"person\": {\"description\": \"메일을 보낸 사람\", \"title\": \"Person\", \"type\": \"string\"}, \"email\": {\"description\": \"메일을 보낸 사람의 이메일 주소\", \"title\": \"Email\", \"type\": \"string\"}, \"subject\": {\"description\": \"메일 제목\", \"title\": \"Subject\", \"type\": \"string\"}, \"summary\": {\"description\": \"메일 본문을 요약한 텍스트\", \"title\": \"Summary\", \"type\": \"string\"}, \"date\": {\"description\": \"메일 본문에 언급된 미팅 날짜와 시간\", \"title\": \"Date\", \"type\": \"string\"}}, \"required\": [\"person\", \"email\", \"subject\", \"summary\", \"date\"]}\n",
            "```\n"
          ]
        }
      ],
      "source": [
        "# instruction 을 출력합니다.\n",
        "print(parser.get_format_instructions())"
      ]
    },
    {
      "cell_type": "markdown",
      "metadata": {
        "id": "7qD7GejSPOVM"
      },
      "source": [
        "- PydanticOutputParser의 형식 지침을 확인하는 과정을 실습합니다. 이는 데이터 형식화 및 처리 방법을 이해하는 데 도움이 됩니다."
      ]
    },
    {
      "cell_type": "markdown",
      "metadata": {
        "id": "mnFx_FSkPOVM"
      },
      "source": [
        "## 08-044 프롬프트 템플릿 및 체인 생성\n",
        "- 이 실습에서는 KOREAN으로 질문에 답하는 보조 도우미를 위한 프롬프트 템플릿을 작성합니다. 또한, PydanticOutputParser에서 제공하는 형식 지침을 부분 포맷팅하여 최종 프롬프트에 추가합니다. 이후, 프롬프트 템플릿과 모델, 파서를 연결하여 체인을 생성합니다."
      ]
    },
    {
      "cell_type": "code",
      "execution_count": null,
      "metadata": {
        "id": "K17ZT1-cPOVN"
      },
      "outputs": [],
      "source": [
        "# 프롬프트 템플릿 작성\n",
        "prompt = PromptTemplate.from_template(\n",
        "    \"\"\"\n",
        "You are a helpful assistant. Please answer the following questions in KOREAN.\n",
        "\n",
        "QUESTION:\n",
        "{question}\n",
        "\n",
        "EMAIL CONVERSATION:\n",
        "{email_conversation}\n",
        "\n",
        "FORMAT:\n",
        "{format}\n",
        "\"\"\"\n",
        ")\n",
        "\n",
        "# format 에 PydanticOutputParser의 부분 포맷팅(partial) 추가\n",
        "prompt = prompt.partial(format=parser.get_format_instructions())\n",
        "\n",
        "# chain 을 생성합니다.\n",
        "chain = prompt | llm | parser"
      ]
    },
    {
      "cell_type": "markdown",
      "metadata": {
        "id": "T-xj5NCMPOVN"
      },
      "source": [
        "- 프롬프트 템플릿을 작성하고, 이를 기반으로 체인을 생성하는 과정을 실습합니다. 이는 특정 형식으로 정보를 요청하고 처리하는 방법을 보여줍니다."
      ]
    },
    {
      "cell_type": "markdown",
      "metadata": {
        "id": "bVTF026dPOVN"
      },
      "source": [
        "## 08-045 체인 실행 및 결과 출력\n",
        "- 이 실습에서는 앞서 생성한 체인을 사용하여 이메일 대화와 질문을 입력으로 제공하고, 모델의 응답을 받아 출력합니다. chain.invoke() 메서드를 통해 이메일 내용 중 주요 정보를 추출하는 요청을 수행합니다."
      ]
    },
    {
      "cell_type": "code",
      "execution_count": null,
      "metadata": {
        "id": "2U0Zcb8vPOVN"
      },
      "outputs": [],
      "source": [
        "# chain 을 실행하고 결과를 출력합니다.\n",
        "result = chain.invoke(\n",
        "    {\n",
        "        \"email_conversation\": email_conversation,\n",
        "        \"question\": \"이메일 내용중 주요 내용을 추출해 주세요.\",\n",
        "    }\n",
        ")"
      ]
    },
    {
      "cell_type": "markdown",
      "metadata": {
        "id": "bTbU-Bm4POVN"
      },
      "source": [
        "- 체인을 실행하여 이메일 내용에서 주요 정보를 추출하는 요청을 수행하는 과정을 실습합니다. 이는 모델의 분석 능력을 활용하는 방법을 보여줍니다."
      ]
    },
    {
      "cell_type": "markdown",
      "metadata": {
        "id": "tmdjO4o9POVN"
      },
      "source": [
        "---"
      ]
    },
    {
      "cell_type": "markdown",
      "metadata": {
        "id": "r8cRIFLAPOVN"
      },
      "source": [
        "# RAG"
      ]
    },
    {
      "cell_type": "code",
      "execution_count": null,
      "metadata": {
        "colab": {
          "base_uri": "https://localhost:8080/"
        },
        "collapsed": true,
        "id": "VQqw6V-jX59E",
        "outputId": "0814610b-f504-4f5f-9b39-17524478dd95"
      },
      "outputs": [
        {
          "name": "stdout",
          "output_type": "stream",
          "text": [
            "Requirement already satisfied: pypdf in /usr/local/lib/python3.10/dist-packages (5.0.1)\n",
            "Requirement already satisfied: langchain in /usr/local/lib/python3.10/dist-packages (0.3.4)\n",
            "Requirement already satisfied: langchain-openai in /usr/local/lib/python3.10/dist-packages (0.2.3)\n",
            "Collecting faiss-cpu\n",
            "  Downloading faiss_cpu-1.9.0-cp310-cp310-manylinux_2_17_x86_64.manylinux2014_x86_64.whl.metadata (4.4 kB)\n",
            "Requirement already satisfied: typing_extensions>=4.0 in /usr/local/lib/python3.10/dist-packages (from pypdf) (4.12.2)\n",
            "Requirement already satisfied: PyYAML>=5.3 in /usr/local/lib/python3.10/dist-packages (from langchain) (6.0.2)\n",
            "Requirement already satisfied: SQLAlchemy<3,>=1.4 in /usr/local/lib/python3.10/dist-packages (from langchain) (2.0.36)\n",
            "Requirement already satisfied: aiohttp<4.0.0,>=3.8.3 in /usr/local/lib/python3.10/dist-packages (from langchain) (3.10.10)\n",
            "Requirement already satisfied: async-timeout<5.0.0,>=4.0.0 in /usr/local/lib/python3.10/dist-packages (from langchain) (4.0.3)\n",
            "Requirement already satisfied: langchain-core<0.4.0,>=0.3.12 in /usr/local/lib/python3.10/dist-packages (from langchain) (0.3.12)\n",
            "Requirement already satisfied: langchain-text-splitters<0.4.0,>=0.3.0 in /usr/local/lib/python3.10/dist-packages (from langchain) (0.3.0)\n",
            "Requirement already satisfied: langsmith<0.2.0,>=0.1.17 in /usr/local/lib/python3.10/dist-packages (from langchain) (0.1.136)\n",
            "Requirement already satisfied: numpy<2,>=1 in /usr/local/lib/python3.10/dist-packages (from langchain) (1.26.4)\n",
            "Requirement already satisfied: pydantic<3.0.0,>=2.7.4 in /usr/local/lib/python3.10/dist-packages (from langchain) (2.9.2)\n",
            "Requirement already satisfied: requests<3,>=2 in /usr/local/lib/python3.10/dist-packages (from langchain) (2.32.3)\n",
            "Requirement already satisfied: tenacity!=8.4.0,<10,>=8.1.0 in /usr/local/lib/python3.10/dist-packages (from langchain) (9.0.0)\n",
            "Requirement already satisfied: openai<2.0.0,>=1.52.0 in /usr/local/lib/python3.10/dist-packages (from langchain-openai) (1.52.0)\n",
            "Requirement already satisfied: tiktoken<1,>=0.7 in /usr/local/lib/python3.10/dist-packages (from langchain-openai) (0.8.0)\n",
            "Requirement already satisfied: packaging in /usr/local/lib/python3.10/dist-packages (from faiss-cpu) (24.1)\n",
            "Requirement already satisfied: aiohappyeyeballs>=2.3.0 in /usr/local/lib/python3.10/dist-packages (from aiohttp<4.0.0,>=3.8.3->langchain) (2.4.3)\n",
            "Requirement already satisfied: aiosignal>=1.1.2 in /usr/local/lib/python3.10/dist-packages (from aiohttp<4.0.0,>=3.8.3->langchain) (1.3.1)\n",
            "Requirement already satisfied: attrs>=17.3.0 in /usr/local/lib/python3.10/dist-packages (from aiohttp<4.0.0,>=3.8.3->langchain) (24.2.0)\n",
            "Requirement already satisfied: frozenlist>=1.1.1 in /usr/local/lib/python3.10/dist-packages (from aiohttp<4.0.0,>=3.8.3->langchain) (1.4.1)\n",
            "Requirement already satisfied: multidict<7.0,>=4.5 in /usr/local/lib/python3.10/dist-packages (from aiohttp<4.0.0,>=3.8.3->langchain) (6.1.0)\n",
            "Requirement already satisfied: yarl<2.0,>=1.12.0 in /usr/local/lib/python3.10/dist-packages (from aiohttp<4.0.0,>=3.8.3->langchain) (1.15.2)\n",
            "Requirement already satisfied: jsonpatch<2.0,>=1.33 in /usr/local/lib/python3.10/dist-packages (from langchain-core<0.4.0,>=0.3.12->langchain) (1.33)\n",
            "Requirement already satisfied: httpx<1,>=0.23.0 in /usr/local/lib/python3.10/dist-packages (from langsmith<0.2.0,>=0.1.17->langchain) (0.27.2)\n",
            "Requirement already satisfied: orjson<4.0.0,>=3.9.14 in /usr/local/lib/python3.10/dist-packages (from langsmith<0.2.0,>=0.1.17->langchain) (3.10.9)\n",
            "Requirement already satisfied: requests-toolbelt<2.0.0,>=1.0.0 in /usr/local/lib/python3.10/dist-packages (from langsmith<0.2.0,>=0.1.17->langchain) (1.0.0)\n",
            "Requirement already satisfied: anyio<5,>=3.5.0 in /usr/local/lib/python3.10/dist-packages (from openai<2.0.0,>=1.52.0->langchain-openai) (3.7.1)\n",
            "Requirement already satisfied: distro<2,>=1.7.0 in /usr/lib/python3/dist-packages (from openai<2.0.0,>=1.52.0->langchain-openai) (1.7.0)\n",
            "Requirement already satisfied: jiter<1,>=0.4.0 in /usr/local/lib/python3.10/dist-packages (from openai<2.0.0,>=1.52.0->langchain-openai) (0.6.1)\n",
            "Requirement already satisfied: sniffio in /usr/local/lib/python3.10/dist-packages (from openai<2.0.0,>=1.52.0->langchain-openai) (1.3.1)\n",
            "Requirement already satisfied: tqdm>4 in /usr/local/lib/python3.10/dist-packages (from openai<2.0.0,>=1.52.0->langchain-openai) (4.66.5)\n",
            "Requirement already satisfied: annotated-types>=0.6.0 in /usr/local/lib/python3.10/dist-packages (from pydantic<3.0.0,>=2.7.4->langchain) (0.7.0)\n",
            "Requirement already satisfied: pydantic-core==2.23.4 in /usr/local/lib/python3.10/dist-packages (from pydantic<3.0.0,>=2.7.4->langchain) (2.23.4)\n",
            "Requirement already satisfied: charset-normalizer<4,>=2 in /usr/local/lib/python3.10/dist-packages (from requests<3,>=2->langchain) (3.4.0)\n",
            "Requirement already satisfied: idna<4,>=2.5 in /usr/local/lib/python3.10/dist-packages (from requests<3,>=2->langchain) (3.10)\n",
            "Requirement already satisfied: urllib3<3,>=1.21.1 in /usr/local/lib/python3.10/dist-packages (from requests<3,>=2->langchain) (2.2.3)\n",
            "Requirement already satisfied: certifi>=2017.4.17 in /usr/local/lib/python3.10/dist-packages (from requests<3,>=2->langchain) (2024.8.30)\n",
            "Requirement already satisfied: greenlet!=0.4.17 in /usr/local/lib/python3.10/dist-packages (from SQLAlchemy<3,>=1.4->langchain) (3.1.1)\n",
            "Requirement already satisfied: regex>=2022.1.18 in /usr/local/lib/python3.10/dist-packages (from tiktoken<1,>=0.7->langchain-openai) (2024.9.11)\n",
            "Requirement already satisfied: exceptiongroup in /usr/local/lib/python3.10/dist-packages (from anyio<5,>=3.5.0->openai<2.0.0,>=1.52.0->langchain-openai) (1.2.2)\n",
            "Requirement already satisfied: httpcore==1.* in /usr/local/lib/python3.10/dist-packages (from httpx<1,>=0.23.0->langsmith<0.2.0,>=0.1.17->langchain) (1.0.6)\n",
            "Requirement already satisfied: h11<0.15,>=0.13 in /usr/local/lib/python3.10/dist-packages (from httpcore==1.*->httpx<1,>=0.23.0->langsmith<0.2.0,>=0.1.17->langchain) (0.14.0)\n",
            "Requirement already satisfied: jsonpointer>=1.9 in /usr/local/lib/python3.10/dist-packages (from jsonpatch<2.0,>=1.33->langchain-core<0.4.0,>=0.3.12->langchain) (3.0.0)\n",
            "Requirement already satisfied: propcache>=0.2.0 in /usr/local/lib/python3.10/dist-packages (from yarl<2.0,>=1.12.0->aiohttp<4.0.0,>=3.8.3->langchain) (0.2.0)\n",
            "Downloading faiss_cpu-1.9.0-cp310-cp310-manylinux_2_17_x86_64.manylinux2014_x86_64.whl (27.5 MB)\n",
            "\u001b[2K   \u001b[90m━━━━━━━━━━━━━━━━━━━━━━━━━━━━━━━━━━━━━━━━\u001b[0m \u001b[32m27.5/27.5 MB\u001b[0m \u001b[31m59.9 MB/s\u001b[0m eta \u001b[36m0:00:00\u001b[0m\n",
            "\u001b[?25hInstalling collected packages: faiss-cpu\n",
            "Successfully installed faiss-cpu-1.9.0\n"
          ]
        }
      ],
      "source": [
        "%%capture\n",
        "!pip install pypdf langchain langchain-openai faiss-cpu"
      ]
    },
    {
      "cell_type": "markdown",
      "metadata": {
        "id": "MGR5P8a0POVN"
      },
      "source": [
        "## 08-046 JAEN에서 PDF 파일 다운로드\n",
        "- 이 실습에서는 JAEN 라이브러리를 사용하여 '온디바이스 AI 기술동향 및 발전방향.pdf' 파일을 다운로드합니다. download_file 함수를 호출하여 해당 PDF 파일을 다운로드하고, 이후에 사용할 수 있도록 준비합니다."
      ]
    },
    {
      "cell_type": "code",
      "execution_count": null,
      "metadata": {
        "colab": {
          "base_uri": "https://localhost:8080/"
        },
        "id": "_jR46EsXPOVN",
        "outputId": "f2eaa5b0-148f-4854-9bdc-76bfee22591e"
      },
      "outputs": [
        {
          "name": "stdout",
          "output_type": "stream",
          "text": [
            "파일이 성공적으로 다운로드되었습니다: 온디바이스 AI 기술동향 및 발전방향.pdf\n",
            "절대 경로: /content/온디바이스 AI 기술동향 및 발전방향.pdf\n",
            "상대 경로: 온디바이스 AI 기술동향 및 발전방향.pdf\n"
          ]
        }
      ],
      "source": [
        "from JAEN import download_file\n",
        "\n",
        "download_file('PDF') #온디바이스 AI 기술동향 및 발전방향.pdf"
      ]
    },
    {
      "cell_type": "markdown",
      "metadata": {
        "id": "SSuzPQoIPOVN"
      },
      "source": [
        "- JAEN 라이브러리를 사용하여 PDF 파일을 다운로드하는 과정을 실습합니다. 이는 데이터나 리소스를 가져오는 데 유용한 방법입니다."
      ]
    },
    {
      "cell_type": "markdown",
      "metadata": {
        "id": "va8NmN4bPOVO"
      },
      "source": [
        "## 08-047 PDF 파일 로딩 설정\n",
        "- 이 실습에서는 PyPDFLoader를 사용하여 특정 PDF 파일을 로드하는 설정을 합니다. FILE_PATH 변수를 통해 로드할 PDF 파일의 경로를 지정하고, 해당 파일을 로드할 수 있는 로더 객체를 생성합니다."
      ]
    },
    {
      "cell_type": "code",
      "execution_count": null,
      "metadata": {
        "id": "Jx5G1sPkPOVO"
      },
      "outputs": [],
      "source": [
        "from langchain_community.document_loaders import PyPDFLoader\n",
        "\n",
        "# 예제 파일 경로\n",
        "FILE_PATH = \"온디바이스 AI 기술동향 및 발전방향.pdf\"\n",
        "\n",
        "# 로더 설정\n",
        "loader = PyPDFLoader(FILE_PATH)"
      ]
    },
    {
      "cell_type": "markdown",
      "metadata": {
        "id": "iiLjNrJZPOVO"
      },
      "source": [
        "- PDF 파일을 로드하는 설정 과정을 실습합니다. 이는 문서 데이터 처리의 첫 번째 단계로, 파일을 프로그램에서 사용할 수 있도록 준비하는 방법을 보여줍니다."
      ]
    },
    {
      "cell_type": "markdown",
      "metadata": {
        "id": "1B10vJ8DPOVO"
      },
      "source": [
        "## 08-048 PDF 파일 로딩 및 문서 수 확인\n",
        "- 이 실습에서는 설정한 PDF 로더를 사용하여 PDF 파일을 로드하고, 로드된 문서의 수를 확인합니다. loader.load() 메서드를 호출하여 PDF 파일의 내용을 읽어오고, len() 함수를 사용하여 읽어온 문서의 수를 출력합니다."
      ]
    },
    {
      "cell_type": "code",
      "execution_count": null,
      "metadata": {
        "colab": {
          "base_uri": "https://localhost:8080/"
        },
        "id": "O8r5nMNSPOVO",
        "outputId": "a3a52095-a764-4e79-bde0-a7506f03d063"
      },
      "outputs": [
        {
          "data": {
            "text/plain": [
              "39"
            ]
          },
          "execution_count": 78,
          "metadata": {},
          "output_type": "execute_result"
        }
      ],
      "source": [
        "# PDF 로더\n",
        "docs = loader.load()\n",
        "\n",
        "# 로드된 문서의 수 확인\n",
        "len(docs)"
      ]
    },
    {
      "cell_type": "markdown",
      "metadata": {
        "id": "PQMgHtLsPOVO"
      },
      "source": [
        "- PDF 파일을 로드하고, 로드된 문서의 수를 확인하는 과정을 실습합니다. 이는 문서 데이터 처리의 두 번째 단계로, 읽어온 내용을 효과적으로 관리하는 방법을 보여줍니다."
      ]
    },
    {
      "cell_type": "markdown",
      "metadata": {
        "id": "6PdzCi9rPOVO"
      },
      "source": [
        "## 08-049 첫 번째 문서 확인\n",
        "- 이 실습에서는 로드한 PDF 문서 중 첫 번째 문서의 내용을 확인합니다. docs 리스트의 첫 번째 요소를 출력하여 해당 문서의 정보를 확인합니다."
      ]
    },
    {
      "cell_type": "code",
      "execution_count": null,
      "metadata": {
        "colab": {
          "base_uri": "https://localhost:8080/"
        },
        "id": "xPX5V78aPOVO",
        "outputId": "aaaab3bd-8a34-4cbc-bb05-55e04304317e"
      },
      "outputs": [
        {
          "data": {
            "text/plain": [
              "Document(metadata={'source': '온디바이스 AI 기술동향 및 발전방향.pdf', 'page': 0}, page_content='온디바이스 AI \\n기술동향 및 발전방향ISSUE \\nREPORT \\n2024-06호\\n')"
            ]
          },
          "execution_count": 79,
          "metadata": {},
          "output_type": "execute_result"
        }
      ],
      "source": [
        "# 첫번째 문서 확인\n",
        "docs[0]"
      ]
    },
    {
      "cell_type": "markdown",
      "metadata": {
        "id": "lJPlf8LAPOVO"
      },
      "source": [
        "- 로드된 PDF 파일의 첫 번째 문서를 확인하는 과정을 실습합니다. 이는 문서의 내용을 검토하고 필요한 정보를 추출하는 데 유용합니다."
      ]
    },
    {
      "cell_type": "markdown",
      "metadata": {
        "id": "X6BCx6EKPOVO"
      },
      "source": [
        "## 08-050 PDF 파일을 generator 방식으로 로드\n",
        "- 이 실습에서는 PDF 파일을 generator 방식으로 로드하여 각 문서의 메타데이터를 출력합니다. lazy_load() 메서드를 사용하여 메모리 효율적으로 문서를 로드하고, 각 문서의 메타데이터를 확인합니다."
      ]
    },
    {
      "cell_type": "code",
      "execution_count": null,
      "metadata": {
        "colab": {
          "base_uri": "https://localhost:8080/"
        },
        "id": "FkYnE--kPOVO",
        "outputId": "e7d21551-2014-4d64-83de-dad7ba79ae27"
      },
      "outputs": [
        {
          "name": "stdout",
          "output_type": "stream",
          "text": [
            "{'source': '온디바이스 AI 기술동향 및 발전방향.pdf', 'page': 0}\n",
            "{'source': '온디바이스 AI 기술동향 및 발전방향.pdf', 'page': 1}\n",
            "{'source': '온디바이스 AI 기술동향 및 발전방향.pdf', 'page': 2}\n",
            "{'source': '온디바이스 AI 기술동향 및 발전방향.pdf', 'page': 3}\n",
            "{'source': '온디바이스 AI 기술동향 및 발전방향.pdf', 'page': 4}\n",
            "{'source': '온디바이스 AI 기술동향 및 발전방향.pdf', 'page': 5}\n",
            "{'source': '온디바이스 AI 기술동향 및 발전방향.pdf', 'page': 6}\n",
            "{'source': '온디바이스 AI 기술동향 및 발전방향.pdf', 'page': 7}\n",
            "{'source': '온디바이스 AI 기술동향 및 발전방향.pdf', 'page': 8}\n",
            "{'source': '온디바이스 AI 기술동향 및 발전방향.pdf', 'page': 9}\n",
            "{'source': '온디바이스 AI 기술동향 및 발전방향.pdf', 'page': 10}\n",
            "{'source': '온디바이스 AI 기술동향 및 발전방향.pdf', 'page': 11}\n",
            "{'source': '온디바이스 AI 기술동향 및 발전방향.pdf', 'page': 12}\n",
            "{'source': '온디바이스 AI 기술동향 및 발전방향.pdf', 'page': 13}\n",
            "{'source': '온디바이스 AI 기술동향 및 발전방향.pdf', 'page': 14}\n",
            "{'source': '온디바이스 AI 기술동향 및 발전방향.pdf', 'page': 15}\n",
            "{'source': '온디바이스 AI 기술동향 및 발전방향.pdf', 'page': 16}\n",
            "{'source': '온디바이스 AI 기술동향 및 발전방향.pdf', 'page': 17}\n",
            "{'source': '온디바이스 AI 기술동향 및 발전방향.pdf', 'page': 18}\n",
            "{'source': '온디바이스 AI 기술동향 및 발전방향.pdf', 'page': 19}\n",
            "{'source': '온디바이스 AI 기술동향 및 발전방향.pdf', 'page': 20}\n",
            "{'source': '온디바이스 AI 기술동향 및 발전방향.pdf', 'page': 21}\n",
            "{'source': '온디바이스 AI 기술동향 및 발전방향.pdf', 'page': 22}\n",
            "{'source': '온디바이스 AI 기술동향 및 발전방향.pdf', 'page': 23}\n",
            "{'source': '온디바이스 AI 기술동향 및 발전방향.pdf', 'page': 24}\n",
            "{'source': '온디바이스 AI 기술동향 및 발전방향.pdf', 'page': 25}\n",
            "{'source': '온디바이스 AI 기술동향 및 발전방향.pdf', 'page': 26}\n",
            "{'source': '온디바이스 AI 기술동향 및 발전방향.pdf', 'page': 27}\n",
            "{'source': '온디바이스 AI 기술동향 및 발전방향.pdf', 'page': 28}\n",
            "{'source': '온디바이스 AI 기술동향 및 발전방향.pdf', 'page': 29}\n",
            "{'source': '온디바이스 AI 기술동향 및 발전방향.pdf', 'page': 30}\n",
            "{'source': '온디바이스 AI 기술동향 및 발전방향.pdf', 'page': 31}\n",
            "{'source': '온디바이스 AI 기술동향 및 발전방향.pdf', 'page': 32}\n",
            "{'source': '온디바이스 AI 기술동향 및 발전방향.pdf', 'page': 33}\n",
            "{'source': '온디바이스 AI 기술동향 및 발전방향.pdf', 'page': 34}\n",
            "{'source': '온디바이스 AI 기술동향 및 발전방향.pdf', 'page': 35}\n",
            "{'source': '온디바이스 AI 기술동향 및 발전방향.pdf', 'page': 36}\n",
            "{'source': '온디바이스 AI 기술동향 및 발전방향.pdf', 'page': 37}\n",
            "{'source': '온디바이스 AI 기술동향 및 발전방향.pdf', 'page': 38}\n"
          ]
        }
      ],
      "source": [
        "# generator 방식으로 문서 로드\n",
        "for doc in loader.lazy_load():\n",
        "    print(doc.metadata)"
      ]
    },
    {
      "cell_type": "markdown",
      "metadata": {
        "id": "-RFBSutGPOVO"
      },
      "source": [
        "- PDF 파일을 generator 방식으로 로드하고 각 문서의 메타데이터를 확인하는 과정을 실습합니다. 이는 대량의 문서 데이터를 효율적으로 처리하는 방법을 보여줍니다."
      ]
    },
    {
      "cell_type": "markdown",
      "metadata": {
        "id": "uaBjxDRgPOVP"
      },
      "source": [
        "## 08-051 PDF 파일을 Async 방식으로 로드\n",
        "- 이 실습에서는 PDF 파일을 비동기(async) 방식으로 로드합니다. aload() 메서드를 사용하여 문서를 로드하고, 이를 통해 비동기적으로 파일을 처리할 수 있습니다."
      ]
    },
    {
      "cell_type": "code",
      "execution_count": null,
      "metadata": {
        "id": "eY1DplSgPOVP"
      },
      "outputs": [],
      "source": [
        "# 문서를 async 방식으로 로드\n",
        "adocs = loader.aload()"
      ]
    },
    {
      "cell_type": "markdown",
      "metadata": {
        "id": "I46fs-OFPOVP"
      },
      "source": [
        "- PDF 파일을 비동기 방식으로 로드하는 과정을 실습합니다. 이는 문서 로딩 시 효율성을 높이고, 다른 작업과 병행하여 진행할 수 있는 방법을 보여줍니다."
      ]
    },
    {
      "cell_type": "markdown",
      "metadata": {
        "id": "MxZSinM7POVP"
      },
      "source": [
        "## 08-052 비동기 문서 로드\n",
        "- 이 실습에서는 비동기(async) 방식으로 로드한 문서를 실제로 가져오기 위해 await 키워드를 사용합니다. 이는 비동기적으로 로드된 문서를 기다리고, 해당 문서를 사용할 수 있게 합니다."
      ]
    },
    {
      "cell_type": "code",
      "execution_count": null,
      "metadata": {
        "colab": {
          "base_uri": "https://localhost:8080/"
        },
        "id": "5etBC6ooPOVP",
        "outputId": "258c5e27-5bfb-4d56-e781-e9eb1519af96"
      },
      "outputs": [
        {
          "data": {
            "text/plain": [
              "[Document(metadata={'source': '온디바이스 AI 기술동향 및 발전방향.pdf', 'page': 0}, page_content='온디바이스 AI \\n기술동향 및 발전방향ISSUE \\nREPORT \\n2024-06호\\n'),\n",
              " Document(metadata={'source': '온디바이스 AI 기술동향 및 발전방향.pdf', 'page': 1}, page_content='ISSUE \\nREPORT \\n2024-06호\\nDIGISIGHT온디바이스 AI 기술동향 및 발전방향\\nⅠ. 개 요 06\\nⅡ. 시장 및 기업 동향 09\\nⅢ. 핵심기술 동향 12\\nⅣ. 미래 발전방향 20 \\n 27\\n 30\\n 33\\n 35KEA NOW\\nMEMBER NEWS\\nESG TREND\\nSTATS'),\n",
              " Document(metadata={'source': '온디바이스 AI 기술동향 및 발전방향.pdf', 'page': 2}, page_content='DIGISIGHT\\n   2024.06  제6호Ⅰ. 개 요\\nⅡ. 시장 및 기업 동향 \\nⅢ. 핵심기술 동향 \\nⅣ. 미래 발전방향\\n  참고문헌 \\n 온디바이스 AI \\n기술동향 및 발전방향'),\n",
              " Document(metadata={'source': '온디바이스 AI 기술동향 및 발전방향.pdf', 'page': 3}, page_content='요 약\\n   (정의) 온디바이스 AI(On-Device AI)란 데이터를 외부 서버나 클라우드에 전송하지  \\n않고  디바이스 자체적으로 AI연산을 수행하는 기술\\n◎ \\x07 대용량\\x07데이터\\x07처리\\x07제한,\\x07개인정보\\x07유출\\x07위험,\\x07실시간성\\x07저하\\x07등\\x07기존\\x07서버\\x07기반\\x07중앙집중형\\x07 구조의\\x07여러\\x07\\n제약사항을\\x07해결하기\\x07위해\\x07등장\\n◎ \\x07 높은\\x07컴퓨팅\\x07파워가\\x07필요한\\x07AI\\x07연산을\\x07다양한\\x07하드웨어\\x07및\\x07소프트웨어\\x07 기술을\\x07활용하여\\x07최적화\\x07된\\x07스마트폰,\\x07\\n로봇,\\x07드론\\x07등\\x07디바이스\\x07내에서\\x07AI\\x07연산\\x07수행\\n◎ \\x07 디바이스\\x07내\\x07자체\\x07AI\\x07연산을\\x07통해\\x07네트워크\\x07환경에\\x07독립적인\\x07실시간\\x07서비스,\\x07개인정보\\x07유출\\x07최소화,\\x07서버\\x07\\n운영비용\\x07절감\\x07등\\x07강점\\n◎ \\x07 NPU,\\x07AI\\x07모델\\x07최적화\\x07등\\x07고수준의\\x07하드웨어\\x07및\\x07소프트웨어\\x07기술\\x07동시\\x07요구로\\x07인해\\x07높은\\x07진입장벽\\x07존재\\n  (시장동향)  글로벌 기업 및 각국 정부 투자 가속화로 고성장 예상  \\n◎ \\x07 생성형\\x07AI\\x07및\\x07온디바이스\\x07 AI\\x07시장은\\x07전\\x07세계적으로\\x07 빅테크\\x07기업\\x07투자\\x07열풍으로\\x07급성장이\\x07예상되며,\\x07 각국\\x07\\n정부들도\\x07투자계획\\x07수립을\\x07서두르고\\x07있어\\x07향후\\x07시장\\x07확대가\\x07가속화될\\x07전망\\n◎ \\x07 미국을\\x07포함한\\x07유럽,\\x07일본,\\x07중국,\\x07대만,\\x07한국\\x07등\\x07주요\\x07국가에서\\x07디바이스\\x07중심의\\x07AI\\x07관련\\x07기술\\x07개발\\x07지원\\x07정책을\\x07\\n지속적으로\\x07발표\\n◎ \\x07 AI칩\\x07제조사들은\\x07자사\\x07칩\\x07기반\\x07생태계\\x07구축을\\x07위해\\x07데이터 ·AI모델 ·추론 ·SDK\\x07등\\x07전방위적\\x07기술\\x07지원\\n\\t -\\t\\t단순\\t하드웨어\\t드라이버\\t수준의\\t라이브러리를\\t 넘어\\tAI\\t모델\\t경량화\\t및\\t최적화\\t도구\\t등\\t생태계\\t구축을\\t위해\\t\\n다양한\\t소프트웨어\\t지원\\n   2024.06  제6호DIGISIGHT\\n04'),\n",
              " Document(metadata={'source': '온디바이스 AI 기술동향 및 발전방향.pdf', 'page': 4}, page_content='요 약\\n   2024.06  제6호DIGISIGHT\\n05   (기술동향) 온디바이스 AI 하드웨어부터 가속 추론 소프트웨어, 생성형AI 최적화까지 \\n폭넓은 분야에 걸쳐 기술 개발 진행\\n   (발전방향) 기술 선도 및 시장 선점을 위한 킬러 서비스 경쟁 심화 전망 및 국내 중소 \\n기업 관련 지원 확대 정책 필요\\n◎ \\x07 온디바이스\\x07 AI가\\x07향후\\x07AI\\x07시장의\\x07게임\\x07체인저\\x07역할을\\x07할\\x07것으로\\x07예상되며,\\x07 기술\\x07확보를\\x07위한\\x07M&A,\\x07인력\\x07확보,\\x07\\n킬러서비스\\x07확보\\x07등\\x07경쟁\\x07심화\\x07전망\\n\\t -\\t\\t온디바이스\\t AI\\t기술을\\t활용해\\t사용자에게\\t 혁신적인\\t경험을\\t제공하기\\t위한\\t킬러\\t서비스에\\t대한\\t경쟁\\t심화\\t\\n예상되며\\t궁극적으로\\t개인화된\\t맞춤형\\tAI\\t서비스로의\\t발전\\t기대\\n◎ \\x07 기술\\x07선도\\x07및\\x07시장\\x07선점을\\x07위해\\x07생태계\\x07확장이\\x07필요하며\\x07이를\\x07위해\\x07중소기업의\\x07 온디바이스\\x07 생성형\\x07AI\\x07시장\\x07진입\\x07\\n장벽\\x07해소를\\x07위한\\x07정책\\x07필요\\n\\t -\\t\\t온디바이스\\t AI\\t제품\\t및\\t서비스\\t개발을\\t위한\\t연구,\\t핵심\\t인력\\t양성·재직자\\t 역량\\t강화\\t교육,\\t서비스\\t사례\\t확보를\\t\\n위한\\t실증\\t지원\\t필요하드웨어•\\x07\\x07 엔비디아는\\x07 GPU의\\x07효율성을\\x07지속적으로\\x07 향상시키고\\x07 있으며,\\x07구글,\\x07테슬라,\\x07애플\\x07등\\x07디바\\n이스\\x07제조사에서는\\x07NPU를\\x07개발하여\\x07자사\\x07서비스에\\x07적용\\n•  퀄컴,\\x07AMD\\x07등\\x07글로벌\\x07칩\\x07제조사에서는\\x07 고효율의\\x07범용\\x07NPU를\\x07지속적으로\\x07 개발하고\\x07있으며,\\x07\\n최근에는\\x07생성형\\x07AI\\x07지원\\x07NPU를\\x07경쟁적으로\\x07출시\\n•  국내\\x07대기업에서는\\x07 NPU를\\x07상용화하여\\x07 자사\\x07제품에\\x07사용\\x07중이며,\\x07NPU\\x07관련\\x07스타트업\\n에서는\\x07검증\\x07단계를\\x07넘어\\x07양산\\x07단계로\\x07진입\\n소프트웨어•  범용적인\\x07환경에서\\x07동작이\\x07필요한\\x07온디바이스\\x07 AI\\x07연산\\x07처리\\x07소프트웨어\\x07 개발은\\x07기술적\\x07\\n난이도가\\x07높고\\x07인프라적\\x07성격이\\x07강해\\x07글로벌\\x07대기업이\\x07생태계\\x07구축의\\x07일환으로\\x07기술\\x07선도\\x07\\n•\\x07\\x07 국내에서는\\x07대기업\\x07중심으로\\x07자사\\x07제품에\\x07활용\\x07가능한\\x07최적\\x07AI\\x07추론\\x07기술\\x07개발\\n생성형AI• \\x07 미국\\x07OpenAI가\\x07 전\\x07세계\\x07생성형\\x07AI\\x07기술을\\x07주도하고\\x07있는\\x07한편\\x07메타,\\x07애플,\\x07테슬라\\x07등\\x07여러 \\n기업들이\\x07온디바이스에서\\x07생성형\\x07AI\\x07지원을\\x07위해\\x07기술\\x07개발\\x07추진\\n•  국내에서는\\x07 대기업에서\\x07 한국어\\x07특화\\x07생성형\\x07AI\\x07개발\\x07및\\x07경량화를\\x07진행\\x07중이며,\\x07자사\\x07제품이  \\n적용을\\x07목표로\\x07기술개발\\x07진행'),\n",
              " Document(metadata={'source': '온디바이스 AI 기술동향 및 발전방향.pdf', 'page': 5}, page_content='06\\n   2024.06  제6호\\nDIGISIGHT온디바이스 AI 기술동향 및 발전방향\\nDIGISIGHT ESG TREND MEMBER NEWS KEA NOW STATSⅠ. 개 요\\n1개념정의\\n◎ \\x07 높은\\x07컴퓨팅\\x07파워가\\x07필요한\\x07AI\\x07연산을\\x07다양한\\x07하드웨어\\x07및\\x07소프트웨어\\x07 기술을\\x07활용하여\\x07최적화\\x07된\\x07스마트폰,\\x07 로봇,\\x07드론\\x07\\n등\\x07디바이스\\x07내에서\\x07AI\\x07연산\\x07수행\\n\\t -\\t\\t저전력으로\\t AI\\t연산\\t수행을\\t위해\\t최적화된\\t지능형\\t반도체\\tNPU(Neural\\t Unit)*와\\tAI\\t모델\\t경량화를\\t위한\\t양자화,\\tAI\\t\\n모델\\t추론\\t가속을\\t위한\\tTensorFlow\\tLite\\t등\\t다양한\\t기술\\t활용\\n*\\t\\t기존\\tAI\\t네트워크\\t연산에\\t사용되던\\tGPU와\\t유사한\\t구조나\\tAI\\t기술에\\t특화해\\t연산\\t혹은\\t에너지\\t효율을\\t높여\\t개발한\\t칩\\n\\t -\\t\\t일반적으로\\t온디바이스\\tAI는\\t추론에\\t집중되어\\t있으며\\t연산량이\\t훨씬\\t높은\\t모델\\t학습은\\t서버에서\\t진행온디바이스 AI(On-Device AI) 란 데이터를 외부 서버나 클라우드에 전송하지 않고 디바이스 자체적으로 AI\\n연산을 수행하는 기술을 의미\\n온디바이스 AI 기술 정의 \\n서버\\n사용자 사용자 디바이스 디바이스데이터 AI\\x07연산\\n결과\\n데이터\\x07입력 데이터\\x07입력\\nAI\\x07연산\\x07결과 AI\\x07연산\\x07결과대용량 AI 모델\\nNPU 등 지능형 반도체 탑재\\n추론 가속 엔진 탑재경량화된 AI 모델 탑재고성능 컴퓨팅 환경\\n클라우드 인프라AS-IS   중앙집중형 AI TO-BE   온디바이스 AI'),\n",
              " Document(metadata={'source': '온디바이스 AI 기술동향 및 발전방향.pdf', 'page': 6}, page_content='07\\n   2024.06  제6호\\nDIGISIGHT온디바이스 AI 기술동향 및 발전방향\\nDIGISIGHT ESG TREND MEMBER NEWS KEA NOW STATS2등장배경\\n◎  딥러닝\\x07기반\\x07AI\\x07연산은\\x07태생적으로\\x07높은\\x07연산량이\\x07필요\\n\\t -\\t\\t딥러닝\\t모델은\\t매우\\t많은\\t양의\\t학습\\t데이터를\\t학습하여\\t높은\\t정확도의\\t예측을\\t수행하기\\t위해\\t수많은\\t노드와\\t깊은\\t\\n레이어로\\t구성된\\t거대한\\t네트워크\\t구조\\n\\t -\\t\\t학습\\t뿐\\t아니라\\t추론\\t과정에도\\t높은\\t연산량이\\t요구됨에\\t따라\\t고성능\\t서버\\t중심의\\t중앙집중형\\t AI\\t서비스\\t구조가\\t보편화\\n◎  디바이스\\x07및\\x07AI\\x07기술\\x07수준의\\x07발달로\\x07인해\\x07기존\\x07서버\\x07중심의\\x07중앙집중형\\x07구조에서\\x07다양한\\x07제약사항\\x07발생\\n\\t -\\t\\t디바이스의\\t 역할이\\t단순한\\t센싱,\\t통신\\t등에\\t국한된\\t환경에서는\\t 디바이스가\\t 생산하는\\t데이터의\\t크기가\\t제한적이어서 \\t\\n일반적으로\\t서버로\\t모든\\t데이터를\\t송신한\\t다음,\\t서버에서\\tAI\\t연산을\\t수행하는\\t구조\\t가능\\n\\t -\\t\\t디바이스\\t및\\tAI\\t기술\\t발달로\\t인해\\t대용량\\t데이터\\t처리,\\t개인정보\\t유출\\t방지,\\t실시간\\t서비스\\t등의\\t요구사항이\\t 발생하면서 \\t\\n기존\\t서버\\t기반\\t중앙집중형\\t구조에서\\t여러\\t제약사항\\t발생\\n   •  (고해상도 데이터 처리 제한) 고성능\\t디바이스\\t수가\\t증가함에\\t따라\\t대용량\\t데이터\\t처리\\t시\\t네트워크와\\t 클라우드\\t등에\\t\\n부하가\\t증가하여\\t서비스\\t품질\\t저하\\t및\\t통신 ·서버\\t등\\t서비스\\t초기\\t구축\\t및\\t유지관리\\t비용\\t증가\\n   •  (개인정보 유출 우려) 영상,\\t음성,\\t텍스트\\t등\\t민감\\t정보가\\t서버로\\t전송되므로\\t개인정보\\t남 ·오용\\t우려\\n   •  (실시간성 저하) 데이터\\t전송\\t및\\t처리\\t결과\\t수신으로\\t인한\\t지연이\\t발생해\\t실시간\\t서비스가\\t힘들며\\t네트워크\\t연결\\t환경\\t강제\\n◎  이를\\x07해결하기\\x07위한\\x07대안으로\\x07온디바이스\\x07AI\\x07기술의\\x07등장\\n\\t -\\t\\t이전부터\\t“엣지\\tAI”라는\\t용어로\\t디바이스\\t뿐만\\t아니라\\t분산\\t컴퓨팅\\t환경의\\t엣지\\t서버\\t엣지\\t게이트웨이\\t 등\\t컴퓨팅\\t\\n리소스가\\t제한된\\t환경에서\\tAI\\t연산\\t수행에\\t대한\\t연구\\t진행온디바이스 AI 기술의 필요성\\n디바이스 및 AI 기술 발달로 인한 환경 변화\\n고해상도 대용량 데이터 처리 필요\\n•\\t\\t4K\\t카메라,\\tLiDAR\\t등\\t고해상도\\t센서를\\t탑재한 \\t\\n고성능\\t디바\\t이스\\t보급\\n•\\t\\t고성능\\t디바이스가\\t대규모로\\t운용되어\\t통신망\\t및 \\t\\n클라우드\\t과부화\\t문제가\\t발생하는\\t인프라\\t환경\\t등장\\n(스마트시티\\t등)\\n개인정보 유출 우려\\n•\\t\\tCCTV,\\t전자도어락\\t등\\t민감정보가\\t많이\\t존재하는 \\t\\n스마트홈\\t등\\t개인\\t프라이버시\\t환경\\n•\\t\\t개인정보\\t유출\\t방지를\\t위해\\t클라우드\\t개입을 \\t\\n최소화하는\\t디바이스\\t내\\t자체\\t서비스\\t수행\\t필요\\n실시간 서비스 요구\\n•\\t\\tAI\\t서비스가\\t보편화됨에\\t따라\\t사용자에게\\t보다 \\t\\n즉각적인\\t서비스\\t결과\\t제공\\t필요\\n•\\t\\t스마트폰,\\t드론,\\t로봇,\\t자율차\\t등의\\t디바이스 \\t\\n환경에서\\t실시간\\t영상처리,\\t음성인식,\\t자연어처리 \\t\\n등의\\t서비스\\t요구사항\\t증대\\n“디바이스 내 자체적인 AI 연산 수행 필요 ”'),\n",
              " Document(metadata={'source': '온디바이스 AI 기술동향 및 발전방향.pdf', 'page': 7}, page_content='08\\n   2024.06  제6호\\nDIGISIGHT온디바이스 AI 기술동향 및 발전방향\\nDIGISIGHT ESG TREND MEMBER NEWS KEA NOW STATS\\t -\\t\\tAI\\t연산에\\t최적화된\\tNPU의\\t등장으로\\t스마트폰,\\t 로봇,\\t드론\\t등\\t배터리\\t기반의\\t이동형\\t기기에서도\\t 자체적인\\tAI\\t연산\\t\\n수행을\\t통한\\t서비스\\t제공이\\t실현되면서\\t디바이스\\t환경에서의\\tAI\\t연산에\\t보다\\t집중한\\t온디바이스\\tAI\\t기술\\t등장\\n\\t -\\t\\t’23년\\t스마트폰에서\\t생성형\\tAI\\t서비스가\\t지원되며\\t온디바이스\\tAI\\t기술의\\t시장\\t확대\\t가속화\\n3주요특징\\n  디바이스 내 자체 AI 연산 가능\\n◎  네트워크\\x07환경에\\x07독립적인\\x07고신뢰성\\x07실시간\\x07서비스\\x07제공\\n\\t -\\t\\t외부와의\\t통신\\t없이\\tAI\\t연산\\t수행을\\t통해\\t통신\\t요청\\t및\\t응답으로\\t인한\\t지연\\t없이\\t실시간\\t서비스\\t제공\\n\\t -\\t\\t네트워크\\t환경에\\t따라\\t서비스의\\t품질이\\t좌우되지\\t않는\\t안정적인\\t서비스\\t제공\\n◎  개인정보\\x07유출\\x07위험\\x07최소화를\\x07통한\\x07사용자\\x07만족도\\x07및\\x07서비스\\x07비용\\x07절감\\n\\t -\\t\\t사용자의\\t영상,\\t음성\\t등\\t민감한\\t개인정보가\\t 서버로의\\t전송\\t없이\\t디바이스에서만\\t 처리하여\\t개인정보\\t유출\\t위험이\\t\\n낮아지며\\t이에\\t따라\\t사용자의\\t불안감\\t최소화\\n\\t -\\t\\t디바이스와\\t 서버\\t간\\t개인정보\\t통신이\\t없어\\t데이터\\t전송에\\t대한\\t암호화,\\t보안\\t등이\\t불필요하여\\t AI\\t서비스\\t구축\\t및\\t\\n유지관리를\\t위한\\t비용\\t절감\\n◎  서버\\x07의존성\\x07탈피로\\x07인한\\x07경제적인\\x07AI\\x07서비스\\x07제공\\n\\t -\\t\\t수많은\\t사용자의\\tAI\\t연산\\t수행을\\t서버에서\\t감당하기\\t위해\\t높은\\t비용의\\t클라우드\\t컴퓨팅\\t시스템을\\t운영하는\\t대신\\t\\n디바이스에서\\tAI\\t연산을\\t각자\\t수행하여\\t비용\\t절감\\t가능\\n  고수준의 하드웨어 및 소프트웨어 기술\\n◎  NPU\\x07기반\\x07하드웨어\\x07구성\\x07및\\x07활용을\\x07위한\\x07다양한\\x07애로사항\\x07존재\\n\\t -\\t\\t디바이스\\tAI를\\t위한\\t하드웨어\\t개발을\\t위해\\t저전력·저비용의\\t NPU\\t기반\\t디바이스\\t구성이\\t필요하나,\\t NPU\\t시장의\\t\\n성숙도가\\t높지\\t않아\\t중소기업이\\tNPU\\t기반\\t디바이스를\\t상용화\\t수준으로\\t개발하는데\\t많은\\t난관\\t존재\\n\\t -\\t\\t일반적으로\\t AI\\t서비스를\\t위해\\t사용하는\\t딥러닝\\t모델은\\tGPU\\t기반으로\\t개발되어\\t있어\\t이를\\tNPU에서\\t 활용하기\\t\\n위해서는\\t모델과\\tNPU의\\t특성에\\t대한\\t이해를\\t기반으로\\t하는\\t고난이도\\t이식\\t작업\\t필요\\n◎  AI\\x07모델\\x07경량화를\\x07통해\\x07정확도와\\x07효율성\\x07간\\x07최적화\\x07필요\\n\\t -\\t\\t높은\\t정확도의\\t딥러닝\\t모델을\\t디바이스\\t자원만으로\\t 동작하기\\t위해서는\\t모델의\\t입력\\t데이터\\t크기를\\t줄이거나\\t모델\\t\\n자체의\\t크기를\\t줄이는\\t등\\t경량화가\\t필요하나,\\t이는\\t정확도의\\t저하를\\t동반\\n\\t -\\t\\t최소한의\\t정확도\\t손실로\\tAI\\t모델을\\t최대한\\t경량화하기\\t위해\\t고수준의\\t최적화\\t필요'),\n",
              " Document(metadata={'source': '온디바이스 AI 기술동향 및 발전방향.pdf', 'page': 8}, page_content='09\\n   2024.06  제6호\\nDIGISIGHT온디바이스 AI 기술동향 및 발전방향\\nDIGISIGHT ESG TREND MEMBER NEWS KEA NOW STATSⅡ. 시장 및 기업 동향\\n1글로벌 시장\\n◎  생성형\\x07AI\\x07및\\x07온디바이스\\x07 AI\\x07시장은\\x07전\\x07세계적으로\\x07 빅테크\\x07기업\\x07투자\\x07열풍으로\\x07급성장이\\x07예상,\\x07각국\\x07정부들도\\x07투자계획\\x07\\n수립을\\x07서두르고\\x07있어\\x07향후\\x07시장\\x07확대가\\x07가속화될\\x07것으로\\x07예상\\n\\t -\\t\\t디바이스\\tAI\\t시장은\\t스마트폰,\\t자동차,\\t드론\\t등\\t다양한\\t기기에\\t탑재되어\\t신산업을\\t이끄는\\t차세대\\tAI\\t시장으로\\t주목되어\\t\\n’24년\\t271억\\t달러\\t규모에서\\t’30년\\t1,738억\\t달러로\\t연평균\\t37.7%\\t성장\\t전망\\n -  온디바이스\\t AI\\t시장을\\t열고\\t있는\\t생성형\\tAI\\t스마트폰\\t시장\\t규모는\\t’27년\\t5억\\t2,200만대로\\t 추산되며,\\t ’24년부터\\t ’27년\\t\\n까지\\t연평균\\t성장률은\\t83%에\\t이르는\\t고성장\\t전망온디바이스 AI 시장 규모(달러)\\n*\\t출처\\t:\\t마켓츠앤마켓츠(’23)184억\\n7,900만271억\\n3,800만383억\\n4,200만526억\\n9,100만718억\\n5,600만972억\\n2,700만1,360억\\n1,000만1,738억\\n7,900만\\n연 평균\\n37.7%  성장\\n2023년 2024년 2025년 2026년 2027년 2028년 2029년 2030년\\n생성형 AI 스마트폰 시장 규모(백만대, %)\\n*\\t출처\\t:\\t카운터포인트리서치(’23)FORECAST2023년 2024년 2025년CAGR Volume Growth\\nFrom 2023 to 2027\\n47 Mn522 Mn\\n2026년 2027년83%Share of GenAI Smartphones,\\nGlobal Smartphone Market\\n2027년\\n2024년\\n2023년40%\\n8%\\n4%\\n'),\n",
              " Document(metadata={'source': '온디바이스 AI 기술동향 및 발전방향.pdf', 'page': 9}, page_content='10\\n   2024.06  제6호\\nDIGISIGHT온디바이스 AI 기술동향 및 발전방향\\nDIGISIGHT ESG TREND MEMBER NEWS KEA NOW STATS\\t -\\t\\t글로벌\\t생성형\\tAI\\t시장\\t규모는\\t’22~’32년에\\t 연평균\\t42%\\t고성장,\\t’32년의\\t시장\\t규모는\\t1조\\t3,040억\\t달러로\\t’22년\\t\\n대비\\t30배\\t이상\\t성장\\t전망\\n2국가별 정책\\n◎  미국을\\x07포함한\\x07주요\\x07국가에서\\x07디바이스\\x07중심의\\x07AI\\x07관련\\x07기술\\x07개발\\x07지원\\x07정책을\\x07지속적으로\\x07발표생성형 AI 시장 규모(억 달러)\\n*\\t출처\\t:\\t블룸버그인텔리전스(’23)2020년 2021년 2022년 2023년 2024년 2025년 2026년 2027년 2028년 2029년 2030년 2031년 2032년140 230 400 6701,3702,1703,0403,9905,4807,2808,97010,79013,040\\nCAGR 42%\\n국\\x07가 정책\\x07동향\\n•  미국\\x07과학기술정책국(OSTP)의\\x07「국가\\x07AI\\x07R&D\\x07전략\\x07계획」에\\x07대한\\x07’23년\\x07업데이트\\x07발표에서\\x07장기적으로\\x07투자할\\x07차세대\\x07AI\\x07분야에 \\x07\\n온디바이스\\x07시스템과\\x07같은\\x07제한된\\x07하드웨어\\x07및\\x07에너지\\x07리소스를\\x07고려하는\\x07연구분야\\x07포함(’23)\\n *\\t\\t하드웨어\\t성능\\t개선\\t및\\t리소스\\t사용\\t최적화를\\t위한\\tAI\\t시스템\\t개발과\\t에너지\\t소비를\\t비롯한\\t지속\\t가능성을\\t고려하는\\t리소스\\t중심 \\t\\nAI\\t알고리즘\\t및\\t시스템\\t고려\\n•  독일은\\x07「연방정부의\\x07인공지능\\x07전략\\x072020\\x07업데이트」에서\\x07연구지원\\x07분야로\\x07온디바이스\\x07AI\\x07기술의\\x07활용도가\\x07높은\\x07헬스케어, \\x07\\n모빌리티,\\x07에너지,\\x07농업\\x07\\x07분야에\\x07대한\\x07다양한\\x07지원\\x07정책\\x07발표(’20)\\n•  영국은\\x07「인공지능\\x0710개년\\x07국가전략\\x07계획」을\\x07통해\\x07영국AI\\x07시장\\x07트렌드를\\x07선도하는\\x07헬스케어\\x07분야\\x07온디바이스\\x07AI\\x07기술\\x07개발\\x07지원과 \\x07\\n글로벌화\\x07계획\\x07발표(’21)\\n•  경제산업성은\\x07「반도체 ·디지털\\x07산업\\x07전략」에서\\x07개인별\\x07최적화된\\x07IT\\x07디바이스\\x07시스템\\x07기반\\x07디지털\\x07기술\\x07혁신을\\x07통해\\x07경제성장을 \\x07\\n실현하기\\x07위한\\x07전략\\x07발표(’23.5)\\n•  「AI\\x07전략\\x072021」을\\x07발표하여\\x07다양한\\x07온디바이스\\x07시스템이\\x07적용될\\x07건강\\x07및\\x07의료,\\x07농업,\\x07스마트시티,\\x07제조업\\x07등\\x07다양한\\x07분야에서 \\x07\\n인공지능을\\x07도입하고\\x07상용화\\x07가속\\x07대응\\x07방안\\x07개선\\x07추진\\x07시작(’21.6)\\n•  국산\\x07AI\\x07반도체를\\x07기반으로\\x07초기시장\\x07단계인\\x07온디바이스AI\\x07시장\\x07선점을\\x07위한\\x07「(가칭)온디바이스AI\\x07활성화\\x07전략(안)」\\x07계획\\x07발표\\n\\x07\\x07(과기정통부,\\x07 ’24.2)\\n•  중소벤처기업부에서\\x07LG전자\\x07등과\\x07손잡고\\x07온디바이스\\x07AI\\x07스타트업\\x07육성을\\x07위해\\x07「온디바이스(On-Device)\\x07AI\\x07초격차\\x07챌린지」 \\x07\\n출범식\\x07개최( ’24.3)\\n•  NPU\\x07고도화,\\x07PIM ·뉴로모픽\\x07혁신,\\x07신소자\\x07및\\x07첨단패키징\\x07등에\\x07기반한\\x07저전력\\x07AI반도체로\\x07클라우드\\x07AI데이터센터\\x07고도화, \\x07\\n온디바이스\\x07AI\\x07신격차\\x07확보\\x07전략을\\x07포함하는\\x07「AI·디지털\\x07혁신성장\\x07전략」\\x07발표(과기정통부,\\x07 ’24.4)\\n미국\\n유럽연합\\n한국\\n일본'),\n",
              " Document(metadata={'source': '온디바이스 AI 기술동향 및 발전방향.pdf', 'page': 10}, page_content='11\\n   2024.06  제6호\\nDIGISIGHT온디바이스 AI 기술동향 및 발전방향\\nDIGISIGHT ESG TREND MEMBER NEWS KEA NOW STATS3국가별 정책\\n◎  자사\\x07AI\\x07칩\\x07기반의\\x07생태계\\x07구축을\\x07위해\\x07데이터·AI\\x07모델·추론기술·SDK*를\\x07아우르는\\x07전방위적 \\x07기술\\x07지원\\n     *\\t\\t소프트웨어를\\t개발하는\\t도구로\\t소프트웨어\\t개발자가\\t특정\\t운영체제용\\t응용프로그램을\\t만들\\t수\\t있는\\t소스와\\t도구\\t패키지\\n◎  (애플) 자사의\\x07하드웨어\\x07환경에서\\x07애플의\\x07뉴럴\\x07엔진을\\x07활용하여\\x07온디바이스\\x07 AI를\\x07수행할\\x07수\\x07있도록\\x07Core\\x07ML\\x07라이브러리\\x07 제공\\n\\t -\\t\\t이\\t라이브러리는\\t 이미지,\\t비디오,\\t사운드\\t등\\t미디어\\t분석을\\t위해\\t설계된\\t첨단\\t신경망과\\t같은\\tAI모델을\\t지원하며,\\t\\nTensorFlow나\\tPyTorch와\\t같은\\t라이브러리의\\t모델을\\tCore\\tML로\\t변환하는\\t기능도\\t제공\\n◎  (퀄컴) 자사\\x07스냅드래곤\\x07 AP에서\\x07효율적인\\x07AI\\x07연산\\x07수행을\\x07위한\\x07라이브러리와\\x07 하드웨어·소프트웨어\\x07 환경에\\x07맞게\\x07사전\\x07\\n학습된\\x07AI\\x07모델을\\x07제공하는\\x07AI\\x07Hub\\x07제공\\n\\t -\\t\\tAI\\tHub는\\t개발자가\\tAI\\t연산을\\t수행할\\t환경을\\t선택하면\\t이에\\t따라\\t기\\t학습된\\t75여\\t가지의\\t인기\\t있는\\tAI\\t및\\t생성형\\tAI\\t\\n모델을\\t제공하여\\t손쉬운\\tAI\\t서비스\\t구축\\t지원\\n◎  (AMD) 자사\\x07칩셋에\\x07최적화된\\x07AI\\x07연산\\x07추론\\x07라이브러리\\x07 ZenDNN과\\x07 AI\\x07모델의\\x07생성부터\\x07최적화,\\x07추론\\x07가속까지\\x07전과정을\\x07\\n지원하는\\x07Vitis\\x07AI\\x07플랫폼\\x07제공\\n\\t -\\t\\tVitis\\tAI\\t플랫폼은\\tAI\\t모델\\t경량화\\t뿐만\\t아니라\\t프로파일러를\\t 통해\\t모델의\\t특성을\\t분석하고\\t최적화를\\t할\\t수\\t있는\\t도구를\\t\\n제공하며,\\t기\\t학습된\\tAI\\t모델\\t또한\\t지원\\n◎  (인텔) 자사\\x07칩셋에서\\x07AI\\x07연산을\\x07최대한\\x07효율적으로\\x07 수행하기\\x07위해\\x07OpenVINO\\x07 프로젝트를\\x07 출시했으며,\\x07 개발자를\\x07위한\\x07\\nEdge\\x07AI\\x07Reference\\x07Kits를\\x07오픈소스로\\x07제공\\n -  기\\t학습된\\t모델부터\\t직접\\t모델을\\t개발할\\t수\\t있도록\\t최적화\\t도구\\t일체를\\t제공하며,\\t자사\\t칩셋\\t환경에서의\\t 추론\\t가속\\t엔진\\t지원\\n◎  (엔비디아) AI\\x07모델\\x07경량화를\\x07위한\\x07Tensor\\x07RT\\x07외\\x07AI\\x07연산을\\x07위해\\x07필요한\\x07도구\\x07일체\\x07지원을\\x07통해\\x07성공적으로\\x07 생태계\\x07구축\\n\\t -\\t\\t’18년부터\\t 엔비디아는\\t 생태계\\t확장\\t및\\t기술개발\\t참여\\t유도를\\t위해\\tAI\\t추론\\t가속기\\tHW\\t및\\tSW\\t아키텍처를\\t NVDLA\\t\\n(NVIDIA\\tDeep\\tLearning\\tAccelerator)라는\\t오픈소스로\\t공유\\n◎  이\\x07외\\x07헤일로,\\x07딥엑스,\\x07모빌린트,\\x07 크네론\\x07등\\x07NPU\\x07제조\\x07스타트업도\\x07 단순히\\x07하드웨어\\x07드라이버\\x07수준의\\x07라이브러리를\\x07 넘어\\x07\\nAI\\x07모델\\x07경량화\\x07및\\x07최적화\\x07도구\\x07등\\x07생태계\\x07구축을\\x07위해\\x07다양한\\x07소프트웨어\\x07지원국\\x07가 정책\\x07동향\\n•  「중공중앙\\x07국민경제사회발전\\x07제14차\\x075개년\\x07규획(2021~2025)」과\\x07’35년\\x07장기목표에\\x07대한\\x07초안에서\\x07차세대\\x07IT\\x07산업의\\x07세부산업 \\x07\\n육성\\x07전략에\\x07AI\\x07분야에서\\x07스마트\\x07의료장비,\\x07스마트\\x07인식\\x07시스템\\x07등\\x07온디바이스\\x07AI\\x07기술이\\x07필요한\\x07산업\\x07분야를\\x07선정\\x07( ’21.3)\\n•  국가과학기술위원회(NSTC)는\\x07자국에\\x07특화된\\x07AI\\x07언어모델\\x07TAIDE\\x07개발\\x07프로젝트에\\x07온디바이스\\x07환경에서\\x07동작\\x07가능한\\x07작은\\x07모델 \\x07\\n개발\\x07계획이\\x07포함됨을\\x07발표\\x07( ’24.1)\\n중국\\n대만'),\n",
              " Document(metadata={'source': '온디바이스 AI 기술동향 및 발전방향.pdf', 'page': 11}, page_content='12\\n   2024.06  제6호\\nDIGISIGHT온디바이스 AI 기술동향 및 발전방향\\nDIGISIGHT ESG TREND MEMBER NEWS KEA NOW STATSⅢ. 핵심 기술 동향\\n1기술 개요\\n◎  하드웨어부터\\x07AI\\x07모델까지\\x07폭넓은\\x07분야에\\x07걸쳐\\x07기술\\x07개발\\x07진행\\n◎  (온디바이스 AI 하드웨어) AI\\x07연산에\\x07최적화된\\x07지능형\\x07반도체인\\x07NPU와\\x07사람의\\x07뇌\\x07구조를\\x07모사한\\x07뉴로모픽\\x07칩이\\x07대표\\x07기술\\n -  NPU는\\tGPU와\\t유사한\\t병렬연산에\\t 최적화\\t된\\t반도체이나,\\t 그래픽\\t등\\t일반적인\\t연산\\t타겟의\\tGPU와\\t달리\\tAI\\t연산만을\\t\\n위해\\t설계되어\\t효율성은\\t높으나\\tGPU\\t대비\\t유연성은\\t부족\\n -  뉴로모픽\\t칩은\\t행렬\\t연산\\t기반의\\t딥러닝\\t모델과는\\t달리\\t인간의\\t뇌와\\t유사한\\t스파이킹\\t뉴런\\t모델과\\t시냅스\\t모델로\\t\\n동작하며,\\tGPU\\t및\\tNPU보다\\t전력\\t소모량이\\t매우\\t적을\\t것으로\\t기대되나\\t아직\\t상용화\\t수준에는\\t미도달\\n◎  (온디바이스 AI 소프트웨어) 제한된\\x07리소스\\x07내\\x07AI\\x07모델을\\x07최대한\\x07효율적으로\\x07 동작시키기\\x07 위해\\x07하드웨어·운영체제\\x07 등\\x07\\n시스템\\x07레벨의\\x07AI\\x07연산\\x07엔진\\n -  대표적으로\\t구글의\\tTensorFlow\\tLite가\\t있으며,\\t기술\\t난이도가\\t높아\\t글로벌\\t대기업\\t위주로\\t기술\\t개발\\n◎  (온디바이스 AI 모델) AI\\x07모델의\\x07필요\\x07없는\\x07파라미터를\\x07 제거하는\\x07프루닝,\\x07데이터\\x07해상도를\\x07낮추는\\x07양자화\\x07등\\x07다양한\\x07\\n기술을\\x07통해\\x07온디바이스\\x07환경에서\\x07동작\\x07가능한\\x07수준의\\x07경량화된\\x07딥러닝\\x07모델\\n온디바이스 AI 기술 분야\\nLightweight AI Model AI Inference SW\\nNeuromorphic Chip\\nNPUPruning Arm NN Framework NVIDIA Tensor RT\\nNepes NM500\\nGoogle Edge TPU Samsung Exynos APQualcomm ZerothGoogle TensorFlowLite Binarization\\nOn-Device AI Model\\nOn-Device AI SW\\nOn-Device AI HW'),\n",
              " Document(metadata={'source': '온디바이스 AI 기술동향 및 발전방향.pdf', 'page': 12}, page_content='13\\n   2024.06  제6호\\nDIGISIGHT온디바이스 AI 기술동향 및 발전방향\\nDIGISIGHT ESG TREND MEMBER NEWS KEA NOW STATS2하드웨어 기술\\n  해 외\\n◎  엔비디아는\\x07 GPU의\\x07효율성을\\x07지속적으로\\x07 향상시키고\\x07 있으며,\\x07구글,\\x07테슬라,\\x07애플\\x07등\\x07디바이스\\x07제조사에서는\\x07 NPU를\\x07\\n개발하여\\x07자사\\x07서비스에\\x07적용\\n◎  퀄컴,\\x07AMD\\x07등\\x07칩\\x07제조사에서는\\x07 고효율의\\x07범용\\x07NPU를\\x07지속적으로\\x07 개발하고\\x07있으며,\\x07최근에는\\x07생성형\\x07AI\\x07지원\\x07NPU를\\x07\\n경쟁적으로\\x07출시\\n기업명 기술\\x07동향\\n•  임베디드\\x07환경에서의\\x07온디바이스\\x07AI를\\x07위한\\x07Jetson\\x07Orin\\x07시리즈는\\x07다성능의\\x07디바이스를\\x07지원 \\x07\\n하기\\x07위해\\x0720\\x07TOPS\\x07성능의\\x07Nano부터\\x07200\\x07TOPS\\x07성능의\\x07AGX까지\\x073단계\\x07성능의\\x07솔루션\\x07출시\\n•  얼굴인식,\\x07음성인식으로\\x07대표되는\\x07자사의\\x07AI\\x07서비스\\x07품질\\x07향상을\\x07위해\\x07뉴럴엔진이라는\\x07NPU를  \\n독자적으로\\x07 개발하여\\x07AP(Application\\x07 Processor)와\\x07 통합된\\x07형태로\\x07제품을\\x07출시해\\x07왔으며,\\x07 ’23년\\x07\\nA17\\x07Pro에\\x07탑재된\\x077세대\\x07뉴럴엔진에서는\\x07전작\\x07대비\\x07약\\x072배\\x07성능을\\x07향상시켜\\x0735\\x07TOPS\\x07달성\\n•  서버\\x07환경에서의\\x07AI\\x07가속을\\x07위한\\x07체온\\x07프로세스\\x07등\\x07고성능\\x07CPU\\x07기술\\x07개발\\x07경험을\\x07토대로 \\x07\\n신경망\\x07프로세서\\x07및\\x07비전\\x07처리\\x07장치를\\x07개발함으로써\\x07점차적으로\\x07온디바이스AI\\x07수행을\\x07위한 \\x07\\n하드웨어\\x07기술로\\x07확장\\n•  디바이스\\x07환경에서\\x07영상처리\\x07관련\\x07AI\\x07수행에\\x07최적화된\\x07MovidiusMyraidX\\x07VPU(Vision \\x07\\nProcessing\\x07Unit)를\\x07USB\\x07기반\\x07모듈\\x07형태로\\x07만든\\x07뉴럴컴퓨트스틱2\\x07출시,\\x07‘23년에는\\x073세대 \\x07\\n3700VC\\x07VPU를\\x07출시했으며,\\x07VPU가\\x07내장된\\x0714세대\\x07CPU\\x07메테오레이크\\x07공개\\n•  저전력\\x07프로세서\\x07기반\\x07AI\\x07연산을\\x07위한\\x07Edge\\x07TPU\\x07(Tensor\\x07Processing\\x07Unit)를\\x07출시했으며, \\x07\\nUSB\\x07및\\x07PCIe/M.2\\x07형태의\\x07HW를\\x07제공하여\\x07라즈베리파이,\\x07아두이노와같은\\x07IoT\\x07기기에서의 \\x07\\nAI\\x07추론을\\x07간편한\\x07형태로\\x07지원\\n•  ’18년\\x07스냅드래곤855부터\\x07전용\\x07텐서가속기가\\x07hexagon\\x07DSP에\\x07탑재,\\x07최근\\x07hexagon\\x07DSP \\x07\\n대신\\x07hexagon\\x07NPU라고\\x07명칭을\\x07변경하여\\x07AI\\x07가속에\\x07집중\\n•  온디바이스AI를\\x07위한\\x07microNPU제품군\\x07개발,\\x07클라우드부터\\x07엣지에서\\x07사용가능한\\x07고\\x07사양의 \\x07\\nEthos-N\\x07시리즈와\\x07디바이스에서\\x07사용\\x07가능한\\x07저전력의\\x07Ethos-U\\x07시리즈를\\x07공개했으며\\x07’24\\n년\\x07Ethos-U85\\x07출시\\n엔비디아\\n애플\\n인텔\\n구글\\n퀄컴\\nARM'),\n",
              " Document(metadata={'source': '온디바이스 AI 기술동향 및 발전방향.pdf', 'page': 13}, page_content='14\\n   2024.06  제6호\\nDIGISIGHT온디바이스 AI 기술동향 및 발전방향\\nDIGISIGHT ESG TREND MEMBER NEWS KEA NOW STATS  국 내\\n◎  대기업에서는\\x07 NPU를\\x07상용화하여\\x07 자사\\x07제품에\\x07사용\\x07중이며,\\x07NPU\\x07관련\\x07스타트업에서는\\x07 검증\\x07단계를\\x07넘어\\x07양산\\x07단계로\\x07진입기업명 기술\\x07동향\\n•  로봇,\\x07드론\\x07등\\x07임베디드\\x07환경에서의\\x07AI\\x07연산\\x07수행을\\x07위해\\x07NPU와\\x07DSP를\\x07포함하는\\x07Versal\\x07AI \\x07\\nEdge\\x07시리즈\\x07출시,\\x075\\x07TOPS부터\\x07202\\x07TOPS까지\\x077단계의\\x07선택지\\x07제공\\n•  ’20년\\x0726TOPS\\x07성능의\\x07Hailo-8를,\\x07’23년에는\\x07외부\\x07메모리가\\x07필요\\x07없어\\x07구성이\\x07손쉬우며 \\x07\\n저전력으로\\x07동작하는\\x0713TOPS\\x07성능의\\x07Hailo-8L을\\x07발표,\\x07M.2,\\x07mPCIe\\x07등\\x07다양한 \\x07\\n인터페이스의\\x07엣지향\\x07NPU\\x07모듈\\x07판매\\n•  ’24년\\x07생성형\\x07AI를\\x07지원하는\\x07Hailo-10\\x07출시\\n•  자사의\\x07핵심\\x07기능인\\x07자율\\x07주행을\\x07위해\\x07NPU를\\x07탑재한\\x07자체\\x07칩인\\x07FSD\\x07칩(Full\\x07Self-Driving) \\x07\\n개발\\x07중,\\x07  ’22년\\x07향상된\\x07성능의\\x07HW4.0\\x07출시\\n•  모바일\\x07AP\\x07타겟의\\x07NPU인\\x07APU\\x07(AI\\x07Processing\\x07Unit)을\\x07지속적으로\\x07개발.\\x07’24년\\x07생성형\\x07AI \\x07\\n타겟의\\x07APU790을\\x07탑재한\\x07모바일\\x07AP\\x07디멘시티\\x079300+\\x07공개\\n•  저전력의\\x07Ara-1과\\x07생성형\\x07AI를\\x07지원하는\\x07고성능의\\x07Ara-2\\x07NPU\\x07출시,\\x07USB,\\x07M.2,\\x07PCIE\\x073\\n가지\\x07폼팩터의\\x07모듈\\x07판매\\n•  레노버와\\x07협력해\\x07소형\\x07컨텐츠\\x07제작용\\x07데스크톱\\x07씽크센터에\\x07NPU\\x07탑재\\n•  자사의\\x07다양한\\x07제품에\\x07탑재하여\\x07임베디드\\x07환경\\x07AI\\x07연산\\x07수행을\\x07위한\\x07eIQ\\x07Neutron\\x07NPU\\x07출시, \\x07\\x07\\n용도에\\x07따라\\x07다양한\\x07성능으로\\x07구성\\x07가능\\n•  MCX\\x07N\\x07MCU,\\x07i.MX\\x0795\\x07AP\\x07등이\\x07NPU를\\x07탑재한\\x07대표적인\\x07제품\\nAMD\\n헤일로\\n테슬라\\n미디어텍\\n키나라\\nNXP\\n기업명 기술\\x07동향\\n삼성전자•  NPU\\x07시장선점을\\x07위해\\x07지속적인\\x07투자를\\x07통해\\x07리딩,\\x07’18년\\x0711월\\x07공개한\\x07엑시노스9820에 \\x07\\n처음으로\\x07NPU\\x07탑재를\\x07시작으로\\x07최신\\x0720시리즈\\x07(엑시노스2100~2400)까지\\x07모두\\x07NPU\\x07탑재\\n•  최근에는\\x07차량용\\x07프로세서인\\x07엑시노스오토\\x07V920을\\x07발표하여\\x07현대자동차와\\x07협력해\\x07’25년 \\x07\\n실적용을\\x07목표로\\x07개발\\nLG전자•  가전\\x07등에서\\x07온디바이스AI를\\x07수행하도록\\x07비전\\x07관련\\x07작업\\x07가속기\\x07및\\x07음성\\x07관련\\x07작업\\x07가속기를 \\x07\\n탑재해\\x07가전에서\\x07필요한\\x07영상\\x07및\\x07음성\\x07AI\\x07분석을\\x07지원하는\\x07LG8111\\x07AI\\x07SoC\\x07솔루션\\x07개발,\\x07’23년 \\x07\\n에는\\x07신규\\x07NPU\\x07개발\\x07착수를\\x07공개해\\x07개발\\x07완료\\x07후\\x07스마트\\x07TV의\\x07알파10\\x07칩에\\x07적용\\x07예정\\n'),\n",
              " Document(metadata={'source': '온디바이스 AI 기술동향 및 발전방향.pdf', 'page': 14}, page_content='15\\n   2024.06  제6호\\nDIGISIGHT온디바이스 AI 기술동향 및 발전방향\\nDIGISIGHT ESG TREND MEMBER NEWS KEA NOW STATS3소프트웨어 기술\\n  해 외\\n◎  범용적인\\x07환경에서\\x07동작이\\x07필요한\\x07온디바이스\\x07 AI\\x07연산\\x07처리\\x07소프트웨어\\x07 개발은\\x07기술적\\x07난이도가\\x07높고\\x07인프라적\\x07성격이\\x07\\n강해\\x07글로벌\\x07대기업이\\x07생태계\\x07구축의\\x07일환으로\\x07기술\\x07선도기업명 기술\\x07동향\\n사피온•  SKT에서\\x07분사하여\\x07데이터센터\\x07및\\x07디바이스\\x07대상\\x07NPU를\\x07개발\\x07중,\\x07’20년에\\x07데이터센터용 \\x07\\nNPU\\x07X220,\\x07’23년\\x07X330\\x07출시\\n•  ’24년\\x07디바이스\\x07및\\x07자율주행차\\x07대상\\x07X300\\x07Edge,\\x07X300\\x07Auto\\x07등\\x07출시\\x07예정\\n딥엑스•  엣지향\\x07및\\x07서버향\\x07NPU를\\x07개발하는\\x07팹리스\\x07기업으로\\x07세계\\x07최고\\x07수준의\\x07다양한\\x07신규 \\x07\\n알고리즘들을\\x07높은\\x07전성비/정확도를\\x07기반으로\\x07동작하는\\x07NPU\\x07개발을\\x07목표로\\x07함. \\x07\\n\\x07\\x07\\x07\\x07’23년\\x07DX-L1/L2/M1/H1의\\x0712\\x07TOPS부터\\x071600\\x07TOPS급의\\x074가지\\x07NPU를\\x07발표했으며, \\x07\\n’24년\\x07양산\\x07예정\\n넥스트칩•  차량,\\x07보행자,\\x07차선\\x07등을\\x07인식\\x07및\\x07검출하는\\x07프로세서로,\\x07최첨단\\x07운전자\\x07지원\\x07시스템(ADAS)향 \\x07\\n스마트\\x07센싱\\x07카메라에\\x07적합한\\x07영상기반\\x07이미지\\x07처리\\x07지원\\x07비젼프로세서\\x07개발\\n모빌린트•  가격\\x07측면에서\\x07최소\\x074배\\x07이상\\x07엔비디아\\x07제품보다\\x07뛰어난\\x07성능으로\\x07구현한다는\\x07목표를\\x07세우고 \\x07\\nARIES\\x07NPU를\\x07개발,\\x07온디바이스\\x07AI\\x07중에서도\\x07비교적\\x07큰\\x07기기,\\x07산업용\\x07로봇이나\\x07서빙\\x07로봇, \\x07\\n스마트\\x07팩토리\\x07등의\\x07시장을\\x07타깃으로\\x07MLA100,\\x07MLX-A1\\x072가지\\x07폼팩터의\\x07제품\\x07출시\\n•  ’24년\\x073월\\x07디자인하우스\\x07세미파이브와\\x07협력하여\\x07칩\\x07양산에\\x07돌입했다고\\x07발표\\n기업명 기술\\x07동향\\n•  경량\\x07딥러닝\\x07네트워크\\x07추론\\x07엔진인\\x07TensorFlow\\x07 Lite를\\x07개발해\\x07스마트폰과\\x07 같은\\x07엣지디바이스 \\x07\\n에서\\x07리소스\\x07사용을\\x07최소화하면서\\x07AI\\x07추론\\x07지원\\n•  최근\\x07생성형\\x07AI의\\x07손쉬운\\x07지원을\\x07위해\\x07MediaPipe,\\x07TensorFlow\\x07Lite,\\x07Gemini\\x07나노를 \\x07\\n포함하는\\x07엔드\\x07투\\x07엔드\\x07스택인\\x07Google\\x07AI\\x07Edge\\x07출시\\n•  수\\x07KB\\x07수준의\\x07메모리를\\x07가진\\x07MCU\\x07타겟의\\x07TensorFlow\\x07for\\x07Microcontollers를\\x07실험\\x07기능으로\\x07제공\\n•  엔비디아\\x07TensorRT는\\x07고성능\\x07딥러닝\\x07추론을\\x07위한\\x07SDK로\\x07임베디드\\x07환경에서\\x07학습된\\x07모델을 \\x07\\n기반으로\\x07실시간\\x07추론\\x07및\\x07실시간\\x07모델\\x07업데이트\\x07기능\\x07제공\\n구글\\n엔비디아'),\n",
              " Document(metadata={'source': '온디바이스 AI 기술동향 및 발전방향.pdf', 'page': 15}, page_content='16\\n   2024.06  제6호\\nDIGISIGHT온디바이스 AI 기술동향 및 발전방향\\nDIGISIGHT ESG TREND MEMBER NEWS KEA NOW STATS  국 내\\n◎  대기업\\x07중심으로\\x07자사\\x07제품에\\x07활용\\x07가능한\\x07최적\\x07AI\\x07추론\\x07기술\\x07개발기업명 기술\\x07동향\\n•  자사의\\x07하드웨어에\\x07최적화하여\\x07온디바이스환경\\x07비전\\x07및\\x07AI\\x07분석을\\x07지원하는\\x07라이브러리 \\x07\\nACL(Arm\\x07Compute\\x07Library)\\x07제공\\n•  자사의\\x07Cortex-A\\x07CPU,\\x07Mail\\x07GPU,\\x07Ethos\\x07NPU에\\x07최적화된\\x07머신러닝구동을\\x07위해\\x07NN \\x07\\nFrameworks를\\x07오픈소스로\\x07제공\\n•  모바일에서\\x07자주\\x07사용되는\\x07비전\\x07분석\\x07기능을\\x07최적화한\\x07FastCV라이브러리를\\x07개발,\\x07자사 \\x07\\n스냅드래곤\\x07AP에서\\x07고효율\\x07AI\\x07모델\\x07처리를\\x07지원하는\\x07SNPE\\x07(Snapdragon\\x07Neural \\x07\\nProcessing\\x07Engine)과\\x07AI\\x07모델\\x07압축\\x07및\\x07양자화를\\x07수행하여\\x07온디바이스\\x07AI를\\x07지원하는 \\x07\\nAIMET(AI\\x07Model\\x07Efficiency\\x07Toolkit)\\x07개발\\n•  자사\\x07칩셋\\x07타겟의\\x07OpenVINO\\x07프로젝트를\\x07통해\\x07Xeon\\x07CPU부터\\x07Arm\\x07코어까지\\x07다양한 \\x07\\n디바이스\\x07환경에서\\x07AI\\x07연산을\\x07효과적으로\\x07수행하기\\x07위한\\x07OpenVINO\\x07Runtime\\x07API\\x07제공\\n•  최근\\x07생성형\\x07AI\\x07지원을\\x07위한\\x07기능\\x07추가\\nARM\\n퀄컴\\n인텔\\n기업명 기술\\x07동향\\n삼성전자•  뉴럴\\x07네트워크\\x07연산을\\x07효율적으로\\x07처리하기\\x07위한\\x07AI\\x07추론\\x07엔진인\\x07ONE(On-device\\x07Neural \\x07\\nEngine)\\x07개발,\\x07효율적인\\x07추론을\\x07위해\\x07모델\\x07컴파일을\\x07위한\\x07컴파일러와\\x07모델\\x07수행을\\x07위한 \\x07\\n런타임\\x07파트로\\x07나누어\\x07개발\\n삼성리서치•  리눅스의\\x07영상\\x07파이프라인\\x07프레임워크인\\x07GStreamer를\\x07기반으로\\x07뉴럴네트워크\\x07파이프라인 \\x07\\n프레임워크인\\x07NNStreamer를\\x07오픈소스로\\x07개발,\\x07온디바이스학습을\\x07위한\\x07NNTrainer도 \\x07\\n오픈소스로\\x07공개\\n노타•  AI\\x07하드웨어의\\x07특성에\\x07따라\\x07AI\\x07모델을\\x07경량화하는\\x07넷츠프레소\\x07솔루션\\x07출시,\\x07접근성\\x07향상을 \\x07\\n위해\\x07웹\\x07기반\\x07넷츠프레소\\x07사용\\x07지원을\\x07위한\\x07LaunchX\\x07웹\\x07어플리케이션\\x07서비스\\x07출시\\n제틱에이아이•  기존\\x07딥러닝\\x07모델을\\x07온디바이스\\x07환경에서\\x07동작할\\x07수\\x07있도록\\x07경량화\\x07도구\\x07및\\x07추론\\x07가속 \\x07\\n파이프라인을\\x07포함한\\x07제틱\\x07멜란지\\x07출시\\n'),\n",
              " Document(metadata={'source': '온디바이스 AI 기술동향 및 발전방향.pdf', 'page': 16}, page_content='17\\n   2024.06  제6호\\nDIGISIGHT온디바이스 AI 기술동향 및 발전방향\\nDIGISIGHT ESG TREND MEMBER NEWS KEA NOW STATS4생성형 AI 기술\\n  해 외\\n◎  미국\\x07OpenAI가\\x07 전\\x07세계\\x07생성형\\x07AI\\x07기술을\\x07주도하고\\x07있는\\x07한편\\x07메타,\\x07애플,\\x07테슬라\\x07등\\x07여러\\x07기업들이\\x07온디바이스에서 \\x07\\n생성형\\x07AI\\x07지원을\\x07위해\\x07기술\\x07개발\\x07추진\\n기업명 기술\\x07동향\\n•  이미지를\\x07인식할\\x07수\\x07있는\\x07멀티모달\\x07지원\\x07‘ChatGPT-4’\\x07출시.\\x07이를\\x07기반으로\\x07온라인\\x07서비스인\\x07플러그인\\x07기능을\\x07추가해\\x07현재\\x07오픈\\nAI\\x07플러그인\\x07스토어에\\x071,000여\\x07개의\\x07플러그인이\\x07탑재되는\\x07등\\x07AI\\x07생태계의\\x07주력\\x07트렌드로\\x07자리\\x07잡음.\\x07최근\\x07응답\\x07속도를\\x07비약적으로 \\x07\\n향상시킨\\x07‘ChatGPT-4o’\\x07출시\\n•  현\\x07시점에서는\\x07GPT2\\x07기반\\x07모델\\x07크기\\x07500M~1G급으로\\x07약\\x0720토큰\\x07처리하는\\x07데\\x0710s\\x07정도\\x07수준의\\x07기술\\x07보유,\\x07조만간\\x07GPT\\x07모델 \\x07\\n경량화와\\x07domain\\x07specific\\x07model\\x07finetuning\\x07지원\\x07온디바이스\\x07GPT\\x07지원\\x07계획\\x07발표.\\x07‘23년\\x07메타와\\x07협력하여\\x07메타의\\x07생성형\\x07AI인 \\x07\\n거대언어모델(LLM)\\x07라마2를\\x07온디바이스에서\\x07지원하기\\x07위해\\x07최적화를\\x07수행하기로\\x07발표한\\x07후\\x07당해\\x0710월\\x07생성형\\x07AI를\\x07반도체\\x07칩에 \\x07\\n내장한\\x07‘스냅드래곤\\x078’\\x073세대\\x07발표\\n•  ’24년\\x07메타가\\x07공개한\\x07최신\\x07LLM\\x07라마3를\\x07스냅드래곤\\x07플래그십\\x07플랫폼의\\x07온디바이스\\x07환경에서\\x07동작시키기\\x07위해\\x07최적화\\x07수행\\x07계획\\x07발표\\n•  대규모\\x07AI\\x07언어\\x07모델인\\x07‘라마(LLaMa)’를\\x07공개하면서\\x07최적화를\\x07통해\\x07특정\\x07분야에\\x07한정하여\\x07작은\\x07용량으로\\x07고수준의\\x07언어\\x07처리를 \\x07\\n지원하는\\x07sLLM도\\x07함께\\x07공개,\\x07이를\\x07기반으로\\x07노트북이나\\x07휴대폰에서\\x07동작하는\\x07sLLM\\x07응용도\\x07공개\\n•  자사에서\\x07설립한\\x07AI\\x07스타트업\\x07xAI가\\x07ChatGPT와\\x07같은\\x07생성형\\x07AI\\x07‘그록(Grok)’\\x07공개\\n•  딥마인드와\\x07협력하여\\x07텍스트,\\x07오디오,\\x07이미지\\x07등을\\x07지원하는\\x07멀티모달\\x07생성형\\x07AI\\x07모델\\x07‘제미나이’를\\x07개발했으며,\\x07온디바이스\\x07AI \\x07\\n지원을\\x07위해\\x07경량화된\\x07‘제미나이\\x07나노’도\\x07함께\\x07개발\\n•  ’24년\\x07삼성전자와\\x07협력하여\\x07‘제미나이\\x07나노\\x072.0’을\\x07갤럭시\\x07S24에\\x07탑재\\n•  ’24년\\x07iOS에서\\x07개인\\x07맞춤형\\x07생성형\\x07AI를\\x07지원하는\\x07애플\\x07인텔리젼스를\\x07발표하면서\\x07자체\\x07개발\\x07생성형\\x07AI\\x07모델인\\x07‘에이잭스(Ajax)’와 \\x07\\n함께\\x07오픈\\x07AI와\\x07협력하여\\x07자사\\x07음성\\x07AI\\x07비서\\x07시리에\\x07ChatGPT-4o를\\x07접목한다고\\x07발표\\n•  단,\\x07모든\\x07처리를\\x07디바이스에서\\x07처리하는\\x07대신\\x07상황에\\x07따라\\x07강화된\\x07보안이\\x07적용된\\x07프라이빗\\x07클라우드에서\\x07AI\\x07연산\\x07수행\\x07가능\\n•  대부분의\\x07MS\\x07제품에\\x07생성형\\x07AI를\\x07결합하여\\x07‘MS365\\x07Copilot’,\\x07‘Security\\x07Copilot’\\x07등\\x07신제품\\x07출시\\x07중,\\x07’24년\\x07온디바이스\\x07AI를 \\x07\\n지원하는\\x07인공지능\\x07피씨인\\x07Copilot+\\x07PC\\x07공개\\n•  ’23년\\x07디지털\\x07솔루션\\x07기업으로\\x07퀄컴의\\x07플랫폼을\\x07기반으로\\x07자사\\x07핸드헬드\\x07모바일\\x07컴퓨터\\x07및\\x07태블릿\\x07등\\x07온디바이스\\x07환경에서 \\x07\\n클라우드와의\\x07연결\\x07없이\\x07대형언어모델\\x07및\\x07생성형\\x07AI를\\x07구현하는데\\x07성공했다고\\x07공개\\n•  자체클라우드\\x07LLM인\\x07Pangu와\\x07디바이스\\x07내\\x07AI비서인\\x07Cella가\\x07연결되며,\\x07’23년\\x078월\\x07HamonyOS\\x074에\\x07LLM을\\x07탑재할\\x07것을\\x07발표\\n•  자체\\x07LLM인\\x07AndesGPT를\\x07기반으로\\x07AI비서인\\x07Xiaobu를\\x07외부테스트를\\x07수행\\x07중이며,\\x07향후\\x07스마트폰\\x07등에\\x07탑재\\x07예정\\n오포\\n화웨이\\n지브라\\nOpenAI\\n퀄컴\\n메타\\n테슬라\\nMS\\n애플\\n구글'),\n",
              " Document(metadata={'source': '온디바이스 AI 기술동향 및 발전방향.pdf', 'page': 17}, page_content='18\\n   2024.06  제6호\\nDIGISIGHT온디바이스 AI 기술동향 및 발전방향\\nDIGISIGHT ESG TREND MEMBER NEWS KEA NOW STATS  국 내\\n◎  대기업에서\\x07한국어\\x07특화\\x07생성형\\x07AI\\x07개발\\x07및\\x07경량화를\\x07진행\\x07중이며,\\x07자사\\x07제품이\\x07적용을\\x07목표로\\x07기술개발\\x07진행\\n5활용 서비스 사례\\n◎  사용자와\\x07상시\\x07연결되어\\x07즉각적인\\x07AI\\x07서비스\\x07제공이\\x07가능한\\x07모바일·웨어러블\\x07 기기를\\x07중심으로\\x07온디바이스\\x07 생성형\\x07AI를\\x07\\n탑재한\\x07제품\\x07개발\\x07및\\x07출시기업명 기술\\x07동향\\n삼성전자 •  ’23년\\x07온디바이스\\x07환경에서\\x07생성형\\x07AI\\x07서비스\\x07제공을\\x07위한\\x07’삼성\\x07가우스’를\\x07공개,\\x07’24년부터\\x07갤럭시S24\\x07등의\\x07제품에\\x07탑재\\n카카오•  한국어\\x07특화\\x07AI\\x07언어모델인\\x07‘KoGPT’를\\x07’21년\\x07공개했으며\\x07구글의\\x07텐서\\x07처리\\x07장치를\\x07활용,\\x07연산속도\\x07고도화.\\x07’24년\\x071월\\x07새\\x07언어모델 \\x07\\n‘허니비’를\\x07공개하였으며\\x07문자와\\x07이미지를\\x07동시에\\x07학습하고\\x07연산할\\x07수\\x07있는\\x07멀티모달(다중모델)\\x07기반의\\x07대규모\\x07언어모델(LLM)을 \\x07\\n오픈소스\\x07형태로\\x07구현 \\x07\\n네이버 •  블로그,\\x07카페,\\x07지식\\x07IN\\x07등\\x07자사\\x07서비스의\\x07대규모\\x07데이터를\\x07활용해\\x07한국어\\x07대용량\\x07데이터를\\x07구축한\\x07‘하이퍼\\x07클로버’를\\x07  ’21년\\x07공개\\nLG전자 •  멀티모달\\x07연산이\\x07가능한\\x07초거대\\x07AI\\x07‘EXAONE\\x072.0’\\x07공개\\nLGCNS •  대규모\\x07언어모델(LLM)을\\x07탑재한\\x07생성형\\x07AI\\x07서비스\\x07플래폼\\x07‘DAP\\x07GenAI’\\x07구축\\nLGU+•  ’24년\\x07LG\\x07AI\\x07연구원과\\x07협업해\\x07통신,\\x07플랫폼,\\x07금융\\x07등\\x07다양한\\x07분야에\\x07적용\\x07가능한\\x07생성형\\x07AI\\x07모델인\\x07‘익시젠(ixi-GEN)’개발\\x07계획 \\x07\\n공개.\\x07딥엑스와\\x07협력하여\\x07추후\\x07온디바이스\\x07환경에서도\\x07익시젠\\x07기반\\x07서비스를\\x07제공하기로\\x07발표\\nSKC&C •  네이버와\\x07협력하여\\x07‘한국형\\x07AI\\x07서비스’를\\x07공동개발하여\\x07기업\\x07맞춤형\\x07보고서\\x07제작\\x07솔루션\\x07개발\\n삼성SDS •  기업\\x07내\\x07업무\\x07생산성을\\x07높이기\\x07위한\\x07생산형\\x07AI\\x07플랫폼\\x07‘브리티\\x07코파일럿(Brity\\x07Copilot)’과\\x07‘패브릭스(Fabrix)’공개\\n적용분야 사례\\x07및\\x07주요내용\\n웨어러블\\n온디바이스         휴메인(Humane) / AI 핀\\n•  퀄컴\\x07모바일\\x07AI반도체\\x07기반\\x07생성형\\x07지능\\x07탑재한\\x07퍼스널\\x07디지털\\x07디바이스(’23.12,\\x07발표, \\x07\\n’24년\\x07국내\\x07출시\\x07예정) \\x07\\n•  생성AI\\x07탑재를\\x07통해\\x07통번역,\\x07전화\\x07송수신,\\x07건강 ·영양,\\x07사진촬영,\\x07검색,\\x07이메일\\x07요약, \\x07\\n음악재생\\x07등\\x07서비스\\x07제공\\n         틴에이저엔지니어링(TeenageEngineering) / Rabbit R1\\n•  대형\\x07액션모델\\x07기반으로\\x07휴대폰\\x07앱구동\\x07AI에이전트\\x07장치(’24.1,\\x07출시)\\n•  사용자\\x07음성을\\x07통해\\x07쇼핑,\\x07호텔\\x07예약,\\x07메시지\\x07송신\\x07등\\x07서비스\\x07제공\\n'),\n",
              " Document(metadata={'source': '온디바이스 AI 기술동향 및 발전방향.pdf', 'page': 18}, page_content='19\\n   2024.06  제6호\\nDIGISIGHT온디바이스 AI 기술동향 및 발전방향\\nDIGISIGHT ESG TREND MEMBER NEWS KEA NOW STATS적용분야 사례\\x07및\\x07주요내용\\n웨어러블\\n온디바이스         메타(Meta) / 스마트 (AI) 안경\\n•  스마트안경\\x07레이밴\\x07스토리\\x07출시(’23.10\\x07발표,\\x07미출시)\\n•  메타\\x07생성형\\x07AI\\x07탑재를\\x07통해\\x07사용자\\x07시선의\\x07사물에\\x07대한\\x07실시간\\x07정보\\x07제공\\n         삼성전자 / 갤럭시링\\n•  반지\\x07형태의\\x07스마트링(’24.1\\x07발표,\\x078월\\x07출시\\x07예정)\\n•  심박수,\\x07혈압,\\x07산소포화도,\\x07수면\\x07품질\\x07등\\x07실시간\\x07측정,\\x07지능형\\x07헬스\\x07기능을\\x07통한\\x07맞춤형\\x07건강 \\x07\\n가이드\\x07제공\\n         탭AI(TabAI) / AI 펜던트\\n•  작은\\x07원형\\x07팬던트\\x07(’24.1,\\x07국내\\x07미출시)\\n•  30시간\\x07지속\\x07배터리,\\x07마이크와\\x07블루투스\\x07사용해\\x07오디오를\\x07수집\\x07및\\x07스마트\\x07폰과\\x07연동하여 \\x07\\n클라우드\\x07전송,\\x07ChatGPT를\\x07활용하여\\x07다양한\\x07통찰력\\x07제공\\n         오우라헬스(Oura Health) / 오우라링(3세대)\\n•  반지\\x07형태의\\x07스마트링(’21년말,\\x07국내\\x07미출시)\\n•  수면\\x07추적(체온,\\x07심박,\\x07심박변이\\x07등),\\x07활동\\x07추적(3D가속도를\\x07통한\\x07운동·활동\\x07모니터링\\x07등)\\x07등\\n모빌리티\\n온디바이스         유토피아(UTOPIA) / 전기자전거 퓨전(Fusion)\\n•  생성형AI\\x07연동\\x07애플\\x07디자이너와\\x07협업된\\x07제품\\x07전기자전거(’23.7,\\x07발표)\\n•  사용자\\x07음성을\\x07통한\\x07정보(수리,\\x07영양플랜,\\x07부상회복),\\x07GPS(여행경로,\\x07도난방지),\\x07건강(심박)  \\n등\\x07서비스\\x07제공\\n스마트\\n오피스·홈\\n온디바이스         플라우드 노트(PLAUD NOTE) / 플라우드 노트\\n•  ChatGPT\\x07기반의\\x07스마트\\x07레코더(’23.11,\\x07출시)\\n•  녹음(통화,\\x07일반)\\x07및\\x07녹음내용의\\x07실시간\\x07텍스트\\x07번역,\\x07\\x07요점정리,\\x07마인드맵\\x07정리,\\x07메일\\x07발송\\x07등  \\n서비스\\x07제공\\n         LG전자 / 가전\\n•  멀티모달\\x07센서와\\x07온디바이스\\x07AI\\x07적용한\\x07초개인화\\x07가전\\x07스마트\\x07홈\\x07에이전트\\x07공개(’24.1,\\x07CES)\\n•  가전용\\x07AI\\x07칩\\x07개발\\n스마트폰\\n온디바이스         삼성전자 / 갤럭시S24\\n•  삼성전자의\\x07생성형\\x07AI\\x07모델(삼성\\x07가우스)을\\x07탑재한\\x07스마트폰(’24.1,\\x07출시)\\n•  통화중\\x07실시간\\x07통역(13개국),\\x07실시간\\x07문자\\x07번역(13개국),\\x07사용자\\x07언어를\\x07통한\\x07검색,\\x07문서\\x07요약  \\n등\\x07서비스\\x07제공\\n         구글 / 픽셀8 Pro\\n•  LLM\\x07온디바이스\\x07모델(나노)를\\x07탑재한\\x07스마트폰(’23.12,\\x07출시)\\n•  생성형\\x07AI\\x07기반\\x07망연동\\x07없는\\x07녹음내용\\x07요약,\\x07대화\\x07맥락\\x07분석을\\x07통한\\x07답변\\x07제안,\\x07영상\\x07교정\\x07등  \\n서비스\\x07지원\\n'),\n",
              " Document(metadata={'source': '온디바이스 AI 기술동향 및 발전방향.pdf', 'page': 19}, page_content='20\\n   2024.06  제6호\\nDIGISIGHT온디바이스 AI 기술동향 및 발전방향\\nDIGISIGHT ESG TREND MEMBER NEWS KEA NOW STATSⅣ. 미래 발전 방향\\n1향후 전망\\n  (시장) 온디바이스 AI 기술은 AI 시장의 중심이 될 것으로 기대\\n◎  개인정보\\x07보호,\\x07안정적인\\x07실시간\\x07서비스,\\x07서버\\x07운영비용\\x07절감\\x07등\\x07온디바이스\\x07 AI의\\x07다양한\\x07강점으로\\x07인해\\x07향후\\x07AI\\x07시장의\\x07\\n게임\\x07체인저\\x07역할\\x07예상\\n -  온디바이스\\t AI\\t기술은\\t대규모\\t클라우드\\t서버\\t운영이\\t필요\\t없어\\t비용\\t절감\\t측면에서\\t혁신적인\\t기술이며,\\t 나아가\\t데이터\\t\\n센터의\\t에너지\\t소모\\t절감\\t가능\\n   •\\t\\t오픈AI는\\t’23년\\t매출이\\t2조\\t원이\\t넘었으나\\t하루\\t약\\t9억\\t원으로\\t추산되는\\t막대한\\t운영비용으로\\t수익\\t실패\\n -  글로벌\\t빅테크들은\\t경쟁적으로\\t온디바이스\\tAI\\t기술\\t실현에\\t앞장서고\\t있으며,\\t지속적인\\t투자\\t계획\\t발표\\n◎   현재\\x07온디바이스\\x07 AI\\x07분야로\\x07대표되는\\x07스마트폰\\x07외\\x07웨어러블\\x07기기,\\x07로봇,\\x07디지털\\x07헬스케어,\\x07 스마트\\x07홈\\x07등\\x07다양한\\x07산업에서\\x07\\n폭넓게\\x07활용될\\x07것으로\\x07전망\\n -  AI\\t서비스가\\t일상에\\t깊숙이\\t침투함에\\t따라\\t개인정보\\t보호에\\t대한\\t중요성은\\t나날이\\t증대\\n   •\\t\\t지능형\\t블랙박스 ·인공지능(AI)\\t 스피커 ·지능형\\tCCTV\\t등\\t일상\\t속\\tAI\\t서비스에는\\t 사용자의\\t음성,\\t영상\\t등이\\t입력\\t\\n데이터로\\t활용되며,\\t이러한\\t개인정보에\\t대한\\t보호\\t조치\\t필요\\n -  온디바이스\\tAI를\\t활용해\\t개인정보\\t보호\\t문제없이\\t사용자\\t맞춤형\\tAI\\t서비스를\\t제공할\\t수\\t있어\\t활용성\\t클\\t것으로\\t기대\\n  (업계) 기술확보를 위한 M&A 및 AI 관련 인력 확보 전쟁 심화\\n◎  미래\\x07산업으로의\\x07전환을\\x07위해\\x07전\\x07산업에서의\\x07AI분야\\x07M&A\\x07활발히\\x07진행\\n\\t -\\t\\tAI가\\t타산업의\\t발전을\\t가속화하는\\t 기반\\t기술로\\t부상하며\\t로봇,\\t헬스케어,\\t 모빌리티,\\t 게임·엔터\\t 등\\t전\\t산업에\\t적용되고\\t\\n영향력\\t확대됨에\\t따라\\tAI를\\t중심으로\\t기술\\t융합과\\t혁신\\t진행\\n     *\\t\\t최초\\t보급\\t후\\t10년차\\t침투율(PWC·Bessemer\\tVC,\\t%)\\t:\\t(생성형AI)66,\\t(스마트폰)55,\\t(SW\\t내\\t클라우드)31'),\n",
              " Document(metadata={'source': '온디바이스 AI 기술동향 및 발전방향.pdf', 'page': 20}, page_content='21\\n   2024.06  제6호\\nDIGISIGHT온디바이스 AI 기술동향 및 발전방향\\nDIGISIGHT ESG TREND MEMBER NEWS KEA NOW STATS\\t -\\t\\t경기\\t불확실성에도\\t첨단기술인\\tAI(온디바이스AI,\\t메타버스\\t기술\\t및\\t하드웨어)에\\t대한\\t투자에\\t집중해\\t미래\\t산업\\t대응\\n   •\\t\\t(테크)\\t온디바이스\\tAI,\\t메타버스,\\t하드웨어\\t등\\tAI\\t관련\\t기술\\t확보를\\t위한\\tM&A\\t진행\\n   •\\t\\t(통신)\\t데이터센터,\\t AI,\\t로봇,\\t클라우드\\t등\\t미래\\t기술에\\t대한\\t투자\\t지속\\t및\\t디지털화·커넥티드\\t 역량\\t확보를\\t위해\\t\\n소프트웨어,\\t모빌리티,\\t기계\\t업종\\t등과의\\t제휴\\t증가\\n   •\\t\\t(미디어)\\t빅테크의\\t파운데이션\\t개발\\t투자,\\t스타트업\\t지분\\t투자·M&A\\t통해\\t생성형\\tAI\\t기반\\t다양한\\t수익모델\\t시도\\n◎   AI관련\\x07핵심\\x07인재\\x07확보를\\x07위한\\x07빅테크\\x07기업\\x07간\\x07경쟁\\x07심화\\n -  OpenAI,\\t구글,\\tMS,\\t애플,\\t메타\\t등\\t빅테크\\t기업들은\\tAI\\t인력에게\\t연봉,\\t스톡옵션\\t등\\t막대한\\t조건을\\t제시하여\\t공격적인\\t\\n영입\\t제시하며\\tAI\\t인재\\t확보에\\t총력\\n     *\\t\\t글로벌\\t빅테크\\tAI\\t연구원(‘23년\\t신규\\t박사급\\tAI\\t연구원\\t기준)\\t초봉(한국경제·로라,\\t만\\t달러) \\t\\n\\t\\t\\t\\t\\t\\t\\t\\t\\t:\\t(오픈AI)86.5,\\t(엔스로픽)85.5,\\t(인플렉션AI)82.5,\\t(테슬라)78,\\t(아마존)71.9,\\t(구글브레인)69.5 \\t산업별 AI 영향도\\n산업 영향도\\n로봇 •  AI\\x07접목된\\x07로봇은\\x07최종적으로는\\x07인간의\\x07개입을\\x07필요로\\x07하지\\x07않는\\x07‘무인화’\\x07로봇,\\x07즉\\x07스스로\\x07활동할\\x07수\\x07있는\\x07‘휴머노이드\\x07로봇’으로\\x07발전\\n헬스케어•  (신약개발)\\x07딥러닝을\\x07통한\\x07단백질\\x07구조\\x07해독\\x07등으로\\x07신약개발에\\x07소요되는\\x07시간\\x07획기적\\x07단축\\n•  (진단/치료)\\x07딥러닝으로\\x07환자\\x07유전자\\x07데이터를\\x07분석,\\x07대규모\\x07의료영상\\x07빠르게\\x07처리\\x07→\\x07질병\\x07판독\\x07및\\x07의료진\\x07치료결정에서\\x07불확실성\\x07감소\\n•  (예방)\\x07헬스케어\\x07기관들이\\x07보유한\\x07방대한\\x07의료\\x07데이터를\\x07활용하여,\\x07개인별\\x07질병\\x07발생\\x07확률\\x07예측\\x07&\\x07사전\\x07예방형\\x07치료\\x07제공\\n•  (서비스)\\x07헬스\\x07디바이스의\\x07 발전과\\x07함께\\x07주요\\x07건강지표들의\\x07 지속적\\x07모니터링\\x07&\\x07챗봇을\\x07통한\\x07의료상담\\x07등이\\x07가능해지면서,\\x07 원격의료\\x07본격화\\n모빌리티•  인포테인먼트·커넥티드를\\x07넘어\\x07자율주행의\\x07시대\\x07도래\\n  -\\t도로\\t주행데이터\\t축적\\t및\\tAI\\t분석능력\\t향상으로\\t완성도\\t높은\\t자율주행시스템구현\\n게임·엔터•  (개발)\\x07AI를\\x07통한\\x07코딩\\x07자동화를\\x07통해\\x07개발자들의\\x07중복되는\\x07코드\\x07작업\\x07최소화.\\x07인건비\\x07감소는\\x07기업들의\\x07제작비용을\\x07감소시켜\\x07더\\x07많은 \\x07\\n콘텐츠\\x07개발\\x07및\\x07진입\\x07장벽을\\x07낮춰\\x07신생업체들의\\x07대규모\\x07유입\\x07유도\\n•\\x07(콘텐츠)\\x07AI는\\x07메타버스와\\x07결합해\\x07게임/엔터/교육의\\x07궁극적인\\x07변화\\x07이끌\\x07전망\\n\\t\\t-\\tAI를\\t활용한\\t디자인\\t프로세스\\t간소화로\\t3D\\t부문의\\t급속한\\t발전\\t가능.\\t홀로그램\\t활성화로\\t‘가상-현실의\\t경계’가\\t모호해질\\t것으로\\t전망\\n\\t\\t-\\t메타버스\\t활성화로\\t게임/엔터/교육/광고\\t분야에\\t큰\\t수혜\\t예상\\n테크•  (하드웨어)\\x07개인\\x07IT\\x07기기(핸드폰,\\x07태블릿\\x07등)에\\x07온디바이스\\x07AI\\x07탑재되며\\x07신규\\x07수요\\x07창출\\x07및\\x07XR(확장현실)기기\\x07등\\x07신제품\\x07출시\\n•  (소프트웨어)\\x07AI\\x07모델에\\x07대한\\x07시장\\x07선점을\\x07위한\\x07글로벌\\x07기업들의\\x07개발\\x07경쟁\\x07지속\\x07및\\x07AI를\\x07활용한\\x07개인\\x07맞춤형\\x07서비스를\\x07제공할\\x07수\\x07있는 \\x07\\n어플리케이션\\x07발전\\n•  (반도체)\\x07AI\\x07반도체에\\x07대한\\x07중요성\\x07부각되며,\\x07시스템\\x07반도체\\x07부문\\x07핵심\\x07경쟁력을\\x07확보하기\\x07위한\\x07글로벌\\x07거대\\x07기업들의\\x07투자\\x07지속\\n금융•  챗봇(상담\\x07업무)를\\x07넘어서\\x07금융\\x07비서로\\x07AI\\x07업무\\x07영역\\x07확장\\n\\t\\t-\\t자연어\\t처리\\t역량이\\t음성인식과\\t맞물릴\\t경우\\t모바일\\t환경에\\t익숙하지\\t않은\\t연령층까지\\t고객군\\t확대\\t가능\\n\\t\\t-\\t단순\\t상담\\t업무\\t뿐\\t아니라\\t자산관리\\t및\\t투자\\t부분에서도\\tAI의\\t역할\\t확대\\t예상\\n*\\t출처\\t:\\tPWC( ’24)'),\n",
              " Document(metadata={'source': '온디바이스 AI 기술동향 및 발전방향.pdf', 'page': 21}, page_content='22\\n   2024.06  제6호\\nDIGISIGHT온디바이스 AI 기술동향 및 발전방향\\nDIGISIGHT ESG TREND MEMBER NEWS KEA NOW STATS -  국내\\tAI\\t인력은\\t경쟁국에\\t비해\\t매우\\t부족한\\t상황으로\\t민간의\\t인재\\t유치\\t강화\\t전략\\t및\\t정부\\t맞춤\\t인재육성\\t정책\\t절실\\n     *\\t\\t’20년\\t국가별\\t글로벌\\tAI\\t전문인재\\t확보\\t현황(한국일보·엘리멘트AI,\\t%)\\n\\t\\t\\t\\t\\t\\t\\t\\t\\t:\\t(1위)미국\\t39.4,\\t(2위)인도\\t15.9,\\t(3위)영국\\t7.4,\\t(4위)중국\\t4.6....(22위)한국\\t0.5\\n -  AI\\t반도체\\t시장\\t주도를\\t위해\\t반도체사들의\\t인력전쟁도\\t엔디비아를\\t중심으로\\t진행되어\\t국내업체에서의\\t인력\\t유출\\t심화\\n  (기술·서비스) 킬러 서비스 확보를 위한 경쟁 심화 및 개인화된 맞춤형 AI로 점진적 발전 예상\\n◎  경량\\x07생성형\\x07AI\\x07모델,\\x07NPU와\\x07같은\\x07온디바이스\\x07 AI\\x07실현을\\x07위한\\x07기반\\x07기술의\\x07성숙도가\\x07높아짐에\\x07따라\\x07이를\\x07활용해\\x07\\n사용자에게\\x07혁신적인\\x07경험을\\x07제공하기\\x07위한\\x07킬러\\x07서비스\\x07확보\\x07경쟁\\x07심화\\x07예상\\n\\t -\\t\\t온디바이스\\t AI\\t기술\\t자체는\\t이전부터\\t활용되고\\t있어\\t사용자에게\\t 새로운\\t경험\\t제공이\\t어려우며,\\t 온디바이스\\t 생성형\\tAI\\t\\n기반의\\t차별화된\\t서비스\\t개발\\t필요\\n   •\\t\\t스마트폰의\\t 파노라마\\t사진,\\t사진에서\\t객체\\t제거,\\t실시간\\t영상\\t합성\\t기능을\\t비롯해\\t블랙박스의\\t 차량\\t출발\\t감지\\t기능,\\t\\n지능형\\tCCTV의\\t객체\\t인식\\t기능\\t등\\t다양한\\t온디바이스\\tAI\\t서비스\\t기\\t보편화 \\t\\n\\t -\\t\\t사용자가\\t체감\\t가능한\\t온디바이스\\t생성형\\tAI\\t기술은\\t스마트폰\\t중심의\\t실시간\\t통역과\\t음성\\t대화의\\t텍스트\\t요약\\t수준 \\t\\n\\t -\\t\\t글로벌\\t빅테크들은\\t 스마트폰 ·AI\\tPC·웨어러블\\t기기\\t내\\t온디바이스\\t 생성형\\tAI\\t기술을\\t활용하여\\t대표\\t서비스\\t개발에\\t\\n박차를\\t가하고\\t있으며\\t‘24년\\t말부터는\\t갤럭시\\t링을\\t포함하여\\t단계적\\t출시\\t예상빅테크간 AI 및 반도체 인력 전쟁\\n(단위\\t:\\t명,\\t ’24.\\t6.\\t17\\t링크드인\\t가입자\\t기준)\\n*\\t출처\\t:\\t조선일보(’24)\\nAI 인력 이동 현황 반도체 인력 이동 현황\\n링크드인\\n가입한\\t직원수 애플\\n17만\\n3,249\\n구글\\n28만\\n6,760\\n메타\\n11만\\n9,611마이크로\\n소프트\\n22만\\n8,954삼성\\n전자\\n엔비\\n디아278515 2,848\\n544\\n12\\n89\\n159\\n3838\\n0\\n6,5771만\\n3,2383,3451,9674,219\\n6,3834,8813,066\\n2,474\\n8,880\\n2,857마이\\n크론TSMC\\nSK\\n하이닉스인텔'),\n",
              " Document(metadata={'source': '온디바이스 AI 기술동향 및 발전방향.pdf', 'page': 22}, page_content='23\\n   2024.06  제6호\\nDIGISIGHT온디바이스 AI 기술동향 및 발전방향\\nDIGISIGHT ESG TREND MEMBER NEWS KEA NOW STATS◎   맞춤형\\x07AI\\x07서비스를\\x07위해서는\\x07개인의\\x07데이터를\\x07기반으로\\x07AI\\x07모델의\\x07점진적\\x07업데이트\\x07필요\\n -  현재는\\t서버에서\\t학습된\\tAI\\t모델을\\t모든\\t사용자가\\t동일하게\\t사용하고\\t있어\\t사용자\\t특성이\\t반영된\\t서비스\\t제공\\t불가\\n -  디바이스에서\\t수집한\\t사용자의\\t데이터\\t통해\\t지속적으로\\tAI\\t모델을\\t업데이트하여\\t사용자별\\t특화된\\t서비스\\t제공\\t가능\\n -  AI모델학습은\\t 추론\\t대비\\t훨씬\\t많은\\t컴퓨팅\\t자원이\\t필요해\\t온디바이스\\t 환경에서의\\t AI모델학습을\\t 위해\\t많은\\t난관\\t극복\\t필요\\n -  최근\\t서버향\\t타겟의\\tNPU에서\\t학습을\\t지원하는\\t등\\t기술\\t발전이\\t이루어지고\\t있어\\t향후\\t맞춤형\\tAI\\t서비스의\\t실현\\t기대\\n2정책 제언\\n  온디바이스 AI 시장 선점을 위해 중소기업 시장 참여를 통한 생태계 확장 필요\\n◎  국내\\x07온디바이스\\x07 생성형\\x07AI\\x07기술은\\x07저전력\\x07고효율\\x07지능형\\x07반도체\\x07개발이라는\\x07 후방\\x07산업에\\x07집중되어\\x07있고\\x07서비스는\\x07일부\\x07\\n대기업\\x07위주로만\\x07개발\\x07중으로,\\x07혁신적인\\x07서비스\\x07개발이\\x07이루어지지\\x07않아\\x07전방\\x07산업\\x07부진\\n -  삼성전자의\\t 스마트폰에\\t 중점적인\\t온디바이스\\t 시스템을\\t위한\\t기반\\t역량은\\t보유하고\\t있으나\\t폐쇄된\\t대기업\\t기술로\\t\\n중소기업과\\t역량\\t차이\\t매우\\t큼\\n◎   국내\\x07중소기업\\x07기술역량\\x07한계로\\x07높은\\x07난이도의\\x07온디바이스\\x07AI\\x07기술\\x07도입\\x07난항\\n -  ’21년\\t12월\\t말\\t기준\\t전체\\t기업체(20만\\t7,000여개)의\\tAI\\t기술\\t및\\t서비스\\t이용률은\\t2.7%로\\t매우\\t낮음 \\t\\n -  국내\\t기업\\t100곳\\t중\\t3곳만이\\tAI\\t기술을\\t도입했으며\\t AI를\\t도입한\\t기업\\t대부분은\\t대기업(91.7%).\\t 중소기업의\\t AI\\t도입\\t시\\t\\n가장\\t큰\\t걸림돌은\\t수요에\\t맞는\\tAI\\t기술\\t및\\t인력\\t부족(72.1%) \\t\\n◎   사용자\\x07수요\\x07증대를\\x07통해\\x07전방기술\\x07시장을\\x07확대하고\\x07지속적인\\x07성장을\\x07견인하기\\x07위해서\\x07다수의\\x07중소기업이\\x07 생태계에\\x07참여해\\x07\\n도전적이고\\x07참신한\\x07서비스\\x07발굴\\x07필요\\n   중소기업의 온디바이스 AI 시장 진입 장벽 해소를 위한 기술·서비스 개발, 인력양성 등 맞춤형 \\n정책지원 필요\\n◎  (기술 개발 및 연구 기반 지원) 온디바이스\\x07생성형\\x07AI\\x07제품\\x07및\\x07서비스\\x07개발을\\x07위한\\x07연구\\x07기반\\x07지원\\x07필요\\n\\t -\\t\\t온디바이스\\t 생성형\\tAI의\\t특성상\\t서비스\\t개발을\\t위해서는\\t온디바이스\\t AI\\t하드웨어부터\\t 소프트웨어\\t 및\\t경량화된\\t생성형\\t\\n모델까지\\t필요하나\\t이는\\t중소기업이\\t시장에\\t진입하는\\t것을\\t가로막는\\t주요\\t걸림돌\\n\\t -\\t\\t저전력\\t레퍼런스\\t보드,\\t개방형\\t생성형\\tAI\\t모델,\\t한국어\\t타겟\\t학습\\t데이터\\t공개\\t등\\t중소기업의\\t 기술적\\t제약을\\t해소해\\t\\n혁신적인\\t제품\\t및\\t서비스를\\t개발할\\t수\\t있도록\\t기반\\t지원\\t필요'),\n",
              " Document(metadata={'source': '온디바이스 AI 기술동향 및 발전방향.pdf', 'page': 23}, page_content='24\\n   2024.06  제6호\\nDIGISIGHT온디바이스 AI 기술동향 및 발전방향\\nDIGISIGHT ESG TREND MEMBER NEWS KEA NOW STATS◎   (인력 양성 및 교육 지원) 온디바이스\\x07 AI\\x07인재\\x07부족\\x07현상을\\x07해소하기\\x07위해\\x07국가\\x07차원의\\x07인력\\x07양성\\x07및\\x07재직자\\x07역량\\x07강화를\\x07\\n위한\\x07교육\\x07지원\\x07필요\\n -  서버\\t시스템\\t지원\\tAI\\t소프트웨어\\t 및\\t하드웨어\\t인력은\\t국가의\\t전략적인\\t연구개발\\t투자\\t및\\t인력\\t양성으로\\t지속적으로\\t 증가\\n -  온디바이스\\t AI\\t소프트웨어\\t 및\\t하드웨어\\t시스템에\\t대한\\t역량을\\t가진\\t인재는\\t매우\\t부족하여\\tAI\\t및\\t임베디드\\t시스템\\t기술\\t\\n전문성이\\t융합된\\t온디바이스\\tAI\\t인력\\t양성이\\t핵심\\n -  온디바이스\\t AI\\t인재\\t풀\\t확대와\\t기술\\t수준\\t향상을\\t위해\\t대학\\t등을\\t대상으로\\t한\\t인력\\t양성\\t뿐만\\t아니라\\t중소기업\\t재직자\\t\\n대상\\t교육\\t지원\\t등\\t다각도에서\\t정책적\\t지원\\t필요\\n◎   (서비스 개발 및 실증 사업 지원) 온디바이스\\x07생성형\\x07AI\\x07적용\\x07서비스\\x07사례\\x07확보를\\x07위한\\x07실증지원\\x07절실\\n -  국내\\t중소기업은\\t AI\\t기술\\t및\\tNPU\\t확보,\\tAI\\t인력,\\t외부\\t전문가\\t협업\\t등\\t자원이\\t부족하여\\t서비스\\t출시\\t및\\t사례\\t확보가\\t\\n어려워\\t신산업\\t진출,\\t글로벌\\t수출\\t차질\\n -  특히,\\t학습\\t데이터\\t확보,\\t온디바이스\\t AI\\t하드웨어\\t및\\t최적화된\\t소프트웨어\\t 개발\\t등\\t서비스\\t개발을\\t위해\\t시간과\\t비용이\\t\\n많이\\t필요한\\t온디바이스\\t생성형\\tAI\\t특성\\t상\\t종래\\t단기간\\t내\\t실증\\t사업은\\t실효성\\t부족\\n - \\t온디바이스\\t 생성형\\tAI\\t서비스\\t개발과\\t실환경\\t장기간\\t검증을\\t수행할\\t수\\t있도록\\t2~3년차의\\t 중기간\\t사업을\\t통한\\t실증지원\\t필요'),\n",
              " Document(metadata={'source': '온디바이스 AI 기술동향 및 발전방향.pdf', 'page': 24}, page_content='•\\t\\tAI반도체\\t시장\\t현황\\t및\\t전망,\\t2024,\\t한국수출입은행\\n•\\t\\t생성형\\tAI\\t열풍으로\\t성큼\\t다가온\\t온디바이스\\tAI,\\t2024,\\tLG경영연구원\\n•\\t\\t저전력\\t온디바이스\\t비전\\tSW\\t프레임워크\\t기술\\t동향,\\t2021,\\t한국전자통신기술연구원\\n•\\t\\tAI·디지털\\t혁신성장\\t전략(요약),\\t2024,\\t과학기술정보통신부(관계부처\\t합동)\\n•\\t\\t온디바이스\\tAI\\t시장\\t규모,\\t2023,\\t마켓츠앤마켓츠 ·파이낸셜뉴스\\n•\\t\\t생성형\\tAI\\t스마트폰\\t시장\\t규모,\\t2023,\\t카운터포인트리서치\\n•\\t\\t생성형\\tAI\\t시장\\t규모,\\t2023,\\t블룸버그인텔리전스\\n•\\t\\tLarge\\tLanguage\\tModel\\tCost\\tAnalysis,\\t2023,\\t세미에널리시스\\n•\\t\\tGlobal\\tM&A\\tIndustry\\tTrends\\t:\\t2024\\tOutlook,\\t2024,\\t삼일PwC경영연구원\\n•\\t\\t빅테크\\t기업\\t‘AI ·반도체\\t인재\\t쟁탈전’,\\t2024,\\t조선일보\\n•\\t\\t글로벌\\t빅테크\\tAI\\t연구원\\t초봉,\\t2024,\\t한국경제 ·로라\\n•\\t\\t글로벌\\tAI\\t인재보고,\\t2024,\\t한국일보·엘리먼트AI\\n•\\t\\t정보화통계조사,\\t2022,\\t한국지능정보사회진흥원\\n•\\t\\tAI에\\t대한\\t기업체\\t인식\\t및\\t실태조사,\\t2021,\\t한국개발연구원참고문헌\\n25   2024.06  제6호'),\n",
              " Document(metadata={'source': '온디바이스 AI 기술동향 및 발전방향.pdf', 'page': 25}, page_content='KEA NOW\\nKEA 주요 소식을 한눈에\\n   2024.06  제6호'),\n",
              " Document(metadata={'source': '온디바이스 AI 기술동향 및 발전방향.pdf', 'page': 26}, page_content='KEA NOW\\n27KEA,\\nKTC와 업무협약 체결KEA,\\n전자제조 스타트업 육성 \\n한국전자정보통신산업진흥회(KEA)는\\t6월\\t5일 \\t\\n한국기계전기전자시험연구원(KTC)와\\t가전·전자기업을 \\t\\n포함한\\tICT유망기업의\\t공동\\t발굴\\t및\\t지원프로그램 \\t\\n협력강화를\\t위한\\t업무협약을\\t체결하였다. \\t\\n양\\t기관은\\t이번\\t협약을\\t통해\\t△ICT유망기업\\t육성을 \\t\\n위한\\t협력\\t네트워크\\t구축\\t△스마트가전,\\tIoT사이버보안, \\t\\n인공지능,\\t소프트웨어,\\t5G/6G\\t등\\t분야의\\t시험·인증 \\t\\n컨설팅\\t지원\\t△KEA\\t전자혁신제조\\t지원센터, \\t\\nXR실증센터,\\t빅데이터센터의\\t기업지원\\t프로그램을 \\t\\n공동\\t활용하여\\t미래\\t유망기업의\\t혁신성장을\\t지원한다.\\n특히,\\tIoT보안인증에\\t대응하여\\t수출기업이\\t심각한 \\t\\n애로에\\t직면하지\\t않도록\\t사이버보안\\t관련\\t해외인증 \\t\\n정보와\\t컨설팅을\\t제공한다.\\n이번\\t협약은\\t양\\t기관의\\t협업\\t네트워크를\\t기반으로 \\t\\nICT유망기업의\\t제품·서비스\\t개발부터\\t시험·인증\\t및 \\t\\n제품\\t출시까지\\t수요자\\t중심의\\t끊김없는(Seamless) \\t\\n지원체계를\\t구축하는데\\t의미가\\t크다.\\n양\\t기관은\\t업무협약의\\t첫\\t행사로\\t6월\\t27일,\\t상암동 \\t\\n전자회관에서\\t가전·전자기업을\\t위한\\t‘해외\\tIoT사이버\\n보안\\t컨퍼런스’를\\t개최할\\t예정이다.\\n박청원\\tKEA\\t부회장은\\t“이번\\t협약이\\tICT유망기업의 \\t\\n혁신성장을\\t위한\\t지원기관\\t간\\t협력을\\t강화하는데\\t의미가 \\t\\n크다며,\\tKEA는\\t전자·IT산업\\t진흥기관으로써\\t수요자 \\t\\n중심의\\t기업지원플랫폼이\\t되도록\\t유관기관과\\t협력을 \\t\\n지속해\\t나가겠다.”고\\t밝혔다.한국전자정보통신산업진흥회(KEA)는 \\t6월\\t9일\\t아프리카\\t\\n케냐\\t콘자개발청(KoTDA) \\t관계자들이 \\t서울\\t용산에\\t위치한\\t\\n전자제조센터를 \\t방문,\\t전자제조\\t스타트업\\t육성\\t모델을\\t\\n벤치마킹하고\\t 교류\\t방안을\\t논의했다고\\t 밝혔다.\\t\\nKEA\\t전자제조센터는 \\t도심형\\t제조시설로,\\t 연간\\t\\n200여종\\t전자제품\\t 생산을\\t지원한다. \\t40여종\\t전문장비 \\t\\n시설을\\t갖추고\\t있어\\t스타트업이 \\t어려움을\\t느끼는\\t시제품\\t\\n설계와\\t생산\\t지원에\\t특화돼\\t있다.\\tKEA\\t기술진이\\t전자분야\\t\\n제품\\t개발부터\\t생산,\\t홍보,\\t전시\\t과정을\\t지원한다.\\n케냐\\t정부는\\t국민\\t삶의\\t질\\t향상과\\t산업화\\t지원으로\\t\\n중산층\\t국가로\\t거듭나기\\t위한\\t비전\\t2030을\\t추진하고\\t\\n있다.\\t이의\\t일환으로\\tKoTDA는\\t수도\\t나이로비에서 \\t60㎞\\t\\n떨어진\\t지역에\\t스마트시티를\\t 꾸리고\\t첨단기술\\t스타트업을\\t\\n육성하기\\t위한\\t생태계를\\t조성하는\\t‘콘자\\t테크노폴리스 ’ \\n프로젝트를\\t 추진하고\\t있다.\\t첨단기술과 \\t제조·연구시설을\\t\\n갖춰\\t아프리카의 \\t기술\\t허브로\\t발전시키는 \\t것이\\t목표다.\\n전자제조센터에는 \\tKoTDA\\t위원회\\t이사장과\\t부청장이\\t\\n방문하여\\t케냐\\t콘자의\\t도시\\t모델에\\t반영하기\\t위해\\t한국의\\t\\n선진\\t전자산업\\t시설과\\t산업\\t생태계를\\t둘러봤다.\\nKEA는\\t전자제조센터의\\t 국내\\t혁신제품\\t전초기지\\t역할,\\t\\n지원\\t프로그램,\\t한국\\t스타트업\\t생태계\\t구조를\\t설명했다.\\t\\n내부\\t시설을\\t소개하고,\\t지원한\\t주요\\t스타트업\\t제품을\\t\\n소개했다.\\tKoTDA는\\t콘자\\t테크노폴리스 \\t사업\\t내\\t\\n과학기술원과 \\tICT\\t스타트업\\t육성에\\tKEA\\t전자제조센터\\t\\n모델을\\t반영할\\t방침이다.\\n박청원\\tKEA\\t부회장은\\t“케냐와\\t유기적\\t파트너십\\t구축을\\t\\n기대한다”며 \\t“KEA\\t지원\\t모델이\\t개발도상국을\\t 포함해\\t\\n세계적으로\\t 확산되도록\\t 노력하고\\t스타트업의 \\t전자제품\\t\\n전시와\\t홍보에도\\t협력하겠다”고 \\t밝혔다.\\n1 2KEA 주요 소식을 한눈에\\n   2024.06  제6호\\nDIGISIGHT MEMBER NEWS KEA NOW STATS ESG TREND'),\n",
              " Document(metadata={'source': '온디바이스 AI 기술동향 및 발전방향.pdf', 'page': 27}, page_content='KEA NOW\\n28KEA 주요 소식을 한눈에\\n   2024.06  제6호3\\n한국전자정보통신산업진흥회(KEA)는\\t6월\\t11일 \\t\\n양재\\t엘타워에서\\t ‘2024년도\\t제1차\\t전자정보분야 \\t\\n해외기술규제\\t설명회 ’를\\t개최했다.\\n최근\\t산업계\\t전반에서는\\t생성형AI·머신러닝\\t등의 \\t\\n기술개발\\t과정에서\\t투명성을\\t강화해\\t자국\\t산업을 \\t\\n보호하고,\\t제품의\\t생애주기\\t정보\\t등을\\t공개해\\t공급망을 \\t\\n관리하고\\t있다.\\n‘전자정보분야\\t해외기술규제\\t설명회 ’는\\t이\\t같은 \\t\\n추세를\\t반영해\\tAI,\\t사이버보안,\\t화학물질\\t등\\t전자정보 \\t\\n분야의\\t주요\\t해외\\t기술규제에\\t대한\\t산·학·연의\\t대응력 \\t\\n강화를\\t위해\\t개최했다.\\n이번\\t설명회는\\t▲AI\\t사이버\\t시큐리티\\t기술동향\\t및 \\t\\n대응방안\\t▲EU\\t사이버복원력법(CRA)\\t규제동향\\t및 \\t\\n대응방안\\t▲EU\\tDPP\\t규제동향\\t및\\t대응방안 \\t\\n▲분석장비를\\t활용한\\t과불화화합물(PFAS)\\t규제 \\t\\n대응방안\\t순으로\\t발표를\\t진행했다.\\nKEA\\t박청원\\t부회장은\\t “오늘\\t설명회는\\t전자·IT업계 \\t\\n화두가\\t되는\\t해외기술규제\\t대응력\\t강화를\\t위한\\t설명회\\n로서\\t우리나라\\t전자·IT기업들이\\t중대한\\t해외기술규제에 \\t\\n선제적으로\\t대응하는데\\t도움이\\t될\\t중요한\\t자리라고 \\t\\n생각한다”며\\t “전자·IT업계에서\\t무역기술장벽을\\t넘기 \\t\\n위해\\t애쓰는\\t기업들이\\t지속적으로\\t성장해\\t나갈\\t수 \\t\\n있도록\\t적극\\t노력하겠다”고\\t말했다.KEA,\\n전자정보분야 해외기술규제 \\n설명회 개최\\n4\\n한국전자정보통신산업진흥회(KEA)는\\t6월\\t12일과 \\t\\n13일\\t양일간\\t영덕군과\\t의성군에서\\t가전제품\\t무상점검과 \\t\\n건강진단\\t기반\\t의료기기\\t체험\\t행사를\\t실시했다.\\n행사에는\\t삼성전자,\\t세라젬,\\tLG전자,\\t오텍캐리어, \\t\\n쿠쿠전자,\\t쿠첸,\\t휴롬엘에스,\\t경동나비엔,\\t귀뚜라미가 \\t\\n참여했다.\\t\\n전자기업은\\t휴대폰\\t서비스\\t차량과\\t실내\\t행사장에\\t부스를 \\t\\n설치하고\\t농어민,\\t고령자,\\t다문화가정\\t등\\t취약계층 \\t\\n소비자의\\t노트북,\\t밥솥,\\t청소기,\\t공기청정기\\t등\\t소형가전\\n제품\\t무상수리와\\t의료기기\\t체험을\\t제공했다.\\t노인복지관, \\t\\n보육원,\\t장애인복지관\\t등\\t사회배려시설을\\t사전\\t방문해 \\t\\n보일러와\\t대형가전\\t제품을\\t점검·수리했다.\\n행사와\\t연계해\\t어르신\\t장수사진\\t촬영,\\t취약계층 \\t\\n소비자의\\t피해\\t예방\\t교육과\\t자산관리\\t상담,\\t고령자\\t대상 \\t\\n건강상태\\t진단과\\t의료기기\\t체험\\t행사도\\t실시했다. \\t\\n마을\\t단위로\\t수집한\\t소형폐가전도\\t회수했다.\\n본\\t행사는\\t한국소비자원과\\t경상북도\\t영덕군, \\t\\n의성군\\t등\\t지자체가\\t공동으로\\t주관하였으며, \\t\\n한국전자정보통신산업진흥회,\\t기업소비자전문가협회, \\t\\n한국자동차모빌리티산업협회,\\t한국석유관리원, \\t\\n한국주택금융공사,\\tLG생활건강\\t등이\\t참여하여\\t행사를 \\t\\n지원하였다.KEA,\\n영덕·의성에서 \\n가전제품 무상점검 행사\\nDIGISIGHT MEMBER NEWS KEA NOW STATS ESG TREND'),\n",
              " Document(metadata={'source': '온디바이스 AI 기술동향 및 발전방향.pdf', 'page': 28}, page_content='MEMBER NEWS\\n KEA 회원사의 성과와 동향\\n   2024.06  제6호'),\n",
              " Document(metadata={'source': '온디바이스 AI 기술동향 및 발전방향.pdf', 'page': 29}, page_content='MEMBER NEWS\\n30세라젬,\\n헬스케어 도전 및 \\n매출 3조 목표디지윌, \\n양방향 AI 최첨단 교육 시스템 \\n‘클래스 아이 ’ 출시\\n국내\\t안마의자\\t1위\\t기업인\\t세라젬의 \\t\\n이경수\\t대표는\\t한국경제신문과의\\t인터뷰에서 \\t\\n“7대\\t사업부문으로\\t영역을\\t확장해 \\t\\n글로벌\\t종합\\t헬스케어\\t회사로\\t발돋움하겠다”\\n며\\t이같이\\t말했다.\\t2022년\\t7501억원이던 \\t\\n회사\\t매출을\\t2028년까지\\t3조원으로 \\t\\n끌어올리겠다는\\t포부도\\t밝혔다.\\n이어\\t“아직\\t공개하지\\t않은\\t제품이\\t계속\\t연달아 \\t\\n출시될\\t것”이라며\\t“세븐케어라고\\t이름\\t붙인 \\t\\n우리\\t7개\\t사업군을\\t국내뿐\\t아니라\\t해외에서도 \\t\\n체험할\\t수\\t있도록\\t5년\\t안에\\t전\\t세계\\t1만\\t개 \\t\\n오프라인\\t점포를\\t여는\\t게\\t목표”라고\\t말했다. \\t\\n세라젬은\\t아시아,\\t미주뿐\\t아니라\\t유럽, \\t\\n아프리카,\\t중동\\t등\\t70여\\t개국에\\t진출해\\t있다.\\n올해\\t새로\\t나올\\t제품은\\t혈액\\t순환을\\t돕는 \\t\\n의료기기,\\t공기청정기,\\t맞춤형\\t영양제, \\t\\n우울증\\t치료기,\\t불면증\\t치료기\\t등이\\t있다. \\t\\n최근\\t출시한\\t파우제\\tM6는\\t척추\\t스캔\\t기술, \\t\\n온열\\t기능을\\t담은\\t실리콘\\t볼,\\t팔다리\\t안마\\t기능\\t\\n등을\\t다\\t담았다.최근\\t㈜디지윌(대표\\t홍석환)이\\tAI\\t기반 \\t\\n실시간\\t양방향\\t공유\\t에듀테크\\t시스템 \\t\\n‘클래스\\t아이(Class\\tinteraction)’를\\t출시해 \\t\\n주목을\\t받고\\t있다.\\t이번에\\t출시된\\t‘클래스 \\t\\n아이’는\\t수업\\t모듬형\\t조별\\t학습장치,\\t콘텐츠·\\n학습관리\\t시스템(LMS),\\tAI학습분석\\t솔루션, \\t\\n멀티미디어\\t학습장치(미디어\\t허브)\\t등\\t하나로 \\t\\n통합\\t관리가\\t가능한\\t시스템이다.\\n현재\\t전남교육청과\\t협력해\\t여수와\\t목포에 \\t\\n사전\\t시범\\t운영하고\\t있으며,\\t오는\\t29일 \\t\\n여수세계박람회장에서\\t‘2024\\t대한민국\\t글로컬\\n미래교육박람회’에서\\t미래교실을\\t시연할 \\t\\n예정이다.\\n홍석환\\t디지윌\\t대표이사는\\t “지속\\t가능한 \\t\\n성장과\\t사회적\\t책임\\t달성을\\t위해\\t고객\\t요구에 \\t\\n적극\\t대응하며\\t기술\\t혁신에\\t중점을\\t두고\\t있다”\\n며\\t“회사가\\t추구하는\\t미래\\t가치를\\t바탕으로 \\t\\n지속적인\\t연구개발을\\t통해\\t급변하는\\t디지털 \\t\\n시대에\\t발맞춰\\t나가겠다”고\\t밝혔다.1 2 KEA 회원사의 성과와 동향\\n   2024.06  제6호*기사를\\t클릭하면\\t보다\\t자세한\\t내용을\\t확인하실\\t수\\t있습니다. \\t\\nDIGISIGHT MEMBER NEWS KEA NOW STATS ESG TREND'),\n",
              " Document(metadata={'source': '온디바이스 AI 기술동향 및 발전방향.pdf', 'page': 30}, page_content='MEMBER NEWS\\n31삼영전자공업, \\n친환경 모빌리티 시장 \\n최적화 하이브리드 콘덴서 개발코맥스,  \\n대한적십자사 의료원에 \\n디지털 도어락 기부\\n알루미늄\\t전해콘덴서\\t전문생산업체 \\t\\n삼영전자는\\t일본케미콘과\\t기술협력을\\t통해 \\t\\n장수명\\t하이브리드\\t 콘덴서를\\t개발했다고\\t 밝혔다.\\n이번에\\t개발된\\tFPV/FPW/FRV시리즈는 \\t\\n고온도(125℃이상)\\t환경에서\\t전해콘덴서의 \\t\\n보증\\t수명을\\t해결하여\\tADAS첨단운전자\\n지원시스템,\\tHUD헤드업디스플레이, \\t\\nTelematics인터넷차량정보통신장치, \\t\\nIBU통합바디제어기\\t등\\t친환경\\t자동차\\t분야와 \\t\\n외부\\t노출로\\t큰\\t기온\\t변화를\\t견뎌야\\t하는 \\t\\n5G\\t통신용기지국\\t같은\\t고신뢰성이\\t필요한 \\t\\n특수\\t산업\\t시장에서\\t활용할\\t수\\t있다.\\n업체\\t관계자는\\t“이번\\t장수명\\t하이브리드 \\t\\n콘덴서\\t개발로\\t인해\\t전량\\t수입에만\\t의존했던 \\t\\n하이브리드\\t콘덴서의\\t국산화가\\t기능해졌다며 \\t\\n친환경\\t자동차시장의\\t성장과\\t더불어 \\t\\n하이브리드\\t콘덴서의\\t글로벌\\t시장\\t규모도 \\t\\n매년\\t30%\\t이상\\t성장하고\\t있어\\t향후에도 \\t\\n지속적인\\t투자와\\t연구개발로\\t신제품\\t개발을 \\t\\n이어나갈\\t것이다”고\\t말했다.스마트홈\\t전문기업\\t코맥스가\\t대한적십자사 \\t\\n의료원에\\t5000만원\\t상당의\\t스마트\\t디지털 \\t\\n도어락을\\t기부했다고\\t밝혔다.\\t이번\\t기부는 \\t\\n코맥스가\\t사회공헌활동의\\t일환으로\\t국민의 \\t\\n건강을\\t위해\\t노력하는\\t대한적십자사\\t의료원과 \\t\\n해당\\t시설을\\t이용하는\\t환우들에게\\t도움을\\t주기 \\t\\n위한\\t목적으로\\t진행됐다.\\n코맥스의\\t스마트\\t디지털\\t도어락은\\t카드, \\t\\n비밀번호\\t뿐\\t아니라\\t지문\\t인식,\\t얼굴\\t인식이 \\t\\n가능한\\t스마트\\t바이오\\t등\\t강력한\\t보안\\t기능들이 \\t\\n탑재돼\\t병원\\t내\\t안전과\\t보안을\\t크게\\t향상시킬 \\t\\n것으로\\t기대된다.\\t또\\t이를\\t통해\\t의료진과 \\t\\n환우의\\t편리한\\t생활이\\t보장되고\\t병원\\t운영의 \\t\\n효율성도\\t높아질\\t것으로\\t전망된다.\\n이기상\\t코맥스\\t전략기획부문장은\\t“불철주야 \\t\\n노고가\\t많은\\t의료진과\\t응원이\\t필요한\\t환우\\t및 \\t\\n가족들에게\\t작은\\t격려라도\\t해드리고\\t싶다”며 \\t\\n“이번\\t기부를\\t통해\\t새로운\\t인연을\\t맺고, \\t\\n지속적인\\t사회공헌활동으로\\t사회적\\t기업의 \\t\\n책임을\\t다하겠다”고\\t강조했다.3 4 KEA 회원사의 성과와 동향\\n   2024.06  제6호*기사를\\t클릭하면\\t보다\\t자세한\\t내용을\\t확인하실\\t수\\t있습니다. \\t\\nDIGISIGHT MEMBER NEWS KEA NOW STATS ESG TREND'),\n",
              " Document(metadata={'source': '온디바이스 AI 기술동향 및 발전방향.pdf', 'page': 31}, page_content='ESG TREND\\nESG Regulations 주요현황\\n   2024.06  제6호'),\n",
              " Document(metadata={'source': '온디바이스 AI 기술동향 및 발전방향.pdf', 'page': 32}, page_content='ESG TREND\\n33\\nDIGISIGHT MEMBER NEWS KEA NOW STATS\\n   2024.06  제6호ESG Regulations 주요현황\\n1 2\\n환경부(한국환경공단)는 \\t전기·전자제품\\t환경성보장제를  \\n전품목으로 \\t확대할\\t방침이며,\\t지난\\t5월\\t30일\\t전기전자\\t\\n업계\\t대상으로\\t확대\\t계획\\t설명회를\\t개최하였다.\\n환경성보장제는 \\t전기·전자제품의 \\t재활용을\\t촉진하기\\t\\n위해\\t제조·수입업자의 \\t유해물질\\t사용\\t억제,\\t재활용\\t정보의  \\n제공,\\t폐제품\\t회수 ·재활용\\t및\\t재질구조개선사항 \\t평가\\t등\\t\\n6대\\t의무를\\t부여하는\\t제도로서,\\t2008년\\t최초\\t도입\\t이래\\t\\n현재\\t50개\\t품목에\\t적용\\t중이다.\\n환경부는\\t시장\\t발전에\\t따라\\t다양해진\\t품목을\\t관리하고\\t\\n국가\\t회수 ·재활용\\t목표의\\t원활한\\t달성을\\t위해\\t환경성\\n보장제를\\t전품목으로 \\t확대할\\t예정이며,\\t의류건조기, \\t\\n의류관리기,\\t 전기레인지 \\t및\\t디지털카메라 \\t등\\t신규\\t품목에\\t\\n대해\\t2026년부터 \\t회수 ·재활용\\t의무를\\t적용하고\\t\\n2028년부터 \\t유해물질\\t사용제한도\\t 시행할\\t전망이다.\\n더\\t나아가\\t현재\\t49개\\t품목\\t대상\\t시행\\t중인\\t재질 ·구조\\n개선사항\\t평가제도의 \\t대상\\t품목도\\t장기적으로 \\t확대될\\t\\n것으로\\t예상된다.\\n환경부는\\t올\\t하반기\\t중\\t근거\\t법률인\\t전자제품등\\t\\n자원순환법 \\t개정안을\\t공개하고\\t12월까지\\t법률\\t개정을\\t\\n완료할\\t계획이며,\\tKEA는\\t향후\\t입법\\t동향을\\t모니터링하고\\t\\n전자업계의 \\t의견이\\t반영될\\t수\\t있도록\\t노력할\\t방침이다.우즈베키스탄으로 \\t수출되는\\t가전제품에 \\t대한\\t에너지\\n효율등급\\t시험기관의\\t 부족\\t및\\t운영\\t차질로\\t수출기업의\\t\\n인증서\\t발급\\t지연과\\t통관\\t애로가\\t우려된다.\\n우즈베키스탄 \\t정부는\\t올해\\t1월부터\\t에너지대책의 \\t\\n일환으로\\t에너지효율 \\tB등급\\t이하\\t가전제품의\\t\\n수입\\t금지\\t조치를\\t시행\\t중이며,\\t현재는\\t냉장고,\\t에어컨\\t\\n2개\\t품목에\\t적용\\t중이나\\t향후\\t대상\\t품목을\\t세탁기,\\t\\n청소기,\\tTV,\\t모니터,\\t전자레인지 \\t등\\t여러\\t품목으로\\t\\n확대할\\t계획이다.\\n우리나라\\t수출기업은 \\t통관\\t시\\t현지\\t시험기관이 \\t발급한\\t\\n에너지효율등급 \\t적합성\\t인증서(CoC)*를 \\t제출해야\\t하나,\\t\\n이용\\t가능한\\t시험기관이 \\t에어컨\\t2개소,\\t냉장고\\t1개소에\\t\\n불과할\\t뿐\\t아니라\\t일부\\t기관은\\t내부\\t사정으로\\tCoC\\t\\n발급\\t업무가\\t중단됨으로\\t 인해\\tCoC\\t발급\\t지연이 \\t\\n우려되는\\t실정이다.\\t나아가\\t대상\\t품목이\\t확대될\\t경우\\t\\n인증\\t수요를\\t더\\t해소하기\\t어려워질\\t전망이다.\\n*\\tCoC(Certificate \\tof\\tConformity)\\nKEA는\\t국가기술표준원(이하 \\t국표원)의\\t전자산업\\tTBT\\t\\n기술규제대응 \\t지원기관으로서 \\t업계와\\t대응방안을 \\t여러\\t\\n차례\\t논의하였으며, \\t국표원을\\t통해\\t대상\\t품목\\t추가\\t시\\t\\n인증서\\t발급기간을\\t 확보할\\t수\\t있도록\\t우즈베키스탄 \\t\\n정부에\\t충분한\\t유예기간\\t부여를\\t요청하였다.\\n’24년 내 환경성보장제 \\n전품목 확대 계획수입 가전제품 에너지효율등급 \\n인증서 발급 지연\\n출처\\t:\\t환경정책협의회 출처\\t:\\tKEA\\tTBT\\t사무국\\nESG\\tTrend\\t관련\\t문의사항은 \\tESG&글로벌협력실(02-6388-6186 \\t/\\tdaniel_eom@gokea.org)로 \\t문의\\t바랍니다.\\nESG TREND환경부 우즈베키스탄\\n*\\t이미지  출처\\t:\\t뉴스와이어'),\n",
              " Document(metadata={'source': '온디바이스 AI 기술동향 및 발전방향.pdf', 'page': 33}, page_content=' 데이터로 읽는 전자·IT 업황\\n   2024.06  제6호STATS'),\n",
              " Document(metadata={'source': '온디바이스 AI 기술동향 및 발전방향.pdf', 'page': 34}, page_content='35*\\t출처\\t:\\t과학기술정보통신부,\\tICT주요품목동향조사,\\tICT수출입통계 \\t구분 1월 2월 3월 4월 5월 6월 7월 8월 9월 10월 11월 12월 계\\n생\\n산2022 31.830.433.131.831.831.431.230.129.929.128.328.8367.8\\n2023 25.6\\t24.4\\t26.0\\t24.2\\t25.7\\t26.4\\t26.7\\t27.6\\t28.4\\t29.0\\t29.729.1322.9\\n2024 27.627.028.328.3\\n수\\n출2022 19.6\\t18.9\\t23.3\\t19.9\\t20.2\\t20.6\\t19.3\\t19.3\\t20.8\\t17.9\\t16.6\\t16.9\\t233.2\\t\\n2023 13.1\\t12.8\\t15.8\\t12.8\\t14.4\\t16.1\\t14.6\\t16.0\\t18.0\\t17.1\\t17.9\\t18.2\\t186.7\\n2024 16.416.518.817.119.1(단위:\\t조원\\t/\\t십억불)감소 증가1. 전자·IT 제조업 생산, 수출\\n•   (생산)  ’22년\\t6월부터\\t17개월간\\t 전년동월대비\\t 감소세를\\t지속해오다\\t ’23년\\t11월부터\\t 증가세로\\t전환됐으며 \\t\\n’24년\\t4월\\t생산은\\t전년동월대비\\t16.8%\\t증가한\\t28.3조원\\n•   (수출) ’22년\\t7월부터\\t16개월간\\t 전년동월대비\\t 감소세를\\t지속해오다\\t ‘23년\\t11월부터\\t 증가세로\\t전환됐으며 \\t\\n’24년\\t5월\\t수출은\\t전년동월대비\\t31.8%\\t증가한\\t19.1억불 데이터로 읽는 전자·IT 업황\\n   2024.06  제6호STATS\\nDIGISIGHT MEMBER NEWS KEA NOW STATS ESG TREND\\n’21.1월 ’21.6월 ’22.1월 ’23.1월 ’22.6월5.0 20.010.025.030.025.0\\n20.0\\n15.035.0\\n생산\\n수출\\n19.1\\n17.1\\n28.328.3'),\n",
              " Document(metadata={'source': '온디바이스 AI 기술동향 및 발전방향.pdf', 'page': 35}, page_content='36*\\t출처\\t:\\t과학기술정보통신부,\\tICT기업경기조사\\n※\\t제품재고,\\t생산설비,\\t고용수준\\tBSI는\\t일반적으로\\t경기상승기에는\\t하락하고,\\t경기하강기에는\\t상승하는\\t역계열구분 1월 2월 3월 4월 5월 6월 7월 8월 9월 10월 11월 12월\\n실적\\nBSI2022 86 84 83 91107 108 107 103 95106 98 99\\n2023 101 100 107 103 98 95 96 97 95 96 95100\\n2024 99 98 93102 98\\n전망\\nBSI2022 99103 102 102 111 105 103 105 104 101 105 101\\n2023 101 100 103 104 100 99 97 98 95 98 96 98\\n2024 99101 99 98 97102(100\\t기준\\t+\\t:\\t호조,\\t-\\t:\\t악화) \\t 악화 호조\\n’22.1월 ’22.6월 ’23.1월 ’23.6월 ’24.1월80100120\\n전망BSI실적BSI2. 전자·IT 기업경기실사지수(BSI)\\n•   (실적BSI)  ’24년\\t5월\\t실적\\tBSI는\\t98로\\t전월대비\\t악화\\n-\\t\\t부분별로\\t설비투자실행(101)은\\t 전월대비\\t개선\\t됐으나,\\t생산설비(100)는\\t 전월과\\t동일,\\t자금사정(97), \\t\\n고용수준(104),\\t제품재고(102),\\t생산설비(101)는\\t전월대비\\t악화\\n•   (전망BSI)  ’24년\\t6월\\t전자·IT\\t전망\\tBSI는\\t102로\\t5월\\t대비\\t개선\\t전망\\n-  부분별로\\t설비투자실행(102)은\\t 전월대비\\t개선을\\t기대하나,\\t 자금사정(100)은\\t 5월과\\t동일,\\t제품재고(106), \\t\\n고용수준(104),\\t생산설비(102)는\\t부정적으로\\t전망 데이터로 읽는 전자·IT 업황\\n   2024.06  제6호STATS\\nDIGISIGHT MEMBER NEWS KEA NOW STATS ESG TREND\\n97102 102\\n98'),\n",
              " Document(metadata={'source': '온디바이스 AI 기술동향 및 발전방향.pdf', 'page': 36}, page_content='•   (생산)  ’22년\\t7월부터\\t13개월간\\t전년동월대비\\t감소세\\t지속해오다\\t ’23년\\t8월부터\\t증가세로\\t전환됐으며\\n   ’24년\\t4월은\\t전년동월대비\\t18.7%\\t증가 \\t\\n•   (출하)  ’22년\\t11월부터\\t7개월간\\t전년동월대비\\t감소세\\t지속해오다\\t ’23년\\t6월부터\\t증가세로\\t전환됐으며\\n   ’24년\\t4월은\\t전년동월대비\\t16.4%\\t증가 \\t\\n•   (재고)  ’22년,\\t’23년간\\t재고\\t부담\\t지속되었으나,\\t ’24년\\t1월부터\\t감소세로\\t전환됐으며\\t ’24년\\t4월은\\n\\t\\t\\t전년동월대비\\t19.0%\\t감소\\n•   (가동률)  ’22년\\t7월부터\\t13개월간\\t전년동월대비\\t감소세\\t지속해오다\\t ’23년\\t8월부터\\t증가세로\\t전환됐으며\\n   ’24년\\t4월은\\t전년동월대비\\t10.1%\\t증가\\n37*\\t출처\\t:\\t통계청,\\t광업제조업동향조사(원지수),\\t전자·IT\\t제조를\\tKSIC\\t26(전자부품,\\t컴퓨터,\\t영상\\t및\\t통신장비\\t제조업)\\t한정구분 1월 2월 3월 4월 5월 6월 7월 8월 9월 10월 11월 12월 계\\n생산\\n지수2022127.5122.0140.2127.3129.4132.1120.8112.4114.7114.7106.6103.6120.9\\n2023 89.180.7106.9 99.1109.7114.7106.0124.2138.4127.6134.8138.2114.1\\n2024117.6117.6131.1117.6\\n출하\\n지수2022105.0105.9127.2105.2115.2114.3 88.998.0125.8110.3 95.5103.6107.9\\n2023 78.678.2114.6 83.697.6131.9 91.0108.8147.3113.2122.4149.1109.7\\n2024103.2105.9124.2 97.3\\n재고\\n지수2022124.0130.5111.2118.0119.6120.0142.0138.5117.5131.0142.9132.7132.7\\n2023164.6165.1148.9180.7187.0153.1179.2198.9169.0170.9177.6136.8136.8\\n2024137.5149.3133.0146.3\\n가동률\\n지수2022106.6100.6115.0104.0104.2105.9 99.091.992.592.386.585.598.7\\n2023 74.766.387.381.487.491.986.599.2103.4 97.3102.5 99.689.8\\n2024 89.589.598.489.6(2020=100)감소 증가3. 전자·IT 제조업 생산, 출하, 재고, 가동률 동향 데이터로 읽는 전자·IT 업황\\n   2024.06  제6호STATS\\nDIGISIGHT MEMBER NEWS KEA NOW STATS ESG TREND\\n’22.1월 ’22.6월 ’23.1월 ’24.1월 ’23.6월50100200\\n150250\\n생산\\n가동률출하\\n재고\\n146.3\\n97.3\\n89.6117.6'),\n",
              " Document(metadata={'source': '온디바이스 AI 기술동향 및 발전방향.pdf', 'page': 37}, page_content='KEA Issue Report\\n온디바이스 AI 기술동향 및 발전방향\\n발행처 한국전자정보통신산업진흥회(KEA)\\n발행일\\t 2024년\\t6월\\n발행인\\t 박청원\\tKEA\\t부회장\\n작        성\\t KEA\\t산업정책실\\n제        작 디.두잇\\n문의처\\t KEA\\t산업정책실\\n\\t (02-6388-6170~6177,\\tghahn@gokea.org)\\n홈페이지\\t www.gokea.org\\n본\\t보고서\\t저작권은\\t 한국전자정보통신산업진흥회 에\\t있습니다. \\t\\n내용을\\t인용\\t또는\\t전재하고자\\t할\\t경우\\t반드시\\t출처를\\t명기하여\\t주시기\\t바라며,\\n무단전제와\\t무단복제를\\t금합니다.'),\n",
              " Document(metadata={'source': '온디바이스 AI 기술동향 및 발전방향.pdf', 'page': 38}, page_content='2024-06호\\n* 표지 이미지는 ChatGPT 4.0으로 제작하였습니다')]"
            ]
          },
          "execution_count": 82,
          "metadata": {},
          "output_type": "execute_result"
        }
      ],
      "source": [
        "# 문서 로드\n",
        "await adocs"
      ]
    },
    {
      "cell_type": "markdown",
      "metadata": {
        "id": "sPXrVYmrPOVP"
      },
      "source": [
        "- 비동기 방식으로 로드한 문서를 가져오는 과정을 실습합니다. 이는 효율적인 문서 처리를 위한 비동기 작업의 활용 방법을 보여줍니다."
      ]
    },
    {
      "cell_type": "markdown",
      "metadata": {
        "id": "AEgVUwZ7POVP"
      },
      "source": [
        "## 08-053 문서 분할 및 첫 번째 문서 확인\n",
        "- 이 실습에서는 CharacterTextSplitter를 사용하여 로드한 문서를 지정된 크기(200자)로 분할합니다. chunk_overlap을 0으로 설정하여 겹치지 않는 문서 조각을 생성합니다. 문서 분할 후, 로드된 문서의 수를 확인하고 첫 번째 문서의 내용을 출력합니다."
      ]
    },
    {
      "cell_type": "code",
      "execution_count": null,
      "metadata": {
        "colab": {
          "base_uri": "https://localhost:8080/"
        },
        "id": "ngQmZGLhPOVP",
        "outputId": "630e194a-06ca-47da-bc4f-77b4b2a9a2ed"
      },
      "outputs": [
        {
          "name": "stdout",
          "output_type": "stream",
          "text": [
            "39\n"
          ]
        },
        {
          "data": {
            "text/plain": [
              "Document(metadata={'source': '온디바이스 AI 기술동향 및 발전방향.pdf', 'page': 0}, page_content='온디바이스 AI \\n기술동향 및 발전방향ISSUE \\nREPORT \\n2024-06호')"
            ]
          },
          "execution_count": 85,
          "metadata": {},
          "output_type": "execute_result"
        }
      ],
      "source": [
        "from langchain.text_splitter import CharacterTextSplitter\n",
        "\n",
        "# 문자열 분할기 설정\n",
        "text_splitter = CharacterTextSplitter(chunk_size=200, chunk_overlap=0)\n",
        "# 문서 분할\n",
        "docs = loader.load_and_split(text_splitter=text_splitter)\n",
        "\n",
        "# 로드된 문서의 수 확인\n",
        "print(len(docs))\n",
        "# 첫번째 문서 확인\n",
        "docs[0]"
      ]
    },
    {
      "cell_type": "markdown",
      "metadata": {
        "id": "WwJydMxOPOVP"
      },
      "source": [
        "- 문서를 특정 크기로 분할하는 과정을 실습합니다. 이는 대량의 텍스트 데이터를 효율적으로 처리하는 방법을 보여줍니다."
      ]
    },
    {
      "cell_type": "markdown",
      "metadata": {
        "id": "P_3QyNbfPOVP"
      },
      "source": [
        "## 08-054 PDF 로더 초기화 및 페이지 내용 확인\n",
        "- 이 실습에서는 rapidocr-onnxruntime 라이브러리를 설치하고, PyPDFLoader를 초기화하여 이미지 추출 옵션을 활성화합니다. 이후 PDF 페이지를 로드하고, 특정 페이지(5페이지)의 내용을 출력하여 확인합니다."
      ]
    },
    {
      "cell_type": "code",
      "execution_count": null,
      "metadata": {
        "id": "jB340nONad_k"
      },
      "outputs": [],
      "source": [
        "%%capture\n",
        "# 설치\n",
        "!pip install -qU rapidocr-onnxruntime"
      ]
    },
    {
      "cell_type": "code",
      "execution_count": null,
      "metadata": {
        "colab": {
          "base_uri": "https://localhost:8080/"
        },
        "id": "NT6tuqyGPOVP",
        "outputId": "b0bb62c5-125c-4d22-bdaf-bd5c305e1cf6"
      },
      "outputs": [
        {
          "name": "stdout",
          "output_type": "stream",
          "text": [
            "\u001b[2K   \u001b[90m━━━━━━━━━━━━━━━━━━━━━━━━━━━━━━━━━━━━━━━━\u001b[0m \u001b[32m14.9/14.9 MB\u001b[0m \u001b[31m49.1 MB/s\u001b[0m eta \u001b[36m0:00:00\u001b[0m\n",
            "\u001b[2K   \u001b[90m━━━━━━━━━━━━━━━━━━━━━━━━━━━━━━━━━━━━━━━━\u001b[0m \u001b[32m13.2/13.2 MB\u001b[0m \u001b[31m48.0 MB/s\u001b[0m eta \u001b[36m0:00:00\u001b[0m\n",
            "\u001b[2K   \u001b[90m━━━━━━━━━━━━━━━━━━━━━━━━━━━━━━━━━━━━━━━━\u001b[0m \u001b[32m912.2/912.2 kB\u001b[0m \u001b[31m20.0 MB/s\u001b[0m eta \u001b[36m0:00:00\u001b[0m\n",
            "\u001b[2K   \u001b[90m━━━━━━━━━━━━━━━━━━━━━━━━━━━━━━━━━━━━━━━━\u001b[0m \u001b[32m46.0/46.0 kB\u001b[0m \u001b[31m1.9 MB/s\u001b[0m eta \u001b[36m0:00:00\u001b[0m\n",
            "\u001b[2K   \u001b[90m━━━━━━━━━━━━━━━━━━━━━━━━━━━━━━━━━━━━━━━━\u001b[0m \u001b[32m86.8/86.8 kB\u001b[0m \u001b[31m4.0 MB/s\u001b[0m eta \u001b[36m0:00:00\u001b[0m\n",
            "\u001b[?25houtput values. These are concatenated and once again projected, resulting in the final values, as\n",
            "depicted in Figure 2.\n",
            "Multi-head attention allows the model to jointly attend to information from different representation\n",
            "subspaces at different positions. With a single attention head, averaging inhib\n"
          ]
        }
      ],
      "source": [
        "# PDF 로더 초기화, 이미지 추출 옵션 활성화\n",
        "loader = PyPDFLoader(\"https://arxiv.org/pdf/1706.03762.pdf\", extract_images=True)\n",
        "\n",
        "# PDF 페이지 로드\n",
        "docs = loader.load()\n",
        "\n",
        "# 페이지 내용 접근\n",
        "print(docs[3].page_content)"
      ]
    },
    {
      "cell_type": "markdown",
      "metadata": {
        "id": "jZHuJfiHPOVP"
      },
      "source": [
        "- PDF 로더를 초기화하고 페이지 내용을 확인하는 과정을 실습합니다. 이는 PDF 문서에서 텍스트 및 이미지를 추출하는 방법을 보여줍니다."
      ]
    },
    {
      "cell_type": "markdown",
      "metadata": {
        "id": "x6tmfivKPOVP"
      },
      "source": [
        "## 08-055 PyMuPDF 로더 초기화 및 문서 내용 확인\n",
        "- 이 실습에서는 pymupdf 라이브러리를 설치하고, PyMuPDFLoader를 사용하여 PDF 파일을 로드합니다. 이후 특정 페이지(11페이지)의 내용을 출력하여 문서의 내용을 확인합니다."
      ]
    },
    {
      "cell_type": "code",
      "execution_count": null,
      "metadata": {
        "id": "fyAlGnLebF6_"
      },
      "outputs": [],
      "source": [
        "%%capture\n",
        "# 설치\n",
        "!pip install -qU pymupdf"
      ]
    },
    {
      "cell_type": "code",
      "execution_count": null,
      "metadata": {
        "colab": {
          "base_uri": "https://localhost:8080/"
        },
        "id": "5E8vlA58POVP",
        "outputId": "a1f82f75-8374-478d-f784-d44effa3927c"
      },
      "outputs": [
        {
          "name": "stdout",
          "output_type": "stream",
          "text": [
            "\u001b[2K   \u001b[90m━━━━━━━━━━━━━━━━━━━━━━━━━━━━━━━━━━━━━━━━\u001b[0m \u001b[32m19.6/19.6 MB\u001b[0m \u001b[31m40.9 MB/s\u001b[0m eta \u001b[36m0:00:00\u001b[0m\n",
            "\u001b[?25h11\n",
            "   2024.06  제6호\n",
            "DIGISIGHT\n",
            "온디바이스 AI 기술동향 및 발전방향\n",
            "DIGISIGHT\n",
            "ESG TREND\n",
            "MEMBER NEWS\n",
            "KEA NOW\n",
            "STATS\n",
            "3 국가별 정책\n",
            "◎ \u0007자사 AI 칩 기반의 생태계 구축을 위해 데이터·AI 모델·추론기술·SDK*를 아우르는 전방위적 기술 지원\n",
            "     * \u0007소프트웨어를 개발하는 도구로 소프트웨어 개발자가 특정 운영체제용 응용프로그램을 만들 수 있는 소스와 도구 패키지\n",
            "◎ \u0007(애플) 자사의 하드웨어 환경에서 애플의 뉴럴 엔진을 활용하여 온디바이스 AI를 수행할 수 있도록 Cor\n"
          ]
        }
      ],
      "source": [
        "from langchain_community.document_loaders import PyMuPDFLoader\n",
        "\n",
        "# PyMuPDF 로더 인스턴스 생성\n",
        "loader = PyMuPDFLoader(FILE_PATH)\n",
        "\n",
        "# 문서 로드\n",
        "docs = loader.load()\n",
        "\n",
        "# 문서의 내용 출력\n",
        "print(docs[10].page_content[:300])"
      ]
    },
    {
      "cell_type": "markdown",
      "metadata": {
        "id": "YJaKuz8kPOVQ"
      },
      "source": [
        "- PyMuPDF 로더를 사용하여 PDF 문서를 로드하고 특정 페이지의 내용을 확인하는 과정을 실습합니다. 이는 PDF 문서의 내용 추출을 보여줍니다."
      ]
    },
    {
      "cell_type": "markdown",
      "metadata": {
        "id": "ftKRAu2APOVQ"
      },
      "source": [
        "## 08-056 OpenAI 임베딩 생성 및 쿼리 결과 확인\n",
        "- 이 실습에서는 OpenAIEmbeddings를 사용하여 주어진 텍스트에 대한 임베딩을 생성합니다. 'text-embedding-3-small' 모델을 사용하며, 생성된 임베딩의 일부를 출력하여 결과를 확인합니다."
      ]
    },
    {
      "cell_type": "code",
      "execution_count": null,
      "metadata": {
        "colab": {
          "base_uri": "https://localhost:8080/"
        },
        "id": "4FDrKZBhPOVQ",
        "outputId": "5d96801a-4c9c-4ec6-ebca-e3c2df529a3a"
      },
      "outputs": [
        {
          "data": {
            "text/plain": [
              "[-0.00776276458054781,\n",
              " 0.03680367395281792,\n",
              " 0.019545823335647583,\n",
              " -0.0196656696498394,\n",
              " 0.017203375697135925]"
            ]
          },
          "execution_count": 88,
          "metadata": {},
          "output_type": "execute_result"
        }
      ],
      "source": [
        "from langchain_openai import OpenAIEmbeddings\n",
        "\n",
        "# OpenAI의 \"text-embedding-3-large\" 모델을 사용하여 임베딩을 생성합니다.\n",
        "embeddings = OpenAIEmbeddings(model=\"text-embedding-3-small\")\n",
        "\n",
        "# 텍스트를 임베딩하여 쿼리 결과를 생성합니다.\n",
        "query_result = embeddings.embed_query(\"임베딩 테스트를 하기 위한 샘플 문장입니다.\")\n",
        "query_result[:5]"
      ]
    },
    {
      "cell_type": "markdown",
      "metadata": {
        "id": "rHy0EVVZPOVQ"
      },
      "source": [
        "- OpenAI 모델을 사용하여 텍스트 임베딩을 생성하고, 그 결과를 확인하는 과정을 실습합니다. 이는 텍스트 데이터를 벡터 형식으로 변환하는 방법을 보여줍니다."
      ]
    },
    {
      "cell_type": "markdown",
      "metadata": {
        "id": "dA6FFvEpPOVQ"
      },
      "source": [
        "## 08-057 여러 텍스트 일괄 임베딩 생성\n",
        "- 이 실습에서는 OpenAIEmbeddings를 사용하여 여러 텍스트에 대한 임베딩을 일괄 생성합니다. embed_documents() 메서드를 사용하여 주어진 문서 리스트에 대한 임베딩을 생성하고, 첫 번째 문서의 임베딩 벡터 길이를 확인합니다."
      ]
    },
    {
      "cell_type": "code",
      "execution_count": null,
      "metadata": {
        "colab": {
          "base_uri": "https://localhost:8080/"
        },
        "id": "Hs1TxpxePOVQ",
        "outputId": "9d258a88-c54f-4257-de7e-ec9455baca0c"
      },
      "outputs": [
        {
          "data": {
            "text/plain": [
              "1536"
            ]
          },
          "execution_count": 89,
          "metadata": {},
          "output_type": "execute_result"
        }
      ],
      "source": [
        "# 여러 텍스트를 일괄 임베딩하여 벡터를 생성합니다.\n",
        "doc_result = embeddings.embed_documents(\n",
        "    ['임베딩 테스트를 하기 위한 샘플 문장입니다.',\n",
        "     'AI Essential']\n",
        ")\n",
        "# 문서 결과의 첫 번째 요소의 길이를 반환합니다.\n",
        "len(doc_result[0])"
      ]
    },
    {
      "cell_type": "markdown",
      "metadata": {
        "id": "5fyRCMXBPOVQ"
      },
      "source": [
        "- 여러 텍스트를 일괄 임베딩하여 벡터를 생성하는 과정을 실습합니다. 이는 대량의 텍스트 데이터를 효율적으로 처리하는 방법을 보여줍니다."
      ]
    },
    {
      "cell_type": "markdown",
      "metadata": {
        "id": "3PyMvu48POVQ"
      },
      "source": [
        "## 08-058 캐시 지원 임베딩 생성\n",
        "- 이 실습에서는 OpenAI의 임베딩 모델을 사용하여 임베딩을 생성하고, 인메모리 스토어를 사용하여 캐시 지원 임베딩을 생성합니다. CacheBackedEmbeddings를 사용하여 메모리 내에 임베딩 데이터를 캐시하여 성능을 개선합니다."
      ]
    },
    {
      "cell_type": "code",
      "execution_count": null,
      "metadata": {
        "id": "i4ZuuuAKPOVQ"
      },
      "outputs": [],
      "source": [
        "from langchain.storage import InMemoryByteStore\n",
        "from langchain_openai import OpenAIEmbeddings\n",
        "from langchain.embeddings import CacheBackedEmbeddings\n",
        "\n",
        "# OpenAI의 \"text-embedding-3-large\" 모델을 사용하여 임베딩을 생성합니다.\n",
        "embeddings = OpenAIEmbeddings(model=\"text-embedding-3-small\")\n",
        "\n",
        "# 인메모리 스토어를 생성합니다.\n",
        "store = InMemoryByteStore()\n",
        "\n",
        "# 캐시를 지원하는 임베딩 생성\n",
        "cached_embeding = CacheBackedEmbeddings.from_bytes_store(\n",
        "    underlying_embeddings=embeddings,\n",
        "    document_embedding_cache=store,\n",
        "    namespace=embeddings.model,  # 기본 임베딩과 저장소를 사용하여 캐시 지원 임베딩을 생성\n",
        ")"
      ]
    },
    {
      "cell_type": "markdown",
      "metadata": {
        "id": "F9D5usUpPOVQ"
      },
      "source": [
        "- 캐시 지원 임베딩을 생성하는 과정을 실습합니다. 이는 임베딩 결과를 효율적으로 저장하고 재사용하는 방법을 보여줍니다."
      ]
    },
    {
      "cell_type": "markdown",
      "metadata": {
        "id": "yRvRYa1SPOVQ"
      },
      "source": [
        "## 08-059 캐시 지원 임베딩으로 쿼리 결과 생성\n",
        "- 이 실습에서는 캐시 지원 임베딩을 사용하여 특정 텍스트에 대한 임베딩을 생성합니다. embed_query 메서드를 통해 텍스트를 임베딩하고 결과를 출력하여 확인합니다."
      ]
    },
    {
      "cell_type": "code",
      "execution_count": null,
      "metadata": {
        "colab": {
          "base_uri": "https://localhost:8080/"
        },
        "id": "aa7JRfvrPOVQ",
        "outputId": "93f18d02-5f1b-4a1a-fb94-9614c957e47e"
      },
      "outputs": [
        {
          "data": {
            "text/plain": [
              "[-0.00776276458054781,\n",
              " 0.03680367395281792,\n",
              " 0.019545823335647583,\n",
              " -0.0196656696498394,\n",
              " 0.017203375697135925,\n",
              " -0.008378338068723679,\n",
              " -0.011592394672334194,\n",
              " 0.0007585718994960189,\n",
              " 0.028152959421277046,\n",
              " -0.04094381630420685,\n",
              " 0.013411877676844597,\n",
              " 0.055870115756988525,\n",
              " -0.002635254291817546,\n",
              " 0.020537279546260834,\n",
              " -0.012518479488790035,\n",
              " -0.036999788135290146,\n",
              " -0.018380047753453255,\n",
              " -0.007250694558024406,\n",
              " 0.015405682846903801,\n",
              " 0.019567614421248436,\n",
              " 0.015645375475287437,\n",
              " -0.0020741561893373728,\n",
              " -0.0005818668869324028,\n",
              " 0.012246101163327694,\n",
              " -0.0008191759116016328,\n",
              " -0.053255289793014526,\n",
              " 0.0039249625988304615,\n",
              " 0.012878017500042915,\n",
              " 0.04602093622088432,\n",
              " -0.0320969894528389,\n",
              " -0.005605533253401518,\n",
              " -0.01834736205637455,\n",
              " 0.022945096716284752,\n",
              " -0.02640974149107933,\n",
              " 0.05377825349569321,\n",
              " 0.02941679209470749,\n",
              " -0.029177099466323853,\n",
              " -0.009549561887979507,\n",
              " 0.003766983514651656,\n",
              " 0.006874813232570887,\n",
              " -0.0009165509836748242,\n",
              " -0.015906857326626778,\n",
              " 0.02255287393927574,\n",
              " 0.02318478934466839,\n",
              " 0.016037598252296448,\n",
              " 0.051991455256938934,\n",
              " -0.0031623051036149263,\n",
              " -0.004259987268596888,\n",
              " 0.02386028692126274,\n",
              " 0.018979277461767197,\n",
              " -0.025864986702799797,\n",
              " 0.032336682081222534,\n",
              " 0.010170583613216877,\n",
              " -0.025538133457303047,\n",
              " -0.0011058534728363156,\n",
              " 0.05207861587405205,\n",
              " -0.016669515520334244,\n",
              " 0.03900448605418205,\n",
              " 0.030745994299650192,\n",
              " 0.031356122344732285,\n",
              " 0.022356761619448662,\n",
              " -0.015176885761320591,\n",
              " -0.012747276574373245,\n",
              " 0.027085239067673683,\n",
              " -0.019774621352553368,\n",
              " 0.006433561444282532,\n",
              " -0.02582140639424324,\n",
              " 0.008519974537193775,\n",
              " 0.012311471626162529,\n",
              " 0.007975218817591667,\n",
              " 0.08049305528402328,\n",
              " 0.04070412367582321,\n",
              " -0.013771416619420052,\n",
              " 0.011309121735394001,\n",
              " -0.013945737853646278,\n",
              " -0.026518693193793297,\n",
              " -0.021201880648732185,\n",
              " 0.04094381630420685,\n",
              " -0.020940396934747696,\n",
              " -0.008988464251160622,\n",
              " 0.018641529604792595,\n",
              " 0.004630420822650194,\n",
              " 0.014817346818745136,\n",
              " -0.01795513741672039,\n",
              " -0.005790750030428171,\n",
              " -0.0037996689788997173,\n",
              " -0.14259517192840576,\n",
              " 0.026889126747846603,\n",
              " 0.005305917467921972,\n",
              " -0.030288400128483772,\n",
              " -0.008884960785508156,\n",
              " -0.016342662274837494,\n",
              " 0.008460051380097866,\n",
              " 0.028980987146496773,\n",
              " -0.0010929155396297574,\n",
              " -0.05621875822544098,\n",
              " -0.04440845921635628,\n",
              " -0.04185900464653969,\n",
              " -0.025450972840189934,\n",
              " 0.023163000121712685,\n",
              " 0.04153215140104294,\n",
              " -0.04427772015333176,\n",
              " -0.03118179924786091,\n",
              " 0.00044976366916671395,\n",
              " 0.017573809251189232,\n",
              " 0.009549561887979507,\n",
              " 0.016015809029340744,\n",
              " 0.05621875822544098,\n",
              " -0.06380175054073334,\n",
              " -0.005741721950471401,\n",
              " -0.04541081190109253,\n",
              " 0.04011578857898712,\n",
              " -0.007866268046200275,\n",
              " -0.003979437984526157,\n",
              " 0.04336253181099892,\n",
              " -0.013346507214009762,\n",
              " 0.06938004493713379,\n",
              " -0.0030506302136927843,\n",
              " 0.0061557358130812645,\n",
              " -0.02660585381090641,\n",
              " 0.019905362278223038,\n",
              " 0.007691946346312761,\n",
              " 0.06829053908586502,\n",
              " -0.07635291665792465,\n",
              " -0.027433881536126137,\n",
              " -0.04571587219834328,\n",
              " 0.04645673930644989,\n",
              " -0.03349156305193901,\n",
              " -0.02102755941450596,\n",
              " 0.052906643599271774,\n",
              " 0.013302926905453205,\n",
              " 0.030419141054153442,\n",
              " 0.04022473841905594,\n",
              " -0.001062273047864437,\n",
              " 0.03848152235150337,\n",
              " 0.048592180013656616,\n",
              " -0.025233069434762,\n",
              " 0.024601154029369354,\n",
              " 0.0022307734470814466,\n",
              " 0.01875048130750656,\n",
              " -0.008852275088429451,\n",
              " 0.011864772997796535,\n",
              " 0.010132450610399246,\n",
              " 0.03976714611053467,\n",
              " -0.02745567262172699,\n",
              " -0.01630997657775879,\n",
              " -0.0016601420938968658,\n",
              " 0.018576160073280334,\n",
              " 0.025973938405513763,\n",
              " 0.038307201117277145,\n",
              " -0.0015934095717966557,\n",
              " 0.015046143904328346,\n",
              " -0.03939671069383621,\n",
              " 0.018772270530462265,\n",
              " -0.007092715241014957,\n",
              " -0.004355319309979677,\n",
              " 0.010818841867148876,\n",
              " 0.013422773219645023,\n",
              " 0.0027074343524873257,\n",
              " 0.014741080813109875,\n",
              " -0.019120914861559868,\n",
              " -0.021920956671237946,\n",
              " 0.07186413556337357,\n",
              " 0.02627900056540966,\n",
              " -0.00598141411319375,\n",
              " 0.027695365250110626,\n",
              " 0.03192266821861267,\n",
              " 0.04593377560377121,\n",
              " -0.022923307493329048,\n",
              " 0.003056077752262354,\n",
              " 0.008274834603071213,\n",
              " -0.02810937911272049,\n",
              " -0.035343728959560394,\n",
              " 0.022356761619448662,\n",
              " 0.010377590544521809,\n",
              " 0.01585238240659237,\n",
              " -0.02141978219151497,\n",
              " 0.003816011594608426,\n",
              " 0.021387096494436264,\n",
              " 0.03139970079064369,\n",
              " -0.03192266821861267,\n",
              " 0.07090536504983902,\n",
              " 0.014305276796221733,\n",
              " 0.036280710250139236,\n",
              " -0.06720102578401566,\n",
              " -0.006618778221309185,\n",
              " 0.031029267236590385,\n",
              " 0.04693612456321716,\n",
              " -0.009081072174012661,\n",
              " -0.010404828004539013,\n",
              " -0.028545182198286057,\n",
              " 0.00831841491162777,\n",
              " 0.03353514149785042,\n",
              " 0.012169836089015007,\n",
              " -0.0028082141652703285,\n",
              " -0.08214911818504333,\n",
              " 0.03989788517355919,\n",
              " -0.07094894349575043,\n",
              " -0.01960030011832714,\n",
              " 0.04580303281545639,\n",
              " -0.0049245888367295265,\n",
              " -0.0013149033766239882,\n",
              " -0.03976714611053467,\n",
              " 0.01552552916109562,\n",
              " 0.0006761776166968048,\n",
              " -0.0025126843247562647,\n",
              " -0.00010554635809967294,\n",
              " -0.05020465701818466,\n",
              " -0.0035872142761945724,\n",
              " -0.03713052719831467,\n",
              " 0.021474257111549377,\n",
              " 0.010835184715688229,\n",
              " 0.005235099233686924,\n",
              " -0.06850843876600266,\n",
              " -0.03795855492353439,\n",
              " -0.020809656009078026,\n",
              " 0.0065425122156739235,\n",
              " 0.015590899623930454,\n",
              " -0.01412006001919508,\n",
              " 0.051337748765945435,\n",
              " 0.023620594292879105,\n",
              " -0.010557360015809536,\n",
              " 0.05386541411280632,\n",
              " 0.03662935271859169,\n",
              " -0.004180997610092163,\n",
              " 0.0727357417345047,\n",
              " 0.021190986037254333,\n",
              " -0.014305276796221733,\n",
              " 0.006335505284368992,\n",
              " -0.035082247108221054,\n",
              " 0.013215766288340092,\n",
              " 0.001883491757325828,\n",
              " -0.031944457441568375,\n",
              " 0.0051343198865652084,\n",
              " 0.02856697328388691,\n",
              " 0.008116855286061764,\n",
              " -0.0629301443696022,\n",
              " -0.018238410353660583,\n",
              " -0.03309933841228485,\n",
              " -0.011842982843518257,\n",
              " 0.035670582205057144,\n",
              " 0.059618029743433,\n",
              " -0.014163640327751637,\n",
              " -0.018162144348025322,\n",
              " 0.061622731387615204,\n",
              " 0.01137449312955141,\n",
              " 0.023380901664495468,\n",
              " 0.020613543689250946,\n",
              " 0.07460969686508179,\n",
              " -0.014850032515823841,\n",
              " 0.003952200524508953,\n",
              " 0.02025400660932064,\n",
              " -0.010497436858713627,\n",
              " -0.010143345221877098,\n",
              " -0.06667806208133698,\n",
              " 0.02490621618926525,\n",
              " 0.025320231914520264,\n",
              " 0.045890193432569504,\n",
              " -0.011287331581115723,\n",
              " -0.017867976799607277,\n",
              " -0.03852510079741478,\n",
              " -0.03244563192129135,\n",
              " -0.05168639123439789,\n",
              " 0.000592761964071542,\n",
              " -0.009909100830554962,\n",
              " 0.010748024098575115,\n",
              " 0.05582653358578682,\n",
              " 0.019099123775959015,\n",
              " 0.005872463341802359,\n",
              " -0.08798889070749283,\n",
              " -0.006291924975812435,\n",
              " 0.0025058749597519636,\n",
              " 0.017976928502321243,\n",
              " 0.021866481751203537,\n",
              " -0.04146678000688553,\n",
              " 0.016081178560853004,\n",
              " -0.008846827782690525,\n",
              " -0.04423413798213005,\n",
              " 0.008165883831679821,\n",
              " 0.0753505676984787,\n",
              " -0.03619354963302612,\n",
              " 0.022901516407728195,\n",
              " -0.0076538133434951305,\n",
              " 0.007550309877842665,\n",
              " 0.01854347437620163,\n",
              " -0.0010949583956971765,\n",
              " 0.013902157545089722,\n",
              " -0.02274898625910282,\n",
              " 0.007375988177955151,\n",
              " 0.03368767350912094,\n",
              " -0.012790856882929802,\n",
              " -0.016560563817620277,\n",
              " -0.01663682982325554,\n",
              " 0.0206353347748518,\n",
              " 0.00812230259180069,\n",
              " -0.005363116972148418,\n",
              " 0.01842362806200981,\n",
              " -0.028479812666773796,\n",
              " 0.004976340569555759,\n",
              " -0.0075394148007035255,\n",
              " 0.009380687959492207,\n",
              " 0.005458449013531208,\n",
              " 0.038895536214113235,\n",
              " 0.008351100608706474,\n",
              " -0.024274300783872604,\n",
              " 0.005371288396418095,\n",
              " -0.03597564622759819,\n",
              " -0.03891732543706894,\n",
              " -0.009740226902067661,\n",
              " -0.04554155096411705,\n",
              " -0.05604443699121475,\n",
              " -0.01762828417122364,\n",
              " -0.02425250969827175,\n",
              " -0.022574663162231445,\n",
              " 0.021125614643096924,\n",
              " -0.04475710541009903,\n",
              " 0.010846080258488655,\n",
              " 0.015623585321009159,\n",
              " 0.012932493351399899,\n",
              " -0.013128604739904404,\n",
              " -0.003314836649224162,\n",
              " -0.012562059797346592,\n",
              " -0.00020956058870069683,\n",
              " -0.02438325248658657,\n",
              " -0.008509078994393349,\n",
              " 0.03153044357895851,\n",
              " 0.011243751272559166,\n",
              " 0.0017772645223885775,\n",
              " 0.033709462732076645,\n",
              " -0.013390087522566319,\n",
              " -0.00598141411319375,\n",
              " -0.026758385822176933,\n",
              " 0.024688314646482468,\n",
              " -0.08036231994628906,\n",
              " -0.046500321477651596,\n",
              " -0.005186071619391441,\n",
              " -0.01454496942460537,\n",
              " 0.06528348475694656,\n",
              " -0.013313822448253632,\n",
              " 0.04005041718482971,\n",
              " -0.044975005090236664,\n",
              " 0.041183508932590485,\n",
              " 0.008988464251160622,\n",
              " 0.001308774808421731,\n",
              " 0.026039307937026024,\n",
              " 0.0015416578389704227,\n",
              " 0.03906985744833946,\n",
              " -0.033186499029397964,\n",
              " 0.06981585174798965,\n",
              " -0.01294338796287775,\n",
              " -0.003878658404573798,\n",
              " -0.028719505295157433,\n",
              " 0.023947447538375854,\n",
              " -0.01100405864417553,\n",
              " 0.03059346415102482,\n",
              " -0.041771844029426575,\n",
              " -0.006526169832795858,\n",
              " -0.014991668984293938,\n",
              " 0.02141978219151497,\n",
              " 0.01202819962054491,\n",
              " -0.05656740069389343,\n",
              " 0.0001731300726532936,\n",
              " 0.02266182377934456,\n",
              " 0.0061557358130812645,\n",
              " 0.017377696931362152,\n",
              " -0.0076156803406775,\n",
              " -0.0438854955136776,\n",
              " 0.007076372858136892,\n",
              " 0.0024132663384079933,\n",
              " 0.01906643994152546,\n",
              " -0.0025766929611563683,\n",
              " 0.0064226663671433926,\n",
              " 0.0008940797997638583,\n",
              " -0.0008423280669376254,\n",
              " -0.03218415006995201,\n",
              " 0.023163000121712685,\n",
              " 0.02771715447306633,\n",
              " 0.052906643599271774,\n",
              " 0.016800256446003914,\n",
              " -0.03913522884249687,\n",
              " 0.033840205520391464,\n",
              " -0.00598141411319375,\n",
              " -0.00575261702761054,\n",
              " 0.008018799126148224,\n",
              " 0.03619354963302612,\n",
              " -0.012464003637433052,\n",
              " 0.04811279848217964,\n",
              " 0.015067934058606625,\n",
              " -0.0036825465504080057,\n",
              " 0.020668020471930504,\n",
              " 0.013673360459506512,\n",
              " 0.02824012003839016,\n",
              " 0.031421490013599396,\n",
              " 0.006400875747203827,\n",
              " -0.006395428441464901,\n",
              " 0.02366417460143566,\n",
              " 0.003720679320394993,\n",
              " -0.011221961118280888,\n",
              " 0.0010329923825338483,\n",
              " -0.019415082409977913,\n",
              " -0.021899167448282242,\n",
              " -0.010056184604763985,\n",
              " -0.05852852016687393,\n",
              " 0.005564676597714424,\n",
              " -0.01550373900681734,\n",
              " -0.02549455314874649,\n",
              " 0.02595214731991291,\n",
              " 0.013673360459506512,\n",
              " 0.018194830045104027,\n",
              " -0.01586327701807022,\n",
              " 0.023947447538375854,\n",
              " 0.0013884453801438212,\n",
              " 0.036346081644296646,\n",
              " 0.001024821074679494,\n",
              " -0.0037097842432558537,\n",
              " -0.01591775193810463,\n",
              " -0.009914548136293888,\n",
              " 0.02242213301360607,\n",
              " -0.021463362500071526,\n",
              " 0.009124653413891792,\n",
              " -0.008242148905992508,\n",
              " -0.028218328952789307,\n",
              " -0.0399850457906723,\n",
              " 0.004976340569555759,\n",
              " -0.02346806228160858,\n",
              " 0.06471694260835648,\n",
              " 0.02693270705640316,\n",
              " -0.041118137538433075,\n",
              " 0.05726468935608864,\n",
              " -0.07147190719842911,\n",
              " 0.00023305317154154181,\n",
              " -0.00986007321625948,\n",
              " -0.012300577014684677,\n",
              " 0.009805597364902496,\n",
              " -0.037522751837968826,\n",
              " 0.01258384995162487,\n",
              " -0.007348750252276659,\n",
              " 0.06789831072092056,\n",
              " -0.0052650608122348785,\n",
              " -0.010649967938661575,\n",
              " -0.02529844082891941,\n",
              " -0.04377654567360878,\n",
              " -0.020275795832276344,\n",
              " 0.05983593314886093,\n",
              " -0.033121127635240555,\n",
              " -0.006618778221309185,\n",
              " -0.013499039225280285,\n",
              " -0.0037261268589645624,\n",
              " 0.04146678000688553,\n",
              " -0.04942021146416664,\n",
              " -0.002561712171882391,\n",
              " -0.024470413103699684,\n",
              " 0.015383892692625523,\n",
              " -0.02745567262172699,\n",
              " 0.02103845402598381,\n",
              " -0.020134160295128822,\n",
              " 0.03835077956318855,\n",
              " -0.0051533859223127365,\n",
              " 0.022509293630719185,\n",
              " -0.03745738044381142,\n",
              " 0.036651141941547394,\n",
              " 0.012006409466266632,\n",
              " -0.01735590770840645,\n",
              " 0.036999788135290146,\n",
              " 0.011864772997796535,\n",
              " 0.019088229164481163,\n",
              " 0.015035249292850494,\n",
              " 0.014686605893075466,\n",
              " 0.012769066728651524,\n",
              " -0.016102969646453857,\n",
              " -0.000838923326227814,\n",
              " -0.010154240764677525,\n",
              " 0.029002778232097626,\n",
              " 0.0028980986680835485,\n",
              " -0.00793163850903511,\n",
              " 0.02161589451134205,\n",
              " -0.03678188472986221,\n",
              " -0.02148515358567238,\n",
              " -0.039941467344760895,\n",
              " -0.06131766736507416,\n",
              " 0.004595011938363314,\n",
              " -0.07151548564434052,\n",
              " -0.021604999899864197,\n",
              " -0.0334261916577816,\n",
              " -0.0012720038648694754,\n",
              " 0.16761034727096558,\n",
              " 0.03451570123434067,\n",
              " 0.03630249947309494,\n",
              " 0.02182290144264698,\n",
              " -0.030353771522641182,\n",
              " 0.009293527342379093,\n",
              " 0.021866481751203537,\n",
              " 0.048330698162317276,\n",
              " -0.007517624646425247,\n",
              " 0.0031568575650453568,\n",
              " -0.022574663162231445,\n",
              " 0.05164281278848648,\n",
              " -0.02503695897758007,\n",
              " 0.009718436747789383,\n",
              " -0.003895001020282507,\n",
              " -0.012496689334511757,\n",
              " -0.018390942364931107,\n",
              " -0.011085771955549717,\n",
              " 0.04214227944612503,\n",
              " 0.01868510991334915,\n",
              " 0.022618243470788002,\n",
              " 0.0053113652393221855,\n",
              " 0.003451025579124689,\n",
              " -0.023838495835661888,\n",
              " 0.01519867591559887,\n",
              " 0.01044840831309557,\n",
              " 0.00881414208561182,\n",
              " -0.017127109691500664,\n",
              " -0.011516129598021507,\n",
              " 0.0029825358651578426,\n",
              " -0.017508437857031822,\n",
              " -0.012758171185851097,\n",
              " 0.008046037517488003,\n",
              " -0.018630634993314743,\n",
              " -0.011853877454996109,\n",
              " -0.020221320912241936,\n",
              " -0.0008770562126301229,\n",
              " -0.011744926683604717,\n",
              " -0.029395001009106636,\n",
              " 0.001237275660969317,\n",
              " -0.005300470162183046,\n",
              " 0.0011467101285234094,\n",
              " -0.05983593314886093,\n",
              " -0.011548814363777637,\n",
              " -0.007822687737643719,\n",
              " -0.015950437635183334,\n",
              " 0.008312967605888844,\n",
              " 0.016941893845796585,\n",
              " -0.02497158758342266,\n",
              " -0.018499894067645073,\n",
              " -0.0022307734470814466,\n",
              " -0.005959623958915472,\n",
              " -0.0007837668526917696,\n",
              " -0.0005168367060832679,\n",
              " 0.0073814354836940765,\n",
              " 0.004611354321241379,\n",
              " 0.005333155393600464,\n",
              " -0.007708288729190826,\n",
              " -0.013509933836758137,\n",
              " -0.018194830045104027,\n",
              " -0.016680410131812096,\n",
              " 0.03926596790552139,\n",
              " 0.01756291463971138,\n",
              " 0.018260201439261436,\n",
              " -0.0038486968260258436,\n",
              " -0.0008559469133615494,\n",
              " -0.0022893345449119806,\n",
              " 0.02608288824558258,\n",
              " -0.027346720919013023,\n",
              " 0.029569324105978012,\n",
              " -0.021125614643096924,\n",
              " 0.019436873495578766,\n",
              " -0.028523392975330353,\n",
              " 0.02471010573208332,\n",
              " 0.029917966574430466,\n",
              " -0.032598163932561874,\n",
              " 0.0001578939554747194,\n",
              " 0.0012508946238085628,\n",
              " -0.02425250969827175,\n",
              " 0.005774407181888819,\n",
              " -0.02758641354739666,\n",
              " 0.007849925197660923,\n",
              " -0.03255458176136017,\n",
              " 0.004050256218761206,\n",
              " 0.01657145842909813,\n",
              " -0.04355864226818085,\n",
              " 0.04135783016681671,\n",
              " -0.029852595180273056,\n",
              " 0.055216409265995026,\n",
              " 0.0003932453109882772,\n",
              " -0.04090023413300514,\n",
              " 0.02941679209470749,\n",
              " -0.029198888689279556,\n",
              " -0.03460286185145378,\n",
              " 0.01500256359577179,\n",
              " 0.008808694779872894,\n",
              " -0.0058615682646632195,\n",
              " 0.02778252586722374,\n",
              " 0.012148045003414154,\n",
              " 0.003878658404573798,\n",
              " -0.0015947713982313871,\n",
              " 0.021844692528247833,\n",
              " 0.0010554635664448142,\n",
              " -0.015514633618295193,\n",
              " -0.029961546882987022,\n",
              " 0.026823755353689194,\n",
              " -0.03521298989653587,\n",
              " 0.00412924587726593,\n",
              " 0.010094317607581615,\n",
              " 0.030375560745596886,\n",
              " 0.003175924066454172,\n",
              " -0.017345011234283447,\n",
              " 0.008732428774237633,\n",
              " -0.0025739693082869053,\n",
              " -0.018380047753453255,\n",
              " 0.02935142070055008,\n",
              " 0.0013659741962328553,\n",
              " 0.015133305452764034,\n",
              " -0.02405639924108982,\n",
              " 0.000532498408574611,\n",
              " 0.0037506408989429474,\n",
              " -0.01586327701807022,\n",
              " 0.0023833049926906824,\n",
              " 0.015699850395321846,\n",
              " -0.0030724203679710627,\n",
              " -0.030375560745596886,\n",
              " 0.019578509032726288,\n",
              " -0.004058427643030882,\n",
              " 0.01346635352820158,\n",
              " 0.008923093788325787,\n",
              " 0.009647618047893047,\n",
              " 0.007839030586183071,\n",
              " -0.001366655109450221,\n",
              " 0.020155949518084526,\n",
              " -0.007185323629528284,\n",
              " 0.010290429927408695,\n",
              " 0.024078188464045525,\n",
              " 0.03754454106092453,\n",
              " 0.0033257317263633013,\n",
              " -0.026780175045132637,\n",
              " 0.009228156879544258,\n",
              " 0.008623478002846241,\n",
              " 0.0111402478069067,\n",
              " -0.03771886229515076,\n",
              " 0.03750096261501312,\n",
              " -0.017802607268095016,\n",
              " 0.004461546894162893,\n",
              " 0.03118179924786091,\n",
              " -0.010617283172905445,\n",
              " -0.01888122223317623,\n",
              " -0.01809677481651306,\n",
              " 0.012322367168962955,\n",
              " 0.041641101241111755,\n",
              " 0.007871715351939201,\n",
              " -0.029983337968587875,\n",
              " 0.010143345221877098,\n",
              " 0.00683123292401433,\n",
              " -0.003502777311950922,\n",
              " -0.004919141065329313,\n",
              " 0.010639073327183723,\n",
              " 0.012518479488790035,\n",
              " 0.0030588016379624605,\n",
              " 0.004477889277040958,\n",
              " 0.013150395825505257,\n",
              " -0.029133519157767296,\n",
              " 0.0032767036464065313,\n",
              " 0.0025440077297389507,\n",
              " 0.007969771511852741,\n",
              " 0.00937524065375328,\n",
              " -0.008389233611524105,\n",
              " -0.021583208814263344,\n",
              " -0.08014441281557083,\n",
              " -0.047023285180330276,\n",
              " 0.015122409909963608,\n",
              " -0.024993378669023514,\n",
              " 0.0023056771606206894,\n",
              " 0.03577953577041626,\n",
              " -0.014860927127301693,\n",
              " -0.03776244446635246,\n",
              " -0.040464431047439575,\n",
              " 0.03911343961954117,\n",
              " -0.008672505617141724,\n",
              " -0.014141850173473358,\n",
              " -0.021528733894228935,\n",
              " 0.01907733455300331,\n",
              " -0.03296859562397003,\n",
              " 0.012333262711763382,\n",
              " 0.04802563786506653,\n",
              " -0.010225058533251286,\n",
              " 0.003603556891903281,\n",
              " 0.013172185979783535,\n",
              " -0.015841487795114517,\n",
              " -0.04567229375243187,\n",
              " -0.021463362500071526,\n",
              " 0.026627644896507263,\n",
              " 0.04615167900919914,\n",
              " 0.012093570083379745,\n",
              " -0.032271310687065125,\n",
              " -0.0511198453605175,\n",
              " 0.012365947477519512,\n",
              " 0.029329631477594376,\n",
              " -0.001563447993248701,\n",
              " 0.04048622027039528,\n",
              " 0.01958940364420414,\n",
              " -0.03793676570057869,\n",
              " -0.0019243484130129218,\n",
              " -0.04841785877943039,\n",
              " -0.00585067318752408,\n",
              " -0.016691304743289948,\n",
              " 0.0055428859777748585,\n",
              " -0.024274300783872604,\n",
              " -0.005605533253401518,\n",
              " -0.011396283283829689,\n",
              " 0.007577547803521156,\n",
              " 0.03532193973660469,\n",
              " 0.0010411638068035245,\n",
              " 0.024165349081158638,\n",
              " -0.010470198467373848,\n",
              " -0.004249092191457748,\n",
              " 0.015590899623930454,\n",
              " -0.031748343259096146,\n",
              " 0.015471053309738636,\n",
              " 0.03808929771184921,\n",
              " 0.03218415006995201,\n",
              " -0.018042298033833504,\n",
              " -0.021397992968559265,\n",
              " 0.014261696487665176,\n",
              " -0.031813714653253555,\n",
              " -0.022705405950546265,\n",
              " -0.026453321799635887,\n",
              " -0.0006237449124455452,\n",
              " 0.006667806301265955,\n",
              " -0.027368512004613876,\n",
              " -0.014937193132936954,\n",
              " -0.02830549143254757,\n",
              " 0.005371288396418095,\n",
              " 0.02346806228160858,\n",
              " 0.05948729068040848,\n",
              " -0.05151207000017166,\n",
              " -0.0028980986680835485,\n",
              " -0.026845546439290047,\n",
              " 0.039614614099264145,\n",
              " -0.009064730256795883,\n",
              " -0.0018807679880410433,\n",
              " -0.0034401302691549063,\n",
              " -0.016734885051846504,\n",
              " 0.0038732108660042286,\n",
              " -0.02484084665775299,\n",
              " 0.0314650721848011,\n",
              " 0.04501858726143837,\n",
              " -0.004761162213981152,\n",
              " -0.02621362917125225,\n",
              " 0.02529844082891941,\n",
              " -0.03582311421632767,\n",
              " -0.03706515580415726,\n",
              " -0.0216267891228199,\n",
              " 0.007468596566468477,\n",
              " 0.031879086047410965,\n",
              " 0.011951933614909649,\n",
              " 0.01808588020503521,\n",
              " 0.01519867591559887,\n",
              " -0.03270711377263069,\n",
              " 0.017377696931362152,\n",
              " 0.002109565306454897,\n",
              " -0.007032792083919048,\n",
              " -0.04628241807222366,\n",
              " 0.004306291230022907,\n",
              " -0.0038105640560388565,\n",
              " 0.0025780550204217434,\n",
              " 0.023489853367209435,\n",
              " -0.041052766144275665,\n",
              " 0.017257850617170334,\n",
              " -0.013716940768063068,\n",
              " 0.0034619206562638283,\n",
              " 0.018903013318777084,\n",
              " -0.026257209479808807,\n",
              " 0.024230720475316048,\n",
              " -0.010982268489897251,\n",
              " -0.007550309877842665,\n",
              " -0.019676564261317253,\n",
              " -0.033055756241083145,\n",
              " -0.038568682968616486,\n",
              " -0.007866268046200275,\n",
              " 0.01696368306875229,\n",
              " 0.03159581497311592,\n",
              " 0.04100918769836426,\n",
              " -0.04031189903616905,\n",
              " -0.0036553088575601578,\n",
              " 0.024928007274866104,\n",
              " 0.05229651927947998,\n",
              " 0.006803994998335838,\n",
              " -0.021180089563131332,\n",
              " 0.027564622461795807,\n",
              " 0.015536423772573471,\n",
              " 0.01555821392685175,\n",
              " -0.040399059653282166,\n",
              " 0.026104679331183434,\n",
              " -0.0030479065608233213,\n",
              " 0.028327280655503273,\n",
              " -0.015209570527076721,\n",
              " 0.03307754918932915,\n",
              " -0.03608459606766701,\n",
              " 0.029046358540654182,\n",
              " -0.05234009772539139,\n",
              " -0.022509293630719185,\n",
              " -0.019229866564273834,\n",
              " -0.04397265613079071,\n",
              " 0.006123050581663847,\n",
              " -0.02961290441453457,\n",
              " 0.03307754918932915,\n",
              " 0.012267891317605972,\n",
              " -0.023969236761331558,\n",
              " -0.017846187576651573,\n",
              " -0.012823542580008507,\n",
              " -0.023446273058652878,\n",
              " 0.00473392428830266,\n",
              " -0.03861226141452789,\n",
              " 0.011788506992161274,\n",
              " 0.00980015005916357,\n",
              " 0.017900662496685982,\n",
              " 0.004717581905424595,\n",
              " -0.0038269066717475653,\n",
              " 0.0360410176217556,\n",
              " 0.00520786177366972,\n",
              " -0.017650075256824493,\n",
              " -0.00437166215851903,\n",
              " 0.003867763327434659,\n",
              " -0.01676757074892521,\n",
              " 0.028545182198286057,\n",
              " -0.031617604196071625,\n",
              " 0.0035627002362161875,\n",
              " -0.023424481973052025,\n",
              " -0.035692375153303146,\n",
              " -0.0393313392996788,\n",
              " 0.0022157926578074694,\n",
              " -0.011472548358142376,\n",
              " -0.04959453269839287,\n",
              " -0.014534073881804943,\n",
              " -0.01389126293361187,\n",
              " 0.005319536663591862,\n",
              " -0.03872121497988701,\n",
              " -0.04083486646413803,\n",
              " -0.004979064222425222,\n",
              " -0.0070382398553192616,\n",
              " 0.03647682070732117,\n",
              " 0.003756088437512517,\n",
              " -0.02569066546857357,\n",
              " -0.00973477866500616,\n",
              " -0.029830805957317352,\n",
              " 0.05460628122091293,\n",
              " 0.011581500060856342,\n",
              " -0.024470413103699684,\n",
              " -0.024296090006828308,\n",
              " -0.03774065524339676,\n",
              " -0.0008586706826463342,\n",
              " 0.03054988384246826,\n",
              " 0.00111402478069067,\n",
              " -0.004646763671189547,\n",
              " -0.0160593893378973,\n",
              " -0.020428327843546867,\n",
              " -0.01008887030184269,\n",
              " -0.006896603386849165,\n",
              " 0.008884960785508156,\n",
              " -0.021931853145360947,\n",
              " 0.017061738297343254,\n",
              " 0.005959623958915472,\n",
              " 0.024753686040639877,\n",
              " 0.0065425122156739235,\n",
              " 0.03789318725466728,\n",
              " 0.024949796497821808,\n",
              " -0.005670903716236353,\n",
              " 0.09430805593729019,\n",
              " 0.0017241508467122912,\n",
              " 0.0058179874904453754,\n",
              " 0.0051506622694432735,\n",
              " 0.014512283727526665,\n",
              " -0.01742127723991871,\n",
              " -0.03172655403614044,\n",
              " -0.013444563373923302,\n",
              " 0.01972014643251896,\n",
              " 0.004883732181042433,\n",
              " 0.025647085160017014,\n",
              " 0.006564302369952202,\n",
              " 0.01986178196966648,\n",
              " 0.02089681662619114,\n",
              " 0.009462401270866394,\n",
              " -0.016168341040611267,\n",
              " -0.007844477891921997,\n",
              " -0.02771715447306633,\n",
              " -0.005867015570402145,\n",
              " -0.022051699459552765,\n",
              " 0.005774407181888819,\n",
              " 0.06510916352272034,\n",
              " 0.04837428033351898,\n",
              " 0.020090579986572266,\n",
              " 0.029896177351474762,\n",
              " -0.018630634993314743,\n",
              " -0.003867763327434659,\n",
              " 0.02824012003839016,\n",
              " -0.0014218116411939263,\n",
              " 0.007779106963425875,\n",
              " -0.008481841534376144,\n",
              " 0.0027115200646221638,\n",
              " 1.5246767361531965e-05,\n",
              " 0.00515883369371295,\n",
              " 0.006144840735942125,\n",
              " -0.043929073959589005,\n",
              " -0.007076372858136892,\n",
              " -0.022127963602542877,\n",
              " -0.02771715447306633,\n",
              " 0.019883573055267334,\n",
              " -0.004663106054067612,\n",
              " -0.0034319590777158737,\n",
              " 0.019360607489943504,\n",
              " 0.04238197207450867,\n",
              " -0.02464473433792591,\n",
              " 0.004791123792529106,\n",
              " 0.01137449312955141,\n",
              " 0.027412092313170433,\n",
              " 0.021648580208420753,\n",
              " -0.031203588470816612,\n",
              " -0.01104763988405466,\n",
              " 0.04068233445286751,\n",
              " 0.008884960785508156,\n",
              " 0.0044206902384757996,\n",
              " -0.03702157735824585,\n",
              " -0.0031704765278846025,\n",
              " -0.003780602477490902,\n",
              " 0.030484512448310852,\n",
              " -0.014632130041718483,\n",
              " 0.0014190878719091415,\n",
              " -0.03320828825235367,\n",
              " 0.0005641623283736408,\n",
              " 0.013749626465141773,\n",
              " -0.030310191214084625,\n",
              " -0.0353873111307621,\n",
              " -0.06480409950017929,\n",
              " 0.04029010981321335,\n",
              " -0.025864986702799797,\n",
              " 0.021071139723062515,\n",
              " -0.0012427233159542084,\n",
              " -0.0019447767408564687,\n",
              " -0.02221512608230114,\n",
              " 0.03532193973660469,\n",
              " 0.004379833582788706,\n",
              " -0.04549797251820564,\n",
              " 0.021397992968559265,\n",
              " -0.06833411753177643,\n",
              " 0.019959837198257446,\n",
              " 0.033513352274894714,\n",
              " -0.03715232014656067,\n",
              " -0.013651570305228233,\n",
              " 0.01228968147188425,\n",
              " 0.019818201661109924,\n",
              " 0.000984645332209766,\n",
              " 0.02739030122756958,\n",
              " -0.005932386498898268,\n",
              " -0.007348750252276659,\n",
              " -0.00019985713879577816,\n",
              " 0.03523477911949158,\n",
              " -0.02272719517350197,\n",
              " 0.025777826085686684,\n",
              " -0.01421811617910862,\n",
              " 0.03261995315551758,\n",
              " -0.01965477503836155,\n",
              " -0.009075624868273735,\n",
              " -0.040399059653282166,\n",
              " 0.010600940324366093,\n",
              " -0.030375560745596886,\n",
              " -0.03702157735824585,\n",
              " -0.0031623051036149263,\n",
              " 0.023163000121712685,\n",
              " -0.07291006296873093,\n",
              " 0.018521683290600777,\n",
              " -0.012834437191486359,\n",
              " 0.01885943114757538,\n",
              " -0.010001708753407001,\n",
              " 0.03314291685819626,\n",
              " -0.037784233689308167,\n",
              " 0.01697457768023014,\n",
              " 0.010377590544521809,\n",
              " 0.006646015681326389,\n",
              " 0.01723606139421463,\n",
              " 0.027956847101449966,\n",
              " 0.031247170642018318,\n",
              " 0.003282151184976101,\n",
              " 0.022945096716284752,\n",
              " 0.04005041718482971,\n",
              " 0.024470413103699684,\n",
              " 0.012126254849135876,\n",
              " -0.005954176653176546,\n",
              " -0.00897212140262127,\n",
              " 0.022966887801885605,\n",
              " 0.0035763191990554333,\n",
              " 0.013117710128426552,\n",
              " 0.016266396269202232,\n",
              " 0.016157444566488266,\n",
              " 0.0007006916566751897,\n",
              " 0.019709249958395958,\n",
              " 0.028065798804163933,\n",
              " 0.013183080591261387,\n",
              " 0.019055543467402458,\n",
              " 0.024165349081158638,\n",
              " 0.029046358540654182,\n",
              " 0.005384907126426697,\n",
              " -0.016560563817620277,\n",
              " 0.006956526543945074,\n",
              " -0.008732428774237633,\n",
              " 0.03007049858570099,\n",
              " 0.007582995109260082,\n",
              " -0.02575603500008583,\n",
              " -0.02274898625910282,\n",
              " 0.003666203934699297,\n",
              " 0.02490621618926525,\n",
              " -0.011156590655446053,\n",
              " ...]"
            ]
          },
          "execution_count": 91,
          "metadata": {},
          "output_type": "execute_result"
        }
      ],
      "source": [
        "# 텍스트를 임베딩하여 쿼리 결과를 생성합니다.\n",
        "query_result = cached_embeding.embed_query(\"임베딩 테스트를 하기 위한 샘플 문장입니다.\")\n",
        "query_result"
      ]
    },
    {
      "cell_type": "markdown",
      "metadata": {
        "id": "sD4HqRCXPOVQ"
      },
      "source": [
        "- 캐시 지원 임베딩을 사용하여 텍스트 임베딩을 생성하는 과정을 실습합니다. 이는 임베딩 결과를 효율적으로 생성하는 방법을 보여줍니다."
      ]
    },
    {
      "cell_type": "markdown",
      "metadata": {
        "id": "_CF2JZ3cPOVR"
      },
      "source": [
        "## 08-060 1024차원 임베딩 생성 및 길이 확인\n",
        "- 이 실습에서는 OpenAI의 임베딩 모델을 사용하여 1024차원의 임베딩을 생성하는 객체를 초기화합니다. 이후 주어진 텍스트에 대한 임베딩을 생성하고, 첫 번째 임베딩 벡터의 길이를 확인합니다."
      ]
    },
    {
      "cell_type": "code",
      "execution_count": null,
      "metadata": {
        "colab": {
          "base_uri": "https://localhost:8080/"
        },
        "id": "QlGX4hcDPOVR",
        "outputId": "a411e2f3-74a2-4d0d-a39f-b37b4a724c7c"
      },
      "outputs": [
        {
          "data": {
            "text/plain": [
              "1024"
            ]
          },
          "execution_count": 93,
          "metadata": {},
          "output_type": "execute_result"
        }
      ],
      "source": [
        "# OpenAI의 \"text-embedding-3-small\" 모델을 사용하여 1024차원의 임베딩을 생성하는 객체를 초기화합니다.\n",
        "embeddings_1024 = OpenAIEmbeddings(model=\"text-embedding-3-small\", dimensions=1024)\n",
        "# 주어진 텍스트를 임베딩하고 첫 번째 임베딩 벡터의 길이를 반환합니다.\n",
        "len(embeddings_1024.embed_documents(['AI Essential'])[0])"
      ]
    },
    {
      "cell_type": "markdown",
      "metadata": {
        "id": "0AFgMoaFPOVR"
      },
      "source": [
        "- 1024차원 임베딩을 생성하고, 임베딩 벡터의 길이를 확인하는 과정을 실습합니다. 이는 임베딩의 차원 수를 설정하고 결과를 다루는 방법을 보여줍니다."
      ]
    },
    {
      "cell_type": "markdown",
      "metadata": {
        "id": "Kd7Mq0e6POVR"
      },
      "source": [
        "## 08-061 임베딩 대상 텍스트 정의\n",
        "- 이 실습에서는 임베딩을 생성할 텍스트 문장을 정의합니다. 다양한 인사말 및 문장을 포함하여 나중에 임베딩을 생성할 준비를 합니다."
      ]
    },
    {
      "cell_type": "code",
      "execution_count": null,
      "metadata": {
        "id": "Q_LnVqKXPOVR"
      },
      "outputs": [],
      "source": [
        "# 임베딩 대상 텍스트\n",
        "sentence1 = \"안녕하세요? 반갑습니다.\"\n",
        "sentence2 = \"안녕하세요? 반갑습니다!\"\n",
        "sentence3 = \"안녕하세요? 만나서 반가워요.\"\n",
        "sentence4 = \"Hi, nice to meet you.\"\n",
        "sentence5 = \"I like to eat apples.\""
      ]
    },
    {
      "cell_type": "markdown",
      "metadata": {
        "id": "BO-AjOxfPOVR"
      },
      "source": [
        "- 임베딩할 텍스트 문장을 정의하는 과정을 실습합니다. 이는 다양한 문장을 사용하여 임베딩의 성능을 테스트하는 방법을 보여줍니다."
      ]
    },
    {
      "cell_type": "markdown",
      "metadata": {
        "id": "hhTM4tcvPOVR"
      },
      "source": [
        "## 08-062 임베딩 수행\n",
        "- 이 실습에서는 정의한 여러 문장을 임베딩하여 벡터로 변환합니다. embed_documents 메서드를 사용하여 문장 리스트에 대한 임베딩을 수행하고 결과를 저장합니다."
      ]
    },
    {
      "cell_type": "code",
      "execution_count": null,
      "metadata": {
        "id": "SCCg-xL4POVR"
      },
      "outputs": [],
      "source": [
        "# 임베딩 수행\n",
        "sentences = [sentence1, sentence2, sentence3, sentence4, sentence5]\n",
        "embedded_sentences = embeddings_1024.embed_documents(sentences)"
      ]
    },
    {
      "cell_type": "markdown",
      "metadata": {
        "id": "BWWEGM7TPOVR"
      },
      "source": [
        "- 여러 텍스트 문장을 임베딩하는 과정을 실습합니다. 이는 텍스트 데이터를 벡터 형태로 변환하는 방법을 보여줍니다."
      ]
    },
    {
      "cell_type": "markdown",
      "metadata": {
        "id": "HqKnDR4tPOVR"
      },
      "source": [
        "## 08-063 코사인 유사도 계산 함수 정의\n",
        "- 이 실습에서는 두 임베딩 벡터 간의 코사인 유사도를 계산하는 함수를 정의합니다. sklearn의 cosine_similarity 함수를 사용하여 두 벡터의 유사도를 반환합니다."
      ]
    },
    {
      "cell_type": "code",
      "execution_count": null,
      "metadata": {
        "id": "kp8V9elmPOVR"
      },
      "outputs": [],
      "source": [
        "from sklearn.metrics.pairwise import cosine_similarity\n",
        "\n",
        "def similarity(a, b):\n",
        "    return cosine_similarity([a], [b])[0][0]"
      ]
    },
    {
      "cell_type": "markdown",
      "metadata": {
        "id": "caMtU6ScPOVS"
      },
      "source": [
        "- 코사인 유사도를 계산하는 함수를 정의하는 과정을 실습합니다. 이는 벡터 간의 유사도를 평가하는 방법을 보여줍니다."
      ]
    },
    {
      "cell_type": "markdown",
      "metadata": {
        "id": "iJ2fZ41XPOVS"
      },
      "source": [
        "## 08-064 유사도 계산 및 결과 출력\n",
        "- 이 실습에서는 정의된 문장 리스트에서 각 문장 쌍 간의 코사인 유사도를 계산하고 결과를 출력합니다. 두 문장 간의 유사도를 확인하기 위해 이중 루프를 사용합니다."
      ]
    },
    {
      "cell_type": "code",
      "execution_count": null,
      "metadata": {
        "colab": {
          "base_uri": "https://localhost:8080/"
        },
        "id": "cc8j74lmPOVS",
        "outputId": "6bd33938-9d92-41af-85a2-aea6c456c2cc"
      },
      "outputs": [
        {
          "name": "stdout",
          "output_type": "stream",
          "text": [
            "[유사도 0.9644] 안녕하세요? 반갑습니다. \t <=====> \t 안녕하세요? 반갑습니다!\n",
            "[유사도 0.8376] 안녕하세요? 반갑습니다. \t <=====> \t 안녕하세요? 만나서 반가워요.\n",
            "[유사도 0.5042] 안녕하세요? 반갑습니다. \t <=====> \t Hi, nice to meet you.\n",
            "[유사도 0.1362] 안녕하세요? 반갑습니다. \t <=====> \t I like to eat apples.\n",
            "[유사도 0.8142] 안녕하세요? 반갑습니다! \t <=====> \t 안녕하세요? 만나서 반가워요.\n",
            "[유사도 0.4790] 안녕하세요? 반갑습니다! \t <=====> \t Hi, nice to meet you.\n",
            "[유사도 0.1318] 안녕하세요? 반갑습니다! \t <=====> \t I like to eat apples.\n",
            "[유사도 0.5128] 안녕하세요? 만나서 반가워요. \t <=====> \t Hi, nice to meet you.\n",
            "[유사도 0.1409] 안녕하세요? 만나서 반가워요. \t <=====> \t I like to eat apples.\n",
            "[유사도 0.2249] Hi, nice to meet you. \t <=====> \t I like to eat apples.\n"
          ]
        }
      ],
      "source": [
        "# 유사도 계산\n",
        "for i, sentence in enumerate(embedded_sentences):\n",
        "    for j, other_sentence in enumerate(embedded_sentences):\n",
        "        if i < j:\n",
        "            print(\n",
        "                f\"[유사도 {similarity(sentence, other_sentence):.4f}] {sentences[i]} \\t <=====> \\t {sentences[j]}\"\n",
        "            )"
      ]
    },
    {
      "cell_type": "markdown",
      "metadata": {
        "id": "mlmJj21uPOVS"
      },
      "source": [
        "- 여러 문장 간의 유사도를 계산하고 출력하는 과정을 실습합니다. 이는 문장 간의 의미적 유사성을 평가하는 방법을 보여줍니다."
      ]
    },
    {
      "cell_type": "markdown",
      "metadata": {
        "id": "vwHWzf3OPOVS"
      },
      "source": [
        "## 08-065 JAEN에서 키워드 파일 다운로드\n",
        "- 이 실습에서는 JAEN 라이브러리를 사용하여 'nlp-keywords.txt'와 'finance-keywords.txt' 파일을 다운로드합니다. download_file 함수를 호출하여 해당 파일들을 다운로드하고, 이후에 사용할 수 있도록 준비합니다."
      ]
    },
    {
      "cell_type": "code",
      "execution_count": null,
      "metadata": {
        "colab": {
          "base_uri": "https://localhost:8080/"
        },
        "id": "xMMRiggDPOVS",
        "outputId": "686adc89-2021-4665-a6ff-a5449321c3bf"
      },
      "outputs": [
        {
          "name": "stdout",
          "output_type": "stream",
          "text": [
            "파일이 성공적으로 다운로드되었습니다: nlp-keywords.txt\n",
            "절대 경로: /content/nlp-keywords.txt\n",
            "상대 경로: nlp-keywords.txt\n",
            "파일이 성공적으로 다운로드되었습니다: finance-keywords.txt\n",
            "절대 경로: /content/finance-keywords.txt\n",
            "상대 경로: finance-keywords.txt\n"
          ]
        }
      ],
      "source": [
        "from JAEN import download_file\n",
        "\n",
        "download_file('nlp-keywords') # nlp-keywords.txt\n",
        "download_file('finance-keywords') # finance-keywords.txt"
      ]
    },
    {
      "cell_type": "markdown",
      "metadata": {
        "id": "EFFG7HxuPOVS"
      },
      "source": [
        "- JAEN 라이브러리를 사용하여 두 개의 키워드 파일을 다운로드하는 과정을 실습합니다. 이는 특정 주제에 대한 키워드를 쉽게 가져오는 방법을 보여줍니다."
      ]
    },
    {
      "cell_type": "markdown",
      "metadata": {
        "id": "bQc5fOPlPOVS"
      },
      "source": [
        "## 08-066 텍스트 파일 로드 및 문서 분할\n",
        "- 이 실습에서는 RecursiveCharacterTextSplitter를 사용하여 텍스트 파일을 문서로 로드하고 분할합니다. 각 텍스트 파일을 읽어와서 지정한 크기로 문서 조각으로 나누고, 분할된 문서의 개수를 확인합니다."
      ]
    },
    {
      "cell_type": "code",
      "execution_count": null,
      "metadata": {
        "colab": {
          "base_uri": "https://localhost:8080/"
        },
        "id": "NPp7G4rWPOVS",
        "outputId": "99d94582-2c3d-4c0b-85e6-ebed25883e34"
      },
      "outputs": [
        {
          "data": {
            "text/plain": [
              "(11, 6)"
            ]
          },
          "execution_count": 99,
          "metadata": {},
          "output_type": "execute_result"
        }
      ],
      "source": [
        "from langchain_community.document_loaders import TextLoader\n",
        "from langchain.text_splitter import RecursiveCharacterTextSplitter\n",
        "\n",
        "# 텍스트 분할\n",
        "text_splitter = RecursiveCharacterTextSplitter(chunk_size=600, chunk_overlap=0)\n",
        "\n",
        "# 텍스트 파일을 load -> List[Document] 형태로 변환\n",
        "loader1 = TextLoader(\"./nlp-keywords.txt\", encoding='utf-8')\n",
        "loader2 = TextLoader(\"./finance-keywords.txt\", encoding='utf-8')\n",
        "\n",
        "# 문서 분할\n",
        "split_doc1 = loader1.load_and_split(text_splitter)\n",
        "split_doc2 = loader2.load_and_split(text_splitter)\n",
        "\n",
        "# 문서 개수 확인\n",
        "len(split_doc1), len(split_doc2)"
      ]
    },
    {
      "cell_type": "markdown",
      "metadata": {
        "id": "Mh_0BQRpPOVS"
      },
      "source": [
        "- 텍스트 파일을 로드하고, 이를 문서로 분할하는 과정을 실습합니다. 이는 대량의 텍스트 데이터를 효과적으로 관리하는 방법을 보여줍니다."
      ]
    },
    {
      "cell_type": "markdown",
      "metadata": {
        "id": "be1lUE2aPOVS"
      },
      "source": [
        "## 08-067 FAISS 벡터 스토어 및 임베딩 차원 크기 계산\n",
        "- 이 실습에서는 OpenAIEmbeddings를 사용하여 임베딩을 생성하고, 특정 텍스트에 대한 임베딩 차원 크기를 계산합니다. embed_query 메서드를 호출하여 임베딩 벡터의 크기를 확인합니다."
      ]
    },
    {
      "cell_type": "code",
      "execution_count": null,
      "metadata": {
        "colab": {
          "base_uri": "https://localhost:8080/"
        },
        "id": "TDmTFPe5POVS",
        "outputId": "c23c3c60-507e-4c2b-fa14-7c7fb8a8b979"
      },
      "outputs": [
        {
          "name": "stdout",
          "output_type": "stream",
          "text": [
            "1536\n"
          ]
        }
      ],
      "source": [
        "import faiss\n",
        "from langchain_community.vectorstores import FAISS\n",
        "from langchain_community.docstore.in_memory import InMemoryDocstore\n",
        "from langchain_openai import OpenAIEmbeddings\n",
        "\n",
        "# 임베딩\n",
        "embeddings = OpenAIEmbeddings(model=\"text-embedding-3-small\")\n",
        "\n",
        "# 임베딩 차원 크기를 계산\n",
        "dimension_size = len(embeddings.embed_query(\"hello world\"))\n",
        "print(dimension_size)"
      ]
    },
    {
      "cell_type": "markdown",
      "metadata": {
        "id": "OivRH4kqPOVS"
      },
      "source": [
        "- FAISS 벡터 스토어와 함께 임베딩의 차원 크기를 계산하는 과정을 실습합니다. 이는 벡터 데이터를 다루는 데 필요한 차원 정보를 확인하는 방법을 보여줍니다."
      ]
    },
    {
      "cell_type": "markdown",
      "metadata": {
        "id": "KE6MEH3nPOVT"
      },
      "source": [
        "## 08-068 FAISS 벡터 스토어 생성\n",
        "- 이 실습에서는 분할된 문서 리스트를 사용하여 FAISS 벡터 스토어를 생성합니다. from_documents 메서드를 호출하여 문서와 임베딩을 사용하여 벡터 스토어를 초기화합니다."
      ]
    },
    {
      "cell_type": "code",
      "execution_count": null,
      "metadata": {
        "id": "x7RP93ZsPOVT"
      },
      "outputs": [],
      "source": [
        "# DB 생성\n",
        "db = FAISS.from_documents(documents=split_doc1,\n",
        "                          embedding=OpenAIEmbeddings(model=\"text-embedding-3-small\"))"
      ]
    },
    {
      "cell_type": "markdown",
      "metadata": {
        "id": "fLev5lBhPOVT"
      },
      "source": [
        "- FAISS 벡터 스토어를 생성하는 과정을 실습합니다. 이는 문서 데이터의 벡터화를 통해 검색 및 유사도 계산을 효율적으로 처리하는 방법을 보여줍니다."
      ]
    },
    {
      "cell_type": "markdown",
      "metadata": {
        "id": "hYOefGPSPOVT"
      },
      "source": [
        "## 08-069 FAISS DB 문서 저장소 ID 확인\n",
        "- 이 실습에서는 생성된 FAISS 벡터 스토어에서 문서 저장소 ID를 확인합니다. index_to_docstore_id 속성을 호출하여 각 문서의 ID와 관련된 정보를 출력합니다."
      ]
    },
    {
      "cell_type": "code",
      "execution_count": null,
      "metadata": {
        "colab": {
          "base_uri": "https://localhost:8080/"
        },
        "id": "kDw2XZ7jPOVT",
        "outputId": "ca1cbe0d-d0cf-4baa-b468-613ca67039b0"
      },
      "outputs": [
        {
          "data": {
            "text/plain": [
              "{0: '7571fedb-6a7a-4c37-995a-86f97b2c18f9',\n",
              " 1: '94c7ba7b-8d74-460e-81f1-38d0782f4732',\n",
              " 2: '71070d27-093f-48e7-bd13-4fd8532753c0',\n",
              " 3: '4d7f6b07-1f93-4429-bf54-8eb7eb9e1304',\n",
              " 4: '881dc941-9663-4a76-8181-a31168c05fcf',\n",
              " 5: '6a17f194-513e-4bca-9b8a-ed00b48237cb',\n",
              " 6: '66442259-b585-48a9-9270-4ad2c9996b21',\n",
              " 7: '164a9c58-cf8b-43a2-8800-4b163cdb3185',\n",
              " 8: 'b21e68b3-143d-4a5e-b4c8-48cc9bb878cb',\n",
              " 9: 'd081c3a4-1d8c-4004-934b-70d267aefc1d',\n",
              " 10: '623b193a-42bc-49fc-8ff8-424d0c312185'}"
            ]
          },
          "execution_count": 102,
          "metadata": {},
          "output_type": "execute_result"
        }
      ],
      "source": [
        "# 문서 저장소 ID 확인\n",
        "db.index_to_docstore_id"
      ]
    },
    {
      "cell_type": "markdown",
      "metadata": {
        "id": "3ISXhNFKPOVT"
      },
      "source": [
        "- FAISS DB에서 문서 저장소 ID를 확인하는 과정을 실습합니다. 이는 벡터 스토어 내의 문서 식별을 확인하는 데 유용합니다."
      ]
    },
    {
      "cell_type": "markdown",
      "metadata": {
        "id": "dhHRmvBRPOVT"
      },
      "source": [
        "## 08-070 FAISS DB에서 저장된 문서 확인\n",
        "- 이 실습에서는 FAISS 벡터 스토어의 내부 문서 저장소에서 저장된 문서들을 확인합니다. _dict 속성을 호출하여 각 문서의 ID와 내용을 확인할 수 있습니다."
      ]
    },
    {
      "cell_type": "code",
      "execution_count": null,
      "metadata": {
        "colab": {
          "base_uri": "https://localhost:8080/"
        },
        "id": "mUAfjKaQPOVT",
        "outputId": "9c57e8bc-3115-4de3-c83b-6383c0c44392"
      },
      "outputs": [
        {
          "data": {
            "text/plain": [
              "{'7571fedb-6a7a-4c37-995a-86f97b2c18f9': Document(metadata={'source': './nlp-keywords.txt'}, page_content='Semantic Search\\n\\n정의: 의미론적 검색은 사용자의 질의를 단순한 키워드 매칭을 넘어서 그 의미를 파악하여 관련된 결과를 반환하는 검색 방식입니다.\\n예시: 사용자가 \"태양계 행성\"이라고 검색하면, \"목성\", \"화성\" 등과 같이 관련된 행성에 대한 정보를 반환합니다.\\n연관키워드: 자연어 처리, 검색 알고리즘, 데이터 마이닝\\n\\nEmbedding\\n\\n정의: 임베딩은 단어나 문장 같은 텍스트 데이터를 저차원의 연속적인 벡터로 변환하는 과정입니다. 이를 통해 컴퓨터가 텍스트를 이해하고 처리할 수 있게 합니다.\\n예시: \"사과\"라는 단어를 [0.65, -0.23, 0.17]과 같은 벡터로 표현합니다.\\n연관키워드: 자연어 처리, 벡터화, 딥러닝\\n\\nToken\\n\\n정의: 토큰은 텍스트를 더 작은 단위로 분할하는 것을 의미합니다. 이는 일반적으로 단어, 문장, 또는 구절일 수 있습니다.\\n예시: 문장 \"나는 학교에 간다\"를 \"나는\", \"학교에\", \"간다\"로 분할합니다.\\n연관키워드: 토큰화, 자연어 처리, 구문 분석\\n\\nTokenizer'),\n",
              " '94c7ba7b-8d74-460e-81f1-38d0782f4732': Document(metadata={'source': './nlp-keywords.txt'}, page_content='정의: 토크나이저는 텍스트 데이터를 토큰으로 분할하는 도구입니다. 이는 자연어 처리에서 데이터를 전처리하는 데 사용됩니다.\\n예시: \"I love programming.\"이라는 문장을 [\"I\", \"love\", \"programming\", \".\"]으로 분할합니다.\\n연관키워드: 토큰화, 자연어 처리, 구문 분석\\n\\nVectorStore\\n\\n정의: 벡터스토어는 벡터 형식으로 변환된 데이터를 저장하는 시스템입니다. 이는 검색, 분류 및 기타 데이터 분석 작업에 사용됩니다.\\n예시: 단어 임베딩 벡터들을 데이터베이스에 저장하여 빠르게 접근할 수 있습니다.\\n연관키워드: 임베딩, 데이터베이스, 벡터화\\n\\nSQL\\n\\n정의: SQL(Structured Query Language)은 데이터베이스에서 데이터를 관리하기 위한 프로그래밍 언어입니다. 데이터 조회, 수정, 삽입, 삭제 등 다양한 작업을 수행할 수 있습니다.\\n예시: SELECT * FROM users WHERE age > 18;은 18세 이상의 사용자 정보를 조회합니다.\\n연관키워드: 데이터베이스, 쿼리, 데이터 관리\\n\\nCSV'),\n",
              " '71070d27-093f-48e7-bd13-4fd8532753c0': Document(metadata={'source': './nlp-keywords.txt'}, page_content='정의: CSV(Comma-Separated Values)는 데이터를 저장하는 파일 형식으로, 각 데이터 값은 쉼표로 구분됩니다. 표 형태의 데이터를 간단하게 저장하고 교환할 때 사용됩니다.\\n예시: 이름, 나이, 직업이라는 헤더를 가진 CSV 파일에는 홍길동, 30, 개발자와 같은 데이터가 포함될 수 있습니다.\\n연관키워드: 데이터 형식, 파일 처리, 데이터 교환\\n\\nJSON\\n\\n정의: JSON(JavaScript Object Notation)은 경량의 데이터 교환 형식으로, 사람과 기계 모두에게 읽기 쉬운 텍스트를 사용하여 데이터 객체를 표현합니다.\\n예시: {\"이름\": \"홍길동\", \"나이\": 30, \"직업\": \"개발자\"}는 JSON 형식의 데이터입니다.\\n연관키워드: 데이터 교환, 웹 개발, API\\n\\nTransformer\\n\\n정의: 트랜스포머는 자연어 처리에서 사용되는 딥러닝 모델의 한 유형으로, 주로 번역, 요약, 텍스트 생성 등에 사용됩니다. 이는 Attention 메커니즘을 기반으로 합니다.\\n예시: 구글 번역기는 트랜스포머 모델을 사용하여 다양한 언어 간의 번역을 수행합니다.\\n연관키워드: 딥러닝, 자연어 처리, Attention\\n\\nHuggingFace'),\n",
              " '4d7f6b07-1f93-4429-bf54-8eb7eb9e1304': Document(metadata={'source': './nlp-keywords.txt'}, page_content='정의: HuggingFace는 자연어 처리를 위한 다양한 사전 훈련된 모델과 도구를 제공하는 라이브러리입니다. 이는 연구자와 개발자들이 쉽게 NLP 작업을 수행할 수 있도록 돕습니다.\\n예시: HuggingFace의 Transformers 라이브러리를 사용하여 감정 분석, 텍스트 생성 등의 작업을 수행할 수 있습니다.\\n연관키워드: 자연어 처리, 딥러닝, 라이브러리\\n\\nDigital Transformation\\n\\n정의: 디지털 변환은 기술을 활용하여 기업의 서비스, 문화, 운영을 혁신하는 과정입니다. 이는 비즈니스 모델을 개선하고 디지털 기술을 통해 경쟁력을 높이는 데 중점을 둡니다.\\n예시: 기업이 클라우드 컴퓨팅을 도입하여 데이터 저장과 처리를 혁신하는 것은 디지털 변환의 예입니다.\\n연관키워드: 혁신, 기술, 비즈니스 모델\\n\\nCrawling\\n\\n정의: 크롤링은 자동화된 방식으로 웹 페이지를 방문하여 데이터를 수집하는 과정입니다. 이는 검색 엔진 최적화나 데이터 분석에 자주 사용됩니다.\\n예시: 구글 검색 엔진이 인터넷 상의 웹사이트를 방문하여 콘텐츠를 수집하고 인덱싱하는 것이 크롤링입니다.\\n연관키워드: 데이터 수집, 웹 스크래핑, 검색 엔진\\n\\nWord2Vec'),\n",
              " '881dc941-9663-4a76-8181-a31168c05fcf': Document(metadata={'source': './nlp-keywords.txt'}, page_content='정의: Word2Vec은 단어를 벡터 공간에 매핑하여 단어 간의 의미적 관계를 나타내는 자연어 처리 기술입니다. 이는 단어의 문맥적 유사성을 기반으로 벡터를 생성합니다.\\n예시: Word2Vec 모델에서 \"왕\"과 \"여왕\"은 서로 가까운 위치에 벡터로 표현됩니다.\\n연관키워드: 자연어 처리, 임베딩, 의미론적 유사성\\nLLM (Large Language Model)\\n\\n정의: LLM은 대규모의 텍스트 데이터로 훈련된 큰 규모의 언어 모델을 의미합니다. 이러한 모델은 다양한 자연어 이해 및 생성 작업에 사용됩니다.\\n예시: OpenAI의 GPT 시리즈는 대표적인 대규모 언어 모델입니다.\\n연관키워드: 자연어 처리, 딥러닝, 텍스트 생성\\n\\nFAISS (Facebook AI Similarity Search)\\n\\n정의: FAISS는 페이스북에서 개발한 고속 유사성 검색 라이브러리로, 특히 대규모 벡터 집합에서 유사 벡터를 효과적으로 검색할 수 있도록 설계되었습니다.\\n예시: 수백만 개의 이미지 벡터 중에서 비슷한 이미지를 빠르게 찾는 데 FAISS가 사용될 수 있습니다.\\n연관키워드: 벡터 검색, 머신러닝, 데이터베이스 최적화\\n\\nOpen Source'),\n",
              " '6a17f194-513e-4bca-9b8a-ed00b48237cb': Document(metadata={'source': './nlp-keywords.txt'}, page_content='정의: 오픈 소스는 소스 코드가 공개되어 누구나 자유롭게 사용, 수정, 배포할 수 있는 소프트웨어를 의미합니다. 이는 협업과 혁신을 촉진하는 데 중요한 역할을 합니다.\\n예시: 리눅스 운영 체제는 대표적인 오픈 소스 프로젝트입니다.\\n연관키워드: 소프트웨어 개발, 커뮤니티, 기술 협업\\n\\nStructured Data\\n\\n정의: 구조화된 데이터는 정해진 형식이나 스키마에 따라 조직된 데이터입니다. 이는 데이터베이스, 스프레드시트 등에서 쉽게 검색하고 분석할 수 있습니다.\\n예시: 관계형 데이터베이스에 저장된 고객 정보 테이블은 구조화된 데이터의 예입니다.\\n연관키워드: 데이터베이스, 데이터 분석, 데이터 모델링\\n\\nParser\\n\\n정의: 파서는 주어진 데이터(문자열, 파일 등)를 분석하여 구조화된 형태로 변환하는 도구입니다. 이는 프로그래밍 언어의 구문 분석이나 파일 데이터 처리에 사용됩니다.\\n예시: HTML 문서를 구문 분석하여 웹 페이지의 DOM 구조를 생성하는 것은 파싱의 한 예입니다.\\n연관키워드: 구문 분석, 컴파일러, 데이터 처리\\n\\nTF-IDF (Term Frequency-Inverse Document Frequency)'),\n",
              " '66442259-b585-48a9-9270-4ad2c9996b21': Document(metadata={'source': './nlp-keywords.txt'}, page_content='정의: TF-IDF는 문서 내에서 단어의 중요도를 평가하는 데 사용되는 통계적 척도입니다. 이는 문서 내 단어의 빈도와 전체 문서 집합에서 그 단어의 희소성을 고려합니다.\\n예시: 많은 문서에서 자주 등장하지 않는 단어는 높은 TF-IDF 값을 가집니다.\\n연관키워드: 자연어 처리, 정보 검색, 데이터 마이닝\\n\\nDeep Learning\\n\\n정의: 딥러닝은 인공신경망을 이용하여 복잡한 문제를 해결하는 머신러닝의 한 분야입니다. 이는 데이터에서 고수준의 표현을 학습하는 데 중점을 둡니다.\\n예시: 이미지 인식, 음성 인식, 자연어 처리 등에서 딥러닝 모델이 활용됩니다.\\n연관키워드: 인공신경망, 머신러닝, 데이터 분석\\n\\nSchema\\n\\n정의: 스키마는 데이터베이스나 파일의 구조를 정의하는 것으로, 데이터가 어떻게 저장되고 조직되는지에 대한 청사진을 제공합니다.\\n예시: 관계형 데이터베이스의 테이블 스키마는 열 이름, 데이터 타입, 키 제약 조건 등을 정의합니다.\\n연관키워드: 데이터베이스, 데이터 모델링, 데이터 관리\\n\\nDataFrame'),\n",
              " '164a9c58-cf8b-43a2-8800-4b163cdb3185': Document(metadata={'source': './nlp-keywords.txt'}, page_content=\"정의: DataFrame은 행과 열로 이루어진 테이블 형태의 데이터 구조로, 주로 데이터 분석 및 처리에 사용됩니다.\\n예시: 판다스 라이브러리에서 DataFrame은 다양한 데이터 타입의 열을 가질 수 있으며, 데이터 조작과 분석을 용이하게 합니다.\\n연관키워드: 데이터 분석, 판다스, 데이터 처리\\n\\nAttention 메커니즘\\n\\n정의: Attention 메커니즘은 딥러닝에서 중요한 정보에 더 많은 '주의'를 기울이도록 하는 기법입니다. 이는 주로 시퀀스 데이터(예: 텍스트, 시계열 데이터)에서 사용됩니다.\\n예시: 번역 모델에서 Attention 메커니즘은 입력 문장의 중요한 부분에 더 집중하여 정확한 번역을 생성합니다.\\n연관키워드: 딥러닝, 자연어 처리, 시퀀스 모델링\\n\\n판다스 (Pandas)\\n\\n정의: 판다스는 파이썬 프로그래밍 언어를 위한 데이터 분석 및 조작 도구를 제공하는 라이브러리입니다. 이는 데이터 분석 작업을 효율적으로 수행할 수 있게 합니다.\\n예시: 판다스를 사용하여 CSV 파일을 읽고, 데이터를 정제하며, 다양한 분석을 수행할 수 있습니다.\\n연관키워드: 데이터 분석, 파이썬, 데이터 처리\"),\n",
              " 'b21e68b3-143d-4a5e-b4c8-48cc9bb878cb': Document(metadata={'source': './nlp-keywords.txt'}, page_content='GPT (Generative Pretrained Transformer)\\n\\n정의: GPT는 대규모의 데이터셋으로 사전 훈련된 생성적 언어 모델로, 다양한 텍스트 기반 작업에 활용됩니다. 이는 입력된 텍스트에 기반하여 자연스러운 언어를 생성할 수 있습니다.\\n예시: 사용자가 제공한 질문에 대해 자세한 답변을 생성하는 챗봇은 GPT 모델을 사용할 수 있습니다.\\n연관키워드: 자연어 처리, 텍스트 생성, 딥러닝\\n\\nInstructGPT\\n\\n정의: InstructGPT는 사용자의 지시에 따라 특정한 작업을 수행하기 위해 최적화된 GPT 모델입니다. 이 모델은 보다 정확하고 관련성 높은 결과를 생성하도록 설계되었습니다.\\n예시: 사용자가 \"이메일 초안 작성\"과 같은 특정 지시를 제공하면, InstructGPT는 관련 내용을 기반으로 이메일을 작성합니다.\\n연관키워드: 인공지능, 자연어 이해, 명령 기반 처리\\n\\nKeyword Search'),\n",
              " 'd081c3a4-1d8c-4004-934b-70d267aefc1d': Document(metadata={'source': './nlp-keywords.txt'}, page_content='정의: 키워드 검색은 사용자가 입력한 키워드를 기반으로 정보를 찾는 과정입니다. 이는 대부분의 검색 엔진과 데이터베이스 시스템에서 기본적인 검색 방식으로 사용됩니다.\\n예시: 사용자가 \"커피숍 서울\"이라고 검색하면, 관련된 커피숍 목록을 반환합니다.\\n연관키워드: 검색 엔진, 데이터 검색, 정보 검색\\n\\nPage Rank\\n\\n정의: 페이지 랭크는 웹 페이지의 중요도를 평가하는 알고리즘으로, 주로 검색 엔진 결과의 순위를 결정하는 데 사용됩니다. 이는 웹 페이지 간의 링크 구조를 분석하여 평가합니다.\\n예시: 구글 검색 엔진은 페이지 랭크 알고리즘을 사용하여 검색 결과의 순위를 정합니다.\\n연관키워드: 검색 엔진 최적화, 웹 분석, 링크 분석\\n\\n데이터 마이닝\\n\\n정의: 데이터 마이닝은 대량의 데이터에서 유용한 정보를 발굴하는 과정입니다. 이는 통계, 머신러닝, 패턴 인식 등의 기술을 활용합니다.\\n예시: 소매업체가 고객 구매 데이터를 분석하여 판매 전략을 수립하는 것은 데이터 마이닝의 예입니다.\\n연관키워드: 빅데이터, 패턴 인식, 예측 분석\\n\\n멀티모달 (Multimodal)'),\n",
              " '623b193a-42bc-49fc-8ff8-424d0c312185': Document(metadata={'source': './nlp-keywords.txt'}, page_content='정의: 멀티모달은 여러 종류의 데이터 모드(예: 텍스트, 이미지, 소리 등)를 결합하여 처리하는 기술입니다. 이는 서로 다른 형식의 데이터 간의 상호 작용을 통해 보다 풍부하고 정확한 정보를 추출하거나 예측하는 데 사용됩니다.\\n예시: 이미지와 설명 텍스트를 함께 분석하여 더 정확한 이미지 분류를 수행하는 시스템은 멀티모달 기술의 예입니다.\\n연관키워드: 데이터 융합, 인공지능, 딥러닝')}"
            ]
          },
          "execution_count": 103,
          "metadata": {},
          "output_type": "execute_result"
        }
      ],
      "source": [
        "# 저장된 문서의 ID: Document 확인\n",
        "db.docstore._dict"
      ]
    },
    {
      "cell_type": "markdown",
      "metadata": {
        "id": "84q-DBHCPOVT"
      },
      "source": [
        "- FAISS DB에서 저장된 문서를 확인하는 과정을 실습합니다. 이는 벡터 스토어 내의 문서 내용을 검토하는 데 유용합니다."
      ]
    },
    {
      "cell_type": "markdown",
      "metadata": {
        "id": "HFIHbMN1POVT"
      },
      "source": [
        "## 08-071 FAISS DB 생성 - 문자열 리스트로\n",
        "- 이 실습에서는 문자열 리스트를 사용하여 FAISS 벡터 스토어를 생성합니다. from_texts 메서드를 사용하여 텍스트 데이터를 벡터화하고, 메타데이터 및 ID를 추가하여 문서 저장소를 초기화합니다."
      ]
    },
    {
      "cell_type": "code",
      "execution_count": null,
      "metadata": {
        "id": "Ba199-qvPOVT"
      },
      "outputs": [],
      "source": [
        "# 문자열 리스트로 생성\n",
        "db2 = FAISS.from_texts(\n",
        "    [\"안녕하세요. 정말 반갑습니다.\", \"AI Essential 과정입니다\"],\n",
        "    embedding=OpenAIEmbeddings(model=\"text-embedding-3-small\"),\n",
        "    metadatas=[{\"source\": \"텍스트문서\"}, {\"source\": \"텍스트문서\"}],\n",
        "    ids=[\"doc1\", \"doc2\"],\n",
        ")"
      ]
    },
    {
      "cell_type": "markdown",
      "metadata": {
        "id": "rg_TXez4POVT"
      },
      "source": [
        "- 문자열 리스트를 기반으로 FAISS 벡터 스토어를 생성하는 과정을 실습합니다. 이는 간단한 텍스트 데이터 처리 방법을 보여줍니다."
      ]
    },
    {
      "cell_type": "markdown",
      "metadata": {
        "id": "hd0DuObpPOVT"
      },
      "source": [
        "## 08-072 FAISS DB에서 저장된 내용 확인\n",
        "- 이 실습에서는 FAISS 벡터 스토어 db2에 저장된 내용을 확인합니다. docstore._dict 속성을 호출하여 각 문서의 ID 및 관련 내용을 출력합니다."
      ]
    },
    {
      "cell_type": "code",
      "execution_count": null,
      "metadata": {
        "colab": {
          "base_uri": "https://localhost:8080/"
        },
        "id": "E08CHojXPOVU",
        "outputId": "8775806a-b4f8-4dd7-d76f-7ebf001b4dd5"
      },
      "outputs": [
        {
          "data": {
            "text/plain": [
              "{'doc1': Document(metadata={'source': '텍스트문서'}, page_content='안녕하세요. 정말 반갑습니다.'),\n",
              " 'doc2': Document(metadata={'source': '텍스트문서'}, page_content='AI Essential 과정입니다')}"
            ]
          },
          "execution_count": 105,
          "metadata": {},
          "output_type": "execute_result"
        }
      ],
      "source": [
        "# 저장된 내용\n",
        "db2.docstore._dict"
      ]
    },
    {
      "cell_type": "markdown",
      "metadata": {
        "id": "VQQl6LnMPOVU"
      },
      "source": [
        "- FAISS DB에서 저장된 내용을 확인하는 과정을 실습합니다. 이는 생성된 문서의 내용을 검토하는 데 유용합니다."
      ]
    },
    {
      "cell_type": "markdown",
      "metadata": {
        "id": "d4O-lDpZPOVU"
      },
      "source": [
        "## 08-073 FAISS DB에서 유사도 검색\n",
        "- 이 실습에서는 FAISS 벡터 스토어를 사용하여 주어진 질문에 대한 유사한 문서를 검색합니다. similarity_search 메서드를 호출하여 입력된 질문과 가장 유사한 문서들을 찾습니다."
      ]
    },
    {
      "cell_type": "code",
      "execution_count": null,
      "metadata": {
        "colab": {
          "base_uri": "https://localhost:8080/"
        },
        "id": "vq-GfLyfPOVU",
        "outputId": "48564edb-2e6a-4f94-a8d4-eafb9b7d2f88"
      },
      "outputs": [
        {
          "data": {
            "text/plain": [
              "[Document(metadata={'source': './nlp-keywords.txt'}, page_content='정의: TF-IDF는 문서 내에서 단어의 중요도를 평가하는 데 사용되는 통계적 척도입니다. 이는 문서 내 단어의 빈도와 전체 문서 집합에서 그 단어의 희소성을 고려합니다.\\n예시: 많은 문서에서 자주 등장하지 않는 단어는 높은 TF-IDF 값을 가집니다.\\n연관키워드: 자연어 처리, 정보 검색, 데이터 마이닝\\n\\nDeep Learning\\n\\n정의: 딥러닝은 인공신경망을 이용하여 복잡한 문제를 해결하는 머신러닝의 한 분야입니다. 이는 데이터에서 고수준의 표현을 학습하는 데 중점을 둡니다.\\n예시: 이미지 인식, 음성 인식, 자연어 처리 등에서 딥러닝 모델이 활용됩니다.\\n연관키워드: 인공신경망, 머신러닝, 데이터 분석\\n\\nSchema\\n\\n정의: 스키마는 데이터베이스나 파일의 구조를 정의하는 것으로, 데이터가 어떻게 저장되고 조직되는지에 대한 청사진을 제공합니다.\\n예시: 관계형 데이터베이스의 테이블 스키마는 열 이름, 데이터 타입, 키 제약 조건 등을 정의합니다.\\n연관키워드: 데이터베이스, 데이터 모델링, 데이터 관리\\n\\nDataFrame'),\n",
              " Document(metadata={'source': './nlp-keywords.txt'}, page_content='정의: 오픈 소스는 소스 코드가 공개되어 누구나 자유롭게 사용, 수정, 배포할 수 있는 소프트웨어를 의미합니다. 이는 협업과 혁신을 촉진하는 데 중요한 역할을 합니다.\\n예시: 리눅스 운영 체제는 대표적인 오픈 소스 프로젝트입니다.\\n연관키워드: 소프트웨어 개발, 커뮤니티, 기술 협업\\n\\nStructured Data\\n\\n정의: 구조화된 데이터는 정해진 형식이나 스키마에 따라 조직된 데이터입니다. 이는 데이터베이스, 스프레드시트 등에서 쉽게 검색하고 분석할 수 있습니다.\\n예시: 관계형 데이터베이스에 저장된 고객 정보 테이블은 구조화된 데이터의 예입니다.\\n연관키워드: 데이터베이스, 데이터 분석, 데이터 모델링\\n\\nParser\\n\\n정의: 파서는 주어진 데이터(문자열, 파일 등)를 분석하여 구조화된 형태로 변환하는 도구입니다. 이는 프로그래밍 언어의 구문 분석이나 파일 데이터 처리에 사용됩니다.\\n예시: HTML 문서를 구문 분석하여 웹 페이지의 DOM 구조를 생성하는 것은 파싱의 한 예입니다.\\n연관키워드: 구문 분석, 컴파일러, 데이터 처리\\n\\nTF-IDF (Term Frequency-Inverse Document Frequency)'),\n",
              " Document(metadata={'source': './nlp-keywords.txt'}, page_content=\"정의: DataFrame은 행과 열로 이루어진 테이블 형태의 데이터 구조로, 주로 데이터 분석 및 처리에 사용됩니다.\\n예시: 판다스 라이브러리에서 DataFrame은 다양한 데이터 타입의 열을 가질 수 있으며, 데이터 조작과 분석을 용이하게 합니다.\\n연관키워드: 데이터 분석, 판다스, 데이터 처리\\n\\nAttention 메커니즘\\n\\n정의: Attention 메커니즘은 딥러닝에서 중요한 정보에 더 많은 '주의'를 기울이도록 하는 기법입니다. 이는 주로 시퀀스 데이터(예: 텍스트, 시계열 데이터)에서 사용됩니다.\\n예시: 번역 모델에서 Attention 메커니즘은 입력 문장의 중요한 부분에 더 집중하여 정확한 번역을 생성합니다.\\n연관키워드: 딥러닝, 자연어 처리, 시퀀스 모델링\\n\\n판다스 (Pandas)\\n\\n정의: 판다스는 파이썬 프로그래밍 언어를 위한 데이터 분석 및 조작 도구를 제공하는 라이브러리입니다. 이는 데이터 분석 작업을 효율적으로 수행할 수 있게 합니다.\\n예시: 판다스를 사용하여 CSV 파일을 읽고, 데이터를 정제하며, 다양한 분석을 수행할 수 있습니다.\\n연관키워드: 데이터 분석, 파이썬, 데이터 처리\"),\n",
              " Document(metadata={'source': './nlp-keywords.txt'}, page_content='정의: CSV(Comma-Separated Values)는 데이터를 저장하는 파일 형식으로, 각 데이터 값은 쉼표로 구분됩니다. 표 형태의 데이터를 간단하게 저장하고 교환할 때 사용됩니다.\\n예시: 이름, 나이, 직업이라는 헤더를 가진 CSV 파일에는 홍길동, 30, 개발자와 같은 데이터가 포함될 수 있습니다.\\n연관키워드: 데이터 형식, 파일 처리, 데이터 교환\\n\\nJSON\\n\\n정의: JSON(JavaScript Object Notation)은 경량의 데이터 교환 형식으로, 사람과 기계 모두에게 읽기 쉬운 텍스트를 사용하여 데이터 객체를 표현합니다.\\n예시: {\"이름\": \"홍길동\", \"나이\": 30, \"직업\": \"개발자\"}는 JSON 형식의 데이터입니다.\\n연관키워드: 데이터 교환, 웹 개발, API\\n\\nTransformer\\n\\n정의: 트랜스포머는 자연어 처리에서 사용되는 딥러닝 모델의 한 유형으로, 주로 번역, 요약, 텍스트 생성 등에 사용됩니다. 이는 Attention 메커니즘을 기반으로 합니다.\\n예시: 구글 번역기는 트랜스포머 모델을 사용하여 다양한 언어 간의 번역을 수행합니다.\\n연관키워드: 딥러닝, 자연어 처리, Attention\\n\\nHuggingFace')]"
            ]
          },
          "execution_count": 106,
          "metadata": {},
          "output_type": "execute_result"
        }
      ],
      "source": [
        "# 유사도 검색\n",
        "db.similarity_search(\"TF IDF 에 대하여 알려줘\")"
      ]
    },
    {
      "cell_type": "markdown",
      "metadata": {
        "id": "XBYZJyz3POVU"
      },
      "source": [
        "- FAISS DB에서 유사도 검색을 수행하는 과정을 실습합니다. 이는 벡터 스토어를 활용하여 문서 간의 유사성을 평가하는 방법을 보여줍니다."
      ]
    },
    {
      "cell_type": "markdown",
      "metadata": {
        "id": "lsmRm1AWPOVU"
      },
      "source": [
        "## 08-074 FAISS DB에서 k 값 지정하여 유사도 검색\n",
        "- 이 실습에서는 FAISS 벡터 스토어를 사용하여 주어진 질문에 대해 유사한 문서를 검색할 때 k 값을 지정합니다. similarity_search 메서드의 k 매개변수를 사용하여 반환할 유사한 문서의 수를 설정합니다."
      ]
    },
    {
      "cell_type": "code",
      "execution_count": null,
      "metadata": {
        "colab": {
          "base_uri": "https://localhost:8080/"
        },
        "id": "lHpcrnT4POVU",
        "outputId": "ab8fa9d8-a91b-4519-d3ea-113f6d5d8328"
      },
      "outputs": [
        {
          "data": {
            "text/plain": [
              "[Document(metadata={'source': './nlp-keywords.txt'}, page_content='정의: TF-IDF는 문서 내에서 단어의 중요도를 평가하는 데 사용되는 통계적 척도입니다. 이는 문서 내 단어의 빈도와 전체 문서 집합에서 그 단어의 희소성을 고려합니다.\\n예시: 많은 문서에서 자주 등장하지 않는 단어는 높은 TF-IDF 값을 가집니다.\\n연관키워드: 자연어 처리, 정보 검색, 데이터 마이닝\\n\\nDeep Learning\\n\\n정의: 딥러닝은 인공신경망을 이용하여 복잡한 문제를 해결하는 머신러닝의 한 분야입니다. 이는 데이터에서 고수준의 표현을 학습하는 데 중점을 둡니다.\\n예시: 이미지 인식, 음성 인식, 자연어 처리 등에서 딥러닝 모델이 활용됩니다.\\n연관키워드: 인공신경망, 머신러닝, 데이터 분석\\n\\nSchema\\n\\n정의: 스키마는 데이터베이스나 파일의 구조를 정의하는 것으로, 데이터가 어떻게 저장되고 조직되는지에 대한 청사진을 제공합니다.\\n예시: 관계형 데이터베이스의 테이블 스키마는 열 이름, 데이터 타입, 키 제약 조건 등을 정의합니다.\\n연관키워드: 데이터베이스, 데이터 모델링, 데이터 관리\\n\\nDataFrame'),\n",
              " Document(metadata={'source': './nlp-keywords.txt'}, page_content='정의: 오픈 소스는 소스 코드가 공개되어 누구나 자유롭게 사용, 수정, 배포할 수 있는 소프트웨어를 의미합니다. 이는 협업과 혁신을 촉진하는 데 중요한 역할을 합니다.\\n예시: 리눅스 운영 체제는 대표적인 오픈 소스 프로젝트입니다.\\n연관키워드: 소프트웨어 개발, 커뮤니티, 기술 협업\\n\\nStructured Data\\n\\n정의: 구조화된 데이터는 정해진 형식이나 스키마에 따라 조직된 데이터입니다. 이는 데이터베이스, 스프레드시트 등에서 쉽게 검색하고 분석할 수 있습니다.\\n예시: 관계형 데이터베이스에 저장된 고객 정보 테이블은 구조화된 데이터의 예입니다.\\n연관키워드: 데이터베이스, 데이터 분석, 데이터 모델링\\n\\nParser\\n\\n정의: 파서는 주어진 데이터(문자열, 파일 등)를 분석하여 구조화된 형태로 변환하는 도구입니다. 이는 프로그래밍 언어의 구문 분석이나 파일 데이터 처리에 사용됩니다.\\n예시: HTML 문서를 구문 분석하여 웹 페이지의 DOM 구조를 생성하는 것은 파싱의 한 예입니다.\\n연관키워드: 구문 분석, 컴파일러, 데이터 처리\\n\\nTF-IDF (Term Frequency-Inverse Document Frequency)')]"
            ]
          },
          "execution_count": 107,
          "metadata": {},
          "output_type": "execute_result"
        }
      ],
      "source": [
        "# k 값 지정\n",
        "db.similarity_search(\"TF IDF 에 대하여 알려줘\", k=2)"
      ]
    },
    {
      "cell_type": "markdown",
      "metadata": {
        "id": "3MNl9pvMPOVU"
      },
      "source": [
        "- k 값을 지정하여 FAISS DB에서 유사도 검색을 수행하는 과정을 실습합니다. 이는 원하는 수의 결과를 제어하는 방법을 보여줍니다."
      ]
    },
    {
      "cell_type": "markdown",
      "metadata": {
        "id": "uMLGdwgjPOVU"
      },
      "source": [
        "## 08-075 FAISS DB에 문서 추가\n",
        "- 이 실습에서는 FAISS 벡터 스토어에 새로운 문서를 추가합니다. Document 객체를 생성할 때 page_content와 metadata를 지정하고, add_documents 메서드를 사용하여 문서를 추가합니다."
      ]
    },
    {
      "cell_type": "code",
      "execution_count": null,
      "metadata": {
        "colab": {
          "base_uri": "https://localhost:8080/"
        },
        "id": "zk-veV-DPOVU",
        "outputId": "52621396-0a5c-4342-d8ea-efdc15f4a59e"
      },
      "outputs": [
        {
          "data": {
            "text/plain": [
              "['new_doc1']"
            ]
          },
          "execution_count": 108,
          "metadata": {},
          "output_type": "execute_result"
        }
      ],
      "source": [
        "from langchain_core.documents import Document\n",
        "\n",
        "# page_content, metadata 지정\n",
        "db.add_documents(\n",
        "    [\n",
        "        Document(\n",
        "            page_content=\"안녕하세요! 이번엔 도큐먼트를 새로 추가해 볼께요\",\n",
        "            metadata={\"source\": \"mydata.txt\"},\n",
        "        )\n",
        "    ],\n",
        "    ids=[\"new_doc1\"],\n",
        ")"
      ]
    },
    {
      "cell_type": "markdown",
      "metadata": {
        "id": "z_cg0S2-POVU"
      },
      "source": [
        "- FAISS DB에 문서를 추가하는 과정을 실습합니다. 이는 벡터 스토어에 데이터를 확장하는 방법을 보여줍니다."
      ]
    },
    {
      "cell_type": "markdown",
      "metadata": {
        "id": "up04njQGPOVU"
      },
      "source": [
        "## 08-076 FAISS DB에서 추가된 데이터 확인\n",
        "- 이 실습에서는 FAISS 벡터 스토어에 추가된 데이터를 확인하기 위해 similarity_search 메서드를 사용합니다. '안녕하세요'라는 쿼리를 입력하여 가장 유사한 문서를 검색하고 결과를 출력합니다."
      ]
    },
    {
      "cell_type": "code",
      "execution_count": null,
      "metadata": {
        "colab": {
          "base_uri": "https://localhost:8080/"
        },
        "id": "LFyAY4_nPOVU",
        "outputId": "c9a50918-41b0-481c-eaab-b8812caf4300"
      },
      "outputs": [
        {
          "data": {
            "text/plain": [
              "[Document(metadata={'source': 'mydata.txt'}, page_content='안녕하세요! 이번엔 도큐먼트를 새로 추가해 볼께요')]"
            ]
          },
          "execution_count": 109,
          "metadata": {},
          "output_type": "execute_result"
        }
      ],
      "source": [
        "# 추가된 데이터를 확인\n",
        "db.similarity_search(\"안녕하세요\", k=1)"
      ]
    },
    {
      "cell_type": "markdown",
      "metadata": {
        "id": "scKiX766POVU"
      },
      "source": [
        "- FAISS DB에서 추가된 데이터를 확인하는 과정을 실습합니다. 이는 추가한 문서의 유사성을 평가하는 방법을 보여줍니다."
      ]
    },
    {
      "cell_type": "markdown",
      "metadata": {
        "id": "7bDXaquZPOVV"
      },
      "source": [
        "## 08-077 FAISS DB에 텍스트 데이터 추가\n",
        "- 이 실습에서는 FAISS 벡터 스토어에 텍스트 데이터를 추가합니다. add_texts 메서드를 사용하여 텍스트 리스트와 메타데이터, ID를 함께 추가합니다."
      ]
    },
    {
      "cell_type": "code",
      "execution_count": null,
      "metadata": {
        "colab": {
          "base_uri": "https://localhost:8080/"
        },
        "id": "xXkGnflqPOVV",
        "outputId": "aeccec28-fc60-48bb-8bc6-b0a47d451fbb"
      },
      "outputs": [
        {
          "data": {
            "text/plain": [
              "['new_doc2', 'new_doc3']"
            ]
          },
          "execution_count": 110,
          "metadata": {},
          "output_type": "execute_result"
        }
      ],
      "source": [
        "# 신규 데이터를 추가\n",
        "db.add_texts(\n",
        "    [\"이번엔 텍스트 데이터를 추가합니다.\", \"추가한 2번째 텍스트 데이터 입니다.\"],\n",
        "    metadatas=[{\"source\": \"mydata.txt\"}, {\"source\": \"mydata.txt\"}],\n",
        "    ids=[\"new_doc2\", \"new_doc3\"],\n",
        ")"
      ]
    },
    {
      "cell_type": "markdown",
      "metadata": {
        "id": "wfl6FwvYPOVV"
      },
      "source": [
        "- FAISS DB에 텍스트 데이터를 추가하는 과정을 실습합니다. 이는 다양한 형태의 데이터를 벡터 스토어에 저장하는 방법을 보여줍니다."
      ]
    },
    {
      "cell_type": "markdown",
      "metadata": {
        "id": "nRXKvG27POVV"
      },
      "source": [
        "## 08-078 FAISS DB에서 추가된 데이터의 ID 확인\n",
        "- 이 실습에서는 FAISS 벡터 스토어에서 추가된 데이터의 ID를 확인합니다. index_to_docstore_id 속성을 호출하여 각 문서의 ID와 관련된 정보를 출력합니다."
      ]
    },
    {
      "cell_type": "code",
      "execution_count": null,
      "metadata": {
        "colab": {
          "base_uri": "https://localhost:8080/"
        },
        "id": "Zvp9ZxVJPOVV",
        "outputId": "00eda74e-73ce-41e2-ba03-2ca35daa9bc5"
      },
      "outputs": [
        {
          "data": {
            "text/plain": [
              "{0: '7571fedb-6a7a-4c37-995a-86f97b2c18f9',\n",
              " 1: '94c7ba7b-8d74-460e-81f1-38d0782f4732',\n",
              " 2: '71070d27-093f-48e7-bd13-4fd8532753c0',\n",
              " 3: '4d7f6b07-1f93-4429-bf54-8eb7eb9e1304',\n",
              " 4: '881dc941-9663-4a76-8181-a31168c05fcf',\n",
              " 5: '6a17f194-513e-4bca-9b8a-ed00b48237cb',\n",
              " 6: '66442259-b585-48a9-9270-4ad2c9996b21',\n",
              " 7: '164a9c58-cf8b-43a2-8800-4b163cdb3185',\n",
              " 8: 'b21e68b3-143d-4a5e-b4c8-48cc9bb878cb',\n",
              " 9: 'd081c3a4-1d8c-4004-934b-70d267aefc1d',\n",
              " 10: '623b193a-42bc-49fc-8ff8-424d0c312185',\n",
              " 11: 'new_doc1',\n",
              " 12: 'new_doc2',\n",
              " 13: 'new_doc3'}"
            ]
          },
          "execution_count": 111,
          "metadata": {},
          "output_type": "execute_result"
        }
      ],
      "source": [
        "# 추가된 데이터를 확인\n",
        "db.index_to_docstore_id"
      ]
    },
    {
      "cell_type": "markdown",
      "metadata": {
        "id": "s0AOztDRPOVV"
      },
      "source": [
        "- FAISS DB에서 추가된 데이터의 ID를 확인하는 과정을 실습합니다. 이는 벡터 스토어 내의 문서 식별을 확인하는 데 유용합니다."
      ]
    },
    {
      "cell_type": "markdown",
      "metadata": {
        "id": "OCUHwqKNPOVV"
      },
      "source": [
        "## 08-079 FAISS DB에 삭제용 데이터 추가\n",
        "- 이 실습에서는 FAISS 벡터 스토어에 삭제할 데이터를 추가합니다. add_texts 메서드를 사용하여 텍스트 리스트와 메타데이터, ID를 함께 추가합니다."
      ]
    },
    {
      "cell_type": "code",
      "execution_count": null,
      "metadata": {
        "id": "w7SU2BDoPOVV"
      },
      "outputs": [],
      "source": [
        "# 삭제용 데이터를 추가\n",
        "ids = db.add_texts(\n",
        "    [\"삭제용 데이터를 추가합니다.\", \"2번째 삭제용 데이터입니다.\"],\n",
        "    metadatas=[{\"source\": \"mydata.txt\"}, {\"source\": \"mydata.txt\"}],\n",
        "    ids=[\"delete_doc1\", \"delete_doc2\"],\n",
        ")"
      ]
    },
    {
      "cell_type": "markdown",
      "metadata": {
        "id": "Og295csoPOVV"
      },
      "source": [
        "- FAISS DB에 삭제용 데이터를 추가하는 과정을 실습합니다. 이는 나중에 데이터를 삭제하기 위해 식별할 수 있도록 데이터를 준비하는 방법을 보여줍니다."
      ]
    },
    {
      "cell_type": "markdown",
      "metadata": {
        "id": "a-U6KHRaPOVV"
      },
      "source": [
        "## 08-080 FAISS DB에서 삭제할 ID 확인\n",
        "- 이 실습에서는 FAISS 벡터 스토어에 추가한 삭제용 데이터의 ID를 확인합니다. print() 함수를 사용하여 최근에 추가한 데이터의 ID 리스트를 출력합니다."
      ]
    },
    {
      "cell_type": "code",
      "execution_count": null,
      "metadata": {
        "colab": {
          "base_uri": "https://localhost:8080/"
        },
        "id": "fJRc7LzzPOVV",
        "outputId": "c9c9dcf8-3649-4b61-c764-2c50ccd34780"
      },
      "outputs": [
        {
          "name": "stdout",
          "output_type": "stream",
          "text": [
            "['delete_doc1', 'delete_doc2']\n"
          ]
        }
      ],
      "source": [
        "# 삭제할 id 를 확인\n",
        "print(ids)"
      ]
    },
    {
      "cell_type": "markdown",
      "metadata": {
        "id": "0zSy1JEkPOVV"
      },
      "source": [
        "- FAISS DB에서 삭제할 ID를 확인하는 과정을 실습합니다. 이는 삭제할 데이터의 식별을 확인하는 데 유용합니다."
      ]
    },
    {
      "cell_type": "markdown",
      "metadata": {
        "id": "QkmpHWoMPOVV"
      },
      "source": [
        "## 08-081 FAISS DB에서 ID로 데이터 삭제\n",
        "- 이 실습에서는 FAISS 벡터 스토어에서 지정한 ID를 사용하여 데이터를 삭제합니다. delete 메서드를 호출하여 삭제할 ID 리스트를 전달합니다."
      ]
    },
    {
      "cell_type": "code",
      "execution_count": null,
      "metadata": {
        "colab": {
          "base_uri": "https://localhost:8080/"
        },
        "id": "R8YfZVXWPOVV",
        "outputId": "9860a2d7-3d4a-41c6-b8d4-8cb3bde7cf79"
      },
      "outputs": [
        {
          "data": {
            "text/plain": [
              "True"
            ]
          },
          "execution_count": 114,
          "metadata": {},
          "output_type": "execute_result"
        }
      ],
      "source": [
        "# id 로 삭제\n",
        "db.delete(ids)"
      ]
    },
    {
      "cell_type": "markdown",
      "metadata": {
        "id": "rRXVZpIIPOVW"
      },
      "source": [
        "- FAISS DB에서 특정 ID를 사용하여 데이터를 삭제하는 과정을 실습합니다. 이는 벡터 스토어에서 불필요한 데이터를 관리하는 방법을 보여줍니다."
      ]
    },
    {
      "cell_type": "markdown",
      "metadata": {
        "id": "khZ9c0rQPOVW"
      },
      "source": [
        "## 08-082 FAISS DB에서 삭제된 결과 확인\n",
        "- 이 실습에서는 FAISS 벡터 스토어에서 삭제된 결과를 확인합니다. index_to_docstore_id 속성을 호출하여 현재 문서의 ID 리스트를 출력하고, 삭제된 데이터가 반영된 결과를 확인합니다."
      ]
    },
    {
      "cell_type": "code",
      "execution_count": null,
      "metadata": {
        "colab": {
          "base_uri": "https://localhost:8080/"
        },
        "id": "N-aHzBtQPOVW",
        "outputId": "2117f4a9-1d0b-4483-8c7e-59efad841931"
      },
      "outputs": [
        {
          "data": {
            "text/plain": [
              "{0: '7571fedb-6a7a-4c37-995a-86f97b2c18f9',\n",
              " 1: '94c7ba7b-8d74-460e-81f1-38d0782f4732',\n",
              " 2: '71070d27-093f-48e7-bd13-4fd8532753c0',\n",
              " 3: '4d7f6b07-1f93-4429-bf54-8eb7eb9e1304',\n",
              " 4: '881dc941-9663-4a76-8181-a31168c05fcf',\n",
              " 5: '6a17f194-513e-4bca-9b8a-ed00b48237cb',\n",
              " 6: '66442259-b585-48a9-9270-4ad2c9996b21',\n",
              " 7: '164a9c58-cf8b-43a2-8800-4b163cdb3185',\n",
              " 8: 'b21e68b3-143d-4a5e-b4c8-48cc9bb878cb',\n",
              " 9: 'd081c3a4-1d8c-4004-934b-70d267aefc1d',\n",
              " 10: '623b193a-42bc-49fc-8ff8-424d0c312185',\n",
              " 11: 'new_doc1',\n",
              " 12: 'new_doc2',\n",
              " 13: 'new_doc3'}"
            ]
          },
          "execution_count": 115,
          "metadata": {},
          "output_type": "execute_result"
        }
      ],
      "source": [
        "# 삭제된 결과를 출력\n",
        "db.index_to_docstore_id"
      ]
    },
    {
      "cell_type": "markdown",
      "metadata": {
        "id": "sk_EpkPwPOVW"
      },
      "source": [
        "- FAISS DB에서 삭제된 결과를 확인하는 과정을 실습합니다. 이는 데이터 삭제가 제대로 이루어졌는지 검토하는 방법을 보여줍니다."
      ]
    },
    {
      "cell_type": "markdown",
      "metadata": {
        "id": "daCGM3YlPOVW"
      },
      "source": [
        "## 08-083 FAISS DB를 로컬 Disk에 저장\n",
        "- 이 실습에서는 FAISS 벡터 스토어를 로컬 디스크에 저장합니다. save_local 메서드를 사용하여 지정한 폴더와 인덱스 이름으로 데이터를 저장합니다."
      ]
    },
    {
      "cell_type": "code",
      "execution_count": null,
      "metadata": {
        "id": "LuxzdmuaPOVW"
      },
      "outputs": [],
      "source": [
        "# 로컬 Disk 에 저장\n",
        "db.save_local(folder_path=\"faiss_db\", index_name=\"faiss_index\")"
      ]
    },
    {
      "cell_type": "markdown",
      "metadata": {
        "id": "qKGp9bbTPOVW"
      },
      "source": [
        "- FAISS DB를 로컬 디스크에 저장하는 과정을 실습합니다. 이는 데이터 지속성을 확보하고 나중에 사용할 수 있도록 저장하는 방법을 보여줍니다."
      ]
    },
    {
      "cell_type": "markdown",
      "metadata": {
        "id": "gXJ1Y6t7POVW"
      },
      "source": [
        "## 08-084 로컬 Disk에서 FAISS DB 로드\n",
        "- 이 실습에서는 로컬 디스크에 저장된 FAISS 벡터 스토어를 로드합니다. load_local 메서드를 사용하여 저장된 폴더와 인덱스 이름을 지정하고, 임베딩과 함께 로드합니다."
      ]
    },
    {
      "cell_type": "code",
      "execution_count": null,
      "metadata": {
        "id": "YbG8rfOePOVW"
      },
      "outputs": [],
      "source": [
        "# 저장된 데이터를 로드\n",
        "loaded_db = FAISS.load_local(\n",
        "    folder_path=\"faiss_db\",\n",
        "    index_name=\"faiss_index\",\n",
        "    embeddings=embeddings,\n",
        "    allow_dangerous_deserialization=True,\n",
        ")"
      ]
    },
    {
      "cell_type": "markdown",
      "metadata": {
        "id": "7tXaQ3kaPOVW"
      },
      "source": [
        "- 로컬 디스크에서 FAISS DB를 로드하는 과정을 실습합니다. 이는 저장된 데이터를 불러와 사용할 수 있도록 하는 방법을 보여줍니다."
      ]
    },
    {
      "cell_type": "markdown",
      "metadata": {
        "id": "CIXosHyPPOVW"
      },
      "source": [
        "## 08-085 로드된 FAISS DB에서 데이터 확인\n",
        "- 이 실습에서는 로드된 FAISS 벡터 스토어에서 문서 저장소 ID를 확인합니다. index_to_docstore_id 속성을 호출하여 로드된 데이터의 ID 리스트를 출력합니다."
      ]
    },
    {
      "cell_type": "code",
      "execution_count": null,
      "metadata": {
        "colab": {
          "base_uri": "https://localhost:8080/"
        },
        "id": "56KfM9FYPOCq",
        "outputId": "bbd9c353-ce55-4cc1-f20c-4e7316af6c77"
      },
      "outputs": [
        {
          "data": {
            "text/plain": [
              "{0: 'b8209329-902a-4877-b426-8f3542b9ff09',\n",
              " 1: 'e50c6ac3-f1e4-4993-9b6c-097ce4f210b7',\n",
              " 2: '17191748-c607-437a-8704-288e370ec3ef',\n",
              " 3: '578d0004-99eb-4408-b7d7-c57c9bd126e4',\n",
              " 4: 'd94605ea-c8bd-475d-9171-a9e19d4864d6',\n",
              " 5: '3ef712f7-01b3-40d6-bec3-6a868c5b12a9',\n",
              " 6: '66dd291f-5f09-426e-9c46-53fc16da5fca',\n",
              " 7: '2dfb06ce-e758-42f1-92a2-ebb5b2666ffc',\n",
              " 8: 'e39027c2-eb66-4557-900f-4b91160b88db',\n",
              " 9: '1fe8ccfc-c75e-42dd-85bb-f8bf3f111443',\n",
              " 10: '67e15eb4-0cde-4890-988f-01b0dd673efc',\n",
              " 11: 'new_doc1',\n",
              " 12: 'new_doc2',\n",
              " 13: 'new_doc3'}"
            ]
          },
          "execution_count": 113,
          "metadata": {},
          "output_type": "execute_result"
        }
      ],
      "source": [
        "# 로드된 데이터를 확인\n",
        "loaded_db.index_to_docstore_id"
      ]
    },
    {
      "cell_type": "markdown",
      "metadata": {
        "id": "99xfnJuEPOVW"
      },
      "source": [
        "- 로드된 FAISS DB에서 데이터를 확인하는 과정을 실습합니다. 이는 데이터가 정상적으로 로드되었는지 검토하는 방법을 보여줍니다."
      ]
    },
    {
      "cell_type": "markdown",
      "metadata": {
        "id": "baj4sM-UPOVW"
      },
      "source": [
        "## 08-086 새로운 FAISS 벡터 저장소 생성\n",
        "- 이 실습에서는 두 개의 분할된 문서 리스트(split_doc1과 split_doc2)를 사용하여 새로운 FAISS 벡터 저장소를 생성합니다. from_documents 메서드를 호출하여 문서와 임베딩을 기반으로 벡터 스토어를 초기화합니다."
      ]
    },
    {
      "cell_type": "code",
      "execution_count": null,
      "metadata": {
        "id": "Bj-QCgC3POVW"
      },
      "outputs": [],
      "source": [
        "# 새로운 FAISS 벡터 저장소 생성\n",
        "db = FAISS.from_documents(\n",
        "    documents=split_doc1 + split_doc2, embedding=OpenAIEmbeddings(model=\"text-embedding-3-small\")\n",
        ")"
      ]
    },
    {
      "cell_type": "markdown",
      "metadata": {
        "id": "gmnDavjOPOVX"
      },
      "source": [
        "- 두 개의 문서 리스트를 결합하여 FAISS 벡터 저장소를 생성하는 과정을 실습합니다. 이는 여러 데이터 소스를 통합하여 벡터화를 수행하는 방법을 보여줍니다."
      ]
    },
    {
      "cell_type": "markdown",
      "metadata": {
        "id": "snm7bFX4POVX"
      },
      "source": [
        "## 08-087 FAISS DB를 검색기로 변환 및 검색 수행\n",
        "- 이 실습에서는 FAISS 벡터 저장소를 검색기로 변환하고, 주어진 쿼리를 사용하여 검색을 수행합니다. as_retriever 메서드를 호출하여 검색 기능을 활성화하고, invoke 메서드를 사용하여 검색 쿼리를 입력합니다."
      ]
    },
    {
      "cell_type": "code",
      "execution_count": null,
      "metadata": {
        "colab": {
          "base_uri": "https://localhost:8080/"
        },
        "id": "HaE41LfDPOVX",
        "outputId": "caca4e0a-28a8-4485-931c-9efc1d00f0bd"
      },
      "outputs": [
        {
          "data": {
            "text/plain": [
              "[Document(metadata={'source': './nlp-keywords.txt'}, page_content='정의: Word2Vec은 단어를 벡터 공간에 매핑하여 단어 간의 의미적 관계를 나타내는 자연어 처리 기술입니다. 이는 단어의 문맥적 유사성을 기반으로 벡터를 생성합니다.\\n예시: Word2Vec 모델에서 \"왕\"과 \"여왕\"은 서로 가까운 위치에 벡터로 표현됩니다.\\n연관키워드: 자연어 처리, 임베딩, 의미론적 유사성\\nLLM (Large Language Model)\\n\\n정의: LLM은 대규모의 텍스트 데이터로 훈련된 큰 규모의 언어 모델을 의미합니다. 이러한 모델은 다양한 자연어 이해 및 생성 작업에 사용됩니다.\\n예시: OpenAI의 GPT 시리즈는 대표적인 대규모 언어 모델입니다.\\n연관키워드: 자연어 처리, 딥러닝, 텍스트 생성\\n\\nFAISS (Facebook AI Similarity Search)\\n\\n정의: FAISS는 페이스북에서 개발한 고속 유사성 검색 라이브러리로, 특히 대규모 벡터 집합에서 유사 벡터를 효과적으로 검색할 수 있도록 설계되었습니다.\\n예시: 수백만 개의 이미지 벡터 중에서 비슷한 이미지를 빠르게 찾는 데 FAISS가 사용될 수 있습니다.\\n연관키워드: 벡터 검색, 머신러닝, 데이터베이스 최적화\\n\\nOpen Source'),\n",
              " Document(metadata={'source': './nlp-keywords.txt'}, page_content='정의: HuggingFace는 자연어 처리를 위한 다양한 사전 훈련된 모델과 도구를 제공하는 라이브러리입니다. 이는 연구자와 개발자들이 쉽게 NLP 작업을 수행할 수 있도록 돕습니다.\\n예시: HuggingFace의 Transformers 라이브러리를 사용하여 감정 분석, 텍스트 생성 등의 작업을 수행할 수 있습니다.\\n연관키워드: 자연어 처리, 딥러닝, 라이브러리\\n\\nDigital Transformation\\n\\n정의: 디지털 변환은 기술을 활용하여 기업의 서비스, 문화, 운영을 혁신하는 과정입니다. 이는 비즈니스 모델을 개선하고 디지털 기술을 통해 경쟁력을 높이는 데 중점을 둡니다.\\n예시: 기업이 클라우드 컴퓨팅을 도입하여 데이터 저장과 처리를 혁신하는 것은 디지털 변환의 예입니다.\\n연관키워드: 혁신, 기술, 비즈니스 모델\\n\\nCrawling\\n\\n정의: 크롤링은 자동화된 방식으로 웹 페이지를 방문하여 데이터를 수집하는 과정입니다. 이는 검색 엔진 최적화나 데이터 분석에 자주 사용됩니다.\\n예시: 구글 검색 엔진이 인터넷 상의 웹사이트를 방문하여 콘텐츠를 수집하고 인덱싱하는 것이 크롤링입니다.\\n연관키워드: 데이터 수집, 웹 스크래핑, 검색 엔진\\n\\nWord2Vec'),\n",
              " Document(metadata={'source': './nlp-keywords.txt'}, page_content='정의: 토크나이저는 텍스트 데이터를 토큰으로 분할하는 도구입니다. 이는 자연어 처리에서 데이터를 전처리하는 데 사용됩니다.\\n예시: \"I love programming.\"이라는 문장을 [\"I\", \"love\", \"programming\", \".\"]으로 분할합니다.\\n연관키워드: 토큰화, 자연어 처리, 구문 분석\\n\\nVectorStore\\n\\n정의: 벡터스토어는 벡터 형식으로 변환된 데이터를 저장하는 시스템입니다. 이는 검색, 분류 및 기타 데이터 분석 작업에 사용됩니다.\\n예시: 단어 임베딩 벡터들을 데이터베이스에 저장하여 빠르게 접근할 수 있습니다.\\n연관키워드: 임베딩, 데이터베이스, 벡터화\\n\\nSQL\\n\\n정의: SQL(Structured Query Language)은 데이터베이스에서 데이터를 관리하기 위한 프로그래밍 언어입니다. 데이터 조회, 수정, 삽입, 삭제 등 다양한 작업을 수행할 수 있습니다.\\n예시: SELECT * FROM users WHERE age > 18;은 18세 이상의 사용자 정보를 조회합니다.\\n연관키워드: 데이터베이스, 쿼리, 데이터 관리\\n\\nCSV'),\n",
              " Document(metadata={'source': './nlp-keywords.txt'}, page_content='정의: TF-IDF는 문서 내에서 단어의 중요도를 평가하는 데 사용되는 통계적 척도입니다. 이는 문서 내 단어의 빈도와 전체 문서 집합에서 그 단어의 희소성을 고려합니다.\\n예시: 많은 문서에서 자주 등장하지 않는 단어는 높은 TF-IDF 값을 가집니다.\\n연관키워드: 자연어 처리, 정보 검색, 데이터 마이닝\\n\\nDeep Learning\\n\\n정의: 딥러닝은 인공신경망을 이용하여 복잡한 문제를 해결하는 머신러닝의 한 분야입니다. 이는 데이터에서 고수준의 표현을 학습하는 데 중점을 둡니다.\\n예시: 이미지 인식, 음성 인식, 자연어 처리 등에서 딥러닝 모델이 활용됩니다.\\n연관키워드: 인공신경망, 머신러닝, 데이터 분석\\n\\nSchema\\n\\n정의: 스키마는 데이터베이스나 파일의 구조를 정의하는 것으로, 데이터가 어떻게 저장되고 조직되는지에 대한 청사진을 제공합니다.\\n예시: 관계형 데이터베이스의 테이블 스키마는 열 이름, 데이터 타입, 키 제약 조건 등을 정의합니다.\\n연관키워드: 데이터베이스, 데이터 모델링, 데이터 관리\\n\\nDataFrame')]"
            ]
          },
          "execution_count": 120,
          "metadata": {},
          "output_type": "execute_result"
        }
      ],
      "source": [
        "# 검색기로 변환\n",
        "retriever = db.as_retriever()\n",
        "# 검색 수행\n",
        "retriever.invoke(\"Word2Vec 에 대하여 알려줘\")"
      ]
    },
    {
      "cell_type": "markdown",
      "metadata": {
        "id": "uD2qHGkWPOVX"
      },
      "source": [
        "- FAISS DB를 검색기로 변환하고 검색을 수행하는 과정을 실습합니다. 이는 벡터 스토어를 활용하여 정보 검색을 가능하게 하는 방법을 보여줍니다."
      ]
    },
    {
      "cell_type": "markdown",
      "metadata": {
        "id": "DSF99MunPOVX"
      },
      "source": [
        "## 08-088 FAISS DB에서 MMR 검색 수행\n",
        "- 이 실습에서는 FAISS 벡터 저장소에서 MMR(Maximum Marginal Relevance) 검색을 수행합니다. 검색기를 생성할 때 search_type에 'mmr'을 지정하고, k, lambda_mult, fetch_k와 같은 검색 매개변수를 설정하여 유사성과 다양성을 조절합니다."
      ]
    },
    {
      "cell_type": "code",
      "execution_count": null,
      "metadata": {
        "colab": {
          "base_uri": "https://localhost:8080/"
        },
        "collapsed": true,
        "id": "KTSvjFGpPOVX",
        "outputId": "8bbc33a3-4f60-4392-bd89-8f49aa20a616"
      },
      "outputs": [
        {
          "data": {
            "text/plain": [
              "[Document(metadata={'source': './nlp-keywords.txt'}, page_content='정의: Word2Vec은 단어를 벡터 공간에 매핑하여 단어 간의 의미적 관계를 나타내는 자연어 처리 기술입니다. 이는 단어의 문맥적 유사성을 기반으로 벡터를 생성합니다.\\n예시: Word2Vec 모델에서 \"왕\"과 \"여왕\"은 서로 가까운 위치에 벡터로 표현됩니다.\\n연관키워드: 자연어 처리, 임베딩, 의미론적 유사성\\nLLM (Large Language Model)\\n\\n정의: LLM은 대규모의 텍스트 데이터로 훈련된 큰 규모의 언어 모델을 의미합니다. 이러한 모델은 다양한 자연어 이해 및 생성 작업에 사용됩니다.\\n예시: OpenAI의 GPT 시리즈는 대표적인 대규모 언어 모델입니다.\\n연관키워드: 자연어 처리, 딥러닝, 텍스트 생성\\n\\nFAISS (Facebook AI Similarity Search)\\n\\n정의: FAISS는 페이스북에서 개발한 고속 유사성 검색 라이브러리로, 특히 대규모 벡터 집합에서 유사 벡터를 효과적으로 검색할 수 있도록 설계되었습니다.\\n예시: 수백만 개의 이미지 벡터 중에서 비슷한 이미지를 빠르게 찾는 데 FAISS가 사용될 수 있습니다.\\n연관키워드: 벡터 검색, 머신러닝, 데이터베이스 최적화\\n\\nOpen Source'),\n",
              " Document(metadata={'source': './nlp-keywords.txt'}, page_content='GPT (Generative Pretrained Transformer)\\n\\n정의: GPT는 대규모의 데이터셋으로 사전 훈련된 생성적 언어 모델로, 다양한 텍스트 기반 작업에 활용됩니다. 이는 입력된 텍스트에 기반하여 자연스러운 언어를 생성할 수 있습니다.\\n예시: 사용자가 제공한 질문에 대해 자세한 답변을 생성하는 챗봇은 GPT 모델을 사용할 수 있습니다.\\n연관키워드: 자연어 처리, 텍스트 생성, 딥러닝\\n\\nInstructGPT\\n\\n정의: InstructGPT는 사용자의 지시에 따라 특정한 작업을 수행하기 위해 최적화된 GPT 모델입니다. 이 모델은 보다 정확하고 관련성 높은 결과를 생성하도록 설계되었습니다.\\n예시: 사용자가 \"이메일 초안 작성\"과 같은 특정 지시를 제공하면, InstructGPT는 관련 내용을 기반으로 이메일을 작성합니다.\\n연관키워드: 인공지능, 자연어 이해, 명령 기반 처리\\n\\nKeyword Search'),\n",
              " Document(metadata={'source': './nlp-keywords.txt'}, page_content='정의: CSV(Comma-Separated Values)는 데이터를 저장하는 파일 형식으로, 각 데이터 값은 쉼표로 구분됩니다. 표 형태의 데이터를 간단하게 저장하고 교환할 때 사용됩니다.\\n예시: 이름, 나이, 직업이라는 헤더를 가진 CSV 파일에는 홍길동, 30, 개발자와 같은 데이터가 포함될 수 있습니다.\\n연관키워드: 데이터 형식, 파일 처리, 데이터 교환\\n\\nJSON\\n\\n정의: JSON(JavaScript Object Notation)은 경량의 데이터 교환 형식으로, 사람과 기계 모두에게 읽기 쉬운 텍스트를 사용하여 데이터 객체를 표현합니다.\\n예시: {\"이름\": \"홍길동\", \"나이\": 30, \"직업\": \"개발자\"}는 JSON 형식의 데이터입니다.\\n연관키워드: 데이터 교환, 웹 개발, API\\n\\nTransformer\\n\\n정의: 트랜스포머는 자연어 처리에서 사용되는 딥러닝 모델의 한 유형으로, 주로 번역, 요약, 텍스트 생성 등에 사용됩니다. 이는 Attention 메커니즘을 기반으로 합니다.\\n예시: 구글 번역기는 트랜스포머 모델을 사용하여 다양한 언어 간의 번역을 수행합니다.\\n연관키워드: 딥러닝, 자연어 처리, Attention\\n\\nHuggingFace'),\n",
              " Document(metadata={'source': './nlp-keywords.txt'}, page_content='정의: 멀티모달은 여러 종류의 데이터 모드(예: 텍스트, 이미지, 소리 등)를 결합하여 처리하는 기술입니다. 이는 서로 다른 형식의 데이터 간의 상호 작용을 통해 보다 풍부하고 정확한 정보를 추출하거나 예측하는 데 사용됩니다.\\n예시: 이미지와 설명 텍스트를 함께 분석하여 더 정확한 이미지 분류를 수행하는 시스템은 멀티모달 기술의 예입니다.\\n연관키워드: 데이터 융합, 인공지능, 딥러닝'),\n",
              " Document(metadata={'source': './nlp-keywords.txt'}, page_content='정의: TF-IDF는 문서 내에서 단어의 중요도를 평가하는 데 사용되는 통계적 척도입니다. 이는 문서 내 단어의 빈도와 전체 문서 집합에서 그 단어의 희소성을 고려합니다.\\n예시: 많은 문서에서 자주 등장하지 않는 단어는 높은 TF-IDF 값을 가집니다.\\n연관키워드: 자연어 처리, 정보 검색, 데이터 마이닝\\n\\nDeep Learning\\n\\n정의: 딥러닝은 인공신경망을 이용하여 복잡한 문제를 해결하는 머신러닝의 한 분야입니다. 이는 데이터에서 고수준의 표현을 학습하는 데 중점을 둡니다.\\n예시: 이미지 인식, 음성 인식, 자연어 처리 등에서 딥러닝 모델이 활용됩니다.\\n연관키워드: 인공신경망, 머신러닝, 데이터 분석\\n\\nSchema\\n\\n정의: 스키마는 데이터베이스나 파일의 구조를 정의하는 것으로, 데이터가 어떻게 저장되고 조직되는지에 대한 청사진을 제공합니다.\\n예시: 관계형 데이터베이스의 테이블 스키마는 열 이름, 데이터 타입, 키 제약 조건 등을 정의합니다.\\n연관키워드: 데이터베이스, 데이터 모델링, 데이터 관리\\n\\nDataFrame'),\n",
              " Document(metadata={'source': './nlp-keywords.txt'}, page_content='정의: 키워드 검색은 사용자가 입력한 키워드를 기반으로 정보를 찾는 과정입니다. 이는 대부분의 검색 엔진과 데이터베이스 시스템에서 기본적인 검색 방식으로 사용됩니다.\\n예시: 사용자가 \"커피숍 서울\"이라고 검색하면, 관련된 커피숍 목록을 반환합니다.\\n연관키워드: 검색 엔진, 데이터 검색, 정보 검색\\n\\nPage Rank\\n\\n정의: 페이지 랭크는 웹 페이지의 중요도를 평가하는 알고리즘으로, 주로 검색 엔진 결과의 순위를 결정하는 데 사용됩니다. 이는 웹 페이지 간의 링크 구조를 분석하여 평가합니다.\\n예시: 구글 검색 엔진은 페이지 랭크 알고리즘을 사용하여 검색 결과의 순위를 정합니다.\\n연관키워드: 검색 엔진 최적화, 웹 분석, 링크 분석\\n\\n데이터 마이닝\\n\\n정의: 데이터 마이닝은 대량의 데이터에서 유용한 정보를 발굴하는 과정입니다. 이는 통계, 머신러닝, 패턴 인식 등의 기술을 활용합니다.\\n예시: 소매업체가 고객 구매 데이터를 분석하여 판매 전략을 수립하는 것은 데이터 마이닝의 예입니다.\\n연관키워드: 빅데이터, 패턴 인식, 예측 분석\\n\\n멀티모달 (Multimodal)')]"
            ]
          },
          "execution_count": 121,
          "metadata": {},
          "output_type": "execute_result"
        }
      ],
      "source": [
        "# MMR 검색 수행\n",
        "# k: 최종 문서 수\n",
        "# lambda_mult: query와의 유사성과 문서 간의 다양성 조절, 1이면 유사성 only, 0이면 다양성 only\n",
        "# fetch_k: 후보 문서 수\n",
        "retriever = db.as_retriever(\n",
        "    search_type=\"mmr\", search_kwargs={\"k\": 6, \"lambda_mult\": 0.25, \"fetch_k\": 10}\n",
        ")\n",
        "retriever.invoke(\"Word2Vec 에 대하여 알려줘\")"
      ]
    },
    {
      "cell_type": "markdown",
      "metadata": {
        "id": "91bWIugCPOVX"
      },
      "source": [
        "- FAISS DB에서 MMR 검색을 수행하는 과정을 실습합니다. 이는 검색 결과의 다양성과 관련성을 동시에 고려하는 방법을 보여줍니다."
      ]
    },
    {
      "cell_type": "markdown",
      "metadata": {
        "id": "ElKr4k2gPOVX"
      },
      "source": [
        "## 08-089 FAISS DB에서 MMR 검색 수행 (상위 2개만 반환)\n",
        "- 이 실습에서는 FAISS 벡터 저장소에서 MMR(Maximum Marginal Relevance) 검색을 수행하여 상위 2개의 문서만 반환합니다. search_kwargs를 설정하여 반환할 문서 수를 k로 지정합니다."
      ]
    },
    {
      "cell_type": "code",
      "execution_count": null,
      "metadata": {
        "colab": {
          "base_uri": "https://localhost:8080/"
        },
        "collapsed": true,
        "id": "0_BtGbT7POVX",
        "outputId": "486cbb84-0ea0-4ac2-9a85-aa83e513e687"
      },
      "outputs": [
        {
          "data": {
            "text/plain": [
              "[Document(metadata={'source': './nlp-keywords.txt'}, page_content='정의: Word2Vec은 단어를 벡터 공간에 매핑하여 단어 간의 의미적 관계를 나타내는 자연어 처리 기술입니다. 이는 단어의 문맥적 유사성을 기반으로 벡터를 생성합니다.\\n예시: Word2Vec 모델에서 \"왕\"과 \"여왕\"은 서로 가까운 위치에 벡터로 표현됩니다.\\n연관키워드: 자연어 처리, 임베딩, 의미론적 유사성\\nLLM (Large Language Model)\\n\\n정의: LLM은 대규모의 텍스트 데이터로 훈련된 큰 규모의 언어 모델을 의미합니다. 이러한 모델은 다양한 자연어 이해 및 생성 작업에 사용됩니다.\\n예시: OpenAI의 GPT 시리즈는 대표적인 대규모 언어 모델입니다.\\n연관키워드: 자연어 처리, 딥러닝, 텍스트 생성\\n\\nFAISS (Facebook AI Similarity Search)\\n\\n정의: FAISS는 페이스북에서 개발한 고속 유사성 검색 라이브러리로, 특히 대규모 벡터 집합에서 유사 벡터를 효과적으로 검색할 수 있도록 설계되었습니다.\\n예시: 수백만 개의 이미지 벡터 중에서 비슷한 이미지를 빠르게 찾는 데 FAISS가 사용될 수 있습니다.\\n연관키워드: 벡터 검색, 머신러닝, 데이터베이스 최적화\\n\\nOpen Source'),\n",
              " Document(metadata={'source': './nlp-keywords.txt'}, page_content='GPT (Generative Pretrained Transformer)\\n\\n정의: GPT는 대규모의 데이터셋으로 사전 훈련된 생성적 언어 모델로, 다양한 텍스트 기반 작업에 활용됩니다. 이는 입력된 텍스트에 기반하여 자연스러운 언어를 생성할 수 있습니다.\\n예시: 사용자가 제공한 질문에 대해 자세한 답변을 생성하는 챗봇은 GPT 모델을 사용할 수 있습니다.\\n연관키워드: 자연어 처리, 텍스트 생성, 딥러닝\\n\\nInstructGPT\\n\\n정의: InstructGPT는 사용자의 지시에 따라 특정한 작업을 수행하기 위해 최적화된 GPT 모델입니다. 이 모델은 보다 정확하고 관련성 높은 결과를 생성하도록 설계되었습니다.\\n예시: 사용자가 \"이메일 초안 작성\"과 같은 특정 지시를 제공하면, InstructGPT는 관련 내용을 기반으로 이메일을 작성합니다.\\n연관키워드: 인공지능, 자연어 이해, 명령 기반 처리\\n\\nKeyword Search')]"
            ]
          },
          "execution_count": 122,
          "metadata": {},
          "output_type": "execute_result"
        }
      ],
      "source": [
        "# MMR 검색 수행, 상위 2개만 반환\n",
        "retriever = db.as_retriever(search_type=\"mmr\", search_kwargs={\"k\": 2, \"fetch_k\": 10})\n",
        "retriever.invoke(\"Word2Vec 에 대하여 알려줘\")"
      ]
    },
    {
      "cell_type": "markdown",
      "metadata": {
        "id": "d_IBGppJPOVX"
      },
      "source": [
        "- FAISS DB에서 MMR 검색을 수행하고 상위 2개의 결과만 반환하는 과정을 실습합니다. 이는 검색 결과의 개수를 조정하여 더 구체적인 정보를 얻는 방법을 보여줍니다."
      ]
    },
    {
      "cell_type": "markdown",
      "metadata": {
        "id": "VRWEPSTOPOVX"
      },
      "source": [
        "## 08-090 FAISS DB에서 임계 값 기반 검색 수행\n",
        "- 이 실습에서는 FAISS 벡터 저장소에서 임계 값 기반 검색을 수행합니다. similarity_score_threshold 검색 유형을 사용하여 특정 유사도 점수 이상인 문서만 반환합니다. score_threshold 매개변수를 설정하여 필터링 기준을 지정합니다."
      ]
    },
    {
      "cell_type": "code",
      "execution_count": null,
      "metadata": {
        "colab": {
          "base_uri": "https://localhost:8080/"
        },
        "id": "GhvUDx0ZPOVX",
        "outputId": "250a90b8-d1c4-49e1-dc83-86f1dea2f77b"
      },
      "outputs": [
        {
          "data": {
            "text/plain": [
              "[Document(metadata={'source': './nlp-keywords.txt'}, page_content='정의: Word2Vec은 단어를 벡터 공간에 매핑하여 단어 간의 의미적 관계를 나타내는 자연어 처리 기술입니다. 이는 단어의 문맥적 유사성을 기반으로 벡터를 생성합니다.\\n예시: Word2Vec 모델에서 \"왕\"과 \"여왕\"은 서로 가까운 위치에 벡터로 표현됩니다.\\n연관키워드: 자연어 처리, 임베딩, 의미론적 유사성\\nLLM (Large Language Model)\\n\\n정의: LLM은 대규모의 텍스트 데이터로 훈련된 큰 규모의 언어 모델을 의미합니다. 이러한 모델은 다양한 자연어 이해 및 생성 작업에 사용됩니다.\\n예시: OpenAI의 GPT 시리즈는 대표적인 대규모 언어 모델입니다.\\n연관키워드: 자연어 처리, 딥러닝, 텍스트 생성\\n\\nFAISS (Facebook AI Similarity Search)\\n\\n정의: FAISS는 페이스북에서 개발한 고속 유사성 검색 라이브러리로, 특히 대규모 벡터 집합에서 유사 벡터를 효과적으로 검색할 수 있도록 설계되었습니다.\\n예시: 수백만 개의 이미지 벡터 중에서 비슷한 이미지를 빠르게 찾는 데 FAISS가 사용될 수 있습니다.\\n연관키워드: 벡터 검색, 머신러닝, 데이터베이스 최적화\\n\\nOpen Source')]"
            ]
          },
          "execution_count": 123,
          "metadata": {},
          "output_type": "execute_result"
        }
      ],
      "source": [
        "# 임계 값 기반 검색 수행\n",
        "retriever = db.as_retriever(\n",
        "    search_type=\"similarity_score_threshold\", search_kwargs={\"score_threshold\": 0.8}\n",
        ")\n",
        "\n",
        "retriever.invoke(\"Word2Vec 에 대하여 알려줘\")"
      ]
    },
    {
      "cell_type": "markdown",
      "metadata": {
        "id": "oqHnjyZIPOVX"
      },
      "source": [
        "- FAISS DB에서 임계 값 기반 검색을 수행하는 과정을 실습합니다. 이는 유사도 점수를 기반으로 문서를 필터링하여 검색 결과를 최적화하는 방법을 보여줍니다."
      ]
    },
    {
      "cell_type": "markdown",
      "metadata": {
        "id": "2x4__eqiPOVY"
      },
      "source": [
        "## 08-091 FAISS DB에서 가장 유사한 문서 검색\n",
        "- 이 실습에서는 FAISS 벡터 저장소에서 가장 유사한 문서 하나만 검색합니다. search_kwargs를 설정하여 k 값을 1로 지정하여 최상위 결과만 반환합니다."
      ]
    },
    {
      "cell_type": "code",
      "execution_count": null,
      "metadata": {
        "colab": {
          "base_uri": "https://localhost:8080/"
        },
        "id": "uZR9h2jePOVY",
        "outputId": "d90352c3-d096-4883-a02c-4dbb8f60d554"
      },
      "outputs": [
        {
          "data": {
            "text/plain": [
              "[Document(metadata={'source': './nlp-keywords.txt'}, page_content='정의: Word2Vec은 단어를 벡터 공간에 매핑하여 단어 간의 의미적 관계를 나타내는 자연어 처리 기술입니다. 이는 단어의 문맥적 유사성을 기반으로 벡터를 생성합니다.\\n예시: Word2Vec 모델에서 \"왕\"과 \"여왕\"은 서로 가까운 위치에 벡터로 표현됩니다.\\n연관키워드: 자연어 처리, 임베딩, 의미론적 유사성\\nLLM (Large Language Model)\\n\\n정의: LLM은 대규모의 텍스트 데이터로 훈련된 큰 규모의 언어 모델을 의미합니다. 이러한 모델은 다양한 자연어 이해 및 생성 작업에 사용됩니다.\\n예시: OpenAI의 GPT 시리즈는 대표적인 대규모 언어 모델입니다.\\n연관키워드: 자연어 처리, 딥러닝, 텍스트 생성\\n\\nFAISS (Facebook AI Similarity Search)\\n\\n정의: FAISS는 페이스북에서 개발한 고속 유사성 검색 라이브러리로, 특히 대규모 벡터 집합에서 유사 벡터를 효과적으로 검색할 수 있도록 설계되었습니다.\\n예시: 수백만 개의 이미지 벡터 중에서 비슷한 이미지를 빠르게 찾는 데 FAISS가 사용될 수 있습니다.\\n연관키워드: 벡터 검색, 머신러닝, 데이터베이스 최적화\\n\\nOpen Source')]"
            ]
          },
          "execution_count": 124,
          "metadata": {},
          "output_type": "execute_result"
        }
      ],
      "source": [
        "# k=1 로 설정하여 가장 유사한 문서만 검색\n",
        "retriever = db.as_retriever(search_kwargs={\"k\": 1})\n",
        "\n",
        "retriever.invoke(\"Word2Vec 에 대하여 알려줘\")"
      ]
    },
    {
      "cell_type": "markdown",
      "metadata": {
        "id": "BcCbqCOCPOVY"
      },
      "source": [
        "- FAISS DB에서 가장 유사한 문서 하나를 검색하는 과정을 실습합니다. 이는 특정 쿼리에 대해 가장 관련성 높은 문서를 찾는 방법을 보여줍니다."
      ]
    },
    {
      "cell_type": "markdown",
      "metadata": {
        "id": "yhBts-pPPOVY"
      },
      "source": [
        "## 08-092 JAEN에서 키워드 파일 다운로드\n",
        "- 이 실습에서는 JAEN 라이브러리를 사용하여 'appendix-keywords.txt' 파일을 다운로드합니다. download_file 함수를 호출하여 해당 파일을 다운로드하고, 이후에 사용할 수 있도록 준비합니다."
      ]
    },
    {
      "cell_type": "code",
      "execution_count": null,
      "metadata": {
        "colab": {
          "base_uri": "https://localhost:8080/"
        },
        "id": "unArt_YVPOVY",
        "outputId": "afccc7d9-cb64-4510-cd80-6c47ced2c1cf"
      },
      "outputs": [
        {
          "name": "stdout",
          "output_type": "stream",
          "text": [
            "파일이 성공적으로 다운로드되었습니다: appendix-keywords.txt\n",
            "절대 경로: /content/appendix-keywords.txt\n",
            "상대 경로: appendix-keywords.txt\n"
          ]
        }
      ],
      "source": [
        "from JAEN import download_file\n",
        "\n",
        "download_file('appendix-keywords') # appendix-keywords.txt"
      ]
    },
    {
      "cell_type": "markdown",
      "metadata": {
        "id": "ooWUOLIOPOVY"
      },
      "source": [
        "- JAEN 라이브러리를 사용하여 추가 키워드 파일을 다운로드하는 과정을 실습합니다. 이는 특정 주제에 대한 키워드를 쉽게 가져오는 방법을 보여줍니다."
      ]
    },
    {
      "cell_type": "markdown",
      "metadata": {
        "id": "XHe6OeFsPOVY"
      },
      "source": [
        "## 08-093 appendix-keywords.txt 파일 로드 및 FAISS 벡터 데이터베이스 생성\n",
        "- 이 실습에서는 appendix-keywords.txt 파일을 로드하여 내용을 문서로 읽고, CharacterTextSplitter를 사용하여 문서를 지정된 크기로 분할합니다. 이후 OpenAIEmbeddings를 사용하여 문서의 임베딩을 생성하고, FAISS 벡터 데이터베이스를 생성합니다."
      ]
    },
    {
      "cell_type": "code",
      "execution_count": null,
      "metadata": {
        "id": "-ZmuxsCYPOVY"
      },
      "outputs": [],
      "source": [
        "from langchain_community.vectorstores import FAISS\n",
        "from langchain_openai import OpenAIEmbeddings\n",
        "from langchain_text_splitters import CharacterTextSplitter\n",
        "from langchain_community.document_loaders import TextLoader\n",
        "\n",
        "# TextLoader를 사용하여 파일을 로드합니다.\n",
        "loader = TextLoader(\"appendix-keywords.txt\", encoding='utf-8')\n",
        "\n",
        "# 문서를 로드합니다.\n",
        "documents = loader.load()\n",
        "\n",
        "# 문자 기반으로 텍스트를 분할하는 CharacterTextSplitter를 생성합니다. 청크 크기는 300이고 청크 간 중복은 없습니다.\n",
        "text_splitter = CharacterTextSplitter(chunk_size=300, chunk_overlap=0)\n",
        "\n",
        "# 로드된 문서를 분할합니다.\n",
        "split_docs = text_splitter.split_documents(documents)\n",
        "\n",
        "# OpenAI 임베딩을 생성합니다.\n",
        "embeddings = OpenAIEmbeddings(model=\"text-embedding-3-small\")\n",
        "\n",
        "# 분할된 텍스트와 임베딩을 사용하여 FAISS 벡터 데이터베이스를 생성합니다.\n",
        "db = FAISS.from_documents(split_docs, embeddings)"
      ]
    },
    {
      "cell_type": "markdown",
      "metadata": {
        "id": "knnPj0LKPOVY"
      },
      "source": [
        "- 텍스트 파일을 로드하고, 문서로 분할한 후 FAISS 벡터 데이터베이스를 생성하는 과정을 실습합니다. 이는 다양한 문서 데이터를 벡터화하여 검색 및 유사도 평가를 가능하게 하는 방법을 보여줍니다."
      ]
    },
    {
      "cell_type": "markdown",
      "metadata": {
        "id": "4QGDY37LPOVY"
      },
      "source": [
        "## 08-094 FAISS DB를 검색기로 변환\n",
        "- 이 실습에서는 FAISS 벡터 데이터베이스를 검색기로 변환합니다. as_retriever 메서드를 호출하여 검색 기능을 활성화하고, 검색 작업에 사용할 retriever 변수를 설정합니다."
      ]
    },
    {
      "cell_type": "code",
      "execution_count": null,
      "metadata": {
        "id": "4VNjIxpHPOVY"
      },
      "outputs": [],
      "source": [
        "# 데이터베이스를 검색기로 사용하기 위해 retriever 변수에 할당\n",
        "retriever = db.as_retriever()"
      ]
    },
    {
      "cell_type": "markdown",
      "metadata": {
        "id": "OXxbSKftPOVY"
      },
      "source": [
        "- FAISS DB를 검색기로 변환하는 과정을 실습합니다. 이는 저장된 데이터를 효과적으로 검색할 수 있는 방법을 보여줍니다."
      ]
    },
    {
      "cell_type": "markdown",
      "metadata": {
        "id": "OrGCAgcxPOVY"
      },
      "source": [
        "## 08-095 질문-답변 프롬프트 템플릿 생성\n",
        "- 이 실습에서는 질문-답변을 위한 프롬프트 템플릿을 생성합니다. 주어진 질문과 문맥에 따라 적절한 답변을 유도하는 형식을 설정합니다."
      ]
    },
    {
      "cell_type": "code",
      "execution_count": null,
      "metadata": {
        "id": "prbskZnfPOVY"
      },
      "outputs": [],
      "source": [
        "from langchain_core.prompts import PromptTemplate\n",
        "\n",
        "prompt = PromptTemplate.from_template(\n",
        "    \"\"\"당신은 질문-답변(Question-Answering)을 수행하는 친절한 AI 어시스턴트입니다. 당신의 임무는 주어진 문맥(context) 에서 주어진 질문(question) 에 답하는 것입니다.\n",
        "검색된 다음 문맥(context) 을 사용하여 질문(question) 에 답하세요. 만약, 주어진 문맥(context) 에서 답을 찾을 수 없다면, 답을 모른다면 주어진 정보에서 질문에 대한 정보를 찾을 수 없습니다 라고 답하세요.\n",
        "한글로 답변해 주세요. 단, 기술적인 용어나 이름은 번역하지 않고 그대로 사용해 주세요.\n",
        "\n",
        "#Question:\n",
        "{question}\n",
        "\n",
        "#Context:\n",
        "{context}\n",
        "\n",
        "#Answer:\"\"\"\n",
        ")"
      ]
    },
    {
      "cell_type": "markdown",
      "metadata": {
        "id": "U86QrM4ePOVZ"
      },
      "source": [
        "- 질문-답변 프롬프트 템플릿을 생성하여 AI 어시스턴트가 사용자 질문에 대한 응답을 제공하는 방법을 실습합니다."
      ]
    },
    {
      "cell_type": "markdown",
      "metadata": {
        "id": "egToRr1pPOVZ"
      },
      "source": [
        "## 08-096 RAG 체인 생성\n",
        "- 이 실습에서는 질문-답변 체인을 생성하기 위해 RAG(Retrieval-Augmented Generation) 체인을 설정합니다. retriever와 prompt를 결합하여 질문과 관련된 문맥을 바탕으로 답변을 생성합니다."
      ]
    },
    {
      "cell_type": "code",
      "execution_count": null,
      "metadata": {
        "id": "3C9S0AetPOVZ"
      },
      "outputs": [],
      "source": [
        "from langchain_core.runnables import RunnablePassthrough\n",
        "from langchain_core.output_parsers import StrOutputParser\n",
        "from langchain_openai import ChatOpenAI\n",
        "\n",
        "llm = ChatOpenAI(model_name=\"gpt-4o-mini\", temperature=0)\n",
        "\n",
        "# 체인을 생성합니다.\n",
        "rag_chain = (\n",
        "    {\"context\": retriever, \"question\": RunnablePassthrough()}\n",
        "    | prompt\n",
        "    | llm\n",
        "    | StrOutputParser()\n",
        ")"
      ]
    },
    {
      "cell_type": "markdown",
      "metadata": {
        "id": "Fp-HrH10POVZ"
      },
      "source": [
        "- RAG 체인을 생성하여 검색된 문맥을 활용하여 질문에 대한 응답을 생성하는 과정을 실습합니다. 이는 정보 검색과 생성적 응답을 통합하는 방법을 보여줍니다."
      ]
    },
    {
      "cell_type": "markdown",
      "metadata": {
        "id": "CksFaF-iPOVZ"
      },
      "source": [
        "## 08-097 RunnablePassthrough 사용 예제\n",
        "- 이 실습에서는 RunnablePassthrough를 사용하여 다양한 형식의 입력 데이터를 그대로 통과시키는 예제를 보여줍니다. invoke 메서드를 호출하여 데이터의 원본 형태를 유지하며 출력합니다."
      ]
    },
    {
      "cell_type": "code",
      "execution_count": null,
      "metadata": {
        "colab": {
          "base_uri": "https://localhost:8080/"
        },
        "id": "v6tyBFLwPOVZ",
        "outputId": "3b467df3-61b5-42cd-80f9-fb4cc5342efa"
      },
      "outputs": [
        {
          "name": "stdout",
          "output_type": "stream",
          "text": [
            "{'name': 'AI Essential', 'Class': 1}\n",
            "[10, 20, 30, 40, 50]\n"
          ]
        }
      ],
      "source": [
        "from langchain_core.runnables import RunnablePassthrough\n",
        "\n",
        "result = RunnablePassthrough().invoke({'name': 'AI Essential', 'Class': 1})\n",
        "print(result)\n",
        "result = RunnablePassthrough().invoke([10, 20, 30, 40, 50])\n",
        "print(result)"
      ]
    },
    {
      "cell_type": "markdown",
      "metadata": {
        "id": "cbAeVDZcPOVZ"
      },
      "source": [
        "- RunnablePassthrough를 사용하여 입력 데이터를 그대로 반환하는 과정을 실습합니다. 이는 데이터 흐름을 유지하면서 추가 처리를 하지 않고 원본 데이터를 사용할 수 있도록 하는 방법을 보여줍니다."
      ]
    },
    {
      "cell_type": "markdown",
      "metadata": {
        "id": "sdql6be_POVZ"
      },
      "source": [
        "## 08-098 LLM과 StrOutputParser 결합 사용\n",
        "- 이 실습에서는 LLM(대형 언어 모델)과 StrOutputParser를 결합하여 주어진 질문에 대한 답변을 생성합니다. invoke 메서드를 호출하여 '임베딩에 대해 알려줘'라는 질문에 대한 응답을 출력합니다."
      ]
    },
    {
      "cell_type": "code",
      "execution_count": null,
      "metadata": {
        "colab": {
          "base_uri": "https://localhost:8080/",
          "height": 257
        },
        "id": "AR_lUCv9POVZ",
        "outputId": "7e7309dd-3657-4135-8efb-97998b0c302e"
      },
      "outputs": [
        {
          "data": {
            "application/vnd.google.colaboratory.intrinsic+json": {
              "type": "string"
            },
            "text/plain": [
              "'임베딩(embedding)은 고차원 데이터를 저차원 공간에 매핑하는 방법으로, 주로 자연어 처리(NLP), 이미지 처리, 추천 시스템 등 다양한 분야에서 사용됩니다. 임베딩의 주요 목적은 데이터의 의미를 보존하면서 더 효율적으로 처리할 수 있도록 하는 것입니다.\\n\\n### 1. 자연어 처리에서의 임베딩\\n자연어 처리에서는 단어, 문장, 또는 문서와 같은 텍스트 데이터를 벡터 형태로 변환하는 데 사용됩니다. 대표적인 예로는 다음과 같은 것들이 있습니다:\\n\\n- **Word2Vec**: 단어를 고차원 공간의 벡터로 변환하여 단어 간의 의미적 유사성을 포착합니다. 주로 CBOW(Continuous Bag of Words)와 Skip-gram 모델이 사용됩니다.\\n- **GloVe (Global Vectors for Word Representation)**: 단어의 동시 발생 행렬을 기반으로 단어 벡터를 생성합니다.\\n- **FastText**: 단어를 n-그램으로 분해하여 더 세밀한 의미를 포착할 수 있도록 합니다.\\n\\n### 2. 이미지 처리에서의 임베딩\\n이미지 데이터를 저차원 벡터로 변환하여 이미지 간의 유사성을 측정하거나 분류하는 데 사용됩니다. 예를 들어, CNN(Convolutional Neural Networks)을 사용하여 이미지의 특징을 추출하고 이를 벡터로 표현할 수 있습니다.\\n\\n### 3. 추천 시스템에서의 임베딩\\n사용자와 아이템(예: 영화, 상품 등)을 벡터로 표현하여 유사한 사용자나 아이템을 찾는 데 사용됩니다. 이를 통해 개인화된 추천을 제공할 수 있습니다.\\n\\n### 4. 임베딩의 장점\\n- **차원 축소**: 고차원 데이터를 저차원으로 변환하여 계산 효율성을 높입니다.\\n- **유사성 측정**: 벡터 간의 거리(예: 코사인 유사도)를 통해 데이터 간의 유사성을 쉽게 측정할 수 있습니다.\\n- **의미 보존**: 데이터의 의미적 관계를 유지하면서 표현할 수 있습니다.\\n\\n임베딩은 다양한 분야에서 데이터의 표현과 처리를 효율적으로 만들어 주는 중요한 기술입니다.'"
            ]
          },
          "execution_count": 131,
          "metadata": {},
          "output_type": "execute_result"
        }
      ],
      "source": [
        "(llm | StrOutputParser()).invoke(\"임베딩에 대해 알려줘\")"
      ]
    },
    {
      "cell_type": "markdown",
      "metadata": {
        "id": "-NtgZgaJPOVZ"
      },
      "source": [
        "- LLM과 StrOutputParser를 결합하여 질문에 대한 응답을 생성하는 과정을 실습합니다. 이는 언어 모델의 출력을 간단하게 파싱하는 방법을 보여줍니다."
      ]
    },
    {
      "cell_type": "markdown",
      "metadata": {
        "id": "PyYoAKXaPOVZ"
      },
      "source": [
        "## 08-099 RAG 체인 사용하여 질문에 대한 응답 생성\n",
        "- 이 실습에서는 RAG 체인을 사용하여 '임베딩에 대해 알려줘'라는 질문에 대한 응답을 생성합니다. invoke 메서드를 호출하여 검색된 문맥을 기반으로 언어 모델이 답변을 생성합니다."
      ]
    },
    {
      "cell_type": "code",
      "execution_count": null,
      "metadata": {
        "colab": {
          "base_uri": "https://localhost:8080/",
          "height": 72
        },
        "id": "lYHI-AKYPOVZ",
        "outputId": "0abf284a-4b53-4516-f3a7-2f92e3d91d77"
      },
      "outputs": [
        {
          "data": {
            "application/vnd.google.colaboratory.intrinsic+json": {
              "type": "string"
            },
            "text/plain": [
              "'임베딩은 단어나 문장 같은 텍스트 데이터를 저차원의 연속적인 벡터로 변환하는 과정입니다. 이를 통해 컴퓨터가 텍스트를 이해하고 처리할 수 있게 됩니다. 예를 들어, \"사과\"라는 단어는 [0.65, -0.23, 0.17]과 같은 벡터로 표현될 수 있습니다. 임베딩은 자연어 처리, 벡터화, 딥러닝과 관련된 기술입니다.'"
            ]
          },
          "execution_count": 132,
          "metadata": {},
          "output_type": "execute_result"
        }
      ],
      "source": [
        "rag_chain.invoke('임베딩에 대해 알려줘')"
      ]
    },
    {
      "cell_type": "markdown",
      "metadata": {
        "id": "SO1TxqJzPOVZ"
      },
      "source": [
        "- RAG 체인을 통해 주어진 질문에 대한 응답을 생성하는 과정을 실습합니다. 이는 검색된 정보를 바탕으로 생성적 응답을 제공하는 방법을 보여줍니다."
      ]
    }
  ],
  "metadata": {
    "colab": {
      "provenance": [],
      "include_colab_link": true
    },
    "kernelspec": {
      "display_name": "base",
      "language": "python",
      "name": "python3"
    },
    "language_info": {
      "codemirror_mode": {
        "name": "ipython",
        "version": 3
      },
      "file_extension": ".py",
      "mimetype": "text/x-python",
      "name": "python",
      "nbconvert_exporter": "python",
      "pygments_lexer": "ipython3",
      "version": "3.10.14"
    }
  },
  "nbformat": 4,
  "nbformat_minor": 0
}