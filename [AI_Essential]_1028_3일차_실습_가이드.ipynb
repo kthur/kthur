{
  "cells": [
    {
      "cell_type": "markdown",
      "metadata": {
        "id": "view-in-github",
        "colab_type": "text"
      },
      "source": [
        "<a href=\"https://colab.research.google.com/github/kthur/kthur/blob/master/%5BAI_Essential%5D_1028_3%EC%9D%BC%EC%B0%A8_%EC%8B%A4%EC%8A%B5_%EA%B0%80%EC%9D%B4%EB%93%9C.ipynb\" target=\"_parent\"><img src=\"https://colab.research.google.com/assets/colab-badge.svg\" alt=\"Open In Colab\"/></a>"
      ]
    },
    {
      "cell_type": "code",
      "execution_count": null,
      "id": "bT1B36_sNZWL",
      "metadata": {
        "id": "bT1B36_sNZWL"
      },
      "outputs": [],
      "source": [
        "%%capture\n",
        "!pip install JAEN torchinfo transformers -qU"
      ]
    },
    {
      "cell_type": "code",
      "execution_count": null,
      "id": "JHnvI1PtCLOI",
      "metadata": {
        "colab": {
          "base_uri": "https://localhost:8080/"
        },
        "id": "JHnvI1PtCLOI",
        "outputId": "b648bbb4-033c-43f4-cd24-ed3232de66d0"
      },
      "outputs": [
        {
          "name": "stdout",
          "output_type": "stream",
          "text": [
            "0.1.0\n"
          ]
        }
      ],
      "source": [
        "import JAEN\n",
        "\n",
        "print(JAEN.__version__) # 버전확인"
      ]
    },
    {
      "cell_type": "code",
      "execution_count": null,
      "id": "2487932e",
      "metadata": {
        "id": "2487932e"
      },
      "outputs": [],
      "source": [
        "# 필요 도구 import\n",
        "import torch\n",
        "import torch.nn as nn\n",
        "import torch.optim as optim\n",
        "from torchinfo import summary\n",
        "from torchvision import datasets, transforms\n",
        "from torch.utils.data import DataLoader\n",
        "from JAEN.utils import train_and_evaluate, plot_training_results\n",
        "\n",
        "\n",
        "device = torch.device(\"cuda\" if torch.cuda.is_available() else \"cpu\")\n",
        "device"
      ]
    },
    {
      "cell_type": "code",
      "execution_count": null,
      "id": "738e2173",
      "metadata": {
        "id": "738e2173"
      },
      "outputs": [],
      "source": [
        "# FashionMNIST 데이터 변환 (이미지를 텐서로 변환하고 [0, 1] 범위로 정규화)\n",
        "transform = transforms.Compose([\n",
        "    transforms.ToTensor(),\n",
        "])\n",
        "\n",
        "# 학습 및 테스트 데이터셋 로드\n",
        "train_dataset = datasets.FashionMNIST(root='./data', train=True, transform=transform, download=True)\n",
        "test_dataset = datasets.FashionMNIST(root='./data', train=False, transform=transform, download=True)\n",
        "\n",
        "# 데이터 로더 생성\n",
        "train_loader = DataLoader(train_dataset, batch_size=64, shuffle=True)\n",
        "test_loader = DataLoader(test_dataset, batch_size=1000, shuffle=False)"
      ]
    },
    {
      "cell_type": "markdown",
      "id": "4e0dc749",
      "metadata": {
        "id": "4e0dc749"
      },
      "source": [
        "---"
      ]
    },
    {
      "cell_type": "markdown",
      "id": "d96d0859",
      "metadata": {
        "id": "d96d0859"
      },
      "source": [
        "# CNN"
      ]
    },
    {
      "cell_type": "markdown",
      "id": "44e59758",
      "metadata": {
        "id": "44e59758"
      },
      "source": [
        "## 05-001 2D 컨볼루션 출력 크기 계산 함수 구현\n",
        "- 이 실습에서는 2D 컨볼루션 레이어의 출력 크기를 계산하는 함수를 구현합니다. 입력 크기, 커널 크기, 스트라이드, 패딩을 매개변수로 받아 컨볼루션 계산 공식을 사용하여 출력 높이와 너비를 반환합니다. 이 함수는 CNN 모델 설계 시 출력 크기를 예측하는 데 유용합니다."
      ]
    },
    {
      "cell_type": "code",
      "execution_count": null,
      "id": "539f2026",
      "metadata": {
        "id": "539f2026"
      },
      "outputs": [],
      "source": [
        "def conv2d_output_size(input_size, kernel_size, stride=1, padding=0):\n",
        "    height, width = input_size\n",
        "\n",
        "    # Convolution 공식 적용\n",
        "    out_height = (height + 2 * padding - kernel_size) // stride + 1\n",
        "    out_width = (width + 2 * padding - kernel_size) // stride + 1\n",
        "\n",
        "    return out_height, out_width"
      ]
    },
    {
      "cell_type": "markdown",
      "id": "1908c8b3",
      "metadata": {
        "id": "1908c8b3"
      },
      "source": [
        "- 2D 컨볼루션의 출력 크기를 계산하는 함수를 구현하는 과정을 실습합니다. 이 함수는 신경망 설계 시 중요한 역할을 합니다."
      ]
    },
    {
      "cell_type": "markdown",
      "id": "86227d01",
      "metadata": {
        "id": "86227d01"
      },
      "source": [
        "## 05-002 컨볼루션 출력 크기 계산\n",
        "- 이 실습에서는 앞서 구현한 conv2d_output_size() 함수를 사용하여 컨볼루션 레이어의 출력 크기를 계산합니다. 입력으로 28x28 크기의 이미지와 3x3 커널, 스트라이드 1, 패딩 0을 설정하여 출력 feature map의 크기를 확인합니다."
      ]
    },
    {
      "cell_type": "code",
      "execution_count": null,
      "id": "297de160",
      "metadata": {
        "id": "297de160",
        "outputId": "8e0955ac-c389-4daa-f76a-4b2a2a3c3a72"
      },
      "outputs": [
        {
          "name": "stdout",
          "output_type": "stream",
          "text": [
            "Output feature map size: (26, 26)\n"
          ]
        }
      ],
      "source": [
        "# 입력 크기 (Height, Width), 커널 크기, 스트라이드, 패딩\n",
        "output_size = conv2d_output_size((28, 28), 3, 1, 0)\n",
        "print(f\"Output feature map size: {output_size}\")"
      ]
    },
    {
      "cell_type": "markdown",
      "id": "7b918a28",
      "metadata": {
        "id": "7b918a28"
      },
      "source": [
        "- 입력 이미지와 커널의 크기를 사용하여 컨볼루션의 출력 크기를 계산하고 확인하는 과정을 실습합니다. 이를 통해 CNN 모델의 구조를 이해하는 데 도움이 됩니다."
      ]
    },
    {
      "cell_type": "markdown",
      "id": "79840e92",
      "metadata": {
        "id": "79840e92"
      },
      "source": [
        "## 05-003 패딩을 포함한 컨볼루션 출력 크기 계산\n",
        "- 이 실습에서는 conv2d_output_size() 함수를 사용하여 패딩을 포함한 컨볼루션 레이어의 출력 크기를 계산합니다. 입력으로 28x28 크기의 이미지와 3x3 커널, 스트라이드 1, 패딩 1을 설정하여 출력 feature map의 크기를 확인합니다. 이 과정은 CNN 설계 시 출력 크기를 예측하는 데 중요합니다."
      ]
    },
    {
      "cell_type": "code",
      "execution_count": null,
      "id": "e781cbd4",
      "metadata": {
        "id": "e781cbd4",
        "outputId": "e00e2a2b-3fa2-4066-99aa-6b8cb00610e8"
      },
      "outputs": [
        {
          "name": "stdout",
          "output_type": "stream",
          "text": [
            "Output feature map size: (28, 28)\n"
          ]
        }
      ],
      "source": [
        "# 입력 크기 (Height, Width), 커널 크기, 스트라이드, 패딩\n",
        "output_size = conv2d_output_size((28, 28), 3, 1, 1)\n",
        "print(f\"Output feature map size: {output_size}\")"
      ]
    },
    {
      "cell_type": "markdown",
      "id": "3711b3bc",
      "metadata": {
        "id": "3711b3bc"
      },
      "source": [
        "- 패딩을 포함하여 컨볼루션의 출력 크기를 계산하고 확인하는 과정을 실습합니다. 패딩의 효과를 이해하는 데 도움이 됩니다."
      ]
    },
    {
      "cell_type": "markdown",
      "id": "7fd8b472",
      "metadata": {
        "id": "7fd8b472"
      },
      "source": [
        "## 05-004 스트라이드를 포함한 컨볼루션 출력 크기 계산\n",
        "- 이 실습에서는 conv2d_output_size() 함수를 사용하여 스트라이드를 포함한 컨볼루션 레이어의 출력 크기를 계산합니다. 입력으로 28x28 크기의 이미지와 3x3 커널, 스트라이드 2, 패딩 0을 설정하여 출력 feature map의 크기를 확인합니다. 이 과정은 CNN 모델 설계 시 중요한 요소입니다."
      ]
    },
    {
      "cell_type": "code",
      "execution_count": null,
      "id": "0c8be829",
      "metadata": {
        "id": "0c8be829",
        "outputId": "5d2f424b-6f49-46ab-b4b4-7a22381557fe"
      },
      "outputs": [
        {
          "name": "stdout",
          "output_type": "stream",
          "text": [
            "Output feature map size: (13, 13)\n"
          ]
        }
      ],
      "source": [
        "# 입력 크기 (Height, Width), 커널 크기, 스트라이드, 패딩\n",
        "output_size = conv2d_output_size((28, 28), 3, 2, 0)\n",
        "print(f\"Output feature map size: {output_size}\")"
      ]
    },
    {
      "cell_type": "markdown",
      "id": "2a2b75f0",
      "metadata": {
        "id": "2a2b75f0"
      },
      "source": [
        "- 스트라이드를 포함하여 컨볼루션의 출력 크기를 계산하고 확인하는 과정을 실습합니다. 스트라이드의 효과를 이해하는 데 도움이 됩니다."
      ]
    },
    {
      "cell_type": "markdown",
      "id": "d3216ce4",
      "metadata": {
        "id": "d3216ce4"
      },
      "source": [
        "## 05-005 스트라이드 및 패딩을 포함한 컨볼루션 출력 크기 계산\n",
        "- 이 실습에서는 conv2d_output_size() 함수를 사용하여 스트라이드와 패딩을 모두 포함한 컨볼루션 레이어의 출력 크기를 계산합니다. 입력으로 28x28 크기의 이미지와 3x3 커널, 스트라이드 2, 패딩 1을 설정하여 출력 feature map의 크기를 확인합니다. 이 과정은 CNN 설계 시 중요한 요소입니다."
      ]
    },
    {
      "cell_type": "code",
      "execution_count": null,
      "id": "822edc66",
      "metadata": {
        "id": "822edc66",
        "outputId": "49300cc2-da83-45a1-9bfa-99f7f8cb94a8"
      },
      "outputs": [
        {
          "name": "stdout",
          "output_type": "stream",
          "text": [
            "Output feature map size: (14, 14)\n"
          ]
        }
      ],
      "source": [
        "# 입력 크기 (Height, Width), 커널 크기, 스트라이드, 패딩\n",
        "output_size = conv2d_output_size((28, 28), 3, 2, 1)\n",
        "print(f\"Output feature map size: {output_size}\")"
      ]
    },
    {
      "cell_type": "markdown",
      "id": "ece7012f",
      "metadata": {
        "id": "ece7012f"
      },
      "source": [
        "- 스트라이드와 패딩을 포함하여 컨볼루션의 출력 크기를 계산하고 확인하는 과정을 실습합니다. 이를 통해 CNN의 동작을 더 깊이 이해할 수 있습니다."
      ]
    },
    {
      "cell_type": "markdown",
      "id": "411cfbb6",
      "metadata": {
        "id": "411cfbb6"
      },
      "source": [
        "## 05-006 CNN 모델 클래스 정의\n",
        "- 이 실습에서는 CNN(Convolutional Neural Network) 모델을 정의합니다. 두 개의 컨볼루션 레이어, 각 레이어 뒤에 배치 정규화 및 드롭아웃을 적용하고, 최종적으로 두 개의 완전 연결 레이어를 사용하여 FashionMNIST 데이터셋의 분류 문제를 해결합니다. summary() 함수를 통해 모델 구조를 확인합니다."
      ]
    },
    {
      "cell_type": "code",
      "execution_count": null,
      "id": "b4a8482e",
      "metadata": {
        "id": "b4a8482e",
        "outputId": "fc1c7b5a-6445-426c-ea93-432f6c02c44b"
      },
      "outputs": [
        {
          "data": {
            "text/plain": [
              "==========================================================================================\n",
              "Layer (type:depth-idx)                   Output Shape              Param #\n",
              "==========================================================================================\n",
              "CNN                                      [64, 10]                  --\n",
              "├─Conv2d: 1-1                            [64, 16, 28, 28]          160\n",
              "├─MaxPool2d: 1-2                         [64, 16, 14, 14]          --\n",
              "├─Conv2d: 1-3                            [64, 32, 14, 14]          4,640\n",
              "├─MaxPool2d: 1-4                         [64, 32, 7, 7]            --\n",
              "├─Linear: 1-5                            [64, 128]                 200,832\n",
              "├─Linear: 1-6                            [64, 10]                  1,290\n",
              "==========================================================================================\n",
              "Total params: 206,922\n",
              "Trainable params: 206,922\n",
              "Non-trainable params: 0\n",
              "Total mult-adds (M): 79.17\n",
              "==========================================================================================\n",
              "Input size (MB): 0.20\n",
              "Forward/backward pass size (MB): 9.70\n",
              "Params size (MB): 0.83\n",
              "Estimated Total Size (MB): 10.73\n",
              "=========================================================================================="
            ]
          },
          "metadata": {},
          "output_type": "display_data"
        }
      ],
      "source": [
        "# CNN 모델 정의\n",
        "class CNN(nn.Module):\n",
        "    def __init__(self):\n",
        "        super(CNN, self).__init__()\n",
        "\n",
        "        # 첫 번째 컨볼루션 레이어\n",
        "        # 입력 채널: 1 (흑백 이미지), 출력 채널: 16, 커널 크기: 3x3, 패딩: 1\n",
        "        self.conv1 = nn.Conv2d(in_channels=1, out_channels=16, kernel_size=3, padding=1)\n",
        "\n",
        "        # 두 번째 컨볼루션 레이어\n",
        "        # 입력 채널: 16, 출력 채널: 32, 커널 크기: 3x3, 패딩: 1\n",
        "        self.conv2 = nn.Conv2d(in_channels=16, out_channels=32, kernel_size=3, padding=1)\n",
        "\n",
        "        # MaxPool 레이어 (다운샘플링)\n",
        "        # 커널 크기: 2x2, 스트라이드: 2\n",
        "        self.pool = nn.MaxPool2d(kernel_size=2, stride=2, padding=0)\n",
        "\n",
        "        # 첫 번째 완전 연결 (Fully Connected) 레이어\n",
        "        # 입력 크기: 32 * 7 * 7 (Conv2d 출력을 펼친 크기), 출력 크기: 128\n",
        "        self.fc1 = nn.Linear(32 * 7 * 7, 128)\n",
        "\n",
        "        # 두 번째 완전 연결 레이어\n",
        "        # 입력 크기: 128, 출력 크기: 10 (클래스 개수)\n",
        "        self.fc2 = nn.Linear(128, 10)\n",
        "\n",
        "    def forward(self, x):\n",
        "        # 입력 데이터 크기: (batch_size, 1, 28, 28)\n",
        "\n",
        "        # 첫 번째 Conv + ReLU + MaxPool\n",
        "        # Conv 후 크기: (batch_size, 16, 28, 28)\n",
        "        # MaxPool 후 크기: (batch_size, 16, 14, 14)\n",
        "        x = self.pool(torch.relu(self.conv1(x)))\n",
        "\n",
        "        # 두 번째 Conv + ReLU + MaxPool\n",
        "        # Conv 후 크기: (batch_size, 32, 14, 14)\n",
        "        # MaxPool 후 크기: (batch_size, 32, 7, 7)\n",
        "        x = self.pool(torch.relu(self.conv2(x)))\n",
        "\n",
        "        # Flatten: Conv 출력을 1차원 벡터로 펼침\n",
        "        # Flatten 후 크기: (batch_size, 32 * 7 * 7)\n",
        "        x = x.reshape(-1, 32 * 7 * 7)\n",
        "\n",
        "        # 첫 번째 Fully Connected + ReLU\n",
        "        # 출력 크기: (batch_size, 128)\n",
        "        x = torch.relu(self.fc1(x))\n",
        "\n",
        "        # 두 번째 Fully Connected (출력층)\n",
        "        # 출력 크기: (batch_size, 10)\n",
        "        x = self.fc2(x)\n",
        "\n",
        "        return x\n",
        "\n",
        "# 모델 요약 출력\n",
        "model = CNN().to(device)\n",
        "summary(model, input_size=(64, 1, 28, 28))"
      ]
    },
    {
      "cell_type": "markdown",
      "id": "e15d9b9f",
      "metadata": {
        "id": "e15d9b9f"
      },
      "source": [
        "- CNN 모델 클래스를 구현하고, 요약 정보를 통해 모델의 구조와 파라미터 수를 확인하는 과정을 실습합니다. CNN은 이미지 분류 문제에 효과적인 신경망 구조입니다."
      ]
    },
    {
      "cell_type": "markdown",
      "id": "536330af",
      "metadata": {
        "id": "536330af"
      },
      "source": [
        "## 05-007 손실 함수 및 옵티마이저 설정과 학습 수행\n",
        "- 이 실습에서는 모델 학습을 위한 손실 함수와 옵티마이저를 설정합니다. nn.CrossEntropyLoss()는 다중 클래스 분류 문제에 적합한 손실 함수로, 각 클래스의 확률을 기반으로 손실을 계산합니다. Adam 옵티마이저는 학습률(lr)을 0.0001로 설정하여 모델의 파라미터를 업데이트합니다. 이후, train_and_evaluate() 함수를 호출하여 모델을 학습하고 평가합니다."
      ]
    },
    {
      "cell_type": "code",
      "execution_count": null,
      "id": "1318d090",
      "metadata": {
        "id": "1318d090"
      },
      "outputs": [],
      "source": [
        "# 손실 함수와 옵티마이저 설정\n",
        "criterion = nn.CrossEntropyLoss()  # 다중 클래스 분류를 위한 손실 함수\n",
        "optimizer = optim.Adam(model.parameters(), lr=0.0001)  # Adam 옵티마이저\n",
        "\n",
        "train_losses, train_accuracies, test_losses, test_accuracies = train_and_evaluate(\n",
        "    model, train_loader, test_loader, criterion, optimizer, num_epochs=10, device=device\n",
        ")"
      ]
    },
    {
      "cell_type": "markdown",
      "id": "a07492e2",
      "metadata": {
        "id": "a07492e2"
      },
      "source": [
        "- 손실 함수와 옵티마이저를 설정한 후, 모델을 학습하고 평가하는 과정을 실습합니다. 이 과정은 신경망 모델의 성능을 최적화하는 데 필수적입니다."
      ]
    },
    {
      "cell_type": "markdown",
      "id": "652f6de0",
      "metadata": {
        "id": "652f6de0"
      },
      "source": [
        "## 05-008 JAEN 패키지에서 CNN 모델 불러오기\n",
        "- 이 실습에서는 JAEN 패키지에서 제공하는 CNN 모델을 불러오고, 사전 학습된(pretrained) 가중치를 사용하여 모델을 초기화하는 방법을 학습합니다. summary() 함수를 사용하여 모델의 구조와 파라미터 수를 확인하여 모델이 올바르게 로드되었는지 검증합니다."
      ]
    },
    {
      "cell_type": "code",
      "execution_count": null,
      "id": "eb62a5ec",
      "metadata": {
        "id": "eb62a5ec"
      },
      "outputs": [],
      "source": [
        "# JAEN 패키지에서 CNN 모델 가져오기\n",
        "from JAEN.models import CNNModel\n",
        "\n",
        "# CNN 모델 불러오기 (pretrained=True)\n",
        "model = CNNModel(pretrained=True)\n",
        "\n",
        "# 모델 정보 확인\n",
        "summary(model, (64, 1, 28, 28))"
      ]
    },
    {
      "cell_type": "markdown",
      "id": "65bf014f",
      "metadata": {
        "id": "65bf014f"
      },
      "source": [
        "- JAEN 패키지에서 CNN 모델을 불러오고, 모델 정보를 요약하여 확인하는 과정을 실습합니다. 이는 사전 학습된 모델을 사용할 때 유용합니다."
      ]
    },
    {
      "cell_type": "markdown",
      "id": "ffdc1016",
      "metadata": {
        "id": "ffdc1016"
      },
      "source": [
        "## 05-009 기존 Conv Block 동결\n",
        "- 이 실습에서는 사전 학습된 CNN 모델의 일부 레이어(Conv Block)의 파라미터를 동결하여 학습 중에 업데이트되지 않도록 설정하는 방법을 학습합니다. 이는 transfer learning 기법의 일환으로, 특정 레이어의 가중치를 고정하여 새로운 데이터셋에 대해 학습할 때 유용합니다."
      ]
    },
    {
      "cell_type": "code",
      "execution_count": null,
      "id": "6e17149d",
      "metadata": {
        "id": "6e17149d"
      },
      "outputs": [],
      "source": [
        "# 기존 Conv Block 동결\n",
        "for param in model.conv_layers.parameters():\n",
        "    param.requires_grad = False"
      ]
    },
    {
      "cell_type": "markdown",
      "id": "079e5abe",
      "metadata": {
        "id": "079e5abe"
      },
      "source": [
        "- CNN 모델의 기존 Conv Block을 동결하여 해당 레이어의 파라미터가 학습되지 않도록 설정하는 과정을 실습합니다. 이는 전이 학습 시 일반적인 기법입니다."
      ]
    },
    {
      "cell_type": "markdown",
      "id": "df4830de",
      "metadata": {
        "id": "df4830de"
      },
      "source": [
        "## 05-010 새로운 Fully Connected Block 설정\n",
        "- 이 실습에서는 CNN 모델의 Fully Connected Block을 새롭게 설정합니다. nn.Sequential()을 사용하여 새로운 은닉층과 드롭아웃 레이어를 추가하고, 출력층을 정의합니다. 모델을 디바이스(GPU 또는 CPU)로 이동한 후, summary() 함수를 사용하여 모델의 구조를 확인합니다."
      ]
    },
    {
      "cell_type": "code",
      "execution_count": null,
      "id": "6b61c435",
      "metadata": {
        "id": "6b61c435"
      },
      "outputs": [],
      "source": [
        "# 새로운 Fully Connected Block 설정\n",
        "model.fc_layers = nn.Sequential(\n",
        "    nn.Linear(32 * 7 * 7, 64),  # 첫 번째 은닉층\n",
        "    nn.ReLU(),\n",
        "    nn.Dropout(p=0.5),           # 드롭아웃 추가\n",
        "    nn.Linear(64, 10)           # 출력층 (활성화 함수 없음)\n",
        ")\n",
        "\n",
        "# 디바이스 설정 (GPU 또는 CPU)\n",
        "model = model.to(device)\n",
        "summary(model, input_size=(64, 1, 28, 28))"
      ]
    },
    {
      "cell_type": "markdown",
      "id": "c11995bc",
      "metadata": {
        "id": "c11995bc"
      },
      "source": [
        "- 새로운 Fully Connected Block을 설정하고, 모델의 구조와 파라미터 수를 요약하여 확인하는 과정을 실습합니다. 이는 모델 구조를 조정하고 최적화하는 데 중요한 단계입니다."
      ]
    },
    {
      "cell_type": "markdown",
      "id": "167df453",
      "metadata": {
        "id": "167df453"
      },
      "source": [
        "## 05-011 손실 함수 및 최적화 도구 정의와 학습 수행\n",
        "- 이 실습에서는 손실 함수와 최적화 도구를 정의합니다. nn.CrossEntropyLoss()는 다중 클래스 분류에 적합한 손실 함수이며, Adam 옵티마이저는 requires_grad가 True인 파라미터만 업데이트하도록 설정합니다. 이후, train_and_evaluate() 함수를 호출하여 모델을 학습하고 평가합니다."
      ]
    },
    {
      "cell_type": "code",
      "execution_count": null,
      "id": "fedd58ec",
      "metadata": {
        "id": "fedd58ec"
      },
      "outputs": [],
      "source": [
        "# 손실 함수와 최적화 도구 정의\n",
        "criterion = nn.CrossEntropyLoss()\n",
        "optimizer = optim.Adam(filter(lambda p: p.requires_grad, model.parameters()), lr=0.0001)\n",
        "\n",
        "train_losses, train_accuracies, test_losses, test_accuracies = train_and_evaluate(\n",
        "    model, train_loader, test_loader, criterion, optimizer, num_epochs=10, device=device\n",
        ")"
      ]
    },
    {
      "cell_type": "markdown",
      "id": "4ac826c0",
      "metadata": {
        "id": "4ac826c0"
      },
      "source": [
        "- 손실 함수와 최적화 도구를 설정한 후, 모델을 학습하고 평가하는 과정을 실습합니다. 이 과정은 신경망 모델의 성능을 최적화하는 데 필수적입니다."
      ]
    },
    {
      "cell_type": "markdown",
      "id": "1bb41201",
      "metadata": {
        "id": "1bb41201"
      },
      "source": [
        "## 05-012 마지막 두 Conv 레이어만 학습하도록 설정\n",
        "- 이 실습에서는 CNN 모델에서 마지막 두 컨볼루션 레이어의 파라미터만 학습하도록 설정합니다. named_parameters() 메서드를 사용하여 각 레이어의 이름과 파라미터를 반복하고, 특정 레이어에 대해서만 requires_grad를 True로 설정합니다. 이를 통해 모델의 특정 부분만 학습하여 과적합을 방지하고 성능을 최적화할 수 있습니다."
      ]
    },
    {
      "cell_type": "code",
      "execution_count": null,
      "id": "fedf4e83",
      "metadata": {
        "id": "fedf4e83"
      },
      "outputs": [],
      "source": [
        "# 마지막 두 Conv 레이어만 학습하도록 설정\n",
        "for name, p in model.conv_layers.named_parameters():\n",
        "    if name in ['5.weight', '5.bias', '7.weight', '7.bias']:\n",
        "        p.requires_grad = True"
      ]
    },
    {
      "cell_type": "markdown",
      "id": "e04f771c",
      "metadata": {
        "id": "e04f771c"
      },
      "source": [
        "- CNN 모델의 마지막 두 Conv 레이어만 학습하도록 설정하는 과정을 실습합니다. 이는 전이 학습 시 효과적인 접근 방식입니다."
      ]
    },
    {
      "cell_type": "markdown",
      "id": "3f37645f",
      "metadata": {
        "id": "3f37645f"
      },
      "source": [
        "## 05-013 손실 함수 및 최적화 도구 정의와 학습 수행\n",
        "- 이 실습에서는 손실 함수와 최적화 도구를 정의합니다. nn.CrossEntropyLoss()는 다중 클래스 분류에 적합한 손실 함수이며, Adam 옵티마이저는 requires_grad가 True인 파라미터만 업데이트하도록 설정합니다. 이후, train_and_evaluate() 함수를 호출하여 모델을 학습하고 평가합니다."
      ]
    },
    {
      "cell_type": "code",
      "execution_count": null,
      "id": "748635c9",
      "metadata": {
        "id": "748635c9"
      },
      "outputs": [],
      "source": [
        "# 손실 함수와 최적화 도구 정의\n",
        "criterion = nn.CrossEntropyLoss()\n",
        "optimizer = optim.Adam(filter(lambda p: p.requires_grad, model.parameters()), lr=0.0001)\n",
        "\n",
        "train_losses, train_accuracies, test_losses, test_accuracies = train_and_evaluate(\n",
        "    model, train_loader, test_loader, criterion, optimizer, num_epochs=10, device=device\n",
        ")"
      ]
    },
    {
      "cell_type": "markdown",
      "id": "68902928",
      "metadata": {
        "id": "68902928"
      },
      "source": [
        "- 손실 함수와 최적화 도구를 설정한 후, 모델을 학습하고 평가하는 과정을 실습합니다. 이 과정은 신경망 모델의 성능을 최적화하는 데 필수적입니다."
      ]
    },
    {
      "cell_type": "markdown",
      "id": "3d92aaca",
      "metadata": {
        "id": "3d92aaca"
      },
      "source": [
        "---"
      ]
    },
    {
      "cell_type": "markdown",
      "id": "de5aa080",
      "metadata": {
        "id": "de5aa080"
      },
      "source": [
        "## 연습문제-05-001 (배치, 3, 32, 32) 입력을 받는 CNN 모델 설계 (Sequential 방식)\n",
        "- 이 실습에서는 PyTorch Sequential 방식을 사용하여 (배치, 3, 32, 32) 형태의 이미지 입력을 받는 CNN 모델을 설계하는 방법을 학습합니다. 이 CNN 모델은 세 개의 합성곱 층을 사용하며, 각 층의 뒤에는 ReLU 활성화 함수와 Max Pooling을 적용합니다. 모델은 64개의 필터를 가진 마지막 합성곱 층에서 특징을 추출하고, 이를 완전히 연결된 층으로 전달합니다. 마지막 출력은 10개의 클래스에 대한 확률값을 나타내며, 소프트맥스 활성화 함수를 사용하여 이를 계산합니다.\n",
        "\n",
        "학습할 때, 이 모델은 (배치, 3, 32, 32) 형태의 컬러 이미지를 입력으로 받아 분류 작업을 수행할 수 있습니다. 각 이미지의 높이와 너비는 32x32 픽셀이며, 채널은 RGB(3개)로 구성됩니다."
      ]
    },
    {
      "cell_type": "code",
      "execution_count": null,
      "id": "5d7b324f",
      "metadata": {
        "id": "5d7b324f",
        "outputId": "7511f06a-2a4f-443e-d955-586616ef26fd"
      },
      "outputs": [
        {
          "data": {
            "text/plain": [
              "Sequential(\n",
              "  (0): Conv2d(3, 16, kernel_size=(3, 3), stride=(1, 1), padding=(1, 1))\n",
              "  (1): ReLU()\n",
              "  (2): MaxPool2d(kernel_size=2, stride=2, padding=0, dilation=1, ceil_mode=False)\n",
              "  (3): Conv2d(16, 32, kernel_size=(3, 3), stride=(1, 1), padding=(1, 1))\n",
              "  (4): ReLU()\n",
              "  (5): MaxPool2d(kernel_size=2, stride=2, padding=0, dilation=1, ceil_mode=False)\n",
              "  (6): Conv2d(32, 64, kernel_size=(3, 3), stride=(1, 1), padding=(1, 1))\n",
              "  (7): ReLU()\n",
              "  (8): MaxPool2d(kernel_size=2, stride=2, padding=0, dilation=1, ceil_mode=False)\n",
              "  (9): Flatten(start_dim=1, end_dim=-1)\n",
              "  (10): Linear(in_features=1024, out_features=128, bias=True)\n",
              "  (11): ReLU()\n",
              "  (12): Linear(in_features=128, out_features=10, bias=True)\n",
              ")"
            ]
          },
          "metadata": {},
          "output_type": "display_data"
        }
      ],
      "source": [
        "import torch\n",
        "import torch.nn as nn\n",
        "\n",
        "model = nn.Sequential(\n",
        "            # 첫 번째 합성곱층과 풀링층\n",
        "            nn.Conv2d(3, 16, kernel_size=3, padding=1),  # 입력 채널 3, 출력 채널 16, 커널 크기 3x3, 패딩 1\n",
        "            nn.ReLU(),  # 활성화 함수\n",
        "            nn.MaxPool2d(kernel_size=2, stride=2),  # 풀링층: 출력 크기를 절반으로 축소 (출력 크기: (16, 16))\n",
        "\n",
        "            # 두 번째 합성곱층과 풀링층\n",
        "            nn.Conv2d(16, 32, kernel_size=3, padding=1),  # 입력 채널 16, 출력 채널 32\n",
        "            nn.ReLU(),  # 활성화 함수\n",
        "            nn.MaxPool2d(kernel_size=2, stride=2),  # 출력 크기를 절반으로 축소 (출력 크기: (8, 8))\n",
        "\n",
        "            # 세 번째 합성곱층과 풀링층\n",
        "            nn.Conv2d(32, 64, kernel_size=3, padding=1),  # 입력 채널 32, 출력 채널 64\n",
        "            nn.ReLU(),  # 활성화 함수\n",
        "            nn.MaxPool2d(kernel_size=2, stride=2),  # 출력 크기를 절반으로 축소 (출력 크기: (4, 4))\n",
        "\n",
        "            # Flatten 레이어\n",
        "            nn.Flatten(),  # (64, 4, 4) 형태의 출력을 일차원 벡터로 변환\n",
        "\n",
        "            # 첫 번째 완전 연결층\n",
        "            nn.Linear(64 * 4 * 4, 128),  # Conv 레이어 출력을 128차원 출력으로 변환\n",
        "            nn.ReLU(),  # 활성화 함수\n",
        "\n",
        "            # 최종 출력층\n",
        "            nn.Linear(128, 10)  # 10개의 클래스로 분류\n",
        "        )\n",
        "\n",
        "model"
      ]
    },
    {
      "cell_type": "markdown",
      "id": "b90cd217",
      "metadata": {
        "id": "b90cd217"
      },
      "source": [
        "- (배치, 3, 32, 32) 형태의 입력을 받는 CNN 모델을 Sequential 방식으로 설계하여 이미지 분류 문제를 해결하는 방법을 실습합니다. CNN의 기본 구조와 작동 원리에 대해 익히며, 합성곱, ReLU 활성화 함수, Max Pooling, 그리고 완전 연결 층의 역할을 이해합니다."
      ]
    },
    {
      "cell_type": "markdown",
      "id": "3677cfad",
      "metadata": {
        "id": "3677cfad"
      },
      "source": [
        "## 연습문제-05-002 (배치, 3, 224, 224) 입력을 받는 CNN 모델 설계 (Sequential 방식)\n",
        "- 이 실습에서는 PyTorch Sequential 방식을 사용하여 (배치, 3, 224, 224) 형태의 이미지 입력을 받는 CNN 모델을 설계하는 방법을 학습합니다. 이 모델은 더 큰 이미지(224x224 픽셀)를 처리할 수 있도록 설계되었으며, 네 개의 합성곱 층을 사용하여 이미지에서 점차적으로 더 추상적인 특징을 추출합니다. 각 합성곱 층 뒤에는 ReLU 활성화 함수와 Max Pooling을 적용하여 공간 정보를 줄이면서도 유용한 특징을 남깁니다. 마지막 완전 연결 층에서 추출된 특징을 기반으로 최종적으로 2개의 클래스를 분류합니다.\n",
        "\n",
        "이 모델은 매우 큰 이미지(224x224)를 처리할 수 있도록 최적화되어 있으며, 이러한 이미지들은 일반적으로 고해상도 이미지를 나타냅니다. 이미지 분류 문제에서 이러한 모델은 큰 특징 맵을 효과적으로 다룰 수 있는 방법을 제공합니다."
      ]
    },
    {
      "cell_type": "code",
      "execution_count": null,
      "id": "fae0f2d9",
      "metadata": {
        "id": "fae0f2d9",
        "outputId": "f12970b1-d39a-481c-8845-b00abe3709e4"
      },
      "outputs": [
        {
          "data": {
            "text/plain": [
              "CNN(\n",
              "  (conv1): Conv2d(3, 256, kernel_size=(3, 3), stride=(1, 1), padding=(1, 1))\n",
              "  (relu1): ReLU()\n",
              "  (pool1): MaxPool2d(kernel_size=2, stride=2, padding=0, dilation=1, ceil_mode=False)\n",
              "  (conv2): Conv2d(256, 128, kernel_size=(3, 3), stride=(1, 1), padding=(1, 1))\n",
              "  (relu2): ReLU()\n",
              "  (pool2): MaxPool2d(kernel_size=2, stride=2, padding=0, dilation=1, ceil_mode=False)\n",
              "  (conv3): Conv2d(128, 64, kernel_size=(3, 3), stride=(1, 1), padding=(1, 1))\n",
              "  (relu3): ReLU()\n",
              "  (pool3): MaxPool2d(kernel_size=2, stride=2, padding=0, dilation=1, ceil_mode=False)\n",
              "  (conv4): Conv2d(64, 32, kernel_size=(3, 3), stride=(1, 1), padding=(1, 1))\n",
              "  (relu4): ReLU()\n",
              "  (pool4): MaxPool2d(kernel_size=2, stride=2, padding=0, dilation=1, ceil_mode=False)\n",
              "  (flatten): Flatten(start_dim=1, end_dim=-1)\n",
              "  (fc1): Linear(in_features=6272, out_features=256, bias=True)\n",
              "  (relu_fc1): ReLU()\n",
              "  (fc2): Linear(in_features=256, out_features=2, bias=True)\n",
              ")"
            ]
          },
          "metadata": {},
          "output_type": "display_data"
        }
      ],
      "source": [
        "import torch\n",
        "import torch.nn as nn\n",
        "\n",
        "class CNN(nn.Module):\n",
        "    def __init__(self):\n",
        "        super(CNN, self).__init__()\n",
        "\n",
        "        # 첫 번째 합성곱층과 풀링층\n",
        "        self.conv1 = nn.Conv2d(3, 256, kernel_size=3, padding=1)  # 입력 채널 3, 출력 채널 256, 커널 크기 3x3, 패딩 1\n",
        "        self.relu1 = nn.ReLU()  # 활성화 함수\n",
        "        self.pool1 = nn.MaxPool2d(kernel_size=2, stride=2)  # 풀링층: 출력 크기를 (112, 112)로 축소\n",
        "\n",
        "        # 두 번째 합성곱층과 풀링층\n",
        "        self.conv2 = nn.Conv2d(256, 128, kernel_size=3, padding=1)  # 입력 채널 256, 출력 채널 128\n",
        "        self.relu2 = nn.ReLU()  # 활성화 함수\n",
        "        self.pool2 = nn.MaxPool2d(kernel_size=2, stride=2)  # 출력 크기를 (56, 56)으로 축소\n",
        "\n",
        "        # 세 번째 합성곱층과 풀링층\n",
        "        self.conv3 = nn.Conv2d(128, 64, kernel_size=3, padding=1)  # 입력 채널 128, 출력 채널 64\n",
        "        self.relu3 = nn.ReLU()  # 활성화 함수\n",
        "        self.pool3 = nn.MaxPool2d(kernel_size=2, stride=2)  # 출력 크기를 (28, 28)으로 축소\n",
        "\n",
        "        # 네 번째 합성곱층과 풀링층\n",
        "        self.conv4 = nn.Conv2d(64, 32, kernel_size=3, padding=1)  # 입력 채널 64, 출력 채널 32\n",
        "        self.relu4 = nn.ReLU()  # 활성화 함수\n",
        "        self.pool4 = nn.MaxPool2d(kernel_size=2, stride=2)  # 출력 크기를 (14, 14)로 축소\n",
        "\n",
        "        # Flatten 레이어\n",
        "        self.flatten = nn.Flatten()  # (32, 14, 14) 형태의 출력을 일차원 벡터로 변환\n",
        "\n",
        "        # 첫 번째 완전 연결층\n",
        "        self.fc1 = nn.Linear(32 * 14 * 14, 256)  # Conv 레이어 출력을 낮은 차원으로 줄임\n",
        "        self.relu_fc1 = nn.ReLU()  # 활성화 함수\n",
        "\n",
        "        # 두 번째 완전 연결층\n",
        "        self.fc2 = nn.Linear(256, 2)  # 두 개의 클래스로 최종 분류\n",
        "\n",
        "    def forward(self, x):\n",
        "        # 첫 번째 합성곱층과 풀링층\n",
        "        x = self.conv1(x)\n",
        "        x = self.relu1(x)\n",
        "        x = self.pool1(x)\n",
        "\n",
        "        # 두 번째 합성곱층과 풀링층\n",
        "        x = self.conv2(x)\n",
        "        x = self.relu2(x)\n",
        "        x = self.pool2(x)\n",
        "\n",
        "        # 세 번째 합성곱층과 풀링층\n",
        "        x = self.conv3(x)\n",
        "        x = self.relu3(x)\n",
        "        x = self.pool3(x)\n",
        "\n",
        "        # 네 번째 합성곱층과 풀링층\n",
        "        x = self.conv4(x)\n",
        "        x = self.relu4(x)\n",
        "        x = self.pool4(x)\n",
        "\n",
        "        # Flatten 레이어\n",
        "        x = self.flatten(x)\n",
        "\n",
        "        # 첫 번째 완전 연결층\n",
        "        x = self.fc1(x)\n",
        "        x = self.relu_fc1(x)\n",
        "\n",
        "        # 두 번째 완전 연결층 (최종 출력)\n",
        "        x = self.fc2(x)\n",
        "\n",
        "        return x\n",
        "\n",
        "model = CNN()\n",
        "model"
      ]
    },
    {
      "cell_type": "markdown",
      "id": "2c6c69ce",
      "metadata": {
        "id": "2c6c69ce"
      },
      "source": [
        "- (배치, 3, 224, 224) 형태의 입력을 받는 CNN 모델을 Sequential 방식으로 설계하여 고해상도 이미지 분류 문제를 해결하는 방법을 실습합니다. 더 깊은 네트워크 구조를 통해 고해상도 이미지를 처리하며, 각 층이 추출하는 특징과 네트워크의 학습 방식에 대해 이해합니다."
      ]
    },
    {
      "cell_type": "markdown",
      "id": "a2f31ff1",
      "metadata": {
        "id": "a2f31ff1"
      },
      "source": [
        "---"
      ]
    },
    {
      "cell_type": "code",
      "execution_count": null,
      "id": "-cQzy5EgNZT2",
      "metadata": {
        "colab": {
          "base_uri": "https://localhost:8080/"
        },
        "id": "-cQzy5EgNZT2",
        "outputId": "89d314d3-011d-47d8-d969-20afdd254a2e"
      },
      "outputs": [
        {
          "data": {
            "text/plain": [
              "device(type='cpu')"
            ]
          },
          "execution_count": 3,
          "metadata": {},
          "output_type": "execute_result"
        }
      ],
      "source": [
        "# 필요 도구 import\n",
        "import torch\n",
        "import torch.nn as nn\n",
        "import torch.optim as optim\n",
        "from torchinfo import summary\n",
        "from torch.utils.data import DataLoader, Dataset\n",
        "from JAEN.utils import train_and_evaluate\n",
        "\n",
        "device = torch.device(\"cuda\" if torch.cuda.is_available() else \"cpu\")\n",
        "device"
      ]
    },
    {
      "cell_type": "markdown",
      "id": "0c0b9a30",
      "metadata": {
        "id": "0c0b9a30"
      },
      "source": [
        "# 텍스트 데이터 - 토큰화"
      ]
    },
    {
      "cell_type": "markdown",
      "id": "39654c54",
      "metadata": {
        "id": "39654c54"
      },
      "source": [
        "## 06-001 Tokenizer 불러오기\n",
        "- 이 실습에서는 Hugging Face의 Transformers 라이브러리를 사용하여 BERT 모델의 토크나이저를 불러오는 방법을 학습합니다. AutoTokenizer를 사용하여 'bert-base-cased' 모델에 맞는 토크나이저를 자동으로 가져오며, 이 토크나이저는 입력 텍스트를 BERT 모델에서 처리할 수 있는 형식으로 변환하는 데 사용됩니다."
      ]
    },
    {
      "cell_type": "code",
      "execution_count": null,
      "id": "d3ba1b37",
      "metadata": {
        "colab": {
          "base_uri": "https://localhost:8080/",
          "height": 269,
          "referenced_widgets": [
            "5aecd5139715477cbc814389aee53d18",
            "78634cc0e6ff4cdbb80fd4f63fb5a4f8",
            "dd48f04081e24d6598c4a43773745c74",
            "108a3e3836e44f5689b294e454721fbc",
            "100dc10ab5b847fba4226589873d24c0",
            "7b9d689f201e4256beb025d25bf6af2e",
            "70cfe7912dae4ca4be13aedeb9f16d72",
            "8e993d762667418fa497c7088177e81d",
            "775c7446ff984226bf619edf333e3a46",
            "a81968b873f64f76899e44246cb92883",
            "b0d69ddb730442a8a1edd82e06c46ece",
            "f57dcce37dfd4f198bfaffda44bbddc6",
            "82b326e57a244f908e2b29f4379422f6",
            "00e5877aca744de7828fc5bc3aea9234",
            "df781655f0f246ce832e1ba42d003f53",
            "727a1848ca7d4007ab2c5792997f75a0",
            "3728cdc0fc5242578f5f579a3ed4120a",
            "e351ed3faaba4b88a003e43d8c8c2900",
            "2addb3abdb72483da89589f8f1dfb516",
            "ceed22a33c8a4860b59ae7b6a6935c3d",
            "74fe8bb83ab2488e9a961681d01cabd2",
            "1b927bb1702d4cb68a6f9788921030ea",
            "19518cd72d414e0da2029c3939fd37f2",
            "bf090c5c404941ff936c87fea9a9e956",
            "980cd7abd60749e4b666503e65ec11bf",
            "66f9db447367448092dd46a1c09264f4",
            "e6870bed49b948fa90d702aff2c97a28",
            "bd0bb440575849508d81dad6d7eab2f8",
            "360815b1df974c8b89e4342756e4b62c",
            "aa145fead04d4b2fbf0c30881027cd15",
            "a7c2fb3c985244fcacd8a140d72998f0",
            "47aba0502f7b4c8589ac423107c3319c",
            "53b6374cdc5841e9ab477a29497d955f",
            "239a0b122ff5412b8866d641da6a6084",
            "52e60e4929ae4285a625e7bf9ed9048e",
            "c691df77f0f24b34b6a4611d7aa815d3",
            "4789946fb22e4e03b0984ae51aa9eecc",
            "6e96f20db6f3405395e15679eee6cf02",
            "b077af1ad4b1469fab432b574ad28cc4",
            "c9a4f6876a6e459caebc31a532165a64",
            "0e59a91a7bdf4f2bb9286b491123136c",
            "dad57f13f22745adb13e0f3810da76dd",
            "90706eb877e5494bb05ede46bfe2382a",
            "0ac3cf3fb23d417a9b49296fb01de821"
          ]
        },
        "id": "d3ba1b37",
        "outputId": "3a0a3c21-40da-4b8b-e51b-7bcf37c88dd1"
      },
      "outputs": [
        {
          "name": "stderr",
          "output_type": "stream",
          "text": [
            "/usr/local/lib/python3.10/dist-packages/huggingface_hub/utils/_token.py:89: UserWarning: \n",
            "The secret `HF_TOKEN` does not exist in your Colab secrets.\n",
            "To authenticate with the Hugging Face Hub, create a token in your settings tab (https://huggingface.co/settings/tokens), set it as secret in your Google Colab and restart your session.\n",
            "You will be able to reuse this secret in all of your notebooks.\n",
            "Please note that authentication is recommended but still optional to access public models or datasets.\n",
            "  warnings.warn(\n"
          ]
        },
        {
          "data": {
            "application/vnd.jupyter.widget-view+json": {
              "model_id": "5aecd5139715477cbc814389aee53d18",
              "version_major": 2,
              "version_minor": 0
            },
            "text/plain": [
              "tokenizer_config.json:   0%|          | 0.00/49.0 [00:00<?, ?B/s]"
            ]
          },
          "metadata": {},
          "output_type": "display_data"
        },
        {
          "data": {
            "application/vnd.jupyter.widget-view+json": {
              "model_id": "f57dcce37dfd4f198bfaffda44bbddc6",
              "version_major": 2,
              "version_minor": 0
            },
            "text/plain": [
              "config.json:   0%|          | 0.00/570 [00:00<?, ?B/s]"
            ]
          },
          "metadata": {},
          "output_type": "display_data"
        },
        {
          "data": {
            "application/vnd.jupyter.widget-view+json": {
              "model_id": "19518cd72d414e0da2029c3939fd37f2",
              "version_major": 2,
              "version_minor": 0
            },
            "text/plain": [
              "vocab.txt:   0%|          | 0.00/213k [00:00<?, ?B/s]"
            ]
          },
          "metadata": {},
          "output_type": "display_data"
        },
        {
          "data": {
            "application/vnd.jupyter.widget-view+json": {
              "model_id": "239a0b122ff5412b8866d641da6a6084",
              "version_major": 2,
              "version_minor": 0
            },
            "text/plain": [
              "tokenizer.json:   0%|          | 0.00/436k [00:00<?, ?B/s]"
            ]
          },
          "metadata": {},
          "output_type": "display_data"
        }
      ],
      "source": [
        "from transformers import AutoTokenizer\n",
        "\n",
        "tokenizer = AutoTokenizer.from_pretrained(\"bert-base-cased\")"
      ]
    },
    {
      "cell_type": "markdown",
      "id": "566cfc5b",
      "metadata": {
        "id": "566cfc5b"
      },
      "source": [
        "- BERT 모델에 사용할 토크나이저를 불러오는 과정을 실습합니다. 이는 NLP 작업에서 텍스트를 준비하는 데 중요한 단계입니다."
      ]
    },
    {
      "cell_type": "markdown",
      "id": "b53ef889",
      "metadata": {
        "id": "b53ef889"
      },
      "source": [
        "## 06-002 토큰화 실습\n",
        "- 이 실습에서는 불러온 BERT 토크나이저를 사용하여 주어진 텍스트 'AI Essential'을 토크나이징하는 방법을 학습합니다. 토크나이저는 입력 문자열을 BERT 모델이 이해할 수 있는 형식으로 변환하며, 각 단어를 고유한 ID로 매핑합니다."
      ]
    },
    {
      "cell_type": "code",
      "execution_count": null,
      "id": "e7f2201f",
      "metadata": {
        "colab": {
          "base_uri": "https://localhost:8080/"
        },
        "id": "e7f2201f",
        "outputId": "a3507e31-c0c0-4434-8233-fadebfdfd8fb"
      },
      "outputs": [
        {
          "data": {
            "text/plain": [
              "{'input_ids': [101, 19016, 26768, 102], 'token_type_ids': [0, 0, 0, 0], 'attention_mask': [1, 1, 1, 1]}"
            ]
          },
          "execution_count": 5,
          "metadata": {},
          "output_type": "execute_result"
        }
      ],
      "source": [
        "tokenizer(\"AI Essential\")"
      ]
    },
    {
      "cell_type": "markdown",
      "id": "3ff44303",
      "metadata": {
        "id": "3ff44303"
      },
      "source": [
        "- BERT 토크나이저를 사용하여 텍스트를 토크나이즈하는 과정을 실습합니다. 이는 NLP 모델에서 입력 데이터를 준비하는 데 필수적인 과정입니다."
      ]
    },
    {
      "cell_type": "markdown",
      "id": "d468d3aa",
      "metadata": {
        "id": "d468d3aa"
      },
      "source": [
        "## 06-003 토큰화된 텍스트 확인\n",
        "- 이 실습에서는 BERT 토크나이저를 사용하여 텍스트 'AI Essential'을 토큰화한 결과를 확인합니다. tokenizer.tokenize() 메서드를 통해 입력 텍스트를 개별 토큰으로 분리하며, 각 토큰은 BERT 모델이 처리할 수 있는 형태로 변환됩니다."
      ]
    },
    {
      "cell_type": "code",
      "execution_count": null,
      "id": "7466c578",
      "metadata": {
        "colab": {
          "base_uri": "https://localhost:8080/"
        },
        "id": "7466c578",
        "outputId": "eead73e8-9809-46b3-cc53-e50c3dde8c2a"
      },
      "outputs": [
        {
          "data": {
            "text/plain": [
              "['AI', 'Essential']"
            ]
          },
          "execution_count": 10,
          "metadata": {},
          "output_type": "execute_result"
        }
      ],
      "source": [
        "tokens = tokenizer.tokenize(\"AI Essential\")\n",
        "tokens"
      ]
    },
    {
      "cell_type": "markdown",
      "id": "e01c036b",
      "metadata": {
        "id": "e01c036b"
      },
      "source": [
        "- 주어진 텍스트를 BERT 토크나이저를 사용하여 토큰화하고, 생성된 토큰을 확인하는 과정을 실습합니다. 이는 NLP 모델에서 데이터를 준비하는 중요한 단계입니다."
      ]
    },
    {
      "cell_type": "markdown",
      "id": "c6db4a64",
      "metadata": {
        "id": "c6db4a64"
      },
      "source": [
        "## 06-004 토큰을 ID로 변환\n",
        "- 이 실습에서는 BERT 토크나이저를 사용하여 토큰화된 텍스트를 고유한 정수 ID로 변환하는 방법을 학습합니다. tokenizer.convert_tokens_to_ids() 메서드를 통해 각 토큰을 모델에서 사용하는 입력 형태로 변환합니다."
      ]
    },
    {
      "cell_type": "code",
      "execution_count": null,
      "id": "45a06793",
      "metadata": {
        "colab": {
          "base_uri": "https://localhost:8080/"
        },
        "id": "45a06793",
        "outputId": "e1d01a50-a685-4a84-a823-933eb2cd73e6"
      },
      "outputs": [
        {
          "data": {
            "text/plain": [
              "[19016, 26768]"
            ]
          },
          "execution_count": 11,
          "metadata": {},
          "output_type": "execute_result"
        }
      ],
      "source": [
        "ids = tokenizer.convert_tokens_to_ids(tokens)\n",
        "ids"
      ]
    },
    {
      "cell_type": "markdown",
      "id": "cb34acac",
      "metadata": {
        "id": "cb34acac"
      },
      "source": [
        "- 토큰화된 텍스트를 BERT 모델의 입력으로 사용할 수 있도록 정수 ID로 변환하는 과정을 실습합니다. 이는 NLP 모델에 데이터를 입력하는 데 필수적인 과정입니다."
      ]
    },
    {
      "cell_type": "markdown",
      "id": "18274eff",
      "metadata": {
        "id": "18274eff"
      },
      "source": [
        "## 06-005 토큰 ID를 텍스트로 디코딩\n",
        "- 이 실습에서는 BERT 토크나이저를 사용하여 토큰 ID를 다시 원래의 텍스트로 디코딩하는 방법을 학습합니다. tokenizer.decode() 메서드를 사용하여 ID를 입력하면, 모델이 이해할 수 있는 형태의 원본 문자열로 복원됩니다."
      ]
    },
    {
      "cell_type": "code",
      "execution_count": null,
      "id": "5a5e4408",
      "metadata": {
        "colab": {
          "base_uri": "https://localhost:8080/",
          "height": 35
        },
        "id": "5a5e4408",
        "outputId": "082c4fbf-e120-4d3b-9616-cd52c6946c71"
      },
      "outputs": [
        {
          "data": {
            "application/vnd.google.colaboratory.intrinsic+json": {
              "type": "string"
            },
            "text/plain": [
              "'AI Essential'"
            ]
          },
          "execution_count": 12,
          "metadata": {},
          "output_type": "execute_result"
        }
      ],
      "source": [
        "tokenizer.decode(ids)"
      ]
    },
    {
      "cell_type": "markdown",
      "id": "c0bab465",
      "metadata": {
        "id": "c0bab465"
      },
      "source": [
        "- 토큰 ID를 사용하여 원래의 텍스트로 디코딩하는 과정을 실습합니다. 이는 NLP 작업에서 데이터를 확인하고 검증하는 데 유용합니다."
      ]
    },
    {
      "cell_type": "markdown",
      "id": "17ee1879",
      "metadata": {
        "id": "17ee1879"
      },
      "source": [
        "## 06-006 임베딩 모듈 생성 및 사용\n",
        "- 이 실습에서는 PyTorch의 nn.Embedding 모듈을 사용하여 정수 인덱스를 고차원 벡터로 변환하는 방법을 학습합니다. 임베딩 레이어를 생성하고, 입력 데이터로 주어진 정수 인덱스를 벡터로 변환합니다. 이 과정은 자연어 처리(NLP) 작업에서 단어 또는 토큰을 임베딩하는 데 사용됩니다."
      ]
    },
    {
      "cell_type": "code",
      "execution_count": null,
      "id": "23d1692a",
      "metadata": {
        "colab": {
          "base_uri": "https://localhost:8080/"
        },
        "id": "23d1692a",
        "outputId": "69394bdd-e60c-4f61-aecd-cfff138f3606"
      },
      "outputs": [
        {
          "name": "stdout",
          "output_type": "stream",
          "text": [
            "입력 데이터 (정수 인덱스): tensor([2, 5, 7])\n",
            "임베딩 결과 (벡터):\n",
            " tensor([[ 0.0483,  0.6007, -0.4233,  1.1709, -0.7364],\n",
            "        [-0.4178, -0.4323, -1.1088, -1.0098,  1.2270],\n",
            "        [ 0.7314,  2.0637, -0.0360, -0.5074, -0.0572]],\n",
            "       grad_fn=<EmbeddingBackward0>)\n"
          ]
        }
      ],
      "source": [
        "import torch\n",
        "import torch.nn as nn\n",
        "\n",
        "# 임베딩 모듈 생성 (정수 인덱스 10개, 각 인덱스는 5차원의 벡터로 매핑)\n",
        "embedding_layer = nn.Embedding(num_embeddings=10, embedding_dim=5)\n",
        "\n",
        "# 임베딩에 사용할 예시 입력 데이터 (정수 인덱스)\n",
        "# 여기서 [2, 5, 7]은 단어나 토큰에 해당한다고 가정\n",
        "input_data = torch.tensor([2, 5, 7])\n",
        "\n",
        "# 임베딩 레이어에 입력 데이터를 전달하여 벡터 변환\n",
        "embedded_output = embedding_layer(input_data)\n",
        "\n",
        "print(\"입력 데이터 (정수 인덱스):\", input_data)\n",
        "print(\"임베딩 결과 (벡터):\\n\", embedded_output)"
      ]
    },
    {
      "cell_type": "markdown",
      "id": "9b67ca7b",
      "metadata": {
        "id": "9b67ca7b"
      },
      "source": [
        "- 임베딩 모듈을 생성하고, 정수 인덱스를 벡터로 변환하는 과정을 실습합니다. 이는 NLP 모델에서 단어 표현을 얻는 데 필수적인 단계입니다."
      ]
    },
    {
      "cell_type": "markdown",
      "id": "88015875",
      "metadata": {
        "id": "88015875"
      },
      "source": [
        "## 06-007 코퍼스 및 레이블 정의\n",
        "- 이 실습에서는 간단한 문장 리스트(corpus)와 각 문장에 대한 레이블(y)을 정의합니다. y는 부정(0)과 긍정(1)으로 이루어져 있으며, 각 문장의 감정 평가를 나타냅니다. 이러한 데이터는 감정 분석 모델을 학습시키는 데 사용됩니다."
      ]
    },
    {
      "cell_type": "code",
      "execution_count": null,
      "id": "e586da53",
      "metadata": {
        "id": "e586da53"
      },
      "outputs": [],
      "source": [
        "corpus = [\n",
        "    'very good nice quality',\n",
        "    'stop lying',\n",
        "    'ugly terrible',\n",
        "    'excellent work',\n",
        "    'adorable lovely',\n",
        "    'bad',\n",
        "    'great nice'\n",
        "]\n",
        "y = torch.FloatTensor([1, 0, 0, 1, 1, 0, 1]).view(-1, 1)  # 0: 부정, 1: 긍정"
      ]
    },
    {
      "cell_type": "markdown",
      "id": "b1cddf85",
      "metadata": {
        "id": "b1cddf85"
      },
      "source": [
        "- 감정 분석을 위한 문장 목록과 레이블을 정의하는 과정을 실습합니다. 이는 NLP 모델 학습을 위한 데이터 준비의 기초 단계입니다."
      ]
    },
    {
      "cell_type": "markdown",
      "id": "faf416ed",
      "metadata": {
        "id": "faf416ed"
      },
      "source": [
        "## 06-008 GPT2 토크나이저로 문장 변환\n",
        "- 이 실습에서는 GPT2 모델의 토크나이저를 사용하여 문장 목록(corpus)을 토큰화합니다. AutoTokenizer를 통해 사전 학습된 토크나이저를 불러오고, clean_up_tokenization_spaces=True 옵션을 통해 불필요한 공백을 제거합니다. 변환된 시퀀스는 각 문장을 토큰 ID의 리스트로 표현합니다."
      ]
    },
    {
      "cell_type": "code",
      "execution_count": null,
      "id": "140b8aa9",
      "metadata": {
        "colab": {
          "base_uri": "https://localhost:8080/",
          "height": 130,
          "referenced_widgets": [
            "949eb841d6e042158a1a09bf982549f4",
            "0e14761517b94dd2b658582dc5870598",
            "15df138e2cef4f1aadb96e4f4a6c5a63",
            "00c5688a167d47b69dfdc564ca08f10c",
            "b35525e2437148bea084d5d5227fb107",
            "64fa1ec8c75f4e608c62ef9407bd2c44",
            "19b0380ce5d647e28adf045f28229a2c",
            "26f688f77356444fb5dc9169da56a477",
            "a65339911ca1406c918cded1e186ae00",
            "55802a788852463b8cf86c364c65074b",
            "cbf1077ae5d2432a908dd20bb8eeced2",
            "eef8060a2bbf463091134330fdc2beb8",
            "19a4b64f7b3640acaec9581526ff6416",
            "1e207cf85232473eb660a8378eed3edb",
            "bb392c8d8367486abe1306500d25da2e",
            "325d2f2f806142a7985b4583e78505be",
            "d5307484cb8e41b9bf983339ed8a7f21",
            "38ea5209371142bfb982bf2815c6564e",
            "6018e178a9444b69aba9170fc1221cbe",
            "1fb88a1ec4194c25ac171d4e580b5ba1",
            "0d554da5d3204269bfe90a81b3601f0a",
            "09ac02523bf4472692ec42b0d9ee60f8",
            "db6ca136bcde4484b0c5fa0e628dc2fc",
            "8ee16bc727424e5898edab906020e4f7",
            "fcdf3e9528134f93a60e57856483826a",
            "0777adcdad744c2788a498ac9ab103a8",
            "31b96b5122c3475fa04427e790244142",
            "631b9ceeae654292bcee846b374c234b",
            "1aa0db8dc4c2477db6186180ff9618ba",
            "c5f7f43cb2154685ab99a5bab211c2a1",
            "5ae0e4f5bfff45dd9ceaaa324bd22fcd",
            "202672a573a84938a78768367d63302d",
            "64a66d9106994afea4ea4128a71a7296"
          ]
        },
        "id": "140b8aa9",
        "outputId": "1feb6795-3833-46bd-c6b4-d56b6f9b111f"
      },
      "outputs": [
        {
          "data": {
            "application/vnd.jupyter.widget-view+json": {
              "model_id": "949eb841d6e042158a1a09bf982549f4",
              "version_major": 2,
              "version_minor": 0
            },
            "text/plain": [
              "tokenizer_config.json:   0%|          | 0.00/560 [00:00<?, ?B/s]"
            ]
          },
          "metadata": {},
          "output_type": "display_data"
        },
        {
          "data": {
            "application/vnd.jupyter.widget-view+json": {
              "model_id": "eef8060a2bbf463091134330fdc2beb8",
              "version_major": 2,
              "version_minor": 0
            },
            "text/plain": [
              "tokenizer.json:   0%|          | 0.00/977 [00:00<?, ?B/s]"
            ]
          },
          "metadata": {},
          "output_type": "display_data"
        },
        {
          "data": {
            "application/vnd.jupyter.widget-view+json": {
              "model_id": "db6ca136bcde4484b0c5fa0e628dc2fc",
              "version_major": 2,
              "version_minor": 0
            },
            "text/plain": [
              "special_tokens_map.json:   0%|          | 0.00/51.0 [00:00<?, ?B/s]"
            ]
          },
          "metadata": {},
          "output_type": "display_data"
        },
        {
          "data": {
            "text/plain": [
              "[[14, 6, 2, 10], [11, 9], [13, 12], [5, 15], [3, 8], [4], [7, 2]]"
            ]
          },
          "execution_count": 7,
          "metadata": {},
          "output_type": "execute_result"
        }
      ],
      "source": [
        "from transformers import AutoTokenizer\n",
        "\n",
        "# GPT2 토크나이저 불러오기\n",
        "tokenizer = AutoTokenizer.from_pretrained(\n",
        "    'gmteacher/simple-word-tokenizer',\n",
        "    clean_up_tokenization_spaces=True)\n",
        "seqs = tokenizer(corpus)['input_ids']\n",
        "seqs  # 변환된 시퀀스"
      ]
    },
    {
      "cell_type": "markdown",
      "id": "00a14385",
      "metadata": {
        "id": "00a14385"
      },
      "source": [
        "- GPT2 토크나이저를 사용하여 문장 목록을 토큰화하고, 변환된 시퀀스를 확인하는 과정을 실습합니다. 이는 NLP 모델의 입력 데이터를 준비하는 데 필수적인 단계입니다."
      ]
    },
    {
      "cell_type": "markdown",
      "id": "59937e2e",
      "metadata": {
        "id": "59937e2e"
      },
      "source": [
        "## 06-009 토큰 ID를 단어로 복원\n",
        "- 이 실습에서는 GPT2 토크나이저를 사용하여 토큰 ID를 원래의 단어로 복원합니다. tokenizer.decode() 메서드를 사용하여 각 시퀀스를 입력하면, 모델이 이해할 수 있는 형태의 원본 문자열로 변환됩니다."
      ]
    },
    {
      "cell_type": "code",
      "execution_count": null,
      "id": "b48155b1",
      "metadata": {
        "colab": {
          "base_uri": "https://localhost:8080/"
        },
        "id": "b48155b1",
        "outputId": "c490f11d-c9e6-4cbf-a7bb-7855e0a6a0a2"
      },
      "outputs": [
        {
          "data": {
            "text/plain": [
              "['very good nice quality',\n",
              " 'stop lying',\n",
              " 'ugly terrible',\n",
              " 'excellent work',\n",
              " 'adorable lovely',\n",
              " 'bad',\n",
              " 'great nice']"
            ]
          },
          "execution_count": 16,
          "metadata": {},
          "output_type": "execute_result"
        }
      ],
      "source": [
        "# 시퀀스를 단어로 복원\n",
        "[tokenizer.decode(seq) for seq in seqs]"
      ]
    },
    {
      "cell_type": "markdown",
      "id": "0bee97bb",
      "metadata": {
        "id": "0bee97bb"
      },
      "source": [
        "- 토큰 ID를 사용하여 원래의 단어로 복원하는 과정을 실습합니다. 이는 NLP 작업에서 데이터를 확인하고 검증하는 데 유용합니다."
      ]
    },
    {
      "cell_type": "markdown",
      "id": "397625f1",
      "metadata": {
        "id": "397625f1"
      },
      "source": [
        "## 06-010 시퀀스를 텐서로 변환하고 패딩\n",
        "- 이 실습에서는 토큰 ID로 변환된 시퀀스들을 PyTorch 텐서로 변환한 후, pad_sequence() 함수를 사용하여 패딩을 적용합니다. 패딩을 통해 각 시퀀스의 길이를 동일하게 맞추어 배치 처리를 용이하게 합니다. batch_first=True로 설정하여 배치가 첫 번째 차원에 오도록 합니다."
      ]
    },
    {
      "cell_type": "code",
      "execution_count": null,
      "id": "504666bf",
      "metadata": {
        "colab": {
          "base_uri": "https://localhost:8080/"
        },
        "id": "504666bf",
        "outputId": "7f4de020-ff7a-4767-eca8-ca4f021ac612"
      },
      "outputs": [
        {
          "name": "stderr",
          "output_type": "stream",
          "text": [
            "<ipython-input-18-531871042a50>:4: UserWarning: To copy construct from a tensor, it is recommended to use sourceTensor.clone().detach() or sourceTensor.clone().detach().requires_grad_(True), rather than torch.tensor(sourceTensor).\n",
            "  seqs = [torch.tensor(seq) for seq in seqs]\n"
          ]
        },
        {
          "data": {
            "text/plain": [
              "tensor([[14,  6,  2, 10],\n",
              "        [11,  9,  0,  0],\n",
              "        [13, 12,  0,  0],\n",
              "        [ 5, 15,  0,  0],\n",
              "        [ 3,  8,  0,  0],\n",
              "        [ 4,  0,  0,  0],\n",
              "        [ 7,  2,  0,  0]])"
            ]
          },
          "execution_count": 18,
          "metadata": {},
          "output_type": "execute_result"
        }
      ],
      "source": [
        "from torch.nn.utils.rnn import pad_sequence\n",
        "\n",
        "# 각 시퀀스를 텐서로 변환\n",
        "seqs = [torch.tensor(seq) for seq in seqs]\n",
        "\n",
        "# 패딩\n",
        "x = pad_sequence(seqs, batch_first=True)\n",
        "x"
      ]
    },
    {
      "cell_type": "markdown",
      "id": "0c684648",
      "metadata": {
        "id": "0c684648"
      },
      "source": [
        "- 각 시퀀스를 텐서로 변환하고, 패딩을 적용하여 배치 처리를 위한 텐서를 준비하는 과정을 실습합니다. 이는 시퀀스 데이터 처리에서 매우 중요한 단계입니다."
      ]
    },
    {
      "cell_type": "markdown",
      "id": "5225ddd0",
      "metadata": {
        "id": "5225ddd0"
      },
      "source": [
        "## 06-011 텍스트 분류기 모델 정의\n",
        "- 이 실습에서는 텍스트 분류를 위한 신경망 모델을 정의합니다. TextClassifier 클래스는 입력 데이터를 임베딩 레이어를 통해 고차원 벡터로 변환하고, 평탄화(flatten)한 후 완전 연결 레이어를 사용하여 클래스를 예측합니다. 마지막으로, Sigmoid 활성화 함수를 사용하여 출력을 변환합니다."
      ]
    },
    {
      "cell_type": "code",
      "execution_count": null,
      "id": "3cd66e6b",
      "metadata": {
        "id": "3cd66e6b"
      },
      "outputs": [],
      "source": [
        "class TextClassifier(nn.Module):\n",
        "    def __init__(self, vocab_size, embed_dim, seq_len, num_class):\n",
        "        super().__init__()\n",
        "        # 임베딩 계층 추가\n",
        "        self.embedding = nn.Embedding(vocab_size, embed_dim)\n",
        "        self.flat = nn.Flatten()\n",
        "        self.fc = nn.Linear(embed_dim*seq_len, num_class)\n",
        "        self.sigmoid = nn.Sigmoid()\n",
        "\n",
        "    def forward(self, x):\n",
        "        out = self.embedding(x)\n",
        "        out = self.flat(out)\n",
        "        out = self.fc(out)\n",
        "        out = self.sigmoid(out)\n",
        "        return out"
      ]
    },
    {
      "cell_type": "markdown",
      "id": "ff1d284b",
      "metadata": {
        "id": "ff1d284b"
      },
      "source": [
        "- 텍스트 분류를 위한 신경망 모델을 정의하는 과정을 실습합니다. 이 모델은 NLP 작업에서 입력 데이터를 분류하는 데 사용됩니다."
      ]
    },
    {
      "cell_type": "markdown",
      "id": "262775f3",
      "metadata": {
        "id": "262775f3"
      },
      "source": [
        "## 06-012 텍스트 분류기 모델 인스턴스 생성 및 출력 테스트\n",
        "- 이 실습에서는 TextClassifier 모델의 인스턴스를 생성하고, 입력 데이터에 대한 출력 결과의 형태를 확인합니다. torch.manual_seed(0)으로 랜덤 시드를 설정하여 결과의 재현성을 보장합니다. 모델의 출력이 올바르게 형성되는지를 테스트합니다."
      ]
    },
    {
      "cell_type": "code",
      "execution_count": null,
      "id": "b163347d",
      "metadata": {
        "colab": {
          "base_uri": "https://localhost:8080/"
        },
        "id": "b163347d",
        "outputId": "3ff726df-f9e0-437a-e60f-d5253baf8152"
      },
      "outputs": [
        {
          "data": {
            "text/plain": [
              "torch.Size([1, 1])"
            ]
          },
          "execution_count": 21,
          "metadata": {},
          "output_type": "execute_result"
        }
      ],
      "source": [
        "torch.manual_seed(0)\n",
        "# 모델 인스턴스 생성\n",
        "model = TextClassifier(tokenizer.vocab_size, 2, x.shape[1], 1).to(device)\n",
        "\n",
        "# 출력 테스트\n",
        "output = model(x[:1].to(device))\n",
        "output.shape"
      ]
    },
    {
      "cell_type": "markdown",
      "id": "a39622ac",
      "metadata": {
        "id": "a39622ac"
      },
      "source": [
        "- 텍스트 분류기 모델을 인스턴스화하고, 입력 데이터를 사용하여 출력의 형태를 확인하는 과정을 실습합니다. 이는 모델이 기대한 대로 작동하는지 검증하는 데 중요합니다."
      ]
    },
    {
      "cell_type": "markdown",
      "id": "26ef337f",
      "metadata": {
        "id": "26ef337f"
      },
      "source": [
        "## 06-013 장치 적용\n",
        "- 이 실습에서는 입력 데이터 x와 타겟 데이터 y를 설정한 장치(GPU 또는 CPU)로 이동합니다. PyTorch에서는 모델과 데이터가 동일한 장치에 있어야 연산이 가능하므로, 이를 통해 학습 및 추론을 위한 준비를 합니다."
      ]
    },
    {
      "cell_type": "code",
      "execution_count": null,
      "id": "8410f563",
      "metadata": {
        "id": "8410f563"
      },
      "outputs": [],
      "source": [
        "# 장치 적용\n",
        "x = x.to(device)\n",
        "y = y.to(device)"
      ]
    },
    {
      "cell_type": "markdown",
      "id": "9dfae7ce",
      "metadata": {
        "id": "9dfae7ce"
      },
      "source": [
        "- 입력 데이터와 타겟 데이터를 장치에 적용하는 과정을 실습합니다. 이는 PyTorch에서 효율적인 계산을 위한 필수적인 단계입니다."
      ]
    },
    {
      "cell_type": "markdown",
      "id": "7e255d6b",
      "metadata": {
        "id": "7e255d6b"
      },
      "source": [
        "## 06-014 모델 학습 및 손실 계산\n",
        "- 이 실습에서는 정의한 텍스트 분류기 모델을 학습시키고 손실을 계산하는 과정을 구현합니다. BCELoss를 손실 함수로 사용하고, Adam 옵티마이저를 통해 모델의 파라미터를 업데이트합니다. 지정된 최대 에폭 수만큼 모델을 학습시키며, 주기적으로 손실 값을 출력합니다."
      ]
    },
    {
      "cell_type": "code",
      "execution_count": null,
      "id": "6e4301ae",
      "metadata": {
        "id": "6e4301ae"
      },
      "outputs": [],
      "source": [
        "loss_fn = nn.BCELoss()  # 손실 함수\n",
        "optimizer = optim.Adam(model.parameters())  # 최적화 도구(optimizer)\n",
        "\n",
        "epochs = 5000  # 최대 에폭 지정\n",
        "results = {'cost':[]}\n",
        "\n",
        "model.train()  # 학습 모드 설정\n",
        "\n",
        "for epoch in range(epochs):\n",
        "    h = model(x)  # 예측 값 생성(추론)\n",
        "    loss = loss_fn(h, y)  # 손실 계산\n",
        "\n",
        "    optimizer.zero_grad()  # 미분 값 초기화\n",
        "    loss.backward()  # 역전파(미분 계산)\n",
        "    optimizer.step()  # 업데이트 진행\n",
        "\n",
        "    results['cost'].append(loss.item())\n",
        "\n",
        "    if epoch % 1000 == 0:\n",
        "        print(f'epoch: {epoch:4d}, cost: {results[\"cost\"][-1]:.10f}')"
      ]
    },
    {
      "cell_type": "markdown",
      "id": "cf23e75e",
      "metadata": {
        "id": "cf23e75e"
      },
      "source": [
        "- 모델을 학습시키고 손실을 계산하여 업데이트하는 과정을 실습합니다. 학습 과정의 손실 변화를 모니터링하는 것은 모델의 성능을 이해하는 데 중요합니다."
      ]
    },
    {
      "cell_type": "markdown",
      "id": "53451d0f",
      "metadata": {
        "id": "53451d0f"
      },
      "source": [
        "## 06-015 예측 값을 클래스로 변환\n",
        "- 이 실습에서는 모델의 예측 값을 시그모이드 결과를 기반으로 클래스로 변환하는 방법을 학습합니다. h.view(-1)로 예측 결과를 평탄화한 후, 0.5를 기준으로 이진 클래스로 변환합니다. 실제 값과 예측 값을 출력하여 모델의 성능을 평가합니다."
      ]
    },
    {
      "cell_type": "code",
      "execution_count": null,
      "id": "e984d14c",
      "metadata": {
        "id": "e984d14c"
      },
      "outputs": [],
      "source": [
        "# 예측 값 생성\n",
        "h = model(x)\n",
        "\n",
        "# 예측 값(시그모이드 값)을 클래스로 변환\n",
        "pred = (h.view(-1).detach().cpu() > 0.5).to(torch.float32)\n",
        "\n",
        "print(f'실제 값: {y.view(-1)}')\n",
        "print(f'예측 값: {pred}')"
      ]
    },
    {
      "cell_type": "markdown",
      "id": "b9c64954",
      "metadata": {
        "id": "b9c64954"
      },
      "source": [
        "- 모델의 예측 값을 클래스 형태로 변환하고, 실제 값과 비교하여 출력하는 과정을 실습합니다. 이는 모델의 예측 정확도를 확인하는 데 중요합니다."
      ]
    },
    {
      "cell_type": "markdown",
      "id": "b6b5b96b",
      "metadata": {
        "id": "b6b5b96b"
      },
      "source": [
        "---"
      ]
    },
    {
      "cell_type": "markdown",
      "id": "91c33704",
      "metadata": {
        "id": "91c33704"
      },
      "source": [
        "# RNN"
      ]
    },
    {
      "cell_type": "markdown",
      "id": "be20525f",
      "metadata": {
        "id": "be20525f"
      },
      "source": [
        "## 06-016 코퍼스 및 레이블 정의\n",
        "- 이 실습에서는 간단한 문장 리스트(corpus)와 각 문장에 대한 레이블(y)을 정의합니다. y는 부정(0)과 긍정(1)으로 이루어져 있으며, 각 문장의 감정 평가를 나타냅니다. 이러한 데이터는 감정 분석 모델을 학습시키는 데 사용됩니다."
      ]
    },
    {
      "cell_type": "code",
      "execution_count": null,
      "id": "6c55e509",
      "metadata": {
        "id": "6c55e509"
      },
      "outputs": [],
      "source": [
        "corpus = [\n",
        "    'very good nice quality',\n",
        "    'stop lying',\n",
        "    'ugly terrible',\n",
        "    'excellent work',\n",
        "    'adorable lovely',\n",
        "    'bad',\n",
        "    'great nice'\n",
        "]\n",
        "y = torch.FloatTensor([1, 0, 0, 1, 1, 0, 1]).view(-1, 1)  # 0: 부정, 1: 긍정"
      ]
    },
    {
      "cell_type": "markdown",
      "id": "547ec71e",
      "metadata": {
        "id": "547ec71e"
      },
      "source": [
        "- 감정 분석을 위한 문장 목록과 레이블을 정의하는 과정을 실습합니다. 이는 NLP 모델 학습을 위한 데이터 준비의 기초 단계입니다."
      ]
    },
    {
      "cell_type": "markdown",
      "id": "4eb83827",
      "metadata": {
        "id": "4eb83827"
      },
      "source": [
        "## 06-017 GPT2 토크나이저로 문장 변환\n",
        "- 이 실습에서는 GPT2 모델의 토크나이저를 사용하여 문장 목록(corpus)을 토큰화합니다. AutoTokenizer를 통해 사전 학습된 토크나이저를 불러오고, clean_up_tokenization_spaces=True 옵션을 통해 불필요한 공백을 제거합니다. 변환된 시퀀스는 각 문장을 토큰 ID의 리스트로 표현합니다."
      ]
    },
    {
      "cell_type": "code",
      "execution_count": null,
      "id": "7f3fb29c",
      "metadata": {
        "id": "7f3fb29c"
      },
      "outputs": [],
      "source": [
        "from transformers import AutoTokenizer\n",
        "\n",
        "# GPT2 토크나이저 불러오기\n",
        "tokenizer = AutoTokenizer.from_pretrained(\n",
        "    'gmteacher/simple-word-tokenizer',\n",
        "    clean_up_tokenization_spaces=True)\n",
        "seqs = tokenizer(corpus)['input_ids']\n",
        "seqs  # 변환된 시퀀스"
      ]
    },
    {
      "cell_type": "markdown",
      "id": "cffcddf0",
      "metadata": {
        "id": "cffcddf0"
      },
      "source": [
        "- GPT2 토크나이저를 사용하여 문장 목록을 토큰화하고, 변환된 시퀀스를 확인하는 과정을 실습합니다. 이는 NLP 모델의 입력 데이터를 준비하는 데 필수적인 단계입니다."
      ]
    },
    {
      "cell_type": "markdown",
      "id": "b93be1a8",
      "metadata": {
        "id": "b93be1a8"
      },
      "source": [
        "## 06-018 토큰 ID를 단어로 복원\n",
        "- 이 실습에서는 GPT2 토크나이저를 사용하여 토큰 ID를 원래의 단어로 복원합니다. tokenizer.decode() 메서드를 사용하여 각 시퀀스를 입력하면, 모델이 이해할 수 있는 형태의 원본 문자열로 변환됩니다."
      ]
    },
    {
      "cell_type": "code",
      "execution_count": null,
      "id": "7f86b7b2",
      "metadata": {
        "id": "7f86b7b2"
      },
      "outputs": [],
      "source": [
        "# 시퀀스를 단어로 복원\n",
        "[tokenizer.decode(seq) for seq in seqs]"
      ]
    },
    {
      "cell_type": "markdown",
      "id": "7d54e7c9",
      "metadata": {
        "id": "7d54e7c9"
      },
      "source": [
        "- 토큰 ID를 사용하여 원래의 단어로 복원하는 과정을 실습합니다. 이는 NLP 작업에서 데이터를 확인하고 검증하는 데 유용합니다."
      ]
    },
    {
      "cell_type": "markdown",
      "id": "3fff3618",
      "metadata": {
        "id": "3fff3618"
      },
      "source": [
        "## 06-019 시퀀스를 텐서로 변환하고 패딩\n",
        "- 이 실습에서는 토큰 ID로 변환된 시퀀스들을 PyTorch 텐서로 변환한 후, pad_sequence() 함수를 사용하여 패딩을 적용합니다. 패딩을 통해 각 시퀀스의 길이를 동일하게 맞추어 배치 처리를 용이하게 합니다. batch_first=True로 설정하여 배치가 첫 번째 차원에 오도록 합니다."
      ]
    },
    {
      "cell_type": "code",
      "execution_count": null,
      "id": "6ee224eb",
      "metadata": {
        "id": "6ee224eb"
      },
      "outputs": [],
      "source": [
        "from torch.nn.utils.rnn import pad_sequence\n",
        "\n",
        "# 각 시퀀스를 텐서로 변환\n",
        "seqs = [torch.tensor(seq) for seq in seqs]\n",
        "\n",
        "# 패딩\n",
        "x = pad_sequence(seqs, batch_first=True)\n",
        "x"
      ]
    },
    {
      "cell_type": "markdown",
      "id": "5f79bc0b",
      "metadata": {
        "id": "5f79bc0b"
      },
      "source": [
        "- 각 시퀀스를 텐서로 변환하고, 패딩을 적용하여 배치 처리를 위한 텐서를 준비하는 과정을 실습합니다. 이는 시퀀스 데이터 처리에서 매우 중요한 단계입니다."
      ]
    },
    {
      "cell_type": "markdown",
      "id": "4eff6185",
      "metadata": {
        "id": "4eff6185"
      },
      "source": [
        "## 06-020 텍스트 분류기 모델 정의\n",
        "- 이 실습에서는 텍스트 분류를 위한 신경망 모델을 정의합니다. TextClassifier 클래스는 입력 데이터를 임베딩 레이어를 통해 고차원 벡터로 변환한 후, LSTM(Long Short-Term Memory) 계층을 사용하여 순차적 특성을 학습합니다. LSTM의 마지막 출력(hidden state)을 이용해 완전 연결 레이어로 클래스를 예측하고, Sigmoid 활성화 함수를 통해 최종 출력을 얻습니다. 이 모델은 자연어 처리 작업에서 시퀀스 데이터를 기반으로 한 분류 작업에 사용됩니다."
      ]
    },
    {
      "cell_type": "code",
      "execution_count": null,
      "id": "8774e043",
      "metadata": {
        "id": "8774e043"
      },
      "outputs": [],
      "source": [
        "from torch import nn\n",
        "\n",
        "class TextClassifier(nn.Module):\n",
        "    def __init__(self, vocab_size, embed_dim, hidden_size, num_class):\n",
        "        super().__init__()\n",
        "        # 임베딩 계층 추가\n",
        "        self.embedding = nn.Embedding(vocab_size, embed_dim)\n",
        "        self.lstm = nn.LSTM(embed_dim, hidden_size, batch_first=True)\n",
        "        self.fc = nn.Linear(hidden_size, num_class)\n",
        "        self.sigmoid = nn.Sigmoid()\n",
        "\n",
        "    def forward(self, x):\n",
        "        out = self.embedding(x)\n",
        "        out, _ = self.lstm(out)\n",
        "        out = self.fc(out[:, -1, :])\n",
        "        out = self.sigmoid(out)\n",
        "        return out"
      ]
    },
    {
      "cell_type": "markdown",
      "id": "8c693e30",
      "metadata": {
        "id": "8c693e30"
      },
      "source": [
        "- 이 실습에서는 LSTM 계층을 포함한 텍스트 분류 모델을 정의하는 과정을 다룹니다. 모델은 임베딩 계층과 LSTM 계층을 활용하여 입력 텍스트의 순차적 특성을 반영한 분류 작업을 수행합니다. LSTM의 최종 출력을 사용하여 여러 클래스로의 분류를 예측합니다."
      ]
    },
    {
      "cell_type": "markdown",
      "id": "2be83669",
      "metadata": {
        "id": "2be83669"
      },
      "source": [
        "## 06-021 텍스트 분류기 모델 인스턴스 생성 및 출력 테스트\n",
        "- 이 실습에서는 TextClassifier 모델의 인스턴스를 생성하고, 입력 데이터에 대한 출력 결과의 형태를 확인합니다. 모델 생성 시, 임베딩 차원과 LSTM의 은닉 상태 크기(hidden_size)를 설정합니다. torch.manual_seed(0)을 사용해 랜덤 시드를 고정하여 재현성을 보장합니다. 모델이 입력 데이터를 기반으로 출력이 올바르게 형성되는지를 테스트합니다."
      ]
    },
    {
      "cell_type": "code",
      "execution_count": null,
      "id": "65a3dbd9",
      "metadata": {
        "id": "65a3dbd9"
      },
      "outputs": [],
      "source": [
        "torch.manual_seed(0)\n",
        "\n",
        "hidden_size = 128\n",
        "# 모델 인스턴스 생성\n",
        "model = TextClassifier(tokenizer.vocab_size, 2, hidden_size, 1).to(device)\n",
        "\n",
        "# 출력 테스트\n",
        "output = model(x[:1].to(device))\n",
        "output.shape"
      ]
    },
    {
      "cell_type": "markdown",
      "id": "ced82306",
      "metadata": {
        "id": "ced82306"
      },
      "source": [
        "- 텍스트 분류기 모델을 인스턴스화하고, 입력 데이터를 사용하여 출력의 형태를 확인하는 과정을 실습합니다. 이는 모델이 기대한 대로 작동하는지 검증하는 데 중요한 단계입니다."
      ]
    },
    {
      "cell_type": "markdown",
      "id": "2377d19c",
      "metadata": {
        "id": "2377d19c"
      },
      "source": [
        "## 06-022 장치 적용\n",
        "- 이 실습에서는 입력 데이터 x와 타겟 데이터 y를 설정한 장치(GPU 또는 CPU)로 이동합니다. PyTorch에서는 모델과 데이터가 동일한 장치에 있어야 연산이 가능하므로, 이를 통해 학습 및 추론을 위한 준비를 합니다."
      ]
    },
    {
      "cell_type": "code",
      "execution_count": null,
      "id": "53034e56",
      "metadata": {
        "id": "53034e56"
      },
      "outputs": [],
      "source": [
        "# 장치 적용\n",
        "x = x.to(device)\n",
        "y = y.to(device)"
      ]
    },
    {
      "cell_type": "markdown",
      "id": "6adb399f",
      "metadata": {
        "id": "6adb399f"
      },
      "source": [
        "- 입력 데이터와 타겟 데이터를 장치에 적용하는 과정을 실습합니다. 이는 PyTorch에서 효율적인 계산을 위한 필수적인 단계입니다."
      ]
    },
    {
      "cell_type": "markdown",
      "id": "3ef6c89a",
      "metadata": {
        "id": "3ef6c89a"
      },
      "source": [
        "## 06-023 모델 학습 및 손실 계산\n",
        "- 이 실습에서는 정의한 텍스트 분류기 모델을 학습시키고 손실을 계산하는 과정을 구현합니다. BCELoss를 손실 함수로 사용하고, Adam 옵티마이저를 통해 모델의 파라미터를 업데이트합니다. 지정된 최대 에폭 수만큼 모델을 학습시키며, 주기적으로 손실 값을 출력합니다."
      ]
    },
    {
      "cell_type": "code",
      "execution_count": null,
      "id": "84ddcbe4",
      "metadata": {
        "id": "84ddcbe4"
      },
      "outputs": [],
      "source": [
        "loss_fn = nn.BCELoss()  # 손실 함수\n",
        "optimizer = optim.Adam(model.parameters())  # 최적화 도구(optimizer)\n",
        "\n",
        "epochs = 5000  # 최대 에폭 지정\n",
        "results = {'cost':[]}\n",
        "\n",
        "model.train()  # 학습 모드 설정\n",
        "\n",
        "for epoch in range(epochs):\n",
        "    h = model(x)  # 예측 값 생성(추론)\n",
        "    loss = loss_fn(h, y)  # 손실 계산\n",
        "\n",
        "    optimizer.zero_grad()  # 미분 값 초기화\n",
        "    loss.backward()  # 역전파(미분 계산)\n",
        "    optimizer.step()  # 업데이트 진행\n",
        "\n",
        "    results['cost'].append(loss.item())\n",
        "\n",
        "    if epoch % 1000 == 0:\n",
        "        print(f'epoch: {epoch:4d}, cost: {results[\"cost\"][-1]:.10f}')"
      ]
    },
    {
      "cell_type": "markdown",
      "id": "431c6c4f",
      "metadata": {
        "id": "431c6c4f"
      },
      "source": [
        "- 모델을 학습시키고 손실을 계산하여 업데이트하는 과정을 실습합니다. 학습 과정의 손실 변화를 모니터링하는 것은 모델의 성능을 이해하는 데 중요합니다."
      ]
    },
    {
      "cell_type": "markdown",
      "id": "eb7b1dbe",
      "metadata": {
        "id": "eb7b1dbe"
      },
      "source": [
        "## 06-024 예측 값을 클래스로 변환\n",
        "- 이 실습에서는 모델의 예측 값을 시그모이드 결과를 기반으로 클래스로 변환하는 방법을 학습합니다. h.view(-1)로 예측 결과를 평탄화한 후, 0.5를 기준으로 이진 클래스로 변환합니다. 실제 값과 예측 값을 출력하여 모델의 성능을 평가합니다."
      ]
    },
    {
      "cell_type": "code",
      "execution_count": null,
      "id": "30316d11",
      "metadata": {
        "id": "30316d11"
      },
      "outputs": [],
      "source": [
        "# 예측 값(시그모이드 값)을 클래스로 변환\n",
        "pred = (h.view(-1).detach().cpu() > 0.5).to(torch.float32)\n",
        "\n",
        "print(f'실제 값: {y.view(-1)}')\n",
        "print(f'예측 값: {pred}')"
      ]
    },
    {
      "cell_type": "markdown",
      "id": "f406a4fe",
      "metadata": {
        "id": "f406a4fe"
      },
      "source": [
        "- 모델의 예측 값을 클래스 형태로 변환하고, 실제 값과 비교하여 출력하는 과정을 실습합니다. 이는 모델의 예측 정확도를 확인하는 데 중요합니다."
      ]
    },
    {
      "cell_type": "markdown",
      "id": "e508f5c3",
      "metadata": {
        "id": "e508f5c3"
      },
      "source": [
        "---"
      ]
    },
    {
      "cell_type": "markdown",
      "id": "47f18c1d",
      "metadata": {
        "id": "47f18c1d"
      },
      "source": [
        "## 연습문제-06-001 10개 문서 유형 분류를 위한 모델 정의 (Module 방식)\n",
        "- 이 실습에서는 문서 유형 10개를 분류하기 위한 신경망 모델을 Module 방식으로 정의합니다. 이 모델은 입력된 문서 데이터를 임베딩 레이어와 LSTM 계층을 거쳐 처리한 후, 10개의 출력값을 가지는 완전 연결층을 통해 각 문서가 어느 유형에 속하는지 예측합니다. 활성화 함수는 적용되지 않으며, 출력값을 통해 각 클래스에 대한 로짓 값을 반환합니다."
      ]
    },
    {
      "cell_type": "code",
      "execution_count": null,
      "id": "6758a927",
      "metadata": {
        "id": "6758a927"
      },
      "outputs": [],
      "source": [
        "import torch\n",
        "from torch import nn\n",
        "\n",
        "# DocumentClassifier 모델 정의\n",
        "class DocumentClassifier(nn.Module):\n",
        "    def __init__(self, vocab_size, embed_dim, hidden_size, num_class=10):\n",
        "        super().__init__()\n",
        "\n",
        "        # 1. Embedding 계층: 입력된 단어를 고차원 벡터로 변환합니다.\n",
        "        self.embedding = nn.Embedding(vocab_size, embed_dim)  # vocab_size: 단어 사전 크기, embed_dim: 임베딩 차원 수\n",
        "\n",
        "        # 2. LSTM 계층: 순차적 데이터를 처리하는 LSTM 계층입니다.\n",
        "        self.lstm = nn.LSTM(embed_dim, hidden_size, batch_first=True)  # embed_dim 크기의 입력을 받아 hidden_size 크기의 출력을 반환\n",
        "\n",
        "        # 3. Fully Connected Layer (FC): LSTM의 출력을 사용해 문서 유형을 분류하는 계층입니다.\n",
        "        self.fc = nn.Linear(hidden_size, num_class)  # hidden_size에서 10개의 문서 유형으로 분류\n",
        "\n",
        "    def forward(self, x):\n",
        "        # 4. 입력 데이터 임베딩 변환\n",
        "        out = self.embedding(x)\n",
        "\n",
        "        # 5. LSTM 계층을 통과시켜 순차적 특성 학습\n",
        "        out, _ = self.lstm(out)\n",
        "\n",
        "        # 6. LSTM의 마지막 타임스텝의 출력을 사용해 FC 계층에 전달\n",
        "        out = self.fc(out[:, -1, :])  # LSTM의 마지막 출력 사용\n",
        "\n",
        "        # 7. 활성화 함수 없이 10개의 출력값 반환\n",
        "        return out  # 최종 출력값: (배치 크기, 10개의 문서 유형)\n",
        "\n",
        "model = DocumentClassifier(vocab_size=10000, embed_dim=128, hidden_size=256)\n",
        "model(torch.randint(0, 10000, (100, 20))).shape\n"
      ]
    },
    {
      "cell_type": "markdown",
      "id": "5125c73f",
      "metadata": {
        "id": "5125c73f"
      },
      "source": [
        "- 이 실습에서는 PyTorch의 Module 방식을 사용해 문서 유형 10개를 분류하는 모델을 정의합니다. 이 모델은 LSTM을 통해 문서의 순차적 특성을 학습하고, 완전 연결층을 사용하여 10개의 범주로 문서를 분류합니다."
      ]
    },
    {
      "cell_type": "markdown",
      "id": "8c4fdbc0",
      "metadata": {
        "id": "8c4fdbc0"
      },
      "source": [
        "---"
      ]
    },
    {
      "cell_type": "markdown",
      "id": "88e23b24",
      "metadata": {
        "id": "88e23b24"
      },
      "source": [
        "# HuggingFace - Transformers"
      ]
    },
    {
      "cell_type": "markdown",
      "id": "fddad722",
      "metadata": {
        "id": "fddad722"
      },
      "source": [
        "## 06-025 텍스트 분류 파이프라인 사용\n",
        "- 이 실습에서는 Hugging Face의 Transformers 라이브러리를 사용하여 텍스트 분류 파이프라인을 생성합니다. pipeline() 함수를 통해 'text-classification' 작업을 설정하고, 주어진 문장에 대해 모델의 예측 결과를 확인합니다."
      ]
    },
    {
      "cell_type": "code",
      "execution_count": null,
      "id": "852e21c6",
      "metadata": {
        "id": "852e21c6"
      },
      "outputs": [],
      "source": [
        "from transformers import pipeline\n",
        "\n",
        "classifier = pipeline('text-classification')\n",
        "classifier(\"I've been waiting for a HuggingFace course my whole life.\")"
      ]
    },
    {
      "cell_type": "markdown",
      "id": "3eda0765",
      "metadata": {
        "id": "3eda0765"
      },
      "source": [
        "- 텍스트 분류 파이프라인을 사용하여 입력 문장에 대한 분류 결과를 얻는 과정을 실습합니다. 이는 NLP 작업에서 텍스트의 감정이나 주제를 분류하는 데 유용합니다."
      ]
    },
    {
      "cell_type": "markdown",
      "id": "3a2fc1f3",
      "metadata": {
        "id": "3a2fc1f3"
      },
      "source": [
        "## 06-026 DistilBERT로 텍스트 분류\n",
        "- 이 실습에서는 Hugging Face의 DistilBERT 모델을 사용하여 텍스트를 분류하는 방법을 보여줍니다. 사전 학습된 DistilBERT 모델을 로드하고, 주어진 문장을 토크나이즈하여 입력 텐서를 생성합니다. 모델에 입력을 전달하여 예측 결과를 얻고, 확률을 계산하여 최종 레이블과 점수를 출력합니다."
      ]
    },
    {
      "cell_type": "code",
      "execution_count": null,
      "id": "fda0241d",
      "metadata": {
        "id": "fda0241d"
      },
      "outputs": [],
      "source": [
        "import torch\n",
        "from transformers import DistilBertTokenizer, DistilBertForSequenceClassification\n",
        "\n",
        "model_name = \"distilbert-base-uncased-finetuned-sst-2-english\"\n",
        "tokenizer = DistilBertTokenizer.from_pretrained(model_name)\n",
        "model = DistilBertForSequenceClassification.from_pretrained(model_name)\n",
        "\n",
        "text = \"I've been waiting for a HuggingFace course my whole life.\"\n",
        "inputs = tokenizer(text, return_tensors=\"pt\")\n",
        "with torch.no_grad():\n",
        "    logits = model(**inputs).logits\n",
        "\n",
        "predicted_class_id = logits.argmax().item()\n",
        "label = model.config.id2label[predicted_class_id]\n",
        "score = torch.softmax(logits, dim=1).squeeze()[predicted_class_id].item()\n",
        "print(f'label:{label}, score:{score}')"
      ]
    },
    {
      "cell_type": "markdown",
      "id": "bf7eab14",
      "metadata": {
        "id": "bf7eab14"
      },
      "source": [
        "- DistilBERT 모델을 사용하여 입력 텍스트의 감정을 분류하고, 예측 결과와 확률을 출력하는 과정을 실습합니다. 이는 NLP에서 텍스트 분류 작업의 기본적인 방법론입니다."
      ]
    },
    {
      "cell_type": "markdown",
      "id": "f07a8aa3",
      "metadata": {
        "id": "f07a8aa3"
      },
      "source": [
        "## 06-027 파이프라인 모델 지정 및 예측\n",
        "- 이 실습에서는 Hugging Face의 pipeline을 사용하여 이전에 로드한 DistilBERT 모델과 토크나이저를 지정합니다. 지정된 파이프라인을 통해 주어진 문장에 대한 텍스트 분류를 수행하고 결과를 출력합니다."
      ]
    },
    {
      "cell_type": "code",
      "execution_count": null,
      "id": "e131a832",
      "metadata": {
        "id": "e131a832"
      },
      "outputs": [],
      "source": [
        "# 파이프라인 모델 지정\n",
        "classifier = pipeline('text-classification', model=model, tokenizer=tokenizer)\n",
        "classifier(\"I've been waiting for a HuggingFace course my whole life.\")"
      ]
    },
    {
      "cell_type": "markdown",
      "id": "633f89af",
      "metadata": {
        "id": "633f89af"
      },
      "source": [
        "- 파이프라인을 사용하여 DistilBERT 모델로 텍스트 분류를 수행하고 결과를 출력하는 과정을 실습합니다. 이는 모델을 간편하게 사용하여 예측을 수행하는 방법을 보여줍니다."
      ]
    },
    {
      "cell_type": "markdown",
      "id": "9fb63534",
      "metadata": {
        "id": "9fb63534"
      },
      "source": [
        "## 06-028 여러 문장 분류\n",
        "- 이 실습에서는 Hugging Face의 파이프라인을 사용하여 여러 개의 문장에 대해 텍스트 분류를 수행합니다. classifier() 함수를 호출하여 입력된 문장 목록을 전달하면, 각 문장에 대한 분류 결과를 얻을 수 있습니다."
      ]
    },
    {
      "cell_type": "code",
      "execution_count": null,
      "id": "e2e8440d",
      "metadata": {
        "id": "e2e8440d"
      },
      "outputs": [],
      "source": [
        "# 여러 문장 분류\n",
        "classifier(\n",
        "    [\"I've been waiting for a HuggingFace course my whole life.\",\n",
        "     \"I hate this so much!\"])"
      ]
    },
    {
      "cell_type": "markdown",
      "id": "712d45b2",
      "metadata": {
        "id": "712d45b2"
      },
      "source": [
        "- 여러 문장에 대해 텍스트 분류를 수행하고 결과를 출력하는 과정을 실습합니다. 이는 NLP 모델이 동시에 여러 입력을 처리할 수 있는 방법을 보여줍니다."
      ]
    },
    {
      "cell_type": "markdown",
      "id": "288f0696",
      "metadata": {
        "id": "288f0696"
      },
      "source": [
        "## 06-029 한국어 감정 분류\n",
        "- 이 실습에서는 Hugging Face의 파이프라인을 사용하여 한국어 감정 분류 모델을 로드하고, 여러 문장에 대한 감정을 분류합니다. 입력된 문장에 대해 긍정적 또는 부정적인 감정을 예측하여 결과를 출력합니다."
      ]
    },
    {
      "cell_type": "code",
      "execution_count": null,
      "id": "eec557c9",
      "metadata": {
        "id": "eec557c9"
      },
      "outputs": [],
      "source": [
        "# 한국어 감정 분류\n",
        "classifier_ko = pipeline('text-classification', model='matthewburke/korean_sentiment')\n",
        "classifier_ko(\n",
        "    [\"그녀가 먼저 말을 걸어와서 나는 무척 기뻤다.\",\n",
        "     \"듣기 싫어 죽겠네, 짜증나니까 그만 좀 닥쳐줄래\"])"
      ]
    },
    {
      "cell_type": "markdown",
      "id": "51b1eaf7",
      "metadata": {
        "id": "51b1eaf7"
      },
      "source": [
        "- 한국어 감정 분류를 수행하고 결과를 출력하는 과정을 실습합니다. 이는 NLP 모델이 한국어 텍스트의 감정을 분석하는 데 유용한 방법입니다."
      ]
    },
    {
      "cell_type": "markdown",
      "id": "c63e6d92",
      "metadata": {
        "id": "c63e6d92"
      },
      "source": [
        "## 06-030 제로 샷 분류\n",
        "- 이 실습에서는 Hugging Face의 제로 샷 분류 파이프라인을 사용하여 주어진 문장이 어떤 클래스에 속하는지를 예측합니다. candidate_labels로 제공된 여러 후보 레이블 중에서 가장 적합한 레이블을 선택하여 결과를 출력합니다."
      ]
    },
    {
      "cell_type": "code",
      "execution_count": null,
      "id": "ece6a047",
      "metadata": {
        "id": "ece6a047"
      },
      "outputs": [],
      "source": [
        "# zero-shot classification\n",
        "classifier = pipeline(\"zero-shot-classification\")\n",
        "classifier(\n",
        "    \"This is a course about the Transformers library\",\n",
        "    candidate_labels=[\"education\", \"politics\", \"business\"],\n",
        ")"
      ]
    },
    {
      "cell_type": "markdown",
      "id": "cfd03fcb",
      "metadata": {
        "id": "cfd03fcb"
      },
      "source": [
        "- 제로 샷 분류를 통해 주어진 문장의 분류를 수행하는 과정을 실습합니다. 이는 사전 학습된 모델을 사용하여 새로운 태스크에 대해 적응할 수 있는 방법을 보여줍니다."
      ]
    },
    {
      "cell_type": "markdown",
      "id": "89601617",
      "metadata": {
        "id": "89601617"
      },
      "source": [
        "## 06-031 한국어 제로 샷 분류\n",
        "- 이 실습에서는 한국어 문장에 대해 제로 샷 분류를 수행합니다. mDeBERTa 모델을 사용하여 주어진 문장이 어떤 클래스에 속하는지를 예측합니다. 후보 레이블로 제공된 여러 항목 중에서 가장 적합한 레이블을 선택하여 결과를 출력합니다."
      ]
    },
    {
      "cell_type": "code",
      "execution_count": null,
      "id": "75315757",
      "metadata": {
        "id": "75315757"
      },
      "outputs": [],
      "source": [
        "# 한국어 zero-shot classification\n",
        "model_name = 'MoritzLaurer/mDeBERTa-v3-base-xnli-multilingual-nli-2mil7'\n",
        "classifier_ko = pipeline(\"zero-shot-classification\", model_name)\n",
        "classifier_ko(\n",
        "    \"이 강의는 트랜스포머 라이브러리에 대한 것입니다.\",\n",
        "    candidate_labels=[\"교육\", \"정치\", \"사업\"],\n",
        ")"
      ]
    },
    {
      "cell_type": "markdown",
      "id": "00541eda",
      "metadata": {
        "id": "00541eda"
      },
      "source": [
        "- 한국어 문장에 대한 제로 샷 분류를 수행하고 결과를 출력하는 과정을 실습합니다. 이는 다국어 모델을 사용하여 다양한 태스크에 적응할 수 있는 방법을 보여줍니다."
      ]
    },
    {
      "cell_type": "markdown",
      "id": "419f4946",
      "metadata": {
        "id": "419f4946"
      },
      "source": [
        "## 06-032 한국어 제로 샷 분류 예시\n",
        "- 이 실습에서는 한국어 문장에 대해 제로 샷 분류를 수행하여 주어진 문장이 어떤 클래스에 속하는지를 예측합니다. 후보 레이블로 제공된 '예술', '정치', '군사' 중에서 가장 적합한 레이블을 선택하여 결과를 출력합니다."
      ]
    },
    {
      "cell_type": "code",
      "execution_count": null,
      "id": "f2f6b5ba",
      "metadata": {
        "id": "f2f6b5ba"
      },
      "outputs": [],
      "source": [
        "classifier_ko(\n",
        "    \"이 소총의 유효사거리는 5km를 넘습니다.\",\n",
        "    candidate_labels=[\"예술\", \"정치\", \"군사\"],\n",
        ")"
      ]
    },
    {
      "cell_type": "markdown",
      "id": "78497e8e",
      "metadata": {
        "id": "78497e8e"
      },
      "source": [
        "- 주어진 한국어 문장에 대한 제로 샷 분류를 수행하고, 결과를 출력하는 과정을 실습합니다. 이는 NLP 모델이 새로운 태스크에 대해 적응할 수 있는 방법을 보여줍니다."
      ]
    },
    {
      "cell_type": "markdown",
      "id": "4f9f4e03",
      "metadata": {
        "id": "4f9f4e03"
      },
      "source": [
        "## 06-033 한국어 제로 샷 분류 예시\n",
        "- 이 실습에서는 주어진 한국어 문장에 대해 제로 샷 분류를 수행합니다. 문장은 예술 작품에 대한 설명이며, 후보 레이블로 제공된 '예술', '정치', '군사' 중에서 가장 적합한 레이블을 선택하여 결과를 출력합니다."
      ]
    },
    {
      "cell_type": "code",
      "execution_count": null,
      "id": "fc1af834",
      "metadata": {
        "id": "fc1af834"
      },
      "outputs": [],
      "source": [
        "classifier_ko(\n",
        "    \"선과 색의 조화가 탁월한 그 작품은 과거의 어느 작가의 그것과 닮아 있다.\",\n",
        "    candidate_labels=[\"예술\", \"정치\", \"군사\"],\n",
        ")"
      ]
    },
    {
      "cell_type": "markdown",
      "id": "6a1f37a4",
      "metadata": {
        "id": "6a1f37a4"
      },
      "source": [
        "- 주어진 문장에 대한 제로 샷 분류를 수행하고, 출력 결과를 확인하는 과정을 실습합니다. 이는 다양한 주제에 대해 모델의 분류 능력을 평가하는 데 유용합니다."
      ]
    },
    {
      "cell_type": "markdown",
      "id": "7e490379",
      "metadata": {
        "id": "7e490379"
      },
      "source": [
        "## 06-034 질문-답변 파이프라인 사용\n",
        "- 이 실습에서는 Hugging Face의 질문-답변 파이프라인을 사용하여 주어진 질문에 대한 답변을 찾습니다. 질문과 함께 제공된 문맥(context)을 기반으로 모델이 질문에 대한 적절한 답변을 생성합니다."
      ]
    },
    {
      "cell_type": "code",
      "execution_count": null,
      "id": "8bf0bd49",
      "metadata": {
        "id": "8bf0bd49"
      },
      "outputs": [],
      "source": [
        "# Q & A\n",
        "question_answerer = pipeline(\"question-answering\")\n",
        "question_answerer(\n",
        "    question=\"Where do I work?\",\n",
        "    context=\"My name is Sylvain and I work at Hugging Face in Brooklyn\",\n",
        ")"
      ]
    },
    {
      "cell_type": "markdown",
      "id": "0a0cec9e",
      "metadata": {
        "id": "0a0cec9e"
      },
      "source": [
        "- 질문-답변 파이프라인을 사용하여 주어진 질문에 대한 답변을 찾는 과정을 실습합니다. 이는 NLP 모델이 문맥에서 정보를 추출하는 데 유용한 방법입니다."
      ]
    },
    {
      "cell_type": "markdown",
      "id": "4f639554",
      "metadata": {
        "id": "4f639554"
      },
      "source": [
        "## 06-035 한국어 질문-답변 파이프라인 사용\n",
        "- 이 실습에서는 한국어 질문-답변 파이프라인을 사용하여 주어진 질문에 대한 답변을 찾습니다. 특정 모델을 지정하여 문맥(context)에서 질문에 대한 적절한 답변을 생성합니다."
      ]
    },
    {
      "cell_type": "code",
      "execution_count": null,
      "id": "8bd60780",
      "metadata": {
        "id": "8bd60780"
      },
      "outputs": [],
      "source": [
        "# 한국어 Q & A\n",
        "question_answerer = pipeline(\"question-answering\", model='timpal0l/mdeberta-v3-base-squad2')\n",
        "question_answerer(\n",
        "    question=\"홍길동은 어디에 있지?\",\n",
        "    context=\"홍길동씨는 잠실에 있는 숨겨진 국가정보원 빌딩에서 청소를 하며 살아 가고있다.\",\n",
        ")"
      ]
    },
    {
      "cell_type": "markdown",
      "id": "04a825ba",
      "metadata": {
        "id": "04a825ba"
      },
      "source": [
        "- 한국어 질문-답변 파이프라인을 사용하여 주어진 질문에 대한 답변을 찾는 과정을 실습합니다. 이는 NLP 모델이 한국어 문맥에서 정보를 추출하는 데 유용한 방법입니다."
      ]
    },
    {
      "cell_type": "markdown",
      "id": "569a3f1a",
      "metadata": {
        "id": "569a3f1a"
      },
      "source": [
        "## 06-036 한국어 질문-답변 추가 예시\n",
        "- 이 실습에서는 한국어 질문-답변 파이프라인을 사용하여 새로운 질문에 대한 답변을 찾습니다. 주어진 문맥(context)을 바탕으로 질문에 대한 적절한 답변을 생성합니다."
      ]
    },
    {
      "cell_type": "code",
      "execution_count": null,
      "id": "32ad2e3b",
      "metadata": {
        "id": "32ad2e3b"
      },
      "outputs": [],
      "source": [
        "question_answerer(\n",
        "    question=\"홍길동은 무얼하고 있지?\",\n",
        "    context=\"홍길동씨는 잠실에 있는 숨겨진 국가정보원 빌딩에서 청소를 하며 살아 가고있다.\",\n",
        ")"
      ]
    },
    {
      "cell_type": "markdown",
      "id": "3092c44a",
      "metadata": {
        "id": "3092c44a"
      },
      "source": [
        "- 한국어 질문-답변 파이프라인을 사용하여 특정 질문에 대한 답변을 찾는 과정을 실습합니다. 이는 모델이 한국어 문맥에서 정보를 추출하는 능력을 평가하는 데 유용합니다."
      ]
    },
    {
      "cell_type": "markdown",
      "id": "6f15f2e9",
      "metadata": {
        "id": "6f15f2e9"
      },
      "source": [
        "## 06-037 GPT 텍스트 생성\n",
        "- 이 실습에서는 Hugging Face의 텍스트 생성 파이프라인을 사용하여 GPT-2 모델을 기반으로 텍스트를 생성합니다. 주어진 입력 문장에 이어서 모델이 자동으로 텍스트를 생성하도록 합니다."
      ]
    },
    {
      "cell_type": "code",
      "execution_count": null,
      "id": "d5efe7fa",
      "metadata": {
        "id": "d5efe7fa"
      },
      "outputs": [],
      "source": [
        "# GPT 텍스트 생성\n",
        "from transformers import pipeline\n",
        "\n",
        "generator = pipeline(\"text-generation\", model='gpt2')\n",
        "generator(\"In this course, we will teach you how to\")"
      ]
    },
    {
      "cell_type": "markdown",
      "id": "85d57481",
      "metadata": {
        "id": "85d57481"
      },
      "source": [
        "- GPT-2 모델을 사용하여 입력 문장에 이어지는 텍스트를 생성하는 과정을 실습합니다. 이는 자연어 생성 모델의 활용 방법을 보여줍니다."
      ]
    },
    {
      "cell_type": "markdown",
      "id": "967cb3e9",
      "metadata": {
        "id": "967cb3e9"
      },
      "source": [
        "## 06-038 KoGPT 텍스트 생성\n",
        "- 이 실습에서는 KoGPT 모델을 사용하여 주어진 한국어 문장에 이어지는 텍스트를 생성합니다. '감기에 걸리지 않으려면'이라는 입력 문장에 대해 모델이 생성한 텍스트를 출력하여 확인합니다."
      ]
    },
    {
      "cell_type": "code",
      "execution_count": null,
      "id": "c3253059",
      "metadata": {
        "id": "c3253059"
      },
      "outputs": [],
      "source": [
        "# KoGPT 텍스트 생성\n",
        "generator = pipeline(\"text-generation\", model='skt/kogpt2-base-v2')\n",
        "output = generator(\"감기에 걸리지 않으려면\")\n",
        "print(output[0]['generated_text'])"
      ]
    },
    {
      "cell_type": "markdown",
      "id": "765e84bc",
      "metadata": {
        "id": "765e84bc"
      },
      "source": [
        "- KoGPT 모델을 사용하여 입력 문장에 따른 텍스트를 생성하고, 결과를 출력하는 과정을 실습합니다. 이는 한국어 자연어 생성 모델의 활용을 보여줍니다."
      ]
    }
  ],
  "metadata": {
    "colab": {
      "provenance": [],
      "include_colab_link": true
    },
    "kernelspec": {
      "display_name": "Python 3 (ipykernel)",
      "language": "python",
      "name": "python3"
    },
    "language_info": {
      "codemirror_mode": {
        "name": "ipython",
        "version": 3
      },
      "file_extension": ".py",
      "mimetype": "text/x-python",
      "name": "python",
      "nbconvert_exporter": "python",
      "pygments_lexer": "ipython3",
      "version": "3.10.14"
    },
    "widgets": {
      "application/vnd.jupyter.widget-state+json": {
        "00c5688a167d47b69dfdc564ca08f10c": {
          "model_module": "@jupyter-widgets/controls",
          "model_module_version": "1.5.0",
          "model_name": "HTMLModel",
          "state": {
            "_dom_classes": [],
            "_model_module": "@jupyter-widgets/controls",
            "_model_module_version": "1.5.0",
            "_model_name": "HTMLModel",
            "_view_count": null,
            "_view_module": "@jupyter-widgets/controls",
            "_view_module_version": "1.5.0",
            "_view_name": "HTMLView",
            "description": "",
            "description_tooltip": null,
            "layout": "IPY_MODEL_55802a788852463b8cf86c364c65074b",
            "placeholder": "​",
            "style": "IPY_MODEL_cbf1077ae5d2432a908dd20bb8eeced2",
            "value": " 560/560 [00:00&lt;00:00, 25.2kB/s]"
          }
        },
        "00e5877aca744de7828fc5bc3aea9234": {
          "model_module": "@jupyter-widgets/controls",
          "model_module_version": "1.5.0",
          "model_name": "FloatProgressModel",
          "state": {
            "_dom_classes": [],
            "_model_module": "@jupyter-widgets/controls",
            "_model_module_version": "1.5.0",
            "_model_name": "FloatProgressModel",
            "_view_count": null,
            "_view_module": "@jupyter-widgets/controls",
            "_view_module_version": "1.5.0",
            "_view_name": "ProgressView",
            "bar_style": "success",
            "description": "",
            "description_tooltip": null,
            "layout": "IPY_MODEL_2addb3abdb72483da89589f8f1dfb516",
            "max": 570,
            "min": 0,
            "orientation": "horizontal",
            "style": "IPY_MODEL_ceed22a33c8a4860b59ae7b6a6935c3d",
            "value": 570
          }
        },
        "0777adcdad744c2788a498ac9ab103a8": {
          "model_module": "@jupyter-widgets/controls",
          "model_module_version": "1.5.0",
          "model_name": "HTMLModel",
          "state": {
            "_dom_classes": [],
            "_model_module": "@jupyter-widgets/controls",
            "_model_module_version": "1.5.0",
            "_model_name": "HTMLModel",
            "_view_count": null,
            "_view_module": "@jupyter-widgets/controls",
            "_view_module_version": "1.5.0",
            "_view_name": "HTMLView",
            "description": "",
            "description_tooltip": null,
            "layout": "IPY_MODEL_202672a573a84938a78768367d63302d",
            "placeholder": "​",
            "style": "IPY_MODEL_64a66d9106994afea4ea4128a71a7296",
            "value": " 51.0/51.0 [00:00&lt;00:00, 1.76kB/s]"
          }
        },
        "09ac02523bf4472692ec42b0d9ee60f8": {
          "model_module": "@jupyter-widgets/controls",
          "model_module_version": "1.5.0",
          "model_name": "DescriptionStyleModel",
          "state": {
            "_model_module": "@jupyter-widgets/controls",
            "_model_module_version": "1.5.0",
            "_model_name": "DescriptionStyleModel",
            "_view_count": null,
            "_view_module": "@jupyter-widgets/base",
            "_view_module_version": "1.2.0",
            "_view_name": "StyleView",
            "description_width": ""
          }
        },
        "0ac3cf3fb23d417a9b49296fb01de821": {
          "model_module": "@jupyter-widgets/controls",
          "model_module_version": "1.5.0",
          "model_name": "DescriptionStyleModel",
          "state": {
            "_model_module": "@jupyter-widgets/controls",
            "_model_module_version": "1.5.0",
            "_model_name": "DescriptionStyleModel",
            "_view_count": null,
            "_view_module": "@jupyter-widgets/base",
            "_view_module_version": "1.2.0",
            "_view_name": "StyleView",
            "description_width": ""
          }
        },
        "0d554da5d3204269bfe90a81b3601f0a": {
          "model_module": "@jupyter-widgets/base",
          "model_module_version": "1.2.0",
          "model_name": "LayoutModel",
          "state": {
            "_model_module": "@jupyter-widgets/base",
            "_model_module_version": "1.2.0",
            "_model_name": "LayoutModel",
            "_view_count": null,
            "_view_module": "@jupyter-widgets/base",
            "_view_module_version": "1.2.0",
            "_view_name": "LayoutView",
            "align_content": null,
            "align_items": null,
            "align_self": null,
            "border": null,
            "bottom": null,
            "display": null,
            "flex": null,
            "flex_flow": null,
            "grid_area": null,
            "grid_auto_columns": null,
            "grid_auto_flow": null,
            "grid_auto_rows": null,
            "grid_column": null,
            "grid_gap": null,
            "grid_row": null,
            "grid_template_areas": null,
            "grid_template_columns": null,
            "grid_template_rows": null,
            "height": null,
            "justify_content": null,
            "justify_items": null,
            "left": null,
            "margin": null,
            "max_height": null,
            "max_width": null,
            "min_height": null,
            "min_width": null,
            "object_fit": null,
            "object_position": null,
            "order": null,
            "overflow": null,
            "overflow_x": null,
            "overflow_y": null,
            "padding": null,
            "right": null,
            "top": null,
            "visibility": null,
            "width": null
          }
        },
        "0e14761517b94dd2b658582dc5870598": {
          "model_module": "@jupyter-widgets/controls",
          "model_module_version": "1.5.0",
          "model_name": "HTMLModel",
          "state": {
            "_dom_classes": [],
            "_model_module": "@jupyter-widgets/controls",
            "_model_module_version": "1.5.0",
            "_model_name": "HTMLModel",
            "_view_count": null,
            "_view_module": "@jupyter-widgets/controls",
            "_view_module_version": "1.5.0",
            "_view_name": "HTMLView",
            "description": "",
            "description_tooltip": null,
            "layout": "IPY_MODEL_64fa1ec8c75f4e608c62ef9407bd2c44",
            "placeholder": "​",
            "style": "IPY_MODEL_19b0380ce5d647e28adf045f28229a2c",
            "value": "tokenizer_config.json: 100%"
          }
        },
        "0e59a91a7bdf4f2bb9286b491123136c": {
          "model_module": "@jupyter-widgets/base",
          "model_module_version": "1.2.0",
          "model_name": "LayoutModel",
          "state": {
            "_model_module": "@jupyter-widgets/base",
            "_model_module_version": "1.2.0",
            "_model_name": "LayoutModel",
            "_view_count": null,
            "_view_module": "@jupyter-widgets/base",
            "_view_module_version": "1.2.0",
            "_view_name": "LayoutView",
            "align_content": null,
            "align_items": null,
            "align_self": null,
            "border": null,
            "bottom": null,
            "display": null,
            "flex": null,
            "flex_flow": null,
            "grid_area": null,
            "grid_auto_columns": null,
            "grid_auto_flow": null,
            "grid_auto_rows": null,
            "grid_column": null,
            "grid_gap": null,
            "grid_row": null,
            "grid_template_areas": null,
            "grid_template_columns": null,
            "grid_template_rows": null,
            "height": null,
            "justify_content": null,
            "justify_items": null,
            "left": null,
            "margin": null,
            "max_height": null,
            "max_width": null,
            "min_height": null,
            "min_width": null,
            "object_fit": null,
            "object_position": null,
            "order": null,
            "overflow": null,
            "overflow_x": null,
            "overflow_y": null,
            "padding": null,
            "right": null,
            "top": null,
            "visibility": null,
            "width": null
          }
        },
        "100dc10ab5b847fba4226589873d24c0": {
          "model_module": "@jupyter-widgets/base",
          "model_module_version": "1.2.0",
          "model_name": "LayoutModel",
          "state": {
            "_model_module": "@jupyter-widgets/base",
            "_model_module_version": "1.2.0",
            "_model_name": "LayoutModel",
            "_view_count": null,
            "_view_module": "@jupyter-widgets/base",
            "_view_module_version": "1.2.0",
            "_view_name": "LayoutView",
            "align_content": null,
            "align_items": null,
            "align_self": null,
            "border": null,
            "bottom": null,
            "display": null,
            "flex": null,
            "flex_flow": null,
            "grid_area": null,
            "grid_auto_columns": null,
            "grid_auto_flow": null,
            "grid_auto_rows": null,
            "grid_column": null,
            "grid_gap": null,
            "grid_row": null,
            "grid_template_areas": null,
            "grid_template_columns": null,
            "grid_template_rows": null,
            "height": null,
            "justify_content": null,
            "justify_items": null,
            "left": null,
            "margin": null,
            "max_height": null,
            "max_width": null,
            "min_height": null,
            "min_width": null,
            "object_fit": null,
            "object_position": null,
            "order": null,
            "overflow": null,
            "overflow_x": null,
            "overflow_y": null,
            "padding": null,
            "right": null,
            "top": null,
            "visibility": null,
            "width": null
          }
        },
        "108a3e3836e44f5689b294e454721fbc": {
          "model_module": "@jupyter-widgets/controls",
          "model_module_version": "1.5.0",
          "model_name": "HTMLModel",
          "state": {
            "_dom_classes": [],
            "_model_module": "@jupyter-widgets/controls",
            "_model_module_version": "1.5.0",
            "_model_name": "HTMLModel",
            "_view_count": null,
            "_view_module": "@jupyter-widgets/controls",
            "_view_module_version": "1.5.0",
            "_view_name": "HTMLView",
            "description": "",
            "description_tooltip": null,
            "layout": "IPY_MODEL_a81968b873f64f76899e44246cb92883",
            "placeholder": "​",
            "style": "IPY_MODEL_b0d69ddb730442a8a1edd82e06c46ece",
            "value": " 49.0/49.0 [00:00&lt;00:00, 2.94kB/s]"
          }
        },
        "15df138e2cef4f1aadb96e4f4a6c5a63": {
          "model_module": "@jupyter-widgets/controls",
          "model_module_version": "1.5.0",
          "model_name": "FloatProgressModel",
          "state": {
            "_dom_classes": [],
            "_model_module": "@jupyter-widgets/controls",
            "_model_module_version": "1.5.0",
            "_model_name": "FloatProgressModel",
            "_view_count": null,
            "_view_module": "@jupyter-widgets/controls",
            "_view_module_version": "1.5.0",
            "_view_name": "ProgressView",
            "bar_style": "success",
            "description": "",
            "description_tooltip": null,
            "layout": "IPY_MODEL_26f688f77356444fb5dc9169da56a477",
            "max": 560,
            "min": 0,
            "orientation": "horizontal",
            "style": "IPY_MODEL_a65339911ca1406c918cded1e186ae00",
            "value": 560
          }
        },
        "19518cd72d414e0da2029c3939fd37f2": {
          "model_module": "@jupyter-widgets/controls",
          "model_module_version": "1.5.0",
          "model_name": "HBoxModel",
          "state": {
            "_dom_classes": [],
            "_model_module": "@jupyter-widgets/controls",
            "_model_module_version": "1.5.0",
            "_model_name": "HBoxModel",
            "_view_count": null,
            "_view_module": "@jupyter-widgets/controls",
            "_view_module_version": "1.5.0",
            "_view_name": "HBoxView",
            "box_style": "",
            "children": [
              "IPY_MODEL_bf090c5c404941ff936c87fea9a9e956",
              "IPY_MODEL_980cd7abd60749e4b666503e65ec11bf",
              "IPY_MODEL_66f9db447367448092dd46a1c09264f4"
            ],
            "layout": "IPY_MODEL_e6870bed49b948fa90d702aff2c97a28"
          }
        },
        "19a4b64f7b3640acaec9581526ff6416": {
          "model_module": "@jupyter-widgets/controls",
          "model_module_version": "1.5.0",
          "model_name": "HTMLModel",
          "state": {
            "_dom_classes": [],
            "_model_module": "@jupyter-widgets/controls",
            "_model_module_version": "1.5.0",
            "_model_name": "HTMLModel",
            "_view_count": null,
            "_view_module": "@jupyter-widgets/controls",
            "_view_module_version": "1.5.0",
            "_view_name": "HTMLView",
            "description": "",
            "description_tooltip": null,
            "layout": "IPY_MODEL_d5307484cb8e41b9bf983339ed8a7f21",
            "placeholder": "​",
            "style": "IPY_MODEL_38ea5209371142bfb982bf2815c6564e",
            "value": "tokenizer.json: 100%"
          }
        },
        "19b0380ce5d647e28adf045f28229a2c": {
          "model_module": "@jupyter-widgets/controls",
          "model_module_version": "1.5.0",
          "model_name": "DescriptionStyleModel",
          "state": {
            "_model_module": "@jupyter-widgets/controls",
            "_model_module_version": "1.5.0",
            "_model_name": "DescriptionStyleModel",
            "_view_count": null,
            "_view_module": "@jupyter-widgets/base",
            "_view_module_version": "1.2.0",
            "_view_name": "StyleView",
            "description_width": ""
          }
        },
        "1aa0db8dc4c2477db6186180ff9618ba": {
          "model_module": "@jupyter-widgets/controls",
          "model_module_version": "1.5.0",
          "model_name": "DescriptionStyleModel",
          "state": {
            "_model_module": "@jupyter-widgets/controls",
            "_model_module_version": "1.5.0",
            "_model_name": "DescriptionStyleModel",
            "_view_count": null,
            "_view_module": "@jupyter-widgets/base",
            "_view_module_version": "1.2.0",
            "_view_name": "StyleView",
            "description_width": ""
          }
        },
        "1b927bb1702d4cb68a6f9788921030ea": {
          "model_module": "@jupyter-widgets/controls",
          "model_module_version": "1.5.0",
          "model_name": "DescriptionStyleModel",
          "state": {
            "_model_module": "@jupyter-widgets/controls",
            "_model_module_version": "1.5.0",
            "_model_name": "DescriptionStyleModel",
            "_view_count": null,
            "_view_module": "@jupyter-widgets/base",
            "_view_module_version": "1.2.0",
            "_view_name": "StyleView",
            "description_width": ""
          }
        },
        "1e207cf85232473eb660a8378eed3edb": {
          "model_module": "@jupyter-widgets/controls",
          "model_module_version": "1.5.0",
          "model_name": "FloatProgressModel",
          "state": {
            "_dom_classes": [],
            "_model_module": "@jupyter-widgets/controls",
            "_model_module_version": "1.5.0",
            "_model_name": "FloatProgressModel",
            "_view_count": null,
            "_view_module": "@jupyter-widgets/controls",
            "_view_module_version": "1.5.0",
            "_view_name": "ProgressView",
            "bar_style": "success",
            "description": "",
            "description_tooltip": null,
            "layout": "IPY_MODEL_6018e178a9444b69aba9170fc1221cbe",
            "max": 977,
            "min": 0,
            "orientation": "horizontal",
            "style": "IPY_MODEL_1fb88a1ec4194c25ac171d4e580b5ba1",
            "value": 977
          }
        },
        "1fb88a1ec4194c25ac171d4e580b5ba1": {
          "model_module": "@jupyter-widgets/controls",
          "model_module_version": "1.5.0",
          "model_name": "ProgressStyleModel",
          "state": {
            "_model_module": "@jupyter-widgets/controls",
            "_model_module_version": "1.5.0",
            "_model_name": "ProgressStyleModel",
            "_view_count": null,
            "_view_module": "@jupyter-widgets/base",
            "_view_module_version": "1.2.0",
            "_view_name": "StyleView",
            "bar_color": null,
            "description_width": ""
          }
        },
        "202672a573a84938a78768367d63302d": {
          "model_module": "@jupyter-widgets/base",
          "model_module_version": "1.2.0",
          "model_name": "LayoutModel",
          "state": {
            "_model_module": "@jupyter-widgets/base",
            "_model_module_version": "1.2.0",
            "_model_name": "LayoutModel",
            "_view_count": null,
            "_view_module": "@jupyter-widgets/base",
            "_view_module_version": "1.2.0",
            "_view_name": "LayoutView",
            "align_content": null,
            "align_items": null,
            "align_self": null,
            "border": null,
            "bottom": null,
            "display": null,
            "flex": null,
            "flex_flow": null,
            "grid_area": null,
            "grid_auto_columns": null,
            "grid_auto_flow": null,
            "grid_auto_rows": null,
            "grid_column": null,
            "grid_gap": null,
            "grid_row": null,
            "grid_template_areas": null,
            "grid_template_columns": null,
            "grid_template_rows": null,
            "height": null,
            "justify_content": null,
            "justify_items": null,
            "left": null,
            "margin": null,
            "max_height": null,
            "max_width": null,
            "min_height": null,
            "min_width": null,
            "object_fit": null,
            "object_position": null,
            "order": null,
            "overflow": null,
            "overflow_x": null,
            "overflow_y": null,
            "padding": null,
            "right": null,
            "top": null,
            "visibility": null,
            "width": null
          }
        },
        "239a0b122ff5412b8866d641da6a6084": {
          "model_module": "@jupyter-widgets/controls",
          "model_module_version": "1.5.0",
          "model_name": "HBoxModel",
          "state": {
            "_dom_classes": [],
            "_model_module": "@jupyter-widgets/controls",
            "_model_module_version": "1.5.0",
            "_model_name": "HBoxModel",
            "_view_count": null,
            "_view_module": "@jupyter-widgets/controls",
            "_view_module_version": "1.5.0",
            "_view_name": "HBoxView",
            "box_style": "",
            "children": [
              "IPY_MODEL_52e60e4929ae4285a625e7bf9ed9048e",
              "IPY_MODEL_c691df77f0f24b34b6a4611d7aa815d3",
              "IPY_MODEL_4789946fb22e4e03b0984ae51aa9eecc"
            ],
            "layout": "IPY_MODEL_6e96f20db6f3405395e15679eee6cf02"
          }
        },
        "26f688f77356444fb5dc9169da56a477": {
          "model_module": "@jupyter-widgets/base",
          "model_module_version": "1.2.0",
          "model_name": "LayoutModel",
          "state": {
            "_model_module": "@jupyter-widgets/base",
            "_model_module_version": "1.2.0",
            "_model_name": "LayoutModel",
            "_view_count": null,
            "_view_module": "@jupyter-widgets/base",
            "_view_module_version": "1.2.0",
            "_view_name": "LayoutView",
            "align_content": null,
            "align_items": null,
            "align_self": null,
            "border": null,
            "bottom": null,
            "display": null,
            "flex": null,
            "flex_flow": null,
            "grid_area": null,
            "grid_auto_columns": null,
            "grid_auto_flow": null,
            "grid_auto_rows": null,
            "grid_column": null,
            "grid_gap": null,
            "grid_row": null,
            "grid_template_areas": null,
            "grid_template_columns": null,
            "grid_template_rows": null,
            "height": null,
            "justify_content": null,
            "justify_items": null,
            "left": null,
            "margin": null,
            "max_height": null,
            "max_width": null,
            "min_height": null,
            "min_width": null,
            "object_fit": null,
            "object_position": null,
            "order": null,
            "overflow": null,
            "overflow_x": null,
            "overflow_y": null,
            "padding": null,
            "right": null,
            "top": null,
            "visibility": null,
            "width": null
          }
        },
        "2addb3abdb72483da89589f8f1dfb516": {
          "model_module": "@jupyter-widgets/base",
          "model_module_version": "1.2.0",
          "model_name": "LayoutModel",
          "state": {
            "_model_module": "@jupyter-widgets/base",
            "_model_module_version": "1.2.0",
            "_model_name": "LayoutModel",
            "_view_count": null,
            "_view_module": "@jupyter-widgets/base",
            "_view_module_version": "1.2.0",
            "_view_name": "LayoutView",
            "align_content": null,
            "align_items": null,
            "align_self": null,
            "border": null,
            "bottom": null,
            "display": null,
            "flex": null,
            "flex_flow": null,
            "grid_area": null,
            "grid_auto_columns": null,
            "grid_auto_flow": null,
            "grid_auto_rows": null,
            "grid_column": null,
            "grid_gap": null,
            "grid_row": null,
            "grid_template_areas": null,
            "grid_template_columns": null,
            "grid_template_rows": null,
            "height": null,
            "justify_content": null,
            "justify_items": null,
            "left": null,
            "margin": null,
            "max_height": null,
            "max_width": null,
            "min_height": null,
            "min_width": null,
            "object_fit": null,
            "object_position": null,
            "order": null,
            "overflow": null,
            "overflow_x": null,
            "overflow_y": null,
            "padding": null,
            "right": null,
            "top": null,
            "visibility": null,
            "width": null
          }
        },
        "31b96b5122c3475fa04427e790244142": {
          "model_module": "@jupyter-widgets/base",
          "model_module_version": "1.2.0",
          "model_name": "LayoutModel",
          "state": {
            "_model_module": "@jupyter-widgets/base",
            "_model_module_version": "1.2.0",
            "_model_name": "LayoutModel",
            "_view_count": null,
            "_view_module": "@jupyter-widgets/base",
            "_view_module_version": "1.2.0",
            "_view_name": "LayoutView",
            "align_content": null,
            "align_items": null,
            "align_self": null,
            "border": null,
            "bottom": null,
            "display": null,
            "flex": null,
            "flex_flow": null,
            "grid_area": null,
            "grid_auto_columns": null,
            "grid_auto_flow": null,
            "grid_auto_rows": null,
            "grid_column": null,
            "grid_gap": null,
            "grid_row": null,
            "grid_template_areas": null,
            "grid_template_columns": null,
            "grid_template_rows": null,
            "height": null,
            "justify_content": null,
            "justify_items": null,
            "left": null,
            "margin": null,
            "max_height": null,
            "max_width": null,
            "min_height": null,
            "min_width": null,
            "object_fit": null,
            "object_position": null,
            "order": null,
            "overflow": null,
            "overflow_x": null,
            "overflow_y": null,
            "padding": null,
            "right": null,
            "top": null,
            "visibility": null,
            "width": null
          }
        },
        "325d2f2f806142a7985b4583e78505be": {
          "model_module": "@jupyter-widgets/base",
          "model_module_version": "1.2.0",
          "model_name": "LayoutModel",
          "state": {
            "_model_module": "@jupyter-widgets/base",
            "_model_module_version": "1.2.0",
            "_model_name": "LayoutModel",
            "_view_count": null,
            "_view_module": "@jupyter-widgets/base",
            "_view_module_version": "1.2.0",
            "_view_name": "LayoutView",
            "align_content": null,
            "align_items": null,
            "align_self": null,
            "border": null,
            "bottom": null,
            "display": null,
            "flex": null,
            "flex_flow": null,
            "grid_area": null,
            "grid_auto_columns": null,
            "grid_auto_flow": null,
            "grid_auto_rows": null,
            "grid_column": null,
            "grid_gap": null,
            "grid_row": null,
            "grid_template_areas": null,
            "grid_template_columns": null,
            "grid_template_rows": null,
            "height": null,
            "justify_content": null,
            "justify_items": null,
            "left": null,
            "margin": null,
            "max_height": null,
            "max_width": null,
            "min_height": null,
            "min_width": null,
            "object_fit": null,
            "object_position": null,
            "order": null,
            "overflow": null,
            "overflow_x": null,
            "overflow_y": null,
            "padding": null,
            "right": null,
            "top": null,
            "visibility": null,
            "width": null
          }
        },
        "360815b1df974c8b89e4342756e4b62c": {
          "model_module": "@jupyter-widgets/controls",
          "model_module_version": "1.5.0",
          "model_name": "DescriptionStyleModel",
          "state": {
            "_model_module": "@jupyter-widgets/controls",
            "_model_module_version": "1.5.0",
            "_model_name": "DescriptionStyleModel",
            "_view_count": null,
            "_view_module": "@jupyter-widgets/base",
            "_view_module_version": "1.2.0",
            "_view_name": "StyleView",
            "description_width": ""
          }
        },
        "3728cdc0fc5242578f5f579a3ed4120a": {
          "model_module": "@jupyter-widgets/base",
          "model_module_version": "1.2.0",
          "model_name": "LayoutModel",
          "state": {
            "_model_module": "@jupyter-widgets/base",
            "_model_module_version": "1.2.0",
            "_model_name": "LayoutModel",
            "_view_count": null,
            "_view_module": "@jupyter-widgets/base",
            "_view_module_version": "1.2.0",
            "_view_name": "LayoutView",
            "align_content": null,
            "align_items": null,
            "align_self": null,
            "border": null,
            "bottom": null,
            "display": null,
            "flex": null,
            "flex_flow": null,
            "grid_area": null,
            "grid_auto_columns": null,
            "grid_auto_flow": null,
            "grid_auto_rows": null,
            "grid_column": null,
            "grid_gap": null,
            "grid_row": null,
            "grid_template_areas": null,
            "grid_template_columns": null,
            "grid_template_rows": null,
            "height": null,
            "justify_content": null,
            "justify_items": null,
            "left": null,
            "margin": null,
            "max_height": null,
            "max_width": null,
            "min_height": null,
            "min_width": null,
            "object_fit": null,
            "object_position": null,
            "order": null,
            "overflow": null,
            "overflow_x": null,
            "overflow_y": null,
            "padding": null,
            "right": null,
            "top": null,
            "visibility": null,
            "width": null
          }
        },
        "38ea5209371142bfb982bf2815c6564e": {
          "model_module": "@jupyter-widgets/controls",
          "model_module_version": "1.5.0",
          "model_name": "DescriptionStyleModel",
          "state": {
            "_model_module": "@jupyter-widgets/controls",
            "_model_module_version": "1.5.0",
            "_model_name": "DescriptionStyleModel",
            "_view_count": null,
            "_view_module": "@jupyter-widgets/base",
            "_view_module_version": "1.2.0",
            "_view_name": "StyleView",
            "description_width": ""
          }
        },
        "4789946fb22e4e03b0984ae51aa9eecc": {
          "model_module": "@jupyter-widgets/controls",
          "model_module_version": "1.5.0",
          "model_name": "HTMLModel",
          "state": {
            "_dom_classes": [],
            "_model_module": "@jupyter-widgets/controls",
            "_model_module_version": "1.5.0",
            "_model_name": "HTMLModel",
            "_view_count": null,
            "_view_module": "@jupyter-widgets/controls",
            "_view_module_version": "1.5.0",
            "_view_name": "HTMLView",
            "description": "",
            "description_tooltip": null,
            "layout": "IPY_MODEL_90706eb877e5494bb05ede46bfe2382a",
            "placeholder": "​",
            "style": "IPY_MODEL_0ac3cf3fb23d417a9b49296fb01de821",
            "value": " 436k/436k [00:00&lt;00:00, 4.66MB/s]"
          }
        },
        "47aba0502f7b4c8589ac423107c3319c": {
          "model_module": "@jupyter-widgets/base",
          "model_module_version": "1.2.0",
          "model_name": "LayoutModel",
          "state": {
            "_model_module": "@jupyter-widgets/base",
            "_model_module_version": "1.2.0",
            "_model_name": "LayoutModel",
            "_view_count": null,
            "_view_module": "@jupyter-widgets/base",
            "_view_module_version": "1.2.0",
            "_view_name": "LayoutView",
            "align_content": null,
            "align_items": null,
            "align_self": null,
            "border": null,
            "bottom": null,
            "display": null,
            "flex": null,
            "flex_flow": null,
            "grid_area": null,
            "grid_auto_columns": null,
            "grid_auto_flow": null,
            "grid_auto_rows": null,
            "grid_column": null,
            "grid_gap": null,
            "grid_row": null,
            "grid_template_areas": null,
            "grid_template_columns": null,
            "grid_template_rows": null,
            "height": null,
            "justify_content": null,
            "justify_items": null,
            "left": null,
            "margin": null,
            "max_height": null,
            "max_width": null,
            "min_height": null,
            "min_width": null,
            "object_fit": null,
            "object_position": null,
            "order": null,
            "overflow": null,
            "overflow_x": null,
            "overflow_y": null,
            "padding": null,
            "right": null,
            "top": null,
            "visibility": null,
            "width": null
          }
        },
        "52e60e4929ae4285a625e7bf9ed9048e": {
          "model_module": "@jupyter-widgets/controls",
          "model_module_version": "1.5.0",
          "model_name": "HTMLModel",
          "state": {
            "_dom_classes": [],
            "_model_module": "@jupyter-widgets/controls",
            "_model_module_version": "1.5.0",
            "_model_name": "HTMLModel",
            "_view_count": null,
            "_view_module": "@jupyter-widgets/controls",
            "_view_module_version": "1.5.0",
            "_view_name": "HTMLView",
            "description": "",
            "description_tooltip": null,
            "layout": "IPY_MODEL_b077af1ad4b1469fab432b574ad28cc4",
            "placeholder": "​",
            "style": "IPY_MODEL_c9a4f6876a6e459caebc31a532165a64",
            "value": "tokenizer.json: 100%"
          }
        },
        "53b6374cdc5841e9ab477a29497d955f": {
          "model_module": "@jupyter-widgets/controls",
          "model_module_version": "1.5.0",
          "model_name": "DescriptionStyleModel",
          "state": {
            "_model_module": "@jupyter-widgets/controls",
            "_model_module_version": "1.5.0",
            "_model_name": "DescriptionStyleModel",
            "_view_count": null,
            "_view_module": "@jupyter-widgets/base",
            "_view_module_version": "1.2.0",
            "_view_name": "StyleView",
            "description_width": ""
          }
        },
        "55802a788852463b8cf86c364c65074b": {
          "model_module": "@jupyter-widgets/base",
          "model_module_version": "1.2.0",
          "model_name": "LayoutModel",
          "state": {
            "_model_module": "@jupyter-widgets/base",
            "_model_module_version": "1.2.0",
            "_model_name": "LayoutModel",
            "_view_count": null,
            "_view_module": "@jupyter-widgets/base",
            "_view_module_version": "1.2.0",
            "_view_name": "LayoutView",
            "align_content": null,
            "align_items": null,
            "align_self": null,
            "border": null,
            "bottom": null,
            "display": null,
            "flex": null,
            "flex_flow": null,
            "grid_area": null,
            "grid_auto_columns": null,
            "grid_auto_flow": null,
            "grid_auto_rows": null,
            "grid_column": null,
            "grid_gap": null,
            "grid_row": null,
            "grid_template_areas": null,
            "grid_template_columns": null,
            "grid_template_rows": null,
            "height": null,
            "justify_content": null,
            "justify_items": null,
            "left": null,
            "margin": null,
            "max_height": null,
            "max_width": null,
            "min_height": null,
            "min_width": null,
            "object_fit": null,
            "object_position": null,
            "order": null,
            "overflow": null,
            "overflow_x": null,
            "overflow_y": null,
            "padding": null,
            "right": null,
            "top": null,
            "visibility": null,
            "width": null
          }
        },
        "5ae0e4f5bfff45dd9ceaaa324bd22fcd": {
          "model_module": "@jupyter-widgets/controls",
          "model_module_version": "1.5.0",
          "model_name": "ProgressStyleModel",
          "state": {
            "_model_module": "@jupyter-widgets/controls",
            "_model_module_version": "1.5.0",
            "_model_name": "ProgressStyleModel",
            "_view_count": null,
            "_view_module": "@jupyter-widgets/base",
            "_view_module_version": "1.2.0",
            "_view_name": "StyleView",
            "bar_color": null,
            "description_width": ""
          }
        },
        "5aecd5139715477cbc814389aee53d18": {
          "model_module": "@jupyter-widgets/controls",
          "model_module_version": "1.5.0",
          "model_name": "HBoxModel",
          "state": {
            "_dom_classes": [],
            "_model_module": "@jupyter-widgets/controls",
            "_model_module_version": "1.5.0",
            "_model_name": "HBoxModel",
            "_view_count": null,
            "_view_module": "@jupyter-widgets/controls",
            "_view_module_version": "1.5.0",
            "_view_name": "HBoxView",
            "box_style": "",
            "children": [
              "IPY_MODEL_78634cc0e6ff4cdbb80fd4f63fb5a4f8",
              "IPY_MODEL_dd48f04081e24d6598c4a43773745c74",
              "IPY_MODEL_108a3e3836e44f5689b294e454721fbc"
            ],
            "layout": "IPY_MODEL_100dc10ab5b847fba4226589873d24c0"
          }
        },
        "6018e178a9444b69aba9170fc1221cbe": {
          "model_module": "@jupyter-widgets/base",
          "model_module_version": "1.2.0",
          "model_name": "LayoutModel",
          "state": {
            "_model_module": "@jupyter-widgets/base",
            "_model_module_version": "1.2.0",
            "_model_name": "LayoutModel",
            "_view_count": null,
            "_view_module": "@jupyter-widgets/base",
            "_view_module_version": "1.2.0",
            "_view_name": "LayoutView",
            "align_content": null,
            "align_items": null,
            "align_self": null,
            "border": null,
            "bottom": null,
            "display": null,
            "flex": null,
            "flex_flow": null,
            "grid_area": null,
            "grid_auto_columns": null,
            "grid_auto_flow": null,
            "grid_auto_rows": null,
            "grid_column": null,
            "grid_gap": null,
            "grid_row": null,
            "grid_template_areas": null,
            "grid_template_columns": null,
            "grid_template_rows": null,
            "height": null,
            "justify_content": null,
            "justify_items": null,
            "left": null,
            "margin": null,
            "max_height": null,
            "max_width": null,
            "min_height": null,
            "min_width": null,
            "object_fit": null,
            "object_position": null,
            "order": null,
            "overflow": null,
            "overflow_x": null,
            "overflow_y": null,
            "padding": null,
            "right": null,
            "top": null,
            "visibility": null,
            "width": null
          }
        },
        "631b9ceeae654292bcee846b374c234b": {
          "model_module": "@jupyter-widgets/base",
          "model_module_version": "1.2.0",
          "model_name": "LayoutModel",
          "state": {
            "_model_module": "@jupyter-widgets/base",
            "_model_module_version": "1.2.0",
            "_model_name": "LayoutModel",
            "_view_count": null,
            "_view_module": "@jupyter-widgets/base",
            "_view_module_version": "1.2.0",
            "_view_name": "LayoutView",
            "align_content": null,
            "align_items": null,
            "align_self": null,
            "border": null,
            "bottom": null,
            "display": null,
            "flex": null,
            "flex_flow": null,
            "grid_area": null,
            "grid_auto_columns": null,
            "grid_auto_flow": null,
            "grid_auto_rows": null,
            "grid_column": null,
            "grid_gap": null,
            "grid_row": null,
            "grid_template_areas": null,
            "grid_template_columns": null,
            "grid_template_rows": null,
            "height": null,
            "justify_content": null,
            "justify_items": null,
            "left": null,
            "margin": null,
            "max_height": null,
            "max_width": null,
            "min_height": null,
            "min_width": null,
            "object_fit": null,
            "object_position": null,
            "order": null,
            "overflow": null,
            "overflow_x": null,
            "overflow_y": null,
            "padding": null,
            "right": null,
            "top": null,
            "visibility": null,
            "width": null
          }
        },
        "64a66d9106994afea4ea4128a71a7296": {
          "model_module": "@jupyter-widgets/controls",
          "model_module_version": "1.5.0",
          "model_name": "DescriptionStyleModel",
          "state": {
            "_model_module": "@jupyter-widgets/controls",
            "_model_module_version": "1.5.0",
            "_model_name": "DescriptionStyleModel",
            "_view_count": null,
            "_view_module": "@jupyter-widgets/base",
            "_view_module_version": "1.2.0",
            "_view_name": "StyleView",
            "description_width": ""
          }
        },
        "64fa1ec8c75f4e608c62ef9407bd2c44": {
          "model_module": "@jupyter-widgets/base",
          "model_module_version": "1.2.0",
          "model_name": "LayoutModel",
          "state": {
            "_model_module": "@jupyter-widgets/base",
            "_model_module_version": "1.2.0",
            "_model_name": "LayoutModel",
            "_view_count": null,
            "_view_module": "@jupyter-widgets/base",
            "_view_module_version": "1.2.0",
            "_view_name": "LayoutView",
            "align_content": null,
            "align_items": null,
            "align_self": null,
            "border": null,
            "bottom": null,
            "display": null,
            "flex": null,
            "flex_flow": null,
            "grid_area": null,
            "grid_auto_columns": null,
            "grid_auto_flow": null,
            "grid_auto_rows": null,
            "grid_column": null,
            "grid_gap": null,
            "grid_row": null,
            "grid_template_areas": null,
            "grid_template_columns": null,
            "grid_template_rows": null,
            "height": null,
            "justify_content": null,
            "justify_items": null,
            "left": null,
            "margin": null,
            "max_height": null,
            "max_width": null,
            "min_height": null,
            "min_width": null,
            "object_fit": null,
            "object_position": null,
            "order": null,
            "overflow": null,
            "overflow_x": null,
            "overflow_y": null,
            "padding": null,
            "right": null,
            "top": null,
            "visibility": null,
            "width": null
          }
        },
        "66f9db447367448092dd46a1c09264f4": {
          "model_module": "@jupyter-widgets/controls",
          "model_module_version": "1.5.0",
          "model_name": "HTMLModel",
          "state": {
            "_dom_classes": [],
            "_model_module": "@jupyter-widgets/controls",
            "_model_module_version": "1.5.0",
            "_model_name": "HTMLModel",
            "_view_count": null,
            "_view_module": "@jupyter-widgets/controls",
            "_view_module_version": "1.5.0",
            "_view_name": "HTMLView",
            "description": "",
            "description_tooltip": null,
            "layout": "IPY_MODEL_47aba0502f7b4c8589ac423107c3319c",
            "placeholder": "​",
            "style": "IPY_MODEL_53b6374cdc5841e9ab477a29497d955f",
            "value": " 213k/213k [00:00&lt;00:00, 2.13MB/s]"
          }
        },
        "6e96f20db6f3405395e15679eee6cf02": {
          "model_module": "@jupyter-widgets/base",
          "model_module_version": "1.2.0",
          "model_name": "LayoutModel",
          "state": {
            "_model_module": "@jupyter-widgets/base",
            "_model_module_version": "1.2.0",
            "_model_name": "LayoutModel",
            "_view_count": null,
            "_view_module": "@jupyter-widgets/base",
            "_view_module_version": "1.2.0",
            "_view_name": "LayoutView",
            "align_content": null,
            "align_items": null,
            "align_self": null,
            "border": null,
            "bottom": null,
            "display": null,
            "flex": null,
            "flex_flow": null,
            "grid_area": null,
            "grid_auto_columns": null,
            "grid_auto_flow": null,
            "grid_auto_rows": null,
            "grid_column": null,
            "grid_gap": null,
            "grid_row": null,
            "grid_template_areas": null,
            "grid_template_columns": null,
            "grid_template_rows": null,
            "height": null,
            "justify_content": null,
            "justify_items": null,
            "left": null,
            "margin": null,
            "max_height": null,
            "max_width": null,
            "min_height": null,
            "min_width": null,
            "object_fit": null,
            "object_position": null,
            "order": null,
            "overflow": null,
            "overflow_x": null,
            "overflow_y": null,
            "padding": null,
            "right": null,
            "top": null,
            "visibility": null,
            "width": null
          }
        },
        "70cfe7912dae4ca4be13aedeb9f16d72": {
          "model_module": "@jupyter-widgets/controls",
          "model_module_version": "1.5.0",
          "model_name": "DescriptionStyleModel",
          "state": {
            "_model_module": "@jupyter-widgets/controls",
            "_model_module_version": "1.5.0",
            "_model_name": "DescriptionStyleModel",
            "_view_count": null,
            "_view_module": "@jupyter-widgets/base",
            "_view_module_version": "1.2.0",
            "_view_name": "StyleView",
            "description_width": ""
          }
        },
        "727a1848ca7d4007ab2c5792997f75a0": {
          "model_module": "@jupyter-widgets/base",
          "model_module_version": "1.2.0",
          "model_name": "LayoutModel",
          "state": {
            "_model_module": "@jupyter-widgets/base",
            "_model_module_version": "1.2.0",
            "_model_name": "LayoutModel",
            "_view_count": null,
            "_view_module": "@jupyter-widgets/base",
            "_view_module_version": "1.2.0",
            "_view_name": "LayoutView",
            "align_content": null,
            "align_items": null,
            "align_self": null,
            "border": null,
            "bottom": null,
            "display": null,
            "flex": null,
            "flex_flow": null,
            "grid_area": null,
            "grid_auto_columns": null,
            "grid_auto_flow": null,
            "grid_auto_rows": null,
            "grid_column": null,
            "grid_gap": null,
            "grid_row": null,
            "grid_template_areas": null,
            "grid_template_columns": null,
            "grid_template_rows": null,
            "height": null,
            "justify_content": null,
            "justify_items": null,
            "left": null,
            "margin": null,
            "max_height": null,
            "max_width": null,
            "min_height": null,
            "min_width": null,
            "object_fit": null,
            "object_position": null,
            "order": null,
            "overflow": null,
            "overflow_x": null,
            "overflow_y": null,
            "padding": null,
            "right": null,
            "top": null,
            "visibility": null,
            "width": null
          }
        },
        "74fe8bb83ab2488e9a961681d01cabd2": {
          "model_module": "@jupyter-widgets/base",
          "model_module_version": "1.2.0",
          "model_name": "LayoutModel",
          "state": {
            "_model_module": "@jupyter-widgets/base",
            "_model_module_version": "1.2.0",
            "_model_name": "LayoutModel",
            "_view_count": null,
            "_view_module": "@jupyter-widgets/base",
            "_view_module_version": "1.2.0",
            "_view_name": "LayoutView",
            "align_content": null,
            "align_items": null,
            "align_self": null,
            "border": null,
            "bottom": null,
            "display": null,
            "flex": null,
            "flex_flow": null,
            "grid_area": null,
            "grid_auto_columns": null,
            "grid_auto_flow": null,
            "grid_auto_rows": null,
            "grid_column": null,
            "grid_gap": null,
            "grid_row": null,
            "grid_template_areas": null,
            "grid_template_columns": null,
            "grid_template_rows": null,
            "height": null,
            "justify_content": null,
            "justify_items": null,
            "left": null,
            "margin": null,
            "max_height": null,
            "max_width": null,
            "min_height": null,
            "min_width": null,
            "object_fit": null,
            "object_position": null,
            "order": null,
            "overflow": null,
            "overflow_x": null,
            "overflow_y": null,
            "padding": null,
            "right": null,
            "top": null,
            "visibility": null,
            "width": null
          }
        },
        "775c7446ff984226bf619edf333e3a46": {
          "model_module": "@jupyter-widgets/controls",
          "model_module_version": "1.5.0",
          "model_name": "ProgressStyleModel",
          "state": {
            "_model_module": "@jupyter-widgets/controls",
            "_model_module_version": "1.5.0",
            "_model_name": "ProgressStyleModel",
            "_view_count": null,
            "_view_module": "@jupyter-widgets/base",
            "_view_module_version": "1.2.0",
            "_view_name": "StyleView",
            "bar_color": null,
            "description_width": ""
          }
        },
        "78634cc0e6ff4cdbb80fd4f63fb5a4f8": {
          "model_module": "@jupyter-widgets/controls",
          "model_module_version": "1.5.0",
          "model_name": "HTMLModel",
          "state": {
            "_dom_classes": [],
            "_model_module": "@jupyter-widgets/controls",
            "_model_module_version": "1.5.0",
            "_model_name": "HTMLModel",
            "_view_count": null,
            "_view_module": "@jupyter-widgets/controls",
            "_view_module_version": "1.5.0",
            "_view_name": "HTMLView",
            "description": "",
            "description_tooltip": null,
            "layout": "IPY_MODEL_7b9d689f201e4256beb025d25bf6af2e",
            "placeholder": "​",
            "style": "IPY_MODEL_70cfe7912dae4ca4be13aedeb9f16d72",
            "value": "tokenizer_config.json: 100%"
          }
        },
        "7b9d689f201e4256beb025d25bf6af2e": {
          "model_module": "@jupyter-widgets/base",
          "model_module_version": "1.2.0",
          "model_name": "LayoutModel",
          "state": {
            "_model_module": "@jupyter-widgets/base",
            "_model_module_version": "1.2.0",
            "_model_name": "LayoutModel",
            "_view_count": null,
            "_view_module": "@jupyter-widgets/base",
            "_view_module_version": "1.2.0",
            "_view_name": "LayoutView",
            "align_content": null,
            "align_items": null,
            "align_self": null,
            "border": null,
            "bottom": null,
            "display": null,
            "flex": null,
            "flex_flow": null,
            "grid_area": null,
            "grid_auto_columns": null,
            "grid_auto_flow": null,
            "grid_auto_rows": null,
            "grid_column": null,
            "grid_gap": null,
            "grid_row": null,
            "grid_template_areas": null,
            "grid_template_columns": null,
            "grid_template_rows": null,
            "height": null,
            "justify_content": null,
            "justify_items": null,
            "left": null,
            "margin": null,
            "max_height": null,
            "max_width": null,
            "min_height": null,
            "min_width": null,
            "object_fit": null,
            "object_position": null,
            "order": null,
            "overflow": null,
            "overflow_x": null,
            "overflow_y": null,
            "padding": null,
            "right": null,
            "top": null,
            "visibility": null,
            "width": null
          }
        },
        "82b326e57a244f908e2b29f4379422f6": {
          "model_module": "@jupyter-widgets/controls",
          "model_module_version": "1.5.0",
          "model_name": "HTMLModel",
          "state": {
            "_dom_classes": [],
            "_model_module": "@jupyter-widgets/controls",
            "_model_module_version": "1.5.0",
            "_model_name": "HTMLModel",
            "_view_count": null,
            "_view_module": "@jupyter-widgets/controls",
            "_view_module_version": "1.5.0",
            "_view_name": "HTMLView",
            "description": "",
            "description_tooltip": null,
            "layout": "IPY_MODEL_3728cdc0fc5242578f5f579a3ed4120a",
            "placeholder": "​",
            "style": "IPY_MODEL_e351ed3faaba4b88a003e43d8c8c2900",
            "value": "config.json: 100%"
          }
        },
        "8e993d762667418fa497c7088177e81d": {
          "model_module": "@jupyter-widgets/base",
          "model_module_version": "1.2.0",
          "model_name": "LayoutModel",
          "state": {
            "_model_module": "@jupyter-widgets/base",
            "_model_module_version": "1.2.0",
            "_model_name": "LayoutModel",
            "_view_count": null,
            "_view_module": "@jupyter-widgets/base",
            "_view_module_version": "1.2.0",
            "_view_name": "LayoutView",
            "align_content": null,
            "align_items": null,
            "align_self": null,
            "border": null,
            "bottom": null,
            "display": null,
            "flex": null,
            "flex_flow": null,
            "grid_area": null,
            "grid_auto_columns": null,
            "grid_auto_flow": null,
            "grid_auto_rows": null,
            "grid_column": null,
            "grid_gap": null,
            "grid_row": null,
            "grid_template_areas": null,
            "grid_template_columns": null,
            "grid_template_rows": null,
            "height": null,
            "justify_content": null,
            "justify_items": null,
            "left": null,
            "margin": null,
            "max_height": null,
            "max_width": null,
            "min_height": null,
            "min_width": null,
            "object_fit": null,
            "object_position": null,
            "order": null,
            "overflow": null,
            "overflow_x": null,
            "overflow_y": null,
            "padding": null,
            "right": null,
            "top": null,
            "visibility": null,
            "width": null
          }
        },
        "8ee16bc727424e5898edab906020e4f7": {
          "model_module": "@jupyter-widgets/controls",
          "model_module_version": "1.5.0",
          "model_name": "HTMLModel",
          "state": {
            "_dom_classes": [],
            "_model_module": "@jupyter-widgets/controls",
            "_model_module_version": "1.5.0",
            "_model_name": "HTMLModel",
            "_view_count": null,
            "_view_module": "@jupyter-widgets/controls",
            "_view_module_version": "1.5.0",
            "_view_name": "HTMLView",
            "description": "",
            "description_tooltip": null,
            "layout": "IPY_MODEL_631b9ceeae654292bcee846b374c234b",
            "placeholder": "​",
            "style": "IPY_MODEL_1aa0db8dc4c2477db6186180ff9618ba",
            "value": "special_tokens_map.json: 100%"
          }
        },
        "90706eb877e5494bb05ede46bfe2382a": {
          "model_module": "@jupyter-widgets/base",
          "model_module_version": "1.2.0",
          "model_name": "LayoutModel",
          "state": {
            "_model_module": "@jupyter-widgets/base",
            "_model_module_version": "1.2.0",
            "_model_name": "LayoutModel",
            "_view_count": null,
            "_view_module": "@jupyter-widgets/base",
            "_view_module_version": "1.2.0",
            "_view_name": "LayoutView",
            "align_content": null,
            "align_items": null,
            "align_self": null,
            "border": null,
            "bottom": null,
            "display": null,
            "flex": null,
            "flex_flow": null,
            "grid_area": null,
            "grid_auto_columns": null,
            "grid_auto_flow": null,
            "grid_auto_rows": null,
            "grid_column": null,
            "grid_gap": null,
            "grid_row": null,
            "grid_template_areas": null,
            "grid_template_columns": null,
            "grid_template_rows": null,
            "height": null,
            "justify_content": null,
            "justify_items": null,
            "left": null,
            "margin": null,
            "max_height": null,
            "max_width": null,
            "min_height": null,
            "min_width": null,
            "object_fit": null,
            "object_position": null,
            "order": null,
            "overflow": null,
            "overflow_x": null,
            "overflow_y": null,
            "padding": null,
            "right": null,
            "top": null,
            "visibility": null,
            "width": null
          }
        },
        "949eb841d6e042158a1a09bf982549f4": {
          "model_module": "@jupyter-widgets/controls",
          "model_module_version": "1.5.0",
          "model_name": "HBoxModel",
          "state": {
            "_dom_classes": [],
            "_model_module": "@jupyter-widgets/controls",
            "_model_module_version": "1.5.0",
            "_model_name": "HBoxModel",
            "_view_count": null,
            "_view_module": "@jupyter-widgets/controls",
            "_view_module_version": "1.5.0",
            "_view_name": "HBoxView",
            "box_style": "",
            "children": [
              "IPY_MODEL_0e14761517b94dd2b658582dc5870598",
              "IPY_MODEL_15df138e2cef4f1aadb96e4f4a6c5a63",
              "IPY_MODEL_00c5688a167d47b69dfdc564ca08f10c"
            ],
            "layout": "IPY_MODEL_b35525e2437148bea084d5d5227fb107"
          }
        },
        "980cd7abd60749e4b666503e65ec11bf": {
          "model_module": "@jupyter-widgets/controls",
          "model_module_version": "1.5.0",
          "model_name": "FloatProgressModel",
          "state": {
            "_dom_classes": [],
            "_model_module": "@jupyter-widgets/controls",
            "_model_module_version": "1.5.0",
            "_model_name": "FloatProgressModel",
            "_view_count": null,
            "_view_module": "@jupyter-widgets/controls",
            "_view_module_version": "1.5.0",
            "_view_name": "ProgressView",
            "bar_style": "success",
            "description": "",
            "description_tooltip": null,
            "layout": "IPY_MODEL_aa145fead04d4b2fbf0c30881027cd15",
            "max": 213450,
            "min": 0,
            "orientation": "horizontal",
            "style": "IPY_MODEL_a7c2fb3c985244fcacd8a140d72998f0",
            "value": 213450
          }
        },
        "a65339911ca1406c918cded1e186ae00": {
          "model_module": "@jupyter-widgets/controls",
          "model_module_version": "1.5.0",
          "model_name": "ProgressStyleModel",
          "state": {
            "_model_module": "@jupyter-widgets/controls",
            "_model_module_version": "1.5.0",
            "_model_name": "ProgressStyleModel",
            "_view_count": null,
            "_view_module": "@jupyter-widgets/base",
            "_view_module_version": "1.2.0",
            "_view_name": "StyleView",
            "bar_color": null,
            "description_width": ""
          }
        },
        "a7c2fb3c985244fcacd8a140d72998f0": {
          "model_module": "@jupyter-widgets/controls",
          "model_module_version": "1.5.0",
          "model_name": "ProgressStyleModel",
          "state": {
            "_model_module": "@jupyter-widgets/controls",
            "_model_module_version": "1.5.0",
            "_model_name": "ProgressStyleModel",
            "_view_count": null,
            "_view_module": "@jupyter-widgets/base",
            "_view_module_version": "1.2.0",
            "_view_name": "StyleView",
            "bar_color": null,
            "description_width": ""
          }
        },
        "a81968b873f64f76899e44246cb92883": {
          "model_module": "@jupyter-widgets/base",
          "model_module_version": "1.2.0",
          "model_name": "LayoutModel",
          "state": {
            "_model_module": "@jupyter-widgets/base",
            "_model_module_version": "1.2.0",
            "_model_name": "LayoutModel",
            "_view_count": null,
            "_view_module": "@jupyter-widgets/base",
            "_view_module_version": "1.2.0",
            "_view_name": "LayoutView",
            "align_content": null,
            "align_items": null,
            "align_self": null,
            "border": null,
            "bottom": null,
            "display": null,
            "flex": null,
            "flex_flow": null,
            "grid_area": null,
            "grid_auto_columns": null,
            "grid_auto_flow": null,
            "grid_auto_rows": null,
            "grid_column": null,
            "grid_gap": null,
            "grid_row": null,
            "grid_template_areas": null,
            "grid_template_columns": null,
            "grid_template_rows": null,
            "height": null,
            "justify_content": null,
            "justify_items": null,
            "left": null,
            "margin": null,
            "max_height": null,
            "max_width": null,
            "min_height": null,
            "min_width": null,
            "object_fit": null,
            "object_position": null,
            "order": null,
            "overflow": null,
            "overflow_x": null,
            "overflow_y": null,
            "padding": null,
            "right": null,
            "top": null,
            "visibility": null,
            "width": null
          }
        },
        "aa145fead04d4b2fbf0c30881027cd15": {
          "model_module": "@jupyter-widgets/base",
          "model_module_version": "1.2.0",
          "model_name": "LayoutModel",
          "state": {
            "_model_module": "@jupyter-widgets/base",
            "_model_module_version": "1.2.0",
            "_model_name": "LayoutModel",
            "_view_count": null,
            "_view_module": "@jupyter-widgets/base",
            "_view_module_version": "1.2.0",
            "_view_name": "LayoutView",
            "align_content": null,
            "align_items": null,
            "align_self": null,
            "border": null,
            "bottom": null,
            "display": null,
            "flex": null,
            "flex_flow": null,
            "grid_area": null,
            "grid_auto_columns": null,
            "grid_auto_flow": null,
            "grid_auto_rows": null,
            "grid_column": null,
            "grid_gap": null,
            "grid_row": null,
            "grid_template_areas": null,
            "grid_template_columns": null,
            "grid_template_rows": null,
            "height": null,
            "justify_content": null,
            "justify_items": null,
            "left": null,
            "margin": null,
            "max_height": null,
            "max_width": null,
            "min_height": null,
            "min_width": null,
            "object_fit": null,
            "object_position": null,
            "order": null,
            "overflow": null,
            "overflow_x": null,
            "overflow_y": null,
            "padding": null,
            "right": null,
            "top": null,
            "visibility": null,
            "width": null
          }
        },
        "b077af1ad4b1469fab432b574ad28cc4": {
          "model_module": "@jupyter-widgets/base",
          "model_module_version": "1.2.0",
          "model_name": "LayoutModel",
          "state": {
            "_model_module": "@jupyter-widgets/base",
            "_model_module_version": "1.2.0",
            "_model_name": "LayoutModel",
            "_view_count": null,
            "_view_module": "@jupyter-widgets/base",
            "_view_module_version": "1.2.0",
            "_view_name": "LayoutView",
            "align_content": null,
            "align_items": null,
            "align_self": null,
            "border": null,
            "bottom": null,
            "display": null,
            "flex": null,
            "flex_flow": null,
            "grid_area": null,
            "grid_auto_columns": null,
            "grid_auto_flow": null,
            "grid_auto_rows": null,
            "grid_column": null,
            "grid_gap": null,
            "grid_row": null,
            "grid_template_areas": null,
            "grid_template_columns": null,
            "grid_template_rows": null,
            "height": null,
            "justify_content": null,
            "justify_items": null,
            "left": null,
            "margin": null,
            "max_height": null,
            "max_width": null,
            "min_height": null,
            "min_width": null,
            "object_fit": null,
            "object_position": null,
            "order": null,
            "overflow": null,
            "overflow_x": null,
            "overflow_y": null,
            "padding": null,
            "right": null,
            "top": null,
            "visibility": null,
            "width": null
          }
        },
        "b0d69ddb730442a8a1edd82e06c46ece": {
          "model_module": "@jupyter-widgets/controls",
          "model_module_version": "1.5.0",
          "model_name": "DescriptionStyleModel",
          "state": {
            "_model_module": "@jupyter-widgets/controls",
            "_model_module_version": "1.5.0",
            "_model_name": "DescriptionStyleModel",
            "_view_count": null,
            "_view_module": "@jupyter-widgets/base",
            "_view_module_version": "1.2.0",
            "_view_name": "StyleView",
            "description_width": ""
          }
        },
        "b35525e2437148bea084d5d5227fb107": {
          "model_module": "@jupyter-widgets/base",
          "model_module_version": "1.2.0",
          "model_name": "LayoutModel",
          "state": {
            "_model_module": "@jupyter-widgets/base",
            "_model_module_version": "1.2.0",
            "_model_name": "LayoutModel",
            "_view_count": null,
            "_view_module": "@jupyter-widgets/base",
            "_view_module_version": "1.2.0",
            "_view_name": "LayoutView",
            "align_content": null,
            "align_items": null,
            "align_self": null,
            "border": null,
            "bottom": null,
            "display": null,
            "flex": null,
            "flex_flow": null,
            "grid_area": null,
            "grid_auto_columns": null,
            "grid_auto_flow": null,
            "grid_auto_rows": null,
            "grid_column": null,
            "grid_gap": null,
            "grid_row": null,
            "grid_template_areas": null,
            "grid_template_columns": null,
            "grid_template_rows": null,
            "height": null,
            "justify_content": null,
            "justify_items": null,
            "left": null,
            "margin": null,
            "max_height": null,
            "max_width": null,
            "min_height": null,
            "min_width": null,
            "object_fit": null,
            "object_position": null,
            "order": null,
            "overflow": null,
            "overflow_x": null,
            "overflow_y": null,
            "padding": null,
            "right": null,
            "top": null,
            "visibility": null,
            "width": null
          }
        },
        "bb392c8d8367486abe1306500d25da2e": {
          "model_module": "@jupyter-widgets/controls",
          "model_module_version": "1.5.0",
          "model_name": "HTMLModel",
          "state": {
            "_dom_classes": [],
            "_model_module": "@jupyter-widgets/controls",
            "_model_module_version": "1.5.0",
            "_model_name": "HTMLModel",
            "_view_count": null,
            "_view_module": "@jupyter-widgets/controls",
            "_view_module_version": "1.5.0",
            "_view_name": "HTMLView",
            "description": "",
            "description_tooltip": null,
            "layout": "IPY_MODEL_0d554da5d3204269bfe90a81b3601f0a",
            "placeholder": "​",
            "style": "IPY_MODEL_09ac02523bf4472692ec42b0d9ee60f8",
            "value": " 977/977 [00:00&lt;00:00, 34.1kB/s]"
          }
        },
        "bd0bb440575849508d81dad6d7eab2f8": {
          "model_module": "@jupyter-widgets/base",
          "model_module_version": "1.2.0",
          "model_name": "LayoutModel",
          "state": {
            "_model_module": "@jupyter-widgets/base",
            "_model_module_version": "1.2.0",
            "_model_name": "LayoutModel",
            "_view_count": null,
            "_view_module": "@jupyter-widgets/base",
            "_view_module_version": "1.2.0",
            "_view_name": "LayoutView",
            "align_content": null,
            "align_items": null,
            "align_self": null,
            "border": null,
            "bottom": null,
            "display": null,
            "flex": null,
            "flex_flow": null,
            "grid_area": null,
            "grid_auto_columns": null,
            "grid_auto_flow": null,
            "grid_auto_rows": null,
            "grid_column": null,
            "grid_gap": null,
            "grid_row": null,
            "grid_template_areas": null,
            "grid_template_columns": null,
            "grid_template_rows": null,
            "height": null,
            "justify_content": null,
            "justify_items": null,
            "left": null,
            "margin": null,
            "max_height": null,
            "max_width": null,
            "min_height": null,
            "min_width": null,
            "object_fit": null,
            "object_position": null,
            "order": null,
            "overflow": null,
            "overflow_x": null,
            "overflow_y": null,
            "padding": null,
            "right": null,
            "top": null,
            "visibility": null,
            "width": null
          }
        },
        "bf090c5c404941ff936c87fea9a9e956": {
          "model_module": "@jupyter-widgets/controls",
          "model_module_version": "1.5.0",
          "model_name": "HTMLModel",
          "state": {
            "_dom_classes": [],
            "_model_module": "@jupyter-widgets/controls",
            "_model_module_version": "1.5.0",
            "_model_name": "HTMLModel",
            "_view_count": null,
            "_view_module": "@jupyter-widgets/controls",
            "_view_module_version": "1.5.0",
            "_view_name": "HTMLView",
            "description": "",
            "description_tooltip": null,
            "layout": "IPY_MODEL_bd0bb440575849508d81dad6d7eab2f8",
            "placeholder": "​",
            "style": "IPY_MODEL_360815b1df974c8b89e4342756e4b62c",
            "value": "vocab.txt: 100%"
          }
        },
        "c5f7f43cb2154685ab99a5bab211c2a1": {
          "model_module": "@jupyter-widgets/base",
          "model_module_version": "1.2.0",
          "model_name": "LayoutModel",
          "state": {
            "_model_module": "@jupyter-widgets/base",
            "_model_module_version": "1.2.0",
            "_model_name": "LayoutModel",
            "_view_count": null,
            "_view_module": "@jupyter-widgets/base",
            "_view_module_version": "1.2.0",
            "_view_name": "LayoutView",
            "align_content": null,
            "align_items": null,
            "align_self": null,
            "border": null,
            "bottom": null,
            "display": null,
            "flex": null,
            "flex_flow": null,
            "grid_area": null,
            "grid_auto_columns": null,
            "grid_auto_flow": null,
            "grid_auto_rows": null,
            "grid_column": null,
            "grid_gap": null,
            "grid_row": null,
            "grid_template_areas": null,
            "grid_template_columns": null,
            "grid_template_rows": null,
            "height": null,
            "justify_content": null,
            "justify_items": null,
            "left": null,
            "margin": null,
            "max_height": null,
            "max_width": null,
            "min_height": null,
            "min_width": null,
            "object_fit": null,
            "object_position": null,
            "order": null,
            "overflow": null,
            "overflow_x": null,
            "overflow_y": null,
            "padding": null,
            "right": null,
            "top": null,
            "visibility": null,
            "width": null
          }
        },
        "c691df77f0f24b34b6a4611d7aa815d3": {
          "model_module": "@jupyter-widgets/controls",
          "model_module_version": "1.5.0",
          "model_name": "FloatProgressModel",
          "state": {
            "_dom_classes": [],
            "_model_module": "@jupyter-widgets/controls",
            "_model_module_version": "1.5.0",
            "_model_name": "FloatProgressModel",
            "_view_count": null,
            "_view_module": "@jupyter-widgets/controls",
            "_view_module_version": "1.5.0",
            "_view_name": "ProgressView",
            "bar_style": "success",
            "description": "",
            "description_tooltip": null,
            "layout": "IPY_MODEL_0e59a91a7bdf4f2bb9286b491123136c",
            "max": 435797,
            "min": 0,
            "orientation": "horizontal",
            "style": "IPY_MODEL_dad57f13f22745adb13e0f3810da76dd",
            "value": 435797
          }
        },
        "c9a4f6876a6e459caebc31a532165a64": {
          "model_module": "@jupyter-widgets/controls",
          "model_module_version": "1.5.0",
          "model_name": "DescriptionStyleModel",
          "state": {
            "_model_module": "@jupyter-widgets/controls",
            "_model_module_version": "1.5.0",
            "_model_name": "DescriptionStyleModel",
            "_view_count": null,
            "_view_module": "@jupyter-widgets/base",
            "_view_module_version": "1.2.0",
            "_view_name": "StyleView",
            "description_width": ""
          }
        },
        "cbf1077ae5d2432a908dd20bb8eeced2": {
          "model_module": "@jupyter-widgets/controls",
          "model_module_version": "1.5.0",
          "model_name": "DescriptionStyleModel",
          "state": {
            "_model_module": "@jupyter-widgets/controls",
            "_model_module_version": "1.5.0",
            "_model_name": "DescriptionStyleModel",
            "_view_count": null,
            "_view_module": "@jupyter-widgets/base",
            "_view_module_version": "1.2.0",
            "_view_name": "StyleView",
            "description_width": ""
          }
        },
        "ceed22a33c8a4860b59ae7b6a6935c3d": {
          "model_module": "@jupyter-widgets/controls",
          "model_module_version": "1.5.0",
          "model_name": "ProgressStyleModel",
          "state": {
            "_model_module": "@jupyter-widgets/controls",
            "_model_module_version": "1.5.0",
            "_model_name": "ProgressStyleModel",
            "_view_count": null,
            "_view_module": "@jupyter-widgets/base",
            "_view_module_version": "1.2.0",
            "_view_name": "StyleView",
            "bar_color": null,
            "description_width": ""
          }
        },
        "d5307484cb8e41b9bf983339ed8a7f21": {
          "model_module": "@jupyter-widgets/base",
          "model_module_version": "1.2.0",
          "model_name": "LayoutModel",
          "state": {
            "_model_module": "@jupyter-widgets/base",
            "_model_module_version": "1.2.0",
            "_model_name": "LayoutModel",
            "_view_count": null,
            "_view_module": "@jupyter-widgets/base",
            "_view_module_version": "1.2.0",
            "_view_name": "LayoutView",
            "align_content": null,
            "align_items": null,
            "align_self": null,
            "border": null,
            "bottom": null,
            "display": null,
            "flex": null,
            "flex_flow": null,
            "grid_area": null,
            "grid_auto_columns": null,
            "grid_auto_flow": null,
            "grid_auto_rows": null,
            "grid_column": null,
            "grid_gap": null,
            "grid_row": null,
            "grid_template_areas": null,
            "grid_template_columns": null,
            "grid_template_rows": null,
            "height": null,
            "justify_content": null,
            "justify_items": null,
            "left": null,
            "margin": null,
            "max_height": null,
            "max_width": null,
            "min_height": null,
            "min_width": null,
            "object_fit": null,
            "object_position": null,
            "order": null,
            "overflow": null,
            "overflow_x": null,
            "overflow_y": null,
            "padding": null,
            "right": null,
            "top": null,
            "visibility": null,
            "width": null
          }
        },
        "dad57f13f22745adb13e0f3810da76dd": {
          "model_module": "@jupyter-widgets/controls",
          "model_module_version": "1.5.0",
          "model_name": "ProgressStyleModel",
          "state": {
            "_model_module": "@jupyter-widgets/controls",
            "_model_module_version": "1.5.0",
            "_model_name": "ProgressStyleModel",
            "_view_count": null,
            "_view_module": "@jupyter-widgets/base",
            "_view_module_version": "1.2.0",
            "_view_name": "StyleView",
            "bar_color": null,
            "description_width": ""
          }
        },
        "db6ca136bcde4484b0c5fa0e628dc2fc": {
          "model_module": "@jupyter-widgets/controls",
          "model_module_version": "1.5.0",
          "model_name": "HBoxModel",
          "state": {
            "_dom_classes": [],
            "_model_module": "@jupyter-widgets/controls",
            "_model_module_version": "1.5.0",
            "_model_name": "HBoxModel",
            "_view_count": null,
            "_view_module": "@jupyter-widgets/controls",
            "_view_module_version": "1.5.0",
            "_view_name": "HBoxView",
            "box_style": "",
            "children": [
              "IPY_MODEL_8ee16bc727424e5898edab906020e4f7",
              "IPY_MODEL_fcdf3e9528134f93a60e57856483826a",
              "IPY_MODEL_0777adcdad744c2788a498ac9ab103a8"
            ],
            "layout": "IPY_MODEL_31b96b5122c3475fa04427e790244142"
          }
        },
        "dd48f04081e24d6598c4a43773745c74": {
          "model_module": "@jupyter-widgets/controls",
          "model_module_version": "1.5.0",
          "model_name": "FloatProgressModel",
          "state": {
            "_dom_classes": [],
            "_model_module": "@jupyter-widgets/controls",
            "_model_module_version": "1.5.0",
            "_model_name": "FloatProgressModel",
            "_view_count": null,
            "_view_module": "@jupyter-widgets/controls",
            "_view_module_version": "1.5.0",
            "_view_name": "ProgressView",
            "bar_style": "success",
            "description": "",
            "description_tooltip": null,
            "layout": "IPY_MODEL_8e993d762667418fa497c7088177e81d",
            "max": 49,
            "min": 0,
            "orientation": "horizontal",
            "style": "IPY_MODEL_775c7446ff984226bf619edf333e3a46",
            "value": 49
          }
        },
        "df781655f0f246ce832e1ba42d003f53": {
          "model_module": "@jupyter-widgets/controls",
          "model_module_version": "1.5.0",
          "model_name": "HTMLModel",
          "state": {
            "_dom_classes": [],
            "_model_module": "@jupyter-widgets/controls",
            "_model_module_version": "1.5.0",
            "_model_name": "HTMLModel",
            "_view_count": null,
            "_view_module": "@jupyter-widgets/controls",
            "_view_module_version": "1.5.0",
            "_view_name": "HTMLView",
            "description": "",
            "description_tooltip": null,
            "layout": "IPY_MODEL_74fe8bb83ab2488e9a961681d01cabd2",
            "placeholder": "​",
            "style": "IPY_MODEL_1b927bb1702d4cb68a6f9788921030ea",
            "value": " 570/570 [00:00&lt;00:00, 27.9kB/s]"
          }
        },
        "e351ed3faaba4b88a003e43d8c8c2900": {
          "model_module": "@jupyter-widgets/controls",
          "model_module_version": "1.5.0",
          "model_name": "DescriptionStyleModel",
          "state": {
            "_model_module": "@jupyter-widgets/controls",
            "_model_module_version": "1.5.0",
            "_model_name": "DescriptionStyleModel",
            "_view_count": null,
            "_view_module": "@jupyter-widgets/base",
            "_view_module_version": "1.2.0",
            "_view_name": "StyleView",
            "description_width": ""
          }
        },
        "e6870bed49b948fa90d702aff2c97a28": {
          "model_module": "@jupyter-widgets/base",
          "model_module_version": "1.2.0",
          "model_name": "LayoutModel",
          "state": {
            "_model_module": "@jupyter-widgets/base",
            "_model_module_version": "1.2.0",
            "_model_name": "LayoutModel",
            "_view_count": null,
            "_view_module": "@jupyter-widgets/base",
            "_view_module_version": "1.2.0",
            "_view_name": "LayoutView",
            "align_content": null,
            "align_items": null,
            "align_self": null,
            "border": null,
            "bottom": null,
            "display": null,
            "flex": null,
            "flex_flow": null,
            "grid_area": null,
            "grid_auto_columns": null,
            "grid_auto_flow": null,
            "grid_auto_rows": null,
            "grid_column": null,
            "grid_gap": null,
            "grid_row": null,
            "grid_template_areas": null,
            "grid_template_columns": null,
            "grid_template_rows": null,
            "height": null,
            "justify_content": null,
            "justify_items": null,
            "left": null,
            "margin": null,
            "max_height": null,
            "max_width": null,
            "min_height": null,
            "min_width": null,
            "object_fit": null,
            "object_position": null,
            "order": null,
            "overflow": null,
            "overflow_x": null,
            "overflow_y": null,
            "padding": null,
            "right": null,
            "top": null,
            "visibility": null,
            "width": null
          }
        },
        "eef8060a2bbf463091134330fdc2beb8": {
          "model_module": "@jupyter-widgets/controls",
          "model_module_version": "1.5.0",
          "model_name": "HBoxModel",
          "state": {
            "_dom_classes": [],
            "_model_module": "@jupyter-widgets/controls",
            "_model_module_version": "1.5.0",
            "_model_name": "HBoxModel",
            "_view_count": null,
            "_view_module": "@jupyter-widgets/controls",
            "_view_module_version": "1.5.0",
            "_view_name": "HBoxView",
            "box_style": "",
            "children": [
              "IPY_MODEL_19a4b64f7b3640acaec9581526ff6416",
              "IPY_MODEL_1e207cf85232473eb660a8378eed3edb",
              "IPY_MODEL_bb392c8d8367486abe1306500d25da2e"
            ],
            "layout": "IPY_MODEL_325d2f2f806142a7985b4583e78505be"
          }
        },
        "f57dcce37dfd4f198bfaffda44bbddc6": {
          "model_module": "@jupyter-widgets/controls",
          "model_module_version": "1.5.0",
          "model_name": "HBoxModel",
          "state": {
            "_dom_classes": [],
            "_model_module": "@jupyter-widgets/controls",
            "_model_module_version": "1.5.0",
            "_model_name": "HBoxModel",
            "_view_count": null,
            "_view_module": "@jupyter-widgets/controls",
            "_view_module_version": "1.5.0",
            "_view_name": "HBoxView",
            "box_style": "",
            "children": [
              "IPY_MODEL_82b326e57a244f908e2b29f4379422f6",
              "IPY_MODEL_00e5877aca744de7828fc5bc3aea9234",
              "IPY_MODEL_df781655f0f246ce832e1ba42d003f53"
            ],
            "layout": "IPY_MODEL_727a1848ca7d4007ab2c5792997f75a0"
          }
        },
        "fcdf3e9528134f93a60e57856483826a": {
          "model_module": "@jupyter-widgets/controls",
          "model_module_version": "1.5.0",
          "model_name": "FloatProgressModel",
          "state": {
            "_dom_classes": [],
            "_model_module": "@jupyter-widgets/controls",
            "_model_module_version": "1.5.0",
            "_model_name": "FloatProgressModel",
            "_view_count": null,
            "_view_module": "@jupyter-widgets/controls",
            "_view_module_version": "1.5.0",
            "_view_name": "ProgressView",
            "bar_style": "success",
            "description": "",
            "description_tooltip": null,
            "layout": "IPY_MODEL_c5f7f43cb2154685ab99a5bab211c2a1",
            "max": 51,
            "min": 0,
            "orientation": "horizontal",
            "style": "IPY_MODEL_5ae0e4f5bfff45dd9ceaaa324bd22fcd",
            "value": 51
          }
        }
      }
    }
  },
  "nbformat": 4,
  "nbformat_minor": 5
}